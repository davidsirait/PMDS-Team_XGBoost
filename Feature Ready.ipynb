{
 "cells": [
  {
   "cell_type": "markdown",
   "id": "ad934a79-3c74-4894-9222-3511b57a0fcd",
   "metadata": {},
   "source": [
    "## Import all necessary library "
   ]
  },
  {
   "cell_type": "code",
   "execution_count": 1,
   "id": "c499db44-e9c1-47d5-b036-9e078bd7cc21",
   "metadata": {},
   "outputs": [],
   "source": [
    "# data analysis and wrangling\n",
    "import pandas as pd\n",
    "import numpy as np\n",
    "\n",
    "# visualization\n",
    "import seaborn as sns\n",
    "import matplotlib.pyplot as plt\n",
    "%matplotlib inline\n",
    "import warnings\n",
    "warnings.filterwarnings('ignore')\n",
    "\n",
    "\n",
    "from sklearn.model_selection import train_test_split"
   ]
  },
  {
   "cell_type": "markdown",
   "id": "ada585fb-2894-4a3b-9a41-c0531b7d6f4f",
   "metadata": {},
   "source": [
    "## Problem Statement\n",
    "We intend to create an intelligent, accurate credit scoring system to assess creditworthiness for the credit applicant. Our goal is to build a model which can accurately predict and differentiate bad and good customers."
   ]
  },
  {
   "cell_type": "markdown",
   "id": "cf8ca532-25a0-406c-8cbb-b17278e7590c",
   "metadata": {},
   "source": [
    "## Load Data"
   ]
  },
  {
   "cell_type": "markdown",
   "id": "55d5fdf3-1c90-42ae-b669-b6fedfc24c31",
   "metadata": {},
   "source": [
    "we have 3 data:\n",
    "1. customer information\n",
    "2. credit bureau\n",
    "3. external scoring"
   ]
  },
  {
   "cell_type": "code",
   "execution_count": 2,
   "id": "a2f2289b-4ddb-44eb-aece-5f9264efb802",
   "metadata": {},
   "outputs": [
    {
     "data": {
      "text/html": [
       "<div>\n",
       "<style scoped>\n",
       "    .dataframe tbody tr th:only-of-type {\n",
       "        vertical-align: middle;\n",
       "    }\n",
       "\n",
       "    .dataframe tbody tr th {\n",
       "        vertical-align: top;\n",
       "    }\n",
       "\n",
       "    .dataframe thead th {\n",
       "        text-align: right;\n",
       "    }\n",
       "</style>\n",
       "<table border=\"1\" class=\"dataframe\">\n",
       "  <thead>\n",
       "    <tr style=\"text-align: right;\">\n",
       "      <th></th>\n",
       "      <th>customer_id</th>\n",
       "      <th>AGE</th>\n",
       "      <th>INCOME</th>\n",
       "      <th>GENDER</th>\n",
       "      <th>EDUCATION</th>\n",
       "      <th>LOAN_PURPOSE</th>\n",
       "      <th>APPLICATION_RECEIVE_TIME</th>\n",
       "      <th>HAS_APPLIED_BEFORE</th>\n",
       "      <th>HAS_INCOME_VERIFICATION</th>\n",
       "      <th>LOAN_WAS_PAID_BACK</th>\n",
       "    </tr>\n",
       "  </thead>\n",
       "  <tbody>\n",
       "    <tr>\n",
       "      <th>0</th>\n",
       "      <td>36493</td>\n",
       "      <td>40</td>\n",
       "      <td>10000000.0</td>\n",
       "      <td>Female</td>\n",
       "      <td>Diploma</td>\n",
       "      <td>Working Capital</td>\n",
       "      <td>09:07:00</td>\n",
       "      <td>No</td>\n",
       "      <td>Yes</td>\n",
       "      <td>1</td>\n",
       "    </tr>\n",
       "    <tr>\n",
       "      <th>1</th>\n",
       "      <td>36494</td>\n",
       "      <td>39</td>\n",
       "      <td>15000000.0</td>\n",
       "      <td>Female</td>\n",
       "      <td>Bachelor Degree</td>\n",
       "      <td>Other</td>\n",
       "      <td>15:15:00</td>\n",
       "      <td>No</td>\n",
       "      <td>Yes</td>\n",
       "      <td>1</td>\n",
       "    </tr>\n",
       "    <tr>\n",
       "      <th>2</th>\n",
       "      <td>36495</td>\n",
       "      <td>28</td>\n",
       "      <td>15000000.0</td>\n",
       "      <td>Male</td>\n",
       "      <td>Bachelor Degree</td>\n",
       "      <td>Renovation</td>\n",
       "      <td>07:13:00</td>\n",
       "      <td>No</td>\n",
       "      <td>Yes</td>\n",
       "      <td>1</td>\n",
       "    </tr>\n",
       "    <tr>\n",
       "      <th>3</th>\n",
       "      <td>36496</td>\n",
       "      <td>28</td>\n",
       "      <td>4000000.0</td>\n",
       "      <td>Male</td>\n",
       "      <td>Bachelor Degree</td>\n",
       "      <td>Renovation</td>\n",
       "      <td>12:05:00</td>\n",
       "      <td>Yes</td>\n",
       "      <td>Yes</td>\n",
       "      <td>1</td>\n",
       "    </tr>\n",
       "    <tr>\n",
       "      <th>4</th>\n",
       "      <td>36497</td>\n",
       "      <td>38</td>\n",
       "      <td>10000000.0</td>\n",
       "      <td>Male</td>\n",
       "      <td>Diploma</td>\n",
       "      <td>Renovation</td>\n",
       "      <td>14:35:00</td>\n",
       "      <td>Yes</td>\n",
       "      <td>Yes</td>\n",
       "      <td>0</td>\n",
       "    </tr>\n",
       "  </tbody>\n",
       "</table>\n",
       "</div>"
      ],
      "text/plain": [
       "   customer_id  AGE      INCOME  GENDER        EDUCATION     LOAN_PURPOSE  \\\n",
       "0        36493   40  10000000.0  Female          Diploma  Working Capital   \n",
       "1        36494   39  15000000.0  Female  Bachelor Degree            Other   \n",
       "2        36495   28  15000000.0    Male  Bachelor Degree       Renovation   \n",
       "3        36496   28   4000000.0    Male  Bachelor Degree       Renovation   \n",
       "4        36497   38  10000000.0    Male          Diploma       Renovation   \n",
       "\n",
       "  APPLICATION_RECEIVE_TIME HAS_APPLIED_BEFORE HAS_INCOME_VERIFICATION  \\\n",
       "0                 09:07:00                 No                     Yes   \n",
       "1                 15:15:00                 No                     Yes   \n",
       "2                 07:13:00                 No                     Yes   \n",
       "3                 12:05:00                Yes                     Yes   \n",
       "4                 14:35:00                Yes                     Yes   \n",
       "\n",
       "   LOAN_WAS_PAID_BACK  \n",
       "0                   1  \n",
       "1                   1  \n",
       "2                   1  \n",
       "3                   1  \n",
       "4                   0  "
      ]
     },
     "execution_count": 2,
     "metadata": {},
     "output_type": "execute_result"
    }
   ],
   "source": [
    "master = pd.read_csv(\"./data/raw/Customer_Information.csv\")\n",
    "master.head()"
   ]
  },
  {
   "cell_type": "code",
   "execution_count": 3,
   "id": "5d29447f-2ec0-43d4-89dd-b47110c8199d",
   "metadata": {},
   "outputs": [
    {
     "data": {
      "text/html": [
       "<div>\n",
       "<style scoped>\n",
       "    .dataframe tbody tr th:only-of-type {\n",
       "        vertical-align: middle;\n",
       "    }\n",
       "\n",
       "    .dataframe tbody tr th {\n",
       "        vertical-align: top;\n",
       "    }\n",
       "\n",
       "    .dataframe thead th {\n",
       "        text-align: right;\n",
       "    }\n",
       "</style>\n",
       "<table border=\"1\" class=\"dataframe\">\n",
       "  <thead>\n",
       "    <tr style=\"text-align: right;\">\n",
       "      <th></th>\n",
       "      <th>customer_id</th>\n",
       "      <th>LOANS_WITHOUT_DELAYS</th>\n",
       "      <th>LOANS_WITH_DELAYS</th>\n",
       "      <th>KNOWN_ASSETS</th>\n",
       "    </tr>\n",
       "  </thead>\n",
       "  <tbody>\n",
       "    <tr>\n",
       "      <th>0</th>\n",
       "      <td>36493</td>\n",
       "      <td>3</td>\n",
       "      <td>3</td>\n",
       "      <td>40000000.0</td>\n",
       "    </tr>\n",
       "    <tr>\n",
       "      <th>1</th>\n",
       "      <td>36494</td>\n",
       "      <td>3</td>\n",
       "      <td>0</td>\n",
       "      <td>20000000.0</td>\n",
       "    </tr>\n",
       "    <tr>\n",
       "      <th>2</th>\n",
       "      <td>36496</td>\n",
       "      <td>2</td>\n",
       "      <td>1</td>\n",
       "      <td>0.0</td>\n",
       "    </tr>\n",
       "    <tr>\n",
       "      <th>3</th>\n",
       "      <td>36497</td>\n",
       "      <td>1</td>\n",
       "      <td>0</td>\n",
       "      <td>40000000.0</td>\n",
       "    </tr>\n",
       "    <tr>\n",
       "      <th>4</th>\n",
       "      <td>36498</td>\n",
       "      <td>7</td>\n",
       "      <td>0</td>\n",
       "      <td>NaN</td>\n",
       "    </tr>\n",
       "  </tbody>\n",
       "</table>\n",
       "</div>"
      ],
      "text/plain": [
       "   customer_id  LOANS_WITHOUT_DELAYS  LOANS_WITH_DELAYS  KNOWN_ASSETS\n",
       "0        36493                     3                  3    40000000.0\n",
       "1        36494                     3                  0    20000000.0\n",
       "2        36496                     2                  1           0.0\n",
       "3        36497                     1                  0    40000000.0\n",
       "4        36498                     7                  0           NaN"
      ]
     },
     "execution_count": 3,
     "metadata": {},
     "output_type": "execute_result"
    }
   ],
   "source": [
    "bureau = pd.read_csv(\"./data/raw/Credit_Bureau_Data.csv\")\n",
    "bureau.head()"
   ]
  },
  {
   "cell_type": "code",
   "execution_count": 4,
   "id": "fcd434a6-fa93-4f27-ad15-57c287fe9ef2",
   "metadata": {},
   "outputs": [
    {
     "data": {
      "text/html": [
       "<div>\n",
       "<style scoped>\n",
       "    .dataframe tbody tr th:only-of-type {\n",
       "        vertical-align: middle;\n",
       "    }\n",
       "\n",
       "    .dataframe tbody tr th {\n",
       "        vertical-align: top;\n",
       "    }\n",
       "\n",
       "    .dataframe thead th {\n",
       "        text-align: right;\n",
       "    }\n",
       "</style>\n",
       "<table border=\"1\" class=\"dataframe\">\n",
       "  <thead>\n",
       "    <tr style=\"text-align: right;\">\n",
       "      <th></th>\n",
       "      <th>customer_id</th>\n",
       "      <th>Score</th>\n",
       "    </tr>\n",
       "  </thead>\n",
       "  <tbody>\n",
       "    <tr>\n",
       "      <th>0</th>\n",
       "      <td>36493</td>\n",
       "      <td>0.77</td>\n",
       "    </tr>\n",
       "    <tr>\n",
       "      <th>1</th>\n",
       "      <td>36494</td>\n",
       "      <td>0.93</td>\n",
       "    </tr>\n",
       "    <tr>\n",
       "      <th>2</th>\n",
       "      <td>36496</td>\n",
       "      <td>0.78</td>\n",
       "    </tr>\n",
       "    <tr>\n",
       "      <th>3</th>\n",
       "      <td>36497</td>\n",
       "      <td>0.81</td>\n",
       "    </tr>\n",
       "    <tr>\n",
       "      <th>4</th>\n",
       "      <td>36498</td>\n",
       "      <td>0.78</td>\n",
       "    </tr>\n",
       "  </tbody>\n",
       "</table>\n",
       "</div>"
      ],
      "text/plain": [
       "   customer_id  Score\n",
       "0        36493   0.77\n",
       "1        36494   0.93\n",
       "2        36496   0.78\n",
       "3        36497   0.81\n",
       "4        36498   0.78"
      ]
     },
     "execution_count": 4,
     "metadata": {},
     "output_type": "execute_result"
    }
   ],
   "source": [
    "external = pd.read_csv(\"./data/raw/External_Score.csv\")\n",
    "external.head()"
   ]
  },
  {
   "cell_type": "markdown",
   "id": "476a5572-d40c-4e97-a575-736000042caf",
   "metadata": {},
   "source": [
    "because we want to predict LOAN_WAS_PAID_BACK so we think that score from exernal_score can make biases to our model"
   ]
  },
  {
   "cell_type": "markdown",
   "id": "ff079bb5-50ec-4a10-9b73-9d37b307e6eb",
   "metadata": {},
   "source": [
    "### 1. Merge the Data"
   ]
  },
  {
   "cell_type": "code",
   "execution_count": 5,
   "id": "074f748f-f074-4280-9c21-eb2dd877d0da",
   "metadata": {},
   "outputs": [
    {
     "data": {
      "text/html": [
       "<div>\n",
       "<style scoped>\n",
       "    .dataframe tbody tr th:only-of-type {\n",
       "        vertical-align: middle;\n",
       "    }\n",
       "\n",
       "    .dataframe tbody tr th {\n",
       "        vertical-align: top;\n",
       "    }\n",
       "\n",
       "    .dataframe thead th {\n",
       "        text-align: right;\n",
       "    }\n",
       "</style>\n",
       "<table border=\"1\" class=\"dataframe\">\n",
       "  <thead>\n",
       "    <tr style=\"text-align: right;\">\n",
       "      <th></th>\n",
       "      <th>customer_id</th>\n",
       "      <th>AGE</th>\n",
       "      <th>INCOME</th>\n",
       "      <th>GENDER</th>\n",
       "      <th>EDUCATION</th>\n",
       "      <th>LOAN_PURPOSE</th>\n",
       "      <th>APPLICATION_RECEIVE_TIME</th>\n",
       "      <th>HAS_APPLIED_BEFORE</th>\n",
       "      <th>HAS_INCOME_VERIFICATION</th>\n",
       "      <th>LOAN_WAS_PAID_BACK</th>\n",
       "      <th>LOANS_WITHOUT_DELAYS</th>\n",
       "      <th>LOANS_WITH_DELAYS</th>\n",
       "      <th>KNOWN_ASSETS</th>\n",
       "    </tr>\n",
       "  </thead>\n",
       "  <tbody>\n",
       "    <tr>\n",
       "      <th>0</th>\n",
       "      <td>36493</td>\n",
       "      <td>40</td>\n",
       "      <td>10000000.0</td>\n",
       "      <td>Female</td>\n",
       "      <td>Diploma</td>\n",
       "      <td>Working Capital</td>\n",
       "      <td>09:07:00</td>\n",
       "      <td>No</td>\n",
       "      <td>Yes</td>\n",
       "      <td>1</td>\n",
       "      <td>3.0</td>\n",
       "      <td>3.0</td>\n",
       "      <td>40000000.0</td>\n",
       "    </tr>\n",
       "    <tr>\n",
       "      <th>1</th>\n",
       "      <td>36494</td>\n",
       "      <td>39</td>\n",
       "      <td>15000000.0</td>\n",
       "      <td>Female</td>\n",
       "      <td>Bachelor Degree</td>\n",
       "      <td>Other</td>\n",
       "      <td>15:15:00</td>\n",
       "      <td>No</td>\n",
       "      <td>Yes</td>\n",
       "      <td>1</td>\n",
       "      <td>3.0</td>\n",
       "      <td>0.0</td>\n",
       "      <td>20000000.0</td>\n",
       "    </tr>\n",
       "    <tr>\n",
       "      <th>2</th>\n",
       "      <td>36495</td>\n",
       "      <td>28</td>\n",
       "      <td>15000000.0</td>\n",
       "      <td>Male</td>\n",
       "      <td>Bachelor Degree</td>\n",
       "      <td>Renovation</td>\n",
       "      <td>07:13:00</td>\n",
       "      <td>No</td>\n",
       "      <td>Yes</td>\n",
       "      <td>1</td>\n",
       "      <td>NaN</td>\n",
       "      <td>NaN</td>\n",
       "      <td>NaN</td>\n",
       "    </tr>\n",
       "    <tr>\n",
       "      <th>3</th>\n",
       "      <td>36496</td>\n",
       "      <td>28</td>\n",
       "      <td>4000000.0</td>\n",
       "      <td>Male</td>\n",
       "      <td>Bachelor Degree</td>\n",
       "      <td>Renovation</td>\n",
       "      <td>12:05:00</td>\n",
       "      <td>Yes</td>\n",
       "      <td>Yes</td>\n",
       "      <td>1</td>\n",
       "      <td>2.0</td>\n",
       "      <td>1.0</td>\n",
       "      <td>0.0</td>\n",
       "    </tr>\n",
       "    <tr>\n",
       "      <th>4</th>\n",
       "      <td>36497</td>\n",
       "      <td>38</td>\n",
       "      <td>10000000.0</td>\n",
       "      <td>Male</td>\n",
       "      <td>Diploma</td>\n",
       "      <td>Renovation</td>\n",
       "      <td>14:35:00</td>\n",
       "      <td>Yes</td>\n",
       "      <td>Yes</td>\n",
       "      <td>0</td>\n",
       "      <td>1.0</td>\n",
       "      <td>0.0</td>\n",
       "      <td>40000000.0</td>\n",
       "    </tr>\n",
       "  </tbody>\n",
       "</table>\n",
       "</div>"
      ],
      "text/plain": [
       "   customer_id  AGE      INCOME  GENDER        EDUCATION     LOAN_PURPOSE  \\\n",
       "0        36493   40  10000000.0  Female          Diploma  Working Capital   \n",
       "1        36494   39  15000000.0  Female  Bachelor Degree            Other   \n",
       "2        36495   28  15000000.0    Male  Bachelor Degree       Renovation   \n",
       "3        36496   28   4000000.0    Male  Bachelor Degree       Renovation   \n",
       "4        36497   38  10000000.0    Male          Diploma       Renovation   \n",
       "\n",
       "  APPLICATION_RECEIVE_TIME HAS_APPLIED_BEFORE HAS_INCOME_VERIFICATION  \\\n",
       "0                 09:07:00                 No                     Yes   \n",
       "1                 15:15:00                 No                     Yes   \n",
       "2                 07:13:00                 No                     Yes   \n",
       "3                 12:05:00                Yes                     Yes   \n",
       "4                 14:35:00                Yes                     Yes   \n",
       "\n",
       "   LOAN_WAS_PAID_BACK  LOANS_WITHOUT_DELAYS  LOANS_WITH_DELAYS  KNOWN_ASSETS  \n",
       "0                   1                   3.0                3.0    40000000.0  \n",
       "1                   1                   3.0                0.0    20000000.0  \n",
       "2                   1                   NaN                NaN           NaN  \n",
       "3                   1                   2.0                1.0           0.0  \n",
       "4                   0                   1.0                0.0    40000000.0  "
      ]
     },
     "execution_count": 5,
     "metadata": {},
     "output_type": "execute_result"
    }
   ],
   "source": [
    "# merge master and bureau\n",
    "data = pd.merge(master, bureau, on='customer_id', how='left')\n",
    "data.head()"
   ]
  },
  {
   "cell_type": "markdown",
   "id": "47d33024-5edc-43eb-a076-9cd4d98895b5",
   "metadata": {},
   "source": [
    "check empty data"
   ]
  },
  {
   "cell_type": "code",
   "execution_count": 6,
   "id": "320b3370-956e-4144-9ded-a30f4c500f61",
   "metadata": {},
   "outputs": [
    {
     "data": {
      "text/plain": [
       "customer_id                    0\n",
       "AGE                            0\n",
       "INCOME                         2\n",
       "GENDER                         0\n",
       "EDUCATION                      0\n",
       "LOAN_PURPOSE                  49\n",
       "APPLICATION_RECEIVE_TIME       0\n",
       "HAS_APPLIED_BEFORE             0\n",
       "HAS_INCOME_VERIFICATION        0\n",
       "LOAN_WAS_PAID_BACK             0\n",
       "LOANS_WITHOUT_DELAYS        1320\n",
       "LOANS_WITH_DELAYS           1320\n",
       "KNOWN_ASSETS                2751\n",
       "dtype: int64"
      ]
     },
     "execution_count": 6,
     "metadata": {},
     "output_type": "execute_result"
    }
   ],
   "source": [
    "data.isna().sum()"
   ]
  },
  {
   "cell_type": "markdown",
   "id": "6d3a7989-8d0c-40a4-b5c7-eb0ccd774e5a",
   "metadata": {},
   "source": [
    "because INCOME only have 2 rows that is empty so we decide to delete it"
   ]
  },
  {
   "cell_type": "code",
   "execution_count": 7,
   "id": "088a8059-1f48-4ddc-9c0a-b40665f766db",
   "metadata": {},
   "outputs": [
    {
     "data": {
      "text/html": [
       "<div>\n",
       "<style scoped>\n",
       "    .dataframe tbody tr th:only-of-type {\n",
       "        vertical-align: middle;\n",
       "    }\n",
       "\n",
       "    .dataframe tbody tr th {\n",
       "        vertical-align: top;\n",
       "    }\n",
       "\n",
       "    .dataframe thead th {\n",
       "        text-align: right;\n",
       "    }\n",
       "</style>\n",
       "<table border=\"1\" class=\"dataframe\">\n",
       "  <thead>\n",
       "    <tr style=\"text-align: right;\">\n",
       "      <th></th>\n",
       "      <th>customer_id</th>\n",
       "      <th>AGE</th>\n",
       "      <th>INCOME</th>\n",
       "      <th>GENDER</th>\n",
       "      <th>EDUCATION</th>\n",
       "      <th>LOAN_PURPOSE</th>\n",
       "      <th>APPLICATION_RECEIVE_TIME</th>\n",
       "      <th>HAS_APPLIED_BEFORE</th>\n",
       "      <th>HAS_INCOME_VERIFICATION</th>\n",
       "      <th>LOAN_WAS_PAID_BACK</th>\n",
       "      <th>LOANS_WITHOUT_DELAYS</th>\n",
       "      <th>LOANS_WITH_DELAYS</th>\n",
       "      <th>KNOWN_ASSETS</th>\n",
       "    </tr>\n",
       "  </thead>\n",
       "  <tbody>\n",
       "    <tr>\n",
       "      <th>0</th>\n",
       "      <td>36493</td>\n",
       "      <td>40</td>\n",
       "      <td>10000000.0</td>\n",
       "      <td>Female</td>\n",
       "      <td>Diploma</td>\n",
       "      <td>Working Capital</td>\n",
       "      <td>09:07:00</td>\n",
       "      <td>No</td>\n",
       "      <td>Yes</td>\n",
       "      <td>1</td>\n",
       "      <td>3.0</td>\n",
       "      <td>3.0</td>\n",
       "      <td>40000000.0</td>\n",
       "    </tr>\n",
       "    <tr>\n",
       "      <th>1</th>\n",
       "      <td>36494</td>\n",
       "      <td>39</td>\n",
       "      <td>15000000.0</td>\n",
       "      <td>Female</td>\n",
       "      <td>Bachelor Degree</td>\n",
       "      <td>Other</td>\n",
       "      <td>15:15:00</td>\n",
       "      <td>No</td>\n",
       "      <td>Yes</td>\n",
       "      <td>1</td>\n",
       "      <td>3.0</td>\n",
       "      <td>0.0</td>\n",
       "      <td>20000000.0</td>\n",
       "    </tr>\n",
       "    <tr>\n",
       "      <th>2</th>\n",
       "      <td>36495</td>\n",
       "      <td>28</td>\n",
       "      <td>15000000.0</td>\n",
       "      <td>Male</td>\n",
       "      <td>Bachelor Degree</td>\n",
       "      <td>Renovation</td>\n",
       "      <td>07:13:00</td>\n",
       "      <td>No</td>\n",
       "      <td>Yes</td>\n",
       "      <td>1</td>\n",
       "      <td>NaN</td>\n",
       "      <td>NaN</td>\n",
       "      <td>NaN</td>\n",
       "    </tr>\n",
       "    <tr>\n",
       "      <th>3</th>\n",
       "      <td>36496</td>\n",
       "      <td>28</td>\n",
       "      <td>4000000.0</td>\n",
       "      <td>Male</td>\n",
       "      <td>Bachelor Degree</td>\n",
       "      <td>Renovation</td>\n",
       "      <td>12:05:00</td>\n",
       "      <td>Yes</td>\n",
       "      <td>Yes</td>\n",
       "      <td>1</td>\n",
       "      <td>2.0</td>\n",
       "      <td>1.0</td>\n",
       "      <td>0.0</td>\n",
       "    </tr>\n",
       "    <tr>\n",
       "      <th>4</th>\n",
       "      <td>36497</td>\n",
       "      <td>38</td>\n",
       "      <td>10000000.0</td>\n",
       "      <td>Male</td>\n",
       "      <td>Diploma</td>\n",
       "      <td>Renovation</td>\n",
       "      <td>14:35:00</td>\n",
       "      <td>Yes</td>\n",
       "      <td>Yes</td>\n",
       "      <td>0</td>\n",
       "      <td>1.0</td>\n",
       "      <td>0.0</td>\n",
       "      <td>40000000.0</td>\n",
       "    </tr>\n",
       "    <tr>\n",
       "      <th>...</th>\n",
       "      <td>...</td>\n",
       "      <td>...</td>\n",
       "      <td>...</td>\n",
       "      <td>...</td>\n",
       "      <td>...</td>\n",
       "      <td>...</td>\n",
       "      <td>...</td>\n",
       "      <td>...</td>\n",
       "      <td>...</td>\n",
       "      <td>...</td>\n",
       "      <td>...</td>\n",
       "      <td>...</td>\n",
       "      <td>...</td>\n",
       "    </tr>\n",
       "    <tr>\n",
       "      <th>6532</th>\n",
       "      <td>43180</td>\n",
       "      <td>38</td>\n",
       "      <td>11000000.0</td>\n",
       "      <td>Female</td>\n",
       "      <td>Bachelor Degree</td>\n",
       "      <td>Working Capital</td>\n",
       "      <td>10:54:00</td>\n",
       "      <td>No</td>\n",
       "      <td>Yes</td>\n",
       "      <td>1</td>\n",
       "      <td>NaN</td>\n",
       "      <td>NaN</td>\n",
       "      <td>NaN</td>\n",
       "    </tr>\n",
       "    <tr>\n",
       "      <th>6533</th>\n",
       "      <td>43181</td>\n",
       "      <td>37</td>\n",
       "      <td>30000000.0</td>\n",
       "      <td>Female</td>\n",
       "      <td>Bachelor Degree</td>\n",
       "      <td>Education</td>\n",
       "      <td>07:04:00</td>\n",
       "      <td>No</td>\n",
       "      <td>Yes</td>\n",
       "      <td>1</td>\n",
       "      <td>1.0</td>\n",
       "      <td>0.0</td>\n",
       "      <td>30000000.0</td>\n",
       "    </tr>\n",
       "    <tr>\n",
       "      <th>6534</th>\n",
       "      <td>43182</td>\n",
       "      <td>50</td>\n",
       "      <td>16000000.0</td>\n",
       "      <td>Female</td>\n",
       "      <td>Master's Degree/Post graduate</td>\n",
       "      <td>Renovation</td>\n",
       "      <td>10:47:00</td>\n",
       "      <td>No</td>\n",
       "      <td>Yes</td>\n",
       "      <td>1</td>\n",
       "      <td>1.0</td>\n",
       "      <td>0.0</td>\n",
       "      <td>NaN</td>\n",
       "    </tr>\n",
       "    <tr>\n",
       "      <th>6535</th>\n",
       "      <td>43184</td>\n",
       "      <td>36</td>\n",
       "      <td>5000000.0</td>\n",
       "      <td>Male</td>\n",
       "      <td>Bachelor Degree</td>\n",
       "      <td>Other</td>\n",
       "      <td>15:49:00</td>\n",
       "      <td>No</td>\n",
       "      <td>Yes</td>\n",
       "      <td>1</td>\n",
       "      <td>1.0</td>\n",
       "      <td>0.0</td>\n",
       "      <td>NaN</td>\n",
       "    </tr>\n",
       "    <tr>\n",
       "      <th>6536</th>\n",
       "      <td>43185</td>\n",
       "      <td>37</td>\n",
       "      <td>40000000.0</td>\n",
       "      <td>Male</td>\n",
       "      <td>Bachelor Degree</td>\n",
       "      <td>Electronic unsecured loan</td>\n",
       "      <td>11:48:00</td>\n",
       "      <td>Yes</td>\n",
       "      <td>Yes</td>\n",
       "      <td>1</td>\n",
       "      <td>NaN</td>\n",
       "      <td>NaN</td>\n",
       "      <td>NaN</td>\n",
       "    </tr>\n",
       "  </tbody>\n",
       "</table>\n",
       "<p>6537 rows × 13 columns</p>\n",
       "</div>"
      ],
      "text/plain": [
       "      customer_id  AGE      INCOME  GENDER                      EDUCATION  \\\n",
       "0           36493   40  10000000.0  Female                        Diploma   \n",
       "1           36494   39  15000000.0  Female                Bachelor Degree   \n",
       "2           36495   28  15000000.0    Male                Bachelor Degree   \n",
       "3           36496   28   4000000.0    Male                Bachelor Degree   \n",
       "4           36497   38  10000000.0    Male                        Diploma   \n",
       "...           ...  ...         ...     ...                            ...   \n",
       "6532        43180   38  11000000.0  Female                Bachelor Degree   \n",
       "6533        43181   37  30000000.0  Female                Bachelor Degree   \n",
       "6534        43182   50  16000000.0  Female  Master's Degree/Post graduate   \n",
       "6535        43184   36   5000000.0    Male                Bachelor Degree   \n",
       "6536        43185   37  40000000.0    Male                Bachelor Degree   \n",
       "\n",
       "                   LOAN_PURPOSE APPLICATION_RECEIVE_TIME HAS_APPLIED_BEFORE  \\\n",
       "0               Working Capital                 09:07:00                 No   \n",
       "1                         Other                 15:15:00                 No   \n",
       "2                    Renovation                 07:13:00                 No   \n",
       "3                    Renovation                 12:05:00                Yes   \n",
       "4                    Renovation                 14:35:00                Yes   \n",
       "...                         ...                      ...                ...   \n",
       "6532            Working Capital                 10:54:00                 No   \n",
       "6533                  Education                 07:04:00                 No   \n",
       "6534                 Renovation                 10:47:00                 No   \n",
       "6535                      Other                 15:49:00                 No   \n",
       "6536  Electronic unsecured loan                 11:48:00                Yes   \n",
       "\n",
       "     HAS_INCOME_VERIFICATION  LOAN_WAS_PAID_BACK  LOANS_WITHOUT_DELAYS  \\\n",
       "0                        Yes                   1                   3.0   \n",
       "1                        Yes                   1                   3.0   \n",
       "2                        Yes                   1                   NaN   \n",
       "3                        Yes                   1                   2.0   \n",
       "4                        Yes                   0                   1.0   \n",
       "...                      ...                 ...                   ...   \n",
       "6532                     Yes                   1                   NaN   \n",
       "6533                     Yes                   1                   1.0   \n",
       "6534                     Yes                   1                   1.0   \n",
       "6535                     Yes                   1                   1.0   \n",
       "6536                     Yes                   1                   NaN   \n",
       "\n",
       "      LOANS_WITH_DELAYS  KNOWN_ASSETS  \n",
       "0                   3.0    40000000.0  \n",
       "1                   0.0    20000000.0  \n",
       "2                   NaN           NaN  \n",
       "3                   1.0           0.0  \n",
       "4                   0.0    40000000.0  \n",
       "...                 ...           ...  \n",
       "6532                NaN           NaN  \n",
       "6533                0.0    30000000.0  \n",
       "6534                0.0           NaN  \n",
       "6535                0.0           NaN  \n",
       "6536                NaN           NaN  \n",
       "\n",
       "[6537 rows x 13 columns]"
      ]
     },
     "execution_count": 7,
     "metadata": {},
     "output_type": "execute_result"
    }
   ],
   "source": [
    "data = data.dropna(subset=['INCOME','LOAN_PURPOSE'])\n",
    "data.reset_index(drop=True)"
   ]
  },
  {
   "cell_type": "markdown",
   "id": "714f18a5-788c-401f-b749-57f6cd80a25f",
   "metadata": {},
   "source": [
    "we want to check is that data duplicated to prevent data leakage"
   ]
  },
  {
   "cell_type": "code",
   "execution_count": 8,
   "id": "df4c0359-47c9-4ad8-b25e-8fb5aed42b90",
   "metadata": {},
   "outputs": [
    {
     "data": {
      "text/html": [
       "<div>\n",
       "<style scoped>\n",
       "    .dataframe tbody tr th:only-of-type {\n",
       "        vertical-align: middle;\n",
       "    }\n",
       "\n",
       "    .dataframe tbody tr th {\n",
       "        vertical-align: top;\n",
       "    }\n",
       "\n",
       "    .dataframe thead th {\n",
       "        text-align: right;\n",
       "    }\n",
       "</style>\n",
       "<table border=\"1\" class=\"dataframe\">\n",
       "  <thead>\n",
       "    <tr style=\"text-align: right;\">\n",
       "      <th></th>\n",
       "      <th>AGE</th>\n",
       "      <th>INCOME</th>\n",
       "      <th>GENDER</th>\n",
       "      <th>EDUCATION</th>\n",
       "      <th>LOAN_PURPOSE</th>\n",
       "      <th>APPLICATION_RECEIVE_TIME</th>\n",
       "      <th>HAS_APPLIED_BEFORE</th>\n",
       "      <th>HAS_INCOME_VERIFICATION</th>\n",
       "      <th>LOAN_WAS_PAID_BACK</th>\n",
       "      <th>LOANS_WITHOUT_DELAYS</th>\n",
       "      <th>LOANS_WITH_DELAYS</th>\n",
       "      <th>KNOWN_ASSETS</th>\n",
       "    </tr>\n",
       "  </thead>\n",
       "  <tbody>\n",
       "    <tr>\n",
       "      <th>0</th>\n",
       "      <td>40</td>\n",
       "      <td>10000000.0</td>\n",
       "      <td>Female</td>\n",
       "      <td>Diploma</td>\n",
       "      <td>Working Capital</td>\n",
       "      <td>09:07:00</td>\n",
       "      <td>No</td>\n",
       "      <td>Yes</td>\n",
       "      <td>1</td>\n",
       "      <td>3.0</td>\n",
       "      <td>3.0</td>\n",
       "      <td>40000000.0</td>\n",
       "    </tr>\n",
       "    <tr>\n",
       "      <th>1</th>\n",
       "      <td>39</td>\n",
       "      <td>15000000.0</td>\n",
       "      <td>Female</td>\n",
       "      <td>Bachelor Degree</td>\n",
       "      <td>Other</td>\n",
       "      <td>15:15:00</td>\n",
       "      <td>No</td>\n",
       "      <td>Yes</td>\n",
       "      <td>1</td>\n",
       "      <td>3.0</td>\n",
       "      <td>0.0</td>\n",
       "      <td>20000000.0</td>\n",
       "    </tr>\n",
       "    <tr>\n",
       "      <th>2</th>\n",
       "      <td>28</td>\n",
       "      <td>15000000.0</td>\n",
       "      <td>Male</td>\n",
       "      <td>Bachelor Degree</td>\n",
       "      <td>Renovation</td>\n",
       "      <td>07:13:00</td>\n",
       "      <td>No</td>\n",
       "      <td>Yes</td>\n",
       "      <td>1</td>\n",
       "      <td>NaN</td>\n",
       "      <td>NaN</td>\n",
       "      <td>NaN</td>\n",
       "    </tr>\n",
       "    <tr>\n",
       "      <th>3</th>\n",
       "      <td>28</td>\n",
       "      <td>4000000.0</td>\n",
       "      <td>Male</td>\n",
       "      <td>Bachelor Degree</td>\n",
       "      <td>Renovation</td>\n",
       "      <td>12:05:00</td>\n",
       "      <td>Yes</td>\n",
       "      <td>Yes</td>\n",
       "      <td>1</td>\n",
       "      <td>2.0</td>\n",
       "      <td>1.0</td>\n",
       "      <td>0.0</td>\n",
       "    </tr>\n",
       "    <tr>\n",
       "      <th>4</th>\n",
       "      <td>38</td>\n",
       "      <td>10000000.0</td>\n",
       "      <td>Male</td>\n",
       "      <td>Diploma</td>\n",
       "      <td>Renovation</td>\n",
       "      <td>14:35:00</td>\n",
       "      <td>Yes</td>\n",
       "      <td>Yes</td>\n",
       "      <td>0</td>\n",
       "      <td>1.0</td>\n",
       "      <td>0.0</td>\n",
       "      <td>40000000.0</td>\n",
       "    </tr>\n",
       "  </tbody>\n",
       "</table>\n",
       "</div>"
      ],
      "text/plain": [
       "   AGE      INCOME  GENDER        EDUCATION     LOAN_PURPOSE  \\\n",
       "0   40  10000000.0  Female          Diploma  Working Capital   \n",
       "1   39  15000000.0  Female  Bachelor Degree            Other   \n",
       "2   28  15000000.0    Male  Bachelor Degree       Renovation   \n",
       "3   28   4000000.0    Male  Bachelor Degree       Renovation   \n",
       "4   38  10000000.0    Male          Diploma       Renovation   \n",
       "\n",
       "  APPLICATION_RECEIVE_TIME HAS_APPLIED_BEFORE HAS_INCOME_VERIFICATION  \\\n",
       "0                 09:07:00                 No                     Yes   \n",
       "1                 15:15:00                 No                     Yes   \n",
       "2                 07:13:00                 No                     Yes   \n",
       "3                 12:05:00                Yes                     Yes   \n",
       "4                 14:35:00                Yes                     Yes   \n",
       "\n",
       "   LOAN_WAS_PAID_BACK  LOANS_WITHOUT_DELAYS  LOANS_WITH_DELAYS  KNOWN_ASSETS  \n",
       "0                   1                   3.0                3.0    40000000.0  \n",
       "1                   1                   3.0                0.0    20000000.0  \n",
       "2                   1                   NaN                NaN           NaN  \n",
       "3                   1                   2.0                1.0           0.0  \n",
       "4                   0                   1.0                0.0    40000000.0  "
      ]
     },
     "execution_count": 8,
     "metadata": {},
     "output_type": "execute_result"
    }
   ],
   "source": [
    "df = data.drop('customer_id', axis=1)\n",
    "df.head()"
   ]
  },
  {
   "cell_type": "code",
   "execution_count": 9,
   "id": "89a3e2f3-867c-4c6c-8252-9ab7c19a1613",
   "metadata": {},
   "outputs": [
    {
     "data": {
      "text/plain": [
       "0"
      ]
     },
     "execution_count": 9,
     "metadata": {},
     "output_type": "execute_result"
    }
   ],
   "source": [
    "df.duplicated().sum()"
   ]
  },
  {
   "cell_type": "markdown",
   "id": "f7d76916-7b78-4dd6-b7fe-b54ab2e85e0e",
   "metadata": {},
   "source": [
    "there is no data duplicated"
   ]
  },
  {
   "cell_type": "markdown",
   "id": "29837a33-70c1-49bd-80bd-f2ebe87f6ac1",
   "metadata": {},
   "source": [
    "### 2. Split the Data"
   ]
  },
  {
   "cell_type": "markdown",
   "id": "afa4ccd1-3be0-43f3-a2d5-dabc1ca619dc",
   "metadata": {},
   "source": [
    "> Create function to split between input and target variable. In this case, we will use \"SalePrice\" as target variable"
   ]
  },
  {
   "cell_type": "code",
   "execution_count": 10,
   "id": "34b23a63-48e5-4652-8cad-acc15d24e007",
   "metadata": {},
   "outputs": [],
   "source": [
    "def split_input_output(dataset,\n",
    "                       target_column):\n",
    "    \n",
    "    output_df = dataset[target_column]\n",
    "    input_df = dataset.drop([target_column],\n",
    "                            axis = 1)\n",
    "    \n",
    "    return output_df, input_df"
   ]
  },
  {
   "cell_type": "markdown",
   "id": "e0c3e7ad-5efb-4c44-a779-9c5d0672f622",
   "metadata": {},
   "source": [
    "> Function to split between each set, Training->Dev->Test"
   ]
  },
  {
   "cell_type": "code",
   "execution_count": 11,
   "id": "feac56b0-c199-41dc-acb0-8ddd53ec850f",
   "metadata": {},
   "outputs": [],
   "source": [
    "def split_train_test(x, y, TEST_SIZE):\n",
    "    # Do not forget to stratify if classification\n",
    "    x_train, x_test,\\\n",
    "        y_train, y_test = train_test_split(x,\n",
    "                                           y,\n",
    "                                           test_size=TEST_SIZE,\n",
    "                                           random_state=123)\n",
    "\n",
    "    return x_train, x_test, y_train, y_test"
   ]
  },
  {
   "cell_type": "code",
   "execution_count": 12,
   "id": "2f52550b-236d-4d3b-b946-b2a9040d3518",
   "metadata": {},
   "outputs": [],
   "source": [
    "def split_data(data_input, data_ouput, TEST_SIZE=0.2):\n",
    "\n",
    "    x_train, x_test, \\\n",
    "        y_train, y_test = split_train_test(\n",
    "            data_input,\n",
    "            data_ouput,\n",
    "            TEST_SIZE)\n",
    "\n",
    "    x_train, x_valid, \\\n",
    "        y_train, y_valid = split_train_test(\n",
    "            x_train,\n",
    "            y_train,\n",
    "            TEST_SIZE)\n",
    "    return x_train, y_train, \\\n",
    "            x_valid, y_valid, \\\n",
    "            x_test, y_test"
   ]
  },
  {
   "cell_type": "code",
   "execution_count": 13,
   "id": "0c6ee098-b56f-42de-a8c2-522df727af0f",
   "metadata": {},
   "outputs": [],
   "source": [
    "DATA_PATH = df\n",
    "TARGET_COLUMN = \"LOAN_WAS_PAID_BACK\"\n",
    "TEST_SIZE = 0.2\n",
    "output_df, input_df = split_input_output(DATA_PATH,TARGET_COLUMN)\n",
    "x_train, y_train, x_valid, y_valid, x_test, y_test = split_data(input_df,\n",
    "                                                                output_df,\n",
    "                                                                TEST_SIZE)"
   ]
  },
  {
   "cell_type": "markdown",
   "id": "fba59f39-65eb-49d8-b4f8-a3af2b3c5b10",
   "metadata": {},
   "source": [
    "### 3. EDA"
   ]
  },
  {
   "cell_type": "code",
   "execution_count": 14,
   "id": "226be36b-dc6f-4bb2-b440-5896d660c989",
   "metadata": {},
   "outputs": [],
   "source": [
    "df_train = pd.merge(x_train,y_train,left_index=True, right_index=True)"
   ]
  },
  {
   "cell_type": "markdown",
   "id": "edf18a69-6f15-4a9c-9cf4-e32f5e4fc008",
   "metadata": {},
   "source": [
    "### Checking initial features and data type"
   ]
  },
  {
   "cell_type": "code",
   "execution_count": 15,
   "id": "b9efe037-107b-4a36-bce2-1c578d8ba68f",
   "metadata": {},
   "outputs": [
    {
     "name": "stdout",
     "output_type": "stream",
     "text": [
      "<class 'pandas.core.frame.DataFrame'>\n",
      "Int64Index: 4183 entries, 1520 to 5419\n",
      "Data columns (total 12 columns):\n",
      " #   Column                    Non-Null Count  Dtype  \n",
      "---  ------                    --------------  -----  \n",
      " 0   AGE                       4183 non-null   int64  \n",
      " 1   INCOME                    4183 non-null   float64\n",
      " 2   GENDER                    4183 non-null   object \n",
      " 3   EDUCATION                 4183 non-null   object \n",
      " 4   LOAN_PURPOSE              4183 non-null   object \n",
      " 5   APPLICATION_RECEIVE_TIME  4183 non-null   object \n",
      " 6   HAS_APPLIED_BEFORE        4183 non-null   object \n",
      " 7   HAS_INCOME_VERIFICATION   4183 non-null   object \n",
      " 8   LOANS_WITHOUT_DELAYS      3359 non-null   float64\n",
      " 9   LOANS_WITH_DELAYS         3359 non-null   float64\n",
      " 10  KNOWN_ASSETS              2445 non-null   float64\n",
      " 11  LOAN_WAS_PAID_BACK        4183 non-null   int64  \n",
      "dtypes: float64(4), int64(2), object(6)\n",
      "memory usage: 553.9+ KB\n"
     ]
    }
   ],
   "source": [
    "df_train.info()"
   ]
  },
  {
   "cell_type": "markdown",
   "id": "57dc0ca3-112a-4558-ad7d-b5debdf73ac9",
   "metadata": {},
   "source": [
    "- target is LOAN_WAS_PAID_BACK that is integer\n",
    "- Six Features are string (object)\n",
    "- Five features are integer or floats"
   ]
  },
  {
   "cell_type": "markdown",
   "id": "37bb11fc-4aa7-4095-96ec-96c40cace2e3",
   "metadata": {},
   "source": [
    "### Check numerical distribution"
   ]
  },
  {
   "cell_type": "code",
   "execution_count": 16,
   "id": "7153e32f-7d99-4a9e-91d8-e9400e86ae34",
   "metadata": {},
   "outputs": [
    {
     "data": {
      "text/html": [
       "<div>\n",
       "<style scoped>\n",
       "    .dataframe tbody tr th:only-of-type {\n",
       "        vertical-align: middle;\n",
       "    }\n",
       "\n",
       "    .dataframe tbody tr th {\n",
       "        vertical-align: top;\n",
       "    }\n",
       "\n",
       "    .dataframe thead th {\n",
       "        text-align: right;\n",
       "    }\n",
       "</style>\n",
       "<table border=\"1\" class=\"dataframe\">\n",
       "  <thead>\n",
       "    <tr style=\"text-align: right;\">\n",
       "      <th></th>\n",
       "      <th>AGE</th>\n",
       "      <th>INCOME</th>\n",
       "      <th>LOANS_WITHOUT_DELAYS</th>\n",
       "      <th>LOANS_WITH_DELAYS</th>\n",
       "      <th>KNOWN_ASSETS</th>\n",
       "      <th>LOAN_WAS_PAID_BACK</th>\n",
       "    </tr>\n",
       "  </thead>\n",
       "  <tbody>\n",
       "    <tr>\n",
       "      <th>count</th>\n",
       "      <td>4183.000000</td>\n",
       "      <td>4.183000e+03</td>\n",
       "      <td>3359.000000</td>\n",
       "      <td>3359.000000</td>\n",
       "      <td>2.445000e+03</td>\n",
       "      <td>4183.000000</td>\n",
       "    </tr>\n",
       "    <tr>\n",
       "      <th>mean</th>\n",
       "      <td>34.409276</td>\n",
       "      <td>7.951231e+06</td>\n",
       "      <td>1.653468</td>\n",
       "      <td>0.412623</td>\n",
       "      <td>1.273620e+07</td>\n",
       "      <td>0.852498</td>\n",
       "    </tr>\n",
       "    <tr>\n",
       "      <th>std</th>\n",
       "      <td>7.703827</td>\n",
       "      <td>6.496993e+06</td>\n",
       "      <td>0.832742</td>\n",
       "      <td>0.892712</td>\n",
       "      <td>1.240998e+07</td>\n",
       "      <td>0.354648</td>\n",
       "    </tr>\n",
       "    <tr>\n",
       "      <th>min</th>\n",
       "      <td>20.000000</td>\n",
       "      <td>0.000000e+00</td>\n",
       "      <td>1.000000</td>\n",
       "      <td>0.000000</td>\n",
       "      <td>0.000000e+00</td>\n",
       "      <td>0.000000</td>\n",
       "    </tr>\n",
       "    <tr>\n",
       "      <th>25%</th>\n",
       "      <td>28.000000</td>\n",
       "      <td>4.000000e+06</td>\n",
       "      <td>1.000000</td>\n",
       "      <td>0.000000</td>\n",
       "      <td>0.000000e+00</td>\n",
       "      <td>1.000000</td>\n",
       "    </tr>\n",
       "    <tr>\n",
       "      <th>50%</th>\n",
       "      <td>34.000000</td>\n",
       "      <td>6.000000e+06</td>\n",
       "      <td>1.000000</td>\n",
       "      <td>0.000000</td>\n",
       "      <td>1.000000e+07</td>\n",
       "      <td>1.000000</td>\n",
       "    </tr>\n",
       "    <tr>\n",
       "      <th>75%</th>\n",
       "      <td>40.000000</td>\n",
       "      <td>9.000000e+06</td>\n",
       "      <td>2.000000</td>\n",
       "      <td>0.000000</td>\n",
       "      <td>2.000000e+07</td>\n",
       "      <td>1.000000</td>\n",
       "    </tr>\n",
       "    <tr>\n",
       "      <th>max</th>\n",
       "      <td>54.000000</td>\n",
       "      <td>1.000000e+08</td>\n",
       "      <td>8.000000</td>\n",
       "      <td>3.000000</td>\n",
       "      <td>5.000000e+07</td>\n",
       "      <td>1.000000</td>\n",
       "    </tr>\n",
       "  </tbody>\n",
       "</table>\n",
       "</div>"
      ],
      "text/plain": [
       "               AGE        INCOME  LOANS_WITHOUT_DELAYS  LOANS_WITH_DELAYS  \\\n",
       "count  4183.000000  4.183000e+03           3359.000000        3359.000000   \n",
       "mean     34.409276  7.951231e+06              1.653468           0.412623   \n",
       "std       7.703827  6.496993e+06              0.832742           0.892712   \n",
       "min      20.000000  0.000000e+00              1.000000           0.000000   \n",
       "25%      28.000000  4.000000e+06              1.000000           0.000000   \n",
       "50%      34.000000  6.000000e+06              1.000000           0.000000   \n",
       "75%      40.000000  9.000000e+06              2.000000           0.000000   \n",
       "max      54.000000  1.000000e+08              8.000000           3.000000   \n",
       "\n",
       "       KNOWN_ASSETS  LOAN_WAS_PAID_BACK  \n",
       "count  2.445000e+03         4183.000000  \n",
       "mean   1.273620e+07            0.852498  \n",
       "std    1.240998e+07            0.354648  \n",
       "min    0.000000e+00            0.000000  \n",
       "25%    0.000000e+00            1.000000  \n",
       "50%    1.000000e+07            1.000000  \n",
       "75%    2.000000e+07            1.000000  \n",
       "max    5.000000e+07            1.000000  "
      ]
     },
     "execution_count": 16,
     "metadata": {},
     "output_type": "execute_result"
    }
   ],
   "source": [
    "df_train.describe()"
   ]
  },
  {
   "cell_type": "markdown",
   "id": "7dd26d56-7b66-46db-823e-ce36cd4b5932",
   "metadata": {},
   "source": [
    "- LOAN_WAS_PAID_BACK is a categorical feature with 0 or 1 values\n",
    "- this is unbalance data because LOAN_WAS_PAID mostly paid with 85,6%\n",
    "- ...."
   ]
  },
  {
   "cell_type": "markdown",
   "id": "70bb6fbb-f5ed-4af5-a11d-201ed7d2444b",
   "metadata": {},
   "source": [
    "### Check categoriccal distribution"
   ]
  },
  {
   "cell_type": "code",
   "execution_count": 17,
   "id": "1206d72c-f356-4d7c-8eb9-9a7c0d3e5047",
   "metadata": {},
   "outputs": [
    {
     "data": {
      "text/html": [
       "<div>\n",
       "<style scoped>\n",
       "    .dataframe tbody tr th:only-of-type {\n",
       "        vertical-align: middle;\n",
       "    }\n",
       "\n",
       "    .dataframe tbody tr th {\n",
       "        vertical-align: top;\n",
       "    }\n",
       "\n",
       "    .dataframe thead th {\n",
       "        text-align: right;\n",
       "    }\n",
       "</style>\n",
       "<table border=\"1\" class=\"dataframe\">\n",
       "  <thead>\n",
       "    <tr style=\"text-align: right;\">\n",
       "      <th></th>\n",
       "      <th>GENDER</th>\n",
       "      <th>EDUCATION</th>\n",
       "      <th>LOAN_PURPOSE</th>\n",
       "      <th>APPLICATION_RECEIVE_TIME</th>\n",
       "      <th>HAS_APPLIED_BEFORE</th>\n",
       "      <th>HAS_INCOME_VERIFICATION</th>\n",
       "    </tr>\n",
       "  </thead>\n",
       "  <tbody>\n",
       "    <tr>\n",
       "      <th>count</th>\n",
       "      <td>4183</td>\n",
       "      <td>4183</td>\n",
       "      <td>4183</td>\n",
       "      <td>4183</td>\n",
       "      <td>4183</td>\n",
       "      <td>4183</td>\n",
       "    </tr>\n",
       "    <tr>\n",
       "      <th>unique</th>\n",
       "      <td>2</td>\n",
       "      <td>5</td>\n",
       "      <td>11</td>\n",
       "      <td>1161</td>\n",
       "      <td>2</td>\n",
       "      <td>2</td>\n",
       "    </tr>\n",
       "    <tr>\n",
       "      <th>top</th>\n",
       "      <td>Male</td>\n",
       "      <td>Bachelor Degree</td>\n",
       "      <td>Working Capital</td>\n",
       "      <td>11:35:00</td>\n",
       "      <td>No</td>\n",
       "      <td>Yes</td>\n",
       "    </tr>\n",
       "    <tr>\n",
       "      <th>freq</th>\n",
       "      <td>2246</td>\n",
       "      <td>2195</td>\n",
       "      <td>1315</td>\n",
       "      <td>14</td>\n",
       "      <td>2713</td>\n",
       "      <td>4086</td>\n",
       "    </tr>\n",
       "  </tbody>\n",
       "</table>\n",
       "</div>"
      ],
      "text/plain": [
       "       GENDER        EDUCATION     LOAN_PURPOSE APPLICATION_RECEIVE_TIME  \\\n",
       "count    4183             4183             4183                     4183   \n",
       "unique      2                5               11                     1161   \n",
       "top      Male  Bachelor Degree  Working Capital                 11:35:00   \n",
       "freq     2246             2195             1315                       14   \n",
       "\n",
       "       HAS_APPLIED_BEFORE HAS_INCOME_VERIFICATION  \n",
       "count                4183                    4183  \n",
       "unique                  2                       2  \n",
       "top                    No                     Yes  \n",
       "freq                 2713                    4086  "
      ]
     },
     "execution_count": 17,
     "metadata": {},
     "output_type": "execute_result"
    }
   ],
   "source": [
    "df_train.describe(include=['O'])"
   ]
  },
  {
   "cell_type": "markdown",
   "id": "b5794dc3-a982-4b37-9b9b-55e51176d425",
   "metadata": {},
   "source": [
    "- most creditor is Male with 53% percent of the data (2234/4214)\n",
    "- most creditor's Education is Bachelor Degree with 52% percent of the data (2201/4214)\n",
    "- most credior haven't applied credit before with 64% percent of the data (2701/4214)\n",
    "- most creditor has income verification with 98% percent of the data(4116/4214)"
   ]
  },
  {
   "cell_type": "code",
   "execution_count": 18,
   "id": "a6098902-9144-4da2-b657-514ab75d3275",
   "metadata": {},
   "outputs": [
    {
     "name": "stdout",
     "output_type": "stream",
     "text": [
      "['AGE' 'INCOME' 'GENDER' 'EDUCATION' 'LOAN_PURPOSE'\n",
      " 'APPLICATION_RECEIVE_TIME' 'HAS_APPLIED_BEFORE' 'HAS_INCOME_VERIFICATION'\n",
      " 'LOANS_WITHOUT_DELAYS' 'LOANS_WITH_DELAYS' 'KNOWN_ASSETS'\n",
      " 'LOAN_WAS_PAID_BACK']\n"
     ]
    }
   ],
   "source": [
    "print(df_train.columns.values)"
   ]
  },
  {
   "cell_type": "markdown",
   "id": "1a423002-7808-4149-887a-0ccbcb6358f4",
   "metadata": {},
   "source": [
    "#### Showing the distribution of our target variable"
   ]
  },
  {
   "cell_type": "code",
   "execution_count": 19,
   "id": "68049411-a194-4d2f-b3bf-919f66106953",
   "metadata": {},
   "outputs": [
    {
     "data": {
      "image/png": "[encoded data removed]",
      "text/plain": [
       "<Figure size 576x576 with 1 Axes>"
      ]
     },
     "metadata": {},
     "output_type": "display_data"
    }
   ],
   "source": [
    "plt.figure(figsize = (8,8))\n",
    "plt.pie(\n",
    "    x = df_train['LOAN_WAS_PAID_BACK'].value_counts(),\n",
    "    labels = ['Paid','Not Paid'],\n",
    "    autopct = '%1.2f%%',\n",
    "    shadow = True,\n",
    "    explode = (0.3,0)\n",
    ")\n",
    "plt.title('Distribution of Target Variable')\n",
    "plt.show()"
   ]
  },
  {
   "cell_type": "markdown",
   "id": "864ee562-e6ea-425b-a78d-93b2a5d39feb",
   "metadata": {},
   "source": [
    "we can see that is unbalance data"
   ]
  },
  {
   "cell_type": "markdown",
   "id": "aef6102b-706b-44d8-8b64-faffa4010748",
   "metadata": {},
   "source": [
    "#### AGE"
   ]
  },
  {
   "cell_type": "code",
   "execution_count": 20,
   "id": "2f6162b6-c2e5-4468-b14d-6c2f4b8a18ce",
   "metadata": {},
   "outputs": [
    {
     "data": {
      "text/plain": [
       "<seaborn.axisgrid.FacetGrid at 0x26c651c5130>"
      ]
     },
     "execution_count": 20,
     "metadata": {},
     "output_type": "execute_result"
    },
    {
     "data": {
      "image/png": "[encoded data removed]",
      "text/plain": [
       "<Figure size 432x216 with 2 Axes>"
      ]
     },
     "metadata": {
      "needs_background": "light"
     },
     "output_type": "display_data"
    }
   ],
   "source": [
    "g = sns.FacetGrid(df_train, col='LOAN_WAS_PAID_BACK')\n",
    "g.map(plt.hist, 'AGE', bins=20)"
   ]
  },
  {
   "cell_type": "code",
   "execution_count": 21,
   "id": "8898a0d7-dc9c-442e-9958-bf85b1510ccd",
   "metadata": {},
   "outputs": [
    {
     "data": {
      "image/png": "[encoded data removed]",
      "text/plain": [
       "<Figure size 720x432 with 1 Axes>"
      ]
     },
     "metadata": {
      "needs_background": "light"
     },
     "output_type": "display_data"
    }
   ],
   "source": [
    "plt.figure(figsize=(10,6))\n",
    "plt.grid(True, alpha=0.5)\n",
    "sns.kdeplot(df_train.loc[df['LOAN_WAS_PAID_BACK'] == 1, 'AGE'] , label = 'Paid')\n",
    "sns.kdeplot(df_train.loc[df['LOAN_WAS_PAID_BACK'] == 0, 'AGE'] ,  label = 'Not Paid')\n",
    "plt.axvline(df_train.AGE.mean(), 0, 1, label = 'mean', color = 'r', ls = '--')\n",
    "plt.axvline(df_train.AGE.median(), 0, 1, label = 'median', color = 'g', ls = '--')\n",
    "plt.xlabel('Age (years)')\n",
    "plt.ylabel('Density')\n",
    "plt.legend()\n",
    "plt.title('Distribution of Age of Client (in Years)');"
   ]
  },
  {
   "cell_type": "markdown",
   "id": "5e7618f6-25ac-42b7-a43b-8cd51556c499",
   "metadata": {},
   "source": [
    "#### INCOME"
   ]
  },
  {
   "cell_type": "code",
   "execution_count": 22,
   "id": "c0c420fe-56df-4245-866d-7849d5879ee8",
   "metadata": {},
   "outputs": [
    {
     "data": {
      "image/png": "[encoded data removed]",
      "text/plain": [
       "<Figure size 720x432 with 1 Axes>"
      ]
     },
     "metadata": {
      "needs_background": "light"
     },
     "output_type": "display_data"
    }
   ],
   "source": [
    "plt.figure(figsize=(10,6))\n",
    "plt.grid(True, alpha=0.5)\n",
    "sns.kdeplot(df_train.loc[df['LOAN_WAS_PAID_BACK'] == 1, 'INCOME'] , label = 'Paid')\n",
    "sns.kdeplot(df_train.loc[df['LOAN_WAS_PAID_BACK'] == 0, 'INCOME'] ,  label = 'Not Paid')\n",
    "plt.axvline(df_train.INCOME.mean(), 0, 1, label = 'mean', color = 'r', ls = '--')\n",
    "plt.axvline(df_train.INCOME.median(), 0, 1, label = 'median', color = 'g', ls = '--')\n",
    "plt.xlabel('INCOME')\n",
    "plt.ylabel('Density')\n",
    "plt.legend()\n",
    "plt.title('Distribution of INCOME of Client (in Years)');"
   ]
  },
  {
   "cell_type": "markdown",
   "id": "ecbe095a-f5e0-48ae-8f4e-6d2f11a1c625",
   "metadata": {},
   "source": [
    "#### GENDER"
   ]
  },
  {
   "cell_type": "code",
   "execution_count": 23,
   "id": "2614d2ad-ca12-4ec4-ad3c-400247931bb6",
   "metadata": {},
   "outputs": [
    {
     "data": {
      "text/html": [
       "<div>\n",
       "<style scoped>\n",
       "    .dataframe tbody tr th:only-of-type {\n",
       "        vertical-align: middle;\n",
       "    }\n",
       "\n",
       "    .dataframe tbody tr th {\n",
       "        vertical-align: top;\n",
       "    }\n",
       "\n",
       "    .dataframe thead th {\n",
       "        text-align: right;\n",
       "    }\n",
       "</style>\n",
       "<table border=\"1\" class=\"dataframe\">\n",
       "  <thead>\n",
       "    <tr style=\"text-align: right;\">\n",
       "      <th></th>\n",
       "      <th>GENDER</th>\n",
       "      <th>LOAN_WAS_PAID_BACK</th>\n",
       "    </tr>\n",
       "  </thead>\n",
       "  <tbody>\n",
       "    <tr>\n",
       "      <th>1</th>\n",
       "      <td>Male</td>\n",
       "      <td>0.873998</td>\n",
       "    </tr>\n",
       "    <tr>\n",
       "      <th>0</th>\n",
       "      <td>Female</td>\n",
       "      <td>0.827568</td>\n",
       "    </tr>\n",
       "  </tbody>\n",
       "</table>\n",
       "</div>"
      ],
      "text/plain": [
       "   GENDER  LOAN_WAS_PAID_BACK\n",
       "1    Male            0.873998\n",
       "0  Female            0.827568"
      ]
     },
     "execution_count": 23,
     "metadata": {},
     "output_type": "execute_result"
    }
   ],
   "source": [
    "df_train[[\"GENDER\", \"LOAN_WAS_PAID_BACK\"]].groupby(['GENDER'], as_index=False).mean().sort_values(by=\"LOAN_WAS_PAID_BACK\", ascending=False)"
   ]
  },
  {
   "cell_type": "markdown",
   "id": "9c1ae673-4783-46d5-b6e0-249e2cb09245",
   "metadata": {},
   "source": [
    "most creditor is Male with 53% percent of the data (2234/4214) and  the male tend to pay loans than female"
   ]
  },
  {
   "cell_type": "markdown",
   "id": "27345756-261c-4960-b557-98623c255743",
   "metadata": {},
   "source": [
    "#### EDUCATION"
   ]
  },
  {
   "cell_type": "code",
   "execution_count": 24,
   "id": "0736eae1-f057-4f69-bcd5-25d7eb023b1b",
   "metadata": {},
   "outputs": [
    {
     "data": {
      "text/html": [
       "<div>\n",
       "<style scoped>\n",
       "    .dataframe tbody tr th:only-of-type {\n",
       "        vertical-align: middle;\n",
       "    }\n",
       "\n",
       "    .dataframe tbody tr th {\n",
       "        vertical-align: top;\n",
       "    }\n",
       "\n",
       "    .dataframe thead th {\n",
       "        text-align: right;\n",
       "    }\n",
       "</style>\n",
       "<table border=\"1\" class=\"dataframe\">\n",
       "  <thead>\n",
       "    <tr style=\"text-align: right;\">\n",
       "      <th></th>\n",
       "      <th>EDUCATION</th>\n",
       "      <th>LOAN_WAS_PAID_BACK</th>\n",
       "    </tr>\n",
       "  </thead>\n",
       "  <tbody>\n",
       "    <tr>\n",
       "      <th>3</th>\n",
       "      <td>Master's Degree/Post graduate</td>\n",
       "      <td>0.955357</td>\n",
       "    </tr>\n",
       "    <tr>\n",
       "      <th>0</th>\n",
       "      <td>Bachelor Degree</td>\n",
       "      <td>0.873804</td>\n",
       "    </tr>\n",
       "    <tr>\n",
       "      <th>1</th>\n",
       "      <td>Diploma</td>\n",
       "      <td>0.853591</td>\n",
       "    </tr>\n",
       "    <tr>\n",
       "      <th>2</th>\n",
       "      <td>High School</td>\n",
       "      <td>0.801786</td>\n",
       "    </tr>\n",
       "    <tr>\n",
       "      <th>4</th>\n",
       "      <td>Other</td>\n",
       "      <td>0.781250</td>\n",
       "    </tr>\n",
       "  </tbody>\n",
       "</table>\n",
       "</div>"
      ],
      "text/plain": [
       "                       EDUCATION  LOAN_WAS_PAID_BACK\n",
       "3  Master's Degree/Post graduate            0.955357\n",
       "0                Bachelor Degree            0.873804\n",
       "1                        Diploma            0.853591\n",
       "2                    High School            0.801786\n",
       "4                          Other            0.781250"
      ]
     },
     "execution_count": 24,
     "metadata": {},
     "output_type": "execute_result"
    }
   ],
   "source": [
    "df_train[[\"EDUCATION\", \"LOAN_WAS_PAID_BACK\"]].groupby(['EDUCATION'], as_index=False).mean().sort_values(by=\"LOAN_WAS_PAID_BACK\", ascending=False)"
   ]
  },
  {
   "cell_type": "code",
   "execution_count": 25,
   "id": "c2f18cdc-1aaa-425f-a5fb-09d825ad5d78",
   "metadata": {},
   "outputs": [
    {
     "data": {
      "image/png": "[encoded data removed]",
      "text/plain": [
       "<Figure size 1440x360 with 1 Axes>"
      ]
     },
     "metadata": {
      "needs_background": "light"
     },
     "output_type": "display_data"
    }
   ],
   "source": [
    "plt.figure(figsize=(20,5))\n",
    "ax = sns.countplot(hue=\"LOAN_WAS_PAID_BACK\",\n",
    "                   x=\"EDUCATION\", \n",
    "                   data=df_train, \n",
    "                  order = df_train[\"EDUCATION\"].value_counts().index)\n",
    "plt.title(\"Distribution of EDUCATION\")\n",
    "plt.show()"
   ]
  },
  {
   "cell_type": "markdown",
   "id": "c68e917d-e2b8-4db2-8189-efc190120be9",
   "metadata": {},
   "source": [
    "we can see that the higher the education, the greater the probability of repaying the loan"
   ]
  },
  {
   "cell_type": "markdown",
   "id": "b3400cb5-743a-4eaa-96aa-d2795d64fca9",
   "metadata": {},
   "source": [
    "#### LOAN PURPOSE"
   ]
  },
  {
   "cell_type": "code",
   "execution_count": 26,
   "id": "f51f6378-222b-4571-89ac-ddd7e5deb521",
   "metadata": {},
   "outputs": [
    {
     "data": {
      "text/html": [
       "<div>\n",
       "<style scoped>\n",
       "    .dataframe tbody tr th:only-of-type {\n",
       "        vertical-align: middle;\n",
       "    }\n",
       "\n",
       "    .dataframe tbody tr th {\n",
       "        vertical-align: top;\n",
       "    }\n",
       "\n",
       "    .dataframe thead th {\n",
       "        text-align: right;\n",
       "    }\n",
       "</style>\n",
       "<table border=\"1\" class=\"dataframe\">\n",
       "  <thead>\n",
       "    <tr style=\"text-align: right;\">\n",
       "      <th></th>\n",
       "      <th>LOAN_PURPOSE</th>\n",
       "      <th>LOAN_WAS_PAID_BACK</th>\n",
       "    </tr>\n",
       "  </thead>\n",
       "  <tbody>\n",
       "    <tr>\n",
       "      <th>9</th>\n",
       "      <td>Venture capital</td>\n",
       "      <td>0.969231</td>\n",
       "    </tr>\n",
       "    <tr>\n",
       "      <th>2</th>\n",
       "      <td>Education</td>\n",
       "      <td>0.930693</td>\n",
       "    </tr>\n",
       "    <tr>\n",
       "      <th>4</th>\n",
       "      <td>Holiday</td>\n",
       "      <td>0.904412</td>\n",
       "    </tr>\n",
       "    <tr>\n",
       "      <th>7</th>\n",
       "      <td>Other</td>\n",
       "      <td>0.892857</td>\n",
       "    </tr>\n",
       "    <tr>\n",
       "      <th>1</th>\n",
       "      <td>Credit card</td>\n",
       "      <td>0.876842</td>\n",
       "    </tr>\n",
       "    <tr>\n",
       "      <th>0</th>\n",
       "      <td>Bills</td>\n",
       "      <td>0.876106</td>\n",
       "    </tr>\n",
       "    <tr>\n",
       "      <th>8</th>\n",
       "      <td>Renovation</td>\n",
       "      <td>0.866960</td>\n",
       "    </tr>\n",
       "    <tr>\n",
       "      <th>3</th>\n",
       "      <td>Electronic unsecured loan</td>\n",
       "      <td>0.862069</td>\n",
       "    </tr>\n",
       "    <tr>\n",
       "      <th>6</th>\n",
       "      <td>Investment</td>\n",
       "      <td>0.853659</td>\n",
       "    </tr>\n",
       "    <tr>\n",
       "      <th>5</th>\n",
       "      <td>Housing loan</td>\n",
       "      <td>0.840909</td>\n",
       "    </tr>\n",
       "    <tr>\n",
       "      <th>10</th>\n",
       "      <td>Working Capital</td>\n",
       "      <td>0.800760</td>\n",
       "    </tr>\n",
       "  </tbody>\n",
       "</table>\n",
       "</div>"
      ],
      "text/plain": [
       "                 LOAN_PURPOSE  LOAN_WAS_PAID_BACK\n",
       "9             Venture capital            0.969231\n",
       "2                   Education            0.930693\n",
       "4                     Holiday            0.904412\n",
       "7                       Other            0.892857\n",
       "1                 Credit card            0.876842\n",
       "0                       Bills            0.876106\n",
       "8                  Renovation            0.866960\n",
       "3   Electronic unsecured loan            0.862069\n",
       "6                  Investment            0.853659\n",
       "5                Housing loan            0.840909\n",
       "10            Working Capital            0.800760"
      ]
     },
     "execution_count": 26,
     "metadata": {},
     "output_type": "execute_result"
    }
   ],
   "source": [
    "df_train[[\"LOAN_PURPOSE\", \"LOAN_WAS_PAID_BACK\"]].groupby(['LOAN_PURPOSE'], as_index=False).mean().sort_values(by=\"LOAN_WAS_PAID_BACK\", ascending=False)"
   ]
  },
  {
   "cell_type": "code",
   "execution_count": 27,
   "id": "5860e865-1f59-4fb3-b504-a5ad14a094e4",
   "metadata": {},
   "outputs": [
    {
     "data": {
      "image/png": "[encoded data removed]",
      "text/plain": [
       "<Figure size 1440x360 with 1 Axes>"
      ]
     },
     "metadata": {
      "needs_background": "light"
     },
     "output_type": "display_data"
    }
   ],
   "source": [
    "plt.figure(figsize=(20,5))\n",
    "ax = sns.countplot(hue=\"LOAN_WAS_PAID_BACK\",\n",
    "                   x=\"LOAN_PURPOSE\", \n",
    "                   data=df_train, \n",
    "                  order = df_train[\"LOAN_PURPOSE\"].value_counts().index)\n",
    "plt.title(\"Distribution of LOAN_PURPOSE\")\n",
    "plt.show()"
   ]
  },
  {
   "cell_type": "markdown",
   "id": "a70ed683-b85c-4129-a4c6-fef0d66c50eb",
   "metadata": {},
   "source": [
    "#### HAS_APPLIED_BEFORE"
   ]
  },
  {
   "cell_type": "code",
   "execution_count": 36,
   "id": "4f29edd4-d636-4de0-b351-08e0ff9879c9",
   "metadata": {},
   "outputs": [
    {
     "data": {
      "text/html": [
       "<div>\n",
       "<style scoped>\n",
       "    .dataframe tbody tr th:only-of-type {\n",
       "        vertical-align: middle;\n",
       "    }\n",
       "\n",
       "    .dataframe tbody tr th {\n",
       "        vertical-align: top;\n",
       "    }\n",
       "\n",
       "    .dataframe thead th {\n",
       "        text-align: right;\n",
       "    }\n",
       "</style>\n",
       "<table border=\"1\" class=\"dataframe\">\n",
       "  <thead>\n",
       "    <tr style=\"text-align: right;\">\n",
       "      <th></th>\n",
       "      <th>HAS_APPLIED_BEFORE</th>\n",
       "      <th>LOAN_WAS_PAID_BACK</th>\n",
       "    </tr>\n",
       "  </thead>\n",
       "  <tbody>\n",
       "    <tr>\n",
       "      <th>0</th>\n",
       "      <td>No</td>\n",
       "      <td>0.881681</td>\n",
       "    </tr>\n",
       "    <tr>\n",
       "      <th>1</th>\n",
       "      <td>Yes</td>\n",
       "      <td>0.798639</td>\n",
       "    </tr>\n",
       "  </tbody>\n",
       "</table>\n",
       "</div>"
      ],
      "text/plain": [
       "  HAS_APPLIED_BEFORE  LOAN_WAS_PAID_BACK\n",
       "0                 No            0.881681\n",
       "1                Yes            0.798639"
      ]
     },
     "execution_count": 36,
     "metadata": {},
     "output_type": "execute_result"
    }
   ],
   "source": [
    "df_train[[\"HAS_APPLIED_BEFORE\", \"LOAN_WAS_PAID_BACK\"]].groupby(['HAS_APPLIED_BEFORE'], as_index=False).mean().sort_values(by=\"LOAN_WAS_PAID_BACK\", ascending=False)"
   ]
  },
  {
   "cell_type": "markdown",
   "id": "d7a214e8-ea93-47c6-afa4-c77f23d3000b",
   "metadata": {},
   "source": [
    "#### HAS_INCOME_VERIFICATION"
   ]
  },
  {
   "cell_type": "code",
   "execution_count": 28,
   "id": "d6766f16-61e9-4fc3-8814-ceb14dd0c64f",
   "metadata": {},
   "outputs": [
    {
     "data": {
      "text/html": [
       "<div>\n",
       "<style scoped>\n",
       "    .dataframe tbody tr th:only-of-type {\n",
       "        vertical-align: middle;\n",
       "    }\n",
       "\n",
       "    .dataframe tbody tr th {\n",
       "        vertical-align: top;\n",
       "    }\n",
       "\n",
       "    .dataframe thead th {\n",
       "        text-align: right;\n",
       "    }\n",
       "</style>\n",
       "<table border=\"1\" class=\"dataframe\">\n",
       "  <thead>\n",
       "    <tr style=\"text-align: right;\">\n",
       "      <th></th>\n",
       "      <th>HAS_INCOME_VERIFICATION</th>\n",
       "      <th>LOAN_WAS_PAID_BACK</th>\n",
       "    </tr>\n",
       "  </thead>\n",
       "  <tbody>\n",
       "    <tr>\n",
       "      <th>1</th>\n",
       "      <td>Yes</td>\n",
       "      <td>0.855849</td>\n",
       "    </tr>\n",
       "    <tr>\n",
       "      <th>0</th>\n",
       "      <td>No</td>\n",
       "      <td>0.711340</td>\n",
       "    </tr>\n",
       "  </tbody>\n",
       "</table>\n",
       "</div>"
      ],
      "text/plain": [
       "  HAS_INCOME_VERIFICATION  LOAN_WAS_PAID_BACK\n",
       "1                     Yes            0.855849\n",
       "0                      No            0.711340"
      ]
     },
     "execution_count": 28,
     "metadata": {},
     "output_type": "execute_result"
    }
   ],
   "source": [
    "df_train[[\"HAS_INCOME_VERIFICATION\", \"LOAN_WAS_PAID_BACK\"]].groupby(['HAS_INCOME_VERIFICATION'], as_index=False).mean().sort_values(by=\"LOAN_WAS_PAID_BACK\", ascending=False)"
   ]
  },
  {
   "cell_type": "markdown",
   "id": "647c294e-8f46-4df9-8703-3b7e89b8eb07",
   "metadata": {},
   "source": [
    "if creditur has income verification, they more likely pay loans"
   ]
  },
  {
   "cell_type": "markdown",
   "id": "16e0b479-c9a3-4e45-ab37-161a639345ab",
   "metadata": {},
   "source": [
    "#### LOANS_WITHOUT_DELAYS"
   ]
  },
  {
   "cell_type": "code",
   "execution_count": 29,
   "id": "d9e03f8e-28fc-4929-8b66-93499210ac00",
   "metadata": {},
   "outputs": [
    {
     "data": {
      "text/html": [
       "<div>\n",
       "<style scoped>\n",
       "    .dataframe tbody tr th:only-of-type {\n",
       "        vertical-align: middle;\n",
       "    }\n",
       "\n",
       "    .dataframe tbody tr th {\n",
       "        vertical-align: top;\n",
       "    }\n",
       "\n",
       "    .dataframe thead th {\n",
       "        text-align: right;\n",
       "    }\n",
       "</style>\n",
       "<table border=\"1\" class=\"dataframe\">\n",
       "  <thead>\n",
       "    <tr style=\"text-align: right;\">\n",
       "      <th></th>\n",
       "      <th>LOANS_WITHOUT_DELAYS</th>\n",
       "      <th>LOAN_WAS_PAID_BACK</th>\n",
       "    </tr>\n",
       "  </thead>\n",
       "  <tbody>\n",
       "    <tr>\n",
       "      <th>4</th>\n",
       "      <td>5.0</td>\n",
       "      <td>1.000000</td>\n",
       "    </tr>\n",
       "    <tr>\n",
       "      <th>6</th>\n",
       "      <td>7.0</td>\n",
       "      <td>1.000000</td>\n",
       "    </tr>\n",
       "    <tr>\n",
       "      <th>7</th>\n",
       "      <td>8.0</td>\n",
       "      <td>1.000000</td>\n",
       "    </tr>\n",
       "    <tr>\n",
       "      <th>3</th>\n",
       "      <td>4.0</td>\n",
       "      <td>0.890411</td>\n",
       "    </tr>\n",
       "    <tr>\n",
       "      <th>2</th>\n",
       "      <td>3.0</td>\n",
       "      <td>0.888889</td>\n",
       "    </tr>\n",
       "    <tr>\n",
       "      <th>1</th>\n",
       "      <td>2.0</td>\n",
       "      <td>0.862222</td>\n",
       "    </tr>\n",
       "    <tr>\n",
       "      <th>0</th>\n",
       "      <td>1.0</td>\n",
       "      <td>0.838052</td>\n",
       "    </tr>\n",
       "    <tr>\n",
       "      <th>5</th>\n",
       "      <td>6.0</td>\n",
       "      <td>0.750000</td>\n",
       "    </tr>\n",
       "  </tbody>\n",
       "</table>\n",
       "</div>"
      ],
      "text/plain": [
       "   LOANS_WITHOUT_DELAYS  LOAN_WAS_PAID_BACK\n",
       "4                   5.0            1.000000\n",
       "6                   7.0            1.000000\n",
       "7                   8.0            1.000000\n",
       "3                   4.0            0.890411\n",
       "2                   3.0            0.888889\n",
       "1                   2.0            0.862222\n",
       "0                   1.0            0.838052\n",
       "5                   6.0            0.750000"
      ]
     },
     "execution_count": 29,
     "metadata": {},
     "output_type": "execute_result"
    }
   ],
   "source": [
    "df_train[[\"LOANS_WITHOUT_DELAYS\", \"LOAN_WAS_PAID_BACK\"]].groupby(['LOANS_WITHOUT_DELAYS'], as_index=False).mean().sort_values(by=\"LOAN_WAS_PAID_BACK\", ascending=False)"
   ]
  },
  {
   "cell_type": "markdown",
   "id": "f8b7a82f-78fd-428d-b3da-bf4fe5320f43",
   "metadata": {},
   "source": [
    "#### LOANS_WITH_DELAYS"
   ]
  },
  {
   "cell_type": "code",
   "execution_count": 30,
   "id": "d7cf306e-9203-4637-9223-19059e8fd8f0",
   "metadata": {},
   "outputs": [
    {
     "data": {
      "text/html": [
       "<div>\n",
       "<style scoped>\n",
       "    .dataframe tbody tr th:only-of-type {\n",
       "        vertical-align: middle;\n",
       "    }\n",
       "\n",
       "    .dataframe tbody tr th {\n",
       "        vertical-align: top;\n",
       "    }\n",
       "\n",
       "    .dataframe thead th {\n",
       "        text-align: right;\n",
       "    }\n",
       "</style>\n",
       "<table border=\"1\" class=\"dataframe\">\n",
       "  <thead>\n",
       "    <tr style=\"text-align: right;\">\n",
       "      <th></th>\n",
       "      <th>LOANS_WITH_DELAYS</th>\n",
       "      <th>LOAN_WAS_PAID_BACK</th>\n",
       "    </tr>\n",
       "  </thead>\n",
       "  <tbody>\n",
       "    <tr>\n",
       "      <th>1</th>\n",
       "      <td>1.0</td>\n",
       "      <td>0.858553</td>\n",
       "    </tr>\n",
       "    <tr>\n",
       "      <th>0</th>\n",
       "      <td>0.0</td>\n",
       "      <td>0.855522</td>\n",
       "    </tr>\n",
       "    <tr>\n",
       "      <th>2</th>\n",
       "      <td>2.0</td>\n",
       "      <td>0.841060</td>\n",
       "    </tr>\n",
       "    <tr>\n",
       "      <th>3</th>\n",
       "      <td>3.0</td>\n",
       "      <td>0.838462</td>\n",
       "    </tr>\n",
       "  </tbody>\n",
       "</table>\n",
       "</div>"
      ],
      "text/plain": [
       "   LOANS_WITH_DELAYS  LOAN_WAS_PAID_BACK\n",
       "1                1.0            0.858553\n",
       "0                0.0            0.855522\n",
       "2                2.0            0.841060\n",
       "3                3.0            0.838462"
      ]
     },
     "execution_count": 30,
     "metadata": {},
     "output_type": "execute_result"
    }
   ],
   "source": [
    "df_train[[\"LOANS_WITH_DELAYS\", \"LOAN_WAS_PAID_BACK\"]].groupby(['LOANS_WITH_DELAYS'], as_index=False).mean().sort_values(by=\"LOAN_WAS_PAID_BACK\", ascending=False)"
   ]
  },
  {
   "cell_type": "markdown",
   "id": "4f032ca9-34eb-4762-bcc6-b2223b6434fa",
   "metadata": {},
   "source": [
    "The more loans that are delayed, the more likely they are not to pay loans"
   ]
  },
  {
   "cell_type": "markdown",
   "id": "eb41b79f-f2b3-4e9d-bc0d-e594682fe5ba",
   "metadata": {},
   "source": [
    "#### KNOWN_ASSETS"
   ]
  },
  {
   "cell_type": "code",
   "execution_count": 31,
   "id": "250a5e0d-1bc2-4b5a-b4bb-278924ea8cf9",
   "metadata": {},
   "outputs": [
    {
     "data": {
      "text/html": [
       "<div>\n",
       "<style scoped>\n",
       "    .dataframe tbody tr th:only-of-type {\n",
       "        vertical-align: middle;\n",
       "    }\n",
       "\n",
       "    .dataframe tbody tr th {\n",
       "        vertical-align: top;\n",
       "    }\n",
       "\n",
       "    .dataframe thead th {\n",
       "        text-align: right;\n",
       "    }\n",
       "</style>\n",
       "<table border=\"1\" class=\"dataframe\">\n",
       "  <thead>\n",
       "    <tr style=\"text-align: right;\">\n",
       "      <th></th>\n",
       "      <th>KNOWN_ASSETS</th>\n",
       "      <th>LOAN_WAS_PAID_BACK</th>\n",
       "    </tr>\n",
       "  </thead>\n",
       "  <tbody>\n",
       "    <tr>\n",
       "      <th>4</th>\n",
       "      <td>40000000.0</td>\n",
       "      <td>0.946667</td>\n",
       "    </tr>\n",
       "    <tr>\n",
       "      <th>3</th>\n",
       "      <td>30000000.0</td>\n",
       "      <td>0.946429</td>\n",
       "    </tr>\n",
       "    <tr>\n",
       "      <th>5</th>\n",
       "      <td>50000000.0</td>\n",
       "      <td>0.927928</td>\n",
       "    </tr>\n",
       "    <tr>\n",
       "      <th>1</th>\n",
       "      <td>10000000.0</td>\n",
       "      <td>0.881711</td>\n",
       "    </tr>\n",
       "    <tr>\n",
       "      <th>2</th>\n",
       "      <td>20000000.0</td>\n",
       "      <td>0.881068</td>\n",
       "    </tr>\n",
       "    <tr>\n",
       "      <th>0</th>\n",
       "      <td>0.0</td>\n",
       "      <td>0.849057</td>\n",
       "    </tr>\n",
       "  </tbody>\n",
       "</table>\n",
       "</div>"
      ],
      "text/plain": [
       "   KNOWN_ASSETS  LOAN_WAS_PAID_BACK\n",
       "4    40000000.0            0.946667\n",
       "3    30000000.0            0.946429\n",
       "5    50000000.0            0.927928\n",
       "1    10000000.0            0.881711\n",
       "2    20000000.0            0.881068\n",
       "0           0.0            0.849057"
      ]
     },
     "execution_count": 31,
     "metadata": {},
     "output_type": "execute_result"
    }
   ],
   "source": [
    "df_train[[\"KNOWN_ASSETS\", \"LOAN_WAS_PAID_BACK\"]].groupby(['KNOWN_ASSETS'], as_index=False).mean().sort_values(by=\"LOAN_WAS_PAID_BACK\", ascending=False)"
   ]
  },
  {
   "cell_type": "markdown",
   "id": "e561170b-8df9-4201-b3bc-446316e0a1f2",
   "metadata": {},
   "source": [
    "### 4. Features Engineering and Selection"
   ]
  },
  {
   "cell_type": "code",
   "execution_count": null,
   "id": "efacce1f-e89e-4828-b908-4409a29bf7aa",
   "metadata": {},
   "outputs": [],
   "source": []
  },
  {
   "cell_type": "code",
   "execution_count": null,
   "id": "996e1584-942a-42d7-a287-2fd94efe7d5e",
   "metadata": {},
   "outputs": [],
   "source": []
  },
  {
   "cell_type": "code",
   "execution_count": null,
   "id": "08a786f3-b1ed-4085-bada-eb5a47464f17",
   "metadata": {},
   "outputs": [],
   "source": []
  }
 ],
 "metadata": {
  "kernelspec": {
   "display_name": "Python 3",
   "language": "python",
   "name": "python3"
  },
  "language_info": {
   "codemirror_mode": {
    "name": "ipython",
    "version": 3
   },
   "file_extension": ".py",
   "mimetype": "text/x-python",
   "name": "python",
   "nbconvert_exporter": "python",
   "pygments_lexer": "ipython3",
   "version": "3.8.8"
  }
 },
 "nbformat": 4,
 "nbformat_minor": 5
}
