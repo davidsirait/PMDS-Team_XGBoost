{
 "cells": [
  {
   "cell_type": "markdown",
   "metadata": {},
   "source": [
    "# 1. Problem Statement"
   ]
  },
  {
   "cell_type": "markdown",
   "metadata": {},
   "source": [
    "Credit scoring is an important part of the lending process by bank and financial service company. By accurately scoring a customer according to how likely they are able to pay back their loan, company can have confidence in distributing loans and grow their business. \n",
    "<br>\n",
    "    <br>\n",
    "These datasets that we are going to analyze are part of a technical assessment by one private bank, which record the data of past approved loan customers. The datasets are collections of 3 seperate data : customer information contain the demographic as well as whether they pay back their loan (our target variable), credit bureau data which contain customers past loan application, and an external scoring data. Our goal is therefore to create a model that can accurately predict the probability of a customer paying back their loan, which we will apply to new customer later on. "
   ]
  },
  {
   "cell_type": "markdown",
   "metadata": {},
   "source": [
    "## 2. Import all necessary library "
   ]
  },
  {
   "cell_type": "code",
   "execution_count": 1,
   "metadata": {},
   "outputs": [],
   "source": [
    "import pandas as pd\n",
    "import numpy as np\n",
    "import matplotlib.pyplot as plt\n",
    "import seaborn as sns\n",
    "import warnings\n",
    "warnings.filterwarnings('ignore')\n",
    "\n",
    "\n",
    "from sklearn.model_selection import train_test_split\n",
    "from sklearn.model_selection import train_test_split\n",
    "# from imblearn.under_sampling import RandomUnderSampler\n",
    "from sklearn.preprocessing import OneHotEncoder\n",
    "from sklearn.linear_model import LogisticRegression\n",
    "from sklearn.model_selection import GridSearchCV, RepeatedStratifiedKFold, cross_val_score, RandomizedSearchCV\n",
    "from sklearn.preprocessing import StandardScaler\n",
    "from sklearn.metrics import roc_auc_score, classification_report, confusion_matrix, plot_roc_curve, plot_confusion_matrix\n",
    "from sklearn.ensemble import RandomForestClassifier"
   ]
  },
  {
   "cell_type": "markdown",
   "metadata": {},
   "source": [
    "## 3. Load all data "
   ]
  },
  {
   "cell_type": "code",
   "execution_count": 2,
   "metadata": {},
   "outputs": [
    {
     "data": {
      "text/html": [
       "<div>\n",
       "<style scoped>\n",
       "    .dataframe tbody tr th:only-of-type {\n",
       "        vertical-align: middle;\n",
       "    }\n",
       "\n",
       "    .dataframe tbody tr th {\n",
       "        vertical-align: top;\n",
       "    }\n",
       "\n",
       "    .dataframe thead th {\n",
       "        text-align: right;\n",
       "    }\n",
       "</style>\n",
       "<table border=\"1\" class=\"dataframe\">\n",
       "  <thead>\n",
       "    <tr style=\"text-align: right;\">\n",
       "      <th></th>\n",
       "      <th>customer_id</th>\n",
       "      <th>AGE</th>\n",
       "      <th>INCOME</th>\n",
       "      <th>GENDER</th>\n",
       "      <th>EDUCATION</th>\n",
       "      <th>LOAN_PURPOSE</th>\n",
       "      <th>APPLICATION_RECEIVE_TIME</th>\n",
       "      <th>HAS_APPLIED_BEFORE</th>\n",
       "      <th>HAS_INCOME_VERIFICATION</th>\n",
       "      <th>LOAN_WAS_PAID_BACK</th>\n",
       "    </tr>\n",
       "  </thead>\n",
       "  <tbody>\n",
       "    <tr>\n",
       "      <th>6583</th>\n",
       "      <td>43180</td>\n",
       "      <td>38</td>\n",
       "      <td>11000000.0</td>\n",
       "      <td>Female</td>\n",
       "      <td>Bachelor Degree</td>\n",
       "      <td>Working Capital</td>\n",
       "      <td>10:54:00</td>\n",
       "      <td>No</td>\n",
       "      <td>Yes</td>\n",
       "      <td>1</td>\n",
       "    </tr>\n",
       "    <tr>\n",
       "      <th>6584</th>\n",
       "      <td>43181</td>\n",
       "      <td>37</td>\n",
       "      <td>30000000.0</td>\n",
       "      <td>Female</td>\n",
       "      <td>Bachelor Degree</td>\n",
       "      <td>Education</td>\n",
       "      <td>07:04:00</td>\n",
       "      <td>No</td>\n",
       "      <td>Yes</td>\n",
       "      <td>1</td>\n",
       "    </tr>\n",
       "    <tr>\n",
       "      <th>6585</th>\n",
       "      <td>43182</td>\n",
       "      <td>50</td>\n",
       "      <td>16000000.0</td>\n",
       "      <td>Female</td>\n",
       "      <td>Master's Degree/Post graduate</td>\n",
       "      <td>Renovation</td>\n",
       "      <td>10:47:00</td>\n",
       "      <td>No</td>\n",
       "      <td>Yes</td>\n",
       "      <td>1</td>\n",
       "    </tr>\n",
       "    <tr>\n",
       "      <th>6586</th>\n",
       "      <td>43184</td>\n",
       "      <td>36</td>\n",
       "      <td>5000000.0</td>\n",
       "      <td>Male</td>\n",
       "      <td>Bachelor Degree</td>\n",
       "      <td>Other</td>\n",
       "      <td>15:49:00</td>\n",
       "      <td>No</td>\n",
       "      <td>Yes</td>\n",
       "      <td>1</td>\n",
       "    </tr>\n",
       "    <tr>\n",
       "      <th>6587</th>\n",
       "      <td>43185</td>\n",
       "      <td>37</td>\n",
       "      <td>40000000.0</td>\n",
       "      <td>Male</td>\n",
       "      <td>Bachelor Degree</td>\n",
       "      <td>Electronic unsecured loan</td>\n",
       "      <td>11:48:00</td>\n",
       "      <td>Yes</td>\n",
       "      <td>Yes</td>\n",
       "      <td>1</td>\n",
       "    </tr>\n",
       "  </tbody>\n",
       "</table>\n",
       "</div>"
      ],
      "text/plain": [
       "      customer_id  AGE      INCOME  GENDER                      EDUCATION  \\\n",
       "6583        43180   38  11000000.0  Female                Bachelor Degree   \n",
       "6584        43181   37  30000000.0  Female                Bachelor Degree   \n",
       "6585        43182   50  16000000.0  Female  Master's Degree/Post graduate   \n",
       "6586        43184   36   5000000.0    Male                Bachelor Degree   \n",
       "6587        43185   37  40000000.0    Male                Bachelor Degree   \n",
       "\n",
       "                   LOAN_PURPOSE APPLICATION_RECEIVE_TIME HAS_APPLIED_BEFORE  \\\n",
       "6583            Working Capital                 10:54:00                 No   \n",
       "6584                  Education                 07:04:00                 No   \n",
       "6585                 Renovation                 10:47:00                 No   \n",
       "6586                      Other                 15:49:00                 No   \n",
       "6587  Electronic unsecured loan                 11:48:00                Yes   \n",
       "\n",
       "     HAS_INCOME_VERIFICATION  LOAN_WAS_PAID_BACK  \n",
       "6583                     Yes                   1  \n",
       "6584                     Yes                   1  \n",
       "6585                     Yes                   1  \n",
       "6586                     Yes                   1  \n",
       "6587                     Yes                   1  "
      ]
     },
     "execution_count": 2,
     "metadata": {},
     "output_type": "execute_result"
    }
   ],
   "source": [
    "master = pd.read_csv(\"data/Customer_Information.csv\")\n",
    "master.tail()"
   ]
  },
  {
   "cell_type": "code",
   "execution_count": 3,
   "metadata": {},
   "outputs": [
    {
     "data": {
      "text/html": [
       "<div>\n",
       "<style scoped>\n",
       "    .dataframe tbody tr th:only-of-type {\n",
       "        vertical-align: middle;\n",
       "    }\n",
       "\n",
       "    .dataframe tbody tr th {\n",
       "        vertical-align: top;\n",
       "    }\n",
       "\n",
       "    .dataframe thead th {\n",
       "        text-align: right;\n",
       "    }\n",
       "</style>\n",
       "<table border=\"1\" class=\"dataframe\">\n",
       "  <thead>\n",
       "    <tr style=\"text-align: right;\">\n",
       "      <th></th>\n",
       "      <th>customer_id</th>\n",
       "      <th>LOANS_WITHOUT_DELAYS</th>\n",
       "      <th>LOANS_WITH_DELAYS</th>\n",
       "      <th>KNOWN_ASSETS</th>\n",
       "    </tr>\n",
       "  </thead>\n",
       "  <tbody>\n",
       "    <tr>\n",
       "      <th>0</th>\n",
       "      <td>36493</td>\n",
       "      <td>3</td>\n",
       "      <td>3</td>\n",
       "      <td>40000000.0</td>\n",
       "    </tr>\n",
       "    <tr>\n",
       "      <th>1</th>\n",
       "      <td>36494</td>\n",
       "      <td>3</td>\n",
       "      <td>0</td>\n",
       "      <td>20000000.0</td>\n",
       "    </tr>\n",
       "    <tr>\n",
       "      <th>2</th>\n",
       "      <td>36496</td>\n",
       "      <td>2</td>\n",
       "      <td>1</td>\n",
       "      <td>0.0</td>\n",
       "    </tr>\n",
       "    <tr>\n",
       "      <th>3</th>\n",
       "      <td>36497</td>\n",
       "      <td>1</td>\n",
       "      <td>0</td>\n",
       "      <td>40000000.0</td>\n",
       "    </tr>\n",
       "    <tr>\n",
       "      <th>4</th>\n",
       "      <td>36498</td>\n",
       "      <td>7</td>\n",
       "      <td>0</td>\n",
       "      <td>NaN</td>\n",
       "    </tr>\n",
       "  </tbody>\n",
       "</table>\n",
       "</div>"
      ],
      "text/plain": [
       "   customer_id  LOANS_WITHOUT_DELAYS  LOANS_WITH_DELAYS  KNOWN_ASSETS\n",
       "0        36493                     3                  3    40000000.0\n",
       "1        36494                     3                  0    20000000.0\n",
       "2        36496                     2                  1           0.0\n",
       "3        36497                     1                  0    40000000.0\n",
       "4        36498                     7                  0           NaN"
      ]
     },
     "execution_count": 3,
     "metadata": {},
     "output_type": "execute_result"
    }
   ],
   "source": [
    "bureau = pd.read_csv(\"data/Credit_Bureau_Data.csv\")\n",
    "bureau.head()"
   ]
  },
  {
   "cell_type": "code",
   "execution_count": 4,
   "metadata": {},
   "outputs": [
    {
     "data": {
      "text/html": [
       "<div>\n",
       "<style scoped>\n",
       "    .dataframe tbody tr th:only-of-type {\n",
       "        vertical-align: middle;\n",
       "    }\n",
       "\n",
       "    .dataframe tbody tr th {\n",
       "        vertical-align: top;\n",
       "    }\n",
       "\n",
       "    .dataframe thead th {\n",
       "        text-align: right;\n",
       "    }\n",
       "</style>\n",
       "<table border=\"1\" class=\"dataframe\">\n",
       "  <thead>\n",
       "    <tr style=\"text-align: right;\">\n",
       "      <th></th>\n",
       "      <th>customer_id</th>\n",
       "      <th>Score</th>\n",
       "    </tr>\n",
       "  </thead>\n",
       "  <tbody>\n",
       "    <tr>\n",
       "      <th>0</th>\n",
       "      <td>36493</td>\n",
       "      <td>0.77</td>\n",
       "    </tr>\n",
       "    <tr>\n",
       "      <th>1</th>\n",
       "      <td>36494</td>\n",
       "      <td>0.93</td>\n",
       "    </tr>\n",
       "    <tr>\n",
       "      <th>2</th>\n",
       "      <td>36496</td>\n",
       "      <td>0.78</td>\n",
       "    </tr>\n",
       "    <tr>\n",
       "      <th>3</th>\n",
       "      <td>36497</td>\n",
       "      <td>0.81</td>\n",
       "    </tr>\n",
       "    <tr>\n",
       "      <th>4</th>\n",
       "      <td>36498</td>\n",
       "      <td>0.78</td>\n",
       "    </tr>\n",
       "  </tbody>\n",
       "</table>\n",
       "</div>"
      ],
      "text/plain": [
       "   customer_id  Score\n",
       "0        36493   0.77\n",
       "1        36494   0.93\n",
       "2        36496   0.78\n",
       "3        36497   0.81\n",
       "4        36498   0.78"
      ]
     },
     "execution_count": 4,
     "metadata": {},
     "output_type": "execute_result"
    }
   ],
   "source": [
    "external = pd.read_csv(\"data/External_Score.csv\")\n",
    "external.head()"
   ]
  },
  {
   "cell_type": "markdown",
   "metadata": {},
   "source": [
    "## 4. Train-test-validation split"
   ]
  },
  {
   "cell_type": "markdown",
   "metadata": {},
   "source": [
    "We are going to do splitting and do all of our analysis on the training dataset only. But first we will combine all 3 datasets into one big dataset"
   ]
  },
  {
   "cell_type": "code",
   "execution_count": 5,
   "metadata": {},
   "outputs": [
    {
     "data": {
      "text/html": [
       "<div>\n",
       "<style scoped>\n",
       "    .dataframe tbody tr th:only-of-type {\n",
       "        vertical-align: middle;\n",
       "    }\n",
       "\n",
       "    .dataframe tbody tr th {\n",
       "        vertical-align: top;\n",
       "    }\n",
       "\n",
       "    .dataframe thead th {\n",
       "        text-align: right;\n",
       "    }\n",
       "</style>\n",
       "<table border=\"1\" class=\"dataframe\">\n",
       "  <thead>\n",
       "    <tr style=\"text-align: right;\">\n",
       "      <th></th>\n",
       "      <th>customer_id</th>\n",
       "      <th>AGE</th>\n",
       "      <th>INCOME</th>\n",
       "      <th>GENDER</th>\n",
       "      <th>EDUCATION</th>\n",
       "      <th>LOAN_PURPOSE</th>\n",
       "      <th>APPLICATION_RECEIVE_TIME</th>\n",
       "      <th>HAS_APPLIED_BEFORE</th>\n",
       "      <th>HAS_INCOME_VERIFICATION</th>\n",
       "      <th>LOAN_WAS_PAID_BACK</th>\n",
       "      <th>LOANS_WITHOUT_DELAYS</th>\n",
       "      <th>LOANS_WITH_DELAYS</th>\n",
       "      <th>KNOWN_ASSETS</th>\n",
       "      <th>Score</th>\n",
       "    </tr>\n",
       "  </thead>\n",
       "  <tbody>\n",
       "    <tr>\n",
       "      <th>0</th>\n",
       "      <td>36493</td>\n",
       "      <td>40</td>\n",
       "      <td>10000000.0</td>\n",
       "      <td>Female</td>\n",
       "      <td>Diploma</td>\n",
       "      <td>Working Capital</td>\n",
       "      <td>09:07:00</td>\n",
       "      <td>No</td>\n",
       "      <td>Yes</td>\n",
       "      <td>1</td>\n",
       "      <td>3.0</td>\n",
       "      <td>3.0</td>\n",
       "      <td>40000000.0</td>\n",
       "      <td>0.77</td>\n",
       "    </tr>\n",
       "    <tr>\n",
       "      <th>1</th>\n",
       "      <td>36494</td>\n",
       "      <td>39</td>\n",
       "      <td>15000000.0</td>\n",
       "      <td>Female</td>\n",
       "      <td>Bachelor Degree</td>\n",
       "      <td>Other</td>\n",
       "      <td>15:15:00</td>\n",
       "      <td>No</td>\n",
       "      <td>Yes</td>\n",
       "      <td>1</td>\n",
       "      <td>3.0</td>\n",
       "      <td>0.0</td>\n",
       "      <td>20000000.0</td>\n",
       "      <td>0.93</td>\n",
       "    </tr>\n",
       "    <tr>\n",
       "      <th>2</th>\n",
       "      <td>36495</td>\n",
       "      <td>28</td>\n",
       "      <td>15000000.0</td>\n",
       "      <td>Male</td>\n",
       "      <td>Bachelor Degree</td>\n",
       "      <td>Renovation</td>\n",
       "      <td>07:13:00</td>\n",
       "      <td>No</td>\n",
       "      <td>Yes</td>\n",
       "      <td>1</td>\n",
       "      <td>NaN</td>\n",
       "      <td>NaN</td>\n",
       "      <td>NaN</td>\n",
       "      <td>NaN</td>\n",
       "    </tr>\n",
       "    <tr>\n",
       "      <th>3</th>\n",
       "      <td>36496</td>\n",
       "      <td>28</td>\n",
       "      <td>4000000.0</td>\n",
       "      <td>Male</td>\n",
       "      <td>Bachelor Degree</td>\n",
       "      <td>Renovation</td>\n",
       "      <td>12:05:00</td>\n",
       "      <td>Yes</td>\n",
       "      <td>Yes</td>\n",
       "      <td>1</td>\n",
       "      <td>2.0</td>\n",
       "      <td>1.0</td>\n",
       "      <td>0.0</td>\n",
       "      <td>0.78</td>\n",
       "    </tr>\n",
       "    <tr>\n",
       "      <th>4</th>\n",
       "      <td>36497</td>\n",
       "      <td>38</td>\n",
       "      <td>10000000.0</td>\n",
       "      <td>Male</td>\n",
       "      <td>Diploma</td>\n",
       "      <td>Renovation</td>\n",
       "      <td>14:35:00</td>\n",
       "      <td>Yes</td>\n",
       "      <td>Yes</td>\n",
       "      <td>0</td>\n",
       "      <td>1.0</td>\n",
       "      <td>0.0</td>\n",
       "      <td>40000000.0</td>\n",
       "      <td>0.81</td>\n",
       "    </tr>\n",
       "  </tbody>\n",
       "</table>\n",
       "</div>"
      ],
      "text/plain": [
       "   customer_id  AGE      INCOME  GENDER        EDUCATION     LOAN_PURPOSE  \\\n",
       "0        36493   40  10000000.0  Female          Diploma  Working Capital   \n",
       "1        36494   39  15000000.0  Female  Bachelor Degree            Other   \n",
       "2        36495   28  15000000.0    Male  Bachelor Degree       Renovation   \n",
       "3        36496   28   4000000.0    Male  Bachelor Degree       Renovation   \n",
       "4        36497   38  10000000.0    Male          Diploma       Renovation   \n",
       "\n",
       "  APPLICATION_RECEIVE_TIME HAS_APPLIED_BEFORE HAS_INCOME_VERIFICATION  \\\n",
       "0                 09:07:00                 No                     Yes   \n",
       "1                 15:15:00                 No                     Yes   \n",
       "2                 07:13:00                 No                     Yes   \n",
       "3                 12:05:00                Yes                     Yes   \n",
       "4                 14:35:00                Yes                     Yes   \n",
       "\n",
       "   LOAN_WAS_PAID_BACK  LOANS_WITHOUT_DELAYS  LOANS_WITH_DELAYS  KNOWN_ASSETS  \\\n",
       "0                   1                   3.0                3.0    40000000.0   \n",
       "1                   1                   3.0                0.0    20000000.0   \n",
       "2                   1                   NaN                NaN           NaN   \n",
       "3                   1                   2.0                1.0           0.0   \n",
       "4                   0                   1.0                0.0    40000000.0   \n",
       "\n",
       "   Score  \n",
       "0   0.77  \n",
       "1   0.93  \n",
       "2    NaN  \n",
       "3   0.78  \n",
       "4   0.81  "
      ]
     },
     "execution_count": 5,
     "metadata": {},
     "output_type": "execute_result"
    }
   ],
   "source": [
    "# merge master and bureau and external data\n",
    "df = pd.merge(master, bureau, on='customer_id', how='left')\n",
    "df = pd.merge(df, external, on='customer_id', how='left')\n",
    "df.head()"
   ]
  },
  {
   "cell_type": "markdown",
   "metadata": {},
   "source": [
    "Then we are splitting into train and test. We will use 70 - 30 split for initial train - holdout(test) data split, and the same proportion for splitting intial train to train - validation dataset.\n",
    "We are going to utilize codes in live classes to make the transformation job easier"
   ]
  },
  {
   "cell_type": "code",
   "execution_count": 6,
   "metadata": {},
   "outputs": [],
   "source": [
    "import joblib\n",
    "\n",
    "def split_input_output(dataset,\n",
    "                       target_column,\n",
    "                       save_file = True,\n",
    "                       return_file = True):\n",
    "    \n",
    "    output_df = dataset[target_column]\n",
    "    input_df = dataset.drop([target_column],\n",
    "                            axis = 1)\n",
    "    \n",
    "    if save_file:\n",
    "        joblib.dump(output_df, \"output/output_df.pkl\")\n",
    "        joblib.dump(input_df, \"output/input_df.pkl\")\n",
    "    \n",
    "    if return_file:\n",
    "        return output_df, input_df\n",
    "\n",
    "\n",
    "def split_train_test(x, y, TEST_SIZE):\n",
    "    # Do not forget to stratify if classification\n",
    "    x_train, x_test,\\\n",
    "        y_train, y_test = train_test_split(x,\n",
    "                                           y,\n",
    "                                           test_size=TEST_SIZE,\n",
    "                                           random_state=123,\n",
    "                                          stratify=y)\n",
    "\n",
    "    return x_train, x_test, y_train, y_test\n",
    "\n",
    "def split_data(data_input, data_ouput, return_file=False, TEST_SIZE=0.2):\n",
    "\n",
    "    x_train, x_test, \\\n",
    "        y_train, y_test = split_train_test(\n",
    "            data_input,\n",
    "            data_ouput,\n",
    "            TEST_SIZE)\n",
    "\n",
    "    x_train, x_valid, \\\n",
    "        y_train, y_valid = split_train_test(\n",
    "            x_train,\n",
    "            y_train,\n",
    "            TEST_SIZE)\n",
    "\n",
    "    joblib.dump(x_train, \"output/x_train.pkl\")\n",
    "    joblib.dump(y_train, \"output/y_train.pkl\")\n",
    "    joblib.dump(x_valid, \"output/x_valid.pkl\")\n",
    "    joblib.dump(y_valid, \"output/y_valid.pkl\")\n",
    "    joblib.dump(x_test, \"output/x_test.pkl\")\n",
    "    joblib.dump(y_test, \"output/y_test.pkl\")\n",
    "\n",
    "    if return_file:\n",
    "        return x_train, y_train, \\\n",
    "            x_valid, y_valid, \\\n",
    "            x_test, y_test"
   ]
  },
  {
   "cell_type": "code",
   "execution_count": 7,
   "metadata": {},
   "outputs": [],
   "source": [
    "# do the splitting\n",
    "TARGET = \"LOAN_WAS_PAID_BACK\"\n",
    "TEST_SIZE = 0.3\n",
    "\n",
    "output_df, input_df = split_input_output(\n",
    "                            df,\n",
    "                            TARGET, save_file = False)\n",
    "\n",
    "x_train, y_train, x_valid, y_valid, x_test, y_test = split_data(input_df,\n",
    "                                                                    output_df,\n",
    "                                                                   True,\n",
    "                                                                   TEST_SIZE)"
   ]
  },
  {
   "cell_type": "code",
   "execution_count": 8,
   "metadata": {},
   "outputs": [
    {
     "name": "stdout",
     "output_type": "stream",
     "text": [
      "1    0.853734\n",
      "0    0.146266\n",
      "Name: LOAN_WAS_PAID_BACK, dtype: float64\n",
      "-------------------------------------\n",
      "1    0.854046\n",
      "0    0.145954\n",
      "Name: LOAN_WAS_PAID_BACK, dtype: float64\n",
      "-------------------------------------\n",
      "1    0.853819\n",
      "0    0.146181\n",
      "Name: LOAN_WAS_PAID_BACK, dtype: float64\n"
     ]
    }
   ],
   "source": [
    "# check if stratify is correct\n",
    "print(y_train.value_counts(normalize = True))\n",
    "print(\"-------------------------------------\")\n",
    "print(y_valid.value_counts(normalize = True))\n",
    "print(\"-------------------------------------\")\n",
    "print(y_test.value_counts(normalize = True))"
   ]
  },
  {
   "cell_type": "markdown",
   "metadata": {},
   "source": [
    "We can see that we manage to split the target variable with the same proportion accross all dataset"
   ]
  },
  {
   "cell_type": "markdown",
   "metadata": {},
   "source": [
    "## 5. Initial Data Exploration"
   ]
  },
  {
   "cell_type": "markdown",
   "metadata": {},
   "source": [
    "For this initial exploration we are going to combine x_train and y_train into a single dataframe, to know how each feature corelate with the target variable"
   ]
  },
  {
   "cell_type": "code",
   "execution_count": 9,
   "metadata": {},
   "outputs": [
    {
     "data": {
      "text/plain": [
       "array(['customer_id', 'AGE', 'INCOME', 'GENDER', 'EDUCATION',\n",
       "       'LOAN_PURPOSE', 'APPLICATION_RECEIVE_TIME', 'HAS_APPLIED_BEFORE',\n",
       "       'HAS_INCOME_VERIFICATION', 'LOANS_WITHOUT_DELAYS',\n",
       "       'LOANS_WITH_DELAYS', 'KNOWN_ASSETS', 'Score', 'LOAN_WAS_PAID_BACK'],\n",
       "      dtype=object)"
      ]
     },
     "execution_count": 9,
     "metadata": {},
     "output_type": "execute_result"
    }
   ],
   "source": [
    "# combine x_train and y_train\n",
    "df = pd.concat([x_train, pd.DataFrame(y_train)], axis = 1)\n",
    "\n",
    "# check initial features\n",
    "df.columns.values"
   ]
  },
  {
   "cell_type": "markdown",
   "metadata": {},
   "source": [
    "Initial features explanation :\n",
    " - customer_id : unique identification number for each customer\n",
    " - age : customer's age\n",
    " - income : customer's monthly income in rupiah \n",
    " - gender : customer's gender (male/female)\n",
    " - education : customer's last education level \n",
    " - loan_purpose : why the customer apply for a loan\n",
    " - application_receive_time : the time (HH:MM:SS) of when the system receive customer's application\n",
    " - has_applied_before : binary feature which show whether customer's has previously submit an application (1) before the current on, regardless of being approved or not\n",
    " - has_income_verification : has customer provide additional data such as payslip or bank statement to get their income verified\n",
    " - loans_without_delays : count of all the customer's previous loan which has never been late in installment payments\n",
    " - loans_with_delays : count of all the customer's previous loan which has late installment payments\n",
    " - known_assets : amount of declared assets by customer (in rupiah)\n",
    " - score : external scoring done by third party "
   ]
  },
  {
   "cell_type": "markdown",
   "metadata": {},
   "source": [
    "### 5.a. Comments on score feature\n",
    "\n",
    "As it happen, score is an external, third party feature that quite possibly will introduce bias to the data. Since it is supposedly done after the loan was submitted and passed through to the 3rd party, therefore at application time the information will simply unavailable. "
   ]
  },
  {
   "cell_type": "code",
   "execution_count": 10,
   "metadata": {},
   "outputs": [
    {
     "name": "stdout",
     "output_type": "stream",
     "text": [
      "<class 'pandas.core.frame.DataFrame'>\n",
      "Int64Index: 3227 entries, 1749 to 1395\n",
      "Data columns (total 14 columns):\n",
      " #   Column                    Non-Null Count  Dtype  \n",
      "---  ------                    --------------  -----  \n",
      " 0   customer_id               3227 non-null   int64  \n",
      " 1   AGE                       3227 non-null   int64  \n",
      " 2   INCOME                    3226 non-null   float64\n",
      " 3   GENDER                    3227 non-null   object \n",
      " 4   EDUCATION                 3227 non-null   object \n",
      " 5   LOAN_PURPOSE              3202 non-null   object \n",
      " 6   APPLICATION_RECEIVE_TIME  3227 non-null   object \n",
      " 7   HAS_APPLIED_BEFORE        3227 non-null   object \n",
      " 8   HAS_INCOME_VERIFICATION   3227 non-null   object \n",
      " 9   LOANS_WITHOUT_DELAYS      2601 non-null   float64\n",
      " 10  LOANS_WITH_DELAYS         2601 non-null   float64\n",
      " 11  KNOWN_ASSETS              1918 non-null   float64\n",
      " 12  Score                     2298 non-null   float64\n",
      " 13  LOAN_WAS_PAID_BACK        3227 non-null   int64  \n",
      "dtypes: float64(5), int64(3), object(6)\n",
      "memory usage: 378.2+ KB\n"
     ]
    }
   ],
   "source": [
    "# checking data types\n",
    "df.info()"
   ]
  },
  {
   "cell_type": "code",
   "execution_count": 11,
   "metadata": {},
   "outputs": [
    {
     "data": {
      "text/html": [
       "<div>\n",
       "<style scoped>\n",
       "    .dataframe tbody tr th:only-of-type {\n",
       "        vertical-align: middle;\n",
       "    }\n",
       "\n",
       "    .dataframe tbody tr th {\n",
       "        vertical-align: top;\n",
       "    }\n",
       "\n",
       "    .dataframe thead th {\n",
       "        text-align: right;\n",
       "    }\n",
       "</style>\n",
       "<table border=\"1\" class=\"dataframe\">\n",
       "  <thead>\n",
       "    <tr style=\"text-align: right;\">\n",
       "      <th></th>\n",
       "      <th>customer_id</th>\n",
       "      <th>AGE</th>\n",
       "      <th>INCOME</th>\n",
       "      <th>LOANS_WITHOUT_DELAYS</th>\n",
       "      <th>LOANS_WITH_DELAYS</th>\n",
       "      <th>KNOWN_ASSETS</th>\n",
       "      <th>Score</th>\n",
       "      <th>LOAN_WAS_PAID_BACK</th>\n",
       "    </tr>\n",
       "  </thead>\n",
       "  <tbody>\n",
       "    <tr>\n",
       "      <th>count</th>\n",
       "      <td>3227.000000</td>\n",
       "      <td>3227.000000</td>\n",
       "      <td>3.226000e+03</td>\n",
       "      <td>2601.000000</td>\n",
       "      <td>2601.00000</td>\n",
       "      <td>1.918000e+03</td>\n",
       "      <td>2298.000000</td>\n",
       "      <td>3227.000000</td>\n",
       "    </tr>\n",
       "    <tr>\n",
       "      <th>mean</th>\n",
       "      <td>39818.245739</td>\n",
       "      <td>34.391075</td>\n",
       "      <td>8.022319e+06</td>\n",
       "      <td>1.629758</td>\n",
       "      <td>0.39331</td>\n",
       "      <td>1.274765e+07</td>\n",
       "      <td>0.786749</td>\n",
       "      <td>0.853734</td>\n",
       "    </tr>\n",
       "    <tr>\n",
       "      <th>std</th>\n",
       "      <td>1924.671777</td>\n",
       "      <td>7.788081</td>\n",
       "      <td>6.526235e+06</td>\n",
       "      <td>0.811091</td>\n",
       "      <td>0.86350</td>\n",
       "      <td>1.280282e+07</td>\n",
       "      <td>0.083135</td>\n",
       "      <td>0.353427</td>\n",
       "    </tr>\n",
       "    <tr>\n",
       "      <th>min</th>\n",
       "      <td>36497.000000</td>\n",
       "      <td>20.000000</td>\n",
       "      <td>0.000000e+00</td>\n",
       "      <td>1.000000</td>\n",
       "      <td>0.00000</td>\n",
       "      <td>0.000000e+00</td>\n",
       "      <td>0.500000</td>\n",
       "      <td>0.000000</td>\n",
       "    </tr>\n",
       "    <tr>\n",
       "      <th>25%</th>\n",
       "      <td>38147.000000</td>\n",
       "      <td>28.000000</td>\n",
       "      <td>4.000000e+06</td>\n",
       "      <td>1.000000</td>\n",
       "      <td>0.00000</td>\n",
       "      <td>0.000000e+00</td>\n",
       "      <td>0.760000</td>\n",
       "      <td>1.000000</td>\n",
       "    </tr>\n",
       "    <tr>\n",
       "      <th>50%</th>\n",
       "      <td>39791.000000</td>\n",
       "      <td>33.000000</td>\n",
       "      <td>6.000000e+06</td>\n",
       "      <td>1.000000</td>\n",
       "      <td>0.00000</td>\n",
       "      <td>1.000000e+07</td>\n",
       "      <td>0.790000</td>\n",
       "      <td>1.000000</td>\n",
       "    </tr>\n",
       "    <tr>\n",
       "      <th>75%</th>\n",
       "      <td>41471.500000</td>\n",
       "      <td>40.000000</td>\n",
       "      <td>9.000000e+06</td>\n",
       "      <td>2.000000</td>\n",
       "      <td>0.00000</td>\n",
       "      <td>2.000000e+07</td>\n",
       "      <td>0.850000</td>\n",
       "      <td>1.000000</td>\n",
       "    </tr>\n",
       "    <tr>\n",
       "      <th>max</th>\n",
       "      <td>43185.000000</td>\n",
       "      <td>54.000000</td>\n",
       "      <td>7.000000e+07</td>\n",
       "      <td>6.000000</td>\n",
       "      <td>3.00000</td>\n",
       "      <td>5.000000e+07</td>\n",
       "      <td>0.950000</td>\n",
       "      <td>1.000000</td>\n",
       "    </tr>\n",
       "  </tbody>\n",
       "</table>\n",
       "</div>"
      ],
      "text/plain": [
       "        customer_id          AGE        INCOME  LOANS_WITHOUT_DELAYS  \\\n",
       "count   3227.000000  3227.000000  3.226000e+03           2601.000000   \n",
       "mean   39818.245739    34.391075  8.022319e+06              1.629758   \n",
       "std     1924.671777     7.788081  6.526235e+06              0.811091   \n",
       "min    36497.000000    20.000000  0.000000e+00              1.000000   \n",
       "25%    38147.000000    28.000000  4.000000e+06              1.000000   \n",
       "50%    39791.000000    33.000000  6.000000e+06              1.000000   \n",
       "75%    41471.500000    40.000000  9.000000e+06              2.000000   \n",
       "max    43185.000000    54.000000  7.000000e+07              6.000000   \n",
       "\n",
       "       LOANS_WITH_DELAYS  KNOWN_ASSETS        Score  LOAN_WAS_PAID_BACK  \n",
       "count         2601.00000  1.918000e+03  2298.000000         3227.000000  \n",
       "mean             0.39331  1.274765e+07     0.786749            0.853734  \n",
       "std              0.86350  1.280282e+07     0.083135            0.353427  \n",
       "min              0.00000  0.000000e+00     0.500000            0.000000  \n",
       "25%              0.00000  0.000000e+00     0.760000            1.000000  \n",
       "50%              0.00000  1.000000e+07     0.790000            1.000000  \n",
       "75%              0.00000  2.000000e+07     0.850000            1.000000  \n",
       "max              3.00000  5.000000e+07     0.950000            1.000000  "
      ]
     },
     "execution_count": 11,
     "metadata": {},
     "output_type": "execute_result"
    }
   ],
   "source": [
    "# check numerical features distribution\n",
    "df.describe()"
   ]
  },
  {
   "cell_type": "markdown",
   "metadata": {},
   "source": [
    "### 5.b. Notes on numerical data\n",
    "- There are 3277 data out of 6587 total customers (~50%) in the training data\n",
    "- Youngest applicant is at 20 years old, with oldest customer is at 54 years old, average age is around 34 years old. Side note : all loan applicants are required to have KTP as a mandatory documents, meaning that the legal minimum age of applying for a loan is 17 in Indonesia. However, since most people age 17 - 20 are in majority still studying and does not have any income, it is plausible that applicants on that age group are being denied a loan, hence the minimum age in the data. It is also common practice for banks or lending fintech to impose age requirements of 18 - 55, which might be the case in hand\n",
    "- customer id only act as identifier even though it classified as numerical feature\n",
    "- There are customers who input income as 0, which might be because of a typo or they don't have an income source.\n",
    "- Loans with / without delays are bureau data, and they only cover about 80% of the total training data. This is possibly because the remaining customer are first time applicant and don't have their bureau data available, or possibly some error in fetching the bureau data\n",
    "- Most customer  (>75%) no loans with delays in installment payment. \n",
    "- Only about 60% of the customer in the sample has disclosed their known_assets information, and more than 1/4 of them listed 0 \n",
    "- Only one missing value in INCOME variable, which we may drop"
   ]
  },
  {
   "cell_type": "code",
   "execution_count": 12,
   "metadata": {},
   "outputs": [
    {
     "data": {
      "text/html": [
       "<div>\n",
       "<style scoped>\n",
       "    .dataframe tbody tr th:only-of-type {\n",
       "        vertical-align: middle;\n",
       "    }\n",
       "\n",
       "    .dataframe tbody tr th {\n",
       "        vertical-align: top;\n",
       "    }\n",
       "\n",
       "    .dataframe thead th {\n",
       "        text-align: right;\n",
       "    }\n",
       "</style>\n",
       "<table border=\"1\" class=\"dataframe\">\n",
       "  <thead>\n",
       "    <tr style=\"text-align: right;\">\n",
       "      <th></th>\n",
       "      <th>GENDER</th>\n",
       "      <th>EDUCATION</th>\n",
       "      <th>LOAN_PURPOSE</th>\n",
       "      <th>APPLICATION_RECEIVE_TIME</th>\n",
       "      <th>HAS_APPLIED_BEFORE</th>\n",
       "      <th>HAS_INCOME_VERIFICATION</th>\n",
       "    </tr>\n",
       "  </thead>\n",
       "  <tbody>\n",
       "    <tr>\n",
       "      <th>count</th>\n",
       "      <td>3227</td>\n",
       "      <td>3227</td>\n",
       "      <td>3202</td>\n",
       "      <td>3227</td>\n",
       "      <td>3227</td>\n",
       "      <td>3227</td>\n",
       "    </tr>\n",
       "    <tr>\n",
       "      <th>unique</th>\n",
       "      <td>2</td>\n",
       "      <td>5</td>\n",
       "      <td>12</td>\n",
       "      <td>1096</td>\n",
       "      <td>2</td>\n",
       "      <td>2</td>\n",
       "    </tr>\n",
       "    <tr>\n",
       "      <th>top</th>\n",
       "      <td>Male</td>\n",
       "      <td>Bachelor Degree</td>\n",
       "      <td>Working Capital</td>\n",
       "      <td>09:50:00</td>\n",
       "      <td>No</td>\n",
       "      <td>Yes</td>\n",
       "    </tr>\n",
       "    <tr>\n",
       "      <th>freq</th>\n",
       "      <td>1727</td>\n",
       "      <td>1689</td>\n",
       "      <td>994</td>\n",
       "      <td>11</td>\n",
       "      <td>2062</td>\n",
       "      <td>3158</td>\n",
       "    </tr>\n",
       "  </tbody>\n",
       "</table>\n",
       "</div>"
      ],
      "text/plain": [
       "       GENDER        EDUCATION     LOAN_PURPOSE APPLICATION_RECEIVE_TIME  \\\n",
       "count    3227             3227             3202                     3227   \n",
       "unique      2                5               12                     1096   \n",
       "top      Male  Bachelor Degree  Working Capital                 09:50:00   \n",
       "freq     1727             1689              994                       11   \n",
       "\n",
       "       HAS_APPLIED_BEFORE HAS_INCOME_VERIFICATION  \n",
       "count                3227                    3227  \n",
       "unique                  2                       2  \n",
       "top                    No                     Yes  \n",
       "freq                 2062                    3158  "
      ]
     },
     "execution_count": 12,
     "metadata": {},
     "output_type": "execute_result"
    }
   ],
   "source": [
    "# check on categorical features\n",
    "df.describe(include=['O'])"
   ]
  },
  {
   "cell_type": "markdown",
   "metadata": {},
   "source": [
    "### 5.c. Notes on Categorical data\n",
    "- Most feature does not have missing data, other than LOAN_PURPOSE which contains 25 rows of missing data\n",
    "- Application receive time is varying between each customer and only serve as timestamp\n",
    "- most applicant (52%) hold a bachelor's degree\n",
    "- almost 1/3 (31%) of the customer apply for a Working Capital loan\n",
    "- Almost all of the customer in the sample have had their income verified "
   ]
  },
  {
   "cell_type": "markdown",
   "metadata": {},
   "source": [
    "## 6. Feature Engineering "
   ]
  },
  {
   "cell_type": "markdown",
   "metadata": {},
   "source": [
    "Based on all the data we have so far, we are going list some assumptions that might be helpful in selecting and engineering features for the model "
   ]
  },
  {
   "cell_type": "markdown",
   "metadata": {},
   "source": [
    "\n",
    "**Correlating.**\n",
    "\n",
    "We want to know how each feature corellate with our target variable, and is there some pattern in there that might be beneficial later on during the modelling phase\n",
    "\n",
    "**Completing.**\n",
    "\n",
    "1. For LOAN_PURPOSE we are going to drop the rows with missing value\n",
    "2. We may also want to drop row with missing INCOME feature, as per usual business procedure income data is mandatory for both risk policy and credit scoring\n",
    "\n",
    "**Correcting.**\n",
    "\n",
    "1. customer_id can be dropped as it only serve as identifier for each customer\n",
    "2. APPLICATION_RECEIVE_TIME may also be dropped as it only serve as timestamp for the application\n",
    "3. KNOWN_ASSETS is mostly incomplete and possibly biased, therefore may be dropped\n",
    "4. As mentioned earlier, score feature might introduce bias into our data and may be dropped.\n",
    "\n",
    "**Creating.**\n",
    "\n",
    "1. We may want to create new feature for Age bands. This turns a continous numerical feature into an ordinal categorical feature.\n",
    "2. We may want to create scaled_income feature so the INCOME feature are normally distributed\n",
    "\n",
    "**Classifying.**\n",
    "\n",
    "We may want to classify each customer as either having bureau data or not having bureau data. The rationale being that bureau data features (LOAN WITH/WITHOUT DELAYS) are informative in determining whether a customer will default or not. However, since not applicants will have bureau data (especially first time applicant) and to make sure the feature are still utilized fully , we are going to seperate each oncoming application into either of **2 models** : **those with bureau features available will be served with model utilizing those data, while those without will be served with another model using only application/demographic data**."
   ]
  },
  {
   "cell_type": "markdown",
   "metadata": {},
   "source": [
    "### 6.a. Checking correlation of each feature"
   ]
  },
  {
   "cell_type": "markdown",
   "metadata": {},
   "source": [
    "Before checking for corelaltion of each feature .  we are going to drop rows with missing value and columns which are not use as previously discussed in the **Correcting** section"
   ]
  },
  {
   "cell_type": "code",
   "execution_count": 13,
   "metadata": {},
   "outputs": [
    {
     "data": {
      "text/plain": [
       "customer_id                    0\n",
       "AGE                            0\n",
       "INCOME                         1\n",
       "GENDER                         0\n",
       "EDUCATION                      0\n",
       "LOAN_PURPOSE                  25\n",
       "APPLICATION_RECEIVE_TIME       0\n",
       "HAS_APPLIED_BEFORE             0\n",
       "HAS_INCOME_VERIFICATION        0\n",
       "LOANS_WITHOUT_DELAYS         626\n",
       "LOANS_WITH_DELAYS            626\n",
       "KNOWN_ASSETS                1309\n",
       "Score                        929\n",
       "LOAN_WAS_PAID_BACK             0\n",
       "dtype: int64"
      ]
     },
     "execution_count": 13,
     "metadata": {},
     "output_type": "execute_result"
    }
   ],
   "source": [
    "df.isna().sum()"
   ]
  },
  {
   "cell_type": "code",
   "execution_count": 14,
   "metadata": {},
   "outputs": [],
   "source": [
    "# create a data frame copy as backup\n",
    "df1 = df.copy()\n",
    "\n",
    "# drop missing value rows \n",
    "df = df.drop([\"customer_id\", \"APPLICATION_RECEIVE_TIME\", \"KNOWN_ASSETS\", \"Score\"], axis=1)"
   ]
  },
  {
   "cell_type": "code",
   "execution_count": 15,
   "metadata": {},
   "outputs": [],
   "source": [
    "# drop rows with missing value in income and loan_purpose\n",
    "df = df.dropna(subset = ['INCOME', 'LOAN_PURPOSE'])"
   ]
  },
  {
   "cell_type": "code",
   "execution_count": 16,
   "metadata": {},
   "outputs": [
    {
     "data": {
      "text/html": [
       "<div>\n",
       "<style scoped>\n",
       "    .dataframe tbody tr th:only-of-type {\n",
       "        vertical-align: middle;\n",
       "    }\n",
       "\n",
       "    .dataframe tbody tr th {\n",
       "        vertical-align: top;\n",
       "    }\n",
       "\n",
       "    .dataframe thead th {\n",
       "        text-align: right;\n",
       "    }\n",
       "</style>\n",
       "<table border=\"1\" class=\"dataframe\">\n",
       "  <thead>\n",
       "    <tr style=\"text-align: right;\">\n",
       "      <th></th>\n",
       "      <th>GENDER</th>\n",
       "      <th>LOAN_WAS_PAID_BACK</th>\n",
       "    </tr>\n",
       "  </thead>\n",
       "  <tbody>\n",
       "    <tr>\n",
       "      <th>1</th>\n",
       "      <td>Male</td>\n",
       "      <td>0.878646</td>\n",
       "    </tr>\n",
       "    <tr>\n",
       "      <th>0</th>\n",
       "      <td>Female</td>\n",
       "      <td>0.823134</td>\n",
       "    </tr>\n",
       "  </tbody>\n",
       "</table>\n",
       "</div>"
      ],
      "text/plain": [
       "   GENDER  LOAN_WAS_PAID_BACK\n",
       "1    Male            0.878646\n",
       "0  Female            0.823134"
      ]
     },
     "execution_count": 16,
     "metadata": {},
     "output_type": "execute_result"
    }
   ],
   "source": [
    "# check correlation between gender and target variable\n",
    "df[[\"GENDER\", \"LOAN_WAS_PAID_BACK\"]].groupby(['GENDER'], as_index=False).mean().sort_values(by=\"LOAN_WAS_PAID_BACK\", ascending=False)"
   ]
  },
  {
   "cell_type": "code",
   "execution_count": 17,
   "metadata": {},
   "outputs": [
    {
     "data": {
      "text/html": [
       "<div>\n",
       "<style scoped>\n",
       "    .dataframe tbody tr th:only-of-type {\n",
       "        vertical-align: middle;\n",
       "    }\n",
       "\n",
       "    .dataframe tbody tr th {\n",
       "        vertical-align: top;\n",
       "    }\n",
       "\n",
       "    .dataframe thead th {\n",
       "        text-align: right;\n",
       "    }\n",
       "</style>\n",
       "<table border=\"1\" class=\"dataframe\">\n",
       "  <thead>\n",
       "    <tr style=\"text-align: right;\">\n",
       "      <th></th>\n",
       "      <th>EDUCATION</th>\n",
       "      <th>LOAN_WAS_PAID_BACK</th>\n",
       "    </tr>\n",
       "  </thead>\n",
       "  <tbody>\n",
       "    <tr>\n",
       "      <th>3</th>\n",
       "      <td>Master's Degree/Post graduate</td>\n",
       "      <td>0.976471</td>\n",
       "    </tr>\n",
       "    <tr>\n",
       "      <th>0</th>\n",
       "      <td>Bachelor Degree</td>\n",
       "      <td>0.871411</td>\n",
       "    </tr>\n",
       "    <tr>\n",
       "      <th>1</th>\n",
       "      <td>Diploma</td>\n",
       "      <td>0.862709</td>\n",
       "    </tr>\n",
       "    <tr>\n",
       "      <th>4</th>\n",
       "      <td>Other</td>\n",
       "      <td>0.821429</td>\n",
       "    </tr>\n",
       "    <tr>\n",
       "      <th>2</th>\n",
       "      <td>High School</td>\n",
       "      <td>0.800456</td>\n",
       "    </tr>\n",
       "  </tbody>\n",
       "</table>\n",
       "</div>"
      ],
      "text/plain": [
       "                       EDUCATION  LOAN_WAS_PAID_BACK\n",
       "3  Master's Degree/Post graduate            0.976471\n",
       "0                Bachelor Degree            0.871411\n",
       "1                        Diploma            0.862709\n",
       "4                          Other            0.821429\n",
       "2                    High School            0.800456"
      ]
     },
     "execution_count": 17,
     "metadata": {},
     "output_type": "execute_result"
    }
   ],
   "source": [
    "# check correlation between education and target variable\n",
    "df[[\"EDUCATION\", \"LOAN_WAS_PAID_BACK\"]].groupby(['EDUCATION'], as_index=False).mean().sort_values(by=\"LOAN_WAS_PAID_BACK\", ascending=False)"
   ]
  },
  {
   "cell_type": "markdown",
   "metadata": {},
   "source": [
    "There seems to be a clear distinction on default rate between each education level, with master's degree holder are more likely to pay back their loan. \n",
    "We are also going to assume that Other education level is actually covering the primary level education (SD and SMP level), for a much better user experience during serving later on "
   ]
  },
  {
   "cell_type": "code",
   "execution_count": 18,
   "metadata": {},
   "outputs": [
    {
     "data": {
      "text/html": [
       "<div>\n",
       "<style scoped>\n",
       "    .dataframe tbody tr th:only-of-type {\n",
       "        vertical-align: middle;\n",
       "    }\n",
       "\n",
       "    .dataframe tbody tr th {\n",
       "        vertical-align: top;\n",
       "    }\n",
       "\n",
       "    .dataframe thead th {\n",
       "        text-align: right;\n",
       "    }\n",
       "</style>\n",
       "<table border=\"1\" class=\"dataframe\">\n",
       "  <thead>\n",
       "    <tr style=\"text-align: right;\">\n",
       "      <th></th>\n",
       "      <th>LOAN_PURPOSE</th>\n",
       "      <th>LOAN_WAS_PAID_BACK</th>\n",
       "    </tr>\n",
       "  </thead>\n",
       "  <tbody>\n",
       "    <tr>\n",
       "      <th>1</th>\n",
       "      <td>Car/Motorcycle</td>\n",
       "      <td>1.000000</td>\n",
       "    </tr>\n",
       "    <tr>\n",
       "      <th>3</th>\n",
       "      <td>Education</td>\n",
       "      <td>0.962025</td>\n",
       "    </tr>\n",
       "    <tr>\n",
       "      <th>10</th>\n",
       "      <td>Venture capital</td>\n",
       "      <td>0.953846</td>\n",
       "    </tr>\n",
       "    <tr>\n",
       "      <th>4</th>\n",
       "      <td>Electronic unsecured loan</td>\n",
       "      <td>0.896226</td>\n",
       "    </tr>\n",
       "    <tr>\n",
       "      <th>9</th>\n",
       "      <td>Renovation</td>\n",
       "      <td>0.873743</td>\n",
       "    </tr>\n",
       "    <tr>\n",
       "      <th>2</th>\n",
       "      <td>Credit card</td>\n",
       "      <td>0.858146</td>\n",
       "    </tr>\n",
       "    <tr>\n",
       "      <th>7</th>\n",
       "      <td>Investment</td>\n",
       "      <td>0.846154</td>\n",
       "    </tr>\n",
       "    <tr>\n",
       "      <th>5</th>\n",
       "      <td>Holiday</td>\n",
       "      <td>0.843750</td>\n",
       "    </tr>\n",
       "    <tr>\n",
       "      <th>0</th>\n",
       "      <td>Bills</td>\n",
       "      <td>0.841463</td>\n",
       "    </tr>\n",
       "    <tr>\n",
       "      <th>8</th>\n",
       "      <td>Other</td>\n",
       "      <td>0.837209</td>\n",
       "    </tr>\n",
       "    <tr>\n",
       "      <th>6</th>\n",
       "      <td>Housing loan</td>\n",
       "      <td>0.833333</td>\n",
       "    </tr>\n",
       "    <tr>\n",
       "      <th>11</th>\n",
       "      <td>Working Capital</td>\n",
       "      <td>0.813883</td>\n",
       "    </tr>\n",
       "  </tbody>\n",
       "</table>\n",
       "</div>"
      ],
      "text/plain": [
       "                 LOAN_PURPOSE  LOAN_WAS_PAID_BACK\n",
       "1              Car/Motorcycle            1.000000\n",
       "3                   Education            0.962025\n",
       "10            Venture capital            0.953846\n",
       "4   Electronic unsecured loan            0.896226\n",
       "9                  Renovation            0.873743\n",
       "2                 Credit card            0.858146\n",
       "7                  Investment            0.846154\n",
       "5                     Holiday            0.843750\n",
       "0                       Bills            0.841463\n",
       "8                       Other            0.837209\n",
       "6                Housing loan            0.833333\n",
       "11            Working Capital            0.813883"
      ]
     },
     "execution_count": 18,
     "metadata": {},
     "output_type": "execute_result"
    }
   ],
   "source": [
    "# check correlation loan_purpose and target variable\n",
    "df[[\"LOAN_PURPOSE\", \"LOAN_WAS_PAID_BACK\"]].groupby(['LOAN_PURPOSE'], as_index=False).mean().sort_values(by=\"LOAN_WAS_PAID_BACK\", ascending=False)"
   ]
  },
  {
   "cell_type": "markdown",
   "metadata": {},
   "source": [
    "Loan purpose shows some trend in which certain loan purpose customer's are more likely to pay back their loan"
   ]
  },
  {
   "cell_type": "code",
   "execution_count": 19,
   "metadata": {},
   "outputs": [
    {
     "data": {
      "text/html": [
       "<div>\n",
       "<style scoped>\n",
       "    .dataframe tbody tr th:only-of-type {\n",
       "        vertical-align: middle;\n",
       "    }\n",
       "\n",
       "    .dataframe tbody tr th {\n",
       "        vertical-align: top;\n",
       "    }\n",
       "\n",
       "    .dataframe thead th {\n",
       "        text-align: right;\n",
       "    }\n",
       "</style>\n",
       "<table border=\"1\" class=\"dataframe\">\n",
       "  <thead>\n",
       "    <tr style=\"text-align: right;\">\n",
       "      <th></th>\n",
       "      <th>HAS_APPLIED_BEFORE</th>\n",
       "      <th>LOAN_WAS_PAID_BACK</th>\n",
       "    </tr>\n",
       "  </thead>\n",
       "  <tbody>\n",
       "    <tr>\n",
       "      <th>0</th>\n",
       "      <td>No</td>\n",
       "      <td>0.882411</td>\n",
       "    </tr>\n",
       "    <tr>\n",
       "      <th>1</th>\n",
       "      <td>Yes</td>\n",
       "      <td>0.800862</td>\n",
       "    </tr>\n",
       "  </tbody>\n",
       "</table>\n",
       "</div>"
      ],
      "text/plain": [
       "  HAS_APPLIED_BEFORE  LOAN_WAS_PAID_BACK\n",
       "0                 No            0.882411\n",
       "1                Yes            0.800862"
      ]
     },
     "execution_count": 19,
     "metadata": {},
     "output_type": "execute_result"
    }
   ],
   "source": [
    "# check correlation between has_applied_before and target variable\n",
    "df[[\"HAS_APPLIED_BEFORE\", \"LOAN_WAS_PAID_BACK\"]].groupby(['HAS_APPLIED_BEFORE'], as_index=False).mean().sort_values(by=\"LOAN_WAS_PAID_BACK\", ascending=False)"
   ]
  },
  {
   "cell_type": "code",
   "execution_count": 20,
   "metadata": {},
   "outputs": [
    {
     "data": {
      "text/html": [
       "<div>\n",
       "<style scoped>\n",
       "    .dataframe tbody tr th:only-of-type {\n",
       "        vertical-align: middle;\n",
       "    }\n",
       "\n",
       "    .dataframe tbody tr th {\n",
       "        vertical-align: top;\n",
       "    }\n",
       "\n",
       "    .dataframe thead th {\n",
       "        text-align: right;\n",
       "    }\n",
       "</style>\n",
       "<table border=\"1\" class=\"dataframe\">\n",
       "  <thead>\n",
       "    <tr style=\"text-align: right;\">\n",
       "      <th></th>\n",
       "      <th>HAS_INCOME_VERIFICATION</th>\n",
       "      <th>LOAN_WAS_PAID_BACK</th>\n",
       "    </tr>\n",
       "  </thead>\n",
       "  <tbody>\n",
       "    <tr>\n",
       "      <th>1</th>\n",
       "      <td>Yes</td>\n",
       "      <td>0.855364</td>\n",
       "    </tr>\n",
       "    <tr>\n",
       "      <th>0</th>\n",
       "      <td>No</td>\n",
       "      <td>0.739130</td>\n",
       "    </tr>\n",
       "  </tbody>\n",
       "</table>\n",
       "</div>"
      ],
      "text/plain": [
       "  HAS_INCOME_VERIFICATION  LOAN_WAS_PAID_BACK\n",
       "1                     Yes            0.855364\n",
       "0                      No            0.739130"
      ]
     },
     "execution_count": 20,
     "metadata": {},
     "output_type": "execute_result"
    }
   ],
   "source": [
    "# check correlation between has_income_verification and target variable\n",
    "df[[\"HAS_INCOME_VERIFICATION\", \"LOAN_WAS_PAID_BACK\"]].groupby(['HAS_INCOME_VERIFICATION'], as_index=False).mean().sort_values(by=\"LOAN_WAS_PAID_BACK\", ascending=False)"
   ]
  },
  {
   "cell_type": "markdown",
   "metadata": {},
   "source": [
    "## 7. Exploratory Data Analysis (EDA) "
   ]
  },
  {
   "cell_type": "markdown",
   "metadata": {},
   "source": [
    "It might be beneficial to see how our target variable is distributed on our training dataset, to get much clearer sense on the problem"
   ]
  },
  {
   "cell_type": "code",
   "execution_count": 21,
   "metadata": {},
   "outputs": [
    {
     "data": {
      "image/png": "[encoded data removed]",
      "text/plain": [
       "<Figure size 576x576 with 1 Axes>"
      ]
     },
     "metadata": {},
     "output_type": "display_data"
    }
   ],
   "source": [
    "%matplotlib inline\n",
    "\n",
    "# Showing the distribution of our target variable\n",
    "plt.figure(figsize = (8,8))\n",
    "plt.pie(\n",
    "    x = df['LOAN_WAS_PAID_BACK'].value_counts(),\n",
    "    labels = ['Not Defaulted','Defaulted'],\n",
    "    autopct = '%1.2f%%',\n",
    "    shadow = True,\n",
    "    explode = (0.3,0)\n",
    ")\n",
    "plt.title('Not Defaulted vs Defaulted')\n",
    "plt.show();"
   ]
  },
  {
   "cell_type": "markdown",
   "metadata": {},
   "source": [
    "The chart shows that we are facing and imbalanced problem, which might need further processing later on during modelling"
   ]
  },
  {
   "cell_type": "markdown",
   "metadata": {},
   "source": [
    "### 7.A. Distribution of age"
   ]
  },
  {
   "cell_type": "code",
   "execution_count": 22,
   "metadata": {},
   "outputs": [
    {
     "data": {
      "image/png": "[encoded data removed]",
      "text/plain": [
       "<Figure size 720x432 with 1 Axes>"
      ]
     },
     "metadata": {
      "needs_background": "light"
     },
     "output_type": "display_data"
    }
   ],
   "source": [
    "plt.figure(figsize=(10,6))\n",
    "plt.grid(True, alpha=0.5)\n",
    "sns.kdeplot(df.loc[df['LOAN_WAS_PAID_BACK'] == 1, 'AGE'] , label = 'Not Defaulted')\n",
    "sns.kdeplot(df.loc[df['LOAN_WAS_PAID_BACK'] == 0, 'AGE'] ,  label = 'Defaulted')\n",
    "plt.axvline(df.AGE.mean(), 0, 1, label = 'mean', color = 'r', ls = '--')\n",
    "plt.axvline(df.AGE.median(), 0, 1, label = 'median', color = 'g', ls = '--')\n",
    "plt.xlabel('Age (years)')\n",
    "plt.ylabel('Density')\n",
    "plt.legend()\n",
    "plt.title('Distribution of Age of Client (in Years)');"
   ]
  },
  {
   "cell_type": "markdown",
   "metadata": {},
   "source": [
    "**What we discover**\n",
    "\n",
    "We can see some pattern where customer below the median age are more likely to default. While older customer tend to pay back their loan more. However we can try binning the age feature and see how it corellated with our target variable."
   ]
  },
  {
   "cell_type": "code",
   "execution_count": 23,
   "metadata": {},
   "outputs": [
    {
     "data": {
      "text/html": [
       "<div>\n",
       "<style scoped>\n",
       "    .dataframe tbody tr th:only-of-type {\n",
       "        vertical-align: middle;\n",
       "    }\n",
       "\n",
       "    .dataframe tbody tr th {\n",
       "        vertical-align: top;\n",
       "    }\n",
       "\n",
       "    .dataframe thead th {\n",
       "        text-align: right;\n",
       "    }\n",
       "</style>\n",
       "<table border=\"1\" class=\"dataframe\">\n",
       "  <thead>\n",
       "    <tr style=\"text-align: right;\">\n",
       "      <th></th>\n",
       "      <th>AgeBand</th>\n",
       "      <th>LOAN_WAS_PAID_BACK</th>\n",
       "    </tr>\n",
       "  </thead>\n",
       "  <tbody>\n",
       "    <tr>\n",
       "      <th>0</th>\n",
       "      <td>(20.0, 27.0]</td>\n",
       "      <td>0.838475</td>\n",
       "    </tr>\n",
       "    <tr>\n",
       "      <th>1</th>\n",
       "      <td>(27.0, 34.0]</td>\n",
       "      <td>0.845005</td>\n",
       "    </tr>\n",
       "    <tr>\n",
       "      <th>2</th>\n",
       "      <td>(34.0, 40.0]</td>\n",
       "      <td>0.862837</td>\n",
       "    </tr>\n",
       "    <tr>\n",
       "      <th>3</th>\n",
       "      <td>(40.0, 47.0]</td>\n",
       "      <td>0.851406</td>\n",
       "    </tr>\n",
       "    <tr>\n",
       "      <th>4</th>\n",
       "      <td>(47.0, 54.0]</td>\n",
       "      <td>0.890351</td>\n",
       "    </tr>\n",
       "  </tbody>\n",
       "</table>\n",
       "</div>"
      ],
      "text/plain": [
       "        AgeBand  LOAN_WAS_PAID_BACK\n",
       "0  (20.0, 27.0]            0.838475\n",
       "1  (27.0, 34.0]            0.845005\n",
       "2  (34.0, 40.0]            0.862837\n",
       "3  (40.0, 47.0]            0.851406\n",
       "4  (47.0, 54.0]            0.890351"
      ]
     },
     "execution_count": 23,
     "metadata": {},
     "output_type": "execute_result"
    }
   ],
   "source": [
    "# binning age into 5 categories\n",
    "df['AgeBand'] = pd.cut(df['AGE'], 5, precision = 0)\n",
    "df[['AgeBand', 'LOAN_WAS_PAID_BACK']].groupby(['AgeBand'], as_index=False).mean().sort_values(by='AgeBand', ascending=True)"
   ]
  },
  {
   "cell_type": "markdown",
   "metadata": {},
   "source": [
    "By binning the age into 5 groups we have validated our previous assumption, although there is a slight variation in the age group between 40 and 47. We will therefore proceed with binning age into a categorical feature"
   ]
  },
  {
   "cell_type": "code",
   "execution_count": 24,
   "metadata": {},
   "outputs": [
    {
     "data": {
      "text/html": [
       "<div>\n",
       "<style scoped>\n",
       "    .dataframe tbody tr th:only-of-type {\n",
       "        vertical-align: middle;\n",
       "    }\n",
       "\n",
       "    .dataframe tbody tr th {\n",
       "        vertical-align: top;\n",
       "    }\n",
       "\n",
       "    .dataframe thead th {\n",
       "        text-align: right;\n",
       "    }\n",
       "</style>\n",
       "<table border=\"1\" class=\"dataframe\">\n",
       "  <thead>\n",
       "    <tr style=\"text-align: right;\">\n",
       "      <th></th>\n",
       "      <th>AGE</th>\n",
       "      <th>INCOME</th>\n",
       "      <th>GENDER</th>\n",
       "      <th>EDUCATION</th>\n",
       "      <th>LOAN_PURPOSE</th>\n",
       "      <th>HAS_APPLIED_BEFORE</th>\n",
       "      <th>HAS_INCOME_VERIFICATION</th>\n",
       "      <th>LOANS_WITHOUT_DELAYS</th>\n",
       "      <th>LOANS_WITH_DELAYS</th>\n",
       "      <th>LOAN_WAS_PAID_BACK</th>\n",
       "      <th>AgeBand</th>\n",
       "    </tr>\n",
       "  </thead>\n",
       "  <tbody>\n",
       "    <tr>\n",
       "      <th>1749</th>\n",
       "      <td>3</td>\n",
       "      <td>9000000.0</td>\n",
       "      <td>Male</td>\n",
       "      <td>High School</td>\n",
       "      <td>Credit card</td>\n",
       "      <td>No</td>\n",
       "      <td>Yes</td>\n",
       "      <td>3.0</td>\n",
       "      <td>2.0</td>\n",
       "      <td>1</td>\n",
       "      <td>(40.0, 47.0]</td>\n",
       "    </tr>\n",
       "    <tr>\n",
       "      <th>3488</th>\n",
       "      <td>1</td>\n",
       "      <td>12000000.0</td>\n",
       "      <td>Female</td>\n",
       "      <td>Bachelor Degree</td>\n",
       "      <td>Working Capital</td>\n",
       "      <td>Yes</td>\n",
       "      <td>Yes</td>\n",
       "      <td>1.0</td>\n",
       "      <td>3.0</td>\n",
       "      <td>1</td>\n",
       "      <td>(34.0, 40.0]</td>\n",
       "    </tr>\n",
       "    <tr>\n",
       "      <th>89</th>\n",
       "      <td>1</td>\n",
       "      <td>15000000.0</td>\n",
       "      <td>Female</td>\n",
       "      <td>Bachelor Degree</td>\n",
       "      <td>Holiday</td>\n",
       "      <td>No</td>\n",
       "      <td>Yes</td>\n",
       "      <td>5.0</td>\n",
       "      <td>0.0</td>\n",
       "      <td>1</td>\n",
       "      <td>(20.0, 27.0]</td>\n",
       "    </tr>\n",
       "    <tr>\n",
       "      <th>1035</th>\n",
       "      <td>1</td>\n",
       "      <td>5000000.0</td>\n",
       "      <td>Male</td>\n",
       "      <td>Bachelor Degree</td>\n",
       "      <td>Credit card</td>\n",
       "      <td>No</td>\n",
       "      <td>Yes</td>\n",
       "      <td>1.0</td>\n",
       "      <td>0.0</td>\n",
       "      <td>1</td>\n",
       "      <td>(20.0, 27.0]</td>\n",
       "    </tr>\n",
       "    <tr>\n",
       "      <th>386</th>\n",
       "      <td>3</td>\n",
       "      <td>10000000.0</td>\n",
       "      <td>Female</td>\n",
       "      <td>Bachelor Degree</td>\n",
       "      <td>Working Capital</td>\n",
       "      <td>No</td>\n",
       "      <td>Yes</td>\n",
       "      <td>3.0</td>\n",
       "      <td>1.0</td>\n",
       "      <td>1</td>\n",
       "      <td>(40.0, 47.0]</td>\n",
       "    </tr>\n",
       "  </tbody>\n",
       "</table>\n",
       "</div>"
      ],
      "text/plain": [
       "      AGE      INCOME  GENDER        EDUCATION     LOAN_PURPOSE  \\\n",
       "1749    3   9000000.0    Male      High School      Credit card   \n",
       "3488    1  12000000.0  Female  Bachelor Degree  Working Capital   \n",
       "89      1  15000000.0  Female  Bachelor Degree          Holiday   \n",
       "1035    1   5000000.0    Male  Bachelor Degree      Credit card   \n",
       "386     3  10000000.0  Female  Bachelor Degree  Working Capital   \n",
       "\n",
       "     HAS_APPLIED_BEFORE HAS_INCOME_VERIFICATION  LOANS_WITHOUT_DELAYS  \\\n",
       "1749                 No                     Yes                   3.0   \n",
       "3488                Yes                     Yes                   1.0   \n",
       "89                   No                     Yes                   5.0   \n",
       "1035                 No                     Yes                   1.0   \n",
       "386                  No                     Yes                   3.0   \n",
       "\n",
       "      LOANS_WITH_DELAYS  LOAN_WAS_PAID_BACK       AgeBand  \n",
       "1749                2.0                   1  (40.0, 47.0]  \n",
       "3488                3.0                   1  (34.0, 40.0]  \n",
       "89                  0.0                   1  (20.0, 27.0]  \n",
       "1035                0.0                   1  (20.0, 27.0]  \n",
       "386                 1.0                   1  (40.0, 47.0]  "
      ]
     },
     "execution_count": 24,
     "metadata": {},
     "output_type": "execute_result"
    }
   ],
   "source": [
    "# replace AGE with ordinals\n",
    "\n",
    "df.loc[ df['AGE'] <= 20, 'AGE'] = 0\n",
    "df.loc[(df['AGE'] > 20) & (df['AGE'] <= 34), 'AGE'] = 1\n",
    "df.loc[(df['AGE'] > 34) & (df['AGE'] <= 40), 'AGE'] = 2\n",
    "df.loc[(df['AGE'] > 40) & (df['AGE'] <= 47), 'AGE'] = 3\n",
    "df.loc[ df['AGE'] > 47, 'AGE'] = 4\n",
    "df.head()"
   ]
  },
  {
   "cell_type": "code",
   "execution_count": 25,
   "metadata": {},
   "outputs": [
    {
     "data": {
      "text/html": [
       "<div>\n",
       "<style scoped>\n",
       "    .dataframe tbody tr th:only-of-type {\n",
       "        vertical-align: middle;\n",
       "    }\n",
       "\n",
       "    .dataframe tbody tr th {\n",
       "        vertical-align: top;\n",
       "    }\n",
       "\n",
       "    .dataframe thead th {\n",
       "        text-align: right;\n",
       "    }\n",
       "</style>\n",
       "<table border=\"1\" class=\"dataframe\">\n",
       "  <thead>\n",
       "    <tr style=\"text-align: right;\">\n",
       "      <th></th>\n",
       "      <th>AGE</th>\n",
       "      <th>INCOME</th>\n",
       "      <th>GENDER</th>\n",
       "      <th>EDUCATION</th>\n",
       "      <th>LOAN_PURPOSE</th>\n",
       "      <th>HAS_APPLIED_BEFORE</th>\n",
       "      <th>HAS_INCOME_VERIFICATION</th>\n",
       "      <th>LOANS_WITHOUT_DELAYS</th>\n",
       "      <th>LOANS_WITH_DELAYS</th>\n",
       "      <th>LOAN_WAS_PAID_BACK</th>\n",
       "    </tr>\n",
       "  </thead>\n",
       "  <tbody>\n",
       "    <tr>\n",
       "      <th>1749</th>\n",
       "      <td>3</td>\n",
       "      <td>9000000.0</td>\n",
       "      <td>Male</td>\n",
       "      <td>High School</td>\n",
       "      <td>Credit card</td>\n",
       "      <td>No</td>\n",
       "      <td>Yes</td>\n",
       "      <td>3.0</td>\n",
       "      <td>2.0</td>\n",
       "      <td>1</td>\n",
       "    </tr>\n",
       "    <tr>\n",
       "      <th>3488</th>\n",
       "      <td>1</td>\n",
       "      <td>12000000.0</td>\n",
       "      <td>Female</td>\n",
       "      <td>Bachelor Degree</td>\n",
       "      <td>Working Capital</td>\n",
       "      <td>Yes</td>\n",
       "      <td>Yes</td>\n",
       "      <td>1.0</td>\n",
       "      <td>3.0</td>\n",
       "      <td>1</td>\n",
       "    </tr>\n",
       "    <tr>\n",
       "      <th>89</th>\n",
       "      <td>1</td>\n",
       "      <td>15000000.0</td>\n",
       "      <td>Female</td>\n",
       "      <td>Bachelor Degree</td>\n",
       "      <td>Holiday</td>\n",
       "      <td>No</td>\n",
       "      <td>Yes</td>\n",
       "      <td>5.0</td>\n",
       "      <td>0.0</td>\n",
       "      <td>1</td>\n",
       "    </tr>\n",
       "    <tr>\n",
       "      <th>1035</th>\n",
       "      <td>1</td>\n",
       "      <td>5000000.0</td>\n",
       "      <td>Male</td>\n",
       "      <td>Bachelor Degree</td>\n",
       "      <td>Credit card</td>\n",
       "      <td>No</td>\n",
       "      <td>Yes</td>\n",
       "      <td>1.0</td>\n",
       "      <td>0.0</td>\n",
       "      <td>1</td>\n",
       "    </tr>\n",
       "    <tr>\n",
       "      <th>386</th>\n",
       "      <td>3</td>\n",
       "      <td>10000000.0</td>\n",
       "      <td>Female</td>\n",
       "      <td>Bachelor Degree</td>\n",
       "      <td>Working Capital</td>\n",
       "      <td>No</td>\n",
       "      <td>Yes</td>\n",
       "      <td>3.0</td>\n",
       "      <td>1.0</td>\n",
       "      <td>1</td>\n",
       "    </tr>\n",
       "  </tbody>\n",
       "</table>\n",
       "</div>"
      ],
      "text/plain": [
       "      AGE      INCOME  GENDER        EDUCATION     LOAN_PURPOSE  \\\n",
       "1749    3   9000000.0    Male      High School      Credit card   \n",
       "3488    1  12000000.0  Female  Bachelor Degree  Working Capital   \n",
       "89      1  15000000.0  Female  Bachelor Degree          Holiday   \n",
       "1035    1   5000000.0    Male  Bachelor Degree      Credit card   \n",
       "386     3  10000000.0  Female  Bachelor Degree  Working Capital   \n",
       "\n",
       "     HAS_APPLIED_BEFORE HAS_INCOME_VERIFICATION  LOANS_WITHOUT_DELAYS  \\\n",
       "1749                 No                     Yes                   3.0   \n",
       "3488                Yes                     Yes                   1.0   \n",
       "89                   No                     Yes                   5.0   \n",
       "1035                 No                     Yes                   1.0   \n",
       "386                  No                     Yes                   3.0   \n",
       "\n",
       "      LOANS_WITH_DELAYS  LOAN_WAS_PAID_BACK  \n",
       "1749                2.0                   1  \n",
       "3488                3.0                   1  \n",
       "89                  0.0                   1  \n",
       "1035                0.0                   1  \n",
       "386                 1.0                   1  "
      ]
     },
     "execution_count": 25,
     "metadata": {},
     "output_type": "execute_result"
    }
   ],
   "source": [
    "# remove ageband\n",
    "df = df.drop(['AgeBand'], axis=1)\n",
    "df.head()"
   ]
  },
  {
   "cell_type": "markdown",
   "metadata": {},
   "source": [
    "### 7.B. Distribution of INCOME variable"
   ]
  },
  {
   "cell_type": "code",
   "execution_count": 26,
   "metadata": {},
   "outputs": [
    {
     "data": {
      "image/png": "[encoded data removed]",
      "text/plain": [
       "<Figure size 720x432 with 1 Axes>"
      ]
     },
     "metadata": {
      "needs_background": "light"
     },
     "output_type": "display_data"
    }
   ],
   "source": [
    "plt.figure(figsize=(10,6))\n",
    "plt.grid(True, alpha=0.5)\n",
    "sns.kdeplot(df.loc[df['LOAN_WAS_PAID_BACK'] == 1, 'INCOME'] , label = 'Paid')\n",
    "sns.kdeplot(df.loc[df['LOAN_WAS_PAID_BACK'] == 0, 'INCOME'] ,  label = 'Not Paid')\n",
    "plt.axvline(df.INCOME.mean(), 0, 1, label = 'mean', color = 'r', ls = '--')\n",
    "plt.axvline(df.INCOME.median(), 0, 1, label = 'median', color = 'g', ls = '--')\n",
    "plt.xlabel('INCOME')\n",
    "plt.ylabel('Density')\n",
    "plt.legend()\n",
    "plt.title('Distribution of INCOME');"
   ]
  },
  {
   "cell_type": "markdown",
   "metadata": {},
   "source": [
    "**What we discover**\n",
    "\n",
    "Income feature are quite skewed with outliers. However we can see that customer with lower income level tend to not paying back their loan, compare to much more well off customer with higher income. <br>\n",
    "We will try and see how the target variable is distributed if we bin our INCOME feature"
   ]
  },
  {
   "cell_type": "markdown",
   "metadata": {},
   "source": [
    "#### binning income"
   ]
  },
  {
   "cell_type": "code",
   "execution_count": 27,
   "metadata": {},
   "outputs": [
    {
     "data": {
      "text/html": [
       "<div>\n",
       "<style scoped>\n",
       "    .dataframe tbody tr th:only-of-type {\n",
       "        vertical-align: middle;\n",
       "    }\n",
       "\n",
       "    .dataframe tbody tr th {\n",
       "        vertical-align: top;\n",
       "    }\n",
       "\n",
       "    .dataframe thead th {\n",
       "        text-align: right;\n",
       "    }\n",
       "</style>\n",
       "<table border=\"1\" class=\"dataframe\">\n",
       "  <thead>\n",
       "    <tr style=\"text-align: right;\">\n",
       "      <th></th>\n",
       "      <th>INCOMEBAND</th>\n",
       "      <th>LOAN_WAS_PAID_BACK</th>\n",
       "    </tr>\n",
       "  </thead>\n",
       "  <tbody>\n",
       "    <tr>\n",
       "      <th>0</th>\n",
       "      <td>(-0.001, 4000000.0]</td>\n",
       "      <td>0.820200</td>\n",
       "    </tr>\n",
       "    <tr>\n",
       "      <th>1</th>\n",
       "      <td>(4000000.0, 5000000.0]</td>\n",
       "      <td>0.833729</td>\n",
       "    </tr>\n",
       "    <tr>\n",
       "      <th>2</th>\n",
       "      <td>(5000000.0, 6000000.0]</td>\n",
       "      <td>0.840426</td>\n",
       "    </tr>\n",
       "    <tr>\n",
       "      <th>3</th>\n",
       "      <td>(6000000.0, 8000000.0]</td>\n",
       "      <td>0.855491</td>\n",
       "    </tr>\n",
       "    <tr>\n",
       "      <th>4</th>\n",
       "      <td>(8000000.0, 11000000.0]</td>\n",
       "      <td>0.859944</td>\n",
       "    </tr>\n",
       "    <tr>\n",
       "      <th>5</th>\n",
       "      <td>(11000000.0, 70000000.0]</td>\n",
       "      <td>0.926829</td>\n",
       "    </tr>\n",
       "  </tbody>\n",
       "</table>\n",
       "</div>"
      ],
      "text/plain": [
       "                 INCOMEBAND  LOAN_WAS_PAID_BACK\n",
       "0       (-0.001, 4000000.0]            0.820200\n",
       "1    (4000000.0, 5000000.0]            0.833729\n",
       "2    (5000000.0, 6000000.0]            0.840426\n",
       "3    (6000000.0, 8000000.0]            0.855491\n",
       "4   (8000000.0, 11000000.0]            0.859944\n",
       "5  (11000000.0, 70000000.0]            0.926829"
      ]
     },
     "execution_count": 27,
     "metadata": {},
     "output_type": "execute_result"
    }
   ],
   "source": [
    "df['INCOMEBAND'] = pd.qcut(df['INCOME'], 6)\n",
    "df[['INCOMEBAND', 'LOAN_WAS_PAID_BACK']].groupby(['INCOMEBAND'], as_index=False).mean().sort_values(by='INCOMEBAND', ascending=True)"
   ]
  },
  {
   "cell_type": "markdown",
   "metadata": {},
   "source": [
    "We can see a somewhat linear pattern where lower income customer are less likely to pay back their loan. We will then bin this INCOME variable according to the above category"
   ]
  },
  {
   "cell_type": "code",
   "execution_count": 28,
   "metadata": {},
   "outputs": [
    {
     "data": {
      "text/html": [
       "<div>\n",
       "<style scoped>\n",
       "    .dataframe tbody tr th:only-of-type {\n",
       "        vertical-align: middle;\n",
       "    }\n",
       "\n",
       "    .dataframe tbody tr th {\n",
       "        vertical-align: top;\n",
       "    }\n",
       "\n",
       "    .dataframe thead th {\n",
       "        text-align: right;\n",
       "    }\n",
       "</style>\n",
       "<table border=\"1\" class=\"dataframe\">\n",
       "  <thead>\n",
       "    <tr style=\"text-align: right;\">\n",
       "      <th></th>\n",
       "      <th>AGE</th>\n",
       "      <th>INCOME</th>\n",
       "      <th>GENDER</th>\n",
       "      <th>EDUCATION</th>\n",
       "      <th>LOAN_PURPOSE</th>\n",
       "      <th>HAS_APPLIED_BEFORE</th>\n",
       "      <th>HAS_INCOME_VERIFICATION</th>\n",
       "      <th>LOANS_WITHOUT_DELAYS</th>\n",
       "      <th>LOANS_WITH_DELAYS</th>\n",
       "      <th>LOAN_WAS_PAID_BACK</th>\n",
       "      <th>INCOMEBAND</th>\n",
       "    </tr>\n",
       "  </thead>\n",
       "  <tbody>\n",
       "    <tr>\n",
       "      <th>1749</th>\n",
       "      <td>3</td>\n",
       "      <td>4.0</td>\n",
       "      <td>Male</td>\n",
       "      <td>High School</td>\n",
       "      <td>Credit card</td>\n",
       "      <td>No</td>\n",
       "      <td>Yes</td>\n",
       "      <td>3.0</td>\n",
       "      <td>2.0</td>\n",
       "      <td>1</td>\n",
       "      <td>(8000000.0, 11000000.0]</td>\n",
       "    </tr>\n",
       "    <tr>\n",
       "      <th>3488</th>\n",
       "      <td>1</td>\n",
       "      <td>5.0</td>\n",
       "      <td>Female</td>\n",
       "      <td>Bachelor Degree</td>\n",
       "      <td>Working Capital</td>\n",
       "      <td>Yes</td>\n",
       "      <td>Yes</td>\n",
       "      <td>1.0</td>\n",
       "      <td>3.0</td>\n",
       "      <td>1</td>\n",
       "      <td>(11000000.0, 70000000.0]</td>\n",
       "    </tr>\n",
       "    <tr>\n",
       "      <th>89</th>\n",
       "      <td>1</td>\n",
       "      <td>5.0</td>\n",
       "      <td>Female</td>\n",
       "      <td>Bachelor Degree</td>\n",
       "      <td>Holiday</td>\n",
       "      <td>No</td>\n",
       "      <td>Yes</td>\n",
       "      <td>5.0</td>\n",
       "      <td>0.0</td>\n",
       "      <td>1</td>\n",
       "      <td>(11000000.0, 70000000.0]</td>\n",
       "    </tr>\n",
       "    <tr>\n",
       "      <th>1035</th>\n",
       "      <td>1</td>\n",
       "      <td>1.0</td>\n",
       "      <td>Male</td>\n",
       "      <td>Bachelor Degree</td>\n",
       "      <td>Credit card</td>\n",
       "      <td>No</td>\n",
       "      <td>Yes</td>\n",
       "      <td>1.0</td>\n",
       "      <td>0.0</td>\n",
       "      <td>1</td>\n",
       "      <td>(4000000.0, 5000000.0]</td>\n",
       "    </tr>\n",
       "    <tr>\n",
       "      <th>386</th>\n",
       "      <td>3</td>\n",
       "      <td>4.0</td>\n",
       "      <td>Female</td>\n",
       "      <td>Bachelor Degree</td>\n",
       "      <td>Working Capital</td>\n",
       "      <td>No</td>\n",
       "      <td>Yes</td>\n",
       "      <td>3.0</td>\n",
       "      <td>1.0</td>\n",
       "      <td>1</td>\n",
       "      <td>(8000000.0, 11000000.0]</td>\n",
       "    </tr>\n",
       "  </tbody>\n",
       "</table>\n",
       "</div>"
      ],
      "text/plain": [
       "      AGE  INCOME  GENDER        EDUCATION     LOAN_PURPOSE  \\\n",
       "1749    3     4.0    Male      High School      Credit card   \n",
       "3488    1     5.0  Female  Bachelor Degree  Working Capital   \n",
       "89      1     5.0  Female  Bachelor Degree          Holiday   \n",
       "1035    1     1.0    Male  Bachelor Degree      Credit card   \n",
       "386     3     4.0  Female  Bachelor Degree  Working Capital   \n",
       "\n",
       "     HAS_APPLIED_BEFORE HAS_INCOME_VERIFICATION  LOANS_WITHOUT_DELAYS  \\\n",
       "1749                 No                     Yes                   3.0   \n",
       "3488                Yes                     Yes                   1.0   \n",
       "89                   No                     Yes                   5.0   \n",
       "1035                 No                     Yes                   1.0   \n",
       "386                  No                     Yes                   3.0   \n",
       "\n",
       "      LOANS_WITH_DELAYS  LOAN_WAS_PAID_BACK                INCOMEBAND  \n",
       "1749                2.0                   1   (8000000.0, 11000000.0]  \n",
       "3488                3.0                   1  (11000000.0, 70000000.0]  \n",
       "89                  0.0                   1  (11000000.0, 70000000.0]  \n",
       "1035                0.0                   1    (4000000.0, 5000000.0]  \n",
       "386                 1.0                   1   (8000000.0, 11000000.0]  "
      ]
     },
     "execution_count": 28,
     "metadata": {},
     "output_type": "execute_result"
    }
   ],
   "source": [
    "# replace INCOME with ordinals\n",
    "\n",
    "df.loc[ df['INCOME'] <= 4e6, 'INCOME'] = 0\n",
    "df.loc[(df['INCOME'] > 4e6) & (df['INCOME'] <= 5e6), 'INCOME'] = 1\n",
    "df.loc[(df['INCOME'] > 5e6) & (df['INCOME'] <= 6e6), 'INCOME'] = 2\n",
    "df.loc[(df['INCOME'] > 6e6) & (df['INCOME'] <= 8e6), 'INCOME'] = 3\n",
    "df.loc[(df['INCOME'] > 8e6) & (df['INCOME'] <= 11e6), 'INCOME'] = 4\n",
    "df.loc[ df['INCOME'] > 11e6, 'INCOME'] = 5\n",
    "df.head()"
   ]
  },
  {
   "cell_type": "code",
   "execution_count": 29,
   "metadata": {},
   "outputs": [
    {
     "data": {
      "text/html": [
       "<div>\n",
       "<style scoped>\n",
       "    .dataframe tbody tr th:only-of-type {\n",
       "        vertical-align: middle;\n",
       "    }\n",
       "\n",
       "    .dataframe tbody tr th {\n",
       "        vertical-align: top;\n",
       "    }\n",
       "\n",
       "    .dataframe thead th {\n",
       "        text-align: right;\n",
       "    }\n",
       "</style>\n",
       "<table border=\"1\" class=\"dataframe\">\n",
       "  <thead>\n",
       "    <tr style=\"text-align: right;\">\n",
       "      <th></th>\n",
       "      <th>AGE</th>\n",
       "      <th>INCOME</th>\n",
       "      <th>GENDER</th>\n",
       "      <th>EDUCATION</th>\n",
       "      <th>LOAN_PURPOSE</th>\n",
       "      <th>HAS_APPLIED_BEFORE</th>\n",
       "      <th>HAS_INCOME_VERIFICATION</th>\n",
       "      <th>LOANS_WITHOUT_DELAYS</th>\n",
       "      <th>LOANS_WITH_DELAYS</th>\n",
       "      <th>LOAN_WAS_PAID_BACK</th>\n",
       "    </tr>\n",
       "  </thead>\n",
       "  <tbody>\n",
       "    <tr>\n",
       "      <th>1749</th>\n",
       "      <td>3</td>\n",
       "      <td>4.0</td>\n",
       "      <td>Male</td>\n",
       "      <td>High School</td>\n",
       "      <td>Credit card</td>\n",
       "      <td>No</td>\n",
       "      <td>Yes</td>\n",
       "      <td>3.0</td>\n",
       "      <td>2.0</td>\n",
       "      <td>1</td>\n",
       "    </tr>\n",
       "    <tr>\n",
       "      <th>3488</th>\n",
       "      <td>1</td>\n",
       "      <td>5.0</td>\n",
       "      <td>Female</td>\n",
       "      <td>Bachelor Degree</td>\n",
       "      <td>Working Capital</td>\n",
       "      <td>Yes</td>\n",
       "      <td>Yes</td>\n",
       "      <td>1.0</td>\n",
       "      <td>3.0</td>\n",
       "      <td>1</td>\n",
       "    </tr>\n",
       "    <tr>\n",
       "      <th>89</th>\n",
       "      <td>1</td>\n",
       "      <td>5.0</td>\n",
       "      <td>Female</td>\n",
       "      <td>Bachelor Degree</td>\n",
       "      <td>Holiday</td>\n",
       "      <td>No</td>\n",
       "      <td>Yes</td>\n",
       "      <td>5.0</td>\n",
       "      <td>0.0</td>\n",
       "      <td>1</td>\n",
       "    </tr>\n",
       "    <tr>\n",
       "      <th>1035</th>\n",
       "      <td>1</td>\n",
       "      <td>1.0</td>\n",
       "      <td>Male</td>\n",
       "      <td>Bachelor Degree</td>\n",
       "      <td>Credit card</td>\n",
       "      <td>No</td>\n",
       "      <td>Yes</td>\n",
       "      <td>1.0</td>\n",
       "      <td>0.0</td>\n",
       "      <td>1</td>\n",
       "    </tr>\n",
       "    <tr>\n",
       "      <th>386</th>\n",
       "      <td>3</td>\n",
       "      <td>4.0</td>\n",
       "      <td>Female</td>\n",
       "      <td>Bachelor Degree</td>\n",
       "      <td>Working Capital</td>\n",
       "      <td>No</td>\n",
       "      <td>Yes</td>\n",
       "      <td>3.0</td>\n",
       "      <td>1.0</td>\n",
       "      <td>1</td>\n",
       "    </tr>\n",
       "  </tbody>\n",
       "</table>\n",
       "</div>"
      ],
      "text/plain": [
       "      AGE  INCOME  GENDER        EDUCATION     LOAN_PURPOSE  \\\n",
       "1749    3     4.0    Male      High School      Credit card   \n",
       "3488    1     5.0  Female  Bachelor Degree  Working Capital   \n",
       "89      1     5.0  Female  Bachelor Degree          Holiday   \n",
       "1035    1     1.0    Male  Bachelor Degree      Credit card   \n",
       "386     3     4.0  Female  Bachelor Degree  Working Capital   \n",
       "\n",
       "     HAS_APPLIED_BEFORE HAS_INCOME_VERIFICATION  LOANS_WITHOUT_DELAYS  \\\n",
       "1749                 No                     Yes                   3.0   \n",
       "3488                Yes                     Yes                   1.0   \n",
       "89                   No                     Yes                   5.0   \n",
       "1035                 No                     Yes                   1.0   \n",
       "386                  No                     Yes                   3.0   \n",
       "\n",
       "      LOANS_WITH_DELAYS  LOAN_WAS_PAID_BACK  \n",
       "1749                2.0                   1  \n",
       "3488                3.0                   1  \n",
       "89                  0.0                   1  \n",
       "1035                0.0                   1  \n",
       "386                 1.0                   1  "
      ]
     },
     "execution_count": 29,
     "metadata": {},
     "output_type": "execute_result"
    }
   ],
   "source": [
    "# remove INCOMEBAND\n",
    "df = df.drop(['INCOMEBAND'], axis=1)\n",
    "df.head()"
   ]
  },
  {
   "cell_type": "markdown",
   "metadata": {},
   "source": [
    "### 7.C. Visualizing GENDER feature "
   ]
  },
  {
   "cell_type": "code",
   "execution_count": 30,
   "metadata": {},
   "outputs": [
    {
     "name": "stdout",
     "output_type": "stream",
     "text": [
      "Male      1714\n",
      "Female    1487\n",
      "Name: GENDER, dtype: int64\n"
     ]
    },
    {
     "data": {
      "image/png": "[encoded data removed]",
      "text/plain": [
       "<Figure size 864x360 with 1 Axes>"
      ]
     },
     "metadata": {
      "needs_background": "light"
     },
     "output_type": "display_data"
    }
   ],
   "source": [
    "# visualize gender distribution related to target\n",
    "print(df.GENDER.value_counts())\n",
    "\n",
    "plt.figure(figsize=(12,5))\n",
    "ax = sns.countplot(hue=\"LOAN_WAS_PAID_BACK\", x=\"GENDER\", data=df)\n",
    "plt.title(\"Distribution of GENDER\")\n",
    "plt.show()"
   ]
  },
  {
   "cell_type": "markdown",
   "metadata": {},
   "source": [
    "Based on the visualisation we can see while Female make up smaller proportion of customer in the sample, number of defaulted female is higher than their counterpart. Therefore we are going to include gender as a feature"
   ]
  },
  {
   "cell_type": "markdown",
   "metadata": {},
   "source": [
    "### 7.D. Visualizing EDUCATION"
   ]
  },
  {
   "cell_type": "code",
   "execution_count": 31,
   "metadata": {},
   "outputs": [
    {
     "data": {
      "image/png": "[encoded data removed]",
      "text/plain": [
       "<Figure size 1440x360 with 1 Axes>"
      ]
     },
     "metadata": {
      "needs_background": "light"
     },
     "output_type": "display_data"
    }
   ],
   "source": [
    "plt.figure(figsize=(20,5))\n",
    "ax = sns.countplot(hue=\"LOAN_WAS_PAID_BACK\",\n",
    "                   x=\"EDUCATION\", \n",
    "                   data=df, \n",
    "                  order = df[\"EDUCATION\"].value_counts().index)\n",
    "plt.title(\"Distribution of EDUCATION\")\n",
    "plt.show()"
   ]
  },
  {
   "cell_type": "markdown",
   "metadata": {},
   "source": [
    "#### Let's see how education and gender corelate with each other "
   ]
  },
  {
   "cell_type": "code",
   "execution_count": 32,
   "metadata": {},
   "outputs": [],
   "source": [
    "edu_gender_1 = df.loc[df['LOAN_WAS_PAID_BACK'] == 1,\n",
    "                      ['EDUCATION', 'GENDER', 'LOAN_WAS_PAID_BACK']]\\\n",
    ".groupby('EDUCATION')['GENDER'].value_counts(normalize=True).unstack().reset_index()\n",
    "\n",
    "edu_gender_0 = df.loc[df['LOAN_WAS_PAID_BACK'] == 0,\n",
    "                      ['EDUCATION', 'GENDER', 'LOAN_WAS_PAID_BACK']]\\\n",
    ".groupby('EDUCATION')['GENDER'].value_counts(normalize=True).unstack().reset_index()"
   ]
  },
  {
   "cell_type": "code",
   "execution_count": 33,
   "metadata": {},
   "outputs": [],
   "source": [
    "edu_0 = pd.melt(edu_gender_0, id_vars = \"EDUCATION\")\n",
    "edu_1 = pd.melt(edu_gender_1, id_vars = \"EDUCATION\")"
   ]
  },
  {
   "cell_type": "code",
   "execution_count": 34,
   "metadata": {},
   "outputs": [
    {
     "data": {
      "image/png": "[encoded data removed]",
      "text/plain": [
       "<Figure size 792.125x360 with 1 Axes>"
      ]
     },
     "metadata": {
      "needs_background": "light"
     },
     "output_type": "display_data"
    },
    {
     "data": {
      "image/png": "[encoded data removed]",
      "text/plain": [
       "<Figure size 792.125x360 with 1 Axes>"
      ]
     },
     "metadata": {
      "needs_background": "light"
     },
     "output_type": "display_data"
    }
   ],
   "source": [
    "sns.catplot(x = 'EDUCATION', y='value', \n",
    "            hue = 'GENDER',data=edu_1, \n",
    "            kind='bar',  height=5, aspect=2)\n",
    "plt.title(\"Distribution of gender based on education, good customer\")\n",
    "plt.ylabel(\"percentage\")\n",
    "plt.show()\n",
    "\n",
    "sns.catplot(x = 'EDUCATION', y='value', \n",
    "            hue = 'GENDER',data=edu_0, \n",
    "            kind='bar',  height=5, aspect=2)\n",
    "plt.title(\"Distribution of gender based on education, bad customer\")\n",
    "plt.ylabel(\"percentage\")\n",
    "plt.show()"
   ]
  },
  {
   "cell_type": "markdown",
   "metadata": {},
   "source": [
    "**What we discover**\n",
    "\n",
    "- Male with higher degree of education are more likely to pay bay their loan and become good customer \n",
    "- Proportionaly there are more female with high school education level in both good and bad customer \n",
    "- Surprisingly, all male customer with a post graduate degree are good customer and paid back all their loan\n",
    "- While at the same time, we can see that except in diploma and other education level, female applicants tend to default on their loan accross all education level\n",
    "\n",
    "**Decision**\n",
    "\n",
    "We are also going to include EDUCATION as a feature in our model"
   ]
  },
  {
   "cell_type": "markdown",
   "metadata": {},
   "source": [
    "### 7.E. LOAN_PURPOSE "
   ]
  },
  {
   "cell_type": "code",
   "execution_count": 35,
   "metadata": {},
   "outputs": [
    {
     "data": {
      "image/png": "[encoded data removed]",
      "text/plain": [
       "<Figure size 1440x360 with 1 Axes>"
      ]
     },
     "metadata": {
      "needs_background": "light"
     },
     "output_type": "display_data"
    }
   ],
   "source": [
    "plt.figure(figsize=(20,5))\n",
    "ax = sns.countplot(hue=\"LOAN_WAS_PAID_BACK\",\n",
    "                   x=\"LOAN_PURPOSE\", \n",
    "                   data=df, \n",
    "                  order = df[\"LOAN_PURPOSE\"].value_counts().index)\n",
    "plt.title(\"Distribution of LOAN_PURPOSE\")\n",
    "plt.show()"
   ]
  },
  {
   "cell_type": "markdown",
   "metadata": {},
   "source": [
    "**What we discover**\n",
    "\n",
    "- Most of the customer apply for productive loan to help their business, as the top 2 loans are working capital and renovation\n",
    "- Consumptive loan are next category, in which credit card, unsecured and loan for holiday purpose are next in terms of number of applicants\n",
    "- We can also see there is a trend , in which top 3 loan category has the highest amount of default customer by counts, which might be valuable for the model\n",
    "\n",
    "**Decision**\n",
    "\n",
    "We are also going to include LOAN_PURPOSE as a feature in our model"
   ]
  },
  {
   "cell_type": "markdown",
   "metadata": {},
   "source": [
    "###  7.F. HAS_INCOME_VERIFICATION"
   ]
  },
  {
   "cell_type": "code",
   "execution_count": 36,
   "metadata": {},
   "outputs": [],
   "source": [
    "# let's see how income verification corelate with income and target \n",
    "income_1 = df.loc[df['LOAN_WAS_PAID_BACK'] == 1,\n",
    "                      ['INCOME', 'HAS_INCOME_VERIFICATION', 'LOAN_WAS_PAID_BACK']]\\\n",
    ".groupby('INCOME')['HAS_INCOME_VERIFICATION'].value_counts(normalize=True).unstack().reset_index()\n",
    "\n",
    "income_0 = df.loc[df['LOAN_WAS_PAID_BACK'] == 0,\n",
    "                      ['INCOME', 'HAS_INCOME_VERIFICATION', 'LOAN_WAS_PAID_BACK']]\\\n",
    ".groupby('INCOME')['HAS_INCOME_VERIFICATION'].value_counts(normalize=True).unstack().reset_index()\n",
    "\n",
    "income_1_df = pd.melt(income_1, id_vars = \"INCOME\")\n",
    "income_0_df = pd.melt(income_0, id_vars = \"INCOME\")"
   ]
  },
  {
   "cell_type": "code",
   "execution_count": 37,
   "metadata": {},
   "outputs": [
    {
     "data": {
      "text/html": [
       "<div>\n",
       "<style scoped>\n",
       "    .dataframe tbody tr th:only-of-type {\n",
       "        vertical-align: middle;\n",
       "    }\n",
       "\n",
       "    .dataframe tbody tr th {\n",
       "        vertical-align: top;\n",
       "    }\n",
       "\n",
       "    .dataframe thead th {\n",
       "        text-align: right;\n",
       "    }\n",
       "</style>\n",
       "<table border=\"1\" class=\"dataframe\">\n",
       "  <thead>\n",
       "    <tr style=\"text-align: right;\">\n",
       "      <th></th>\n",
       "      <th>INCOME</th>\n",
       "      <th>HAS_INCOME_VERIFICATION</th>\n",
       "      <th>value</th>\n",
       "    </tr>\n",
       "  </thead>\n",
       "  <tbody>\n",
       "    <tr>\n",
       "      <th>0</th>\n",
       "      <td>0.0</td>\n",
       "      <td>No</td>\n",
       "      <td>0.033829</td>\n",
       "    </tr>\n",
       "    <tr>\n",
       "      <th>1</th>\n",
       "      <td>1.0</td>\n",
       "      <td>No</td>\n",
       "      <td>0.002849</td>\n",
       "    </tr>\n",
       "    <tr>\n",
       "      <th>2</th>\n",
       "      <td>2.0</td>\n",
       "      <td>No</td>\n",
       "      <td>0.025316</td>\n",
       "    </tr>\n",
       "    <tr>\n",
       "      <th>3</th>\n",
       "      <td>3.0</td>\n",
       "      <td>No</td>\n",
       "      <td>0.020270</td>\n",
       "    </tr>\n",
       "    <tr>\n",
       "      <th>4</th>\n",
       "      <td>4.0</td>\n",
       "      <td>No</td>\n",
       "      <td>0.009772</td>\n",
       "    </tr>\n",
       "    <tr>\n",
       "      <th>5</th>\n",
       "      <td>5.0</td>\n",
       "      <td>No</td>\n",
       "      <td>0.006073</td>\n",
       "    </tr>\n",
       "    <tr>\n",
       "      <th>6</th>\n",
       "      <td>0.0</td>\n",
       "      <td>Yes</td>\n",
       "      <td>0.966171</td>\n",
       "    </tr>\n",
       "    <tr>\n",
       "      <th>7</th>\n",
       "      <td>1.0</td>\n",
       "      <td>Yes</td>\n",
       "      <td>0.997151</td>\n",
       "    </tr>\n",
       "    <tr>\n",
       "      <th>8</th>\n",
       "      <td>2.0</td>\n",
       "      <td>Yes</td>\n",
       "      <td>0.974684</td>\n",
       "    </tr>\n",
       "    <tr>\n",
       "      <th>9</th>\n",
       "      <td>3.0</td>\n",
       "      <td>Yes</td>\n",
       "      <td>0.979730</td>\n",
       "    </tr>\n",
       "    <tr>\n",
       "      <th>10</th>\n",
       "      <td>4.0</td>\n",
       "      <td>Yes</td>\n",
       "      <td>0.990228</td>\n",
       "    </tr>\n",
       "    <tr>\n",
       "      <th>11</th>\n",
       "      <td>5.0</td>\n",
       "      <td>Yes</td>\n",
       "      <td>0.993927</td>\n",
       "    </tr>\n",
       "  </tbody>\n",
       "</table>\n",
       "</div>"
      ],
      "text/plain": [
       "    INCOME HAS_INCOME_VERIFICATION     value\n",
       "0      0.0                      No  0.033829\n",
       "1      1.0                      No  0.002849\n",
       "2      2.0                      No  0.025316\n",
       "3      3.0                      No  0.020270\n",
       "4      4.0                      No  0.009772\n",
       "5      5.0                      No  0.006073\n",
       "6      0.0                     Yes  0.966171\n",
       "7      1.0                     Yes  0.997151\n",
       "8      2.0                     Yes  0.974684\n",
       "9      3.0                     Yes  0.979730\n",
       "10     4.0                     Yes  0.990228\n",
       "11     5.0                     Yes  0.993927"
      ]
     },
     "execution_count": 37,
     "metadata": {},
     "output_type": "execute_result"
    }
   ],
   "source": [
    "income_1_df"
   ]
  },
  {
   "cell_type": "code",
   "execution_count": 38,
   "metadata": {},
   "outputs": [
    {
     "data": {
      "image/png": "[encoded data removed]",
      "text/plain": [
       "<Figure size 867.125x360 with 1 Axes>"
      ]
     },
     "metadata": {
      "needs_background": "light"
     },
     "output_type": "display_data"
    },
    {
     "data": {
      "image/png": "[encoded data removed]",
      "text/plain": [
       "<Figure size 867.125x360 with 1 Axes>"
      ]
     },
     "metadata": {
      "needs_background": "light"
     },
     "output_type": "display_data"
    }
   ],
   "source": [
    "sns.catplot(x = 'INCOME', y='value', \n",
    "            hue = 'HAS_INCOME_VERIFICATION',data=income_1_df, \n",
    "            kind='bar',  height=5, aspect=2)\n",
    "plt.title(\"Distribution of INCOME based on HAS_INCOME_VERIFICATION, good customer\")\n",
    "plt.ylabel(\"percentage\")\n",
    "plt.show()\n",
    "\n",
    "sns.catplot(x = 'INCOME', y='value', \n",
    "            hue = 'HAS_INCOME_VERIFICATION',data=income_0_df, \n",
    "            kind='bar',  height=5, aspect=2)\n",
    "plt.title(\"Distribution of INCOME based on HAS_INCOME_VERIFICATION, bad customer\")\n",
    "plt.ylabel(\"percentage\")\n",
    "plt.show()"
   ]
  },
  {
   "cell_type": "markdown",
   "metadata": {},
   "source": [
    "We can see that customer without income verification are more likely to default on their payment, especially in the lower income region (group 0 - 2)"
   ]
  },
  {
   "cell_type": "markdown",
   "metadata": {},
   "source": [
    "### 7. G. Distribution of HAS_APPLIED BEFORE feature"
   ]
  },
  {
   "cell_type": "code",
   "execution_count": 39,
   "metadata": {},
   "outputs": [
    {
     "data": {
      "image/png": "[encoded data removed]",
      "text/plain": [
       "<Figure size 1440x360 with 1 Axes>"
      ]
     },
     "metadata": {
      "needs_background": "light"
     },
     "output_type": "display_data"
    }
   ],
   "source": [
    "plt.figure(figsize=(20,5))\n",
    "ax = sns.countplot(hue=\"LOAN_WAS_PAID_BACK\",\n",
    "                   x=\"HAS_APPLIED_BEFORE\", \n",
    "                   data=df, \n",
    "                  order = df[\"HAS_APPLIED_BEFORE\"].value_counts().index)\n",
    "plt.title(\"Distribution of EDUCATION\")\n",
    "plt.show()"
   ]
  },
  {
   "cell_type": "markdown",
   "metadata": {},
   "source": [
    "## 8. Feature Engineering and Selection"
   ]
  },
  {
   "cell_type": "markdown",
   "metadata": {},
   "source": [
    "Based on previous parts, we are going to make 2 model that distinguished by have or doesn't have bureau data and we will use features:\n",
    "- AGE (binned)\n",
    "- INCOME (binned)\n",
    "- GENDER\n",
    "- EDUCATION\n",
    "- LOAN_PURPOSE\n",
    "- HAS_APPLIED_BEFORE\n",
    "- HAS INCOME VERIFICATION\n",
    "- Bureau data (\"LOANS_WITHOUT_DELAYS\", \"LOANS_WITH_DELAYS\", \"KNOWN_ASSETS\")"
   ]
  },
  {
   "cell_type": "code",
   "execution_count": 40,
   "metadata": {},
   "outputs": [],
   "source": [
    "def binning_features(df):\n",
    "    #binning Age\n",
    "    df.loc[ df['AGE'] <= 20, 'AGE'] = 0\n",
    "    df.loc[(df['AGE'] > 20) & (df['AGE'] <= 34), 'AGE'] = 1\n",
    "    df.loc[(df['AGE'] > 34) & (df['AGE'] <= 40), 'AGE'] = 2\n",
    "    df.loc[(df['AGE'] > 40) & (df['AGE'] <= 47), 'AGE'] = 3\n",
    "    df.loc[ df['AGE'] > 47, 'AGE'] = 4\n",
    "    \n",
    "    #income\n",
    "    df.loc[ df['INCOME'] <= 4e6, 'INCOME'] = 0\n",
    "    df.loc[(df['INCOME'] > 4e6) & (df['INCOME'] <= 5e6), 'INCOME'] = 1\n",
    "    df.loc[(df['INCOME'] > 5e6) & (df['INCOME'] <= 6e6), 'INCOME'] = 2\n",
    "    df.loc[(df['INCOME'] > 6e6) & (df['INCOME'] <= 8e6), 'INCOME'] = 3\n",
    "    df.loc[(df['INCOME'] > 8e6) & (df['INCOME'] <= 11e6), 'INCOME'] = 4\n",
    "    df.loc[ df['INCOME'] > 11e6, 'INCOME'] = 5\n",
    "\n",
    "    return df"
   ]
  },
  {
   "cell_type": "code",
   "execution_count": 41,
   "metadata": {},
   "outputs": [],
   "source": [
    "def one_hot_encoder(x_cat):\n",
    "    df = x_cat.copy()\n",
    "    index = x_cat.index\n",
    "    col = x_cat.columns\n",
    "    \n",
    "    encoder = OneHotEncoder(sparse=False, handle_unknown='ignore')\n",
    "    encoder.fit(x_cat)\n",
    "\n",
    "    encoded = encoder.transform(x_cat)\n",
    "    feat_names = encoder.get_feature_names(col)\n",
    "    encoded = pd.DataFrame(encoded)\n",
    "    encoded.index = index\n",
    "    encoded.columns = feat_names\n",
    "    return encoded"
   ]
  },
  {
   "cell_type": "code",
   "execution_count": 42,
   "metadata": {},
   "outputs": [],
   "source": [
    "#compile all engineering\n",
    "def feature_engineering(df):\n",
    "    #drop some features\n",
    "    df = df.drop([\"customer_id\", \"APPLICATION_RECEIVE_TIME\", \"KNOWN_ASSETS\", \"Score\"], axis=1)\n",
    "    #dropna for Income and Loan Purpose\n",
    "    df = df.dropna(subset = ['INCOME', 'LOAN_PURPOSE'])\n",
    "    \n",
    "    #binning\n",
    "    binning_features(df)\n",
    "    \n",
    "    #converting categorical Features\n",
    "    df['GENDER'] = df['GENDER'].map( {'Male': 1, 'Female': 0} ).astype(int)\n",
    "    df['HAS_APPLIED_BEFORE'] = df['HAS_APPLIED_BEFORE'].map( {'Yes': 1, 'No': 0} ).astype(int)\n",
    "    df['HAS_INCOME_VERIFICATION'] = df['HAS_INCOME_VERIFICATION'].map( {'Yes': 1, 'No': 0} ).astype(int)\n",
    "    \n",
    "    #one hot encoding\n",
    "    df_num = df.drop(['EDUCATION','LOAN_PURPOSE'], axis=1)\n",
    "    df_hot = one_hot_encoder(df[['EDUCATION','LOAN_PURPOSE']])\n",
    "    df_ready = df_num.join(df_hot)\n",
    "    \n",
    "    #split data with or without bureau data\n",
    "    df_with_bureau = df_ready.dropna(subset = ['LOANS_WITHOUT_DELAYS', 'LOANS_WITH_DELAYS'])\n",
    "    df_without_bureau = df_ready[df_ready['LOANS_WITH_DELAYS'].isna() == True]\n",
    "    df_without_bureau = df_ready.drop(columns=[ \"LOANS_WITHOUT_DELAYS\", \"LOANS_WITH_DELAYS\"])\n",
    "    \n",
    "    return df_with_bureau,df_without_bureau"
   ]
  },
  {
   "cell_type": "code",
   "execution_count": 43,
   "metadata": {},
   "outputs": [],
   "source": [
    "df_train = pd.concat([x_train, pd.DataFrame(y_train)], axis = 1)"
   ]
  },
  {
   "cell_type": "code",
   "execution_count": 44,
   "metadata": {},
   "outputs": [],
   "source": [
    "# This is our final feature\n",
    "df_train_with_bureau, df_train_without_bureau = feature_engineering(df_train)"
   ]
  },
  {
   "cell_type": "code",
   "execution_count": 45,
   "metadata": {},
   "outputs": [
    {
     "data": {
      "text/html": [
       "<div>\n",
       "<style scoped>\n",
       "    .dataframe tbody tr th:only-of-type {\n",
       "        vertical-align: middle;\n",
       "    }\n",
       "\n",
       "    .dataframe tbody tr th {\n",
       "        vertical-align: top;\n",
       "    }\n",
       "\n",
       "    .dataframe thead th {\n",
       "        text-align: right;\n",
       "    }\n",
       "</style>\n",
       "<table border=\"1\" class=\"dataframe\">\n",
       "  <thead>\n",
       "    <tr style=\"text-align: right;\">\n",
       "      <th></th>\n",
       "      <th>AGE</th>\n",
       "      <th>INCOME</th>\n",
       "      <th>GENDER</th>\n",
       "      <th>HAS_APPLIED_BEFORE</th>\n",
       "      <th>HAS_INCOME_VERIFICATION</th>\n",
       "      <th>LOANS_WITHOUT_DELAYS</th>\n",
       "      <th>LOANS_WITH_DELAYS</th>\n",
       "      <th>LOAN_WAS_PAID_BACK</th>\n",
       "      <th>EDUCATION_Bachelor Degree</th>\n",
       "      <th>EDUCATION_Diploma</th>\n",
       "      <th>...</th>\n",
       "      <th>LOAN_PURPOSE_Credit card</th>\n",
       "      <th>LOAN_PURPOSE_Education</th>\n",
       "      <th>LOAN_PURPOSE_Electronic unsecured loan</th>\n",
       "      <th>LOAN_PURPOSE_Holiday</th>\n",
       "      <th>LOAN_PURPOSE_Housing loan</th>\n",
       "      <th>LOAN_PURPOSE_Investment</th>\n",
       "      <th>LOAN_PURPOSE_Other</th>\n",
       "      <th>LOAN_PURPOSE_Renovation</th>\n",
       "      <th>LOAN_PURPOSE_Venture capital</th>\n",
       "      <th>LOAN_PURPOSE_Working Capital</th>\n",
       "    </tr>\n",
       "  </thead>\n",
       "  <tbody>\n",
       "    <tr>\n",
       "      <th>1749</th>\n",
       "      <td>3</td>\n",
       "      <td>4.0</td>\n",
       "      <td>1</td>\n",
       "      <td>0</td>\n",
       "      <td>1</td>\n",
       "      <td>3.0</td>\n",
       "      <td>2.0</td>\n",
       "      <td>1</td>\n",
       "      <td>0.0</td>\n",
       "      <td>0.0</td>\n",
       "      <td>...</td>\n",
       "      <td>1.0</td>\n",
       "      <td>0.0</td>\n",
       "      <td>0.0</td>\n",
       "      <td>0.0</td>\n",
       "      <td>0.0</td>\n",
       "      <td>0.0</td>\n",
       "      <td>0.0</td>\n",
       "      <td>0.0</td>\n",
       "      <td>0.0</td>\n",
       "      <td>0.0</td>\n",
       "    </tr>\n",
       "    <tr>\n",
       "      <th>3488</th>\n",
       "      <td>1</td>\n",
       "      <td>5.0</td>\n",
       "      <td>0</td>\n",
       "      <td>1</td>\n",
       "      <td>1</td>\n",
       "      <td>1.0</td>\n",
       "      <td>3.0</td>\n",
       "      <td>1</td>\n",
       "      <td>1.0</td>\n",
       "      <td>0.0</td>\n",
       "      <td>...</td>\n",
       "      <td>0.0</td>\n",
       "      <td>0.0</td>\n",
       "      <td>0.0</td>\n",
       "      <td>0.0</td>\n",
       "      <td>0.0</td>\n",
       "      <td>0.0</td>\n",
       "      <td>0.0</td>\n",
       "      <td>0.0</td>\n",
       "      <td>0.0</td>\n",
       "      <td>1.0</td>\n",
       "    </tr>\n",
       "    <tr>\n",
       "      <th>89</th>\n",
       "      <td>1</td>\n",
       "      <td>5.0</td>\n",
       "      <td>0</td>\n",
       "      <td>0</td>\n",
       "      <td>1</td>\n",
       "      <td>5.0</td>\n",
       "      <td>0.0</td>\n",
       "      <td>1</td>\n",
       "      <td>1.0</td>\n",
       "      <td>0.0</td>\n",
       "      <td>...</td>\n",
       "      <td>0.0</td>\n",
       "      <td>0.0</td>\n",
       "      <td>0.0</td>\n",
       "      <td>1.0</td>\n",
       "      <td>0.0</td>\n",
       "      <td>0.0</td>\n",
       "      <td>0.0</td>\n",
       "      <td>0.0</td>\n",
       "      <td>0.0</td>\n",
       "      <td>0.0</td>\n",
       "    </tr>\n",
       "    <tr>\n",
       "      <th>1035</th>\n",
       "      <td>1</td>\n",
       "      <td>1.0</td>\n",
       "      <td>1</td>\n",
       "      <td>0</td>\n",
       "      <td>1</td>\n",
       "      <td>1.0</td>\n",
       "      <td>0.0</td>\n",
       "      <td>1</td>\n",
       "      <td>1.0</td>\n",
       "      <td>0.0</td>\n",
       "      <td>...</td>\n",
       "      <td>1.0</td>\n",
       "      <td>0.0</td>\n",
       "      <td>0.0</td>\n",
       "      <td>0.0</td>\n",
       "      <td>0.0</td>\n",
       "      <td>0.0</td>\n",
       "      <td>0.0</td>\n",
       "      <td>0.0</td>\n",
       "      <td>0.0</td>\n",
       "      <td>0.0</td>\n",
       "    </tr>\n",
       "    <tr>\n",
       "      <th>386</th>\n",
       "      <td>3</td>\n",
       "      <td>4.0</td>\n",
       "      <td>0</td>\n",
       "      <td>0</td>\n",
       "      <td>1</td>\n",
       "      <td>3.0</td>\n",
       "      <td>1.0</td>\n",
       "      <td>1</td>\n",
       "      <td>1.0</td>\n",
       "      <td>0.0</td>\n",
       "      <td>...</td>\n",
       "      <td>0.0</td>\n",
       "      <td>0.0</td>\n",
       "      <td>0.0</td>\n",
       "      <td>0.0</td>\n",
       "      <td>0.0</td>\n",
       "      <td>0.0</td>\n",
       "      <td>0.0</td>\n",
       "      <td>0.0</td>\n",
       "      <td>0.0</td>\n",
       "      <td>1.0</td>\n",
       "    </tr>\n",
       "  </tbody>\n",
       "</table>\n",
       "<p>5 rows × 25 columns</p>\n",
       "</div>"
      ],
      "text/plain": [
       "      AGE  INCOME  GENDER  HAS_APPLIED_BEFORE  HAS_INCOME_VERIFICATION  \\\n",
       "1749    3     4.0       1                   0                        1   \n",
       "3488    1     5.0       0                   1                        1   \n",
       "89      1     5.0       0                   0                        1   \n",
       "1035    1     1.0       1                   0                        1   \n",
       "386     3     4.0       0                   0                        1   \n",
       "\n",
       "      LOANS_WITHOUT_DELAYS  LOANS_WITH_DELAYS  LOAN_WAS_PAID_BACK  \\\n",
       "1749                   3.0                2.0                   1   \n",
       "3488                   1.0                3.0                   1   \n",
       "89                     5.0                0.0                   1   \n",
       "1035                   1.0                0.0                   1   \n",
       "386                    3.0                1.0                   1   \n",
       "\n",
       "      EDUCATION_Bachelor Degree  EDUCATION_Diploma  ...  \\\n",
       "1749                        0.0                0.0  ...   \n",
       "3488                        1.0                0.0  ...   \n",
       "89                          1.0                0.0  ...   \n",
       "1035                        1.0                0.0  ...   \n",
       "386                         1.0                0.0  ...   \n",
       "\n",
       "      LOAN_PURPOSE_Credit card  LOAN_PURPOSE_Education  \\\n",
       "1749                       1.0                     0.0   \n",
       "3488                       0.0                     0.0   \n",
       "89                         0.0                     0.0   \n",
       "1035                       1.0                     0.0   \n",
       "386                        0.0                     0.0   \n",
       "\n",
       "      LOAN_PURPOSE_Electronic unsecured loan  LOAN_PURPOSE_Holiday  \\\n",
       "1749                                     0.0                   0.0   \n",
       "3488                                     0.0                   0.0   \n",
       "89                                       0.0                   1.0   \n",
       "1035                                     0.0                   0.0   \n",
       "386                                      0.0                   0.0   \n",
       "\n",
       "      LOAN_PURPOSE_Housing loan  LOAN_PURPOSE_Investment  LOAN_PURPOSE_Other  \\\n",
       "1749                        0.0                      0.0                 0.0   \n",
       "3488                        0.0                      0.0                 0.0   \n",
       "89                          0.0                      0.0                 0.0   \n",
       "1035                        0.0                      0.0                 0.0   \n",
       "386                         0.0                      0.0                 0.0   \n",
       "\n",
       "      LOAN_PURPOSE_Renovation  LOAN_PURPOSE_Venture capital  \\\n",
       "1749                      0.0                           0.0   \n",
       "3488                      0.0                           0.0   \n",
       "89                        0.0                           0.0   \n",
       "1035                      0.0                           0.0   \n",
       "386                       0.0                           0.0   \n",
       "\n",
       "      LOAN_PURPOSE_Working Capital  \n",
       "1749                           0.0  \n",
       "3488                           1.0  \n",
       "89                             0.0  \n",
       "1035                           0.0  \n",
       "386                            1.0  \n",
       "\n",
       "[5 rows x 25 columns]"
      ]
     },
     "execution_count": 45,
     "metadata": {},
     "output_type": "execute_result"
    }
   ],
   "source": [
    "df_train_with_bureau.head()"
   ]
  },
  {
   "cell_type": "code",
   "execution_count": null,
   "metadata": {},
   "outputs": [],
   "source": []
  }
 ],
 "metadata": {
  "kernelspec": {
   "display_name": "Python 3",
   "language": "python",
   "name": "python3"
  },
  "language_info": {
   "codemirror_mode": {
    "name": "ipython",
    "version": 3
   },
   "file_extension": ".py",
   "mimetype": "text/x-python",
   "name": "python",
   "nbconvert_exporter": "python",
   "pygments_lexer": "ipython3",
   "version": "3.8.5"
  }
 },
 "nbformat": 4,
 "nbformat_minor": 4
}
