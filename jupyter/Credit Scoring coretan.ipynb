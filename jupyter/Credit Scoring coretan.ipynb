{
 "cells": [
  {
   "cell_type": "markdown",
   "metadata": {},
   "source": [
    "# 1. Problem Statement"
   ]
  },
  {
   "cell_type": "markdown",
   "metadata": {},
   "source": [
    "Credit scoring is an important part of the lending process by bank and financial service company. By accurately scoring a customer according to how likely they are able to pay back their loan, company can have confidence in distributing loans and grow their business. \n",
    "<br>\n",
    "    <br>\n",
    "These datasets that we are going to analyze are part of a technical assessment by one private bank, which record the data of past approved loan customers. The datasets are collections of 3 seperate data : customer information contain the demographic as well as whether they pay back their loan (our target variable), credit bureau data which contain customers past loan application, and an external scoring data. Our goal is therefore to create a model that can accurately predict the probability of a customer paying back their loan, which we will apply to new customer later on. "
   ]
  },
  {
   "cell_type": "markdown",
   "metadata": {},
   "source": [
    "# 2. Import all necessary library "
   ]
  },
  {
   "cell_type": "code",
   "execution_count": 1,
   "metadata": {},
   "outputs": [],
   "source": [
    "import pandas as pd\n",
    "import numpy as np\n",
    "import matplotlib.pyplot as plt\n",
    "import seaborn as sns\n",
    "import warnings\n",
    "warnings.filterwarnings('ignore')\n",
    "\n",
    "\n",
    "from sklearn.model_selection import train_test_split\n",
    "from sklearn.model_selection import train_test_split\n",
    "# from imblearn.under_sampling import RandomUnderSampler\n",
    "from sklearn.preprocessing import OneHotEncoder\n",
    "from sklearn.model_selection import learning_curve\n",
    "from sklearn.model_selection import validation_curve\n",
    "from sklearn.model_selection import GridSearchCV, RepeatedStratifiedKFold, cross_val_score, RandomizedSearchCV\n",
    "from sklearn.preprocessing import StandardScaler\n",
    "from sklearn.metrics import roc_auc_score, classification_report, confusion_matrix, plot_roc_curve, plot_confusion_matrix\n",
    "\n",
    "\n",
    "from sklearn.linear_model import LogisticRegression\n",
    "from sklearn.ensemble import RandomForestClassifier\n",
    "from sklearn.tree import DecisionTreeClassifier\n",
    "from sklearn.neighbors import KNeighborsClassifier\n",
    "from lightgbm import LGBMClassifier\n",
    "import xgboost as xgb"
   ]
  },
  {
   "cell_type": "markdown",
   "metadata": {},
   "source": [
    "# 3. Load all data "
   ]
  },
  {
   "cell_type": "code",
   "execution_count": 2,
   "metadata": {},
   "outputs": [
    {
     "data": {
      "text/html": [
       "<div>\n",
       "<style scoped>\n",
       "    .dataframe tbody tr th:only-of-type {\n",
       "        vertical-align: middle;\n",
       "    }\n",
       "\n",
       "    .dataframe tbody tr th {\n",
       "        vertical-align: top;\n",
       "    }\n",
       "\n",
       "    .dataframe thead th {\n",
       "        text-align: right;\n",
       "    }\n",
       "</style>\n",
       "<table border=\"1\" class=\"dataframe\">\n",
       "  <thead>\n",
       "    <tr style=\"text-align: right;\">\n",
       "      <th></th>\n",
       "      <th>customer_id</th>\n",
       "      <th>AGE</th>\n",
       "      <th>INCOME</th>\n",
       "      <th>GENDER</th>\n",
       "      <th>EDUCATION</th>\n",
       "      <th>LOAN_PURPOSE</th>\n",
       "      <th>APPLICATION_RECEIVE_TIME</th>\n",
       "      <th>HAS_APPLIED_BEFORE</th>\n",
       "      <th>HAS_INCOME_VERIFICATION</th>\n",
       "      <th>LOAN_WAS_PAID_BACK</th>\n",
       "    </tr>\n",
       "  </thead>\n",
       "  <tbody>\n",
       "    <tr>\n",
       "      <th>6583</th>\n",
       "      <td>43180</td>\n",
       "      <td>38</td>\n",
       "      <td>11000000.0</td>\n",
       "      <td>Female</td>\n",
       "      <td>Bachelor Degree</td>\n",
       "      <td>Working Capital</td>\n",
       "      <td>10:54:00</td>\n",
       "      <td>No</td>\n",
       "      <td>Yes</td>\n",
       "      <td>1</td>\n",
       "    </tr>\n",
       "    <tr>\n",
       "      <th>6584</th>\n",
       "      <td>43181</td>\n",
       "      <td>37</td>\n",
       "      <td>30000000.0</td>\n",
       "      <td>Female</td>\n",
       "      <td>Bachelor Degree</td>\n",
       "      <td>Education</td>\n",
       "      <td>07:04:00</td>\n",
       "      <td>No</td>\n",
       "      <td>Yes</td>\n",
       "      <td>1</td>\n",
       "    </tr>\n",
       "    <tr>\n",
       "      <th>6585</th>\n",
       "      <td>43182</td>\n",
       "      <td>50</td>\n",
       "      <td>16000000.0</td>\n",
       "      <td>Female</td>\n",
       "      <td>Master's Degree/Post graduate</td>\n",
       "      <td>Renovation</td>\n",
       "      <td>10:47:00</td>\n",
       "      <td>No</td>\n",
       "      <td>Yes</td>\n",
       "      <td>1</td>\n",
       "    </tr>\n",
       "    <tr>\n",
       "      <th>6586</th>\n",
       "      <td>43184</td>\n",
       "      <td>36</td>\n",
       "      <td>5000000.0</td>\n",
       "      <td>Male</td>\n",
       "      <td>Bachelor Degree</td>\n",
       "      <td>Other</td>\n",
       "      <td>15:49:00</td>\n",
       "      <td>No</td>\n",
       "      <td>Yes</td>\n",
       "      <td>1</td>\n",
       "    </tr>\n",
       "    <tr>\n",
       "      <th>6587</th>\n",
       "      <td>43185</td>\n",
       "      <td>37</td>\n",
       "      <td>40000000.0</td>\n",
       "      <td>Male</td>\n",
       "      <td>Bachelor Degree</td>\n",
       "      <td>Electronic unsecured loan</td>\n",
       "      <td>11:48:00</td>\n",
       "      <td>Yes</td>\n",
       "      <td>Yes</td>\n",
       "      <td>1</td>\n",
       "    </tr>\n",
       "  </tbody>\n",
       "</table>\n",
       "</div>"
      ],
      "text/plain": [
       "      customer_id  AGE      INCOME  GENDER                      EDUCATION  \\\n",
       "6583        43180   38  11000000.0  Female                Bachelor Degree   \n",
       "6584        43181   37  30000000.0  Female                Bachelor Degree   \n",
       "6585        43182   50  16000000.0  Female  Master's Degree/Post graduate   \n",
       "6586        43184   36   5000000.0    Male                Bachelor Degree   \n",
       "6587        43185   37  40000000.0    Male                Bachelor Degree   \n",
       "\n",
       "                   LOAN_PURPOSE APPLICATION_RECEIVE_TIME HAS_APPLIED_BEFORE  \\\n",
       "6583            Working Capital                 10:54:00                 No   \n",
       "6584                  Education                 07:04:00                 No   \n",
       "6585                 Renovation                 10:47:00                 No   \n",
       "6586                      Other                 15:49:00                 No   \n",
       "6587  Electronic unsecured loan                 11:48:00                Yes   \n",
       "\n",
       "     HAS_INCOME_VERIFICATION  LOAN_WAS_PAID_BACK  \n",
       "6583                     Yes                   1  \n",
       "6584                     Yes                   1  \n",
       "6585                     Yes                   1  \n",
       "6586                     Yes                   1  \n",
       "6587                     Yes                   1  "
      ]
     },
     "execution_count": 2,
     "metadata": {},
     "output_type": "execute_result"
    }
   ],
   "source": [
    "master = pd.read_csv(\"data/Customer_Information.csv\")\n",
    "master.tail()"
   ]
  },
  {
   "cell_type": "code",
   "execution_count": 3,
   "metadata": {},
   "outputs": [
    {
     "data": {
      "text/html": [
       "<div>\n",
       "<style scoped>\n",
       "    .dataframe tbody tr th:only-of-type {\n",
       "        vertical-align: middle;\n",
       "    }\n",
       "\n",
       "    .dataframe tbody tr th {\n",
       "        vertical-align: top;\n",
       "    }\n",
       "\n",
       "    .dataframe thead th {\n",
       "        text-align: right;\n",
       "    }\n",
       "</style>\n",
       "<table border=\"1\" class=\"dataframe\">\n",
       "  <thead>\n",
       "    <tr style=\"text-align: right;\">\n",
       "      <th></th>\n",
       "      <th>customer_id</th>\n",
       "      <th>LOANS_WITHOUT_DELAYS</th>\n",
       "      <th>LOANS_WITH_DELAYS</th>\n",
       "      <th>KNOWN_ASSETS</th>\n",
       "    </tr>\n",
       "  </thead>\n",
       "  <tbody>\n",
       "    <tr>\n",
       "      <th>0</th>\n",
       "      <td>36493</td>\n",
       "      <td>3</td>\n",
       "      <td>3</td>\n",
       "      <td>40000000.0</td>\n",
       "    </tr>\n",
       "    <tr>\n",
       "      <th>1</th>\n",
       "      <td>36494</td>\n",
       "      <td>3</td>\n",
       "      <td>0</td>\n",
       "      <td>20000000.0</td>\n",
       "    </tr>\n",
       "    <tr>\n",
       "      <th>2</th>\n",
       "      <td>36496</td>\n",
       "      <td>2</td>\n",
       "      <td>1</td>\n",
       "      <td>0.0</td>\n",
       "    </tr>\n",
       "    <tr>\n",
       "      <th>3</th>\n",
       "      <td>36497</td>\n",
       "      <td>1</td>\n",
       "      <td>0</td>\n",
       "      <td>40000000.0</td>\n",
       "    </tr>\n",
       "    <tr>\n",
       "      <th>4</th>\n",
       "      <td>36498</td>\n",
       "      <td>7</td>\n",
       "      <td>0</td>\n",
       "      <td>NaN</td>\n",
       "    </tr>\n",
       "  </tbody>\n",
       "</table>\n",
       "</div>"
      ],
      "text/plain": [
       "   customer_id  LOANS_WITHOUT_DELAYS  LOANS_WITH_DELAYS  KNOWN_ASSETS\n",
       "0        36493                     3                  3    40000000.0\n",
       "1        36494                     3                  0    20000000.0\n",
       "2        36496                     2                  1           0.0\n",
       "3        36497                     1                  0    40000000.0\n",
       "4        36498                     7                  0           NaN"
      ]
     },
     "execution_count": 3,
     "metadata": {},
     "output_type": "execute_result"
    }
   ],
   "source": [
    "bureau = pd.read_csv(\"data/Credit_Bureau_Data.csv\")\n",
    "bureau.head()"
   ]
  },
  {
   "cell_type": "code",
   "execution_count": 4,
   "metadata": {},
   "outputs": [
    {
     "data": {
      "text/html": [
       "<div>\n",
       "<style scoped>\n",
       "    .dataframe tbody tr th:only-of-type {\n",
       "        vertical-align: middle;\n",
       "    }\n",
       "\n",
       "    .dataframe tbody tr th {\n",
       "        vertical-align: top;\n",
       "    }\n",
       "\n",
       "    .dataframe thead th {\n",
       "        text-align: right;\n",
       "    }\n",
       "</style>\n",
       "<table border=\"1\" class=\"dataframe\">\n",
       "  <thead>\n",
       "    <tr style=\"text-align: right;\">\n",
       "      <th></th>\n",
       "      <th>customer_id</th>\n",
       "      <th>Score</th>\n",
       "    </tr>\n",
       "  </thead>\n",
       "  <tbody>\n",
       "    <tr>\n",
       "      <th>0</th>\n",
       "      <td>36493</td>\n",
       "      <td>0.77</td>\n",
       "    </tr>\n",
       "    <tr>\n",
       "      <th>1</th>\n",
       "      <td>36494</td>\n",
       "      <td>0.93</td>\n",
       "    </tr>\n",
       "    <tr>\n",
       "      <th>2</th>\n",
       "      <td>36496</td>\n",
       "      <td>0.78</td>\n",
       "    </tr>\n",
       "    <tr>\n",
       "      <th>3</th>\n",
       "      <td>36497</td>\n",
       "      <td>0.81</td>\n",
       "    </tr>\n",
       "    <tr>\n",
       "      <th>4</th>\n",
       "      <td>36498</td>\n",
       "      <td>0.78</td>\n",
       "    </tr>\n",
       "  </tbody>\n",
       "</table>\n",
       "</div>"
      ],
      "text/plain": [
       "   customer_id  Score\n",
       "0        36493   0.77\n",
       "1        36494   0.93\n",
       "2        36496   0.78\n",
       "3        36497   0.81\n",
       "4        36498   0.78"
      ]
     },
     "execution_count": 4,
     "metadata": {},
     "output_type": "execute_result"
    }
   ],
   "source": [
    "external = pd.read_csv(\"data/External_Score.csv\")\n",
    "external.head()"
   ]
  },
  {
   "cell_type": "markdown",
   "metadata": {},
   "source": [
    "# 4. Train-test-validation split"
   ]
  },
  {
   "cell_type": "markdown",
   "metadata": {},
   "source": [
    "We are going to do splitting and do all of our analysis on the training dataset only. But first we will combine all 3 datasets into one big dataset"
   ]
  },
  {
   "cell_type": "code",
   "execution_count": 5,
   "metadata": {},
   "outputs": [
    {
     "data": {
      "text/html": [
       "<div>\n",
       "<style scoped>\n",
       "    .dataframe tbody tr th:only-of-type {\n",
       "        vertical-align: middle;\n",
       "    }\n",
       "\n",
       "    .dataframe tbody tr th {\n",
       "        vertical-align: top;\n",
       "    }\n",
       "\n",
       "    .dataframe thead th {\n",
       "        text-align: right;\n",
       "    }\n",
       "</style>\n",
       "<table border=\"1\" class=\"dataframe\">\n",
       "  <thead>\n",
       "    <tr style=\"text-align: right;\">\n",
       "      <th></th>\n",
       "      <th>customer_id</th>\n",
       "      <th>AGE</th>\n",
       "      <th>INCOME</th>\n",
       "      <th>GENDER</th>\n",
       "      <th>EDUCATION</th>\n",
       "      <th>LOAN_PURPOSE</th>\n",
       "      <th>APPLICATION_RECEIVE_TIME</th>\n",
       "      <th>HAS_APPLIED_BEFORE</th>\n",
       "      <th>HAS_INCOME_VERIFICATION</th>\n",
       "      <th>LOAN_WAS_PAID_BACK</th>\n",
       "      <th>LOANS_WITHOUT_DELAYS</th>\n",
       "      <th>LOANS_WITH_DELAYS</th>\n",
       "      <th>KNOWN_ASSETS</th>\n",
       "      <th>Score</th>\n",
       "    </tr>\n",
       "  </thead>\n",
       "  <tbody>\n",
       "    <tr>\n",
       "      <th>0</th>\n",
       "      <td>36493</td>\n",
       "      <td>40</td>\n",
       "      <td>10000000.0</td>\n",
       "      <td>Female</td>\n",
       "      <td>Diploma</td>\n",
       "      <td>Working Capital</td>\n",
       "      <td>09:07:00</td>\n",
       "      <td>No</td>\n",
       "      <td>Yes</td>\n",
       "      <td>1</td>\n",
       "      <td>3.0</td>\n",
       "      <td>3.0</td>\n",
       "      <td>40000000.0</td>\n",
       "      <td>0.77</td>\n",
       "    </tr>\n",
       "    <tr>\n",
       "      <th>1</th>\n",
       "      <td>36494</td>\n",
       "      <td>39</td>\n",
       "      <td>15000000.0</td>\n",
       "      <td>Female</td>\n",
       "      <td>Bachelor Degree</td>\n",
       "      <td>Other</td>\n",
       "      <td>15:15:00</td>\n",
       "      <td>No</td>\n",
       "      <td>Yes</td>\n",
       "      <td>1</td>\n",
       "      <td>3.0</td>\n",
       "      <td>0.0</td>\n",
       "      <td>20000000.0</td>\n",
       "      <td>0.93</td>\n",
       "    </tr>\n",
       "    <tr>\n",
       "      <th>2</th>\n",
       "      <td>36495</td>\n",
       "      <td>28</td>\n",
       "      <td>15000000.0</td>\n",
       "      <td>Male</td>\n",
       "      <td>Bachelor Degree</td>\n",
       "      <td>Renovation</td>\n",
       "      <td>07:13:00</td>\n",
       "      <td>No</td>\n",
       "      <td>Yes</td>\n",
       "      <td>1</td>\n",
       "      <td>NaN</td>\n",
       "      <td>NaN</td>\n",
       "      <td>NaN</td>\n",
       "      <td>NaN</td>\n",
       "    </tr>\n",
       "    <tr>\n",
       "      <th>3</th>\n",
       "      <td>36496</td>\n",
       "      <td>28</td>\n",
       "      <td>4000000.0</td>\n",
       "      <td>Male</td>\n",
       "      <td>Bachelor Degree</td>\n",
       "      <td>Renovation</td>\n",
       "      <td>12:05:00</td>\n",
       "      <td>Yes</td>\n",
       "      <td>Yes</td>\n",
       "      <td>1</td>\n",
       "      <td>2.0</td>\n",
       "      <td>1.0</td>\n",
       "      <td>0.0</td>\n",
       "      <td>0.78</td>\n",
       "    </tr>\n",
       "    <tr>\n",
       "      <th>4</th>\n",
       "      <td>36497</td>\n",
       "      <td>38</td>\n",
       "      <td>10000000.0</td>\n",
       "      <td>Male</td>\n",
       "      <td>Diploma</td>\n",
       "      <td>Renovation</td>\n",
       "      <td>14:35:00</td>\n",
       "      <td>Yes</td>\n",
       "      <td>Yes</td>\n",
       "      <td>0</td>\n",
       "      <td>1.0</td>\n",
       "      <td>0.0</td>\n",
       "      <td>40000000.0</td>\n",
       "      <td>0.81</td>\n",
       "    </tr>\n",
       "  </tbody>\n",
       "</table>\n",
       "</div>"
      ],
      "text/plain": [
       "   customer_id  AGE      INCOME  GENDER        EDUCATION     LOAN_PURPOSE  \\\n",
       "0        36493   40  10000000.0  Female          Diploma  Working Capital   \n",
       "1        36494   39  15000000.0  Female  Bachelor Degree            Other   \n",
       "2        36495   28  15000000.0    Male  Bachelor Degree       Renovation   \n",
       "3        36496   28   4000000.0    Male  Bachelor Degree       Renovation   \n",
       "4        36497   38  10000000.0    Male          Diploma       Renovation   \n",
       "\n",
       "  APPLICATION_RECEIVE_TIME HAS_APPLIED_BEFORE HAS_INCOME_VERIFICATION  \\\n",
       "0                 09:07:00                 No                     Yes   \n",
       "1                 15:15:00                 No                     Yes   \n",
       "2                 07:13:00                 No                     Yes   \n",
       "3                 12:05:00                Yes                     Yes   \n",
       "4                 14:35:00                Yes                     Yes   \n",
       "\n",
       "   LOAN_WAS_PAID_BACK  LOANS_WITHOUT_DELAYS  LOANS_WITH_DELAYS  KNOWN_ASSETS  \\\n",
       "0                   1                   3.0                3.0    40000000.0   \n",
       "1                   1                   3.0                0.0    20000000.0   \n",
       "2                   1                   NaN                NaN           NaN   \n",
       "3                   1                   2.0                1.0           0.0   \n",
       "4                   0                   1.0                0.0    40000000.0   \n",
       "\n",
       "   Score  \n",
       "0   0.77  \n",
       "1   0.93  \n",
       "2    NaN  \n",
       "3   0.78  \n",
       "4   0.81  "
      ]
     },
     "execution_count": 5,
     "metadata": {},
     "output_type": "execute_result"
    }
   ],
   "source": [
    "# merge master and bureau and external data\n",
    "df = pd.merge(master, bureau, on='customer_id', how='left')\n",
    "df = pd.merge(df, external, on='customer_id', how='left')\n",
    "df.head()"
   ]
  },
  {
   "cell_type": "markdown",
   "metadata": {},
   "source": [
    "Then we are splitting into train and test. We will use 70 - 30 split for initial train - holdout(test) data split, and the same proportion for splitting intial train to train - validation dataset.\n",
    "We are going to utilize codes in live classes to make the transformation job easier"
   ]
  },
  {
   "cell_type": "code",
   "execution_count": 6,
   "metadata": {},
   "outputs": [],
   "source": [
    "import joblib\n",
    "\n",
    "def split_input_output(dataset,\n",
    "                       target_column,\n",
    "                       save_file = True,\n",
    "                       return_file = True):\n",
    "    \n",
    "    output_df = dataset[target_column]\n",
    "    input_df = dataset.drop([target_column],\n",
    "                            axis = 1)\n",
    "    \n",
    "    if save_file:\n",
    "        joblib.dump(output_df, \"output/output_df.pkl\")\n",
    "        joblib.dump(input_df, \"output/input_df.pkl\")\n",
    "    \n",
    "    if return_file:\n",
    "        return output_df, input_df\n",
    "\n",
    "\n",
    "def split_train_test(x, y, TEST_SIZE):\n",
    "    # Do not forget to stratify if classification\n",
    "    x_train, x_test,\\\n",
    "        y_train, y_test = train_test_split(x,\n",
    "                                           y,\n",
    "                                           test_size=TEST_SIZE,\n",
    "                                           random_state=123,\n",
    "                                          stratify=y)\n",
    "\n",
    "    return x_train, x_test, y_train, y_test\n",
    "\n",
    "def split_data(data_input, data_ouput, return_file=False, TEST_SIZE=0.2):\n",
    "\n",
    "    x_train, x_test, \\\n",
    "        y_train, y_test = split_train_test(\n",
    "            data_input,\n",
    "            data_ouput,\n",
    "            TEST_SIZE)\n",
    "\n",
    "    x_train, x_valid, \\\n",
    "        y_train, y_valid = split_train_test(\n",
    "            x_train,\n",
    "            y_train,\n",
    "            TEST_SIZE)\n",
    "\n",
    "    joblib.dump(x_train, \"output/x_train.pkl\")\n",
    "    joblib.dump(y_train, \"output/y_train.pkl\")\n",
    "    joblib.dump(x_valid, \"output/x_valid.pkl\")\n",
    "    joblib.dump(y_valid, \"output/y_valid.pkl\")\n",
    "    joblib.dump(x_test, \"output/x_test.pkl\")\n",
    "    joblib.dump(y_test, \"output/y_test.pkl\")\n",
    "\n",
    "    if return_file:\n",
    "        return x_train, y_train, \\\n",
    "            x_valid, y_valid, \\\n",
    "            x_test, y_test"
   ]
  },
  {
   "cell_type": "code",
   "execution_count": 7,
   "metadata": {},
   "outputs": [],
   "source": [
    "# do the splitting\n",
    "TARGET = \"LOAN_WAS_PAID_BACK\"\n",
    "TEST_SIZE = 0.3\n",
    "\n",
    "output_df, input_df = split_input_output(\n",
    "                            df,\n",
    "                            TARGET, save_file = False)\n",
    "\n",
    "x_train, y_train, x_valid, y_valid, x_test, y_test = split_data(input_df,\n",
    "                                                                    output_df,\n",
    "                                                                   True,\n",
    "                                                                   TEST_SIZE)"
   ]
  },
  {
   "cell_type": "code",
   "execution_count": 8,
   "metadata": {},
   "outputs": [
    {
     "name": "stdout",
     "output_type": "stream",
     "text": [
      "1    0.853734\n",
      "0    0.146266\n",
      "Name: LOAN_WAS_PAID_BACK, dtype: float64\n",
      "-------------------------------------\n",
      "1    0.854046\n",
      "0    0.145954\n",
      "Name: LOAN_WAS_PAID_BACK, dtype: float64\n",
      "-------------------------------------\n",
      "1    0.853819\n",
      "0    0.146181\n",
      "Name: LOAN_WAS_PAID_BACK, dtype: float64\n"
     ]
    }
   ],
   "source": [
    "# check if stratify is correct\n",
    "print(y_train.value_counts(normalize = True))\n",
    "print(\"-------------------------------------\")\n",
    "print(y_valid.value_counts(normalize = True))\n",
    "print(\"-------------------------------------\")\n",
    "print(y_test.value_counts(normalize = True))"
   ]
  },
  {
   "cell_type": "markdown",
   "metadata": {},
   "source": [
    "We can see that we manage to split the target variable with the same proportion accross all dataset"
   ]
  },
  {
   "cell_type": "markdown",
   "metadata": {},
   "source": [
    "# 5. Initial Data Exploration"
   ]
  },
  {
   "cell_type": "markdown",
   "metadata": {},
   "source": [
    "For this initial exploration we are going to combine x_train and y_train into a single dataframe, to know how each feature corelate with the target variable"
   ]
  },
  {
   "cell_type": "code",
   "execution_count": 9,
   "metadata": {},
   "outputs": [
    {
     "data": {
      "text/plain": [
       "array(['customer_id', 'AGE', 'INCOME', 'GENDER', 'EDUCATION',\n",
       "       'LOAN_PURPOSE', 'APPLICATION_RECEIVE_TIME', 'HAS_APPLIED_BEFORE',\n",
       "       'HAS_INCOME_VERIFICATION', 'LOANS_WITHOUT_DELAYS',\n",
       "       'LOANS_WITH_DELAYS', 'KNOWN_ASSETS', 'Score', 'LOAN_WAS_PAID_BACK'],\n",
       "      dtype=object)"
      ]
     },
     "execution_count": 9,
     "metadata": {},
     "output_type": "execute_result"
    }
   ],
   "source": [
    "# combine x_train and y_train\n",
    "df = pd.concat([x_train, pd.DataFrame(y_train)], axis = 1)\n",
    "\n",
    "# check initial features\n",
    "df.columns.values"
   ]
  },
  {
   "cell_type": "markdown",
   "metadata": {},
   "source": [
    "Initial features explanation :\n",
    " - customer_id : unique identification number for each customer\n",
    " - age : customer's age\n",
    " - income : customer's monthly income in rupiah \n",
    " - gender : customer's gender (male/female)\n",
    " - education : customer's last education level \n",
    " - loan_purpose : why the customer apply for a loan\n",
    " - application_receive_time : the time (HH:MM:SS) of when the system receive customer's application\n",
    " - has_applied_before : binary feature which show whether customer's has previously submit an application (1) before the current on, regardless of being approved or not\n",
    " - has_income_verification : has customer provide additional data such as payslip or bank statement to get their income verified\n",
    " - loans_without_delays : count of all the customer's previous loan which has never been late in installment payments\n",
    " - loans_with_delays : count of all the customer's previous loan which has late installment payments\n",
    " - known_assets : amount of declared assets by customer (in rupiah)\n",
    " - score : external scoring done by third party "
   ]
  },
  {
   "cell_type": "markdown",
   "metadata": {},
   "source": [
    "## 5.1 Comments on score feature\n",
    "\n",
    "As it happen, score is an external, third party feature that quite possibly will introduce bias to the data. Since it is supposedly done after the loan was submitted and passed through to the 3rd party, therefore at application time the information will simply unavailable. "
   ]
  },
  {
   "cell_type": "code",
   "execution_count": 10,
   "metadata": {},
   "outputs": [
    {
     "name": "stdout",
     "output_type": "stream",
     "text": [
      "<class 'pandas.core.frame.DataFrame'>\n",
      "Int64Index: 3227 entries, 1749 to 1395\n",
      "Data columns (total 14 columns):\n",
      " #   Column                    Non-Null Count  Dtype  \n",
      "---  ------                    --------------  -----  \n",
      " 0   customer_id               3227 non-null   int64  \n",
      " 1   AGE                       3227 non-null   int64  \n",
      " 2   INCOME                    3226 non-null   float64\n",
      " 3   GENDER                    3227 non-null   object \n",
      " 4   EDUCATION                 3227 non-null   object \n",
      " 5   LOAN_PURPOSE              3202 non-null   object \n",
      " 6   APPLICATION_RECEIVE_TIME  3227 non-null   object \n",
      " 7   HAS_APPLIED_BEFORE        3227 non-null   object \n",
      " 8   HAS_INCOME_VERIFICATION   3227 non-null   object \n",
      " 9   LOANS_WITHOUT_DELAYS      2601 non-null   float64\n",
      " 10  LOANS_WITH_DELAYS         2601 non-null   float64\n",
      " 11  KNOWN_ASSETS              1918 non-null   float64\n",
      " 12  Score                     2298 non-null   float64\n",
      " 13  LOAN_WAS_PAID_BACK        3227 non-null   int64  \n",
      "dtypes: float64(5), int64(3), object(6)\n",
      "memory usage: 378.2+ KB\n"
     ]
    }
   ],
   "source": [
    "# checking data types\n",
    "df.info()"
   ]
  },
  {
   "cell_type": "code",
   "execution_count": 11,
   "metadata": {},
   "outputs": [
    {
     "data": {
      "text/html": [
       "<div>\n",
       "<style scoped>\n",
       "    .dataframe tbody tr th:only-of-type {\n",
       "        vertical-align: middle;\n",
       "    }\n",
       "\n",
       "    .dataframe tbody tr th {\n",
       "        vertical-align: top;\n",
       "    }\n",
       "\n",
       "    .dataframe thead th {\n",
       "        text-align: right;\n",
       "    }\n",
       "</style>\n",
       "<table border=\"1\" class=\"dataframe\">\n",
       "  <thead>\n",
       "    <tr style=\"text-align: right;\">\n",
       "      <th></th>\n",
       "      <th>customer_id</th>\n",
       "      <th>AGE</th>\n",
       "      <th>INCOME</th>\n",
       "      <th>LOANS_WITHOUT_DELAYS</th>\n",
       "      <th>LOANS_WITH_DELAYS</th>\n",
       "      <th>KNOWN_ASSETS</th>\n",
       "      <th>Score</th>\n",
       "      <th>LOAN_WAS_PAID_BACK</th>\n",
       "    </tr>\n",
       "  </thead>\n",
       "  <tbody>\n",
       "    <tr>\n",
       "      <th>count</th>\n",
       "      <td>3227.000000</td>\n",
       "      <td>3227.000000</td>\n",
       "      <td>3.226000e+03</td>\n",
       "      <td>2601.000000</td>\n",
       "      <td>2601.00000</td>\n",
       "      <td>1.918000e+03</td>\n",
       "      <td>2298.000000</td>\n",
       "      <td>3227.000000</td>\n",
       "    </tr>\n",
       "    <tr>\n",
       "      <th>mean</th>\n",
       "      <td>39818.245739</td>\n",
       "      <td>34.391075</td>\n",
       "      <td>8.022319e+06</td>\n",
       "      <td>1.629758</td>\n",
       "      <td>0.39331</td>\n",
       "      <td>1.274765e+07</td>\n",
       "      <td>0.786749</td>\n",
       "      <td>0.853734</td>\n",
       "    </tr>\n",
       "    <tr>\n",
       "      <th>std</th>\n",
       "      <td>1924.671777</td>\n",
       "      <td>7.788081</td>\n",
       "      <td>6.526235e+06</td>\n",
       "      <td>0.811091</td>\n",
       "      <td>0.86350</td>\n",
       "      <td>1.280282e+07</td>\n",
       "      <td>0.083135</td>\n",
       "      <td>0.353427</td>\n",
       "    </tr>\n",
       "    <tr>\n",
       "      <th>min</th>\n",
       "      <td>36497.000000</td>\n",
       "      <td>20.000000</td>\n",
       "      <td>0.000000e+00</td>\n",
       "      <td>1.000000</td>\n",
       "      <td>0.00000</td>\n",
       "      <td>0.000000e+00</td>\n",
       "      <td>0.500000</td>\n",
       "      <td>0.000000</td>\n",
       "    </tr>\n",
       "    <tr>\n",
       "      <th>25%</th>\n",
       "      <td>38147.000000</td>\n",
       "      <td>28.000000</td>\n",
       "      <td>4.000000e+06</td>\n",
       "      <td>1.000000</td>\n",
       "      <td>0.00000</td>\n",
       "      <td>0.000000e+00</td>\n",
       "      <td>0.760000</td>\n",
       "      <td>1.000000</td>\n",
       "    </tr>\n",
       "    <tr>\n",
       "      <th>50%</th>\n",
       "      <td>39791.000000</td>\n",
       "      <td>33.000000</td>\n",
       "      <td>6.000000e+06</td>\n",
       "      <td>1.000000</td>\n",
       "      <td>0.00000</td>\n",
       "      <td>1.000000e+07</td>\n",
       "      <td>0.790000</td>\n",
       "      <td>1.000000</td>\n",
       "    </tr>\n",
       "    <tr>\n",
       "      <th>75%</th>\n",
       "      <td>41471.500000</td>\n",
       "      <td>40.000000</td>\n",
       "      <td>9.000000e+06</td>\n",
       "      <td>2.000000</td>\n",
       "      <td>0.00000</td>\n",
       "      <td>2.000000e+07</td>\n",
       "      <td>0.850000</td>\n",
       "      <td>1.000000</td>\n",
       "    </tr>\n",
       "    <tr>\n",
       "      <th>max</th>\n",
       "      <td>43185.000000</td>\n",
       "      <td>54.000000</td>\n",
       "      <td>7.000000e+07</td>\n",
       "      <td>6.000000</td>\n",
       "      <td>3.00000</td>\n",
       "      <td>5.000000e+07</td>\n",
       "      <td>0.950000</td>\n",
       "      <td>1.000000</td>\n",
       "    </tr>\n",
       "  </tbody>\n",
       "</table>\n",
       "</div>"
      ],
      "text/plain": [
       "        customer_id          AGE        INCOME  LOANS_WITHOUT_DELAYS  \\\n",
       "count   3227.000000  3227.000000  3.226000e+03           2601.000000   \n",
       "mean   39818.245739    34.391075  8.022319e+06              1.629758   \n",
       "std     1924.671777     7.788081  6.526235e+06              0.811091   \n",
       "min    36497.000000    20.000000  0.000000e+00              1.000000   \n",
       "25%    38147.000000    28.000000  4.000000e+06              1.000000   \n",
       "50%    39791.000000    33.000000  6.000000e+06              1.000000   \n",
       "75%    41471.500000    40.000000  9.000000e+06              2.000000   \n",
       "max    43185.000000    54.000000  7.000000e+07              6.000000   \n",
       "\n",
       "       LOANS_WITH_DELAYS  KNOWN_ASSETS        Score  LOAN_WAS_PAID_BACK  \n",
       "count         2601.00000  1.918000e+03  2298.000000         3227.000000  \n",
       "mean             0.39331  1.274765e+07     0.786749            0.853734  \n",
       "std              0.86350  1.280282e+07     0.083135            0.353427  \n",
       "min              0.00000  0.000000e+00     0.500000            0.000000  \n",
       "25%              0.00000  0.000000e+00     0.760000            1.000000  \n",
       "50%              0.00000  1.000000e+07     0.790000            1.000000  \n",
       "75%              0.00000  2.000000e+07     0.850000            1.000000  \n",
       "max              3.00000  5.000000e+07     0.950000            1.000000  "
      ]
     },
     "execution_count": 11,
     "metadata": {},
     "output_type": "execute_result"
    }
   ],
   "source": [
    "# check numerical features distribution\n",
    "df.describe()"
   ]
  },
  {
   "cell_type": "markdown",
   "metadata": {},
   "source": [
    "## 5.2 Notes on numerical data\n",
    "- There are 3277 data out of 6587 total customers (~50%) in the training data\n",
    "- Youngest applicant is at 20 years old, with oldest customer is at 54 years old, average age is around 34 years old. Side note : all loan applicants are required to have KTP as a mandatory documents, meaning that the legal minimum age of applying for a loan is 17 in Indonesia. However, since most people age 17 - 20 are in majority still studying and does not have any income, it is plausible that applicants on that age group are being denied a loan, hence the minimum age in the data. It is also common practice for banks or lending fintech to impose age requirements of 18 - 55, which might be the case in hand\n",
    "- customer id only act as identifier even though it classified as numerical feature\n",
    "- There are customers who input income as 0, which might be because of a typo or they don't have an income source.\n",
    "- Loans with / without delays are bureau data, and they only cover about 80% of the total training data. This is possibly because the remaining customer are first time applicant and don't have their bureau data available, or possibly some error in fetching the bureau data\n",
    "- Most customer  (>75%) no loans with delays in installment payment. \n",
    "- Only about 60% of the customer in the sample has disclosed their known_assets information, and more than 1/4 of them listed 0 \n",
    "- Only one missing value in INCOME variable, which we may drop"
   ]
  },
  {
   "cell_type": "code",
   "execution_count": 12,
   "metadata": {},
   "outputs": [
    {
     "data": {
      "text/html": [
       "<div>\n",
       "<style scoped>\n",
       "    .dataframe tbody tr th:only-of-type {\n",
       "        vertical-align: middle;\n",
       "    }\n",
       "\n",
       "    .dataframe tbody tr th {\n",
       "        vertical-align: top;\n",
       "    }\n",
       "\n",
       "    .dataframe thead th {\n",
       "        text-align: right;\n",
       "    }\n",
       "</style>\n",
       "<table border=\"1\" class=\"dataframe\">\n",
       "  <thead>\n",
       "    <tr style=\"text-align: right;\">\n",
       "      <th></th>\n",
       "      <th>GENDER</th>\n",
       "      <th>EDUCATION</th>\n",
       "      <th>LOAN_PURPOSE</th>\n",
       "      <th>APPLICATION_RECEIVE_TIME</th>\n",
       "      <th>HAS_APPLIED_BEFORE</th>\n",
       "      <th>HAS_INCOME_VERIFICATION</th>\n",
       "    </tr>\n",
       "  </thead>\n",
       "  <tbody>\n",
       "    <tr>\n",
       "      <th>count</th>\n",
       "      <td>3227</td>\n",
       "      <td>3227</td>\n",
       "      <td>3202</td>\n",
       "      <td>3227</td>\n",
       "      <td>3227</td>\n",
       "      <td>3227</td>\n",
       "    </tr>\n",
       "    <tr>\n",
       "      <th>unique</th>\n",
       "      <td>2</td>\n",
       "      <td>5</td>\n",
       "      <td>12</td>\n",
       "      <td>1096</td>\n",
       "      <td>2</td>\n",
       "      <td>2</td>\n",
       "    </tr>\n",
       "    <tr>\n",
       "      <th>top</th>\n",
       "      <td>Male</td>\n",
       "      <td>Bachelor Degree</td>\n",
       "      <td>Working Capital</td>\n",
       "      <td>10:35:00</td>\n",
       "      <td>No</td>\n",
       "      <td>Yes</td>\n",
       "    </tr>\n",
       "    <tr>\n",
       "      <th>freq</th>\n",
       "      <td>1727</td>\n",
       "      <td>1689</td>\n",
       "      <td>994</td>\n",
       "      <td>11</td>\n",
       "      <td>2062</td>\n",
       "      <td>3158</td>\n",
       "    </tr>\n",
       "  </tbody>\n",
       "</table>\n",
       "</div>"
      ],
      "text/plain": [
       "       GENDER        EDUCATION     LOAN_PURPOSE APPLICATION_RECEIVE_TIME  \\\n",
       "count    3227             3227             3202                     3227   \n",
       "unique      2                5               12                     1096   \n",
       "top      Male  Bachelor Degree  Working Capital                 10:35:00   \n",
       "freq     1727             1689              994                       11   \n",
       "\n",
       "       HAS_APPLIED_BEFORE HAS_INCOME_VERIFICATION  \n",
       "count                3227                    3227  \n",
       "unique                  2                       2  \n",
       "top                    No                     Yes  \n",
       "freq                 2062                    3158  "
      ]
     },
     "execution_count": 12,
     "metadata": {},
     "output_type": "execute_result"
    }
   ],
   "source": [
    "# check on categorical features\n",
    "df.describe(include=['O'])"
   ]
  },
  {
   "cell_type": "markdown",
   "metadata": {},
   "source": [
    "## 5.3 Notes on Categorical data\n",
    "- Most feature does not have missing data, other than LOAN_PURPOSE which contains 25 rows of missing data\n",
    "- Application receive time is varying between each customer and only serve as timestamp\n",
    "- most applicant (52%) hold a bachelor's degree\n",
    "- almost 1/3 (31%) of the customer apply for a Working Capital loan\n",
    "- Almost all of the customer in the sample have had their income verified "
   ]
  },
  {
   "cell_type": "markdown",
   "metadata": {},
   "source": [
    "# 6. Feature Engineering "
   ]
  },
  {
   "cell_type": "markdown",
   "metadata": {},
   "source": [
    "Based on all the data we have so far, we are going list some assumptions that might be helpful in selecting and engineering features for the model "
   ]
  },
  {
   "cell_type": "markdown",
   "metadata": {},
   "source": [
    "\n",
    "**Correlating.**\n",
    "\n",
    "We want to know how each feature corellate with our target variable, and is there some pattern in there that might be beneficial later on during the modelling phase\n",
    "\n",
    "**Completing.**\n",
    "\n",
    "1. For LOAN_PURPOSE we are going to drop the rows with missing value\n",
    "2. We may also want to drop row with missing INCOME feature, as per usual business procedure income data is mandatory for both risk policy and credit scoring\n",
    "\n",
    "**Correcting.**\n",
    "\n",
    "1. customer_id can be dropped as it only serve as identifier for each customer\n",
    "2. APPLICATION_RECEIVE_TIME may also be dropped as it only serve as timestamp for the application\n",
    "3. KNOWN_ASSETS is mostly incomplete and possibly biased, therefore may be dropped\n",
    "4. As mentioned earlier, score feature might introduce bias into our data and may be dropped.\n",
    "\n",
    "**Creating.**\n",
    "\n",
    "1. We may want to create new feature for Age bands. This turns a continous numerical feature into an ordinal categorical feature.\n",
    "2. We may want to create scaled_income feature so the INCOME feature are normally distributed\n",
    "\n",
    "**Classifying.**\n",
    "\n",
    "We may want to classify each customer as either having bureau data or not having bureau data. The rationale being that bureau data features (LOAN WITH/WITHOUT DELAYS) are informative in determining whether a customer will default or not. However, since not applicants will have bureau data (especially first time applicant) and to make sure the feature are still utilized fully , we are going to seperate each oncoming application into either of **2 models** : **those with bureau features available will be served with model utilizing those data, while those without will be served with another model using only application/demographic data**."
   ]
  },
  {
   "cell_type": "markdown",
   "metadata": {},
   "source": [
    "## 6.1. Checking correlation of each feature"
   ]
  },
  {
   "cell_type": "markdown",
   "metadata": {},
   "source": [
    "Before checking for corelaltion of each feature .  we are going to drop rows with missing value and columns which are not use as previously discussed in the **Correcting** section"
   ]
  },
  {
   "cell_type": "code",
   "execution_count": 13,
   "metadata": {},
   "outputs": [
    {
     "data": {
      "text/plain": [
       "customer_id                    0\n",
       "AGE                            0\n",
       "INCOME                         1\n",
       "GENDER                         0\n",
       "EDUCATION                      0\n",
       "LOAN_PURPOSE                  25\n",
       "APPLICATION_RECEIVE_TIME       0\n",
       "HAS_APPLIED_BEFORE             0\n",
       "HAS_INCOME_VERIFICATION        0\n",
       "LOANS_WITHOUT_DELAYS         626\n",
       "LOANS_WITH_DELAYS            626\n",
       "KNOWN_ASSETS                1309\n",
       "Score                        929\n",
       "LOAN_WAS_PAID_BACK             0\n",
       "dtype: int64"
      ]
     },
     "execution_count": 13,
     "metadata": {},
     "output_type": "execute_result"
    }
   ],
   "source": [
    "df.isna().sum()"
   ]
  },
  {
   "cell_type": "code",
   "execution_count": 14,
   "metadata": {},
   "outputs": [],
   "source": [
    "# create a data frame copy as backup\n",
    "df1 = df.copy()\n",
    "\n",
    "# drop missing value rows \n",
    "df = df.drop([\"customer_id\", \"APPLICATION_RECEIVE_TIME\", \"KNOWN_ASSETS\", \"Score\"], axis=1)"
   ]
  },
  {
   "cell_type": "code",
   "execution_count": 15,
   "metadata": {},
   "outputs": [],
   "source": [
    "# drop rows with missing value in income and loan_purpose\n",
    "df = df.dropna(subset = ['INCOME', 'LOAN_PURPOSE'])"
   ]
  },
  {
   "cell_type": "code",
   "execution_count": 16,
   "metadata": {},
   "outputs": [
    {
     "data": {
      "text/html": [
       "<div>\n",
       "<style scoped>\n",
       "    .dataframe tbody tr th:only-of-type {\n",
       "        vertical-align: middle;\n",
       "    }\n",
       "\n",
       "    .dataframe tbody tr th {\n",
       "        vertical-align: top;\n",
       "    }\n",
       "\n",
       "    .dataframe thead th {\n",
       "        text-align: right;\n",
       "    }\n",
       "</style>\n",
       "<table border=\"1\" class=\"dataframe\">\n",
       "  <thead>\n",
       "    <tr style=\"text-align: right;\">\n",
       "      <th></th>\n",
       "      <th>GENDER</th>\n",
       "      <th>LOAN_WAS_PAID_BACK</th>\n",
       "    </tr>\n",
       "  </thead>\n",
       "  <tbody>\n",
       "    <tr>\n",
       "      <th>1</th>\n",
       "      <td>Male</td>\n",
       "      <td>0.878646</td>\n",
       "    </tr>\n",
       "    <tr>\n",
       "      <th>0</th>\n",
       "      <td>Female</td>\n",
       "      <td>0.823134</td>\n",
       "    </tr>\n",
       "  </tbody>\n",
       "</table>\n",
       "</div>"
      ],
      "text/plain": [
       "   GENDER  LOAN_WAS_PAID_BACK\n",
       "1    Male            0.878646\n",
       "0  Female            0.823134"
      ]
     },
     "execution_count": 16,
     "metadata": {},
     "output_type": "execute_result"
    }
   ],
   "source": [
    "# check correlation between gender and target variable\n",
    "df[[\"GENDER\", \"LOAN_WAS_PAID_BACK\"]].groupby(['GENDER'], as_index=False).mean().sort_values(by=\"LOAN_WAS_PAID_BACK\", ascending=False)"
   ]
  },
  {
   "cell_type": "code",
   "execution_count": 17,
   "metadata": {},
   "outputs": [
    {
     "data": {
      "text/html": [
       "<div>\n",
       "<style scoped>\n",
       "    .dataframe tbody tr th:only-of-type {\n",
       "        vertical-align: middle;\n",
       "    }\n",
       "\n",
       "    .dataframe tbody tr th {\n",
       "        vertical-align: top;\n",
       "    }\n",
       "\n",
       "    .dataframe thead th {\n",
       "        text-align: right;\n",
       "    }\n",
       "</style>\n",
       "<table border=\"1\" class=\"dataframe\">\n",
       "  <thead>\n",
       "    <tr style=\"text-align: right;\">\n",
       "      <th></th>\n",
       "      <th>EDUCATION</th>\n",
       "      <th>LOAN_WAS_PAID_BACK</th>\n",
       "    </tr>\n",
       "  </thead>\n",
       "  <tbody>\n",
       "    <tr>\n",
       "      <th>3</th>\n",
       "      <td>Master's Degree/Post graduate</td>\n",
       "      <td>0.976471</td>\n",
       "    </tr>\n",
       "    <tr>\n",
       "      <th>0</th>\n",
       "      <td>Bachelor Degree</td>\n",
       "      <td>0.871411</td>\n",
       "    </tr>\n",
       "    <tr>\n",
       "      <th>1</th>\n",
       "      <td>Diploma</td>\n",
       "      <td>0.862709</td>\n",
       "    </tr>\n",
       "    <tr>\n",
       "      <th>4</th>\n",
       "      <td>Other</td>\n",
       "      <td>0.821429</td>\n",
       "    </tr>\n",
       "    <tr>\n",
       "      <th>2</th>\n",
       "      <td>High School</td>\n",
       "      <td>0.800456</td>\n",
       "    </tr>\n",
       "  </tbody>\n",
       "</table>\n",
       "</div>"
      ],
      "text/plain": [
       "                       EDUCATION  LOAN_WAS_PAID_BACK\n",
       "3  Master's Degree/Post graduate            0.976471\n",
       "0                Bachelor Degree            0.871411\n",
       "1                        Diploma            0.862709\n",
       "4                          Other            0.821429\n",
       "2                    High School            0.800456"
      ]
     },
     "execution_count": 17,
     "metadata": {},
     "output_type": "execute_result"
    }
   ],
   "source": [
    "# check correlation between education and target variable\n",
    "df[[\"EDUCATION\", \"LOAN_WAS_PAID_BACK\"]].groupby(['EDUCATION'], as_index=False).mean().sort_values(by=\"LOAN_WAS_PAID_BACK\", ascending=False)"
   ]
  },
  {
   "cell_type": "markdown",
   "metadata": {},
   "source": [
    "There seems to be a clear distinction on default rate between each education level, with master's degree holder are more likely to pay back their loan. \n",
    "We are also going to assume that Other education level is actually covering the primary level education (SD and SMP level), for a much better user experience during serving later on "
   ]
  },
  {
   "cell_type": "code",
   "execution_count": 18,
   "metadata": {},
   "outputs": [
    {
     "data": {
      "text/html": [
       "<div>\n",
       "<style scoped>\n",
       "    .dataframe tbody tr th:only-of-type {\n",
       "        vertical-align: middle;\n",
       "    }\n",
       "\n",
       "    .dataframe tbody tr th {\n",
       "        vertical-align: top;\n",
       "    }\n",
       "\n",
       "    .dataframe thead th {\n",
       "        text-align: right;\n",
       "    }\n",
       "</style>\n",
       "<table border=\"1\" class=\"dataframe\">\n",
       "  <thead>\n",
       "    <tr style=\"text-align: right;\">\n",
       "      <th></th>\n",
       "      <th>LOAN_PURPOSE</th>\n",
       "      <th>LOAN_WAS_PAID_BACK</th>\n",
       "    </tr>\n",
       "  </thead>\n",
       "  <tbody>\n",
       "    <tr>\n",
       "      <th>1</th>\n",
       "      <td>Car/Motorcycle</td>\n",
       "      <td>1.000000</td>\n",
       "    </tr>\n",
       "    <tr>\n",
       "      <th>3</th>\n",
       "      <td>Education</td>\n",
       "      <td>0.962025</td>\n",
       "    </tr>\n",
       "    <tr>\n",
       "      <th>10</th>\n",
       "      <td>Venture capital</td>\n",
       "      <td>0.953846</td>\n",
       "    </tr>\n",
       "    <tr>\n",
       "      <th>4</th>\n",
       "      <td>Electronic unsecured loan</td>\n",
       "      <td>0.896226</td>\n",
       "    </tr>\n",
       "    <tr>\n",
       "      <th>9</th>\n",
       "      <td>Renovation</td>\n",
       "      <td>0.873743</td>\n",
       "    </tr>\n",
       "    <tr>\n",
       "      <th>2</th>\n",
       "      <td>Credit card</td>\n",
       "      <td>0.858146</td>\n",
       "    </tr>\n",
       "    <tr>\n",
       "      <th>7</th>\n",
       "      <td>Investment</td>\n",
       "      <td>0.846154</td>\n",
       "    </tr>\n",
       "    <tr>\n",
       "      <th>5</th>\n",
       "      <td>Holiday</td>\n",
       "      <td>0.843750</td>\n",
       "    </tr>\n",
       "    <tr>\n",
       "      <th>0</th>\n",
       "      <td>Bills</td>\n",
       "      <td>0.841463</td>\n",
       "    </tr>\n",
       "    <tr>\n",
       "      <th>8</th>\n",
       "      <td>Other</td>\n",
       "      <td>0.837209</td>\n",
       "    </tr>\n",
       "    <tr>\n",
       "      <th>6</th>\n",
       "      <td>Housing loan</td>\n",
       "      <td>0.833333</td>\n",
       "    </tr>\n",
       "    <tr>\n",
       "      <th>11</th>\n",
       "      <td>Working Capital</td>\n",
       "      <td>0.813883</td>\n",
       "    </tr>\n",
       "  </tbody>\n",
       "</table>\n",
       "</div>"
      ],
      "text/plain": [
       "                 LOAN_PURPOSE  LOAN_WAS_PAID_BACK\n",
       "1              Car/Motorcycle            1.000000\n",
       "3                   Education            0.962025\n",
       "10            Venture capital            0.953846\n",
       "4   Electronic unsecured loan            0.896226\n",
       "9                  Renovation            0.873743\n",
       "2                 Credit card            0.858146\n",
       "7                  Investment            0.846154\n",
       "5                     Holiday            0.843750\n",
       "0                       Bills            0.841463\n",
       "8                       Other            0.837209\n",
       "6                Housing loan            0.833333\n",
       "11            Working Capital            0.813883"
      ]
     },
     "execution_count": 18,
     "metadata": {},
     "output_type": "execute_result"
    }
   ],
   "source": [
    "# check correlation loan_purpose and target variable\n",
    "df[[\"LOAN_PURPOSE\", \"LOAN_WAS_PAID_BACK\"]].groupby(['LOAN_PURPOSE'], as_index=False).mean().sort_values(by=\"LOAN_WAS_PAID_BACK\", ascending=False)"
   ]
  },
  {
   "cell_type": "markdown",
   "metadata": {},
   "source": [
    "Loan purpose shows some trend in which certain loan purpose customer's are more likely to pay back their loan"
   ]
  },
  {
   "cell_type": "code",
   "execution_count": 19,
   "metadata": {},
   "outputs": [
    {
     "data": {
      "text/html": [
       "<div>\n",
       "<style scoped>\n",
       "    .dataframe tbody tr th:only-of-type {\n",
       "        vertical-align: middle;\n",
       "    }\n",
       "\n",
       "    .dataframe tbody tr th {\n",
       "        vertical-align: top;\n",
       "    }\n",
       "\n",
       "    .dataframe thead th {\n",
       "        text-align: right;\n",
       "    }\n",
       "</style>\n",
       "<table border=\"1\" class=\"dataframe\">\n",
       "  <thead>\n",
       "    <tr style=\"text-align: right;\">\n",
       "      <th></th>\n",
       "      <th>HAS_APPLIED_BEFORE</th>\n",
       "      <th>LOAN_WAS_PAID_BACK</th>\n",
       "    </tr>\n",
       "  </thead>\n",
       "  <tbody>\n",
       "    <tr>\n",
       "      <th>0</th>\n",
       "      <td>No</td>\n",
       "      <td>0.882411</td>\n",
       "    </tr>\n",
       "    <tr>\n",
       "      <th>1</th>\n",
       "      <td>Yes</td>\n",
       "      <td>0.800862</td>\n",
       "    </tr>\n",
       "  </tbody>\n",
       "</table>\n",
       "</div>"
      ],
      "text/plain": [
       "  HAS_APPLIED_BEFORE  LOAN_WAS_PAID_BACK\n",
       "0                 No            0.882411\n",
       "1                Yes            0.800862"
      ]
     },
     "execution_count": 19,
     "metadata": {},
     "output_type": "execute_result"
    }
   ],
   "source": [
    "# check correlation between has_applied_before and target variable\n",
    "df[[\"HAS_APPLIED_BEFORE\", \"LOAN_WAS_PAID_BACK\"]].groupby(['HAS_APPLIED_BEFORE'], as_index=False).mean().sort_values(by=\"LOAN_WAS_PAID_BACK\", ascending=False)"
   ]
  },
  {
   "cell_type": "code",
   "execution_count": 20,
   "metadata": {},
   "outputs": [
    {
     "data": {
      "text/html": [
       "<div>\n",
       "<style scoped>\n",
       "    .dataframe tbody tr th:only-of-type {\n",
       "        vertical-align: middle;\n",
       "    }\n",
       "\n",
       "    .dataframe tbody tr th {\n",
       "        vertical-align: top;\n",
       "    }\n",
       "\n",
       "    .dataframe thead th {\n",
       "        text-align: right;\n",
       "    }\n",
       "</style>\n",
       "<table border=\"1\" class=\"dataframe\">\n",
       "  <thead>\n",
       "    <tr style=\"text-align: right;\">\n",
       "      <th></th>\n",
       "      <th>HAS_INCOME_VERIFICATION</th>\n",
       "      <th>LOAN_WAS_PAID_BACK</th>\n",
       "    </tr>\n",
       "  </thead>\n",
       "  <tbody>\n",
       "    <tr>\n",
       "      <th>1</th>\n",
       "      <td>Yes</td>\n",
       "      <td>0.855364</td>\n",
       "    </tr>\n",
       "    <tr>\n",
       "      <th>0</th>\n",
       "      <td>No</td>\n",
       "      <td>0.739130</td>\n",
       "    </tr>\n",
       "  </tbody>\n",
       "</table>\n",
       "</div>"
      ],
      "text/plain": [
       "  HAS_INCOME_VERIFICATION  LOAN_WAS_PAID_BACK\n",
       "1                     Yes            0.855364\n",
       "0                      No            0.739130"
      ]
     },
     "execution_count": 20,
     "metadata": {},
     "output_type": "execute_result"
    }
   ],
   "source": [
    "# check correlation between has_income_verification and target variable\n",
    "df[[\"HAS_INCOME_VERIFICATION\", \"LOAN_WAS_PAID_BACK\"]].groupby(['HAS_INCOME_VERIFICATION'], as_index=False).mean().sort_values(by=\"LOAN_WAS_PAID_BACK\", ascending=False)"
   ]
  },
  {
   "cell_type": "markdown",
   "metadata": {},
   "source": [
    "# 7. Exploratory Data Analysis (EDA) "
   ]
  },
  {
   "cell_type": "markdown",
   "metadata": {},
   "source": [
    "It might be beneficial to see how our target variable is distributed on our training dataset, to get much clearer sense on the problem"
   ]
  },
  {
   "cell_type": "code",
   "execution_count": 21,
   "metadata": {},
   "outputs": [
    {
     "data": {
      "image/png": "[encoded data removed]",
      "text/plain": [
       "<Figure size 576x576 with 1 Axes>"
      ]
     },
     "metadata": {},
     "output_type": "display_data"
    }
   ],
   "source": [
    "%matplotlib inline\n",
    "\n",
    "# Showing the distribution of our target variable\n",
    "plt.figure(figsize = (8,8))\n",
    "plt.pie(\n",
    "    x = df['LOAN_WAS_PAID_BACK'].value_counts(),\n",
    "    labels = ['Not Defaulted','Defaulted'],\n",
    "    autopct = '%1.2f%%',\n",
    "    shadow = True,\n",
    "    explode = (0.3,0)\n",
    ")\n",
    "plt.title('Not Defaulted vs Defaulted')\n",
    "plt.show();"
   ]
  },
  {
   "cell_type": "markdown",
   "metadata": {},
   "source": [
    "The chart shows that we are facing and imbalanced problem, which might need further processing later on during modelling"
   ]
  },
  {
   "cell_type": "markdown",
   "metadata": {},
   "source": [
    "## 7.1. Distribution of age"
   ]
  },
  {
   "cell_type": "code",
   "execution_count": 22,
   "metadata": {},
   "outputs": [
    {
     "data": {
      "image/png": "[encoded data removed]",
      "text/plain": [
       "<Figure size 720x432 with 1 Axes>"
      ]
     },
     "metadata": {
      "needs_background": "light"
     },
     "output_type": "display_data"
    }
   ],
   "source": [
    "plt.figure(figsize=(10,6))\n",
    "plt.grid(True, alpha=0.5)\n",
    "sns.kdeplot(df.loc[df['LOAN_WAS_PAID_BACK'] == 1, 'AGE'] , label = 'Not Defaulted')\n",
    "sns.kdeplot(df.loc[df['LOAN_WAS_PAID_BACK'] == 0, 'AGE'] ,  label = 'Defaulted')\n",
    "plt.axvline(df.AGE.mean(), 0, 1, label = 'mean', color = 'r', ls = '--')\n",
    "plt.axvline(df.AGE.median(), 0, 1, label = 'median', color = 'g', ls = '--')\n",
    "plt.xlabel('Age (years)')\n",
    "plt.ylabel('Density')\n",
    "plt.legend()\n",
    "plt.title('Distribution of Age of Client (in Years)');"
   ]
  },
  {
   "cell_type": "markdown",
   "metadata": {},
   "source": [
    "**What we discover**\n",
    "\n",
    "We can see some pattern where customer below the median age are more likely to default. While older customer tend to pay back their loan more. However we can try binning the age feature and see how it corellated with our target variable."
   ]
  },
  {
   "cell_type": "markdown",
   "metadata": {},
   "source": [
    "### 7.1.1. binning age"
   ]
  },
  {
   "cell_type": "code",
   "execution_count": 23,
   "metadata": {},
   "outputs": [
    {
     "data": {
      "text/html": [
       "<div>\n",
       "<style scoped>\n",
       "    .dataframe tbody tr th:only-of-type {\n",
       "        vertical-align: middle;\n",
       "    }\n",
       "\n",
       "    .dataframe tbody tr th {\n",
       "        vertical-align: top;\n",
       "    }\n",
       "\n",
       "    .dataframe thead th {\n",
       "        text-align: right;\n",
       "    }\n",
       "</style>\n",
       "<table border=\"1\" class=\"dataframe\">\n",
       "  <thead>\n",
       "    <tr style=\"text-align: right;\">\n",
       "      <th></th>\n",
       "      <th>AgeBand</th>\n",
       "      <th>LOAN_WAS_PAID_BACK</th>\n",
       "    </tr>\n",
       "  </thead>\n",
       "  <tbody>\n",
       "    <tr>\n",
       "      <th>0</th>\n",
       "      <td>(20.0, 27.0]</td>\n",
       "      <td>0.838475</td>\n",
       "    </tr>\n",
       "    <tr>\n",
       "      <th>1</th>\n",
       "      <td>(27.0, 34.0]</td>\n",
       "      <td>0.845005</td>\n",
       "    </tr>\n",
       "    <tr>\n",
       "      <th>2</th>\n",
       "      <td>(34.0, 40.0]</td>\n",
       "      <td>0.862837</td>\n",
       "    </tr>\n",
       "    <tr>\n",
       "      <th>3</th>\n",
       "      <td>(40.0, 47.0]</td>\n",
       "      <td>0.851406</td>\n",
       "    </tr>\n",
       "    <tr>\n",
       "      <th>4</th>\n",
       "      <td>(47.0, 54.0]</td>\n",
       "      <td>0.890351</td>\n",
       "    </tr>\n",
       "  </tbody>\n",
       "</table>\n",
       "</div>"
      ],
      "text/plain": [
       "        AgeBand  LOAN_WAS_PAID_BACK\n",
       "0  (20.0, 27.0]            0.838475\n",
       "1  (27.0, 34.0]            0.845005\n",
       "2  (34.0, 40.0]            0.862837\n",
       "3  (40.0, 47.0]            0.851406\n",
       "4  (47.0, 54.0]            0.890351"
      ]
     },
     "execution_count": 23,
     "metadata": {},
     "output_type": "execute_result"
    }
   ],
   "source": [
    "# binning age into 5 categories\n",
    "df['AgeBand'] = pd.cut(df['AGE'], 5, precision = 0)\n",
    "df[['AgeBand', 'LOAN_WAS_PAID_BACK']].groupby(['AgeBand'], as_index=False).mean().sort_values(by='AgeBand', ascending=True)"
   ]
  },
  {
   "cell_type": "markdown",
   "metadata": {},
   "source": [
    "By binning the age into 5 groups we have validated our previous assumption, although there is a slight variation in the age group between 40 and 47. We will therefore proceed with binning age into a categorical feature"
   ]
  },
  {
   "cell_type": "code",
   "execution_count": 24,
   "metadata": {},
   "outputs": [
    {
     "data": {
      "text/html": [
       "<div>\n",
       "<style scoped>\n",
       "    .dataframe tbody tr th:only-of-type {\n",
       "        vertical-align: middle;\n",
       "    }\n",
       "\n",
       "    .dataframe tbody tr th {\n",
       "        vertical-align: top;\n",
       "    }\n",
       "\n",
       "    .dataframe thead th {\n",
       "        text-align: right;\n",
       "    }\n",
       "</style>\n",
       "<table border=\"1\" class=\"dataframe\">\n",
       "  <thead>\n",
       "    <tr style=\"text-align: right;\">\n",
       "      <th></th>\n",
       "      <th>AGE</th>\n",
       "      <th>INCOME</th>\n",
       "      <th>GENDER</th>\n",
       "      <th>EDUCATION</th>\n",
       "      <th>LOAN_PURPOSE</th>\n",
       "      <th>HAS_APPLIED_BEFORE</th>\n",
       "      <th>HAS_INCOME_VERIFICATION</th>\n",
       "      <th>LOANS_WITHOUT_DELAYS</th>\n",
       "      <th>LOANS_WITH_DELAYS</th>\n",
       "      <th>LOAN_WAS_PAID_BACK</th>\n",
       "      <th>AgeBand</th>\n",
       "    </tr>\n",
       "  </thead>\n",
       "  <tbody>\n",
       "    <tr>\n",
       "      <th>1749</th>\n",
       "      <td>3</td>\n",
       "      <td>9000000.0</td>\n",
       "      <td>Male</td>\n",
       "      <td>High School</td>\n",
       "      <td>Credit card</td>\n",
       "      <td>No</td>\n",
       "      <td>Yes</td>\n",
       "      <td>3.0</td>\n",
       "      <td>2.0</td>\n",
       "      <td>1</td>\n",
       "      <td>(40.0, 47.0]</td>\n",
       "    </tr>\n",
       "    <tr>\n",
       "      <th>3488</th>\n",
       "      <td>1</td>\n",
       "      <td>12000000.0</td>\n",
       "      <td>Female</td>\n",
       "      <td>Bachelor Degree</td>\n",
       "      <td>Working Capital</td>\n",
       "      <td>Yes</td>\n",
       "      <td>Yes</td>\n",
       "      <td>1.0</td>\n",
       "      <td>3.0</td>\n",
       "      <td>1</td>\n",
       "      <td>(34.0, 40.0]</td>\n",
       "    </tr>\n",
       "    <tr>\n",
       "      <th>89</th>\n",
       "      <td>1</td>\n",
       "      <td>15000000.0</td>\n",
       "      <td>Female</td>\n",
       "      <td>Bachelor Degree</td>\n",
       "      <td>Holiday</td>\n",
       "      <td>No</td>\n",
       "      <td>Yes</td>\n",
       "      <td>5.0</td>\n",
       "      <td>0.0</td>\n",
       "      <td>1</td>\n",
       "      <td>(20.0, 27.0]</td>\n",
       "    </tr>\n",
       "    <tr>\n",
       "      <th>1035</th>\n",
       "      <td>1</td>\n",
       "      <td>5000000.0</td>\n",
       "      <td>Male</td>\n",
       "      <td>Bachelor Degree</td>\n",
       "      <td>Credit card</td>\n",
       "      <td>No</td>\n",
       "      <td>Yes</td>\n",
       "      <td>1.0</td>\n",
       "      <td>0.0</td>\n",
       "      <td>1</td>\n",
       "      <td>(20.0, 27.0]</td>\n",
       "    </tr>\n",
       "    <tr>\n",
       "      <th>386</th>\n",
       "      <td>3</td>\n",
       "      <td>10000000.0</td>\n",
       "      <td>Female</td>\n",
       "      <td>Bachelor Degree</td>\n",
       "      <td>Working Capital</td>\n",
       "      <td>No</td>\n",
       "      <td>Yes</td>\n",
       "      <td>3.0</td>\n",
       "      <td>1.0</td>\n",
       "      <td>1</td>\n",
       "      <td>(40.0, 47.0]</td>\n",
       "    </tr>\n",
       "  </tbody>\n",
       "</table>\n",
       "</div>"
      ],
      "text/plain": [
       "      AGE      INCOME  GENDER        EDUCATION     LOAN_PURPOSE  \\\n",
       "1749    3   9000000.0    Male      High School      Credit card   \n",
       "3488    1  12000000.0  Female  Bachelor Degree  Working Capital   \n",
       "89      1  15000000.0  Female  Bachelor Degree          Holiday   \n",
       "1035    1   5000000.0    Male  Bachelor Degree      Credit card   \n",
       "386     3  10000000.0  Female  Bachelor Degree  Working Capital   \n",
       "\n",
       "     HAS_APPLIED_BEFORE HAS_INCOME_VERIFICATION  LOANS_WITHOUT_DELAYS  \\\n",
       "1749                 No                     Yes                   3.0   \n",
       "3488                Yes                     Yes                   1.0   \n",
       "89                   No                     Yes                   5.0   \n",
       "1035                 No                     Yes                   1.0   \n",
       "386                  No                     Yes                   3.0   \n",
       "\n",
       "      LOANS_WITH_DELAYS  LOAN_WAS_PAID_BACK       AgeBand  \n",
       "1749                2.0                   1  (40.0, 47.0]  \n",
       "3488                3.0                   1  (34.0, 40.0]  \n",
       "89                  0.0                   1  (20.0, 27.0]  \n",
       "1035                0.0                   1  (20.0, 27.0]  \n",
       "386                 1.0                   1  (40.0, 47.0]  "
      ]
     },
     "execution_count": 24,
     "metadata": {},
     "output_type": "execute_result"
    }
   ],
   "source": [
    "# replace AGE with ordinals\n",
    "\n",
    "df.loc[ df['AGE'] <= 20, 'AGE'] = 0\n",
    "df.loc[(df['AGE'] > 20) & (df['AGE'] <= 34), 'AGE'] = 1\n",
    "df.loc[(df['AGE'] > 34) & (df['AGE'] <= 40), 'AGE'] = 2\n",
    "df.loc[(df['AGE'] > 40) & (df['AGE'] <= 47), 'AGE'] = 3\n",
    "df.loc[ df['AGE'] > 47, 'AGE'] = 4\n",
    "df.head()"
   ]
  },
  {
   "cell_type": "code",
   "execution_count": 25,
   "metadata": {},
   "outputs": [
    {
     "data": {
      "text/html": [
       "<div>\n",
       "<style scoped>\n",
       "    .dataframe tbody tr th:only-of-type {\n",
       "        vertical-align: middle;\n",
       "    }\n",
       "\n",
       "    .dataframe tbody tr th {\n",
       "        vertical-align: top;\n",
       "    }\n",
       "\n",
       "    .dataframe thead th {\n",
       "        text-align: right;\n",
       "    }\n",
       "</style>\n",
       "<table border=\"1\" class=\"dataframe\">\n",
       "  <thead>\n",
       "    <tr style=\"text-align: right;\">\n",
       "      <th></th>\n",
       "      <th>AGE</th>\n",
       "      <th>INCOME</th>\n",
       "      <th>GENDER</th>\n",
       "      <th>EDUCATION</th>\n",
       "      <th>LOAN_PURPOSE</th>\n",
       "      <th>HAS_APPLIED_BEFORE</th>\n",
       "      <th>HAS_INCOME_VERIFICATION</th>\n",
       "      <th>LOANS_WITHOUT_DELAYS</th>\n",
       "      <th>LOANS_WITH_DELAYS</th>\n",
       "      <th>LOAN_WAS_PAID_BACK</th>\n",
       "    </tr>\n",
       "  </thead>\n",
       "  <tbody>\n",
       "    <tr>\n",
       "      <th>1749</th>\n",
       "      <td>3</td>\n",
       "      <td>9000000.0</td>\n",
       "      <td>Male</td>\n",
       "      <td>High School</td>\n",
       "      <td>Credit card</td>\n",
       "      <td>No</td>\n",
       "      <td>Yes</td>\n",
       "      <td>3.0</td>\n",
       "      <td>2.0</td>\n",
       "      <td>1</td>\n",
       "    </tr>\n",
       "    <tr>\n",
       "      <th>3488</th>\n",
       "      <td>1</td>\n",
       "      <td>12000000.0</td>\n",
       "      <td>Female</td>\n",
       "      <td>Bachelor Degree</td>\n",
       "      <td>Working Capital</td>\n",
       "      <td>Yes</td>\n",
       "      <td>Yes</td>\n",
       "      <td>1.0</td>\n",
       "      <td>3.0</td>\n",
       "      <td>1</td>\n",
       "    </tr>\n",
       "    <tr>\n",
       "      <th>89</th>\n",
       "      <td>1</td>\n",
       "      <td>15000000.0</td>\n",
       "      <td>Female</td>\n",
       "      <td>Bachelor Degree</td>\n",
       "      <td>Holiday</td>\n",
       "      <td>No</td>\n",
       "      <td>Yes</td>\n",
       "      <td>5.0</td>\n",
       "      <td>0.0</td>\n",
       "      <td>1</td>\n",
       "    </tr>\n",
       "    <tr>\n",
       "      <th>1035</th>\n",
       "      <td>1</td>\n",
       "      <td>5000000.0</td>\n",
       "      <td>Male</td>\n",
       "      <td>Bachelor Degree</td>\n",
       "      <td>Credit card</td>\n",
       "      <td>No</td>\n",
       "      <td>Yes</td>\n",
       "      <td>1.0</td>\n",
       "      <td>0.0</td>\n",
       "      <td>1</td>\n",
       "    </tr>\n",
       "    <tr>\n",
       "      <th>386</th>\n",
       "      <td>3</td>\n",
       "      <td>10000000.0</td>\n",
       "      <td>Female</td>\n",
       "      <td>Bachelor Degree</td>\n",
       "      <td>Working Capital</td>\n",
       "      <td>No</td>\n",
       "      <td>Yes</td>\n",
       "      <td>3.0</td>\n",
       "      <td>1.0</td>\n",
       "      <td>1</td>\n",
       "    </tr>\n",
       "  </tbody>\n",
       "</table>\n",
       "</div>"
      ],
      "text/plain": [
       "      AGE      INCOME  GENDER        EDUCATION     LOAN_PURPOSE  \\\n",
       "1749    3   9000000.0    Male      High School      Credit card   \n",
       "3488    1  12000000.0  Female  Bachelor Degree  Working Capital   \n",
       "89      1  15000000.0  Female  Bachelor Degree          Holiday   \n",
       "1035    1   5000000.0    Male  Bachelor Degree      Credit card   \n",
       "386     3  10000000.0  Female  Bachelor Degree  Working Capital   \n",
       "\n",
       "     HAS_APPLIED_BEFORE HAS_INCOME_VERIFICATION  LOANS_WITHOUT_DELAYS  \\\n",
       "1749                 No                     Yes                   3.0   \n",
       "3488                Yes                     Yes                   1.0   \n",
       "89                   No                     Yes                   5.0   \n",
       "1035                 No                     Yes                   1.0   \n",
       "386                  No                     Yes                   3.0   \n",
       "\n",
       "      LOANS_WITH_DELAYS  LOAN_WAS_PAID_BACK  \n",
       "1749                2.0                   1  \n",
       "3488                3.0                   1  \n",
       "89                  0.0                   1  \n",
       "1035                0.0                   1  \n",
       "386                 1.0                   1  "
      ]
     },
     "execution_count": 25,
     "metadata": {},
     "output_type": "execute_result"
    }
   ],
   "source": [
    "# remove ageband\n",
    "df = df.drop(['AgeBand'], axis=1)\n",
    "df.head()"
   ]
  },
  {
   "cell_type": "markdown",
   "metadata": {},
   "source": [
    "## 7.2. Distribution of INCOME variable"
   ]
  },
  {
   "cell_type": "code",
   "execution_count": 26,
   "metadata": {},
   "outputs": [
    {
     "data": {
      "image/png": "[encoded data removed]",
      "text/plain": [
       "<Figure size 720x432 with 1 Axes>"
      ]
     },
     "metadata": {
      "needs_background": "light"
     },
     "output_type": "display_data"
    }
   ],
   "source": [
    "plt.figure(figsize=(10,6))\n",
    "plt.grid(True, alpha=0.5)\n",
    "sns.kdeplot(df.loc[df['LOAN_WAS_PAID_BACK'] == 1, 'INCOME'] , label = 'Paid')\n",
    "sns.kdeplot(df.loc[df['LOAN_WAS_PAID_BACK'] == 0, 'INCOME'] ,  label = 'Not Paid')\n",
    "plt.axvline(df.INCOME.mean(), 0, 1, label = 'mean', color = 'r', ls = '--')\n",
    "plt.axvline(df.INCOME.median(), 0, 1, label = 'median', color = 'g', ls = '--')\n",
    "plt.xlabel('INCOME')\n",
    "plt.ylabel('Density')\n",
    "plt.legend()\n",
    "plt.title('Distribution of INCOME');"
   ]
  },
  {
   "cell_type": "markdown",
   "metadata": {},
   "source": [
    "**What we discover**\n",
    "\n",
    "Income feature are quite skewed with outliers. However we can see that customer with lower income level tend to not paying back their loan, compare to much more well off customer with higher income. <br>\n",
    "We will try and see how the target variable is distributed if we bin our INCOME feature"
   ]
  },
  {
   "cell_type": "markdown",
   "metadata": {},
   "source": [
    "### 7.2.1. binning income"
   ]
  },
  {
   "cell_type": "code",
   "execution_count": 27,
   "metadata": {},
   "outputs": [
    {
     "data": {
      "text/html": [
       "<div>\n",
       "<style scoped>\n",
       "    .dataframe tbody tr th:only-of-type {\n",
       "        vertical-align: middle;\n",
       "    }\n",
       "\n",
       "    .dataframe tbody tr th {\n",
       "        vertical-align: top;\n",
       "    }\n",
       "\n",
       "    .dataframe thead th {\n",
       "        text-align: right;\n",
       "    }\n",
       "</style>\n",
       "<table border=\"1\" class=\"dataframe\">\n",
       "  <thead>\n",
       "    <tr style=\"text-align: right;\">\n",
       "      <th></th>\n",
       "      <th>INCOMEBAND</th>\n",
       "      <th>LOAN_WAS_PAID_BACK</th>\n",
       "    </tr>\n",
       "  </thead>\n",
       "  <tbody>\n",
       "    <tr>\n",
       "      <th>0</th>\n",
       "      <td>(-0.001, 4000000.0]</td>\n",
       "      <td>0.820200</td>\n",
       "    </tr>\n",
       "    <tr>\n",
       "      <th>1</th>\n",
       "      <td>(4000000.0, 5000000.0]</td>\n",
       "      <td>0.833729</td>\n",
       "    </tr>\n",
       "    <tr>\n",
       "      <th>2</th>\n",
       "      <td>(5000000.0, 6000000.0]</td>\n",
       "      <td>0.840426</td>\n",
       "    </tr>\n",
       "    <tr>\n",
       "      <th>3</th>\n",
       "      <td>(6000000.0, 8000000.0]</td>\n",
       "      <td>0.855491</td>\n",
       "    </tr>\n",
       "    <tr>\n",
       "      <th>4</th>\n",
       "      <td>(8000000.0, 11000000.0]</td>\n",
       "      <td>0.859944</td>\n",
       "    </tr>\n",
       "    <tr>\n",
       "      <th>5</th>\n",
       "      <td>(11000000.0, 70000000.0]</td>\n",
       "      <td>0.926829</td>\n",
       "    </tr>\n",
       "  </tbody>\n",
       "</table>\n",
       "</div>"
      ],
      "text/plain": [
       "                 INCOMEBAND  LOAN_WAS_PAID_BACK\n",
       "0       (-0.001, 4000000.0]            0.820200\n",
       "1    (4000000.0, 5000000.0]            0.833729\n",
       "2    (5000000.0, 6000000.0]            0.840426\n",
       "3    (6000000.0, 8000000.0]            0.855491\n",
       "4   (8000000.0, 11000000.0]            0.859944\n",
       "5  (11000000.0, 70000000.0]            0.926829"
      ]
     },
     "execution_count": 27,
     "metadata": {},
     "output_type": "execute_result"
    }
   ],
   "source": [
    "df['INCOMEBAND'] = pd.qcut(df['INCOME'], 6)\n",
    "df[['INCOMEBAND', 'LOAN_WAS_PAID_BACK']].groupby(['INCOMEBAND'], as_index=False).mean().sort_values(by='INCOMEBAND', ascending=True)"
   ]
  },
  {
   "cell_type": "markdown",
   "metadata": {},
   "source": [
    "We can see a somewhat linear pattern where lower income customer are less likely to pay back their loan. We will then bin this INCOME variable according to the above category"
   ]
  },
  {
   "cell_type": "code",
   "execution_count": 28,
   "metadata": {},
   "outputs": [
    {
     "data": {
      "text/html": [
       "<div>\n",
       "<style scoped>\n",
       "    .dataframe tbody tr th:only-of-type {\n",
       "        vertical-align: middle;\n",
       "    }\n",
       "\n",
       "    .dataframe tbody tr th {\n",
       "        vertical-align: top;\n",
       "    }\n",
       "\n",
       "    .dataframe thead th {\n",
       "        text-align: right;\n",
       "    }\n",
       "</style>\n",
       "<table border=\"1\" class=\"dataframe\">\n",
       "  <thead>\n",
       "    <tr style=\"text-align: right;\">\n",
       "      <th></th>\n",
       "      <th>AGE</th>\n",
       "      <th>INCOME</th>\n",
       "      <th>GENDER</th>\n",
       "      <th>EDUCATION</th>\n",
       "      <th>LOAN_PURPOSE</th>\n",
       "      <th>HAS_APPLIED_BEFORE</th>\n",
       "      <th>HAS_INCOME_VERIFICATION</th>\n",
       "      <th>LOANS_WITHOUT_DELAYS</th>\n",
       "      <th>LOANS_WITH_DELAYS</th>\n",
       "      <th>LOAN_WAS_PAID_BACK</th>\n",
       "      <th>INCOMEBAND</th>\n",
       "    </tr>\n",
       "  </thead>\n",
       "  <tbody>\n",
       "    <tr>\n",
       "      <th>1749</th>\n",
       "      <td>3</td>\n",
       "      <td>4.0</td>\n",
       "      <td>Male</td>\n",
       "      <td>High School</td>\n",
       "      <td>Credit card</td>\n",
       "      <td>No</td>\n",
       "      <td>Yes</td>\n",
       "      <td>3.0</td>\n",
       "      <td>2.0</td>\n",
       "      <td>1</td>\n",
       "      <td>(8000000.0, 11000000.0]</td>\n",
       "    </tr>\n",
       "    <tr>\n",
       "      <th>3488</th>\n",
       "      <td>1</td>\n",
       "      <td>5.0</td>\n",
       "      <td>Female</td>\n",
       "      <td>Bachelor Degree</td>\n",
       "      <td>Working Capital</td>\n",
       "      <td>Yes</td>\n",
       "      <td>Yes</td>\n",
       "      <td>1.0</td>\n",
       "      <td>3.0</td>\n",
       "      <td>1</td>\n",
       "      <td>(11000000.0, 70000000.0]</td>\n",
       "    </tr>\n",
       "    <tr>\n",
       "      <th>89</th>\n",
       "      <td>1</td>\n",
       "      <td>5.0</td>\n",
       "      <td>Female</td>\n",
       "      <td>Bachelor Degree</td>\n",
       "      <td>Holiday</td>\n",
       "      <td>No</td>\n",
       "      <td>Yes</td>\n",
       "      <td>5.0</td>\n",
       "      <td>0.0</td>\n",
       "      <td>1</td>\n",
       "      <td>(11000000.0, 70000000.0]</td>\n",
       "    </tr>\n",
       "    <tr>\n",
       "      <th>1035</th>\n",
       "      <td>1</td>\n",
       "      <td>1.0</td>\n",
       "      <td>Male</td>\n",
       "      <td>Bachelor Degree</td>\n",
       "      <td>Credit card</td>\n",
       "      <td>No</td>\n",
       "      <td>Yes</td>\n",
       "      <td>1.0</td>\n",
       "      <td>0.0</td>\n",
       "      <td>1</td>\n",
       "      <td>(4000000.0, 5000000.0]</td>\n",
       "    </tr>\n",
       "    <tr>\n",
       "      <th>386</th>\n",
       "      <td>3</td>\n",
       "      <td>4.0</td>\n",
       "      <td>Female</td>\n",
       "      <td>Bachelor Degree</td>\n",
       "      <td>Working Capital</td>\n",
       "      <td>No</td>\n",
       "      <td>Yes</td>\n",
       "      <td>3.0</td>\n",
       "      <td>1.0</td>\n",
       "      <td>1</td>\n",
       "      <td>(8000000.0, 11000000.0]</td>\n",
       "    </tr>\n",
       "  </tbody>\n",
       "</table>\n",
       "</div>"
      ],
      "text/plain": [
       "      AGE  INCOME  GENDER        EDUCATION     LOAN_PURPOSE  \\\n",
       "1749    3     4.0    Male      High School      Credit card   \n",
       "3488    1     5.0  Female  Bachelor Degree  Working Capital   \n",
       "89      1     5.0  Female  Bachelor Degree          Holiday   \n",
       "1035    1     1.0    Male  Bachelor Degree      Credit card   \n",
       "386     3     4.0  Female  Bachelor Degree  Working Capital   \n",
       "\n",
       "     HAS_APPLIED_BEFORE HAS_INCOME_VERIFICATION  LOANS_WITHOUT_DELAYS  \\\n",
       "1749                 No                     Yes                   3.0   \n",
       "3488                Yes                     Yes                   1.0   \n",
       "89                   No                     Yes                   5.0   \n",
       "1035                 No                     Yes                   1.0   \n",
       "386                  No                     Yes                   3.0   \n",
       "\n",
       "      LOANS_WITH_DELAYS  LOAN_WAS_PAID_BACK                INCOMEBAND  \n",
       "1749                2.0                   1   (8000000.0, 11000000.0]  \n",
       "3488                3.0                   1  (11000000.0, 70000000.0]  \n",
       "89                  0.0                   1  (11000000.0, 70000000.0]  \n",
       "1035                0.0                   1    (4000000.0, 5000000.0]  \n",
       "386                 1.0                   1   (8000000.0, 11000000.0]  "
      ]
     },
     "execution_count": 28,
     "metadata": {},
     "output_type": "execute_result"
    }
   ],
   "source": [
    "# replace INCOME with ordinals\n",
    "\n",
    "df.loc[ df['INCOME'] <= 4e6, 'INCOME'] = 0\n",
    "df.loc[(df['INCOME'] > 4e6) & (df['INCOME'] <= 5e6), 'INCOME'] = 1\n",
    "df.loc[(df['INCOME'] > 5e6) & (df['INCOME'] <= 6e6), 'INCOME'] = 2\n",
    "df.loc[(df['INCOME'] > 6e6) & (df['INCOME'] <= 8e6), 'INCOME'] = 3\n",
    "df.loc[(df['INCOME'] > 8e6) & (df['INCOME'] <= 11e6), 'INCOME'] = 4\n",
    "df.loc[ df['INCOME'] > 11e6, 'INCOME'] = 5\n",
    "df.head()"
   ]
  },
  {
   "cell_type": "code",
   "execution_count": 29,
   "metadata": {},
   "outputs": [
    {
     "data": {
      "text/html": [
       "<div>\n",
       "<style scoped>\n",
       "    .dataframe tbody tr th:only-of-type {\n",
       "        vertical-align: middle;\n",
       "    }\n",
       "\n",
       "    .dataframe tbody tr th {\n",
       "        vertical-align: top;\n",
       "    }\n",
       "\n",
       "    .dataframe thead th {\n",
       "        text-align: right;\n",
       "    }\n",
       "</style>\n",
       "<table border=\"1\" class=\"dataframe\">\n",
       "  <thead>\n",
       "    <tr style=\"text-align: right;\">\n",
       "      <th></th>\n",
       "      <th>AGE</th>\n",
       "      <th>INCOME</th>\n",
       "      <th>GENDER</th>\n",
       "      <th>EDUCATION</th>\n",
       "      <th>LOAN_PURPOSE</th>\n",
       "      <th>HAS_APPLIED_BEFORE</th>\n",
       "      <th>HAS_INCOME_VERIFICATION</th>\n",
       "      <th>LOANS_WITHOUT_DELAYS</th>\n",
       "      <th>LOANS_WITH_DELAYS</th>\n",
       "      <th>LOAN_WAS_PAID_BACK</th>\n",
       "    </tr>\n",
       "  </thead>\n",
       "  <tbody>\n",
       "    <tr>\n",
       "      <th>1749</th>\n",
       "      <td>3</td>\n",
       "      <td>4.0</td>\n",
       "      <td>Male</td>\n",
       "      <td>High School</td>\n",
       "      <td>Credit card</td>\n",
       "      <td>No</td>\n",
       "      <td>Yes</td>\n",
       "      <td>3.0</td>\n",
       "      <td>2.0</td>\n",
       "      <td>1</td>\n",
       "    </tr>\n",
       "    <tr>\n",
       "      <th>3488</th>\n",
       "      <td>1</td>\n",
       "      <td>5.0</td>\n",
       "      <td>Female</td>\n",
       "      <td>Bachelor Degree</td>\n",
       "      <td>Working Capital</td>\n",
       "      <td>Yes</td>\n",
       "      <td>Yes</td>\n",
       "      <td>1.0</td>\n",
       "      <td>3.0</td>\n",
       "      <td>1</td>\n",
       "    </tr>\n",
       "    <tr>\n",
       "      <th>89</th>\n",
       "      <td>1</td>\n",
       "      <td>5.0</td>\n",
       "      <td>Female</td>\n",
       "      <td>Bachelor Degree</td>\n",
       "      <td>Holiday</td>\n",
       "      <td>No</td>\n",
       "      <td>Yes</td>\n",
       "      <td>5.0</td>\n",
       "      <td>0.0</td>\n",
       "      <td>1</td>\n",
       "    </tr>\n",
       "    <tr>\n",
       "      <th>1035</th>\n",
       "      <td>1</td>\n",
       "      <td>1.0</td>\n",
       "      <td>Male</td>\n",
       "      <td>Bachelor Degree</td>\n",
       "      <td>Credit card</td>\n",
       "      <td>No</td>\n",
       "      <td>Yes</td>\n",
       "      <td>1.0</td>\n",
       "      <td>0.0</td>\n",
       "      <td>1</td>\n",
       "    </tr>\n",
       "    <tr>\n",
       "      <th>386</th>\n",
       "      <td>3</td>\n",
       "      <td>4.0</td>\n",
       "      <td>Female</td>\n",
       "      <td>Bachelor Degree</td>\n",
       "      <td>Working Capital</td>\n",
       "      <td>No</td>\n",
       "      <td>Yes</td>\n",
       "      <td>3.0</td>\n",
       "      <td>1.0</td>\n",
       "      <td>1</td>\n",
       "    </tr>\n",
       "  </tbody>\n",
       "</table>\n",
       "</div>"
      ],
      "text/plain": [
       "      AGE  INCOME  GENDER        EDUCATION     LOAN_PURPOSE  \\\n",
       "1749    3     4.0    Male      High School      Credit card   \n",
       "3488    1     5.0  Female  Bachelor Degree  Working Capital   \n",
       "89      1     5.0  Female  Bachelor Degree          Holiday   \n",
       "1035    1     1.0    Male  Bachelor Degree      Credit card   \n",
       "386     3     4.0  Female  Bachelor Degree  Working Capital   \n",
       "\n",
       "     HAS_APPLIED_BEFORE HAS_INCOME_VERIFICATION  LOANS_WITHOUT_DELAYS  \\\n",
       "1749                 No                     Yes                   3.0   \n",
       "3488                Yes                     Yes                   1.0   \n",
       "89                   No                     Yes                   5.0   \n",
       "1035                 No                     Yes                   1.0   \n",
       "386                  No                     Yes                   3.0   \n",
       "\n",
       "      LOANS_WITH_DELAYS  LOAN_WAS_PAID_BACK  \n",
       "1749                2.0                   1  \n",
       "3488                3.0                   1  \n",
       "89                  0.0                   1  \n",
       "1035                0.0                   1  \n",
       "386                 1.0                   1  "
      ]
     },
     "execution_count": 29,
     "metadata": {},
     "output_type": "execute_result"
    }
   ],
   "source": [
    "# remove INCOMEBAND\n",
    "df = df.drop(['INCOMEBAND'], axis=1)\n",
    "df.head()"
   ]
  },
  {
   "cell_type": "markdown",
   "metadata": {},
   "source": [
    "## 7.3. Visualizing GENDER feature "
   ]
  },
  {
   "cell_type": "code",
   "execution_count": 30,
   "metadata": {},
   "outputs": [
    {
     "name": "stdout",
     "output_type": "stream",
     "text": [
      "Male      1714\n",
      "Female    1487\n",
      "Name: GENDER, dtype: int64\n"
     ]
    },
    {
     "data": {
      "image/png": "[encoded data removed]",
      "text/plain": [
       "<Figure size 864x360 with 1 Axes>"
      ]
     },
     "metadata": {
      "needs_background": "light"
     },
     "output_type": "display_data"
    }
   ],
   "source": [
    "# visualize gender distribution related to target\n",
    "print(df.GENDER.value_counts())\n",
    "\n",
    "plt.figure(figsize=(12,5))\n",
    "ax = sns.countplot(hue=\"LOAN_WAS_PAID_BACK\", x=\"GENDER\", data=df)\n",
    "plt.title(\"Distribution of GENDER\")\n",
    "plt.show()"
   ]
  },
  {
   "cell_type": "markdown",
   "metadata": {},
   "source": [
    "Based on the visualisation we can see while Female make up smaller proportion of customer in the sample, number of defaulted female is higher than their counterpart. Therefore we are going to include gender as a feature"
   ]
  },
  {
   "cell_type": "markdown",
   "metadata": {},
   "source": [
    "## 7.4. Visualizing EDUCATION"
   ]
  },
  {
   "cell_type": "code",
   "execution_count": 31,
   "metadata": {},
   "outputs": [
    {
     "data": {
      "image/png": "[encoded data removed]",
      "text/plain": [
       "<Figure size 1440x360 with 1 Axes>"
      ]
     },
     "metadata": {
      "needs_background": "light"
     },
     "output_type": "display_data"
    }
   ],
   "source": [
    "plt.figure(figsize=(20,5))\n",
    "ax = sns.countplot(hue=\"LOAN_WAS_PAID_BACK\",\n",
    "                   x=\"EDUCATION\", \n",
    "                   data=df, \n",
    "                  order = df[\"EDUCATION\"].value_counts().index)\n",
    "plt.title(\"Distribution of EDUCATION\")\n",
    "plt.show()"
   ]
  },
  {
   "cell_type": "markdown",
   "metadata": {},
   "source": [
    "### 7.4.1. Let's see how education and gender corelate with each other "
   ]
  },
  {
   "cell_type": "code",
   "execution_count": 32,
   "metadata": {},
   "outputs": [],
   "source": [
    "edu_gender_1 = df.loc[df['LOAN_WAS_PAID_BACK'] == 1,\n",
    "                      ['EDUCATION', 'GENDER', 'LOAN_WAS_PAID_BACK']]\\\n",
    ".groupby('EDUCATION')['GENDER'].value_counts(normalize=True).unstack().reset_index()\n",
    "\n",
    "edu_gender_0 = df.loc[df['LOAN_WAS_PAID_BACK'] == 0,\n",
    "                      ['EDUCATION', 'GENDER', 'LOAN_WAS_PAID_BACK']]\\\n",
    ".groupby('EDUCATION')['GENDER'].value_counts(normalize=True).unstack().reset_index()"
   ]
  },
  {
   "cell_type": "code",
   "execution_count": 33,
   "metadata": {},
   "outputs": [],
   "source": [
    "edu_0 = pd.melt(edu_gender_0, id_vars = \"EDUCATION\")\n",
    "edu_1 = pd.melt(edu_gender_1, id_vars = \"EDUCATION\")"
   ]
  },
  {
   "cell_type": "code",
   "execution_count": 34,
   "metadata": {},
   "outputs": [
    {
     "data": {
      "image/png": "[encoded data removed]",
      "text/plain": [
       "<Figure size 792.125x360 with 1 Axes>"
      ]
     },
     "metadata": {
      "needs_background": "light"
     },
     "output_type": "display_data"
    },
    {
     "data": {
      "image/png": "[encoded data removed]",
      "text/plain": [
       "<Figure size 792.125x360 with 1 Axes>"
      ]
     },
     "metadata": {
      "needs_background": "light"
     },
     "output_type": "display_data"
    }
   ],
   "source": [
    "sns.catplot(x = 'EDUCATION', y='value', \n",
    "            hue = 'GENDER',data=edu_1, \n",
    "            kind='bar',  height=5, aspect=2)\n",
    "plt.title(\"Distribution of gender based on education, good customer\")\n",
    "plt.ylabel(\"percentage\")\n",
    "plt.show()\n",
    "\n",
    "sns.catplot(x = 'EDUCATION', y='value', \n",
    "            hue = 'GENDER',data=edu_0, \n",
    "            kind='bar',  height=5, aspect=2)\n",
    "plt.title(\"Distribution of gender based on education, bad customer\")\n",
    "plt.ylabel(\"percentage\")\n",
    "plt.show()"
   ]
  },
  {
   "cell_type": "markdown",
   "metadata": {},
   "source": [
    "**What we discover**\n",
    "\n",
    "- Male with higher degree of education are more likely to pay bay their loan and become good customer \n",
    "- Proportionaly there are more female with high school education level in both good and bad customer \n",
    "- Surprisingly, all male customer with a post graduate degree are good customer and paid back all their loan\n",
    "- While at the same time, we can see that except in diploma and other education level, female applicants tend to default on their loan accross all education level\n",
    "\n",
    "**Decision**\n",
    "\n",
    "We are also going to include EDUCATION as a feature in our model"
   ]
  },
  {
   "cell_type": "markdown",
   "metadata": {},
   "source": [
    "## 7.5. LOAN_PURPOSE "
   ]
  },
  {
   "cell_type": "code",
   "execution_count": 35,
   "metadata": {},
   "outputs": [
    {
     "data": {
      "image/png": "[encoded data removed]",
      "text/plain": [
       "<Figure size 1440x360 with 1 Axes>"
      ]
     },
     "metadata": {
      "needs_background": "light"
     },
     "output_type": "display_data"
    }
   ],
   "source": [
    "plt.figure(figsize=(20,5))\n",
    "ax = sns.countplot(hue=\"LOAN_WAS_PAID_BACK\",\n",
    "                   x=\"LOAN_PURPOSE\", \n",
    "                   data=df, \n",
    "                  order = df[\"LOAN_PURPOSE\"].value_counts().index)\n",
    "plt.title(\"Distribution of LOAN_PURPOSE\")\n",
    "plt.show()"
   ]
  },
  {
   "cell_type": "markdown",
   "metadata": {},
   "source": [
    "**What we discover**\n",
    "\n",
    "- Most of the customer apply for productive loan to help their business, as the top 2 loans are working capital and renovation\n",
    "- Consumptive loan are next category, in which credit card, unsecured and loan for holiday purpose are next in terms of number of applicants\n",
    "- We can also see there is a trend , in which top 3 loan category has the highest amount of default customer by counts, which might be valuable for the model\n",
    "\n",
    "**Decision**\n",
    "\n",
    "We are also going to include LOAN_PURPOSE as a feature in our model"
   ]
  },
  {
   "cell_type": "markdown",
   "metadata": {},
   "source": [
    "## 7.6. HAS_INCOME_VERIFICATION"
   ]
  },
  {
   "cell_type": "code",
   "execution_count": 36,
   "metadata": {},
   "outputs": [],
   "source": [
    "# let's see how income verification corelate with income and target \n",
    "income_1 = df.loc[df['LOAN_WAS_PAID_BACK'] == 1,\n",
    "                      ['INCOME', 'HAS_INCOME_VERIFICATION', 'LOAN_WAS_PAID_BACK']]\\\n",
    ".groupby('INCOME')['HAS_INCOME_VERIFICATION'].value_counts(normalize=True).unstack().reset_index()\n",
    "\n",
    "income_0 = df.loc[df['LOAN_WAS_PAID_BACK'] == 0,\n",
    "                      ['INCOME', 'HAS_INCOME_VERIFICATION', 'LOAN_WAS_PAID_BACK']]\\\n",
    ".groupby('INCOME')['HAS_INCOME_VERIFICATION'].value_counts(normalize=True).unstack().reset_index()\n",
    "\n",
    "income_1_df = pd.melt(income_1, id_vars = \"INCOME\")\n",
    "income_0_df = pd.melt(income_0, id_vars = \"INCOME\")"
   ]
  },
  {
   "cell_type": "code",
   "execution_count": 37,
   "metadata": {},
   "outputs": [
    {
     "data": {
      "text/html": [
       "<div>\n",
       "<style scoped>\n",
       "    .dataframe tbody tr th:only-of-type {\n",
       "        vertical-align: middle;\n",
       "    }\n",
       "\n",
       "    .dataframe tbody tr th {\n",
       "        vertical-align: top;\n",
       "    }\n",
       "\n",
       "    .dataframe thead th {\n",
       "        text-align: right;\n",
       "    }\n",
       "</style>\n",
       "<table border=\"1\" class=\"dataframe\">\n",
       "  <thead>\n",
       "    <tr style=\"text-align: right;\">\n",
       "      <th></th>\n",
       "      <th>INCOME</th>\n",
       "      <th>HAS_INCOME_VERIFICATION</th>\n",
       "      <th>value</th>\n",
       "    </tr>\n",
       "  </thead>\n",
       "  <tbody>\n",
       "    <tr>\n",
       "      <th>0</th>\n",
       "      <td>0.0</td>\n",
       "      <td>No</td>\n",
       "      <td>0.033829</td>\n",
       "    </tr>\n",
       "    <tr>\n",
       "      <th>1</th>\n",
       "      <td>1.0</td>\n",
       "      <td>No</td>\n",
       "      <td>0.002849</td>\n",
       "    </tr>\n",
       "    <tr>\n",
       "      <th>2</th>\n",
       "      <td>2.0</td>\n",
       "      <td>No</td>\n",
       "      <td>0.025316</td>\n",
       "    </tr>\n",
       "    <tr>\n",
       "      <th>3</th>\n",
       "      <td>3.0</td>\n",
       "      <td>No</td>\n",
       "      <td>0.020270</td>\n",
       "    </tr>\n",
       "    <tr>\n",
       "      <th>4</th>\n",
       "      <td>4.0</td>\n",
       "      <td>No</td>\n",
       "      <td>0.009772</td>\n",
       "    </tr>\n",
       "    <tr>\n",
       "      <th>5</th>\n",
       "      <td>5.0</td>\n",
       "      <td>No</td>\n",
       "      <td>0.006073</td>\n",
       "    </tr>\n",
       "    <tr>\n",
       "      <th>6</th>\n",
       "      <td>0.0</td>\n",
       "      <td>Yes</td>\n",
       "      <td>0.966171</td>\n",
       "    </tr>\n",
       "    <tr>\n",
       "      <th>7</th>\n",
       "      <td>1.0</td>\n",
       "      <td>Yes</td>\n",
       "      <td>0.997151</td>\n",
       "    </tr>\n",
       "    <tr>\n",
       "      <th>8</th>\n",
       "      <td>2.0</td>\n",
       "      <td>Yes</td>\n",
       "      <td>0.974684</td>\n",
       "    </tr>\n",
       "    <tr>\n",
       "      <th>9</th>\n",
       "      <td>3.0</td>\n",
       "      <td>Yes</td>\n",
       "      <td>0.979730</td>\n",
       "    </tr>\n",
       "    <tr>\n",
       "      <th>10</th>\n",
       "      <td>4.0</td>\n",
       "      <td>Yes</td>\n",
       "      <td>0.990228</td>\n",
       "    </tr>\n",
       "    <tr>\n",
       "      <th>11</th>\n",
       "      <td>5.0</td>\n",
       "      <td>Yes</td>\n",
       "      <td>0.993927</td>\n",
       "    </tr>\n",
       "  </tbody>\n",
       "</table>\n",
       "</div>"
      ],
      "text/plain": [
       "    INCOME HAS_INCOME_VERIFICATION     value\n",
       "0      0.0                      No  0.033829\n",
       "1      1.0                      No  0.002849\n",
       "2      2.0                      No  0.025316\n",
       "3      3.0                      No  0.020270\n",
       "4      4.0                      No  0.009772\n",
       "5      5.0                      No  0.006073\n",
       "6      0.0                     Yes  0.966171\n",
       "7      1.0                     Yes  0.997151\n",
       "8      2.0                     Yes  0.974684\n",
       "9      3.0                     Yes  0.979730\n",
       "10     4.0                     Yes  0.990228\n",
       "11     5.0                     Yes  0.993927"
      ]
     },
     "execution_count": 37,
     "metadata": {},
     "output_type": "execute_result"
    }
   ],
   "source": [
    "income_1_df"
   ]
  },
  {
   "cell_type": "code",
   "execution_count": 38,
   "metadata": {},
   "outputs": [
    {
     "data": {
      "image/png": "[encoded data removed]",
      "text/plain": [
       "<Figure size 867.125x360 with 1 Axes>"
      ]
     },
     "metadata": {
      "needs_background": "light"
     },
     "output_type": "display_data"
    },
    {
     "data": {
      "image/png": "[encoded data removed]",
      "text/plain": [
       "<Figure size 867.125x360 with 1 Axes>"
      ]
     },
     "metadata": {
      "needs_background": "light"
     },
     "output_type": "display_data"
    }
   ],
   "source": [
    "sns.catplot(x = 'INCOME', y='value', \n",
    "            hue = 'HAS_INCOME_VERIFICATION',data=income_1_df, \n",
    "            kind='bar',  height=5, aspect=2)\n",
    "plt.title(\"Distribution of INCOME based on HAS_INCOME_VERIFICATION, good customer\")\n",
    "plt.ylabel(\"percentage\")\n",
    "plt.show()\n",
    "\n",
    "sns.catplot(x = 'INCOME', y='value', \n",
    "            hue = 'HAS_INCOME_VERIFICATION',data=income_0_df, \n",
    "            kind='bar',  height=5, aspect=2)\n",
    "plt.title(\"Distribution of INCOME based on HAS_INCOME_VERIFICATION, bad customer\")\n",
    "plt.ylabel(\"percentage\")\n",
    "plt.show()"
   ]
  },
  {
   "cell_type": "markdown",
   "metadata": {},
   "source": [
    "We can see that customer without income verification are more likely to default on their payment, especially in the lower income region (group 0 - 2)"
   ]
  },
  {
   "cell_type": "markdown",
   "metadata": {},
   "source": [
    "## 7.7. Distribution of HAS_APPLIED BEFORE feature"
   ]
  },
  {
   "cell_type": "code",
   "execution_count": 39,
   "metadata": {},
   "outputs": [
    {
     "data": {
      "image/png": "[encoded data removed]",
      "text/plain": [
       "<Figure size 1440x360 with 1 Axes>"
      ]
     },
     "metadata": {
      "needs_background": "light"
     },
     "output_type": "display_data"
    }
   ],
   "source": [
    "plt.figure(figsize=(20,5))\n",
    "ax = sns.countplot(hue=\"LOAN_WAS_PAID_BACK\",\n",
    "                   x=\"HAS_APPLIED_BEFORE\", \n",
    "                   data=df, \n",
    "                  order = df[\"HAS_APPLIED_BEFORE\"].value_counts().index)\n",
    "plt.title(\"Distribution of EDUCATION\")\n",
    "plt.show()"
   ]
  },
  {
   "cell_type": "markdown",
   "metadata": {},
   "source": [
    "# 8. Feature Engineering and Selection"
   ]
  },
  {
   "cell_type": "markdown",
   "metadata": {},
   "source": [
    "Based on previous parts, we are going to make 2 model that distinguished by have or doesn't have bureau data and we will use features:\n",
    "- AGE (binned)\n",
    "- INCOME (binned)\n",
    "- GENDER\n",
    "- EDUCATION\n",
    "- LOAN_PURPOSE\n",
    "- HAS_APPLIED_BEFORE\n",
    "- HAS INCOME VERIFICATION\n",
    "- Bureau data (\"LOANS_WITHOUT_DELAYS\", \"LOANS_WITH_DELAYS\")"
   ]
  },
  {
   "cell_type": "code",
   "execution_count": 40,
   "metadata": {},
   "outputs": [],
   "source": [
    "def binning_features(df):\n",
    "    #binning Age\n",
    "    df.loc[ df['AGE'] <= 20, 'AGE'] = 0\n",
    "    df.loc[(df['AGE'] > 20) & (df['AGE'] <= 34), 'AGE'] = 1\n",
    "    df.loc[(df['AGE'] > 34) & (df['AGE'] <= 40), 'AGE'] = 2\n",
    "    df.loc[(df['AGE'] > 40) & (df['AGE'] <= 47), 'AGE'] = 3\n",
    "    df.loc[ df['AGE'] > 47, 'AGE'] = 4\n",
    "    \n",
    "    #income\n",
    "    df.loc[ df['INCOME'] <= 4e6, 'INCOME'] = 0\n",
    "    df.loc[(df['INCOME'] > 4e6) & (df['INCOME'] <= 5e6), 'INCOME'] = 1\n",
    "    df.loc[(df['INCOME'] > 5e6) & (df['INCOME'] <= 6e6), 'INCOME'] = 2\n",
    "    df.loc[(df['INCOME'] > 6e6) & (df['INCOME'] <= 8e6), 'INCOME'] = 3\n",
    "    df.loc[(df['INCOME'] > 8e6) & (df['INCOME'] <= 11e6), 'INCOME'] = 4\n",
    "    df.loc[ df['INCOME'] > 11e6, 'INCOME'] = 5\n",
    "\n",
    "    return df"
   ]
  },
  {
   "cell_type": "code",
   "execution_count": 41,
   "metadata": {},
   "outputs": [],
   "source": [
    "def one_hot_encoder(x_cat):\n",
    "    df = x_cat.copy()\n",
    "    index = x_cat.index\n",
    "    col = x_cat.columns\n",
    "    \n",
    "    encoder = OneHotEncoder(sparse=False, handle_unknown='ignore')\n",
    "    encoder.fit(x_cat)\n",
    "\n",
    "    encoded = encoder.transform(x_cat)\n",
    "    feat_names = encoder.get_feature_names(col)\n",
    "    encoded = pd.DataFrame(encoded)\n",
    "    encoded.index = index\n",
    "    encoded.columns = feat_names\n",
    "    return encoded"
   ]
  },
  {
   "cell_type": "code",
   "execution_count": 42,
   "metadata": {},
   "outputs": [],
   "source": [
    "#compile all engineering\n",
    "def feature_engineering(df):\n",
    "    TARGET = \"LOAN_WAS_PAID_BACK\"\n",
    "    #drop some features\n",
    "    df = df.drop([\"customer_id\", \"APPLICATION_RECEIVE_TIME\", \"KNOWN_ASSETS\", \"Score\"], axis=1)\n",
    "    #dropna for Income and Loan Purpose\n",
    "    df = df.dropna(subset = ['INCOME', 'LOAN_PURPOSE'])\n",
    "    \n",
    "    #binning\n",
    "    binning_features(df)\n",
    "    \n",
    "    #converting categorical Features\n",
    "    df['GENDER'] = df['GENDER'].map( {'Male': 1, 'Female': 0} ).astype(int)\n",
    "    df['HAS_APPLIED_BEFORE'] = df['HAS_APPLIED_BEFORE'].map( {'Yes': 1, 'No': 0} ).astype(int)\n",
    "    df['HAS_INCOME_VERIFICATION'] = df['HAS_INCOME_VERIFICATION'].map( {'Yes': 1, 'No': 0} ).astype(int)\n",
    "    \n",
    "    #one hot encoding\n",
    "    df_num = df.drop(['EDUCATION','LOAN_PURPOSE'], axis=1)\n",
    "    df_hot = one_hot_encoder(df[['EDUCATION','LOAN_PURPOSE']])\n",
    "    df_ready = df_num.join(df_hot)\n",
    "    \n",
    "    #split data with or without bureau data\n",
    "    df_with_bureau = df_ready.dropna(subset = ['LOANS_WITHOUT_DELAYS', 'LOANS_WITH_DELAYS'])\n",
    "    df_without_bureau = df_ready[df_ready['LOANS_WITH_DELAYS'].isna() == True]\n",
    "    df_without_bureau = df_ready.drop(columns=[ \"LOANS_WITHOUT_DELAYS\", \"LOANS_WITH_DELAYS\"])\n",
    "    X_with_bureau = df_with_bureau.drop(columns=TARGET)\n",
    "    X_without_bureau = df_without_bureau.drop(columns=TARGET)\n",
    "    y_with_bureau = df_with_bureau[TARGET]\n",
    "    y_without_bureau = df_without_bureau[TARGET]\n",
    "    return X_with_bureau,X_without_bureau,y_with_bureau,y_without_bureau\n",
    "\n",
    "\n",
    "def add_columns(df_raw, df_2):\n",
    "    df_temp = df_2.copy()\n",
    "    x_raw, y_raw = feature_engineering(df_raw)\n",
    "    mis_col = set(x_raw.columns).difference(set(df_2.columns))\n",
    "    print(mis_col)\n",
    "    if len(mis_col) > 0:\n",
    "        for i in mis_col :\n",
    "            df_temp.loc[:, i] = 0\n",
    "    else:\n",
    "        pass\n",
    "    return df_temp"
   ]
  },
  {
   "cell_type": "markdown",
   "metadata": {},
   "source": [
    "## 8.1. Train Engginering"
   ]
  },
  {
   "cell_type": "code",
   "execution_count": 43,
   "metadata": {},
   "outputs": [],
   "source": [
    "df_train = pd.concat([x_train, pd.DataFrame(y_train)], axis = 1)"
   ]
  },
  {
   "cell_type": "code",
   "execution_count": 44,
   "metadata": {},
   "outputs": [],
   "source": [
    "# This is our final feature\n",
    "X_train_with_bureau, X_train_without_bureau, y_train_with_bureau, y_train_without_bureau = feature_engineering(df_train)"
   ]
  },
  {
   "cell_type": "code",
   "execution_count": 45,
   "metadata": {},
   "outputs": [
    {
     "data": {
      "text/plain": [
       "AGE                                        0\n",
       "INCOME                                     0\n",
       "GENDER                                     0\n",
       "HAS_APPLIED_BEFORE                         0\n",
       "HAS_INCOME_VERIFICATION                    0\n",
       "EDUCATION_Bachelor Degree                  0\n",
       "EDUCATION_Diploma                          0\n",
       "EDUCATION_High School                      0\n",
       "EDUCATION_Master's Degree/Post graduate    0\n",
       "EDUCATION_Other                            0\n",
       "LOAN_PURPOSE_Bills                         0\n",
       "LOAN_PURPOSE_Car/Motorcycle                0\n",
       "LOAN_PURPOSE_Credit card                   0\n",
       "LOAN_PURPOSE_Education                     0\n",
       "LOAN_PURPOSE_Electronic unsecured loan     0\n",
       "LOAN_PURPOSE_Holiday                       0\n",
       "LOAN_PURPOSE_Housing loan                  0\n",
       "LOAN_PURPOSE_Investment                    0\n",
       "LOAN_PURPOSE_Other                         0\n",
       "LOAN_PURPOSE_Renovation                    0\n",
       "LOAN_PURPOSE_Venture capital               0\n",
       "LOAN_PURPOSE_Working Capital               0\n",
       "dtype: int64"
      ]
     },
     "execution_count": 45,
     "metadata": {},
     "output_type": "execute_result"
    }
   ],
   "source": [
    "X_train_without_bureau.isna().sum()"
   ]
  },
  {
   "cell_type": "markdown",
   "metadata": {},
   "source": [
    "## 8.2. Validation Engginering"
   ]
  },
  {
   "cell_type": "code",
   "execution_count": 46,
   "metadata": {},
   "outputs": [],
   "source": [
    "df_valid = pd.concat([x_valid, pd.DataFrame(y_valid)], axis = 1)"
   ]
  },
  {
   "cell_type": "code",
   "execution_count": 47,
   "metadata": {},
   "outputs": [],
   "source": [
    "X_valid_with_bureau, X_valid_without_bureau, y_valid_with_bureau, y_valid_without_bureau = feature_engineering(df_valid)"
   ]
  },
  {
   "cell_type": "markdown",
   "metadata": {},
   "source": [
    "## 8.3. Test Engginering"
   ]
  },
  {
   "cell_type": "code",
   "execution_count": 48,
   "metadata": {},
   "outputs": [],
   "source": [
    "df_test = pd.concat([x_test, pd.DataFrame(y_test)], axis = 1)"
   ]
  },
  {
   "cell_type": "code",
   "execution_count": 49,
   "metadata": {},
   "outputs": [],
   "source": [
    "X_test_with_bureau, X_test_without_bureau, y_test_with_bureau, y_test_without_bureau = feature_engineering(df_valid)"
   ]
  },
  {
   "cell_type": "markdown",
   "metadata": {},
   "source": [
    "# 9. ML Training"
   ]
  },
  {
   "cell_type": "markdown",
   "metadata": {},
   "source": [
    "## With Bureau Data"
   ]
  },
  {
   "cell_type": "code",
   "execution_count": 50,
   "metadata": {},
   "outputs": [
    {
     "data": {
      "text/html": [
       "<div>\n",
       "<style scoped>\n",
       "    .dataframe tbody tr th:only-of-type {\n",
       "        vertical-align: middle;\n",
       "    }\n",
       "\n",
       "    .dataframe tbody tr th {\n",
       "        vertical-align: top;\n",
       "    }\n",
       "\n",
       "    .dataframe thead th {\n",
       "        text-align: right;\n",
       "    }\n",
       "</style>\n",
       "<table border=\"1\" class=\"dataframe\">\n",
       "  <thead>\n",
       "    <tr style=\"text-align: right;\">\n",
       "      <th></th>\n",
       "      <th>AGE</th>\n",
       "      <th>INCOME</th>\n",
       "      <th>GENDER</th>\n",
       "      <th>HAS_APPLIED_BEFORE</th>\n",
       "      <th>HAS_INCOME_VERIFICATION</th>\n",
       "      <th>LOANS_WITHOUT_DELAYS</th>\n",
       "      <th>LOANS_WITH_DELAYS</th>\n",
       "      <th>EDUCATION_Bachelor Degree</th>\n",
       "      <th>EDUCATION_Diploma</th>\n",
       "      <th>EDUCATION_High School</th>\n",
       "      <th>...</th>\n",
       "      <th>LOAN_PURPOSE_Credit card</th>\n",
       "      <th>LOAN_PURPOSE_Education</th>\n",
       "      <th>LOAN_PURPOSE_Electronic unsecured loan</th>\n",
       "      <th>LOAN_PURPOSE_Holiday</th>\n",
       "      <th>LOAN_PURPOSE_Housing loan</th>\n",
       "      <th>LOAN_PURPOSE_Investment</th>\n",
       "      <th>LOAN_PURPOSE_Other</th>\n",
       "      <th>LOAN_PURPOSE_Renovation</th>\n",
       "      <th>LOAN_PURPOSE_Venture capital</th>\n",
       "      <th>LOAN_PURPOSE_Working Capital</th>\n",
       "    </tr>\n",
       "  </thead>\n",
       "  <tbody>\n",
       "    <tr>\n",
       "      <th>0</th>\n",
       "      <td>3</td>\n",
       "      <td>4.000000</td>\n",
       "      <td>1</td>\n",
       "      <td>0</td>\n",
       "      <td>1</td>\n",
       "      <td>3.000000</td>\n",
       "      <td>2.000000</td>\n",
       "      <td>0.0</td>\n",
       "      <td>0.0</td>\n",
       "      <td>1.0</td>\n",
       "      <td>...</td>\n",
       "      <td>1.000000</td>\n",
       "      <td>0.0</td>\n",
       "      <td>0.000000</td>\n",
       "      <td>0.0</td>\n",
       "      <td>0.0</td>\n",
       "      <td>0.0</td>\n",
       "      <td>0.0</td>\n",
       "      <td>0.000000</td>\n",
       "      <td>0.0</td>\n",
       "      <td>0.000000</td>\n",
       "    </tr>\n",
       "    <tr>\n",
       "      <th>1</th>\n",
       "      <td>1</td>\n",
       "      <td>5.000000</td>\n",
       "      <td>0</td>\n",
       "      <td>1</td>\n",
       "      <td>1</td>\n",
       "      <td>1.000000</td>\n",
       "      <td>3.000000</td>\n",
       "      <td>1.0</td>\n",
       "      <td>0.0</td>\n",
       "      <td>0.0</td>\n",
       "      <td>...</td>\n",
       "      <td>0.000000</td>\n",
       "      <td>0.0</td>\n",
       "      <td>0.000000</td>\n",
       "      <td>0.0</td>\n",
       "      <td>0.0</td>\n",
       "      <td>0.0</td>\n",
       "      <td>0.0</td>\n",
       "      <td>0.000000</td>\n",
       "      <td>0.0</td>\n",
       "      <td>1.000000</td>\n",
       "    </tr>\n",
       "    <tr>\n",
       "      <th>2</th>\n",
       "      <td>1</td>\n",
       "      <td>5.000000</td>\n",
       "      <td>0</td>\n",
       "      <td>0</td>\n",
       "      <td>1</td>\n",
       "      <td>5.000000</td>\n",
       "      <td>0.000000</td>\n",
       "      <td>1.0</td>\n",
       "      <td>0.0</td>\n",
       "      <td>0.0</td>\n",
       "      <td>...</td>\n",
       "      <td>0.000000</td>\n",
       "      <td>0.0</td>\n",
       "      <td>0.000000</td>\n",
       "      <td>1.0</td>\n",
       "      <td>0.0</td>\n",
       "      <td>0.0</td>\n",
       "      <td>0.0</td>\n",
       "      <td>0.000000</td>\n",
       "      <td>0.0</td>\n",
       "      <td>0.000000</td>\n",
       "    </tr>\n",
       "    <tr>\n",
       "      <th>3</th>\n",
       "      <td>1</td>\n",
       "      <td>1.000000</td>\n",
       "      <td>1</td>\n",
       "      <td>0</td>\n",
       "      <td>1</td>\n",
       "      <td>1.000000</td>\n",
       "      <td>0.000000</td>\n",
       "      <td>1.0</td>\n",
       "      <td>0.0</td>\n",
       "      <td>0.0</td>\n",
       "      <td>...</td>\n",
       "      <td>1.000000</td>\n",
       "      <td>0.0</td>\n",
       "      <td>0.000000</td>\n",
       "      <td>0.0</td>\n",
       "      <td>0.0</td>\n",
       "      <td>0.0</td>\n",
       "      <td>0.0</td>\n",
       "      <td>0.000000</td>\n",
       "      <td>0.0</td>\n",
       "      <td>0.000000</td>\n",
       "    </tr>\n",
       "    <tr>\n",
       "      <th>4</th>\n",
       "      <td>3</td>\n",
       "      <td>4.000000</td>\n",
       "      <td>0</td>\n",
       "      <td>0</td>\n",
       "      <td>1</td>\n",
       "      <td>3.000000</td>\n",
       "      <td>1.000000</td>\n",
       "      <td>1.0</td>\n",
       "      <td>0.0</td>\n",
       "      <td>0.0</td>\n",
       "      <td>...</td>\n",
       "      <td>0.000000</td>\n",
       "      <td>0.0</td>\n",
       "      <td>0.000000</td>\n",
       "      <td>0.0</td>\n",
       "      <td>0.0</td>\n",
       "      <td>0.0</td>\n",
       "      <td>0.0</td>\n",
       "      <td>0.000000</td>\n",
       "      <td>0.0</td>\n",
       "      <td>1.000000</td>\n",
       "    </tr>\n",
       "    <tr>\n",
       "      <th>...</th>\n",
       "      <td>...</td>\n",
       "      <td>...</td>\n",
       "      <td>...</td>\n",
       "      <td>...</td>\n",
       "      <td>...</td>\n",
       "      <td>...</td>\n",
       "      <td>...</td>\n",
       "      <td>...</td>\n",
       "      <td>...</td>\n",
       "      <td>...</td>\n",
       "      <td>...</td>\n",
       "      <td>...</td>\n",
       "      <td>...</td>\n",
       "      <td>...</td>\n",
       "      <td>...</td>\n",
       "      <td>...</td>\n",
       "      <td>...</td>\n",
       "      <td>...</td>\n",
       "      <td>...</td>\n",
       "      <td>...</td>\n",
       "      <td>...</td>\n",
       "    </tr>\n",
       "    <tr>\n",
       "      <th>4407</th>\n",
       "      <td>3</td>\n",
       "      <td>4.000000</td>\n",
       "      <td>0</td>\n",
       "      <td>1</td>\n",
       "      <td>1</td>\n",
       "      <td>1.055647</td>\n",
       "      <td>0.000000</td>\n",
       "      <td>0.0</td>\n",
       "      <td>0.0</td>\n",
       "      <td>1.0</td>\n",
       "      <td>...</td>\n",
       "      <td>0.944353</td>\n",
       "      <td>0.0</td>\n",
       "      <td>0.000000</td>\n",
       "      <td>0.0</td>\n",
       "      <td>0.0</td>\n",
       "      <td>0.0</td>\n",
       "      <td>0.0</td>\n",
       "      <td>0.000000</td>\n",
       "      <td>0.0</td>\n",
       "      <td>0.055647</td>\n",
       "    </tr>\n",
       "    <tr>\n",
       "      <th>4408</th>\n",
       "      <td>1</td>\n",
       "      <td>3.000000</td>\n",
       "      <td>0</td>\n",
       "      <td>0</td>\n",
       "      <td>1</td>\n",
       "      <td>1.000000</td>\n",
       "      <td>0.909618</td>\n",
       "      <td>1.0</td>\n",
       "      <td>0.0</td>\n",
       "      <td>0.0</td>\n",
       "      <td>...</td>\n",
       "      <td>0.000000</td>\n",
       "      <td>0.0</td>\n",
       "      <td>0.000000</td>\n",
       "      <td>0.0</td>\n",
       "      <td>0.0</td>\n",
       "      <td>0.0</td>\n",
       "      <td>0.0</td>\n",
       "      <td>1.000000</td>\n",
       "      <td>0.0</td>\n",
       "      <td>0.000000</td>\n",
       "    </tr>\n",
       "    <tr>\n",
       "      <th>4409</th>\n",
       "      <td>1</td>\n",
       "      <td>1.000000</td>\n",
       "      <td>0</td>\n",
       "      <td>1</td>\n",
       "      <td>1</td>\n",
       "      <td>2.000000</td>\n",
       "      <td>0.000000</td>\n",
       "      <td>0.0</td>\n",
       "      <td>0.0</td>\n",
       "      <td>1.0</td>\n",
       "      <td>...</td>\n",
       "      <td>0.000000</td>\n",
       "      <td>0.0</td>\n",
       "      <td>0.000000</td>\n",
       "      <td>0.0</td>\n",
       "      <td>0.0</td>\n",
       "      <td>0.0</td>\n",
       "      <td>0.0</td>\n",
       "      <td>0.000000</td>\n",
       "      <td>0.0</td>\n",
       "      <td>1.000000</td>\n",
       "    </tr>\n",
       "    <tr>\n",
       "      <th>4410</th>\n",
       "      <td>1</td>\n",
       "      <td>3.000000</td>\n",
       "      <td>0</td>\n",
       "      <td>0</td>\n",
       "      <td>0</td>\n",
       "      <td>1.000000</td>\n",
       "      <td>2.000000</td>\n",
       "      <td>1.0</td>\n",
       "      <td>0.0</td>\n",
       "      <td>0.0</td>\n",
       "      <td>...</td>\n",
       "      <td>0.000000</td>\n",
       "      <td>0.0</td>\n",
       "      <td>0.520969</td>\n",
       "      <td>0.0</td>\n",
       "      <td>0.0</td>\n",
       "      <td>0.0</td>\n",
       "      <td>0.0</td>\n",
       "      <td>0.479031</td>\n",
       "      <td>0.0</td>\n",
       "      <td>0.000000</td>\n",
       "    </tr>\n",
       "    <tr>\n",
       "      <th>4411</th>\n",
       "      <td>2</td>\n",
       "      <td>1.415855</td>\n",
       "      <td>0</td>\n",
       "      <td>0</td>\n",
       "      <td>1</td>\n",
       "      <td>2.000000</td>\n",
       "      <td>0.415855</td>\n",
       "      <td>0.0</td>\n",
       "      <td>0.0</td>\n",
       "      <td>1.0</td>\n",
       "      <td>...</td>\n",
       "      <td>0.000000</td>\n",
       "      <td>0.0</td>\n",
       "      <td>0.000000</td>\n",
       "      <td>0.0</td>\n",
       "      <td>0.0</td>\n",
       "      <td>0.0</td>\n",
       "      <td>0.0</td>\n",
       "      <td>1.000000</td>\n",
       "      <td>0.0</td>\n",
       "      <td>0.000000</td>\n",
       "    </tr>\n",
       "  </tbody>\n",
       "</table>\n",
       "<p>4412 rows × 24 columns</p>\n",
       "</div>"
      ],
      "text/plain": [
       "      AGE    INCOME  GENDER  HAS_APPLIED_BEFORE  HAS_INCOME_VERIFICATION  \\\n",
       "0       3  4.000000       1                   0                        1   \n",
       "1       1  5.000000       0                   1                        1   \n",
       "2       1  5.000000       0                   0                        1   \n",
       "3       1  1.000000       1                   0                        1   \n",
       "4       3  4.000000       0                   0                        1   \n",
       "...   ...       ...     ...                 ...                      ...   \n",
       "4407    3  4.000000       0                   1                        1   \n",
       "4408    1  3.000000       0                   0                        1   \n",
       "4409    1  1.000000       0                   1                        1   \n",
       "4410    1  3.000000       0                   0                        0   \n",
       "4411    2  1.415855       0                   0                        1   \n",
       "\n",
       "      LOANS_WITHOUT_DELAYS  LOANS_WITH_DELAYS  EDUCATION_Bachelor Degree  \\\n",
       "0                 3.000000           2.000000                        0.0   \n",
       "1                 1.000000           3.000000                        1.0   \n",
       "2                 5.000000           0.000000                        1.0   \n",
       "3                 1.000000           0.000000                        1.0   \n",
       "4                 3.000000           1.000000                        1.0   \n",
       "...                    ...                ...                        ...   \n",
       "4407              1.055647           0.000000                        0.0   \n",
       "4408              1.000000           0.909618                        1.0   \n",
       "4409              2.000000           0.000000                        0.0   \n",
       "4410              1.000000           2.000000                        1.0   \n",
       "4411              2.000000           0.415855                        0.0   \n",
       "\n",
       "      EDUCATION_Diploma  EDUCATION_High School  ...  LOAN_PURPOSE_Credit card  \\\n",
       "0                   0.0                    1.0  ...                  1.000000   \n",
       "1                   0.0                    0.0  ...                  0.000000   \n",
       "2                   0.0                    0.0  ...                  0.000000   \n",
       "3                   0.0                    0.0  ...                  1.000000   \n",
       "4                   0.0                    0.0  ...                  0.000000   \n",
       "...                 ...                    ...  ...                       ...   \n",
       "4407                0.0                    1.0  ...                  0.944353   \n",
       "4408                0.0                    0.0  ...                  0.000000   \n",
       "4409                0.0                    1.0  ...                  0.000000   \n",
       "4410                0.0                    0.0  ...                  0.000000   \n",
       "4411                0.0                    1.0  ...                  0.000000   \n",
       "\n",
       "      LOAN_PURPOSE_Education  LOAN_PURPOSE_Electronic unsecured loan  \\\n",
       "0                        0.0                                0.000000   \n",
       "1                        0.0                                0.000000   \n",
       "2                        0.0                                0.000000   \n",
       "3                        0.0                                0.000000   \n",
       "4                        0.0                                0.000000   \n",
       "...                      ...                                     ...   \n",
       "4407                     0.0                                0.000000   \n",
       "4408                     0.0                                0.000000   \n",
       "4409                     0.0                                0.000000   \n",
       "4410                     0.0                                0.520969   \n",
       "4411                     0.0                                0.000000   \n",
       "\n",
       "      LOAN_PURPOSE_Holiday  LOAN_PURPOSE_Housing loan  \\\n",
       "0                      0.0                        0.0   \n",
       "1                      0.0                        0.0   \n",
       "2                      1.0                        0.0   \n",
       "3                      0.0                        0.0   \n",
       "4                      0.0                        0.0   \n",
       "...                    ...                        ...   \n",
       "4407                   0.0                        0.0   \n",
       "4408                   0.0                        0.0   \n",
       "4409                   0.0                        0.0   \n",
       "4410                   0.0                        0.0   \n",
       "4411                   0.0                        0.0   \n",
       "\n",
       "      LOAN_PURPOSE_Investment  LOAN_PURPOSE_Other  LOAN_PURPOSE_Renovation  \\\n",
       "0                         0.0                 0.0                 0.000000   \n",
       "1                         0.0                 0.0                 0.000000   \n",
       "2                         0.0                 0.0                 0.000000   \n",
       "3                         0.0                 0.0                 0.000000   \n",
       "4                         0.0                 0.0                 0.000000   \n",
       "...                       ...                 ...                      ...   \n",
       "4407                      0.0                 0.0                 0.000000   \n",
       "4408                      0.0                 0.0                 1.000000   \n",
       "4409                      0.0                 0.0                 0.000000   \n",
       "4410                      0.0                 0.0                 0.479031   \n",
       "4411                      0.0                 0.0                 1.000000   \n",
       "\n",
       "      LOAN_PURPOSE_Venture capital  LOAN_PURPOSE_Working Capital  \n",
       "0                              0.0                      0.000000  \n",
       "1                              0.0                      1.000000  \n",
       "2                              0.0                      0.000000  \n",
       "3                              0.0                      0.000000  \n",
       "4                              0.0                      1.000000  \n",
       "...                            ...                           ...  \n",
       "4407                           0.0                      0.055647  \n",
       "4408                           0.0                      0.000000  \n",
       "4409                           0.0                      1.000000  \n",
       "4410                           0.0                      0.000000  \n",
       "4411                           0.0                      0.000000  \n",
       "\n",
       "[4412 rows x 24 columns]"
      ]
     },
     "execution_count": 50,
     "metadata": {},
     "output_type": "execute_result"
    }
   ],
   "source": [
    "from collections import Counter\n",
    "from sklearn.datasets import make_classification\n",
    "from imblearn.over_sampling import SMOTE \n",
    "\n",
    "oversample = SMOTE()\n",
    "X_train_with_bureau, y_train_with_bureau = oversample.fit_resample(X_train_with_bureau, y_train_with_bureau)\n",
    "X_train_with_bureau"
   ]
  },
  {
   "cell_type": "code",
   "execution_count": 51,
   "metadata": {},
   "outputs": [],
   "source": [
    "# Changing everything to float and replacing infinities\n",
    "for c in X_train_with_bureau.columns:\n",
    "  X_train_with_bureau[c] = X_train_with_bureau[c].astype(np.float64)\n",
    "X_train_with_bureau.replace([np.inf, -np.inf], np.nan, inplace=True)"
   ]
  },
  {
   "cell_type": "code",
   "execution_count": 52,
   "metadata": {},
   "outputs": [],
   "source": [
    "# Changing everything to float and replacing infinities\n",
    "for c in X_valid_with_bureau.columns:\n",
    "  X_valid_with_bureau[c] = X_valid_with_bureau[c].astype(np.float64)\n",
    "X_valid_with_bureau.replace([np.inf, -np.inf], np.nan, inplace=True)"
   ]
  },
  {
   "cell_type": "code",
   "execution_count": 53,
   "metadata": {},
   "outputs": [],
   "source": [
    "# Changing everything to float and replacing infinities\n",
    "for c in X_test_with_bureau.columns:\n",
    "  X_test_with_bureau[c] = X_test_with_bureau[c].astype(np.float64)\n",
    "X_test_with_bureau.replace([np.inf, -np.inf], np.nan, inplace=True)"
   ]
  },
  {
   "cell_type": "code",
   "execution_count": 54,
   "metadata": {},
   "outputs": [
    {
     "data": {
      "text/plain": [
       "AGE                                        0\n",
       "INCOME                                     0\n",
       "GENDER                                     0\n",
       "HAS_APPLIED_BEFORE                         0\n",
       "HAS_INCOME_VERIFICATION                    0\n",
       "LOANS_WITHOUT_DELAYS                       0\n",
       "LOANS_WITH_DELAYS                          0\n",
       "EDUCATION_Bachelor Degree                  0\n",
       "EDUCATION_Diploma                          0\n",
       "EDUCATION_High School                      0\n",
       "EDUCATION_Master's Degree/Post graduate    0\n",
       "EDUCATION_Other                            0\n",
       "LOAN_PURPOSE_Bills                         0\n",
       "LOAN_PURPOSE_Car/Motorcycle                0\n",
       "LOAN_PURPOSE_Credit card                   0\n",
       "LOAN_PURPOSE_Education                     0\n",
       "LOAN_PURPOSE_Electronic unsecured loan     0\n",
       "LOAN_PURPOSE_Holiday                       0\n",
       "LOAN_PURPOSE_Housing loan                  0\n",
       "LOAN_PURPOSE_Investment                    0\n",
       "LOAN_PURPOSE_Other                         0\n",
       "LOAN_PURPOSE_Renovation                    0\n",
       "LOAN_PURPOSE_Venture capital               0\n",
       "LOAN_PURPOSE_Working Capital               0\n",
       "dtype: int64"
      ]
     },
     "execution_count": 54,
     "metadata": {},
     "output_type": "execute_result"
    }
   ],
   "source": [
    "X_train_with_bureau.isnull().sum()"
   ]
  },
  {
   "cell_type": "code",
   "execution_count": 55,
   "metadata": {},
   "outputs": [],
   "source": [
    "# Fixing column names that contains [,],or < for XGBoost model\n",
    "import re\n",
    "regex = re.compile(r\"\\[|\\]|<\", re.IGNORECASE)\n",
    "X_train_with_bureau.columns = [regex.sub(\"_\", col) if any(x in str(col) for x in set(('[', ']', '<'))) else col for col in X_train_with_bureau.columns.values]\n",
    "X_valid_with_bureau.columns = [regex.sub(\"_\", col) if any(x in str(col) for x in set(('[', ']', '<'))) else col for col in X_valid_with_bureau.columns.values]\n",
    "X_test_with_bureau.columns = [regex.sub(\"_\", col) if any(x in str(col) for x in set(('[', ']', '<'))) else col for col in X_test_with_bureau.columns.values]"
   ]
  },
  {
   "cell_type": "code",
   "execution_count": 56,
   "metadata": {},
   "outputs": [
    {
     "name": "stdout",
     "output_type": "stream",
     "text": [
      "[00:31:24] WARNING: C:/Users/Administrator/workspace/xgboost-win64_release_1.5.1/src/learner.cc:1115: Starting in XGBoost 1.3.0, the default evaluation metric used with the objective 'binary:logistic' was changed from 'error' to 'logloss'. Explicitly set eval_metric if you'd like to restore the old behavior.\n",
      "Gini Performance Evaluation\n",
      "\n",
      "Logistic Regression Gini : 0.42706674864315475\n",
      "Random Forest Gini       : 0.9776789420430063\n",
      "Decision Tree Gini       : 0.9831663254176157\n",
      "KNN Classifier Gini      : 0.8689794749175783\n",
      "LGBM Gini                : 0.9376841696880427\n",
      "XGBoost Gini             : 0.9483895401069693\n"
     ]
    }
   ],
   "source": [
    "# Check the baseline model\n",
    "def baseline_model(X_train,y_train):\n",
    "  clf_logreg = LogisticRegression().fit(X_train,y_train)\n",
    "  clf_rf = RandomForestClassifier().fit(X_train,y_train)\n",
    "  clf_tree = DecisionTreeClassifier().fit(X_train,y_train)\n",
    "  clf_knn = KNeighborsClassifier().fit(X_train,y_train)\n",
    "  clf_lgbm = LGBMClassifier().fit(X_train,y_train)\n",
    "  clf_xgb = xgb.XGBClassifier().fit(X_train,y_train)\n",
    "\n",
    "  gini_logreg = (2*(roc_auc_score(y_train, clf_logreg.predict_proba(X_train)[:, 1])))-1\n",
    "  gini_rf = (2*(roc_auc_score(y_train, clf_rf.predict_proba(X_train)[:, 1])))-1\n",
    "  gini_tree = (2*(roc_auc_score(y_train, clf_tree.predict_proba(X_train)[:, 1])))-1\n",
    "  gini_knn = (2*(roc_auc_score(y_train, clf_knn.predict_proba(X_train)[:, 1])))-1\n",
    "  gini_lgbm = (2*(roc_auc_score(y_train, clf_lgbm.predict_proba(X_train)[:, 1])))-1\n",
    "  gini_xgb = (2*(roc_auc_score(y_train, clf_xgb.predict_proba(X_train)[:, 1])))-1\n",
    "\n",
    "  print(\"Gini Performance Evaluation\\n\")\n",
    "  print(f\"Logistic Regression Gini : {gini_logreg}\")\n",
    "  print(f\"Random Forest Gini       : {gini_rf}\")\n",
    "  print(f\"Decision Tree Gini       : {gini_tree}\")\n",
    "  print(f\"KNN Classifier Gini      : {gini_knn}\")\n",
    "  print(f\"LGBM Gini                : {gini_lgbm}\")\n",
    "  print(f\"XGBoost Gini             : {gini_xgb}\")\n",
    "\n",
    "  return clf_logreg, clf_rf, clf_tree, clf_knn, clf_lgbm, clf_xgb\n",
    " \n",
    "clf_logreg, clf_rf, clf_tree, clf_knn, clf_lgbm, clf_xgb = baseline_model(X_train_with_bureau,y_train_with_bureau)"
   ]
  },
  {
   "cell_type": "code",
   "execution_count": 57,
   "metadata": {},
   "outputs": [
    {
     "name": "stdout",
     "output_type": "stream",
     "text": [
      "Best Score: 0.8540873707468917\n",
      "Best Hyperparameters: {'min_samples_leaf': 10, 'max_depth': 20, 'criterion': 'entropy'}\n",
      "Wall time: 3.9 s\n"
     ]
    }
   ],
   "source": [
    "%%time\n",
    "# Set baseline model\n",
    "# clf = RandomForestClassifier()\n",
    "# clf = LGBMClassifier()\n",
    "# clf = KNeighborsClassifier()\n",
    "clf = DecisionTreeClassifier()\n",
    "\n",
    "# Define evaluation\n",
    "cv = RepeatedStratifiedKFold(n_splits=5, n_repeats=2, random_state=1)\n",
    "# Define search space\n",
    "space = dict()\n",
    "\n",
    "# space['solver'] = ['newton-cg', 'lbfgs', 'liblinear'] #LGBM\n",
    "# space['penalty'] = ['none', 'l1', 'l2', 'elasticnet'] #LGBM\n",
    "# space['C'] = loguniform(1e-5, 100) # LGBM\n",
    "\n",
    "# max_depth = [int(x) for x in np.linspace(10, 110, num = 11)] #RF\n",
    "# max_depth.append(None) #RF\n",
    "# space['max_depth'] = max_depth # RF\n",
    "# space['min_samples_split'] = [2, 5, 10] # RF\n",
    "# space['min_samples_leaf'] = [1, 2, 4] # RF\n",
    "\n",
    "# space['n_neighbors'] = [1,5,10] #KNN\n",
    "# space['weights'] = ['uniform','distance'] #KNN\n",
    "# space['algorithm'] = ['auto', 'ball_tree', 'kd_tree'] #KNN\n",
    "# space['leaf_size'] = [10,20,30] #KNN\n",
    "# space['p'] = [1,2,3] #KNN\n",
    "\n",
    "space['max_depth'] = [2, 3, 5, 10, 20] #DT\n",
    "space['min_samples_leaf'] = [5, 10, 20, 50, 100] #DT\n",
    "space['criterion'] = [\"gini\", \"entropy\"] #DT\n",
    "\n",
    "# Define search\n",
    "search = RandomizedSearchCV(clf, space, n_iter=15, scoring='roc_auc', n_jobs=30, cv=cv, random_state=1)\n",
    "# Execute search\n",
    "result = search.fit(X_train_with_bureau, y_train_with_bureau)\n",
    "# Summarize result\n",
    "print('Best Score: %s' % result.best_score_)\n",
    "print('Best Hyperparameters: %s' % result.best_params_)"
   ]
  },
  {
   "cell_type": "code",
   "execution_count": 58,
   "metadata": {},
   "outputs": [],
   "source": [
    "# Fitting the model with the best parameters\n",
    "clf_final = DecisionTreeClassifier(min_samples_leaf = 100, max_depth = 10, criterion = 'gini').fit(X_train_with_bureau,y_train_with_bureau)\n",
    "# clf_final = RandomForestClassifier(min_samples_leaf = 1, min_samples_split = 10, max_depth = 10).fit(X_train_res,y_train_res)"
   ]
  },
  {
   "cell_type": "markdown",
   "metadata": {},
   "source": [
    "### Model Evaluation"
   ]
  },
  {
   "cell_type": "code",
   "execution_count": 59,
   "metadata": {},
   "outputs": [],
   "source": [
    "y_pred_train_with_bureau = clf_final.predict(X_train_with_bureau)\n",
    "y_pred_valid_with_bureau = clf_final.predict(X_valid_with_bureau)"
   ]
  },
  {
   "cell_type": "code",
   "execution_count": 60,
   "metadata": {},
   "outputs": [
    {
     "name": "stdout",
     "output_type": "stream",
     "text": [
      "              precision    recall  f1-score   support\n",
      "\n",
      "           0       0.69      0.70      0.69      2206\n",
      "           1       0.69      0.69      0.69      2206\n",
      "\n",
      "    accuracy                           0.69      4412\n",
      "   macro avg       0.69      0.69      0.69      4412\n",
      "weighted avg       0.69      0.69      0.69      4412\n",
      "\n"
     ]
    }
   ],
   "source": [
    "from sklearn.metrics import classification_report\n",
    "\n",
    "print(classification_report(y_train_with_bureau, y_pred_train_with_bureau))"
   ]
  },
  {
   "cell_type": "code",
   "execution_count": 61,
   "metadata": {},
   "outputs": [
    {
     "name": "stdout",
     "output_type": "stream",
     "text": [
      "              precision    recall  f1-score   support\n",
      "\n",
      "           0       0.19      0.45      0.27       160\n",
      "           1       0.88      0.68      0.77       937\n",
      "\n",
      "    accuracy                           0.65      1097\n",
      "   macro avg       0.54      0.56      0.52      1097\n",
      "weighted avg       0.78      0.65      0.69      1097\n",
      "\n"
     ]
    }
   ],
   "source": [
    "print(classification_report(y_valid_with_bureau, y_pred_valid_with_bureau))"
   ]
  },
  {
   "cell_type": "code",
   "execution_count": 62,
   "metadata": {},
   "outputs": [
    {
     "data": {
      "image/png": "[encoded data removed]",
      "text/plain": [
       "<Figure size 576x576 with 2 Axes>"
      ]
     },
     "metadata": {
      "needs_background": "light"
     },
     "output_type": "display_data"
    }
   ],
   "source": [
    "from sklearn import metrics\n",
    "cm = metrics.confusion_matrix(y_train_with_bureau, y_pred_train_with_bureau)\n",
    "plt.figure(figsize=(8,8))\n",
    "sns.heatmap(cm, annot=True, fmt=\".2f\", linewidths=.5, square =True, cmap = 'binary');\n",
    "plt.ylabel('Actual label')\n",
    "plt.xlabel('Predicted label')\n",
    "all_sample_title = 'Confusion Matrix - Train Set'\n",
    "plt.title(all_sample_title, size = 15)\n",
    "plt.show()"
   ]
  },
  {
   "cell_type": "code",
   "execution_count": 63,
   "metadata": {},
   "outputs": [
    {
     "data": {
      "image/png": "[encoded data removed]",
      "text/plain": [
       "<Figure size 576x432 with 2 Axes>"
      ]
     },
     "metadata": {
      "needs_background": "light"
     },
     "output_type": "display_data"
    }
   ],
   "source": [
    "cm = metrics.confusion_matrix(y_valid_with_bureau, y_pred_valid_with_bureau)\n",
    "plt.figure(figsize=(8,6))\n",
    "sns.heatmap(cm, annot=True, fmt=\".2f\", linewidths=.5, square =True, cmap = 'binary');\n",
    "plt.ylabel('Actual label')\n",
    "plt.xlabel('Predicted label')\n",
    "all_sample_title = 'Confusion Matrix - Test Set'\n",
    "plt.title(all_sample_title, size = 15)\n",
    "plt.show()"
   ]
  },
  {
   "cell_type": "code",
   "execution_count": 64,
   "metadata": {},
   "outputs": [
    {
     "name": "stdout",
     "output_type": "stream",
     "text": [
      "Final DecisionTree Gini Score (on Resampled Train Set) : 0.5305262413807557 \n",
      "Final DecisionTree Gini Score (on Valid Set)            : 0.19254268943436514 \n"
     ]
    }
   ],
   "source": [
    "# Gini score\n",
    "print(f\"Final DecisionTree Gini Score (on Resampled Train Set) : {(2*(roc_auc_score(y_train_with_bureau, clf_final.predict_proba(X_train_with_bureau)[:, 1])))-1} \")\n",
    "print(f\"Final DecisionTree Gini Score (on Valid Set)            : {(2*(roc_auc_score(y_valid_with_bureau, clf_final.predict_proba(X_valid_with_bureau)[:, 1])))-1} \")"
   ]
  },
  {
   "cell_type": "markdown",
   "metadata": {},
   "source": [
    "## Without Bureau Data"
   ]
  },
  {
   "cell_type": "markdown",
   "metadata": {},
   "source": [
    "X_train_without_bureauBefore we train we want To tackle the imbalanced data problem"
   ]
  },
  {
   "cell_type": "code",
   "execution_count": 65,
   "metadata": {},
   "outputs": [
    {
     "data": {
      "text/html": [
       "<div>\n",
       "<style scoped>\n",
       "    .dataframe tbody tr th:only-of-type {\n",
       "        vertical-align: middle;\n",
       "    }\n",
       "\n",
       "    .dataframe tbody tr th {\n",
       "        vertical-align: top;\n",
       "    }\n",
       "\n",
       "    .dataframe thead th {\n",
       "        text-align: right;\n",
       "    }\n",
       "</style>\n",
       "<table border=\"1\" class=\"dataframe\">\n",
       "  <thead>\n",
       "    <tr style=\"text-align: right;\">\n",
       "      <th></th>\n",
       "      <th>AGE</th>\n",
       "      <th>INCOME</th>\n",
       "      <th>GENDER</th>\n",
       "      <th>HAS_APPLIED_BEFORE</th>\n",
       "      <th>HAS_INCOME_VERIFICATION</th>\n",
       "      <th>EDUCATION_Bachelor Degree</th>\n",
       "      <th>EDUCATION_Diploma</th>\n",
       "      <th>EDUCATION_High School</th>\n",
       "      <th>EDUCATION_Master's Degree/Post graduate</th>\n",
       "      <th>EDUCATION_Other</th>\n",
       "      <th>...</th>\n",
       "      <th>LOAN_PURPOSE_Credit card</th>\n",
       "      <th>LOAN_PURPOSE_Education</th>\n",
       "      <th>LOAN_PURPOSE_Electronic unsecured loan</th>\n",
       "      <th>LOAN_PURPOSE_Holiday</th>\n",
       "      <th>LOAN_PURPOSE_Housing loan</th>\n",
       "      <th>LOAN_PURPOSE_Investment</th>\n",
       "      <th>LOAN_PURPOSE_Other</th>\n",
       "      <th>LOAN_PURPOSE_Renovation</th>\n",
       "      <th>LOAN_PURPOSE_Venture capital</th>\n",
       "      <th>LOAN_PURPOSE_Working Capital</th>\n",
       "    </tr>\n",
       "  </thead>\n",
       "  <tbody>\n",
       "    <tr>\n",
       "      <th>0</th>\n",
       "      <td>3</td>\n",
       "      <td>4.000000</td>\n",
       "      <td>1</td>\n",
       "      <td>0</td>\n",
       "      <td>1</td>\n",
       "      <td>0.000000</td>\n",
       "      <td>0.0</td>\n",
       "      <td>1.000000</td>\n",
       "      <td>0.000000</td>\n",
       "      <td>0.000000</td>\n",
       "      <td>...</td>\n",
       "      <td>1.0</td>\n",
       "      <td>0.0</td>\n",
       "      <td>0.0</td>\n",
       "      <td>0.0</td>\n",
       "      <td>0.0</td>\n",
       "      <td>0.0</td>\n",
       "      <td>0.0</td>\n",
       "      <td>0.0</td>\n",
       "      <td>0.0</td>\n",
       "      <td>0.0</td>\n",
       "    </tr>\n",
       "    <tr>\n",
       "      <th>1</th>\n",
       "      <td>1</td>\n",
       "      <td>5.000000</td>\n",
       "      <td>0</td>\n",
       "      <td>1</td>\n",
       "      <td>1</td>\n",
       "      <td>1.000000</td>\n",
       "      <td>0.0</td>\n",
       "      <td>0.000000</td>\n",
       "      <td>0.000000</td>\n",
       "      <td>0.000000</td>\n",
       "      <td>...</td>\n",
       "      <td>0.0</td>\n",
       "      <td>0.0</td>\n",
       "      <td>0.0</td>\n",
       "      <td>0.0</td>\n",
       "      <td>0.0</td>\n",
       "      <td>0.0</td>\n",
       "      <td>0.0</td>\n",
       "      <td>0.0</td>\n",
       "      <td>0.0</td>\n",
       "      <td>1.0</td>\n",
       "    </tr>\n",
       "    <tr>\n",
       "      <th>2</th>\n",
       "      <td>1</td>\n",
       "      <td>5.000000</td>\n",
       "      <td>0</td>\n",
       "      <td>0</td>\n",
       "      <td>1</td>\n",
       "      <td>1.000000</td>\n",
       "      <td>0.0</td>\n",
       "      <td>0.000000</td>\n",
       "      <td>0.000000</td>\n",
       "      <td>0.000000</td>\n",
       "      <td>...</td>\n",
       "      <td>0.0</td>\n",
       "      <td>0.0</td>\n",
       "      <td>0.0</td>\n",
       "      <td>1.0</td>\n",
       "      <td>0.0</td>\n",
       "      <td>0.0</td>\n",
       "      <td>0.0</td>\n",
       "      <td>0.0</td>\n",
       "      <td>0.0</td>\n",
       "      <td>0.0</td>\n",
       "    </tr>\n",
       "    <tr>\n",
       "      <th>3</th>\n",
       "      <td>1</td>\n",
       "      <td>1.000000</td>\n",
       "      <td>1</td>\n",
       "      <td>0</td>\n",
       "      <td>1</td>\n",
       "      <td>1.000000</td>\n",
       "      <td>0.0</td>\n",
       "      <td>0.000000</td>\n",
       "      <td>0.000000</td>\n",
       "      <td>0.000000</td>\n",
       "      <td>...</td>\n",
       "      <td>1.0</td>\n",
       "      <td>0.0</td>\n",
       "      <td>0.0</td>\n",
       "      <td>0.0</td>\n",
       "      <td>0.0</td>\n",
       "      <td>0.0</td>\n",
       "      <td>0.0</td>\n",
       "      <td>0.0</td>\n",
       "      <td>0.0</td>\n",
       "      <td>0.0</td>\n",
       "    </tr>\n",
       "    <tr>\n",
       "      <th>4</th>\n",
       "      <td>3</td>\n",
       "      <td>4.000000</td>\n",
       "      <td>0</td>\n",
       "      <td>0</td>\n",
       "      <td>1</td>\n",
       "      <td>1.000000</td>\n",
       "      <td>0.0</td>\n",
       "      <td>0.000000</td>\n",
       "      <td>0.000000</td>\n",
       "      <td>0.000000</td>\n",
       "      <td>...</td>\n",
       "      <td>0.0</td>\n",
       "      <td>0.0</td>\n",
       "      <td>0.0</td>\n",
       "      <td>0.0</td>\n",
       "      <td>0.0</td>\n",
       "      <td>0.0</td>\n",
       "      <td>0.0</td>\n",
       "      <td>0.0</td>\n",
       "      <td>0.0</td>\n",
       "      <td>1.0</td>\n",
       "    </tr>\n",
       "    <tr>\n",
       "      <th>...</th>\n",
       "      <td>...</td>\n",
       "      <td>...</td>\n",
       "      <td>...</td>\n",
       "      <td>...</td>\n",
       "      <td>...</td>\n",
       "      <td>...</td>\n",
       "      <td>...</td>\n",
       "      <td>...</td>\n",
       "      <td>...</td>\n",
       "      <td>...</td>\n",
       "      <td>...</td>\n",
       "      <td>...</td>\n",
       "      <td>...</td>\n",
       "      <td>...</td>\n",
       "      <td>...</td>\n",
       "      <td>...</td>\n",
       "      <td>...</td>\n",
       "      <td>...</td>\n",
       "      <td>...</td>\n",
       "      <td>...</td>\n",
       "      <td>...</td>\n",
       "    </tr>\n",
       "    <tr>\n",
       "      <th>5455</th>\n",
       "      <td>2</td>\n",
       "      <td>0.688844</td>\n",
       "      <td>0</td>\n",
       "      <td>0</td>\n",
       "      <td>1</td>\n",
       "      <td>0.311156</td>\n",
       "      <td>0.0</td>\n",
       "      <td>0.000000</td>\n",
       "      <td>0.688844</td>\n",
       "      <td>0.000000</td>\n",
       "      <td>...</td>\n",
       "      <td>0.0</td>\n",
       "      <td>0.0</td>\n",
       "      <td>0.0</td>\n",
       "      <td>0.0</td>\n",
       "      <td>0.0</td>\n",
       "      <td>1.0</td>\n",
       "      <td>0.0</td>\n",
       "      <td>0.0</td>\n",
       "      <td>0.0</td>\n",
       "      <td>0.0</td>\n",
       "    </tr>\n",
       "    <tr>\n",
       "      <th>5456</th>\n",
       "      <td>1</td>\n",
       "      <td>1.000000</td>\n",
       "      <td>1</td>\n",
       "      <td>0</td>\n",
       "      <td>1</td>\n",
       "      <td>0.000000</td>\n",
       "      <td>0.0</td>\n",
       "      <td>1.000000</td>\n",
       "      <td>0.000000</td>\n",
       "      <td>0.000000</td>\n",
       "      <td>...</td>\n",
       "      <td>0.0</td>\n",
       "      <td>0.0</td>\n",
       "      <td>0.0</td>\n",
       "      <td>0.0</td>\n",
       "      <td>0.0</td>\n",
       "      <td>0.0</td>\n",
       "      <td>0.0</td>\n",
       "      <td>1.0</td>\n",
       "      <td>0.0</td>\n",
       "      <td>0.0</td>\n",
       "    </tr>\n",
       "    <tr>\n",
       "      <th>5457</th>\n",
       "      <td>1</td>\n",
       "      <td>0.000000</td>\n",
       "      <td>0</td>\n",
       "      <td>1</td>\n",
       "      <td>1</td>\n",
       "      <td>0.000000</td>\n",
       "      <td>0.0</td>\n",
       "      <td>0.767213</td>\n",
       "      <td>0.000000</td>\n",
       "      <td>0.232787</td>\n",
       "      <td>...</td>\n",
       "      <td>0.0</td>\n",
       "      <td>0.0</td>\n",
       "      <td>0.0</td>\n",
       "      <td>0.0</td>\n",
       "      <td>0.0</td>\n",
       "      <td>0.0</td>\n",
       "      <td>0.0</td>\n",
       "      <td>0.0</td>\n",
       "      <td>0.0</td>\n",
       "      <td>1.0</td>\n",
       "    </tr>\n",
       "    <tr>\n",
       "      <th>5458</th>\n",
       "      <td>1</td>\n",
       "      <td>4.000000</td>\n",
       "      <td>0</td>\n",
       "      <td>1</td>\n",
       "      <td>1</td>\n",
       "      <td>0.000000</td>\n",
       "      <td>1.0</td>\n",
       "      <td>0.000000</td>\n",
       "      <td>0.000000</td>\n",
       "      <td>0.000000</td>\n",
       "      <td>...</td>\n",
       "      <td>0.0</td>\n",
       "      <td>0.0</td>\n",
       "      <td>0.0</td>\n",
       "      <td>0.0</td>\n",
       "      <td>0.0</td>\n",
       "      <td>0.0</td>\n",
       "      <td>0.0</td>\n",
       "      <td>1.0</td>\n",
       "      <td>0.0</td>\n",
       "      <td>0.0</td>\n",
       "    </tr>\n",
       "    <tr>\n",
       "      <th>5459</th>\n",
       "      <td>2</td>\n",
       "      <td>2.376120</td>\n",
       "      <td>0</td>\n",
       "      <td>0</td>\n",
       "      <td>1</td>\n",
       "      <td>0.000000</td>\n",
       "      <td>1.0</td>\n",
       "      <td>0.000000</td>\n",
       "      <td>0.000000</td>\n",
       "      <td>0.000000</td>\n",
       "      <td>...</td>\n",
       "      <td>1.0</td>\n",
       "      <td>0.0</td>\n",
       "      <td>0.0</td>\n",
       "      <td>0.0</td>\n",
       "      <td>0.0</td>\n",
       "      <td>0.0</td>\n",
       "      <td>0.0</td>\n",
       "      <td>0.0</td>\n",
       "      <td>0.0</td>\n",
       "      <td>0.0</td>\n",
       "    </tr>\n",
       "  </tbody>\n",
       "</table>\n",
       "<p>5460 rows × 22 columns</p>\n",
       "</div>"
      ],
      "text/plain": [
       "      AGE    INCOME  GENDER  HAS_APPLIED_BEFORE  HAS_INCOME_VERIFICATION  \\\n",
       "0       3  4.000000       1                   0                        1   \n",
       "1       1  5.000000       0                   1                        1   \n",
       "2       1  5.000000       0                   0                        1   \n",
       "3       1  1.000000       1                   0                        1   \n",
       "4       3  4.000000       0                   0                        1   \n",
       "...   ...       ...     ...                 ...                      ...   \n",
       "5455    2  0.688844       0                   0                        1   \n",
       "5456    1  1.000000       1                   0                        1   \n",
       "5457    1  0.000000       0                   1                        1   \n",
       "5458    1  4.000000       0                   1                        1   \n",
       "5459    2  2.376120       0                   0                        1   \n",
       "\n",
       "      EDUCATION_Bachelor Degree  EDUCATION_Diploma  EDUCATION_High School  \\\n",
       "0                      0.000000                0.0               1.000000   \n",
       "1                      1.000000                0.0               0.000000   \n",
       "2                      1.000000                0.0               0.000000   \n",
       "3                      1.000000                0.0               0.000000   \n",
       "4                      1.000000                0.0               0.000000   \n",
       "...                         ...                ...                    ...   \n",
       "5455                   0.311156                0.0               0.000000   \n",
       "5456                   0.000000                0.0               1.000000   \n",
       "5457                   0.000000                0.0               0.767213   \n",
       "5458                   0.000000                1.0               0.000000   \n",
       "5459                   0.000000                1.0               0.000000   \n",
       "\n",
       "      EDUCATION_Master's Degree/Post graduate  EDUCATION_Other  ...  \\\n",
       "0                                    0.000000         0.000000  ...   \n",
       "1                                    0.000000         0.000000  ...   \n",
       "2                                    0.000000         0.000000  ...   \n",
       "3                                    0.000000         0.000000  ...   \n",
       "4                                    0.000000         0.000000  ...   \n",
       "...                                       ...              ...  ...   \n",
       "5455                                 0.688844         0.000000  ...   \n",
       "5456                                 0.000000         0.000000  ...   \n",
       "5457                                 0.000000         0.232787  ...   \n",
       "5458                                 0.000000         0.000000  ...   \n",
       "5459                                 0.000000         0.000000  ...   \n",
       "\n",
       "      LOAN_PURPOSE_Credit card  LOAN_PURPOSE_Education  \\\n",
       "0                          1.0                     0.0   \n",
       "1                          0.0                     0.0   \n",
       "2                          0.0                     0.0   \n",
       "3                          1.0                     0.0   \n",
       "4                          0.0                     0.0   \n",
       "...                        ...                     ...   \n",
       "5455                       0.0                     0.0   \n",
       "5456                       0.0                     0.0   \n",
       "5457                       0.0                     0.0   \n",
       "5458                       0.0                     0.0   \n",
       "5459                       1.0                     0.0   \n",
       "\n",
       "      LOAN_PURPOSE_Electronic unsecured loan  LOAN_PURPOSE_Holiday  \\\n",
       "0                                        0.0                   0.0   \n",
       "1                                        0.0                   0.0   \n",
       "2                                        0.0                   1.0   \n",
       "3                                        0.0                   0.0   \n",
       "4                                        0.0                   0.0   \n",
       "...                                      ...                   ...   \n",
       "5455                                     0.0                   0.0   \n",
       "5456                                     0.0                   0.0   \n",
       "5457                                     0.0                   0.0   \n",
       "5458                                     0.0                   0.0   \n",
       "5459                                     0.0                   0.0   \n",
       "\n",
       "      LOAN_PURPOSE_Housing loan  LOAN_PURPOSE_Investment  LOAN_PURPOSE_Other  \\\n",
       "0                           0.0                      0.0                 0.0   \n",
       "1                           0.0                      0.0                 0.0   \n",
       "2                           0.0                      0.0                 0.0   \n",
       "3                           0.0                      0.0                 0.0   \n",
       "4                           0.0                      0.0                 0.0   \n",
       "...                         ...                      ...                 ...   \n",
       "5455                        0.0                      1.0                 0.0   \n",
       "5456                        0.0                      0.0                 0.0   \n",
       "5457                        0.0                      0.0                 0.0   \n",
       "5458                        0.0                      0.0                 0.0   \n",
       "5459                        0.0                      0.0                 0.0   \n",
       "\n",
       "      LOAN_PURPOSE_Renovation  LOAN_PURPOSE_Venture capital  \\\n",
       "0                         0.0                           0.0   \n",
       "1                         0.0                           0.0   \n",
       "2                         0.0                           0.0   \n",
       "3                         0.0                           0.0   \n",
       "4                         0.0                           0.0   \n",
       "...                       ...                           ...   \n",
       "5455                      0.0                           0.0   \n",
       "5456                      1.0                           0.0   \n",
       "5457                      0.0                           0.0   \n",
       "5458                      1.0                           0.0   \n",
       "5459                      0.0                           0.0   \n",
       "\n",
       "      LOAN_PURPOSE_Working Capital  \n",
       "0                              0.0  \n",
       "1                              1.0  \n",
       "2                              0.0  \n",
       "3                              0.0  \n",
       "4                              1.0  \n",
       "...                            ...  \n",
       "5455                           0.0  \n",
       "5456                           0.0  \n",
       "5457                           1.0  \n",
       "5458                           0.0  \n",
       "5459                           0.0  \n",
       "\n",
       "[5460 rows x 22 columns]"
      ]
     },
     "execution_count": 65,
     "metadata": {},
     "output_type": "execute_result"
    }
   ],
   "source": [
    "from collections import Counter\n",
    "from sklearn.datasets import make_classification\n",
    "from imblearn.over_sampling import SMOTE \n",
    "\n",
    "oversample = SMOTE()\n",
    "X_train_without_bureau, y_train_without_bureau = oversample.fit_resample(X_train_without_bureau, y_train_without_bureau)\n",
    "X_train_without_bureau"
   ]
  },
  {
   "cell_type": "code",
   "execution_count": 66,
   "metadata": {},
   "outputs": [],
   "source": [
    "# Changing everything to float and replacing infinities\n",
    "for c in X_train_without_bureau.columns:\n",
    "  X_train_without_bureau[c] = X_train_without_bureau[c].astype(np.float64)\n",
    "X_train_without_bureau.replace([np.inf, -np.inf], np.nan, inplace=True)"
   ]
  },
  {
   "cell_type": "code",
   "execution_count": 67,
   "metadata": {},
   "outputs": [],
   "source": [
    "# Changing everything to float and replacing infinities\n",
    "for c in X_valid_without_bureau.columns:\n",
    "  X_valid_without_bureau[c] = X_valid_without_bureau[c].astype(np.float64)\n",
    "X_valid_without_bureau.replace([np.inf, -np.inf], np.nan, inplace=True)"
   ]
  },
  {
   "cell_type": "code",
   "execution_count": 68,
   "metadata": {},
   "outputs": [],
   "source": [
    "# Changing everything to float and replacing infinities\n",
    "for c in X_test_without_bureau.columns:\n",
    "  X_test_without_bureau[c] = X_test_without_bureau[c].astype(np.float64)\n",
    "X_test_without_bureau.replace([np.inf, -np.inf], np.nan, inplace=True)"
   ]
  },
  {
   "cell_type": "code",
   "execution_count": 69,
   "metadata": {},
   "outputs": [
    {
     "name": "stdout",
     "output_type": "stream",
     "text": [
      "22\n",
      "22\n",
      "22\n"
     ]
    }
   ],
   "source": [
    "print(X_train_without_bureau.shape[1])\n",
    "print(X_valid_without_bureau.shape[1])\n",
    "print(X_test_without_bureau.shape[1])"
   ]
  },
  {
   "cell_type": "code",
   "execution_count": 70,
   "metadata": {},
   "outputs": [
    {
     "data": {
      "text/plain": [
       "AGE                                        0\n",
       "INCOME                                     0\n",
       "GENDER                                     0\n",
       "HAS_APPLIED_BEFORE                         0\n",
       "HAS_INCOME_VERIFICATION                    0\n",
       "EDUCATION_Bachelor Degree                  0\n",
       "EDUCATION_Diploma                          0\n",
       "EDUCATION_High School                      0\n",
       "EDUCATION_Master's Degree/Post graduate    0\n",
       "EDUCATION_Other                            0\n",
       "LOAN_PURPOSE_Bills                         0\n",
       "LOAN_PURPOSE_Car/Motorcycle                0\n",
       "LOAN_PURPOSE_Credit card                   0\n",
       "LOAN_PURPOSE_Education                     0\n",
       "LOAN_PURPOSE_Electronic unsecured loan     0\n",
       "LOAN_PURPOSE_Holiday                       0\n",
       "LOAN_PURPOSE_Housing loan                  0\n",
       "LOAN_PURPOSE_Investment                    0\n",
       "LOAN_PURPOSE_Other                         0\n",
       "LOAN_PURPOSE_Renovation                    0\n",
       "LOAN_PURPOSE_Venture capital               0\n",
       "LOAN_PURPOSE_Working Capital               0\n",
       "dtype: int64"
      ]
     },
     "execution_count": 70,
     "metadata": {},
     "output_type": "execute_result"
    }
   ],
   "source": [
    "X_train_without_bureau.isnull().sum()"
   ]
  },
  {
   "cell_type": "code",
   "execution_count": 71,
   "metadata": {},
   "outputs": [],
   "source": [
    "# Fixing column names that contains [,],or < for XGBoost model\n",
    "import re\n",
    "regex = re.compile(r\"\\[|\\]|<\", re.IGNORECASE)\n",
    "X_train_without_bureau.columns = [regex.sub(\"_\", col) if any(x in str(col) for x in set(('[', ']', '<'))) else col for col in X_train_without_bureau.columns.values]\n",
    "X_valid_without_bureau.columns = [regex.sub(\"_\", col) if any(x in str(col) for x in set(('[', ']', '<'))) else col for col in X_valid_without_bureau.columns.values]\n",
    "X_test_without_bureau.columns = [regex.sub(\"_\", col) if any(x in str(col) for x in set(('[', ']', '<'))) else col for col in X_test_without_bureau.columns.values]"
   ]
  },
  {
   "cell_type": "code",
   "execution_count": 72,
   "metadata": {},
   "outputs": [
    {
     "name": "stdout",
     "output_type": "stream",
     "text": [
      "[00:31:30] WARNING: C:/Users/Administrator/workspace/xgboost-win64_release_1.5.1/src/learner.cc:1115: Starting in XGBoost 1.3.0, the default evaluation metric used with the objective 'binary:logistic' was changed from 'error' to 'logloss'. Explicitly set eval_metric if you'd like to restore the old behavior.\n",
      "Gini Performance Evaluation\n",
      "\n",
      "Logistic Regression Gini : 0.3668967784352397\n",
      "Random Forest Gini       : 0.8720744944920769\n",
      "Decision Tree Gini       : 0.8778781413946248\n",
      "KNN Classifier Gini      : 0.7306390800896296\n",
      "LGBM Gini                : 0.8242943015470487\n",
      "XGBoost Gini             : 0.8319938547411074\n"
     ]
    }
   ],
   "source": [
    "# Check the baseline model\n",
    "def baseline_model(X_train,y_train):\n",
    "  clf_logreg = LogisticRegression().fit(X_train,y_train)\n",
    "  clf_rf = RandomForestClassifier().fit(X_train,y_train)\n",
    "  clf_tree = DecisionTreeClassifier().fit(X_train,y_train)\n",
    "  clf_knn = KNeighborsClassifier().fit(X_train,y_train)\n",
    "  clf_lgbm = LGBMClassifier().fit(X_train,y_train)\n",
    "  clf_xgb = xgb.XGBClassifier().fit(X_train,y_train)\n",
    "\n",
    "  gini_logreg = (2*(roc_auc_score(y_train, clf_logreg.predict_proba(X_train)[:, 1])))-1\n",
    "  gini_rf = (2*(roc_auc_score(y_train, clf_rf.predict_proba(X_train)[:, 1])))-1\n",
    "  gini_tree = (2*(roc_auc_score(y_train, clf_tree.predict_proba(X_train)[:, 1])))-1\n",
    "  gini_knn = (2*(roc_auc_score(y_train, clf_knn.predict_proba(X_train)[:, 1])))-1\n",
    "  gini_lgbm = (2*(roc_auc_score(y_train, clf_lgbm.predict_proba(X_train)[:, 1])))-1\n",
    "  gini_xgb = (2*(roc_auc_score(y_train, clf_xgb.predict_proba(X_train)[:, 1])))-1\n",
    "\n",
    "  print(\"Gini Performance Evaluation\\n\")\n",
    "  print(f\"Logistic Regression Gini : {gini_logreg}\")\n",
    "  print(f\"Random Forest Gini       : {gini_rf}\")\n",
    "  print(f\"Decision Tree Gini       : {gini_tree}\")\n",
    "  print(f\"KNN Classifier Gini      : {gini_knn}\")\n",
    "  print(f\"LGBM Gini                : {gini_lgbm}\")\n",
    "  print(f\"XGBoost Gini             : {gini_xgb}\")\n",
    "\n",
    "  return clf_logreg, clf_rf, clf_tree, clf_knn, clf_lgbm, clf_xgb\n",
    " \n",
    "clf_logreg, clf_rf, clf_tree, clf_knn, clf_lgbm, clf_xgb = baseline_model(X_train_without_bureau,y_train_without_bureau)"
   ]
  },
  {
   "cell_type": "markdown",
   "metadata": {},
   "source": [
    "We will be using Decision Tree since it has the highest gini score."
   ]
  },
  {
   "cell_type": "code",
   "execution_count": 73,
   "metadata": {},
   "outputs": [
    {
     "name": "stdout",
     "output_type": "stream",
     "text": [
      "Best Score: 0.7983269935193011\n",
      "Best Hyperparameters: {'min_samples_leaf': 10, 'max_depth': 20, 'criterion': 'gini'}\n",
      "Wall time: 826 ms\n"
     ]
    }
   ],
   "source": [
    "%%time\n",
    "# Set baseline model\n",
    "# clf = RandomForestClassifier()\n",
    "# clf = LGBMClassifier()\n",
    "# clf = KNeighborsClassifier()\n",
    "clf = DecisionTreeClassifier()\n",
    "\n",
    "# Define evaluation\n",
    "cv = RepeatedStratifiedKFold(n_splits=5, n_repeats=2, random_state=1)\n",
    "# Define search space\n",
    "space = dict()\n",
    "\n",
    "# space['solver'] = ['newton-cg', 'lbfgs', 'liblinear'] #LGBM\n",
    "# space['penalty'] = ['none', 'l1', 'l2', 'elasticnet'] #LGBM\n",
    "# space['C'] = loguniform(1e-5, 100) # LGBM\n",
    "\n",
    "# max_depth = [int(x) for x in np.linspace(10, 110, num = 11)] #RF\n",
    "# max_depth.append(None) #RF\n",
    "# space['max_depth'] = max_depth # RF\n",
    "# space['min_samples_split'] = [2, 5, 10] # RF\n",
    "# space['min_samples_leaf'] = [1, 2, 4] # RF\n",
    "\n",
    "# space['n_neighbors'] = [1,5,10] #KNN\n",
    "# space['weights'] = ['uniform','distance'] #KNN\n",
    "# space['algorithm'] = ['auto', 'ball_tree', 'kd_tree'] #KNN\n",
    "# space['leaf_size'] = [10,20,30] #KNN\n",
    "# space['p'] = [1,2,3] #KNN\n",
    "\n",
    "space['max_depth'] = [2, 3, 5, 10, 20] #DT\n",
    "space['min_samples_leaf'] = [5, 10, 20, 50, 100] #DT\n",
    "space['criterion'] = [\"gini\", \"entropy\"] #DT\n",
    "\n",
    "# Define search\n",
    "search = RandomizedSearchCV(clf, space, n_iter=15, scoring='roc_auc', n_jobs=30, cv=cv, random_state=1)\n",
    "# Execute search\n",
    "result = search.fit(X_train_without_bureau, y_train_without_bureau)\n",
    "# Summarize result\n",
    "print('Best Score: %s' % result.best_score_)\n",
    "print('Best Hyperparameters: %s' % result.best_params_)"
   ]
  },
  {
   "cell_type": "code",
   "execution_count": 74,
   "metadata": {},
   "outputs": [],
   "source": [
    "# Fitting the model with the best parameters\n",
    "clf_final = DecisionTreeClassifier(min_samples_leaf = 100, max_depth = 10, criterion = 'gini').fit(X_train_without_bureau,y_train_without_bureau)\n",
    "# clf_final = RandomForestClassifier(min_samples_leaf = 1, min_samples_split = 10, max_depth = 10).fit(X_train_res,y_train_res)"
   ]
  },
  {
   "cell_type": "markdown",
   "metadata": {},
   "source": [
    "### Model Evaluation"
   ]
  },
  {
   "cell_type": "code",
   "execution_count": 75,
   "metadata": {},
   "outputs": [],
   "source": [
    "y_pred_train_without_bureau = clf_final.predict(X_train_without_bureau)\n",
    "y_pred_valid_without_bureau = clf_final.predict(X_valid_without_bureau)"
   ]
  },
  {
   "cell_type": "code",
   "execution_count": 76,
   "metadata": {},
   "outputs": [
    {
     "name": "stdout",
     "output_type": "stream",
     "text": [
      "              precision    recall  f1-score   support\n",
      "\n",
      "           0       0.66      0.70      0.68      2730\n",
      "           1       0.68      0.64      0.66      2730\n",
      "\n",
      "    accuracy                           0.67      5460\n",
      "   macro avg       0.67      0.67      0.67      5460\n",
      "weighted avg       0.67      0.67      0.67      5460\n",
      "\n"
     ]
    }
   ],
   "source": [
    "from sklearn.metrics import classification_report\n",
    "\n",
    "print(classification_report(y_train_without_bureau, y_pred_train_without_bureau))"
   ]
  },
  {
   "cell_type": "code",
   "execution_count": 77,
   "metadata": {},
   "outputs": [
    {
     "name": "stdout",
     "output_type": "stream",
     "text": [
      "              precision    recall  f1-score   support\n",
      "\n",
      "           0       0.18      0.50      0.26       201\n",
      "           1       0.88      0.60      0.72      1170\n",
      "\n",
      "    accuracy                           0.59      1371\n",
      "   macro avg       0.53      0.55      0.49      1371\n",
      "weighted avg       0.77      0.59      0.65      1371\n",
      "\n"
     ]
    }
   ],
   "source": [
    "print(classification_report(y_valid_without_bureau, y_pred_valid_without_bureau))"
   ]
  },
  {
   "cell_type": "code",
   "execution_count": 78,
   "metadata": {},
   "outputs": [
    {
     "data": {
      "image/png": "[encoded data removed]",
      "text/plain": [
       "<Figure size 432x288 with 1 Axes>"
      ]
     },
     "metadata": {
      "needs_background": "light"
     },
     "output_type": "display_data"
    }
   ],
   "source": [
    "from sklearn.metrics import plot_roc_curve\n",
    "plot_roc_curve(clf_final,X_valid_without_bureau,y_valid_without_bureau)\n",
    "plt.show()"
   ]
  },
  {
   "cell_type": "code",
   "execution_count": 79,
   "metadata": {},
   "outputs": [
    {
     "data": {
      "image/png": "[encoded data removed]",
      "text/plain": [
       "<Figure size 576x576 with 2 Axes>"
      ]
     },
     "metadata": {
      "needs_background": "light"
     },
     "output_type": "display_data"
    }
   ],
   "source": [
    "from sklearn import metrics\n",
    "cm = metrics.confusion_matrix(y_train_without_bureau, y_pred_train_without_bureau)\n",
    "plt.figure(figsize=(8,8))\n",
    "sns.heatmap(cm, annot=True, fmt=\".2f\", linewidths=.5, square =True, cmap = 'binary');\n",
    "plt.ylabel('Actual label')\n",
    "plt.xlabel('Predicted label')\n",
    "all_sample_title = 'Confusion Matrix - Train Set'\n",
    "plt.title(all_sample_title, size = 15)\n",
    "plt.show()"
   ]
  },
  {
   "cell_type": "code",
   "execution_count": 80,
   "metadata": {},
   "outputs": [
    {
     "data": {
      "image/png": "[encoded data removed]",
      "text/plain": [
       "<Figure size 576x432 with 2 Axes>"
      ]
     },
     "metadata": {
      "needs_background": "light"
     },
     "output_type": "display_data"
    }
   ],
   "source": [
    "cm = metrics.confusion_matrix(y_valid_without_bureau, y_pred_valid_without_bureau)\n",
    "plt.figure(figsize=(8,6))\n",
    "sns.heatmap(cm, annot=True, fmt=\".2f\", linewidths=.5, square =True, cmap = 'binary');\n",
    "plt.ylabel('Actual label')\n",
    "plt.xlabel('Predicted label')\n",
    "all_sample_title = 'Confusion Matrix - Test Set'\n",
    "plt.title(all_sample_title, size = 15)\n",
    "plt.show()"
   ]
  },
  {
   "cell_type": "code",
   "execution_count": 81,
   "metadata": {},
   "outputs": [
    {
     "name": "stdout",
     "output_type": "stream",
     "text": [
      "Final DecisionTree Gini Score (on Resampled Train Set) : 0.4537205651491365 \n",
      "Final DecisionTree Gini Score (on Valid Set)            : 0.1616277586426842 \n"
     ]
    }
   ],
   "source": [
    "# Gini score\n",
    "print(f\"Final DecisionTree Gini Score (on Resampled Train Set) : {(2*(roc_auc_score(y_train_without_bureau, clf_final.predict_proba(X_train_without_bureau)[:, 1])))-1} \")\n",
    "print(f\"Final DecisionTree Gini Score (on Valid Set)            : {(2*(roc_auc_score(y_valid_without_bureau, clf_final.predict_proba(X_valid_without_bureau)[:, 1])))-1} \")"
   ]
  },
  {
   "cell_type": "code",
   "execution_count": 82,
   "metadata": {},
   "outputs": [
    {
     "name": "stdout",
     "output_type": "stream",
     "text": [
      "              precision    recall  f1-score   support\n",
      "\n",
      "           0       0.18      0.50      0.26       201\n",
      "           1       0.88      0.60      0.72      1170\n",
      "\n",
      "    accuracy                           0.59      1371\n",
      "   macro avg       0.53      0.55      0.49      1371\n",
      "weighted avg       0.77      0.59      0.65      1371\n",
      "\n"
     ]
    }
   ],
   "source": [
    "y_pred_test_without_bureau = clf_final.predict(X_test_without_bureau)\n",
    "print(classification_report(y_test_without_bureau, y_pred_test_without_bureau))"
   ]
  },
  {
   "cell_type": "code",
   "execution_count": 83,
   "metadata": {},
   "outputs": [
    {
     "name": "stdout",
     "output_type": "stream",
     "text": [
      "Final DecisionTree Gini Score (on test Set)            : 0.1616277586426842 \n"
     ]
    }
   ],
   "source": [
    "print(f\"Final DecisionTree Gini Score (on test Set)            : {(2*(roc_auc_score(y_test_without_bureau, clf_final.predict_proba(X_test_without_bureau)[:, 1])))-1} \")"
   ]
  },
  {
   "cell_type": "markdown",
   "metadata": {},
   "source": [
    "# Percobaan"
   ]
  },
  {
   "cell_type": "code",
   "execution_count": 84,
   "metadata": {},
   "outputs": [
    {
     "data": {
      "text/html": [
       "<div>\n",
       "<style scoped>\n",
       "    .dataframe tbody tr th:only-of-type {\n",
       "        vertical-align: middle;\n",
       "    }\n",
       "\n",
       "    .dataframe tbody tr th {\n",
       "        vertical-align: top;\n",
       "    }\n",
       "\n",
       "    .dataframe thead th {\n",
       "        text-align: right;\n",
       "    }\n",
       "</style>\n",
       "<table border=\"1\" class=\"dataframe\">\n",
       "  <thead>\n",
       "    <tr style=\"text-align: right;\">\n",
       "      <th></th>\n",
       "      <th>customer_id</th>\n",
       "      <th>AGE</th>\n",
       "      <th>INCOME</th>\n",
       "      <th>GENDER</th>\n",
       "      <th>EDUCATION</th>\n",
       "      <th>LOAN_PURPOSE</th>\n",
       "      <th>APPLICATION_RECEIVE_TIME</th>\n",
       "      <th>HAS_APPLIED_BEFORE</th>\n",
       "      <th>HAS_INCOME_VERIFICATION</th>\n",
       "      <th>LOAN_WAS_PAID_BACK</th>\n",
       "      <th>LOANS_WITHOUT_DELAYS</th>\n",
       "      <th>LOANS_WITH_DELAYS</th>\n",
       "      <th>KNOWN_ASSETS</th>\n",
       "      <th>Score</th>\n",
       "    </tr>\n",
       "  </thead>\n",
       "  <tbody>\n",
       "    <tr>\n",
       "      <th>0</th>\n",
       "      <td>36493</td>\n",
       "      <td>40</td>\n",
       "      <td>10000000.0</td>\n",
       "      <td>Female</td>\n",
       "      <td>Diploma</td>\n",
       "      <td>Working Capital</td>\n",
       "      <td>09:07:00</td>\n",
       "      <td>No</td>\n",
       "      <td>Yes</td>\n",
       "      <td>1</td>\n",
       "      <td>3.0</td>\n",
       "      <td>3.0</td>\n",
       "      <td>40000000.0</td>\n",
       "      <td>0.77</td>\n",
       "    </tr>\n",
       "    <tr>\n",
       "      <th>1</th>\n",
       "      <td>36494</td>\n",
       "      <td>39</td>\n",
       "      <td>15000000.0</td>\n",
       "      <td>Female</td>\n",
       "      <td>Bachelor Degree</td>\n",
       "      <td>Other</td>\n",
       "      <td>15:15:00</td>\n",
       "      <td>No</td>\n",
       "      <td>Yes</td>\n",
       "      <td>1</td>\n",
       "      <td>3.0</td>\n",
       "      <td>0.0</td>\n",
       "      <td>20000000.0</td>\n",
       "      <td>0.93</td>\n",
       "    </tr>\n",
       "    <tr>\n",
       "      <th>2</th>\n",
       "      <td>36495</td>\n",
       "      <td>28</td>\n",
       "      <td>15000000.0</td>\n",
       "      <td>Male</td>\n",
       "      <td>Bachelor Degree</td>\n",
       "      <td>Renovation</td>\n",
       "      <td>07:13:00</td>\n",
       "      <td>No</td>\n",
       "      <td>Yes</td>\n",
       "      <td>1</td>\n",
       "      <td>NaN</td>\n",
       "      <td>NaN</td>\n",
       "      <td>NaN</td>\n",
       "      <td>NaN</td>\n",
       "    </tr>\n",
       "    <tr>\n",
       "      <th>3</th>\n",
       "      <td>36496</td>\n",
       "      <td>28</td>\n",
       "      <td>4000000.0</td>\n",
       "      <td>Male</td>\n",
       "      <td>Bachelor Degree</td>\n",
       "      <td>Renovation</td>\n",
       "      <td>12:05:00</td>\n",
       "      <td>Yes</td>\n",
       "      <td>Yes</td>\n",
       "      <td>1</td>\n",
       "      <td>2.0</td>\n",
       "      <td>1.0</td>\n",
       "      <td>0.0</td>\n",
       "      <td>0.78</td>\n",
       "    </tr>\n",
       "    <tr>\n",
       "      <th>4</th>\n",
       "      <td>36497</td>\n",
       "      <td>38</td>\n",
       "      <td>10000000.0</td>\n",
       "      <td>Male</td>\n",
       "      <td>Diploma</td>\n",
       "      <td>Renovation</td>\n",
       "      <td>14:35:00</td>\n",
       "      <td>Yes</td>\n",
       "      <td>Yes</td>\n",
       "      <td>0</td>\n",
       "      <td>1.0</td>\n",
       "      <td>0.0</td>\n",
       "      <td>40000000.0</td>\n",
       "      <td>0.81</td>\n",
       "    </tr>\n",
       "  </tbody>\n",
       "</table>\n",
       "</div>"
      ],
      "text/plain": [
       "   customer_id  AGE      INCOME  GENDER        EDUCATION     LOAN_PURPOSE  \\\n",
       "0        36493   40  10000000.0  Female          Diploma  Working Capital   \n",
       "1        36494   39  15000000.0  Female  Bachelor Degree            Other   \n",
       "2        36495   28  15000000.0    Male  Bachelor Degree       Renovation   \n",
       "3        36496   28   4000000.0    Male  Bachelor Degree       Renovation   \n",
       "4        36497   38  10000000.0    Male          Diploma       Renovation   \n",
       "\n",
       "  APPLICATION_RECEIVE_TIME HAS_APPLIED_BEFORE HAS_INCOME_VERIFICATION  \\\n",
       "0                 09:07:00                 No                     Yes   \n",
       "1                 15:15:00                 No                     Yes   \n",
       "2                 07:13:00                 No                     Yes   \n",
       "3                 12:05:00                Yes                     Yes   \n",
       "4                 14:35:00                Yes                     Yes   \n",
       "\n",
       "   LOAN_WAS_PAID_BACK  LOANS_WITHOUT_DELAYS  LOANS_WITH_DELAYS  KNOWN_ASSETS  \\\n",
       "0                   1                   3.0                3.0    40000000.0   \n",
       "1                   1                   3.0                0.0    20000000.0   \n",
       "2                   1                   NaN                NaN           NaN   \n",
       "3                   1                   2.0                1.0           0.0   \n",
       "4                   0                   1.0                0.0    40000000.0   \n",
       "\n",
       "   Score  \n",
       "0   0.77  \n",
       "1   0.93  \n",
       "2    NaN  \n",
       "3   0.78  \n",
       "4   0.81  "
      ]
     },
     "execution_count": 84,
     "metadata": {},
     "output_type": "execute_result"
    }
   ],
   "source": [
    "# merge master and bureau and external data\n",
    "df_coba = pd.merge(master, bureau, on='customer_id', how='left')\n",
    "df_coba = pd.merge(df_coba, external, on='customer_id', how='left')\n",
    "df_coba.head()"
   ]
  },
  {
   "cell_type": "code",
   "execution_count": 85,
   "metadata": {},
   "outputs": [],
   "source": [
    "#compile all engineering\n",
    "def feature_engineering_coba(df):\n",
    "    TARGET = \"LOAN_WAS_PAID_BACK\"\n",
    "    #drop some features\n",
    "    df = df.drop([\"customer_id\", \"APPLICATION_RECEIVE_TIME\", \"KNOWN_ASSETS\", \"Score\"], axis=1)\n",
    "    #dropna for Income and Loan Purpose\n",
    "    df = df.dropna(subset = ['INCOME', 'LOAN_PURPOSE'])\n",
    "    \n",
    "    #binning\n",
    "    binning_features(df)\n",
    "    \n",
    "    #converting categorical Features\n",
    "    df['GENDER'] = df['GENDER'].map( {'Male': 1, 'Female': 0} ).astype(int)\n",
    "    df['HAS_APPLIED_BEFORE'] = df['HAS_APPLIED_BEFORE'].map( {'Yes': 1, 'No': 0} ).astype(int)\n",
    "    df['HAS_INCOME_VERIFICATION'] = df['HAS_INCOME_VERIFICATION'].map( {'Yes': 1, 'No': 0} ).astype(int)\n",
    "    \n",
    "    #one hot encoding\n",
    "    df_num = df.drop(['EDUCATION','LOAN_PURPOSE'], axis=1)\n",
    "    df_hot = one_hot_encoder(df[['EDUCATION','LOAN_PURPOSE']])\n",
    "    df_ready = df_num.join(df_hot)\n",
    "    \n",
    "    #split data with or without bureau data\n",
    "    df_with_bureau = df_ready.dropna(subset = ['LOANS_WITHOUT_DELAYS', 'LOANS_WITH_DELAYS'])\n",
    "    df_without_bureau = df_ready[df_ready['LOANS_WITH_DELAYS'].isna() == True]\n",
    "    df_without_bureau = df_ready.drop(columns=[ \"LOANS_WITHOUT_DELAYS\", \"LOANS_WITH_DELAYS\"])\n",
    "    return df_with_bureau,df_without_bureau"
   ]
  },
  {
   "cell_type": "code",
   "execution_count": 86,
   "metadata": {},
   "outputs": [],
   "source": [
    "df_with_bureau_coba,df_without_bureau_coba = feature_engineering_coba(df_coba)"
   ]
  },
  {
   "cell_type": "code",
   "execution_count": 87,
   "metadata": {},
   "outputs": [
    {
     "data": {
      "text/html": [
       "<div>\n",
       "<style scoped>\n",
       "    .dataframe tbody tr th:only-of-type {\n",
       "        vertical-align: middle;\n",
       "    }\n",
       "\n",
       "    .dataframe tbody tr th {\n",
       "        vertical-align: top;\n",
       "    }\n",
       "\n",
       "    .dataframe thead th {\n",
       "        text-align: right;\n",
       "    }\n",
       "</style>\n",
       "<table border=\"1\" class=\"dataframe\">\n",
       "  <thead>\n",
       "    <tr style=\"text-align: right;\">\n",
       "      <th></th>\n",
       "      <th>AGE</th>\n",
       "      <th>INCOME</th>\n",
       "      <th>GENDER</th>\n",
       "      <th>HAS_APPLIED_BEFORE</th>\n",
       "      <th>HAS_INCOME_VERIFICATION</th>\n",
       "      <th>LOAN_WAS_PAID_BACK</th>\n",
       "      <th>LOANS_WITHOUT_DELAYS</th>\n",
       "      <th>LOANS_WITH_DELAYS</th>\n",
       "      <th>EDUCATION_Bachelor Degree</th>\n",
       "      <th>EDUCATION_Diploma</th>\n",
       "      <th>...</th>\n",
       "      <th>LOAN_PURPOSE_Credit card</th>\n",
       "      <th>LOAN_PURPOSE_Education</th>\n",
       "      <th>LOAN_PURPOSE_Electronic unsecured loan</th>\n",
       "      <th>LOAN_PURPOSE_Holiday</th>\n",
       "      <th>LOAN_PURPOSE_Housing loan</th>\n",
       "      <th>LOAN_PURPOSE_Investment</th>\n",
       "      <th>LOAN_PURPOSE_Other</th>\n",
       "      <th>LOAN_PURPOSE_Renovation</th>\n",
       "      <th>LOAN_PURPOSE_Venture capital</th>\n",
       "      <th>LOAN_PURPOSE_Working Capital</th>\n",
       "    </tr>\n",
       "  </thead>\n",
       "  <tbody>\n",
       "    <tr>\n",
       "      <th>0</th>\n",
       "      <td>2</td>\n",
       "      <td>4.0</td>\n",
       "      <td>0</td>\n",
       "      <td>0</td>\n",
       "      <td>1</td>\n",
       "      <td>1</td>\n",
       "      <td>3.0</td>\n",
       "      <td>3.0</td>\n",
       "      <td>0.0</td>\n",
       "      <td>1.0</td>\n",
       "      <td>...</td>\n",
       "      <td>0.0</td>\n",
       "      <td>0.0</td>\n",
       "      <td>0.0</td>\n",
       "      <td>0.0</td>\n",
       "      <td>0.0</td>\n",
       "      <td>0.0</td>\n",
       "      <td>0.0</td>\n",
       "      <td>0.0</td>\n",
       "      <td>0.0</td>\n",
       "      <td>1.0</td>\n",
       "    </tr>\n",
       "    <tr>\n",
       "      <th>1</th>\n",
       "      <td>2</td>\n",
       "      <td>5.0</td>\n",
       "      <td>0</td>\n",
       "      <td>0</td>\n",
       "      <td>1</td>\n",
       "      <td>1</td>\n",
       "      <td>3.0</td>\n",
       "      <td>0.0</td>\n",
       "      <td>1.0</td>\n",
       "      <td>0.0</td>\n",
       "      <td>...</td>\n",
       "      <td>0.0</td>\n",
       "      <td>0.0</td>\n",
       "      <td>0.0</td>\n",
       "      <td>0.0</td>\n",
       "      <td>0.0</td>\n",
       "      <td>0.0</td>\n",
       "      <td>1.0</td>\n",
       "      <td>0.0</td>\n",
       "      <td>0.0</td>\n",
       "      <td>0.0</td>\n",
       "    </tr>\n",
       "    <tr>\n",
       "      <th>3</th>\n",
       "      <td>1</td>\n",
       "      <td>0.0</td>\n",
       "      <td>1</td>\n",
       "      <td>1</td>\n",
       "      <td>1</td>\n",
       "      <td>1</td>\n",
       "      <td>2.0</td>\n",
       "      <td>1.0</td>\n",
       "      <td>1.0</td>\n",
       "      <td>0.0</td>\n",
       "      <td>...</td>\n",
       "      <td>0.0</td>\n",
       "      <td>0.0</td>\n",
       "      <td>0.0</td>\n",
       "      <td>0.0</td>\n",
       "      <td>0.0</td>\n",
       "      <td>0.0</td>\n",
       "      <td>0.0</td>\n",
       "      <td>1.0</td>\n",
       "      <td>0.0</td>\n",
       "      <td>0.0</td>\n",
       "    </tr>\n",
       "    <tr>\n",
       "      <th>4</th>\n",
       "      <td>2</td>\n",
       "      <td>4.0</td>\n",
       "      <td>1</td>\n",
       "      <td>1</td>\n",
       "      <td>1</td>\n",
       "      <td>0</td>\n",
       "      <td>1.0</td>\n",
       "      <td>0.0</td>\n",
       "      <td>0.0</td>\n",
       "      <td>1.0</td>\n",
       "      <td>...</td>\n",
       "      <td>0.0</td>\n",
       "      <td>0.0</td>\n",
       "      <td>0.0</td>\n",
       "      <td>0.0</td>\n",
       "      <td>0.0</td>\n",
       "      <td>0.0</td>\n",
       "      <td>0.0</td>\n",
       "      <td>1.0</td>\n",
       "      <td>0.0</td>\n",
       "      <td>0.0</td>\n",
       "    </tr>\n",
       "    <tr>\n",
       "      <th>5</th>\n",
       "      <td>3</td>\n",
       "      <td>3.0</td>\n",
       "      <td>0</td>\n",
       "      <td>0</td>\n",
       "      <td>1</td>\n",
       "      <td>1</td>\n",
       "      <td>7.0</td>\n",
       "      <td>0.0</td>\n",
       "      <td>0.0</td>\n",
       "      <td>0.0</td>\n",
       "      <td>...</td>\n",
       "      <td>0.0</td>\n",
       "      <td>0.0</td>\n",
       "      <td>0.0</td>\n",
       "      <td>0.0</td>\n",
       "      <td>0.0</td>\n",
       "      <td>0.0</td>\n",
       "      <td>0.0</td>\n",
       "      <td>1.0</td>\n",
       "      <td>0.0</td>\n",
       "      <td>0.0</td>\n",
       "    </tr>\n",
       "    <tr>\n",
       "      <th>...</th>\n",
       "      <td>...</td>\n",
       "      <td>...</td>\n",
       "      <td>...</td>\n",
       "      <td>...</td>\n",
       "      <td>...</td>\n",
       "      <td>...</td>\n",
       "      <td>...</td>\n",
       "      <td>...</td>\n",
       "      <td>...</td>\n",
       "      <td>...</td>\n",
       "      <td>...</td>\n",
       "      <td>...</td>\n",
       "      <td>...</td>\n",
       "      <td>...</td>\n",
       "      <td>...</td>\n",
       "      <td>...</td>\n",
       "      <td>...</td>\n",
       "      <td>...</td>\n",
       "      <td>...</td>\n",
       "      <td>...</td>\n",
       "      <td>...</td>\n",
       "    </tr>\n",
       "    <tr>\n",
       "      <th>6581</th>\n",
       "      <td>3</td>\n",
       "      <td>3.0</td>\n",
       "      <td>0</td>\n",
       "      <td>0</td>\n",
       "      <td>1</td>\n",
       "      <td>0</td>\n",
       "      <td>1.0</td>\n",
       "      <td>0.0</td>\n",
       "      <td>1.0</td>\n",
       "      <td>0.0</td>\n",
       "      <td>...</td>\n",
       "      <td>0.0</td>\n",
       "      <td>0.0</td>\n",
       "      <td>0.0</td>\n",
       "      <td>0.0</td>\n",
       "      <td>0.0</td>\n",
       "      <td>0.0</td>\n",
       "      <td>0.0</td>\n",
       "      <td>0.0</td>\n",
       "      <td>0.0</td>\n",
       "      <td>1.0</td>\n",
       "    </tr>\n",
       "    <tr>\n",
       "      <th>6582</th>\n",
       "      <td>1</td>\n",
       "      <td>4.0</td>\n",
       "      <td>0</td>\n",
       "      <td>0</td>\n",
       "      <td>1</td>\n",
       "      <td>1</td>\n",
       "      <td>1.0</td>\n",
       "      <td>0.0</td>\n",
       "      <td>1.0</td>\n",
       "      <td>0.0</td>\n",
       "      <td>...</td>\n",
       "      <td>1.0</td>\n",
       "      <td>0.0</td>\n",
       "      <td>0.0</td>\n",
       "      <td>0.0</td>\n",
       "      <td>0.0</td>\n",
       "      <td>0.0</td>\n",
       "      <td>0.0</td>\n",
       "      <td>0.0</td>\n",
       "      <td>0.0</td>\n",
       "      <td>0.0</td>\n",
       "    </tr>\n",
       "    <tr>\n",
       "      <th>6584</th>\n",
       "      <td>2</td>\n",
       "      <td>5.0</td>\n",
       "      <td>0</td>\n",
       "      <td>0</td>\n",
       "      <td>1</td>\n",
       "      <td>1</td>\n",
       "      <td>1.0</td>\n",
       "      <td>0.0</td>\n",
       "      <td>1.0</td>\n",
       "      <td>0.0</td>\n",
       "      <td>...</td>\n",
       "      <td>0.0</td>\n",
       "      <td>1.0</td>\n",
       "      <td>0.0</td>\n",
       "      <td>0.0</td>\n",
       "      <td>0.0</td>\n",
       "      <td>0.0</td>\n",
       "      <td>0.0</td>\n",
       "      <td>0.0</td>\n",
       "      <td>0.0</td>\n",
       "      <td>0.0</td>\n",
       "    </tr>\n",
       "    <tr>\n",
       "      <th>6585</th>\n",
       "      <td>4</td>\n",
       "      <td>5.0</td>\n",
       "      <td>0</td>\n",
       "      <td>0</td>\n",
       "      <td>1</td>\n",
       "      <td>1</td>\n",
       "      <td>1.0</td>\n",
       "      <td>0.0</td>\n",
       "      <td>0.0</td>\n",
       "      <td>0.0</td>\n",
       "      <td>...</td>\n",
       "      <td>0.0</td>\n",
       "      <td>0.0</td>\n",
       "      <td>0.0</td>\n",
       "      <td>0.0</td>\n",
       "      <td>0.0</td>\n",
       "      <td>0.0</td>\n",
       "      <td>0.0</td>\n",
       "      <td>1.0</td>\n",
       "      <td>0.0</td>\n",
       "      <td>0.0</td>\n",
       "    </tr>\n",
       "    <tr>\n",
       "      <th>6586</th>\n",
       "      <td>2</td>\n",
       "      <td>1.0</td>\n",
       "      <td>1</td>\n",
       "      <td>0</td>\n",
       "      <td>1</td>\n",
       "      <td>1</td>\n",
       "      <td>1.0</td>\n",
       "      <td>0.0</td>\n",
       "      <td>1.0</td>\n",
       "      <td>0.0</td>\n",
       "      <td>...</td>\n",
       "      <td>0.0</td>\n",
       "      <td>0.0</td>\n",
       "      <td>0.0</td>\n",
       "      <td>0.0</td>\n",
       "      <td>0.0</td>\n",
       "      <td>0.0</td>\n",
       "      <td>1.0</td>\n",
       "      <td>0.0</td>\n",
       "      <td>0.0</td>\n",
       "      <td>0.0</td>\n",
       "    </tr>\n",
       "  </tbody>\n",
       "</table>\n",
       "<p>5229 rows × 25 columns</p>\n",
       "</div>"
      ],
      "text/plain": [
       "      AGE  INCOME  GENDER  HAS_APPLIED_BEFORE  HAS_INCOME_VERIFICATION  \\\n",
       "0       2     4.0       0                   0                        1   \n",
       "1       2     5.0       0                   0                        1   \n",
       "3       1     0.0       1                   1                        1   \n",
       "4       2     4.0       1                   1                        1   \n",
       "5       3     3.0       0                   0                        1   \n",
       "...   ...     ...     ...                 ...                      ...   \n",
       "6581    3     3.0       0                   0                        1   \n",
       "6582    1     4.0       0                   0                        1   \n",
       "6584    2     5.0       0                   0                        1   \n",
       "6585    4     5.0       0                   0                        1   \n",
       "6586    2     1.0       1                   0                        1   \n",
       "\n",
       "      LOAN_WAS_PAID_BACK  LOANS_WITHOUT_DELAYS  LOANS_WITH_DELAYS  \\\n",
       "0                      1                   3.0                3.0   \n",
       "1                      1                   3.0                0.0   \n",
       "3                      1                   2.0                1.0   \n",
       "4                      0                   1.0                0.0   \n",
       "5                      1                   7.0                0.0   \n",
       "...                  ...                   ...                ...   \n",
       "6581                   0                   1.0                0.0   \n",
       "6582                   1                   1.0                0.0   \n",
       "6584                   1                   1.0                0.0   \n",
       "6585                   1                   1.0                0.0   \n",
       "6586                   1                   1.0                0.0   \n",
       "\n",
       "      EDUCATION_Bachelor Degree  EDUCATION_Diploma  ...  \\\n",
       "0                           0.0                1.0  ...   \n",
       "1                           1.0                0.0  ...   \n",
       "3                           1.0                0.0  ...   \n",
       "4                           0.0                1.0  ...   \n",
       "5                           0.0                0.0  ...   \n",
       "...                         ...                ...  ...   \n",
       "6581                        1.0                0.0  ...   \n",
       "6582                        1.0                0.0  ...   \n",
       "6584                        1.0                0.0  ...   \n",
       "6585                        0.0                0.0  ...   \n",
       "6586                        1.0                0.0  ...   \n",
       "\n",
       "      LOAN_PURPOSE_Credit card  LOAN_PURPOSE_Education  \\\n",
       "0                          0.0                     0.0   \n",
       "1                          0.0                     0.0   \n",
       "3                          0.0                     0.0   \n",
       "4                          0.0                     0.0   \n",
       "5                          0.0                     0.0   \n",
       "...                        ...                     ...   \n",
       "6581                       0.0                     0.0   \n",
       "6582                       1.0                     0.0   \n",
       "6584                       0.0                     1.0   \n",
       "6585                       0.0                     0.0   \n",
       "6586                       0.0                     0.0   \n",
       "\n",
       "      LOAN_PURPOSE_Electronic unsecured loan  LOAN_PURPOSE_Holiday  \\\n",
       "0                                        0.0                   0.0   \n",
       "1                                        0.0                   0.0   \n",
       "3                                        0.0                   0.0   \n",
       "4                                        0.0                   0.0   \n",
       "5                                        0.0                   0.0   \n",
       "...                                      ...                   ...   \n",
       "6581                                     0.0                   0.0   \n",
       "6582                                     0.0                   0.0   \n",
       "6584                                     0.0                   0.0   \n",
       "6585                                     0.0                   0.0   \n",
       "6586                                     0.0                   0.0   \n",
       "\n",
       "      LOAN_PURPOSE_Housing loan  LOAN_PURPOSE_Investment  LOAN_PURPOSE_Other  \\\n",
       "0                           0.0                      0.0                 0.0   \n",
       "1                           0.0                      0.0                 1.0   \n",
       "3                           0.0                      0.0                 0.0   \n",
       "4                           0.0                      0.0                 0.0   \n",
       "5                           0.0                      0.0                 0.0   \n",
       "...                         ...                      ...                 ...   \n",
       "6581                        0.0                      0.0                 0.0   \n",
       "6582                        0.0                      0.0                 0.0   \n",
       "6584                        0.0                      0.0                 0.0   \n",
       "6585                        0.0                      0.0                 0.0   \n",
       "6586                        0.0                      0.0                 1.0   \n",
       "\n",
       "      LOAN_PURPOSE_Renovation  LOAN_PURPOSE_Venture capital  \\\n",
       "0                         0.0                           0.0   \n",
       "1                         0.0                           0.0   \n",
       "3                         1.0                           0.0   \n",
       "4                         1.0                           0.0   \n",
       "5                         1.0                           0.0   \n",
       "...                       ...                           ...   \n",
       "6581                      0.0                           0.0   \n",
       "6582                      0.0                           0.0   \n",
       "6584                      0.0                           0.0   \n",
       "6585                      1.0                           0.0   \n",
       "6586                      0.0                           0.0   \n",
       "\n",
       "      LOAN_PURPOSE_Working Capital  \n",
       "0                              1.0  \n",
       "1                              0.0  \n",
       "3                              0.0  \n",
       "4                              0.0  \n",
       "5                              0.0  \n",
       "...                            ...  \n",
       "6581                           1.0  \n",
       "6582                           0.0  \n",
       "6584                           0.0  \n",
       "6585                           0.0  \n",
       "6586                           0.0  \n",
       "\n",
       "[5229 rows x 25 columns]"
      ]
     },
     "execution_count": 87,
     "metadata": {},
     "output_type": "execute_result"
    }
   ],
   "source": [
    "df_with_bureau_coba"
   ]
  },
  {
   "cell_type": "markdown",
   "metadata": {},
   "source": [
    "## with bureau"
   ]
  },
  {
   "cell_type": "code",
   "execution_count": 88,
   "metadata": {},
   "outputs": [],
   "source": [
    "df_with_bureau_coba_1 = df_with_bureau_coba[df_with_bureau_coba['LOAN_WAS_PAID_BACK'] == 1]\n",
    "df_with_bureau_coba_0 = df_with_bureau_coba[df_with_bureau_coba['LOAN_WAS_PAID_BACK'] == 0].reset_index(drop=True)\n"
   ]
  },
  {
   "cell_type": "code",
   "execution_count": 89,
   "metadata": {},
   "outputs": [
    {
     "data": {
      "text/plain": [
       "(4470, 25)"
      ]
     },
     "execution_count": 89,
     "metadata": {},
     "output_type": "execute_result"
    }
   ],
   "source": [
    "df_with_bureau_coba_1.shape"
   ]
  },
  {
   "cell_type": "code",
   "execution_count": 90,
   "metadata": {},
   "outputs": [
    {
     "data": {
      "text/plain": [
       "(759, 25)"
      ]
     },
     "execution_count": 90,
     "metadata": {},
     "output_type": "execute_result"
    }
   ],
   "source": [
    "df_with_bureau_coba_0.shape"
   ]
  },
  {
   "cell_type": "code",
   "execution_count": 91,
   "metadata": {},
   "outputs": [],
   "source": [
    "df_with_bureau_coba_1 = df_with_bureau_coba_1.sample(n=759, replace=True, random_state=1).reset_index(drop=True)"
   ]
  },
  {
   "cell_type": "code",
   "execution_count": 92,
   "metadata": {},
   "outputs": [],
   "source": [
    "from sklearn.utils import shuffle\n",
    "df_with_bureau_coba = df_with_bureau_coba_1.append(df_with_bureau_coba_0,\n",
    "                                                  ignore_index=True)\n",
    "df_with_bureau_coba = shuffle(df_with_bureau_coba).reset_index(drop=True)"
   ]
  },
  {
   "cell_type": "code",
   "execution_count": 93,
   "metadata": {},
   "outputs": [],
   "source": [
    "TARGET = \"LOAN_WAS_PAID_BACK\"\n",
    "TEST_SIZE = 0.3\n",
    "X_with_bureau_coba = df_with_bureau_coba.drop([TARGET],\n",
    "                                              axis=1)\n",
    "y_with_bureau_coba = df_with_bureau_coba[TARGET]"
   ]
  },
  {
   "cell_type": "code",
   "execution_count": 94,
   "metadata": {},
   "outputs": [],
   "source": [
    "X_train, X_test, y_train, y_test = train_test_split(X_with_bureau_coba,\n",
    "                                                    y_with_bureau_coba,\n",
    "                                                    test_size=TEST_SIZE,\n",
    "                                                    random_state=123,\n",
    "                                                    stratify=y_with_bureau_coba)"
   ]
  },
  {
   "cell_type": "markdown",
   "metadata": {},
   "source": [
    "### modeling coba"
   ]
  },
  {
   "cell_type": "code",
   "execution_count": 95,
   "metadata": {},
   "outputs": [],
   "source": [
    "# Changing everything to float and replacing infinities\n",
    "for c in X_train.columns:\n",
    "  X_train[c] = X_train[c].astype(np.float64)\n",
    "X_train.replace([np.inf, -np.inf], np.nan, inplace=True)"
   ]
  },
  {
   "cell_type": "code",
   "execution_count": 96,
   "metadata": {},
   "outputs": [
    {
     "data": {
      "text/plain": [
       "AGE                                        0\n",
       "INCOME                                     0\n",
       "GENDER                                     0\n",
       "HAS_APPLIED_BEFORE                         0\n",
       "HAS_INCOME_VERIFICATION                    0\n",
       "LOANS_WITHOUT_DELAYS                       0\n",
       "LOANS_WITH_DELAYS                          0\n",
       "EDUCATION_Bachelor Degree                  0\n",
       "EDUCATION_Diploma                          0\n",
       "EDUCATION_High School                      0\n",
       "EDUCATION_Master's Degree/Post graduate    0\n",
       "EDUCATION_Other                            0\n",
       "LOAN_PURPOSE_Bills                         0\n",
       "LOAN_PURPOSE_Car/Motorcycle                0\n",
       "LOAN_PURPOSE_Credit card                   0\n",
       "LOAN_PURPOSE_Education                     0\n",
       "LOAN_PURPOSE_Electronic unsecured loan     0\n",
       "LOAN_PURPOSE_Holiday                       0\n",
       "LOAN_PURPOSE_Housing loan                  0\n",
       "LOAN_PURPOSE_Investment                    0\n",
       "LOAN_PURPOSE_Other                         0\n",
       "LOAN_PURPOSE_Renovation                    0\n",
       "LOAN_PURPOSE_Venture capital               0\n",
       "LOAN_PURPOSE_Working Capital               0\n",
       "dtype: int64"
      ]
     },
     "execution_count": 96,
     "metadata": {},
     "output_type": "execute_result"
    }
   ],
   "source": [
    "X_train.isna().sum()"
   ]
  },
  {
   "cell_type": "code",
   "execution_count": 97,
   "metadata": {},
   "outputs": [],
   "source": [
    "# Fixing column names that contains [,],or < for XGBoost model\n",
    "import re\n",
    "regex = re.compile(r\"\\[|\\]|<\", re.IGNORECASE)\n",
    "X_train.columns = [regex.sub(\"_\", col) if any(x in str(col) for x in set(('[', ']', '<'))) else col for col in X_train.columns.values]\n",
    "X_test.columns = [regex.sub(\"_\", col) if any(x in str(col) for x in set(('[', ']', '<'))) else col for col in X_test.columns.values]"
   ]
  },
  {
   "cell_type": "code",
   "execution_count": 98,
   "metadata": {},
   "outputs": [
    {
     "name": "stdout",
     "output_type": "stream",
     "text": [
      "[00:31:32] WARNING: C:/Users/Administrator/workspace/xgboost-win64_release_1.5.1/src/learner.cc:1115: Starting in XGBoost 1.3.0, the default evaluation metric used with the objective 'binary:logistic' was changed from 'error' to 'logloss'. Explicitly set eval_metric if you'd like to restore the old behavior.\n",
      "Gini Performance Evaluation\n",
      "\n",
      "Logistic Regression Gini : 0.3332943208457908\n",
      "Random Forest Gini       : 0.9636580945591766\n",
      "Decision Tree Gini       : 0.9704108014938235\n",
      "KNN Classifier Gini      : 0.5713024141636609\n",
      "LGBM Gini                : 0.8132259425948978\n",
      "XGBoost Gini             : 0.8861934806586729\n"
     ]
    }
   ],
   "source": [
    "# Check the baseline model\n",
    "def baseline_model(X_train,y_train):\n",
    "  clf_logreg = LogisticRegression().fit(X_train,y_train)\n",
    "  clf_rf = RandomForestClassifier().fit(X_train,y_train)\n",
    "  clf_tree = DecisionTreeClassifier().fit(X_train,y_train)\n",
    "  clf_knn = KNeighborsClassifier().fit(X_train,y_train)\n",
    "  clf_lgbm = LGBMClassifier().fit(X_train,y_train)\n",
    "  clf_xgb = xgb.XGBClassifier().fit(X_train,y_train)\n",
    "\n",
    "  gini_logreg = (2*(roc_auc_score(y_train, clf_logreg.predict_proba(X_train)[:, 1])))-1\n",
    "  gini_rf = (2*(roc_auc_score(y_train, clf_rf.predict_proba(X_train)[:, 1])))-1\n",
    "  gini_tree = (2*(roc_auc_score(y_train, clf_tree.predict_proba(X_train)[:, 1])))-1\n",
    "  gini_knn = (2*(roc_auc_score(y_train, clf_knn.predict_proba(X_train)[:, 1])))-1\n",
    "  gini_lgbm = (2*(roc_auc_score(y_train, clf_lgbm.predict_proba(X_train)[:, 1])))-1\n",
    "  gini_xgb = (2*(roc_auc_score(y_train, clf_xgb.predict_proba(X_train)[:, 1])))-1\n",
    "\n",
    "  print(\"Gini Performance Evaluation\\n\")\n",
    "  print(f\"Logistic Regression Gini : {gini_logreg}\")\n",
    "  print(f\"Random Forest Gini       : {gini_rf}\")\n",
    "  print(f\"Decision Tree Gini       : {gini_tree}\")\n",
    "  print(f\"KNN Classifier Gini      : {gini_knn}\")\n",
    "  print(f\"LGBM Gini                : {gini_lgbm}\")\n",
    "  print(f\"XGBoost Gini             : {gini_xgb}\")\n",
    "\n",
    "  return clf_logreg, clf_rf, clf_tree, clf_knn, clf_lgbm, clf_xgb\n",
    " \n",
    "clf_logreg, clf_rf, clf_tree, clf_knn, clf_lgbm, clf_xgb = baseline_model(X_train,y_train)"
   ]
  },
  {
   "cell_type": "code",
   "execution_count": 99,
   "metadata": {},
   "outputs": [
    {
     "name": "stdout",
     "output_type": "stream",
     "text": [
      "Best Score: 0.6019723818300989\n",
      "Best Hyperparameters: {'min_samples_leaf': 50, 'max_depth': 5, 'criterion': 'entropy'}\n",
      "Wall time: 258 ms\n"
     ]
    }
   ],
   "source": [
    "%%time\n",
    "# Set baseline model\n",
    "# clf = RandomForestClassifier()\n",
    "# clf = LGBMClassifier()\n",
    "# clf = KNeighborsClassifier()\n",
    "clf = DecisionTreeClassifier()\n",
    "\n",
    "# Define evaluation\n",
    "cv = RepeatedStratifiedKFold(n_splits=5, n_repeats=2, random_state=1)\n",
    "# Define search space\n",
    "space = dict()\n",
    "\n",
    "# space['solver'] = ['newton-cg', 'lbfgs', 'liblinear'] #LGBM\n",
    "# space['penalty'] = ['none', 'l1', 'l2', 'elasticnet'] #LGBM\n",
    "# space['C'] = loguniform(1e-5, 100) # LGBM\n",
    "\n",
    "# max_depth = [int(x) for x in np.linspace(10, 110, num = 11)] #RF\n",
    "# max_depth.append(None) #RF\n",
    "# space['max_depth'] = max_depth # RF\n",
    "# space['min_samples_split'] = [2, 5, 10] # RF\n",
    "# space['min_samples_leaf'] = [1, 2, 4] # RF\n",
    "\n",
    "# space['n_neighbors'] = [1,5,10] #KNN\n",
    "# space['weights'] = ['uniform','distance'] #KNN\n",
    "# space['algorithm'] = ['auto', 'ball_tree', 'kd_tree'] #KNN\n",
    "# space['leaf_size'] = [10,20,30] #KNN\n",
    "# space['p'] = [1,2,3] #KNN\n",
    "\n",
    "space['max_depth'] = [2, 3, 5, 10, 20] #DT\n",
    "space['min_samples_leaf'] = [5, 10, 20, 50, 100] #DT\n",
    "space['criterion'] = [\"gini\", \"entropy\"] #DT\n",
    "\n",
    "# Define search\n",
    "search = RandomizedSearchCV(clf, space, n_iter=15, scoring='roc_auc', n_jobs=30, cv=cv, random_state=1)\n",
    "# Execute search\n",
    "result = search.fit(X_train, y_train)\n",
    "# Summarize result\n",
    "print('Best Score: %s' % result.best_score_)\n",
    "print('Best Hyperparameters: %s' % result.best_params_)"
   ]
  },
  {
   "cell_type": "code",
   "execution_count": 100,
   "metadata": {},
   "outputs": [],
   "source": [
    "# Fitting the model with the best parameters\n",
    "clf_final = DecisionTreeClassifier(min_samples_leaf = 100, max_depth = 10, criterion = 'gini').fit(X_train,y_train)\n",
    "# clf_final = RandomForestClassifier(min_samples_leaf = 1, min_samples_split = 10, max_depth = 10).fit(X_train_res,y_train_res)"
   ]
  },
  {
   "cell_type": "code",
   "execution_count": 101,
   "metadata": {},
   "outputs": [],
   "source": [
    "# Changing everything to float and replacing infinities\n",
    "for c in X_test.columns:\n",
    "  X_test[c] = X_test[c].astype(np.float64)\n",
    "X_test.replace([np.inf, -np.inf], np.nan, inplace=True)"
   ]
  },
  {
   "cell_type": "code",
   "execution_count": 102,
   "metadata": {},
   "outputs": [],
   "source": [
    "y_pred_train = clf_final.predict(X_train)\n",
    "y_pred_test = clf_final.predict(X_test)"
   ]
  },
  {
   "cell_type": "code",
   "execution_count": 103,
   "metadata": {},
   "outputs": [
    {
     "name": "stdout",
     "output_type": "stream",
     "text": [
      "              precision    recall  f1-score   support\n",
      "\n",
      "           0       0.58      0.75      0.65       531\n",
      "           1       0.65      0.47      0.54       531\n",
      "\n",
      "    accuracy                           0.61      1062\n",
      "   macro avg       0.61      0.61      0.60      1062\n",
      "weighted avg       0.61      0.61      0.60      1062\n",
      "\n"
     ]
    }
   ],
   "source": [
    "from sklearn.metrics import classification_report\n",
    "\n",
    "print(classification_report(y_train, y_pred_train))"
   ]
  },
  {
   "cell_type": "code",
   "execution_count": 104,
   "metadata": {},
   "outputs": [
    {
     "name": "stdout",
     "output_type": "stream",
     "text": [
      "              precision    recall  f1-score   support\n",
      "\n",
      "           0       0.58      0.76      0.66       228\n",
      "           1       0.65      0.44      0.53       228\n",
      "\n",
      "    accuracy                           0.60       456\n",
      "   macro avg       0.61      0.60      0.59       456\n",
      "weighted avg       0.61      0.60      0.59       456\n",
      "\n"
     ]
    }
   ],
   "source": [
    "print(classification_report(y_test, y_pred_test))"
   ]
  },
  {
   "cell_type": "code",
   "execution_count": 105,
   "metadata": {},
   "outputs": [
    {
     "name": "stdout",
     "output_type": "stream",
     "text": [
      "Final DecisionTree Gini Score (on Train Set) : 0.27047002954309285 \n",
      "Final DecisionTree Gini Score (on Test Set)  : 0.2385156971375808 \n"
     ]
    }
   ],
   "source": [
    "# Gini score\n",
    "print(f\"Final DecisionTree Gini Score (on Train Set) : {(2*(roc_auc_score(y_train, clf_final.predict_proba(X_train)[:, 1])))-1} \")\n",
    "print(f\"Final DecisionTree Gini Score (on Test Set)  : {(2*(roc_auc_score(y_test, clf_final.predict_proba(X_test)[:, 1])))-1} \")"
   ]
  },
  {
   "cell_type": "markdown",
   "metadata": {},
   "source": [
    "## without bureau"
   ]
  },
  {
   "cell_type": "code",
   "execution_count": 106,
   "metadata": {},
   "outputs": [
    {
     "data": {
      "text/html": [
       "<div>\n",
       "<style scoped>\n",
       "    .dataframe tbody tr th:only-of-type {\n",
       "        vertical-align: middle;\n",
       "    }\n",
       "\n",
       "    .dataframe tbody tr th {\n",
       "        vertical-align: top;\n",
       "    }\n",
       "\n",
       "    .dataframe thead th {\n",
       "        text-align: right;\n",
       "    }\n",
       "</style>\n",
       "<table border=\"1\" class=\"dataframe\">\n",
       "  <thead>\n",
       "    <tr style=\"text-align: right;\">\n",
       "      <th></th>\n",
       "      <th>customer_id</th>\n",
       "      <th>AGE</th>\n",
       "      <th>INCOME</th>\n",
       "      <th>GENDER</th>\n",
       "      <th>EDUCATION</th>\n",
       "      <th>LOAN_PURPOSE</th>\n",
       "      <th>APPLICATION_RECEIVE_TIME</th>\n",
       "      <th>HAS_APPLIED_BEFORE</th>\n",
       "      <th>HAS_INCOME_VERIFICATION</th>\n",
       "      <th>LOAN_WAS_PAID_BACK</th>\n",
       "      <th>LOANS_WITHOUT_DELAYS</th>\n",
       "      <th>LOANS_WITH_DELAYS</th>\n",
       "      <th>KNOWN_ASSETS</th>\n",
       "      <th>Score</th>\n",
       "    </tr>\n",
       "  </thead>\n",
       "  <tbody>\n",
       "    <tr>\n",
       "      <th>0</th>\n",
       "      <td>36493</td>\n",
       "      <td>40</td>\n",
       "      <td>10000000.0</td>\n",
       "      <td>Female</td>\n",
       "      <td>Diploma</td>\n",
       "      <td>Working Capital</td>\n",
       "      <td>09:07:00</td>\n",
       "      <td>No</td>\n",
       "      <td>Yes</td>\n",
       "      <td>1</td>\n",
       "      <td>3.0</td>\n",
       "      <td>3.0</td>\n",
       "      <td>40000000.0</td>\n",
       "      <td>0.77</td>\n",
       "    </tr>\n",
       "    <tr>\n",
       "      <th>1</th>\n",
       "      <td>36494</td>\n",
       "      <td>39</td>\n",
       "      <td>15000000.0</td>\n",
       "      <td>Female</td>\n",
       "      <td>Bachelor Degree</td>\n",
       "      <td>Other</td>\n",
       "      <td>15:15:00</td>\n",
       "      <td>No</td>\n",
       "      <td>Yes</td>\n",
       "      <td>1</td>\n",
       "      <td>3.0</td>\n",
       "      <td>0.0</td>\n",
       "      <td>20000000.0</td>\n",
       "      <td>0.93</td>\n",
       "    </tr>\n",
       "    <tr>\n",
       "      <th>2</th>\n",
       "      <td>36495</td>\n",
       "      <td>28</td>\n",
       "      <td>15000000.0</td>\n",
       "      <td>Male</td>\n",
       "      <td>Bachelor Degree</td>\n",
       "      <td>Renovation</td>\n",
       "      <td>07:13:00</td>\n",
       "      <td>No</td>\n",
       "      <td>Yes</td>\n",
       "      <td>1</td>\n",
       "      <td>NaN</td>\n",
       "      <td>NaN</td>\n",
       "      <td>NaN</td>\n",
       "      <td>NaN</td>\n",
       "    </tr>\n",
       "    <tr>\n",
       "      <th>3</th>\n",
       "      <td>36496</td>\n",
       "      <td>28</td>\n",
       "      <td>4000000.0</td>\n",
       "      <td>Male</td>\n",
       "      <td>Bachelor Degree</td>\n",
       "      <td>Renovation</td>\n",
       "      <td>12:05:00</td>\n",
       "      <td>Yes</td>\n",
       "      <td>Yes</td>\n",
       "      <td>1</td>\n",
       "      <td>2.0</td>\n",
       "      <td>1.0</td>\n",
       "      <td>0.0</td>\n",
       "      <td>0.78</td>\n",
       "    </tr>\n",
       "    <tr>\n",
       "      <th>4</th>\n",
       "      <td>36497</td>\n",
       "      <td>38</td>\n",
       "      <td>10000000.0</td>\n",
       "      <td>Male</td>\n",
       "      <td>Diploma</td>\n",
       "      <td>Renovation</td>\n",
       "      <td>14:35:00</td>\n",
       "      <td>Yes</td>\n",
       "      <td>Yes</td>\n",
       "      <td>0</td>\n",
       "      <td>1.0</td>\n",
       "      <td>0.0</td>\n",
       "      <td>40000000.0</td>\n",
       "      <td>0.81</td>\n",
       "    </tr>\n",
       "  </tbody>\n",
       "</table>\n",
       "</div>"
      ],
      "text/plain": [
       "   customer_id  AGE      INCOME  GENDER        EDUCATION     LOAN_PURPOSE  \\\n",
       "0        36493   40  10000000.0  Female          Diploma  Working Capital   \n",
       "1        36494   39  15000000.0  Female  Bachelor Degree            Other   \n",
       "2        36495   28  15000000.0    Male  Bachelor Degree       Renovation   \n",
       "3        36496   28   4000000.0    Male  Bachelor Degree       Renovation   \n",
       "4        36497   38  10000000.0    Male          Diploma       Renovation   \n",
       "\n",
       "  APPLICATION_RECEIVE_TIME HAS_APPLIED_BEFORE HAS_INCOME_VERIFICATION  \\\n",
       "0                 09:07:00                 No                     Yes   \n",
       "1                 15:15:00                 No                     Yes   \n",
       "2                 07:13:00                 No                     Yes   \n",
       "3                 12:05:00                Yes                     Yes   \n",
       "4                 14:35:00                Yes                     Yes   \n",
       "\n",
       "   LOAN_WAS_PAID_BACK  LOANS_WITHOUT_DELAYS  LOANS_WITH_DELAYS  KNOWN_ASSETS  \\\n",
       "0                   1                   3.0                3.0    40000000.0   \n",
       "1                   1                   3.0                0.0    20000000.0   \n",
       "2                   1                   NaN                NaN           NaN   \n",
       "3                   1                   2.0                1.0           0.0   \n",
       "4                   0                   1.0                0.0    40000000.0   \n",
       "\n",
       "   Score  \n",
       "0   0.77  \n",
       "1   0.93  \n",
       "2    NaN  \n",
       "3   0.78  \n",
       "4   0.81  "
      ]
     },
     "execution_count": 106,
     "metadata": {},
     "output_type": "execute_result"
    }
   ],
   "source": [
    "# merge master and bureau and external data\n",
    "df = pd.merge(master, bureau, on='customer_id', how='left')\n",
    "df = pd.merge(df, external, on='customer_id', how='left')\n",
    "df.head()"
   ]
  },
  {
   "cell_type": "code",
   "execution_count": 107,
   "metadata": {},
   "outputs": [
    {
     "data": {
      "text/html": [
       "<div>\n",
       "<style scoped>\n",
       "    .dataframe tbody tr th:only-of-type {\n",
       "        vertical-align: middle;\n",
       "    }\n",
       "\n",
       "    .dataframe tbody tr th {\n",
       "        vertical-align: top;\n",
       "    }\n",
       "\n",
       "    .dataframe thead th {\n",
       "        text-align: right;\n",
       "    }\n",
       "</style>\n",
       "<table border=\"1\" class=\"dataframe\">\n",
       "  <thead>\n",
       "    <tr style=\"text-align: right;\">\n",
       "      <th></th>\n",
       "      <th>customer_id</th>\n",
       "      <th>AGE</th>\n",
       "      <th>INCOME</th>\n",
       "      <th>GENDER</th>\n",
       "      <th>EDUCATION</th>\n",
       "      <th>LOAN_PURPOSE</th>\n",
       "      <th>APPLICATION_RECEIVE_TIME</th>\n",
       "      <th>HAS_APPLIED_BEFORE</th>\n",
       "      <th>HAS_INCOME_VERIFICATION</th>\n",
       "      <th>LOAN_WAS_PAID_BACK</th>\n",
       "      <th>KNOWN_ASSETS</th>\n",
       "      <th>Score</th>\n",
       "    </tr>\n",
       "  </thead>\n",
       "  <tbody>\n",
       "    <tr>\n",
       "      <th>0</th>\n",
       "      <td>36497</td>\n",
       "      <td>38</td>\n",
       "      <td>10000000.0</td>\n",
       "      <td>Male</td>\n",
       "      <td>Diploma</td>\n",
       "      <td>Renovation</td>\n",
       "      <td>14:35:00</td>\n",
       "      <td>Yes</td>\n",
       "      <td>Yes</td>\n",
       "      <td>0</td>\n",
       "      <td>40000000.0</td>\n",
       "      <td>0.81</td>\n",
       "    </tr>\n",
       "    <tr>\n",
       "      <th>1</th>\n",
       "      <td>36500</td>\n",
       "      <td>29</td>\n",
       "      <td>14000000.0</td>\n",
       "      <td>Female</td>\n",
       "      <td>Bachelor Degree</td>\n",
       "      <td>Renovation</td>\n",
       "      <td>19:30:00</td>\n",
       "      <td>Yes</td>\n",
       "      <td>Yes</td>\n",
       "      <td>0</td>\n",
       "      <td>NaN</td>\n",
       "      <td>0.86</td>\n",
       "    </tr>\n",
       "    <tr>\n",
       "      <th>2</th>\n",
       "      <td>36512</td>\n",
       "      <td>40</td>\n",
       "      <td>6000000.0</td>\n",
       "      <td>Female</td>\n",
       "      <td>Bachelor Degree</td>\n",
       "      <td>Working Capital</td>\n",
       "      <td>10:31:00</td>\n",
       "      <td>Yes</td>\n",
       "      <td>Yes</td>\n",
       "      <td>0</td>\n",
       "      <td>10000000.0</td>\n",
       "      <td>0.77</td>\n",
       "    </tr>\n",
       "    <tr>\n",
       "      <th>3</th>\n",
       "      <td>36526</td>\n",
       "      <td>29</td>\n",
       "      <td>6000000.0</td>\n",
       "      <td>Male</td>\n",
       "      <td>Bachelor Degree</td>\n",
       "      <td>Working Capital</td>\n",
       "      <td>10:35:00</td>\n",
       "      <td>Yes</td>\n",
       "      <td>Yes</td>\n",
       "      <td>0</td>\n",
       "      <td>10000000.0</td>\n",
       "      <td>NaN</td>\n",
       "    </tr>\n",
       "    <tr>\n",
       "      <th>4</th>\n",
       "      <td>36528</td>\n",
       "      <td>44</td>\n",
       "      <td>10000000.0</td>\n",
       "      <td>Female</td>\n",
       "      <td>Bachelor Degree</td>\n",
       "      <td>Credit card</td>\n",
       "      <td>07:01:00</td>\n",
       "      <td>No</td>\n",
       "      <td>Yes</td>\n",
       "      <td>0</td>\n",
       "      <td>NaN</td>\n",
       "      <td>0.77</td>\n",
       "    </tr>\n",
       "  </tbody>\n",
       "</table>\n",
       "</div>"
      ],
      "text/plain": [
       "   customer_id  AGE      INCOME  GENDER        EDUCATION     LOAN_PURPOSE  \\\n",
       "0        36497   38  10000000.0    Male          Diploma       Renovation   \n",
       "1        36500   29  14000000.0  Female  Bachelor Degree       Renovation   \n",
       "2        36512   40   6000000.0  Female  Bachelor Degree  Working Capital   \n",
       "3        36526   29   6000000.0    Male  Bachelor Degree  Working Capital   \n",
       "4        36528   44  10000000.0  Female  Bachelor Degree      Credit card   \n",
       "\n",
       "  APPLICATION_RECEIVE_TIME HAS_APPLIED_BEFORE HAS_INCOME_VERIFICATION  \\\n",
       "0                 14:35:00                Yes                     Yes   \n",
       "1                 19:30:00                Yes                     Yes   \n",
       "2                 10:31:00                Yes                     Yes   \n",
       "3                 10:35:00                Yes                     Yes   \n",
       "4                 07:01:00                 No                     Yes   \n",
       "\n",
       "   LOAN_WAS_PAID_BACK  KNOWN_ASSETS  Score  \n",
       "0                   0    40000000.0   0.81  \n",
       "1                   0           NaN   0.86  \n",
       "2                   0    10000000.0   0.77  \n",
       "3                   0    10000000.0    NaN  \n",
       "4                   0           NaN   0.77  "
      ]
     },
     "execution_count": 107,
     "metadata": {},
     "output_type": "execute_result"
    }
   ],
   "source": [
    "# get all data without bureau\n",
    "df_1 = df[df['LOANS_WITH_DELAYS'].isna() == True]\n",
    "df_1 = df.drop(columns=[ \"LOANS_WITHOUT_DELAYS\", \"LOANS_WITH_DELAYS\"])\n",
    "\n",
    "# get all data with label 0\n",
    "df_2 = df_1.loc[(df_1.LOAN_WAS_PAID_BACK == 0)]\n",
    "\n",
    "# get all labeled 1 data with the same number of row as label 0 data\n",
    "df_3 = df_1.loc[df_1.LOAN_WAS_PAID_BACK == 1, :].sample(n = df_2.shape[0])\n",
    "df_final = pd.concat([df_2, df_3], ignore_index=True)\n",
    "df_final.head()"
   ]
  },
  {
   "cell_type": "code",
   "execution_count": 108,
   "metadata": {},
   "outputs": [
    {
     "data": {
      "text/plain": [
       "0    963\n",
       "1    963\n",
       "Name: LOAN_WAS_PAID_BACK, dtype: int64"
      ]
     },
     "execution_count": 108,
     "metadata": {},
     "output_type": "execute_result"
    }
   ],
   "source": [
    "df_final.LOAN_WAS_PAID_BACK.value_counts()"
   ]
  },
  {
   "cell_type": "code",
   "execution_count": 109,
   "metadata": {},
   "outputs": [],
   "source": [
    "# do the splitting\n",
    "TARGET = \"LOAN_WAS_PAID_BACK\"\n",
    "TEST_SIZE = 0.3\n",
    "\n",
    "output_df, input_df = split_input_output(\n",
    "                            df_final,\n",
    "                            TARGET, save_file = False)\n",
    "\n",
    "x_train, y_train, x_valid, y_valid, x_test, y_test = split_data(input_df,\n",
    "                                                                    output_df,\n",
    "                                                                   True,\n",
    "                                                                   TEST_SIZE)"
   ]
  },
  {
   "cell_type": "code",
   "execution_count": 110,
   "metadata": {},
   "outputs": [
    {
     "name": "stdout",
     "output_type": "stream",
     "text": [
      "1    0.50053\n",
      "0    0.49947\n",
      "Name: LOAN_WAS_PAID_BACK, dtype: float64\n",
      "-------------------------------------\n",
      "0    0.501235\n",
      "1    0.498765\n",
      "Name: LOAN_WAS_PAID_BACK, dtype: float64\n",
      "-------------------------------------\n",
      "0    0.5\n",
      "1    0.5\n",
      "Name: LOAN_WAS_PAID_BACK, dtype: float64\n"
     ]
    }
   ],
   "source": [
    "# check if stratify is correct\n",
    "print(y_train.value_counts(normalize = True))\n",
    "print(\"-------------------------------------\")\n",
    "print(y_valid.value_counts(normalize = True))\n",
    "print(\"-------------------------------------\")\n",
    "print(y_test.value_counts(normalize = True))"
   ]
  },
  {
   "cell_type": "markdown",
   "metadata": {},
   "source": [
    "### Features Engineering"
   ]
  },
  {
   "cell_type": "markdown",
   "metadata": {},
   "source": [
    "#### Train"
   ]
  },
  {
   "cell_type": "code",
   "execution_count": 111,
   "metadata": {},
   "outputs": [],
   "source": [
    "#compile all engineering\n",
    "def feature_engineering(df):\n",
    "    TARGET = \"LOAN_WAS_PAID_BACK\"\n",
    "    #drop some features\n",
    "    df = df.drop([\"customer_id\", \"APPLICATION_RECEIVE_TIME\", \"KNOWN_ASSETS\", \"Score\"], axis=1)\n",
    "    #dropna for Income and Loan Purpose\n",
    "    df = df.dropna(subset = ['INCOME', 'LOAN_PURPOSE'])\n",
    "    \n",
    "    #binning\n",
    "    binning_features(df)\n",
    "    \n",
    "    #converting categorical Features\n",
    "    df['GENDER'] = df['GENDER'].map( {'Male': 1, 'Female': 0} ).astype(int)\n",
    "    df['HAS_APPLIED_BEFORE'] = df['HAS_APPLIED_BEFORE'].map( {'Yes': 1, 'No': 0} ).astype(int)\n",
    "    df['HAS_INCOME_VERIFICATION'] = df['HAS_INCOME_VERIFICATION'].map( {'Yes': 1, 'No': 0} ).astype(int)\n",
    "    \n",
    "    #one hot encoding\n",
    "    df_num = df.drop(['EDUCATION','LOAN_PURPOSE'], axis=1)\n",
    "    df_hot = one_hot_encoder(df[['EDUCATION','LOAN_PURPOSE']])\n",
    "    df_ready = df_num.join(df_hot)\n",
    "    \n",
    "    #split data train and test\n",
    "    X_without_bureau = df_ready.drop(columns=TARGET)\n",
    "    y_without_bureau = df_ready[TARGET]\n",
    "    return X_without_bureau,y_without_bureau"
   ]
  },
  {
   "cell_type": "code",
   "execution_count": 112,
   "metadata": {
    "tags": []
   },
   "outputs": [],
   "source": [
    "df_train = pd.concat([x_train, pd.DataFrame(y_train)], axis = 1)"
   ]
  },
  {
   "cell_type": "code",
   "execution_count": 113,
   "metadata": {
    "tags": []
   },
   "outputs": [],
   "source": [
    "# This is our final feature\n",
    "X_train_without_bureau, y_train_without_bureau = feature_engineering(df_train)"
   ]
  },
  {
   "cell_type": "code",
   "execution_count": 114,
   "metadata": {},
   "outputs": [
    {
     "data": {
      "text/plain": [
       "Index(['AGE', 'INCOME', 'GENDER', 'HAS_APPLIED_BEFORE',\n",
       "       'HAS_INCOME_VERIFICATION', 'EDUCATION_Bachelor Degree',\n",
       "       'EDUCATION_Diploma', 'EDUCATION_High School',\n",
       "       'EDUCATION_Master's Degree/Post graduate', 'EDUCATION_Other',\n",
       "       'LOAN_PURPOSE_Bills', 'LOAN_PURPOSE_Credit card',\n",
       "       'LOAN_PURPOSE_Education', 'LOAN_PURPOSE_Electronic unsecured loan',\n",
       "       'LOAN_PURPOSE_Holiday', 'LOAN_PURPOSE_Housing loan',\n",
       "       'LOAN_PURPOSE_Investment', 'LOAN_PURPOSE_Other',\n",
       "       'LOAN_PURPOSE_Renovation', 'LOAN_PURPOSE_Venture capital',\n",
       "       'LOAN_PURPOSE_Working Capital'],\n",
       "      dtype='object')"
      ]
     },
     "execution_count": 114,
     "metadata": {},
     "output_type": "execute_result"
    }
   ],
   "source": [
    "X_train_without_bureau.columns"
   ]
  },
  {
   "cell_type": "code",
   "execution_count": 115,
   "metadata": {
    "tags": []
   },
   "outputs": [
    {
     "name": "stdout",
     "output_type": "stream",
     "text": [
      "set()\n"
     ]
    }
   ],
   "source": [
    "# check for missing columns \n",
    "X_train_bureau = add_columns(df, X_train_with_bureau)"
   ]
  },
  {
   "cell_type": "code",
   "execution_count": 116,
   "metadata": {},
   "outputs": [
    {
     "data": {
      "text/plain": [
       "(4412, 24)"
      ]
     },
     "execution_count": 116,
     "metadata": {},
     "output_type": "execute_result"
    }
   ],
   "source": [
    "X_train_bureau.shape"
   ]
  },
  {
   "cell_type": "markdown",
   "metadata": {},
   "source": [
    "#### Valid"
   ]
  },
  {
   "cell_type": "code",
   "execution_count": 117,
   "metadata": {},
   "outputs": [],
   "source": [
    "df_valid = pd.concat([x_valid, pd.DataFrame(y_valid)], axis = 1)"
   ]
  },
  {
   "cell_type": "code",
   "execution_count": 118,
   "metadata": {},
   "outputs": [],
   "source": [
    "# This is our final feature\n",
    "X_valid_with_bureau, y_valid_with_bureau = feature_engineering(df_valid)"
   ]
  },
  {
   "cell_type": "code",
   "execution_count": 119,
   "metadata": {},
   "outputs": [
    {
     "data": {
      "text/plain": [
       "Index(['AGE', 'INCOME', 'GENDER', 'HAS_APPLIED_BEFORE',\n",
       "       'HAS_INCOME_VERIFICATION', 'EDUCATION_Bachelor Degree',\n",
       "       'EDUCATION_Diploma', 'EDUCATION_High School',\n",
       "       'EDUCATION_Master's Degree/Post graduate', 'EDUCATION_Other',\n",
       "       'LOAN_PURPOSE_Bills', 'LOAN_PURPOSE_Credit card',\n",
       "       'LOAN_PURPOSE_Education', 'LOAN_PURPOSE_Electronic unsecured loan',\n",
       "       'LOAN_PURPOSE_Holiday', 'LOAN_PURPOSE_Housing loan',\n",
       "       'LOAN_PURPOSE_Investment', 'LOAN_PURPOSE_Other',\n",
       "       'LOAN_PURPOSE_Renovation', 'LOAN_PURPOSE_Venture capital',\n",
       "       'LOAN_PURPOSE_Working Capital'],\n",
       "      dtype='object')"
      ]
     },
     "execution_count": 119,
     "metadata": {},
     "output_type": "execute_result"
    }
   ],
   "source": [
    "X_valid_with_bureau.columns"
   ]
  },
  {
   "cell_type": "code",
   "execution_count": 120,
   "metadata": {},
   "outputs": [
    {
     "name": "stdout",
     "output_type": "stream",
     "text": [
      "{'LOANS_WITHOUT_DELAYS', 'LOANS_WITH_DELAYS', 'LOAN_PURPOSE_Car/Motorcycle'}\n"
     ]
    }
   ],
   "source": [
    "# check for missing columns \n",
    "X_valid_bureau = add_columns(df, X_valid_with_bureau)"
   ]
  },
  {
   "cell_type": "code",
   "execution_count": 121,
   "metadata": {},
   "outputs": [
    {
     "data": {
      "text/plain": [
       "(404, 24)"
      ]
     },
     "execution_count": 121,
     "metadata": {},
     "output_type": "execute_result"
    }
   ],
   "source": [
    "X_valid_bureau.shape"
   ]
  },
  {
   "cell_type": "markdown",
   "metadata": {},
   "source": [
    "#### Test engineering"
   ]
  },
  {
   "cell_type": "code",
   "execution_count": 122,
   "metadata": {},
   "outputs": [
    {
     "name": "stdout",
     "output_type": "stream",
     "text": [
      "Index(['AGE', 'INCOME', 'GENDER', 'HAS_APPLIED_BEFORE',\n",
      "       'HAS_INCOME_VERIFICATION', 'EDUCATION_Bachelor Degree',\n",
      "       'EDUCATION_Diploma', 'EDUCATION_High School',\n",
      "       'EDUCATION_Master's Degree/Post graduate', 'EDUCATION_Other',\n",
      "       'LOAN_PURPOSE_Bills', 'LOAN_PURPOSE_Credit card',\n",
      "       'LOAN_PURPOSE_Education', 'LOAN_PURPOSE_Electronic unsecured loan',\n",
      "       'LOAN_PURPOSE_Holiday', 'LOAN_PURPOSE_Housing loan',\n",
      "       'LOAN_PURPOSE_Investment', 'LOAN_PURPOSE_Other',\n",
      "       'LOAN_PURPOSE_Renovation', 'LOAN_PURPOSE_Venture capital',\n",
      "       'LOAN_PURPOSE_Working Capital'],\n",
      "      dtype='object')\n",
      "{'LOANS_WITHOUT_DELAYS', 'LOANS_WITH_DELAYS', 'LOAN_PURPOSE_Car/Motorcycle'}\n"
     ]
    },
    {
     "data": {
      "text/plain": [
       "(574, 24)"
      ]
     },
     "execution_count": 122,
     "metadata": {},
     "output_type": "execute_result"
    }
   ],
   "source": [
    "df_test = pd.concat([x_test, pd.DataFrame(y_test)], axis = 1)\n",
    "\n",
    "# This is our final feature\n",
    "X_test_with_bureau, y_test_with_bureau = feature_engineering(df_test)\n",
    "\n",
    "print(X_test_with_bureau.columns)\n",
    "\n",
    "# check for missing columns \n",
    "X_test_bureau = add_columns(df, X_test_with_bureau)\n",
    "\n",
    "X_test_bureau.shape"
   ]
  },
  {
   "cell_type": "markdown",
   "metadata": {},
   "source": [
    "### ML Training"
   ]
  },
  {
   "cell_type": "code",
   "execution_count": 123,
   "metadata": {},
   "outputs": [],
   "source": [
    "from collections import Counter\n",
    "from sklearn.datasets import make_classification\n",
    "from imblearn.over_sampling import SMOTE \n",
    "\n",
    "from sklearn.linear_model import LogisticRegression\n",
    "from sklearn.ensemble import RandomForestClassifier\n",
    "from sklearn.tree import DecisionTreeClassifier\n",
    "from sklearn.neighbors import KNeighborsClassifier\n",
    "from lightgbm import LGBMClassifier\n",
    "import xgboost as xgb"
   ]
  },
  {
   "cell_type": "code",
   "execution_count": 124,
   "metadata": {},
   "outputs": [],
   "source": [
    "# Changing everything to float and replacing infinities\n",
    "for c in X_train_bureau.columns:\n",
    "    X_train_bureau[c] = X_train_bureau[c].astype(np.float64)\n",
    "X_train_bureau.replace([np.inf, -np.inf], np.nan, inplace=True)"
   ]
  },
  {
   "cell_type": "code",
   "execution_count": 125,
   "metadata": {
    "tags": []
   },
   "outputs": [
    {
     "data": {
      "text/plain": [
       "AGE                                        0\n",
       "INCOME                                     0\n",
       "GENDER                                     0\n",
       "HAS_APPLIED_BEFORE                         0\n",
       "HAS_INCOME_VERIFICATION                    0\n",
       "LOANS_WITHOUT_DELAYS                       0\n",
       "LOANS_WITH_DELAYS                          0\n",
       "EDUCATION_Bachelor Degree                  0\n",
       "EDUCATION_Diploma                          0\n",
       "EDUCATION_High School                      0\n",
       "EDUCATION_Master's Degree/Post graduate    0\n",
       "EDUCATION_Other                            0\n",
       "LOAN_PURPOSE_Bills                         0\n",
       "LOAN_PURPOSE_Car/Motorcycle                0\n",
       "LOAN_PURPOSE_Credit card                   0\n",
       "LOAN_PURPOSE_Education                     0\n",
       "LOAN_PURPOSE_Electronic unsecured loan     0\n",
       "LOAN_PURPOSE_Holiday                       0\n",
       "LOAN_PURPOSE_Housing loan                  0\n",
       "LOAN_PURPOSE_Investment                    0\n",
       "LOAN_PURPOSE_Other                         0\n",
       "LOAN_PURPOSE_Renovation                    0\n",
       "LOAN_PURPOSE_Venture capital               0\n",
       "LOAN_PURPOSE_Working Capital               0\n",
       "dtype: int64"
      ]
     },
     "execution_count": 125,
     "metadata": {},
     "output_type": "execute_result"
    }
   ],
   "source": [
    "X_train_bureau.isnull().sum()"
   ]
  },
  {
   "cell_type": "code",
   "execution_count": 126,
   "metadata": {},
   "outputs": [],
   "source": [
    "# Fixing column names that contains [,],or < for XGBoost model\n",
    "import re\n",
    "regex = re.compile(r\"\\[|\\]|<\", re.IGNORECASE)\n",
    "X_train_bureau.columns = [regex.sub(\"_\", col) if any(x in str(col) for x in set(('[', ']', '<'))) else col for col in X_train_bureau.columns.values]\n",
    "X_valid_bureau.columns = [regex.sub(\"_\", col) if any(x in str(col) for x in set(('[', ']', '<'))) else col for col in X_valid_bureau.columns.values]\n",
    "X_test_bureau.columns = [regex.sub(\"_\", col) if any(x in str(col) for x in set(('[', ']', '<'))) else col for col in X_test_bureau.columns.values]"
   ]
  },
  {
   "cell_type": "code",
   "execution_count": 127,
   "metadata": {},
   "outputs": [
    {
     "name": "stdout",
     "output_type": "stream",
     "text": [
      "[00:31:34] WARNING: C:/Users/Administrator/workspace/xgboost-win64_release_1.5.1/src/learner.cc:1115: Starting in XGBoost 1.3.0, the default evaluation metric used with the objective 'binary:logistic' was changed from 'error' to 'logloss'. Explicitly set eval_metric if you'd like to restore the old behavior.\n",
      "Gini Performance Evaluation\n",
      "\n",
      "Logistic Regression Gini : 0.42706674864315475\n",
      "Random Forest Gini       : 0.9776731883456393\n",
      "Decision Tree Gini       : 0.9831663254176157\n",
      "KNN Classifier Gini      : 0.8689794749175783\n",
      "LGBM Gini                : 0.9376841696880427\n",
      "XGBoost Gini             : 0.9483895401069693\n"
     ]
    }
   ],
   "source": [
    "# Check the baseline model\n",
    "def baseline_model(X_train,y_train):\n",
    "  clf_logreg = LogisticRegression().fit(X_train,y_train)\n",
    "  clf_rf = RandomForestClassifier().fit(X_train,y_train)\n",
    "  clf_tree = DecisionTreeClassifier().fit(X_train,y_train)\n",
    "  clf_knn = KNeighborsClassifier().fit(X_train,y_train)\n",
    "  clf_lgbm = LGBMClassifier().fit(X_train,y_train)\n",
    "  clf_xgb = xgb.XGBClassifier().fit(X_train,y_train)\n",
    "\n",
    "  gini_logreg = (2*(roc_auc_score(y_train, clf_logreg.predict_proba(X_train)[:, 1])))-1\n",
    "  gini_rf = (2*(roc_auc_score(y_train, clf_rf.predict_proba(X_train)[:, 1])))-1\n",
    "  gini_tree = (2*(roc_auc_score(y_train, clf_tree.predict_proba(X_train)[:, 1])))-1\n",
    "  gini_knn = (2*(roc_auc_score(y_train, clf_knn.predict_proba(X_train)[:, 1])))-1\n",
    "  gini_lgbm = (2*(roc_auc_score(y_train, clf_lgbm.predict_proba(X_train)[:, 1])))-1\n",
    "  gini_xgb = (2*(roc_auc_score(y_train, clf_xgb.predict_proba(X_train)[:, 1])))-1\n",
    "\n",
    "  print(\"Gini Performance Evaluation\\n\")\n",
    "  print(f\"Logistic Regression Gini : {gini_logreg}\")\n",
    "  print(f\"Random Forest Gini       : {gini_rf}\")\n",
    "  print(f\"Decision Tree Gini       : {gini_tree}\")\n",
    "  print(f\"KNN Classifier Gini      : {gini_knn}\")\n",
    "  print(f\"LGBM Gini                : {gini_lgbm}\")\n",
    "  print(f\"XGBoost Gini             : {gini_xgb}\")\n",
    "\n",
    "  return clf_logreg, clf_rf, clf_tree, clf_knn, clf_lgbm, clf_xgb\n",
    " \n",
    "clf_logreg, clf_rf, clf_tree, clf_knn, clf_lgbm, clf_xgb = baseline_model(X_train_bureau,y_train_with_bureau)"
   ]
  },
  {
   "cell_type": "code",
   "execution_count": 128,
   "metadata": {},
   "outputs": [
    {
     "ename": "KeyboardInterrupt",
     "evalue": "",
     "output_type": "error",
     "traceback": [
      "\u001b[1;31m---------------------------------------------------------------------------\u001b[0m",
      "\u001b[1;31mKeyboardInterrupt\u001b[0m                         Traceback (most recent call last)",
      "\u001b[1;32m<timed exec>\u001b[0m in \u001b[0;36m<module>\u001b[1;34m\u001b[0m\n",
      "\u001b[1;32m~\\anaconda3\\lib\\site-packages\\sklearn\\model_selection\\_search.py\u001b[0m in \u001b[0;36mfit\u001b[1;34m(self, X, y, groups, **fit_params)\u001b[0m\n\u001b[0;32m    889\u001b[0m                 \u001b[1;32mreturn\u001b[0m \u001b[0mresults\u001b[0m\u001b[1;33m\u001b[0m\u001b[1;33m\u001b[0m\u001b[0m\n\u001b[0;32m    890\u001b[0m \u001b[1;33m\u001b[0m\u001b[0m\n\u001b[1;32m--> 891\u001b[1;33m             \u001b[0mself\u001b[0m\u001b[1;33m.\u001b[0m\u001b[0m_run_search\u001b[0m\u001b[1;33m(\u001b[0m\u001b[0mevaluate_candidates\u001b[0m\u001b[1;33m)\u001b[0m\u001b[1;33m\u001b[0m\u001b[1;33m\u001b[0m\u001b[0m\n\u001b[0m\u001b[0;32m    892\u001b[0m \u001b[1;33m\u001b[0m\u001b[0m\n\u001b[0;32m    893\u001b[0m             \u001b[1;31m# multimetric is determined here because in the case of a callable\u001b[0m\u001b[1;33m\u001b[0m\u001b[1;33m\u001b[0m\u001b[1;33m\u001b[0m\u001b[0m\n",
      "\u001b[1;32m~\\anaconda3\\lib\\site-packages\\sklearn\\model_selection\\_search.py\u001b[0m in \u001b[0;36m_run_search\u001b[1;34m(self, evaluate_candidates)\u001b[0m\n\u001b[0;32m   1764\u001b[0m     \u001b[1;32mdef\u001b[0m \u001b[0m_run_search\u001b[0m\u001b[1;33m(\u001b[0m\u001b[0mself\u001b[0m\u001b[1;33m,\u001b[0m \u001b[0mevaluate_candidates\u001b[0m\u001b[1;33m)\u001b[0m\u001b[1;33m:\u001b[0m\u001b[1;33m\u001b[0m\u001b[1;33m\u001b[0m\u001b[0m\n\u001b[0;32m   1765\u001b[0m         \u001b[1;34m\"\"\"Search n_iter candidates from param_distributions\"\"\"\u001b[0m\u001b[1;33m\u001b[0m\u001b[1;33m\u001b[0m\u001b[0m\n\u001b[1;32m-> 1766\u001b[1;33m         evaluate_candidates(\n\u001b[0m\u001b[0;32m   1767\u001b[0m             ParameterSampler(\n\u001b[0;32m   1768\u001b[0m                 \u001b[0mself\u001b[0m\u001b[1;33m.\u001b[0m\u001b[0mparam_distributions\u001b[0m\u001b[1;33m,\u001b[0m \u001b[0mself\u001b[0m\u001b[1;33m.\u001b[0m\u001b[0mn_iter\u001b[0m\u001b[1;33m,\u001b[0m \u001b[0mrandom_state\u001b[0m\u001b[1;33m=\u001b[0m\u001b[0mself\u001b[0m\u001b[1;33m.\u001b[0m\u001b[0mrandom_state\u001b[0m\u001b[1;33m\u001b[0m\u001b[1;33m\u001b[0m\u001b[0m\n",
      "\u001b[1;32m~\\anaconda3\\lib\\site-packages\\sklearn\\model_selection\\_search.py\u001b[0m in \u001b[0;36mevaluate_candidates\u001b[1;34m(candidate_params, cv, more_results)\u001b[0m\n\u001b[0;32m    836\u001b[0m                     )\n\u001b[0;32m    837\u001b[0m \u001b[1;33m\u001b[0m\u001b[0m\n\u001b[1;32m--> 838\u001b[1;33m                 out = parallel(\n\u001b[0m\u001b[0;32m    839\u001b[0m                     delayed(_fit_and_score)(\n\u001b[0;32m    840\u001b[0m                         \u001b[0mclone\u001b[0m\u001b[1;33m(\u001b[0m\u001b[0mbase_estimator\u001b[0m\u001b[1;33m)\u001b[0m\u001b[1;33m,\u001b[0m\u001b[1;33m\u001b[0m\u001b[1;33m\u001b[0m\u001b[0m\n",
      "\u001b[1;32m~\\anaconda3\\lib\\site-packages\\joblib\\parallel.py\u001b[0m in \u001b[0;36m__call__\u001b[1;34m(self, iterable)\u001b[0m\n\u001b[0;32m   1052\u001b[0m \u001b[1;33m\u001b[0m\u001b[0m\n\u001b[0;32m   1053\u001b[0m             \u001b[1;32mwith\u001b[0m \u001b[0mself\u001b[0m\u001b[1;33m.\u001b[0m\u001b[0m_backend\u001b[0m\u001b[1;33m.\u001b[0m\u001b[0mretrieval_context\u001b[0m\u001b[1;33m(\u001b[0m\u001b[1;33m)\u001b[0m\u001b[1;33m:\u001b[0m\u001b[1;33m\u001b[0m\u001b[1;33m\u001b[0m\u001b[0m\n\u001b[1;32m-> 1054\u001b[1;33m                 \u001b[0mself\u001b[0m\u001b[1;33m.\u001b[0m\u001b[0mretrieve\u001b[0m\u001b[1;33m(\u001b[0m\u001b[1;33m)\u001b[0m\u001b[1;33m\u001b[0m\u001b[1;33m\u001b[0m\u001b[0m\n\u001b[0m\u001b[0;32m   1055\u001b[0m             \u001b[1;31m# Make sure that we get a last message telling us we are done\u001b[0m\u001b[1;33m\u001b[0m\u001b[1;33m\u001b[0m\u001b[1;33m\u001b[0m\u001b[0m\n\u001b[0;32m   1056\u001b[0m             \u001b[0melapsed_time\u001b[0m \u001b[1;33m=\u001b[0m \u001b[0mtime\u001b[0m\u001b[1;33m.\u001b[0m\u001b[0mtime\u001b[0m\u001b[1;33m(\u001b[0m\u001b[1;33m)\u001b[0m \u001b[1;33m-\u001b[0m \u001b[0mself\u001b[0m\u001b[1;33m.\u001b[0m\u001b[0m_start_time\u001b[0m\u001b[1;33m\u001b[0m\u001b[1;33m\u001b[0m\u001b[0m\n",
      "\u001b[1;32m~\\anaconda3\\lib\\site-packages\\joblib\\parallel.py\u001b[0m in \u001b[0;36mretrieve\u001b[1;34m(self)\u001b[0m\n\u001b[0;32m    931\u001b[0m             \u001b[1;32mtry\u001b[0m\u001b[1;33m:\u001b[0m\u001b[1;33m\u001b[0m\u001b[1;33m\u001b[0m\u001b[0m\n\u001b[0;32m    932\u001b[0m                 \u001b[1;32mif\u001b[0m \u001b[0mgetattr\u001b[0m\u001b[1;33m(\u001b[0m\u001b[0mself\u001b[0m\u001b[1;33m.\u001b[0m\u001b[0m_backend\u001b[0m\u001b[1;33m,\u001b[0m \u001b[1;34m'supports_timeout'\u001b[0m\u001b[1;33m,\u001b[0m \u001b[1;32mFalse\u001b[0m\u001b[1;33m)\u001b[0m\u001b[1;33m:\u001b[0m\u001b[1;33m\u001b[0m\u001b[1;33m\u001b[0m\u001b[0m\n\u001b[1;32m--> 933\u001b[1;33m                     \u001b[0mself\u001b[0m\u001b[1;33m.\u001b[0m\u001b[0m_output\u001b[0m\u001b[1;33m.\u001b[0m\u001b[0mextend\u001b[0m\u001b[1;33m(\u001b[0m\u001b[0mjob\u001b[0m\u001b[1;33m.\u001b[0m\u001b[0mget\u001b[0m\u001b[1;33m(\u001b[0m\u001b[0mtimeout\u001b[0m\u001b[1;33m=\u001b[0m\u001b[0mself\u001b[0m\u001b[1;33m.\u001b[0m\u001b[0mtimeout\u001b[0m\u001b[1;33m)\u001b[0m\u001b[1;33m)\u001b[0m\u001b[1;33m\u001b[0m\u001b[1;33m\u001b[0m\u001b[0m\n\u001b[0m\u001b[0;32m    934\u001b[0m                 \u001b[1;32melse\u001b[0m\u001b[1;33m:\u001b[0m\u001b[1;33m\u001b[0m\u001b[1;33m\u001b[0m\u001b[0m\n\u001b[0;32m    935\u001b[0m                     \u001b[0mself\u001b[0m\u001b[1;33m.\u001b[0m\u001b[0m_output\u001b[0m\u001b[1;33m.\u001b[0m\u001b[0mextend\u001b[0m\u001b[1;33m(\u001b[0m\u001b[0mjob\u001b[0m\u001b[1;33m.\u001b[0m\u001b[0mget\u001b[0m\u001b[1;33m(\u001b[0m\u001b[1;33m)\u001b[0m\u001b[1;33m)\u001b[0m\u001b[1;33m\u001b[0m\u001b[1;33m\u001b[0m\u001b[0m\n",
      "\u001b[1;32m~\\anaconda3\\lib\\site-packages\\joblib\\_parallel_backends.py\u001b[0m in \u001b[0;36mwrap_future_result\u001b[1;34m(future, timeout)\u001b[0m\n\u001b[0;32m    540\u001b[0m         AsyncResults.get from multiprocessing.\"\"\"\n\u001b[0;32m    541\u001b[0m         \u001b[1;32mtry\u001b[0m\u001b[1;33m:\u001b[0m\u001b[1;33m\u001b[0m\u001b[1;33m\u001b[0m\u001b[0m\n\u001b[1;32m--> 542\u001b[1;33m             \u001b[1;32mreturn\u001b[0m \u001b[0mfuture\u001b[0m\u001b[1;33m.\u001b[0m\u001b[0mresult\u001b[0m\u001b[1;33m(\u001b[0m\u001b[0mtimeout\u001b[0m\u001b[1;33m=\u001b[0m\u001b[0mtimeout\u001b[0m\u001b[1;33m)\u001b[0m\u001b[1;33m\u001b[0m\u001b[1;33m\u001b[0m\u001b[0m\n\u001b[0m\u001b[0;32m    543\u001b[0m         \u001b[1;32mexcept\u001b[0m \u001b[0mCfTimeoutError\u001b[0m \u001b[1;32mas\u001b[0m \u001b[0me\u001b[0m\u001b[1;33m:\u001b[0m\u001b[1;33m\u001b[0m\u001b[1;33m\u001b[0m\u001b[0m\n\u001b[0;32m    544\u001b[0m             \u001b[1;32mraise\u001b[0m \u001b[0mTimeoutError\u001b[0m \u001b[1;32mfrom\u001b[0m \u001b[0me\u001b[0m\u001b[1;33m\u001b[0m\u001b[1;33m\u001b[0m\u001b[0m\n",
      "\u001b[1;32m~\\anaconda3\\lib\\concurrent\\futures\\_base.py\u001b[0m in \u001b[0;36mresult\u001b[1;34m(self, timeout)\u001b[0m\n\u001b[0;32m    432\u001b[0m                 \u001b[1;32mreturn\u001b[0m \u001b[0mself\u001b[0m\u001b[1;33m.\u001b[0m\u001b[0m__get_result\u001b[0m\u001b[1;33m(\u001b[0m\u001b[1;33m)\u001b[0m\u001b[1;33m\u001b[0m\u001b[1;33m\u001b[0m\u001b[0m\n\u001b[0;32m    433\u001b[0m \u001b[1;33m\u001b[0m\u001b[0m\n\u001b[1;32m--> 434\u001b[1;33m             \u001b[0mself\u001b[0m\u001b[1;33m.\u001b[0m\u001b[0m_condition\u001b[0m\u001b[1;33m.\u001b[0m\u001b[0mwait\u001b[0m\u001b[1;33m(\u001b[0m\u001b[0mtimeout\u001b[0m\u001b[1;33m)\u001b[0m\u001b[1;33m\u001b[0m\u001b[1;33m\u001b[0m\u001b[0m\n\u001b[0m\u001b[0;32m    435\u001b[0m \u001b[1;33m\u001b[0m\u001b[0m\n\u001b[0;32m    436\u001b[0m             \u001b[1;32mif\u001b[0m \u001b[0mself\u001b[0m\u001b[1;33m.\u001b[0m\u001b[0m_state\u001b[0m \u001b[1;32min\u001b[0m \u001b[1;33m[\u001b[0m\u001b[0mCANCELLED\u001b[0m\u001b[1;33m,\u001b[0m \u001b[0mCANCELLED_AND_NOTIFIED\u001b[0m\u001b[1;33m]\u001b[0m\u001b[1;33m:\u001b[0m\u001b[1;33m\u001b[0m\u001b[1;33m\u001b[0m\u001b[0m\n",
      "\u001b[1;32m~\\anaconda3\\lib\\threading.py\u001b[0m in \u001b[0;36mwait\u001b[1;34m(self, timeout)\u001b[0m\n\u001b[0;32m    300\u001b[0m         \u001b[1;32mtry\u001b[0m\u001b[1;33m:\u001b[0m    \u001b[1;31m# restore state no matter what (e.g., KeyboardInterrupt)\u001b[0m\u001b[1;33m\u001b[0m\u001b[1;33m\u001b[0m\u001b[0m\n\u001b[0;32m    301\u001b[0m             \u001b[1;32mif\u001b[0m \u001b[0mtimeout\u001b[0m \u001b[1;32mis\u001b[0m \u001b[1;32mNone\u001b[0m\u001b[1;33m:\u001b[0m\u001b[1;33m\u001b[0m\u001b[1;33m\u001b[0m\u001b[0m\n\u001b[1;32m--> 302\u001b[1;33m                 \u001b[0mwaiter\u001b[0m\u001b[1;33m.\u001b[0m\u001b[0macquire\u001b[0m\u001b[1;33m(\u001b[0m\u001b[1;33m)\u001b[0m\u001b[1;33m\u001b[0m\u001b[1;33m\u001b[0m\u001b[0m\n\u001b[0m\u001b[0;32m    303\u001b[0m                 \u001b[0mgotit\u001b[0m \u001b[1;33m=\u001b[0m \u001b[1;32mTrue\u001b[0m\u001b[1;33m\u001b[0m\u001b[1;33m\u001b[0m\u001b[0m\n\u001b[0;32m    304\u001b[0m             \u001b[1;32melse\u001b[0m\u001b[1;33m:\u001b[0m\u001b[1;33m\u001b[0m\u001b[1;33m\u001b[0m\u001b[0m\n",
      "\u001b[1;31mKeyboardInterrupt\u001b[0m: "
     ]
    }
   ],
   "source": [
    "%%time\n",
    "\n",
    "clf_xgb = xgb.XGBClassifier()\n",
    "clf_tree = DecisionTreeClassifier()\n",
    "clf_rf = RandomForestClassifier()\n",
    "\n",
    "# Define evaluation\n",
    "cv = RepeatedStratifiedKFold(n_splits=10, n_repeats=2, random_state=420)\n",
    "\n",
    "# Define search space\n",
    "space_tree = dict()\n",
    "space_rf = dict()\n",
    "space_xgb = [\n",
    "  {\n",
    "    'clf__n_estimators': [50, 100, 150, 200],\n",
    "    'clf__learning_rate': [0.01, 0.1, 0.2, 0.3],\n",
    "    'clf__max_depth': range(3, 10),\n",
    "    'clf__colsample_bytree': [i/10.0 for i in range(1, 3)],\n",
    "    'clf__gamma': [i/10.0 for i in range(3)],\n",
    "#     'fs__score_func': [chi2],\n",
    "    'fs__k': [10],\n",
    "  }\n",
    "]\n",
    "\n",
    "max_depth = [int(x) for x in np.linspace(10, 110, num = 11)] #RF\n",
    "max_depth.append(None) #RF\n",
    "space_rf['max_depth'] = max_depth # RF\n",
    "space_rf['min_samples_split'] = [2, 5, 10] # RF\n",
    "space_rf['min_samples_leaf'] = [1, 2, 4] # RF\n",
    "\n",
    "space_tree['max_depth'] = [2, 3, 5, 10, 20] #DT\n",
    "space_tree['min_samples_leaf'] = [5, 10, 20, 50, 100] #DT\n",
    "space_tree['criterion'] = [\"gini\", \"entropy\"] #DT\n",
    "\n",
    "# Define search\n",
    "search_tree = RandomizedSearchCV(clf_tree, space_tree, n_iter=30, scoring='roc_auc', n_jobs=30, cv=cv, random_state=420)\n",
    "search_rf = RandomizedSearchCV(clf_rf, space_rf, n_iter=30, scoring='roc_auc', n_jobs=30, cv=cv, random_state=420)\n",
    "search_xgb = RandomizedSearchCV(clf_xgb, space_xgb, n_iter=30, scoring='roc_auc', n_jobs=30, cv=cv, random_state=420)\n",
    "\n",
    "# Execute search\n",
    "result_tree = search_tree.fit(X_train_bureau, y_train_with_bureau)\n",
    "result_rf = search_rf.fit(X_train_bureau, y_train_with_bureau)\n",
    "result_xgb = search_xgb.fit(X_train_bureau, y_train_with_bureau)\n",
    "\n",
    "# Summarize result\n",
    "print('Best Score tree: %s' % ((result_tree.best_score_ * 2) - 1))\n",
    "print('Best Hyperparameters: %s' % result_tree.best_params_)\n",
    "\n",
    "print('Best Score rf: %s' % ((result_rf.best_score_*2) - 1))\n",
    "print('Best Hyperparameters: %s' % result_rf.best_params_)\n",
    "\n",
    "print('Best Score xgb: %s' % ((result_xgb.best_score_*2) - 1))\n",
    "print('Best Hyperparameters: %s' % result_xgb.best_params_)"
   ]
  },
  {
   "cell_type": "code",
   "execution_count": 129,
   "metadata": {},
   "outputs": [
    {
     "name": "stdout",
     "output_type": "stream",
     "text": [
      "GINI validation data for Decision Tree : 0.19197117858980928\n",
      "GINI validation data for Random Forest : 0.23446805381957203\n",
      "GINI validation data for XGBOOST : 0.19422591476116957\n"
     ]
    }
   ],
   "source": [
    "dt_valid = DecisionTreeClassifier(\n",
    "    min_samples_leaf = 5, \n",
    "    max_depth = 20, \n",
    "    criterion = 'entropy').fit(X_train_bureau,y_train_with_bureau)\n",
    "\n",
    "rf_valid = RandomForestClassifier(\n",
    "    min_samples_split = 5, \n",
    "    min_samples_leaf = 1, \n",
    "    max_depth = 70).fit(X_train_bureau,y_train_with_bureau)\n",
    "\n",
    "xgb_valid = xgb.XGBClassifier(\n",
    "    fs__k= 10, \n",
    "    n_estimators= 150, \n",
    "    max_depth= 3, \n",
    "    learning_rate= 0.01, \n",
    "    gamma= 0.2, \n",
    "    colsample_bytree= 0.1,\n",
    "    verbosity = 0).fit(X_train_bureau,y_train_with_bureau)\n",
    "\n",
    "def gini_value(x, y, model):\n",
    "    return (2*(roc_auc_score(y, model.predict_proba(x)[:, 1])))-1\n",
    "\n",
    "print(\"GINI validation data for Decision Tree :\" , gini_value(X_valid_bureau, y_valid_with_bureau, dt_valid))\n",
    "print(\"GINI validation data for Random Forest :\" , gini_value(X_valid_bureau, y_valid_with_bureau, rf_valid))\n",
    "print(\"GINI validation data for XGBOOST :\" , gini_value(X_valid_bureau, y_valid_with_bureau, xgb_valid))"
   ]
  },
  {
   "cell_type": "code",
   "execution_count": 130,
   "metadata": {},
   "outputs": [
    {
     "name": "stdout",
     "output_type": "stream",
     "text": [
      "              precision    recall  f1-score   support\n",
      "\n",
      "           0       0.67      0.02      0.04       203\n",
      "           1       0.50      0.99      0.66       201\n",
      "\n",
      "    accuracy                           0.50       404\n",
      "   macro avg       0.58      0.50      0.35       404\n",
      "weighted avg       0.58      0.50      0.35       404\n",
      "\n"
     ]
    }
   ],
   "source": [
    "from sklearn.metrics import classification_report\n",
    "\n",
    "y_pred_valid = rf_valid.predict(X_valid_bureau)\n",
    "\n",
    "print(classification_report(y_valid_with_bureau, y_pred_valid))"
   ]
  },
  {
   "cell_type": "code",
   "execution_count": 131,
   "metadata": {},
   "outputs": [
    {
     "data": {
      "image/png": "[encoded data removed]",
      "text/plain": [
       "<Figure size 432x288 with 1 Axes>"
      ]
     },
     "metadata": {
      "needs_background": "light"
     },
     "output_type": "display_data"
    }
   ],
   "source": [
    "from sklearn.metrics import plot_roc_curve\n",
    "plot_roc_curve(rf_valid,X_valid_bureau,y_valid_with_bureau)\n",
    "plt.show()"
   ]
  },
  {
   "cell_type": "code",
   "execution_count": 132,
   "metadata": {},
   "outputs": [
    {
     "name": "stdout",
     "output_type": "stream",
     "text": [
      "              precision    recall  f1-score   support\n",
      "\n",
      "           0       0.57      0.01      0.03       289\n",
      "           1       0.50      0.99      0.66       285\n",
      "\n",
      "    accuracy                           0.50       574\n",
      "   macro avg       0.53      0.50      0.34       574\n",
      "weighted avg       0.53      0.50      0.34       574\n",
      "\n"
     ]
    }
   ],
   "source": [
    "from sklearn.metrics import classification_report\n",
    "\n",
    "y_pred_test = rf_valid.predict(X_test_bureau)\n",
    "\n",
    "print(classification_report(y_test_with_bureau, y_pred_test))"
   ]
  },
  {
   "cell_type": "markdown",
   "metadata": {},
   "source": [
    "#### COBA LAGI"
   ]
  },
  {
   "cell_type": "code",
   "execution_count": 133,
   "metadata": {
    "tags": []
   },
   "outputs": [],
   "source": [
    "df_train = pd.concat([x_train, pd.DataFrame(y_train)], axis = 1)"
   ]
  },
  {
   "cell_type": "code",
   "execution_count": 134,
   "metadata": {},
   "outputs": [],
   "source": [
    "df_valid = pd.concat([x_valid, pd.DataFrame(y_valid)], axis = 1)"
   ]
  },
  {
   "cell_type": "code",
   "execution_count": 135,
   "metadata": {},
   "outputs": [],
   "source": [
    "df_train = df_train.append(df_valid, ignore_index=True)"
   ]
  },
  {
   "cell_type": "code",
   "execution_count": 136,
   "metadata": {
    "tags": []
   },
   "outputs": [],
   "source": [
    "# This is our final feature\n",
    "X_train_without_bureau, y_train_without_bureau = feature_engineering(df_train)"
   ]
  },
  {
   "cell_type": "code",
   "execution_count": 137,
   "metadata": {},
   "outputs": [
    {
     "data": {
      "text/plain": [
       "Index(['AGE', 'INCOME', 'GENDER', 'HAS_APPLIED_BEFORE',\n",
       "       'HAS_INCOME_VERIFICATION', 'EDUCATION_Bachelor Degree',\n",
       "       'EDUCATION_Diploma', 'EDUCATION_High School',\n",
       "       'EDUCATION_Master's Degree/Post graduate', 'EDUCATION_Other',\n",
       "       'LOAN_PURPOSE_Bills', 'LOAN_PURPOSE_Credit card',\n",
       "       'LOAN_PURPOSE_Education', 'LOAN_PURPOSE_Electronic unsecured loan',\n",
       "       'LOAN_PURPOSE_Holiday', 'LOAN_PURPOSE_Housing loan',\n",
       "       'LOAN_PURPOSE_Investment', 'LOAN_PURPOSE_Other',\n",
       "       'LOAN_PURPOSE_Renovation', 'LOAN_PURPOSE_Venture capital',\n",
       "       'LOAN_PURPOSE_Working Capital'],\n",
       "      dtype='object')"
      ]
     },
     "execution_count": 137,
     "metadata": {},
     "output_type": "execute_result"
    }
   ],
   "source": [
    "X_train_without_bureau.columns"
   ]
  },
  {
   "cell_type": "code",
   "execution_count": 138,
   "metadata": {
    "tags": []
   },
   "outputs": [
    {
     "name": "stdout",
     "output_type": "stream",
     "text": [
      "set()\n"
     ]
    }
   ],
   "source": [
    "# check for missing columns \n",
    "X_train_bureau = add_columns(df, X_train_with_bureau)"
   ]
  },
  {
   "cell_type": "code",
   "execution_count": 139,
   "metadata": {},
   "outputs": [
    {
     "data": {
      "text/plain": [
       "(4412, 24)"
      ]
     },
     "execution_count": 139,
     "metadata": {},
     "output_type": "execute_result"
    }
   ],
   "source": [
    "X_train_bureau.shape"
   ]
  },
  {
   "cell_type": "code",
   "execution_count": 140,
   "metadata": {},
   "outputs": [
    {
     "name": "stdout",
     "output_type": "stream",
     "text": [
      "Index(['AGE', 'INCOME', 'GENDER', 'HAS_APPLIED_BEFORE',\n",
      "       'HAS_INCOME_VERIFICATION', 'EDUCATION_Bachelor Degree',\n",
      "       'EDUCATION_Diploma', 'EDUCATION_High School',\n",
      "       'EDUCATION_Master's Degree/Post graduate', 'EDUCATION_Other',\n",
      "       'LOAN_PURPOSE_Bills', 'LOAN_PURPOSE_Credit card',\n",
      "       'LOAN_PURPOSE_Education', 'LOAN_PURPOSE_Electronic unsecured loan',\n",
      "       'LOAN_PURPOSE_Holiday', 'LOAN_PURPOSE_Housing loan',\n",
      "       'LOAN_PURPOSE_Investment', 'LOAN_PURPOSE_Other',\n",
      "       'LOAN_PURPOSE_Renovation', 'LOAN_PURPOSE_Venture capital',\n",
      "       'LOAN_PURPOSE_Working Capital'],\n",
      "      dtype='object')\n",
      "{'LOANS_WITHOUT_DELAYS', 'LOANS_WITH_DELAYS', 'LOAN_PURPOSE_Car/Motorcycle'}\n"
     ]
    },
    {
     "data": {
      "text/plain": [
       "(574, 24)"
      ]
     },
     "execution_count": 140,
     "metadata": {},
     "output_type": "execute_result"
    }
   ],
   "source": [
    "df_test = pd.concat([x_test, pd.DataFrame(y_test)], axis = 1)\n",
    "\n",
    "# This is our final feature\n",
    "X_test_with_bureau, y_test_with_bureau = feature_engineering(df_test)\n",
    "\n",
    "print(X_test_with_bureau.columns)\n",
    "\n",
    "# check for missing columns \n",
    "X_test_bureau = add_columns(df, X_test_with_bureau)\n",
    "\n",
    "X_test_bureau.shape"
   ]
  },
  {
   "cell_type": "code",
   "execution_count": 141,
   "metadata": {},
   "outputs": [],
   "source": [
    "from collections import Counter\n",
    "from sklearn.datasets import make_classification\n",
    "from imblearn.over_sampling import SMOTE \n",
    "\n",
    "from sklearn.linear_model import LogisticRegression\n",
    "from sklearn.ensemble import RandomForestClassifier\n",
    "from sklearn.tree import DecisionTreeClassifier\n",
    "from sklearn.neighbors import KNeighborsClassifier\n",
    "from lightgbm import LGBMClassifier\n",
    "import xgboost as xgb"
   ]
  },
  {
   "cell_type": "code",
   "execution_count": 142,
   "metadata": {},
   "outputs": [],
   "source": [
    "# Changing everything to float and replacing infinities\n",
    "for c in X_train_bureau.columns:\n",
    "    X_train_bureau[c] = X_train_bureau[c].astype(np.float64)\n",
    "X_train_bureau.replace([np.inf, -np.inf], np.nan, inplace=True)"
   ]
  },
  {
   "cell_type": "code",
   "execution_count": 143,
   "metadata": {
    "tags": []
   },
   "outputs": [
    {
     "data": {
      "text/plain": [
       "AGE                                        0\n",
       "INCOME                                     0\n",
       "GENDER                                     0\n",
       "HAS_APPLIED_BEFORE                         0\n",
       "HAS_INCOME_VERIFICATION                    0\n",
       "LOANS_WITHOUT_DELAYS                       0\n",
       "LOANS_WITH_DELAYS                          0\n",
       "EDUCATION_Bachelor Degree                  0\n",
       "EDUCATION_Diploma                          0\n",
       "EDUCATION_High School                      0\n",
       "EDUCATION_Master's Degree/Post graduate    0\n",
       "EDUCATION_Other                            0\n",
       "LOAN_PURPOSE_Bills                         0\n",
       "LOAN_PURPOSE_Car/Motorcycle                0\n",
       "LOAN_PURPOSE_Credit card                   0\n",
       "LOAN_PURPOSE_Education                     0\n",
       "LOAN_PURPOSE_Electronic unsecured loan     0\n",
       "LOAN_PURPOSE_Holiday                       0\n",
       "LOAN_PURPOSE_Housing loan                  0\n",
       "LOAN_PURPOSE_Investment                    0\n",
       "LOAN_PURPOSE_Other                         0\n",
       "LOAN_PURPOSE_Renovation                    0\n",
       "LOAN_PURPOSE_Venture capital               0\n",
       "LOAN_PURPOSE_Working Capital               0\n",
       "dtype: int64"
      ]
     },
     "execution_count": 143,
     "metadata": {},
     "output_type": "execute_result"
    }
   ],
   "source": [
    "X_train_bureau.isnull().sum()"
   ]
  },
  {
   "cell_type": "code",
   "execution_count": 144,
   "metadata": {},
   "outputs": [],
   "source": [
    "# Fixing column names that contains [,],or < for XGBoost model\n",
    "import re\n",
    "regex = re.compile(r\"\\[|\\]|<\", re.IGNORECASE)\n",
    "X_train_bureau.columns = [regex.sub(\"_\", col) if any(x in str(col) for x in set(('[', ']', '<'))) else col for col in X_train_bureau.columns.values]\n",
    "X_test_bureau.columns = [regex.sub(\"_\", col) if any(x in str(col) for x in set(('[', ']', '<'))) else col for col in X_test_bureau.columns.values]"
   ]
  },
  {
   "cell_type": "code",
   "execution_count": 145,
   "metadata": {},
   "outputs": [
    {
     "name": "stdout",
     "output_type": "stream",
     "text": [
      "Gini Performance Evaluation\n",
      "\n",
      "Logistic Regression Gini : 0.42706674864315475\n",
      "Random Forest Gini       : 0.9776633248644391\n",
      "Decision Tree Gini       : 0.9831663254176157\n",
      "KNN Classifier Gini      : 0.8689794749175783\n",
      "LGBM Gini                : 0.9376841696880427\n",
      "XGBoost Gini             : 0.9483895401069693\n"
     ]
    }
   ],
   "source": [
    "# Check the baseline model\n",
    "def baseline_model(X_train,y_train):\n",
    "  clf_logreg = LogisticRegression().fit(X_train,y_train)\n",
    "  clf_rf = RandomForestClassifier().fit(X_train,y_train)\n",
    "  clf_tree = DecisionTreeClassifier().fit(X_train,y_train)\n",
    "  clf_knn = KNeighborsClassifier().fit(X_train,y_train)\n",
    "  clf_lgbm = LGBMClassifier().fit(X_train,y_train)\n",
    "  clf_xgb = xgb.XGBClassifier().fit(X_train,y_train)\n",
    "\n",
    "  gini_logreg = (2*(roc_auc_score(y_train, clf_logreg.predict_proba(X_train)[:, 1])))-1\n",
    "  gini_rf = (2*(roc_auc_score(y_train, clf_rf.predict_proba(X_train)[:, 1])))-1\n",
    "  gini_tree = (2*(roc_auc_score(y_train, clf_tree.predict_proba(X_train)[:, 1])))-1\n",
    "  gini_knn = (2*(roc_auc_score(y_train, clf_knn.predict_proba(X_train)[:, 1])))-1\n",
    "  gini_lgbm = (2*(roc_auc_score(y_train, clf_lgbm.predict_proba(X_train)[:, 1])))-1\n",
    "  gini_xgb = (2*(roc_auc_score(y_train, clf_xgb.predict_proba(X_train)[:, 1])))-1\n",
    "\n",
    "  print(\"Gini Performance Evaluation\\n\")\n",
    "  print(f\"Logistic Regression Gini : {gini_logreg}\")\n",
    "  print(f\"Random Forest Gini       : {gini_rf}\")\n",
    "  print(f\"Decision Tree Gini       : {gini_tree}\")\n",
    "  print(f\"KNN Classifier Gini      : {gini_knn}\")\n",
    "  print(f\"LGBM Gini                : {gini_lgbm}\")\n",
    "  print(f\"XGBoost Gini             : {gini_xgb}\")\n",
    "\n",
    "  return clf_logreg, clf_rf, clf_tree, clf_knn, clf_lgbm, clf_xgb\n",
    " \n",
    "clf_logreg, clf_rf, clf_tree, clf_knn, clf_lgbm, clf_xgb = baseline_model(X_train_bureau,y_train_with_bureau)"
   ]
  },
  {
   "cell_type": "code",
   "execution_count": 146,
   "metadata": {},
   "outputs": [
    {
     "name": "stdout",
     "output_type": "stream",
     "text": [
      "Best Score tree: 0.7478009766384797\n",
      "Best Hyperparameters: {'min_samples_leaf': 5, 'max_depth': 20, 'criterion': 'entropy'}\n",
      "Best Score rf: 0.8548690649249604\n",
      "Best Hyperparameters: {'min_samples_split': 5, 'min_samples_leaf': 1, 'max_depth': 70}\n",
      "Best Score xgb: 0.8595978136848514\n",
      "Best Hyperparameters: {'fs__k': 10, 'clf__n_estimators': 150, 'clf__max_depth': 3, 'clf__learning_rate': 0.01, 'clf__gamma': 0.2, 'clf__colsample_bytree': 0.1}\n",
      "Wall time: 1min 30s\n"
     ]
    }
   ],
   "source": [
    "%%time\n",
    "\n",
    "clf_xgb = xgb.XGBClassifier()\n",
    "clf_tree = DecisionTreeClassifier()\n",
    "clf_rf = RandomForestClassifier()\n",
    "\n",
    "# Define evaluation\n",
    "cv = RepeatedStratifiedKFold(n_splits=10, n_repeats=2, random_state=420)\n",
    "\n",
    "# Define search space\n",
    "space_tree = dict()\n",
    "space_rf = dict()\n",
    "space_xgb = [\n",
    "  {\n",
    "    'clf__n_estimators': [50, 100, 150, 200],\n",
    "    'clf__learning_rate': [0.01, 0.1, 0.2, 0.3],\n",
    "    'clf__max_depth': range(3, 10),\n",
    "    'clf__colsample_bytree': [i/10.0 for i in range(1, 3)],\n",
    "    'clf__gamma': [i/10.0 for i in range(3)],\n",
    "#     'fs__score_func': [chi2],\n",
    "    'fs__k': [10],\n",
    "  }\n",
    "]\n",
    "\n",
    "max_depth = [int(x) for x in np.linspace(10, 110, num = 11)] #RF\n",
    "max_depth.append(None) #RF\n",
    "space_rf['max_depth'] = max_depth # RF\n",
    "space_rf['min_samples_split'] = [2, 5, 10] # RF\n",
    "space_rf['min_samples_leaf'] = [1, 2, 4] # RF\n",
    "\n",
    "space_tree['max_depth'] = [2, 3, 5, 10, 20] #DT\n",
    "space_tree['min_samples_leaf'] = [5, 10, 20, 50, 100] #DT\n",
    "space_tree['criterion'] = [\"gini\", \"entropy\"] #DT\n",
    "\n",
    "# Define search\n",
    "search_tree = RandomizedSearchCV(clf_tree, space_tree, n_iter=30, scoring='roc_auc', n_jobs=30, cv=cv, random_state=420)\n",
    "search_rf = RandomizedSearchCV(clf_rf, space_rf, n_iter=30, scoring='roc_auc', n_jobs=30, cv=cv, random_state=420)\n",
    "search_xgb = RandomizedSearchCV(clf_xgb, space_xgb, n_iter=30, scoring='roc_auc', n_jobs=30, cv=cv, random_state=420)\n",
    "\n",
    "# Execute search\n",
    "result_tree = search_tree.fit(X_train_bureau, y_train_with_bureau)\n",
    "result_rf = search_rf.fit(X_train_bureau, y_train_with_bureau)\n",
    "result_xgb = search_xgb.fit(X_train_bureau, y_train_with_bureau)\n",
    "\n",
    "# Summarize result\n",
    "print('Best Score tree: %s' % ((result_tree.best_score_ * 2) - 1))\n",
    "print('Best Hyperparameters: %s' % result_tree.best_params_)\n",
    "\n",
    "print('Best Score rf: %s' % ((result_rf.best_score_*2) - 1))\n",
    "print('Best Hyperparameters: %s' % result_rf.best_params_)\n",
    "\n",
    "print('Best Score xgb: %s' % ((result_xgb.best_score_*2) - 1))\n",
    "print('Best Hyperparameters: %s' % result_xgb.best_params_)"
   ]
  },
  {
   "cell_type": "code",
   "execution_count": 147,
   "metadata": {},
   "outputs": [
    {
     "name": "stdout",
     "output_type": "stream",
     "text": [
      "GINI validation data for Decision Tree : 0.08899411157651893\n",
      "GINI validation data for Random Forest : 0.17199052995811326\n",
      "GINI validation data for XGBOOST : 0.1446852425180598\n"
     ]
    }
   ],
   "source": [
    "dt_valid = DecisionTreeClassifier(\n",
    "    min_samples_leaf = 5, \n",
    "    max_depth = 20, \n",
    "    criterion = 'entropy').fit(X_train_bureau,y_train_with_bureau)\n",
    "\n",
    "rf_valid = RandomForestClassifier(\n",
    "    min_samples_split = 2, \n",
    "    min_samples_leaf = 2, \n",
    "    max_depth = 110).fit(X_train_bureau,y_train_with_bureau)\n",
    "\n",
    "xgb_valid = xgb.XGBClassifier(\n",
    "    fs__k= 10, \n",
    "    n_estimators= 150, \n",
    "    max_depth= 3, \n",
    "    learning_rate= 0.01, \n",
    "    gamma= 0.2, \n",
    "    colsample_bytree= 0.1,\n",
    "    verbosity = 0).fit(X_train_bureau,y_train_with_bureau)\n",
    "\n",
    "def gini_value(x, y, model):\n",
    "    return (2*(roc_auc_score(y, model.predict_proba(x)[:, 1])))-1\n",
    "\n",
    "print(\"GINI validation data for Decision Tree :\" , gini_value(X_test_bureau, y_test_with_bureau, dt_valid))\n",
    "print(\"GINI validation data for Random Forest :\" , gini_value(X_test_bureau, y_test_with_bureau, rf_valid))\n",
    "print(\"GINI validation data for XGBOOST :\" , gini_value(X_test_bureau, y_test_with_bureau, xgb_valid))"
   ]
  },
  {
   "cell_type": "code",
   "execution_count": 148,
   "metadata": {},
   "outputs": [
    {
     "name": "stdout",
     "output_type": "stream",
     "text": [
      "              precision    recall  f1-score   support\n",
      "\n",
      "           0       0.57      0.01      0.03       289\n",
      "           1       0.50      0.99      0.66       285\n",
      "\n",
      "    accuracy                           0.50       574\n",
      "   macro avg       0.53      0.50      0.34       574\n",
      "weighted avg       0.53      0.50      0.34       574\n",
      "\n"
     ]
    }
   ],
   "source": [
    "from sklearn.metrics import classification_report\n",
    "\n",
    "y_pred_valid = rf_valid.predict(X_test_bureau)\n",
    "\n",
    "print(classification_report(y_test_with_bureau, y_pred_valid))"
   ]
  },
  {
   "cell_type": "code",
   "execution_count": 149,
   "metadata": {},
   "outputs": [
    {
     "data": {
      "image/png": "[encoded data removed]",
      "text/plain": [
       "<Figure size 432x288 with 1 Axes>"
      ]
     },
     "metadata": {
      "needs_background": "light"
     },
     "output_type": "display_data"
    }
   ],
   "source": [
    "from sklearn.metrics import plot_roc_curve\n",
    "plot_roc_curve(rf_valid,X_test_bureau,y_test_with_bureau)\n",
    "plt.show()"
   ]
  },
  {
   "cell_type": "code",
   "execution_count": 150,
   "metadata": {},
   "outputs": [
    {
     "name": "stdout",
     "output_type": "stream",
     "text": [
      "              precision    recall  f1-score   support\n",
      "\n",
      "           0       0.57      0.01      0.03       289\n",
      "           1       0.50      0.99      0.66       285\n",
      "\n",
      "    accuracy                           0.50       574\n",
      "   macro avg       0.53      0.50      0.34       574\n",
      "weighted avg       0.53      0.50      0.34       574\n",
      "\n"
     ]
    }
   ],
   "source": [
    "from sklearn.metrics import classification_report\n",
    "\n",
    "y_pred_test = rf_valid.predict(X_test_bureau)\n",
    "\n",
    "print(classification_report(y_test_with_bureau, y_pred_test))"
   ]
  },
  {
   "cell_type": "code",
   "execution_count": null,
   "metadata": {},
   "outputs": [],
   "source": []
  }
 ],
 "metadata": {
  "kernelspec": {
   "display_name": "Python 3 (ipykernel)",
   "language": "python",
   "name": "python3"
  },
  "language_info": {
   "codemirror_mode": {
    "name": "ipython",
    "version": 3
   },
   "file_extension": ".py",
   "mimetype": "text/x-python",
   "name": "python",
   "nbconvert_exporter": "python",
   "pygments_lexer": "ipython3",
   "version": "3.7.13"
  }
 },
 "nbformat": 4,
 "nbformat_minor": 4
}
