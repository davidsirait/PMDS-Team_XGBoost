{
 "cells": [
  {
   "cell_type": "markdown",
   "metadata": {},
   "source": [
    "# 1. Problem Statement"
   ]
  },
  {
   "cell_type": "markdown",
   "metadata": {},
   "source": [
    "Credit scoring is an important part of the lending process by bank and financial service company. By accurately scoring a customer according to how likely they are able to pay back their loan, company can have confidence in distributing loans and grow their business. \n",
    "<br>\n",
    "    <br>\n",
    "These datasets that we are going to analyze are part of a technical assessment by one private bank, which record the data of past approved loan customers. The datasets are collections of 3 seperate data : customer information contain the demographic as well as whether they pay back their loan (our target variable), credit bureau data which contain customers past loan application, and an external scoring data. Our goal is therefore to create a model that can accurately predict the probability of a customer paying back their loan, which we will apply to new customer later on. "
   ]
  },
  {
   "cell_type": "markdown",
   "metadata": {},
   "source": [
    "# 2. Import all necessary library "
   ]
  },
  {
   "cell_type": "code",
   "execution_count": 1,
   "metadata": {},
   "outputs": [],
   "source": [
    "import pandas as pd\n",
    "import numpy as np\n",
    "import matplotlib.pyplot as plt\n",
    "import seaborn as sns\n",
    "import warnings\n",
    "warnings.filterwarnings('ignore')\n",
    "\n",
    "\n",
    "from sklearn.model_selection import train_test_split\n",
    "from sklearn.model_selection import train_test_split\n",
    "# from imblearn.under_sampling import RandomUnderSampler\n",
    "from sklearn.preprocessing import OneHotEncoder\n",
    "from sklearn.model_selection import learning_curve\n",
    "from sklearn.model_selection import validation_curve\n",
    "from sklearn.model_selection import GridSearchCV, RepeatedStratifiedKFold, cross_val_score, RandomizedSearchCV\n",
    "from sklearn.preprocessing import StandardScaler\n",
    "from sklearn.metrics import roc_auc_score, classification_report, confusion_matrix, plot_roc_curve, plot_confusion_matrix\n",
    "\n",
    "\n",
    "from sklearn.linear_model import LogisticRegression\n",
    "from sklearn.ensemble import RandomForestClassifier\n",
    "from sklearn.tree import DecisionTreeClassifier\n",
    "from sklearn.neighbors import KNeighborsClassifier\n",
    "from lightgbm import LGBMClassifier\n",
    "import xgboost as xgb"
   ]
  },
  {
   "cell_type": "markdown",
   "metadata": {},
   "source": [
    "# 3. Load all data "
   ]
  },
  {
   "cell_type": "code",
   "execution_count": 2,
   "metadata": {},
   "outputs": [
    {
     "data": {
      "text/html": [
       "<div>\n",
       "<style scoped>\n",
       "    .dataframe tbody tr th:only-of-type {\n",
       "        vertical-align: middle;\n",
       "    }\n",
       "\n",
       "    .dataframe tbody tr th {\n",
       "        vertical-align: top;\n",
       "    }\n",
       "\n",
       "    .dataframe thead th {\n",
       "        text-align: right;\n",
       "    }\n",
       "</style>\n",
       "<table border=\"1\" class=\"dataframe\">\n",
       "  <thead>\n",
       "    <tr style=\"text-align: right;\">\n",
       "      <th></th>\n",
       "      <th>customer_id</th>\n",
       "      <th>AGE</th>\n",
       "      <th>INCOME</th>\n",
       "      <th>GENDER</th>\n",
       "      <th>EDUCATION</th>\n",
       "      <th>LOAN_PURPOSE</th>\n",
       "      <th>APPLICATION_RECEIVE_TIME</th>\n",
       "      <th>HAS_APPLIED_BEFORE</th>\n",
       "      <th>HAS_INCOME_VERIFICATION</th>\n",
       "      <th>LOAN_WAS_PAID_BACK</th>\n",
       "    </tr>\n",
       "  </thead>\n",
       "  <tbody>\n",
       "    <tr>\n",
       "      <th>6583</th>\n",
       "      <td>43180</td>\n",
       "      <td>38</td>\n",
       "      <td>11000000.0</td>\n",
       "      <td>Female</td>\n",
       "      <td>Bachelor Degree</td>\n",
       "      <td>Working Capital</td>\n",
       "      <td>10:54:00</td>\n",
       "      <td>No</td>\n",
       "      <td>Yes</td>\n",
       "      <td>1</td>\n",
       "    </tr>\n",
       "    <tr>\n",
       "      <th>6584</th>\n",
       "      <td>43181</td>\n",
       "      <td>37</td>\n",
       "      <td>30000000.0</td>\n",
       "      <td>Female</td>\n",
       "      <td>Bachelor Degree</td>\n",
       "      <td>Education</td>\n",
       "      <td>07:04:00</td>\n",
       "      <td>No</td>\n",
       "      <td>Yes</td>\n",
       "      <td>1</td>\n",
       "    </tr>\n",
       "    <tr>\n",
       "      <th>6585</th>\n",
       "      <td>43182</td>\n",
       "      <td>50</td>\n",
       "      <td>16000000.0</td>\n",
       "      <td>Female</td>\n",
       "      <td>Master's Degree/Post graduate</td>\n",
       "      <td>Renovation</td>\n",
       "      <td>10:47:00</td>\n",
       "      <td>No</td>\n",
       "      <td>Yes</td>\n",
       "      <td>1</td>\n",
       "    </tr>\n",
       "    <tr>\n",
       "      <th>6586</th>\n",
       "      <td>43184</td>\n",
       "      <td>36</td>\n",
       "      <td>5000000.0</td>\n",
       "      <td>Male</td>\n",
       "      <td>Bachelor Degree</td>\n",
       "      <td>Other</td>\n",
       "      <td>15:49:00</td>\n",
       "      <td>No</td>\n",
       "      <td>Yes</td>\n",
       "      <td>1</td>\n",
       "    </tr>\n",
       "    <tr>\n",
       "      <th>6587</th>\n",
       "      <td>43185</td>\n",
       "      <td>37</td>\n",
       "      <td>40000000.0</td>\n",
       "      <td>Male</td>\n",
       "      <td>Bachelor Degree</td>\n",
       "      <td>Electronic unsecured loan</td>\n",
       "      <td>11:48:00</td>\n",
       "      <td>Yes</td>\n",
       "      <td>Yes</td>\n",
       "      <td>1</td>\n",
       "    </tr>\n",
       "  </tbody>\n",
       "</table>\n",
       "</div>"
      ],
      "text/plain": [
       "      customer_id  AGE      INCOME  GENDER                      EDUCATION  \\\n",
       "6583        43180   38  11000000.0  Female                Bachelor Degree   \n",
       "6584        43181   37  30000000.0  Female                Bachelor Degree   \n",
       "6585        43182   50  16000000.0  Female  Master's Degree/Post graduate   \n",
       "6586        43184   36   5000000.0    Male                Bachelor Degree   \n",
       "6587        43185   37  40000000.0    Male                Bachelor Degree   \n",
       "\n",
       "                   LOAN_PURPOSE APPLICATION_RECEIVE_TIME HAS_APPLIED_BEFORE  \\\n",
       "6583            Working Capital                 10:54:00                 No   \n",
       "6584                  Education                 07:04:00                 No   \n",
       "6585                 Renovation                 10:47:00                 No   \n",
       "6586                      Other                 15:49:00                 No   \n",
       "6587  Electronic unsecured loan                 11:48:00                Yes   \n",
       "\n",
       "     HAS_INCOME_VERIFICATION  LOAN_WAS_PAID_BACK  \n",
       "6583                     Yes                   1  \n",
       "6584                     Yes                   1  \n",
       "6585                     Yes                   1  \n",
       "6586                     Yes                   1  \n",
       "6587                     Yes                   1  "
      ]
     },
     "execution_count": 2,
     "metadata": {},
     "output_type": "execute_result"
    }
   ],
   "source": [
    "master = pd.read_csv(\"./Customer_Information.csv\")\n",
    "master.tail()"
   ]
  },
  {
   "cell_type": "code",
   "execution_count": 3,
   "metadata": {},
   "outputs": [
    {
     "data": {
      "text/html": [
       "<div>\n",
       "<style scoped>\n",
       "    .dataframe tbody tr th:only-of-type {\n",
       "        vertical-align: middle;\n",
       "    }\n",
       "\n",
       "    .dataframe tbody tr th {\n",
       "        vertical-align: top;\n",
       "    }\n",
       "\n",
       "    .dataframe thead th {\n",
       "        text-align: right;\n",
       "    }\n",
       "</style>\n",
       "<table border=\"1\" class=\"dataframe\">\n",
       "  <thead>\n",
       "    <tr style=\"text-align: right;\">\n",
       "      <th></th>\n",
       "      <th>customer_id</th>\n",
       "      <th>LOANS_WITHOUT_DELAYS</th>\n",
       "      <th>LOANS_WITH_DELAYS</th>\n",
       "      <th>KNOWN_ASSETS</th>\n",
       "    </tr>\n",
       "  </thead>\n",
       "  <tbody>\n",
       "    <tr>\n",
       "      <th>0</th>\n",
       "      <td>36493</td>\n",
       "      <td>3</td>\n",
       "      <td>3</td>\n",
       "      <td>40000000.0</td>\n",
       "    </tr>\n",
       "    <tr>\n",
       "      <th>1</th>\n",
       "      <td>36494</td>\n",
       "      <td>3</td>\n",
       "      <td>0</td>\n",
       "      <td>20000000.0</td>\n",
       "    </tr>\n",
       "    <tr>\n",
       "      <th>2</th>\n",
       "      <td>36496</td>\n",
       "      <td>2</td>\n",
       "      <td>1</td>\n",
       "      <td>0.0</td>\n",
       "    </tr>\n",
       "    <tr>\n",
       "      <th>3</th>\n",
       "      <td>36497</td>\n",
       "      <td>1</td>\n",
       "      <td>0</td>\n",
       "      <td>40000000.0</td>\n",
       "    </tr>\n",
       "    <tr>\n",
       "      <th>4</th>\n",
       "      <td>36498</td>\n",
       "      <td>7</td>\n",
       "      <td>0</td>\n",
       "      <td>NaN</td>\n",
       "    </tr>\n",
       "  </tbody>\n",
       "</table>\n",
       "</div>"
      ],
      "text/plain": [
       "   customer_id  LOANS_WITHOUT_DELAYS  LOANS_WITH_DELAYS  KNOWN_ASSETS\n",
       "0        36493                     3                  3    40000000.0\n",
       "1        36494                     3                  0    20000000.0\n",
       "2        36496                     2                  1           0.0\n",
       "3        36497                     1                  0    40000000.0\n",
       "4        36498                     7                  0           NaN"
      ]
     },
     "execution_count": 3,
     "metadata": {},
     "output_type": "execute_result"
    }
   ],
   "source": [
    "bureau = pd.read_csv(\"./Credit_Bureau_Data.csv\")\n",
    "bureau.head()"
   ]
  },
  {
   "cell_type": "code",
   "execution_count": 4,
   "metadata": {},
   "outputs": [
    {
     "data": {
      "text/html": [
       "<div>\n",
       "<style scoped>\n",
       "    .dataframe tbody tr th:only-of-type {\n",
       "        vertical-align: middle;\n",
       "    }\n",
       "\n",
       "    .dataframe tbody tr th {\n",
       "        vertical-align: top;\n",
       "    }\n",
       "\n",
       "    .dataframe thead th {\n",
       "        text-align: right;\n",
       "    }\n",
       "</style>\n",
       "<table border=\"1\" class=\"dataframe\">\n",
       "  <thead>\n",
       "    <tr style=\"text-align: right;\">\n",
       "      <th></th>\n",
       "      <th>customer_id</th>\n",
       "      <th>Score</th>\n",
       "    </tr>\n",
       "  </thead>\n",
       "  <tbody>\n",
       "    <tr>\n",
       "      <th>0</th>\n",
       "      <td>36493</td>\n",
       "      <td>0.77</td>\n",
       "    </tr>\n",
       "    <tr>\n",
       "      <th>1</th>\n",
       "      <td>36494</td>\n",
       "      <td>0.93</td>\n",
       "    </tr>\n",
       "    <tr>\n",
       "      <th>2</th>\n",
       "      <td>36496</td>\n",
       "      <td>0.78</td>\n",
       "    </tr>\n",
       "    <tr>\n",
       "      <th>3</th>\n",
       "      <td>36497</td>\n",
       "      <td>0.81</td>\n",
       "    </tr>\n",
       "    <tr>\n",
       "      <th>4</th>\n",
       "      <td>36498</td>\n",
       "      <td>0.78</td>\n",
       "    </tr>\n",
       "  </tbody>\n",
       "</table>\n",
       "</div>"
      ],
      "text/plain": [
       "   customer_id  Score\n",
       "0        36493   0.77\n",
       "1        36494   0.93\n",
       "2        36496   0.78\n",
       "3        36497   0.81\n",
       "4        36498   0.78"
      ]
     },
     "execution_count": 4,
     "metadata": {},
     "output_type": "execute_result"
    }
   ],
   "source": [
    "external = pd.read_csv(\"./External_Score.csv\")\n",
    "external.head()"
   ]
  },
  {
   "cell_type": "markdown",
   "metadata": {},
   "source": [
    "# 4. Train-test-validation split"
   ]
  },
  {
   "cell_type": "markdown",
   "metadata": {},
   "source": [
    "We are going to do splitting and do all of our analysis on the training dataset only. But first we will combine all 3 datasets into one big dataset"
   ]
  },
  {
   "cell_type": "code",
   "execution_count": 5,
   "metadata": {},
   "outputs": [
    {
     "data": {
      "text/html": [
       "<div>\n",
       "<style scoped>\n",
       "    .dataframe tbody tr th:only-of-type {\n",
       "        vertical-align: middle;\n",
       "    }\n",
       "\n",
       "    .dataframe tbody tr th {\n",
       "        vertical-align: top;\n",
       "    }\n",
       "\n",
       "    .dataframe thead th {\n",
       "        text-align: right;\n",
       "    }\n",
       "</style>\n",
       "<table border=\"1\" class=\"dataframe\">\n",
       "  <thead>\n",
       "    <tr style=\"text-align: right;\">\n",
       "      <th></th>\n",
       "      <th>customer_id</th>\n",
       "      <th>AGE</th>\n",
       "      <th>INCOME</th>\n",
       "      <th>GENDER</th>\n",
       "      <th>EDUCATION</th>\n",
       "      <th>LOAN_PURPOSE</th>\n",
       "      <th>APPLICATION_RECEIVE_TIME</th>\n",
       "      <th>HAS_APPLIED_BEFORE</th>\n",
       "      <th>HAS_INCOME_VERIFICATION</th>\n",
       "      <th>LOAN_WAS_PAID_BACK</th>\n",
       "      <th>LOANS_WITHOUT_DELAYS</th>\n",
       "      <th>LOANS_WITH_DELAYS</th>\n",
       "      <th>KNOWN_ASSETS</th>\n",
       "      <th>Score</th>\n",
       "    </tr>\n",
       "  </thead>\n",
       "  <tbody>\n",
       "    <tr>\n",
       "      <th>0</th>\n",
       "      <td>36493</td>\n",
       "      <td>40</td>\n",
       "      <td>10000000.0</td>\n",
       "      <td>Female</td>\n",
       "      <td>Diploma</td>\n",
       "      <td>Working Capital</td>\n",
       "      <td>09:07:00</td>\n",
       "      <td>No</td>\n",
       "      <td>Yes</td>\n",
       "      <td>1</td>\n",
       "      <td>3.0</td>\n",
       "      <td>3.0</td>\n",
       "      <td>40000000.0</td>\n",
       "      <td>0.77</td>\n",
       "    </tr>\n",
       "    <tr>\n",
       "      <th>1</th>\n",
       "      <td>36494</td>\n",
       "      <td>39</td>\n",
       "      <td>15000000.0</td>\n",
       "      <td>Female</td>\n",
       "      <td>Bachelor Degree</td>\n",
       "      <td>Other</td>\n",
       "      <td>15:15:00</td>\n",
       "      <td>No</td>\n",
       "      <td>Yes</td>\n",
       "      <td>1</td>\n",
       "      <td>3.0</td>\n",
       "      <td>0.0</td>\n",
       "      <td>20000000.0</td>\n",
       "      <td>0.93</td>\n",
       "    </tr>\n",
       "    <tr>\n",
       "      <th>2</th>\n",
       "      <td>36495</td>\n",
       "      <td>28</td>\n",
       "      <td>15000000.0</td>\n",
       "      <td>Male</td>\n",
       "      <td>Bachelor Degree</td>\n",
       "      <td>Renovation</td>\n",
       "      <td>07:13:00</td>\n",
       "      <td>No</td>\n",
       "      <td>Yes</td>\n",
       "      <td>1</td>\n",
       "      <td>NaN</td>\n",
       "      <td>NaN</td>\n",
       "      <td>NaN</td>\n",
       "      <td>NaN</td>\n",
       "    </tr>\n",
       "    <tr>\n",
       "      <th>3</th>\n",
       "      <td>36496</td>\n",
       "      <td>28</td>\n",
       "      <td>4000000.0</td>\n",
       "      <td>Male</td>\n",
       "      <td>Bachelor Degree</td>\n",
       "      <td>Renovation</td>\n",
       "      <td>12:05:00</td>\n",
       "      <td>Yes</td>\n",
       "      <td>Yes</td>\n",
       "      <td>1</td>\n",
       "      <td>2.0</td>\n",
       "      <td>1.0</td>\n",
       "      <td>0.0</td>\n",
       "      <td>0.78</td>\n",
       "    </tr>\n",
       "    <tr>\n",
       "      <th>4</th>\n",
       "      <td>36497</td>\n",
       "      <td>38</td>\n",
       "      <td>10000000.0</td>\n",
       "      <td>Male</td>\n",
       "      <td>Diploma</td>\n",
       "      <td>Renovation</td>\n",
       "      <td>14:35:00</td>\n",
       "      <td>Yes</td>\n",
       "      <td>Yes</td>\n",
       "      <td>0</td>\n",
       "      <td>1.0</td>\n",
       "      <td>0.0</td>\n",
       "      <td>40000000.0</td>\n",
       "      <td>0.81</td>\n",
       "    </tr>\n",
       "  </tbody>\n",
       "</table>\n",
       "</div>"
      ],
      "text/plain": [
       "   customer_id  AGE      INCOME  GENDER        EDUCATION     LOAN_PURPOSE  \\\n",
       "0        36493   40  10000000.0  Female          Diploma  Working Capital   \n",
       "1        36494   39  15000000.0  Female  Bachelor Degree            Other   \n",
       "2        36495   28  15000000.0    Male  Bachelor Degree       Renovation   \n",
       "3        36496   28   4000000.0    Male  Bachelor Degree       Renovation   \n",
       "4        36497   38  10000000.0    Male          Diploma       Renovation   \n",
       "\n",
       "  APPLICATION_RECEIVE_TIME HAS_APPLIED_BEFORE HAS_INCOME_VERIFICATION  \\\n",
       "0                 09:07:00                 No                     Yes   \n",
       "1                 15:15:00                 No                     Yes   \n",
       "2                 07:13:00                 No                     Yes   \n",
       "3                 12:05:00                Yes                     Yes   \n",
       "4                 14:35:00                Yes                     Yes   \n",
       "\n",
       "   LOAN_WAS_PAID_BACK  LOANS_WITHOUT_DELAYS  LOANS_WITH_DELAYS  KNOWN_ASSETS  \\\n",
       "0                   1                   3.0                3.0    40000000.0   \n",
       "1                   1                   3.0                0.0    20000000.0   \n",
       "2                   1                   NaN                NaN           NaN   \n",
       "3                   1                   2.0                1.0           0.0   \n",
       "4                   0                   1.0                0.0    40000000.0   \n",
       "\n",
       "   Score  \n",
       "0   0.77  \n",
       "1   0.93  \n",
       "2    NaN  \n",
       "3   0.78  \n",
       "4   0.81  "
      ]
     },
     "execution_count": 5,
     "metadata": {},
     "output_type": "execute_result"
    }
   ],
   "source": [
    "# merge master and bureau and external data\n",
    "df = pd.merge(master, bureau, on='customer_id', how='left')\n",
    "df = pd.merge(df, external, on='customer_id', how='left')\n",
    "df.head()"
   ]
  },
  {
   "cell_type": "markdown",
   "metadata": {},
   "source": [
    "Then we are splitting into train and test. We will use 70 - 30 split for initial train - holdout(test) data split, and the same proportion for splitting intial train to train - validation dataset.\n",
    "We are going to utilize codes in live classes to make the transformation job easier"
   ]
  },
  {
   "cell_type": "code",
   "execution_count": 6,
   "metadata": {},
   "outputs": [],
   "source": [
    "import joblib\n",
    "\n",
    "def split_input_output(dataset,\n",
    "                       target_column,\n",
    "                       save_file = True,\n",
    "                       return_file = True):\n",
    "    \n",
    "    output_df = dataset[target_column]\n",
    "    input_df = dataset.drop([target_column],\n",
    "                            axis = 1)\n",
    "    \n",
    "    if save_file:\n",
    "        joblib.dump(output_df, \"output/output_df.pkl\")\n",
    "        joblib.dump(input_df, \"output/input_df.pkl\")\n",
    "    \n",
    "    if return_file:\n",
    "        return output_df, input_df\n",
    "\n",
    "\n",
    "def split_train_test(x, y, TEST_SIZE):\n",
    "    # Do not forget to stratify if classification\n",
    "    x_train, x_test,\\\n",
    "        y_train, y_test = train_test_split(x,\n",
    "                                           y,\n",
    "                                           test_size=TEST_SIZE,\n",
    "                                           random_state=123,\n",
    "                                          stratify=y)\n",
    "\n",
    "    return x_train, x_test, y_train, y_test\n",
    "\n",
    "def split_data(data_input, data_ouput, return_file=False, TEST_SIZE=0.2):\n",
    "\n",
    "    x_train, x_test, \\\n",
    "        y_train, y_test = split_train_test(\n",
    "            data_input,\n",
    "            data_ouput,\n",
    "            TEST_SIZE)\n",
    "\n",
    "    x_train, x_valid, \\\n",
    "        y_train, y_valid = split_train_test(\n",
    "            x_train,\n",
    "            y_train,\n",
    "            TEST_SIZE)\n",
    "\n",
    "    joblib.dump(x_train, \"output/x_train2.pkl\")\n",
    "    joblib.dump(y_train, \"output/y_train2.pkl\")\n",
    "    joblib.dump(x_valid, \"output/x_valid2.pkl\")\n",
    "    joblib.dump(y_valid, \"output/y_valid2.pkl\")\n",
    "    joblib.dump(x_test, \"output/x_test2.pkl\")\n",
    "    joblib.dump(y_test, \"output/y_test2.pkl\")\n",
    "\n",
    "    if return_file:\n",
    "        return x_train, y_train, \\\n",
    "            x_valid, y_valid, \\\n",
    "            x_test, y_test"
   ]
  },
  {
   "cell_type": "code",
   "execution_count": 7,
   "metadata": {},
   "outputs": [],
   "source": [
    "# do the splitting\n",
    "TARGET = \"LOAN_WAS_PAID_BACK\"\n",
    "TEST_SIZE = 0.3\n",
    "\n",
    "output_df, input_df = split_input_output(\n",
    "                            df,\n",
    "                            TARGET, save_file = False)\n",
    "\n",
    "x_train, y_train, x_valid, y_valid, x_test, y_test = split_data(input_df,\n",
    "                                                                    output_df,\n",
    "                                                                   True,\n",
    "                                                                   TEST_SIZE)"
   ]
  },
  {
   "cell_type": "code",
   "execution_count": 8,
   "metadata": {},
   "outputs": [
    {
     "name": "stdout",
     "output_type": "stream",
     "text": [
      "1    0.853734\n",
      "0    0.146266\n",
      "Name: LOAN_WAS_PAID_BACK, dtype: float64\n",
      "-------------------------------------\n",
      "1    0.854046\n",
      "0    0.145954\n",
      "Name: LOAN_WAS_PAID_BACK, dtype: float64\n",
      "-------------------------------------\n",
      "1    0.853819\n",
      "0    0.146181\n",
      "Name: LOAN_WAS_PAID_BACK, dtype: float64\n"
     ]
    }
   ],
   "source": [
    "# check if stratify is correct\n",
    "print(y_train.value_counts(normalize = True))\n",
    "print(\"-------------------------------------\")\n",
    "print(y_valid.value_counts(normalize = True))\n",
    "print(\"-------------------------------------\")\n",
    "print(y_test.value_counts(normalize = True))"
   ]
  },
  {
   "cell_type": "code",
   "execution_count": 9,
   "metadata": {},
   "outputs": [
    {
     "data": {
      "text/html": [
       "<div>\n",
       "<style scoped>\n",
       "    .dataframe tbody tr th:only-of-type {\n",
       "        vertical-align: middle;\n",
       "    }\n",
       "\n",
       "    .dataframe tbody tr th {\n",
       "        vertical-align: top;\n",
       "    }\n",
       "\n",
       "    .dataframe thead th {\n",
       "        text-align: right;\n",
       "    }\n",
       "</style>\n",
       "<table border=\"1\" class=\"dataframe\">\n",
       "  <thead>\n",
       "    <tr style=\"text-align: right;\">\n",
       "      <th></th>\n",
       "      <th>customer_id</th>\n",
       "      <th>AGE</th>\n",
       "      <th>INCOME</th>\n",
       "      <th>GENDER</th>\n",
       "      <th>EDUCATION</th>\n",
       "      <th>LOAN_PURPOSE</th>\n",
       "      <th>APPLICATION_RECEIVE_TIME</th>\n",
       "      <th>HAS_APPLIED_BEFORE</th>\n",
       "      <th>HAS_INCOME_VERIFICATION</th>\n",
       "      <th>LOANS_WITHOUT_DELAYS</th>\n",
       "      <th>LOANS_WITH_DELAYS</th>\n",
       "      <th>KNOWN_ASSETS</th>\n",
       "      <th>Score</th>\n",
       "    </tr>\n",
       "  </thead>\n",
       "  <tbody>\n",
       "    <tr>\n",
       "      <th>1749</th>\n",
       "      <td>38242</td>\n",
       "      <td>45</td>\n",
       "      <td>9000000.0</td>\n",
       "      <td>Male</td>\n",
       "      <td>High School</td>\n",
       "      <td>Credit card</td>\n",
       "      <td>17:59:00</td>\n",
       "      <td>No</td>\n",
       "      <td>Yes</td>\n",
       "      <td>3.0</td>\n",
       "      <td>2.0</td>\n",
       "      <td>20000000.0</td>\n",
       "      <td>0.89</td>\n",
       "    </tr>\n",
       "    <tr>\n",
       "      <th>3488</th>\n",
       "      <td>39981</td>\n",
       "      <td>34</td>\n",
       "      <td>12000000.0</td>\n",
       "      <td>Female</td>\n",
       "      <td>Bachelor Degree</td>\n",
       "      <td>Working Capital</td>\n",
       "      <td>11:52:00</td>\n",
       "      <td>Yes</td>\n",
       "      <td>Yes</td>\n",
       "      <td>1.0</td>\n",
       "      <td>3.0</td>\n",
       "      <td>0.0</td>\n",
       "      <td>0.68</td>\n",
       "    </tr>\n",
       "    <tr>\n",
       "      <th>89</th>\n",
       "      <td>36582</td>\n",
       "      <td>26</td>\n",
       "      <td>15000000.0</td>\n",
       "      <td>Female</td>\n",
       "      <td>Bachelor Degree</td>\n",
       "      <td>Holiday</td>\n",
       "      <td>15:34:00</td>\n",
       "      <td>No</td>\n",
       "      <td>Yes</td>\n",
       "      <td>5.0</td>\n",
       "      <td>0.0</td>\n",
       "      <td>NaN</td>\n",
       "      <td>0.72</td>\n",
       "    </tr>\n",
       "    <tr>\n",
       "      <th>6043</th>\n",
       "      <td>42605</td>\n",
       "      <td>36</td>\n",
       "      <td>7000000.0</td>\n",
       "      <td>Male</td>\n",
       "      <td>Bachelor Degree</td>\n",
       "      <td>NaN</td>\n",
       "      <td>11:14:00</td>\n",
       "      <td>Yes</td>\n",
       "      <td>Yes</td>\n",
       "      <td>NaN</td>\n",
       "      <td>NaN</td>\n",
       "      <td>NaN</td>\n",
       "      <td>NaN</td>\n",
       "    </tr>\n",
       "    <tr>\n",
       "      <th>1035</th>\n",
       "      <td>37528</td>\n",
       "      <td>25</td>\n",
       "      <td>5000000.0</td>\n",
       "      <td>Male</td>\n",
       "      <td>Bachelor Degree</td>\n",
       "      <td>Credit card</td>\n",
       "      <td>13:27:00</td>\n",
       "      <td>No</td>\n",
       "      <td>Yes</td>\n",
       "      <td>1.0</td>\n",
       "      <td>0.0</td>\n",
       "      <td>NaN</td>\n",
       "      <td>0.58</td>\n",
       "    </tr>\n",
       "    <tr>\n",
       "      <th>...</th>\n",
       "      <td>...</td>\n",
       "      <td>...</td>\n",
       "      <td>...</td>\n",
       "      <td>...</td>\n",
       "      <td>...</td>\n",
       "      <td>...</td>\n",
       "      <td>...</td>\n",
       "      <td>...</td>\n",
       "      <td>...</td>\n",
       "      <td>...</td>\n",
       "      <td>...</td>\n",
       "      <td>...</td>\n",
       "      <td>...</td>\n",
       "    </tr>\n",
       "    <tr>\n",
       "      <th>1137</th>\n",
       "      <td>37630</td>\n",
       "      <td>27</td>\n",
       "      <td>6000000.0</td>\n",
       "      <td>Male</td>\n",
       "      <td>High School</td>\n",
       "      <td>Working Capital</td>\n",
       "      <td>13:15:00</td>\n",
       "      <td>No</td>\n",
       "      <td>Yes</td>\n",
       "      <td>NaN</td>\n",
       "      <td>NaN</td>\n",
       "      <td>NaN</td>\n",
       "      <td>NaN</td>\n",
       "    </tr>\n",
       "    <tr>\n",
       "      <th>3224</th>\n",
       "      <td>39717</td>\n",
       "      <td>29</td>\n",
       "      <td>9000000.0</td>\n",
       "      <td>Female</td>\n",
       "      <td>Bachelor Degree</td>\n",
       "      <td>Working Capital</td>\n",
       "      <td>06:35:00</td>\n",
       "      <td>No</td>\n",
       "      <td>Yes</td>\n",
       "      <td>1.0</td>\n",
       "      <td>0.0</td>\n",
       "      <td>20000000.0</td>\n",
       "      <td>NaN</td>\n",
       "    </tr>\n",
       "    <tr>\n",
       "      <th>4650</th>\n",
       "      <td>41144</td>\n",
       "      <td>42</td>\n",
       "      <td>5000000.0</td>\n",
       "      <td>Male</td>\n",
       "      <td>Diploma</td>\n",
       "      <td>Credit card</td>\n",
       "      <td>08:05:00</td>\n",
       "      <td>No</td>\n",
       "      <td>Yes</td>\n",
       "      <td>3.0</td>\n",
       "      <td>0.0</td>\n",
       "      <td>10000000.0</td>\n",
       "      <td>0.73</td>\n",
       "    </tr>\n",
       "    <tr>\n",
       "      <th>1135</th>\n",
       "      <td>37628</td>\n",
       "      <td>37</td>\n",
       "      <td>5000000.0</td>\n",
       "      <td>Female</td>\n",
       "      <td>High School</td>\n",
       "      <td>Credit card</td>\n",
       "      <td>18:18:00</td>\n",
       "      <td>No</td>\n",
       "      <td>Yes</td>\n",
       "      <td>2.0</td>\n",
       "      <td>0.0</td>\n",
       "      <td>0.0</td>\n",
       "      <td>0.83</td>\n",
       "    </tr>\n",
       "    <tr>\n",
       "      <th>1395</th>\n",
       "      <td>37888</td>\n",
       "      <td>27</td>\n",
       "      <td>10000000.0</td>\n",
       "      <td>Male</td>\n",
       "      <td>Master's Degree/Post graduate</td>\n",
       "      <td>Renovation</td>\n",
       "      <td>14:12:00</td>\n",
       "      <td>No</td>\n",
       "      <td>Yes</td>\n",
       "      <td>2.0</td>\n",
       "      <td>0.0</td>\n",
       "      <td>0.0</td>\n",
       "      <td>NaN</td>\n",
       "    </tr>\n",
       "  </tbody>\n",
       "</table>\n",
       "<p>3227 rows × 13 columns</p>\n",
       "</div>"
      ],
      "text/plain": [
       "      customer_id  AGE      INCOME  GENDER                      EDUCATION  \\\n",
       "1749        38242   45   9000000.0    Male                    High School   \n",
       "3488        39981   34  12000000.0  Female                Bachelor Degree   \n",
       "89          36582   26  15000000.0  Female                Bachelor Degree   \n",
       "6043        42605   36   7000000.0    Male                Bachelor Degree   \n",
       "1035        37528   25   5000000.0    Male                Bachelor Degree   \n",
       "...           ...  ...         ...     ...                            ...   \n",
       "1137        37630   27   6000000.0    Male                    High School   \n",
       "3224        39717   29   9000000.0  Female                Bachelor Degree   \n",
       "4650        41144   42   5000000.0    Male                        Diploma   \n",
       "1135        37628   37   5000000.0  Female                    High School   \n",
       "1395        37888   27  10000000.0    Male  Master's Degree/Post graduate   \n",
       "\n",
       "         LOAN_PURPOSE APPLICATION_RECEIVE_TIME HAS_APPLIED_BEFORE  \\\n",
       "1749      Credit card                 17:59:00                 No   \n",
       "3488  Working Capital                 11:52:00                Yes   \n",
       "89            Holiday                 15:34:00                 No   \n",
       "6043              NaN                 11:14:00                Yes   \n",
       "1035      Credit card                 13:27:00                 No   \n",
       "...               ...                      ...                ...   \n",
       "1137  Working Capital                 13:15:00                 No   \n",
       "3224  Working Capital                 06:35:00                 No   \n",
       "4650      Credit card                 08:05:00                 No   \n",
       "1135      Credit card                 18:18:00                 No   \n",
       "1395       Renovation                 14:12:00                 No   \n",
       "\n",
       "     HAS_INCOME_VERIFICATION  LOANS_WITHOUT_DELAYS  LOANS_WITH_DELAYS  \\\n",
       "1749                     Yes                   3.0                2.0   \n",
       "3488                     Yes                   1.0                3.0   \n",
       "89                       Yes                   5.0                0.0   \n",
       "6043                     Yes                   NaN                NaN   \n",
       "1035                     Yes                   1.0                0.0   \n",
       "...                      ...                   ...                ...   \n",
       "1137                     Yes                   NaN                NaN   \n",
       "3224                     Yes                   1.0                0.0   \n",
       "4650                     Yes                   3.0                0.0   \n",
       "1135                     Yes                   2.0                0.0   \n",
       "1395                     Yes                   2.0                0.0   \n",
       "\n",
       "      KNOWN_ASSETS  Score  \n",
       "1749    20000000.0   0.89  \n",
       "3488           0.0   0.68  \n",
       "89             NaN   0.72  \n",
       "6043           NaN    NaN  \n",
       "1035           NaN   0.58  \n",
       "...            ...    ...  \n",
       "1137           NaN    NaN  \n",
       "3224    20000000.0    NaN  \n",
       "4650    10000000.0   0.73  \n",
       "1135           0.0   0.83  \n",
       "1395           0.0    NaN  \n",
       "\n",
       "[3227 rows x 13 columns]"
      ]
     },
     "execution_count": 9,
     "metadata": {},
     "output_type": "execute_result"
    }
   ],
   "source": [
    "x_train"
   ]
  },
  {
   "cell_type": "markdown",
   "metadata": {},
   "source": [
    "We can see that we manage to split the target variable with the same proportion accross all dataset"
   ]
  },
  {
   "cell_type": "markdown",
   "metadata": {},
   "source": [
    "# 5. Initial Data Exploration"
   ]
  },
  {
   "cell_type": "markdown",
   "metadata": {},
   "source": [
    "For this initial exploration we are going to combine x_train and y_train into a single dataframe, to know how each feature corelate with the target variable"
   ]
  },
  {
   "cell_type": "code",
   "execution_count": 10,
   "metadata": {},
   "outputs": [
    {
     "data": {
      "text/plain": [
       "array(['customer_id', 'AGE', 'INCOME', 'GENDER', 'EDUCATION',\n",
       "       'LOAN_PURPOSE', 'APPLICATION_RECEIVE_TIME', 'HAS_APPLIED_BEFORE',\n",
       "       'HAS_INCOME_VERIFICATION', 'LOANS_WITHOUT_DELAYS',\n",
       "       'LOANS_WITH_DELAYS', 'KNOWN_ASSETS', 'Score', 'LOAN_WAS_PAID_BACK'],\n",
       "      dtype=object)"
      ]
     },
     "execution_count": 10,
     "metadata": {},
     "output_type": "execute_result"
    }
   ],
   "source": [
    "# combine x_train and y_train\n",
    "df = pd.concat([x_train, pd.DataFrame(y_train)], axis = 1)\n",
    "\n",
    "# check initial features\n",
    "df.columns.values"
   ]
  },
  {
   "cell_type": "markdown",
   "metadata": {},
   "source": [
    "Initial features explanation :\n",
    " - customer_id : unique identification number for each customer\n",
    " - age : customer's age\n",
    " - income : customer's monthly income in rupiah \n",
    " - gender : customer's gender (male/female)\n",
    " - education : customer's last education level \n",
    " - loan_purpose : why the customer apply for a loan\n",
    " - application_receive_time : the time (HH:MM:SS) of when the system receive customer's application\n",
    " - has_applied_before : binary feature which show whether customer's has previously submit an application (1) before the current on, regardless of being approved or not\n",
    " - has_income_verification : has customer provide additional data such as payslip or bank statement to get their income verified\n",
    " - loans_without_delays : count of all the customer's previous loan which has never been late in installment payments\n",
    " - loans_with_delays : count of all the customer's previous loan which has late installment payments\n",
    " - known_assets : amount of declared assets by customer (in rupiah)\n",
    " - score : external scoring done by third party "
   ]
  },
  {
   "cell_type": "markdown",
   "metadata": {},
   "source": [
    "## 5.1 Comments on score feature\n",
    "\n",
    "As it happen, score is an external, third party feature that quite possibly will introduce bias to the data. Since it is supposedly done after the loan was submitted and passed through to the 3rd party, therefore at application time the information will simply unavailable. "
   ]
  },
  {
   "cell_type": "code",
   "execution_count": 11,
   "metadata": {},
   "outputs": [
    {
     "name": "stdout",
     "output_type": "stream",
     "text": [
      "<class 'pandas.core.frame.DataFrame'>\n",
      "Int64Index: 3227 entries, 1749 to 1395\n",
      "Data columns (total 14 columns):\n",
      " #   Column                    Non-Null Count  Dtype  \n",
      "---  ------                    --------------  -----  \n",
      " 0   customer_id               3227 non-null   int64  \n",
      " 1   AGE                       3227 non-null   int64  \n",
      " 2   INCOME                    3226 non-null   float64\n",
      " 3   GENDER                    3227 non-null   object \n",
      " 4   EDUCATION                 3227 non-null   object \n",
      " 5   LOAN_PURPOSE              3202 non-null   object \n",
      " 6   APPLICATION_RECEIVE_TIME  3227 non-null   object \n",
      " 7   HAS_APPLIED_BEFORE        3227 non-null   object \n",
      " 8   HAS_INCOME_VERIFICATION   3227 non-null   object \n",
      " 9   LOANS_WITHOUT_DELAYS      2601 non-null   float64\n",
      " 10  LOANS_WITH_DELAYS         2601 non-null   float64\n",
      " 11  KNOWN_ASSETS              1918 non-null   float64\n",
      " 12  Score                     2298 non-null   float64\n",
      " 13  LOAN_WAS_PAID_BACK        3227 non-null   int64  \n",
      "dtypes: float64(5), int64(3), object(6)\n",
      "memory usage: 378.2+ KB\n"
     ]
    }
   ],
   "source": [
    "# checking data types\n",
    "df.info()"
   ]
  },
  {
   "cell_type": "code",
   "execution_count": 12,
   "metadata": {},
   "outputs": [
    {
     "data": {
      "text/html": [
       "<div>\n",
       "<style scoped>\n",
       "    .dataframe tbody tr th:only-of-type {\n",
       "        vertical-align: middle;\n",
       "    }\n",
       "\n",
       "    .dataframe tbody tr th {\n",
       "        vertical-align: top;\n",
       "    }\n",
       "\n",
       "    .dataframe thead th {\n",
       "        text-align: right;\n",
       "    }\n",
       "</style>\n",
       "<table border=\"1\" class=\"dataframe\">\n",
       "  <thead>\n",
       "    <tr style=\"text-align: right;\">\n",
       "      <th></th>\n",
       "      <th>customer_id</th>\n",
       "      <th>AGE</th>\n",
       "      <th>INCOME</th>\n",
       "      <th>LOANS_WITHOUT_DELAYS</th>\n",
       "      <th>LOANS_WITH_DELAYS</th>\n",
       "      <th>KNOWN_ASSETS</th>\n",
       "      <th>Score</th>\n",
       "      <th>LOAN_WAS_PAID_BACK</th>\n",
       "    </tr>\n",
       "  </thead>\n",
       "  <tbody>\n",
       "    <tr>\n",
       "      <th>count</th>\n",
       "      <td>3227.000000</td>\n",
       "      <td>3227.000000</td>\n",
       "      <td>3.226000e+03</td>\n",
       "      <td>2601.000000</td>\n",
       "      <td>2601.00000</td>\n",
       "      <td>1.918000e+03</td>\n",
       "      <td>2298.000000</td>\n",
       "      <td>3227.000000</td>\n",
       "    </tr>\n",
       "    <tr>\n",
       "      <th>mean</th>\n",
       "      <td>39818.245739</td>\n",
       "      <td>34.391075</td>\n",
       "      <td>8.022319e+06</td>\n",
       "      <td>1.629758</td>\n",
       "      <td>0.39331</td>\n",
       "      <td>1.274765e+07</td>\n",
       "      <td>0.786749</td>\n",
       "      <td>0.853734</td>\n",
       "    </tr>\n",
       "    <tr>\n",
       "      <th>std</th>\n",
       "      <td>1924.671777</td>\n",
       "      <td>7.788081</td>\n",
       "      <td>6.526235e+06</td>\n",
       "      <td>0.811091</td>\n",
       "      <td>0.86350</td>\n",
       "      <td>1.280282e+07</td>\n",
       "      <td>0.083135</td>\n",
       "      <td>0.353427</td>\n",
       "    </tr>\n",
       "    <tr>\n",
       "      <th>min</th>\n",
       "      <td>36497.000000</td>\n",
       "      <td>20.000000</td>\n",
       "      <td>0.000000e+00</td>\n",
       "      <td>1.000000</td>\n",
       "      <td>0.00000</td>\n",
       "      <td>0.000000e+00</td>\n",
       "      <td>0.500000</td>\n",
       "      <td>0.000000</td>\n",
       "    </tr>\n",
       "    <tr>\n",
       "      <th>25%</th>\n",
       "      <td>38147.000000</td>\n",
       "      <td>28.000000</td>\n",
       "      <td>4.000000e+06</td>\n",
       "      <td>1.000000</td>\n",
       "      <td>0.00000</td>\n",
       "      <td>0.000000e+00</td>\n",
       "      <td>0.760000</td>\n",
       "      <td>1.000000</td>\n",
       "    </tr>\n",
       "    <tr>\n",
       "      <th>50%</th>\n",
       "      <td>39791.000000</td>\n",
       "      <td>33.000000</td>\n",
       "      <td>6.000000e+06</td>\n",
       "      <td>1.000000</td>\n",
       "      <td>0.00000</td>\n",
       "      <td>1.000000e+07</td>\n",
       "      <td>0.790000</td>\n",
       "      <td>1.000000</td>\n",
       "    </tr>\n",
       "    <tr>\n",
       "      <th>75%</th>\n",
       "      <td>41471.500000</td>\n",
       "      <td>40.000000</td>\n",
       "      <td>9.000000e+06</td>\n",
       "      <td>2.000000</td>\n",
       "      <td>0.00000</td>\n",
       "      <td>2.000000e+07</td>\n",
       "      <td>0.850000</td>\n",
       "      <td>1.000000</td>\n",
       "    </tr>\n",
       "    <tr>\n",
       "      <th>max</th>\n",
       "      <td>43185.000000</td>\n",
       "      <td>54.000000</td>\n",
       "      <td>7.000000e+07</td>\n",
       "      <td>6.000000</td>\n",
       "      <td>3.00000</td>\n",
       "      <td>5.000000e+07</td>\n",
       "      <td>0.950000</td>\n",
       "      <td>1.000000</td>\n",
       "    </tr>\n",
       "  </tbody>\n",
       "</table>\n",
       "</div>"
      ],
      "text/plain": [
       "        customer_id          AGE        INCOME  LOANS_WITHOUT_DELAYS  \\\n",
       "count   3227.000000  3227.000000  3.226000e+03           2601.000000   \n",
       "mean   39818.245739    34.391075  8.022319e+06              1.629758   \n",
       "std     1924.671777     7.788081  6.526235e+06              0.811091   \n",
       "min    36497.000000    20.000000  0.000000e+00              1.000000   \n",
       "25%    38147.000000    28.000000  4.000000e+06              1.000000   \n",
       "50%    39791.000000    33.000000  6.000000e+06              1.000000   \n",
       "75%    41471.500000    40.000000  9.000000e+06              2.000000   \n",
       "max    43185.000000    54.000000  7.000000e+07              6.000000   \n",
       "\n",
       "       LOANS_WITH_DELAYS  KNOWN_ASSETS        Score  LOAN_WAS_PAID_BACK  \n",
       "count         2601.00000  1.918000e+03  2298.000000         3227.000000  \n",
       "mean             0.39331  1.274765e+07     0.786749            0.853734  \n",
       "std              0.86350  1.280282e+07     0.083135            0.353427  \n",
       "min              0.00000  0.000000e+00     0.500000            0.000000  \n",
       "25%              0.00000  0.000000e+00     0.760000            1.000000  \n",
       "50%              0.00000  1.000000e+07     0.790000            1.000000  \n",
       "75%              0.00000  2.000000e+07     0.850000            1.000000  \n",
       "max              3.00000  5.000000e+07     0.950000            1.000000  "
      ]
     },
     "execution_count": 12,
     "metadata": {},
     "output_type": "execute_result"
    }
   ],
   "source": [
    "# check numerical features distribution\n",
    "df.describe()"
   ]
  },
  {
   "cell_type": "markdown",
   "metadata": {},
   "source": [
    "## 5.2 Notes on numerical data\n",
    "- There are 3277 data out of 6587 total customers (~50%) in the training data\n",
    "- Youngest applicant is at 20 years old, with oldest customer is at 54 years old, average age is around 34 years old. Side note : all loan applicants are required to have KTP as a mandatory documents, meaning that the legal minimum age of applying for a loan is 17 in Indonesia. However, since most people age 17 - 20 are in majority still studying and does not have any income, it is plausible that applicants on that age group are being denied a loan, hence the minimum age in the data. It is also common practice for banks or lending fintech to impose age requirements of 18 - 55, which might be the case in hand\n",
    "- customer id only act as identifier even though it classified as numerical feature\n",
    "- There are customers who input income as 0, which might be because of a typo or they don't have an income source.\n",
    "- Loans with / without delays are bureau data, and they only cover about 80% of the total training data. This is possibly because the remaining customer are first time applicant and don't have their bureau data available, or possibly some error in fetching the bureau data\n",
    "- Most customer  (>75%) no loans with delays in installment payment. \n",
    "- Only about 60% of the customer in the sample has disclosed their known_assets information, and more than 1/4 of them listed 0 \n",
    "- Only one missing value in INCOME variable, which we may drop"
   ]
  },
  {
   "cell_type": "code",
   "execution_count": 13,
   "metadata": {},
   "outputs": [
    {
     "data": {
      "text/html": [
       "<div>\n",
       "<style scoped>\n",
       "    .dataframe tbody tr th:only-of-type {\n",
       "        vertical-align: middle;\n",
       "    }\n",
       "\n",
       "    .dataframe tbody tr th {\n",
       "        vertical-align: top;\n",
       "    }\n",
       "\n",
       "    .dataframe thead th {\n",
       "        text-align: right;\n",
       "    }\n",
       "</style>\n",
       "<table border=\"1\" class=\"dataframe\">\n",
       "  <thead>\n",
       "    <tr style=\"text-align: right;\">\n",
       "      <th></th>\n",
       "      <th>GENDER</th>\n",
       "      <th>EDUCATION</th>\n",
       "      <th>LOAN_PURPOSE</th>\n",
       "      <th>APPLICATION_RECEIVE_TIME</th>\n",
       "      <th>HAS_APPLIED_BEFORE</th>\n",
       "      <th>HAS_INCOME_VERIFICATION</th>\n",
       "    </tr>\n",
       "  </thead>\n",
       "  <tbody>\n",
       "    <tr>\n",
       "      <th>count</th>\n",
       "      <td>3227</td>\n",
       "      <td>3227</td>\n",
       "      <td>3202</td>\n",
       "      <td>3227</td>\n",
       "      <td>3227</td>\n",
       "      <td>3227</td>\n",
       "    </tr>\n",
       "    <tr>\n",
       "      <th>unique</th>\n",
       "      <td>2</td>\n",
       "      <td>5</td>\n",
       "      <td>12</td>\n",
       "      <td>1096</td>\n",
       "      <td>2</td>\n",
       "      <td>2</td>\n",
       "    </tr>\n",
       "    <tr>\n",
       "      <th>top</th>\n",
       "      <td>Male</td>\n",
       "      <td>Bachelor Degree</td>\n",
       "      <td>Working Capital</td>\n",
       "      <td>10:35:00</td>\n",
       "      <td>No</td>\n",
       "      <td>Yes</td>\n",
       "    </tr>\n",
       "    <tr>\n",
       "      <th>freq</th>\n",
       "      <td>1727</td>\n",
       "      <td>1689</td>\n",
       "      <td>994</td>\n",
       "      <td>11</td>\n",
       "      <td>2062</td>\n",
       "      <td>3158</td>\n",
       "    </tr>\n",
       "  </tbody>\n",
       "</table>\n",
       "</div>"
      ],
      "text/plain": [
       "       GENDER        EDUCATION     LOAN_PURPOSE APPLICATION_RECEIVE_TIME  \\\n",
       "count    3227             3227             3202                     3227   \n",
       "unique      2                5               12                     1096   \n",
       "top      Male  Bachelor Degree  Working Capital                 10:35:00   \n",
       "freq     1727             1689              994                       11   \n",
       "\n",
       "       HAS_APPLIED_BEFORE HAS_INCOME_VERIFICATION  \n",
       "count                3227                    3227  \n",
       "unique                  2                       2  \n",
       "top                    No                     Yes  \n",
       "freq                 2062                    3158  "
      ]
     },
     "execution_count": 13,
     "metadata": {},
     "output_type": "execute_result"
    }
   ],
   "source": [
    "# check on categorical features\n",
    "df.describe(include=['O'])"
   ]
  },
  {
   "cell_type": "markdown",
   "metadata": {},
   "source": [
    "## 5.3 Notes on Categorical data\n",
    "- Most feature does not have missing data, other than LOAN_PURPOSE which contains 25 rows of missing data\n",
    "- Application receive time is varying between each customer and only serve as timestamp\n",
    "- most applicant (52%) hold a bachelor's degree\n",
    "- almost 1/3 (31%) of the customer apply for a Working Capital loan\n",
    "- Almost all of the customer in the sample have had their income verified "
   ]
  },
  {
   "cell_type": "markdown",
   "metadata": {},
   "source": [
    "# 6. Feature Engineering "
   ]
  },
  {
   "cell_type": "markdown",
   "metadata": {},
   "source": [
    "Based on all the data we have so far, we are going list some assumptions that might be helpful in selecting and engineering features for the model "
   ]
  },
  {
   "cell_type": "markdown",
   "metadata": {},
   "source": [
    "\n",
    "**Correlating.**\n",
    "\n",
    "We want to know how each feature corellate with our target variable, and is there some pattern in there that might be beneficial later on during the modelling phase\n",
    "\n",
    "**Completing.**\n",
    "\n",
    "1. For LOAN_PURPOSE we are going to drop the rows with missing value\n",
    "2. We may also want to drop row with missing INCOME feature, as per usual business procedure income data is mandatory for both risk policy and credit scoring\n",
    "\n",
    "**Correcting.**\n",
    "\n",
    "1. customer_id can be dropped as it only serve as identifier for each customer\n",
    "2. APPLICATION_RECEIVE_TIME may also be dropped as it only serve as timestamp for the application\n",
    "3. KNOWN_ASSETS is mostly incomplete and possibly biased, therefore may be dropped\n",
    "4. As mentioned earlier, score feature might introduce bias into our data and may be dropped.\n",
    "\n",
    "**Creating.**\n",
    "\n",
    "1. We may want to create new feature for Age bands. This turns a continous numerical feature into an ordinal categorical feature.\n",
    "2. We may want to create scaled_income feature so the INCOME feature are normally distributed\n",
    "\n",
    "**Classifying.**\n",
    "\n",
    "We may want to classify each customer as either having bureau data or not having bureau data. The rationale being that bureau data features (LOAN WITH/WITHOUT DELAYS) are informative in determining whether a customer will default or not. However, since not applicants will have bureau data (especially first time applicant) and to make sure the feature are still utilized fully , we are going to seperate each oncoming application into either of **2 models** : **those with bureau features available will be served with model utilizing those data, while those without will be served with another model using only application/demographic data**."
   ]
  },
  {
   "cell_type": "markdown",
   "metadata": {},
   "source": [
    "## 6.1. Checking correlation of each feature"
   ]
  },
  {
   "cell_type": "markdown",
   "metadata": {},
   "source": [
    "Before checking for corelaltion of each feature .  we are going to drop rows with missing value and columns which are not use as previously discussed in the **Correcting** section"
   ]
  },
  {
   "cell_type": "code",
   "execution_count": 14,
   "metadata": {},
   "outputs": [
    {
     "data": {
      "text/plain": [
       "customer_id                    0\n",
       "AGE                            0\n",
       "INCOME                         1\n",
       "GENDER                         0\n",
       "EDUCATION                      0\n",
       "LOAN_PURPOSE                  25\n",
       "APPLICATION_RECEIVE_TIME       0\n",
       "HAS_APPLIED_BEFORE             0\n",
       "HAS_INCOME_VERIFICATION        0\n",
       "LOANS_WITHOUT_DELAYS         626\n",
       "LOANS_WITH_DELAYS            626\n",
       "KNOWN_ASSETS                1309\n",
       "Score                        929\n",
       "LOAN_WAS_PAID_BACK             0\n",
       "dtype: int64"
      ]
     },
     "execution_count": 14,
     "metadata": {},
     "output_type": "execute_result"
    }
   ],
   "source": [
    "df.isna().sum()"
   ]
  },
  {
   "cell_type": "code",
   "execution_count": 15,
   "metadata": {},
   "outputs": [],
   "source": [
    "# create a data frame copy as backup\n",
    "df1 = df.copy()\n",
    "\n",
    "# drop missing value rows \n",
    "df = df.drop([\"customer_id\", \"APPLICATION_RECEIVE_TIME\", \"KNOWN_ASSETS\", \"Score\"], axis=1)"
   ]
  },
  {
   "cell_type": "code",
   "execution_count": 16,
   "metadata": {},
   "outputs": [],
   "source": [
    "# drop rows with missing value in income and loan_purpose\n",
    "df = df.dropna(subset = ['INCOME', 'LOAN_PURPOSE'])"
   ]
  },
  {
   "cell_type": "code",
   "execution_count": 17,
   "metadata": {},
   "outputs": [
    {
     "data": {
      "text/html": [
       "<div>\n",
       "<style scoped>\n",
       "    .dataframe tbody tr th:only-of-type {\n",
       "        vertical-align: middle;\n",
       "    }\n",
       "\n",
       "    .dataframe tbody tr th {\n",
       "        vertical-align: top;\n",
       "    }\n",
       "\n",
       "    .dataframe thead th {\n",
       "        text-align: right;\n",
       "    }\n",
       "</style>\n",
       "<table border=\"1\" class=\"dataframe\">\n",
       "  <thead>\n",
       "    <tr style=\"text-align: right;\">\n",
       "      <th></th>\n",
       "      <th>GENDER</th>\n",
       "      <th>LOAN_WAS_PAID_BACK</th>\n",
       "    </tr>\n",
       "  </thead>\n",
       "  <tbody>\n",
       "    <tr>\n",
       "      <th>1</th>\n",
       "      <td>Male</td>\n",
       "      <td>0.878646</td>\n",
       "    </tr>\n",
       "    <tr>\n",
       "      <th>0</th>\n",
       "      <td>Female</td>\n",
       "      <td>0.823134</td>\n",
       "    </tr>\n",
       "  </tbody>\n",
       "</table>\n",
       "</div>"
      ],
      "text/plain": [
       "   GENDER  LOAN_WAS_PAID_BACK\n",
       "1    Male            0.878646\n",
       "0  Female            0.823134"
      ]
     },
     "execution_count": 17,
     "metadata": {},
     "output_type": "execute_result"
    }
   ],
   "source": [
    "# check correlation between gender and target variable\n",
    "df[[\"GENDER\", \"LOAN_WAS_PAID_BACK\"]].groupby(['GENDER'], as_index=False).mean().sort_values(by=\"LOAN_WAS_PAID_BACK\", ascending=False)"
   ]
  },
  {
   "cell_type": "code",
   "execution_count": 18,
   "metadata": {},
   "outputs": [
    {
     "data": {
      "text/html": [
       "<div>\n",
       "<style scoped>\n",
       "    .dataframe tbody tr th:only-of-type {\n",
       "        vertical-align: middle;\n",
       "    }\n",
       "\n",
       "    .dataframe tbody tr th {\n",
       "        vertical-align: top;\n",
       "    }\n",
       "\n",
       "    .dataframe thead th {\n",
       "        text-align: right;\n",
       "    }\n",
       "</style>\n",
       "<table border=\"1\" class=\"dataframe\">\n",
       "  <thead>\n",
       "    <tr style=\"text-align: right;\">\n",
       "      <th></th>\n",
       "      <th>EDUCATION</th>\n",
       "      <th>LOAN_WAS_PAID_BACK</th>\n",
       "    </tr>\n",
       "  </thead>\n",
       "  <tbody>\n",
       "    <tr>\n",
       "      <th>3</th>\n",
       "      <td>Master's Degree/Post graduate</td>\n",
       "      <td>0.976471</td>\n",
       "    </tr>\n",
       "    <tr>\n",
       "      <th>0</th>\n",
       "      <td>Bachelor Degree</td>\n",
       "      <td>0.871411</td>\n",
       "    </tr>\n",
       "    <tr>\n",
       "      <th>1</th>\n",
       "      <td>Diploma</td>\n",
       "      <td>0.862709</td>\n",
       "    </tr>\n",
       "    <tr>\n",
       "      <th>4</th>\n",
       "      <td>Other</td>\n",
       "      <td>0.821429</td>\n",
       "    </tr>\n",
       "    <tr>\n",
       "      <th>2</th>\n",
       "      <td>High School</td>\n",
       "      <td>0.800456</td>\n",
       "    </tr>\n",
       "  </tbody>\n",
       "</table>\n",
       "</div>"
      ],
      "text/plain": [
       "                       EDUCATION  LOAN_WAS_PAID_BACK\n",
       "3  Master's Degree/Post graduate            0.976471\n",
       "0                Bachelor Degree            0.871411\n",
       "1                        Diploma            0.862709\n",
       "4                          Other            0.821429\n",
       "2                    High School            0.800456"
      ]
     },
     "execution_count": 18,
     "metadata": {},
     "output_type": "execute_result"
    }
   ],
   "source": [
    "# check correlation between education and target variable\n",
    "df[[\"EDUCATION\", \"LOAN_WAS_PAID_BACK\"]].groupby(['EDUCATION'], as_index=False).mean().sort_values(by=\"LOAN_WAS_PAID_BACK\", ascending=False)"
   ]
  },
  {
   "cell_type": "markdown",
   "metadata": {},
   "source": [
    "There seems to be a clear distinction on default rate between each education level, with master's degree holder are more likely to pay back their loan. \n",
    "We are also going to assume that Other education level is actually covering the primary level education (SD and SMP level), for a much better user experience during serving later on "
   ]
  },
  {
   "cell_type": "code",
   "execution_count": 19,
   "metadata": {},
   "outputs": [
    {
     "data": {
      "text/html": [
       "<div>\n",
       "<style scoped>\n",
       "    .dataframe tbody tr th:only-of-type {\n",
       "        vertical-align: middle;\n",
       "    }\n",
       "\n",
       "    .dataframe tbody tr th {\n",
       "        vertical-align: top;\n",
       "    }\n",
       "\n",
       "    .dataframe thead th {\n",
       "        text-align: right;\n",
       "    }\n",
       "</style>\n",
       "<table border=\"1\" class=\"dataframe\">\n",
       "  <thead>\n",
       "    <tr style=\"text-align: right;\">\n",
       "      <th></th>\n",
       "      <th>LOAN_PURPOSE</th>\n",
       "      <th>LOAN_WAS_PAID_BACK</th>\n",
       "    </tr>\n",
       "  </thead>\n",
       "  <tbody>\n",
       "    <tr>\n",
       "      <th>1</th>\n",
       "      <td>Car/Motorcycle</td>\n",
       "      <td>1.000000</td>\n",
       "    </tr>\n",
       "    <tr>\n",
       "      <th>3</th>\n",
       "      <td>Education</td>\n",
       "      <td>0.962025</td>\n",
       "    </tr>\n",
       "    <tr>\n",
       "      <th>10</th>\n",
       "      <td>Venture capital</td>\n",
       "      <td>0.953846</td>\n",
       "    </tr>\n",
       "    <tr>\n",
       "      <th>4</th>\n",
       "      <td>Electronic unsecured loan</td>\n",
       "      <td>0.896226</td>\n",
       "    </tr>\n",
       "    <tr>\n",
       "      <th>9</th>\n",
       "      <td>Renovation</td>\n",
       "      <td>0.873743</td>\n",
       "    </tr>\n",
       "    <tr>\n",
       "      <th>2</th>\n",
       "      <td>Credit card</td>\n",
       "      <td>0.858146</td>\n",
       "    </tr>\n",
       "    <tr>\n",
       "      <th>7</th>\n",
       "      <td>Investment</td>\n",
       "      <td>0.846154</td>\n",
       "    </tr>\n",
       "    <tr>\n",
       "      <th>5</th>\n",
       "      <td>Holiday</td>\n",
       "      <td>0.843750</td>\n",
       "    </tr>\n",
       "    <tr>\n",
       "      <th>0</th>\n",
       "      <td>Bills</td>\n",
       "      <td>0.841463</td>\n",
       "    </tr>\n",
       "    <tr>\n",
       "      <th>8</th>\n",
       "      <td>Other</td>\n",
       "      <td>0.837209</td>\n",
       "    </tr>\n",
       "    <tr>\n",
       "      <th>6</th>\n",
       "      <td>Housing loan</td>\n",
       "      <td>0.833333</td>\n",
       "    </tr>\n",
       "    <tr>\n",
       "      <th>11</th>\n",
       "      <td>Working Capital</td>\n",
       "      <td>0.813883</td>\n",
       "    </tr>\n",
       "  </tbody>\n",
       "</table>\n",
       "</div>"
      ],
      "text/plain": [
       "                 LOAN_PURPOSE  LOAN_WAS_PAID_BACK\n",
       "1              Car/Motorcycle            1.000000\n",
       "3                   Education            0.962025\n",
       "10            Venture capital            0.953846\n",
       "4   Electronic unsecured loan            0.896226\n",
       "9                  Renovation            0.873743\n",
       "2                 Credit card            0.858146\n",
       "7                  Investment            0.846154\n",
       "5                     Holiday            0.843750\n",
       "0                       Bills            0.841463\n",
       "8                       Other            0.837209\n",
       "6                Housing loan            0.833333\n",
       "11            Working Capital            0.813883"
      ]
     },
     "execution_count": 19,
     "metadata": {},
     "output_type": "execute_result"
    }
   ],
   "source": [
    "# check correlation loan_purpose and target variable\n",
    "df[[\"LOAN_PURPOSE\", \"LOAN_WAS_PAID_BACK\"]].groupby(['LOAN_PURPOSE'], as_index=False).mean().sort_values(by=\"LOAN_WAS_PAID_BACK\", ascending=False)"
   ]
  },
  {
   "cell_type": "markdown",
   "metadata": {},
   "source": [
    "Loan purpose shows some trend in which certain loan purpose customer's are more likely to pay back their loan"
   ]
  },
  {
   "cell_type": "code",
   "execution_count": 20,
   "metadata": {},
   "outputs": [
    {
     "data": {
      "text/html": [
       "<div>\n",
       "<style scoped>\n",
       "    .dataframe tbody tr th:only-of-type {\n",
       "        vertical-align: middle;\n",
       "    }\n",
       "\n",
       "    .dataframe tbody tr th {\n",
       "        vertical-align: top;\n",
       "    }\n",
       "\n",
       "    .dataframe thead th {\n",
       "        text-align: right;\n",
       "    }\n",
       "</style>\n",
       "<table border=\"1\" class=\"dataframe\">\n",
       "  <thead>\n",
       "    <tr style=\"text-align: right;\">\n",
       "      <th></th>\n",
       "      <th>HAS_APPLIED_BEFORE</th>\n",
       "      <th>LOAN_WAS_PAID_BACK</th>\n",
       "    </tr>\n",
       "  </thead>\n",
       "  <tbody>\n",
       "    <tr>\n",
       "      <th>0</th>\n",
       "      <td>No</td>\n",
       "      <td>0.882411</td>\n",
       "    </tr>\n",
       "    <tr>\n",
       "      <th>1</th>\n",
       "      <td>Yes</td>\n",
       "      <td>0.800862</td>\n",
       "    </tr>\n",
       "  </tbody>\n",
       "</table>\n",
       "</div>"
      ],
      "text/plain": [
       "  HAS_APPLIED_BEFORE  LOAN_WAS_PAID_BACK\n",
       "0                 No            0.882411\n",
       "1                Yes            0.800862"
      ]
     },
     "execution_count": 20,
     "metadata": {},
     "output_type": "execute_result"
    }
   ],
   "source": [
    "# check correlation between has_applied_before and target variable\n",
    "df[[\"HAS_APPLIED_BEFORE\", \"LOAN_WAS_PAID_BACK\"]].groupby(['HAS_APPLIED_BEFORE'], as_index=False).mean().sort_values(by=\"LOAN_WAS_PAID_BACK\", ascending=False)"
   ]
  },
  {
   "cell_type": "code",
   "execution_count": 21,
   "metadata": {},
   "outputs": [
    {
     "data": {
      "text/html": [
       "<div>\n",
       "<style scoped>\n",
       "    .dataframe tbody tr th:only-of-type {\n",
       "        vertical-align: middle;\n",
       "    }\n",
       "\n",
       "    .dataframe tbody tr th {\n",
       "        vertical-align: top;\n",
       "    }\n",
       "\n",
       "    .dataframe thead th {\n",
       "        text-align: right;\n",
       "    }\n",
       "</style>\n",
       "<table border=\"1\" class=\"dataframe\">\n",
       "  <thead>\n",
       "    <tr style=\"text-align: right;\">\n",
       "      <th></th>\n",
       "      <th>HAS_INCOME_VERIFICATION</th>\n",
       "      <th>LOAN_WAS_PAID_BACK</th>\n",
       "    </tr>\n",
       "  </thead>\n",
       "  <tbody>\n",
       "    <tr>\n",
       "      <th>1</th>\n",
       "      <td>Yes</td>\n",
       "      <td>0.855364</td>\n",
       "    </tr>\n",
       "    <tr>\n",
       "      <th>0</th>\n",
       "      <td>No</td>\n",
       "      <td>0.739130</td>\n",
       "    </tr>\n",
       "  </tbody>\n",
       "</table>\n",
       "</div>"
      ],
      "text/plain": [
       "  HAS_INCOME_VERIFICATION  LOAN_WAS_PAID_BACK\n",
       "1                     Yes            0.855364\n",
       "0                      No            0.739130"
      ]
     },
     "execution_count": 21,
     "metadata": {},
     "output_type": "execute_result"
    }
   ],
   "source": [
    "# check correlation between has_income_verification and target variable\n",
    "df[[\"HAS_INCOME_VERIFICATION\", \"LOAN_WAS_PAID_BACK\"]].groupby(['HAS_INCOME_VERIFICATION'], as_index=False).mean().sort_values(by=\"LOAN_WAS_PAID_BACK\", ascending=False)"
   ]
  },
  {
   "cell_type": "markdown",
   "metadata": {},
   "source": [
    "# 7. Exploratory Data Analysis (EDA) "
   ]
  },
  {
   "cell_type": "markdown",
   "metadata": {},
   "source": [
    "It might be beneficial to see how our target variable is distributed on our training dataset, to get much clearer sense on the problem"
   ]
  },
  {
   "cell_type": "code",
   "execution_count": 22,
   "metadata": {},
   "outputs": [
    {
     "data": {
      "image/png": "[encoded data removed]",
      "text/plain": [
       "<Figure size 576x576 with 1 Axes>"
      ]
     },
     "metadata": {},
     "output_type": "display_data"
    }
   ],
   "source": [
    "%matplotlib inline\n",
    "\n",
    "# Showing the distribution of our target variable\n",
    "plt.figure(figsize = (8,8))\n",
    "plt.pie(\n",
    "    x = df['LOAN_WAS_PAID_BACK'].value_counts(),\n",
    "    labels = ['Not Defaulted','Defaulted'],\n",
    "    autopct = '%1.2f%%',\n",
    "    shadow = True,\n",
    "    explode = (0.3,0)\n",
    ")\n",
    "plt.title('Not Defaulted vs Defaulted')\n",
    "plt.show();"
   ]
  },
  {
   "cell_type": "markdown",
   "metadata": {},
   "source": [
    "The chart shows that we are facing and imbalanced problem, which might need further processing later on during modelling"
   ]
  },
  {
   "cell_type": "markdown",
   "metadata": {},
   "source": [
    "## 7.1. Distribution of age"
   ]
  },
  {
   "cell_type": "code",
   "execution_count": 23,
   "metadata": {},
   "outputs": [
    {
     "data": {
      "image/png": "[encoded data removed]",
      "text/plain": [
       "<Figure size 720x432 with 1 Axes>"
      ]
     },
     "metadata": {
      "needs_background": "light"
     },
     "output_type": "display_data"
    }
   ],
   "source": [
    "plt.figure(figsize=(10,6))\n",
    "plt.grid(True, alpha=0.5)\n",
    "sns.kdeplot(df.loc[df['LOAN_WAS_PAID_BACK'] == 1, 'AGE'] , label = 'Not Defaulted')\n",
    "sns.kdeplot(df.loc[df['LOAN_WAS_PAID_BACK'] == 0, 'AGE'] ,  label = 'Defaulted')\n",
    "plt.axvline(df.AGE.mean(), 0, 1, label = 'mean', color = 'r', ls = '--')\n",
    "plt.axvline(df.AGE.median(), 0, 1, label = 'median', color = 'g', ls = '--')\n",
    "plt.xlabel('Age (years)')\n",
    "plt.ylabel('Density')\n",
    "plt.legend()\n",
    "plt.title('Distribution of Age of Client (in Years)');"
   ]
  },
  {
   "cell_type": "markdown",
   "metadata": {},
   "source": [
    "**What we discover**\n",
    "\n",
    "We can see some pattern where customer below the median age are more likely to default. While older customer tend to pay back their loan more. However we can try binning the age feature and see how it corellated with our target variable."
   ]
  },
  {
   "cell_type": "markdown",
   "metadata": {},
   "source": [
    "### 7.1.1. binning age"
   ]
  },
  {
   "cell_type": "code",
   "execution_count": 24,
   "metadata": {},
   "outputs": [
    {
     "data": {
      "text/html": [
       "<div>\n",
       "<style scoped>\n",
       "    .dataframe tbody tr th:only-of-type {\n",
       "        vertical-align: middle;\n",
       "    }\n",
       "\n",
       "    .dataframe tbody tr th {\n",
       "        vertical-align: top;\n",
       "    }\n",
       "\n",
       "    .dataframe thead th {\n",
       "        text-align: right;\n",
       "    }\n",
       "</style>\n",
       "<table border=\"1\" class=\"dataframe\">\n",
       "  <thead>\n",
       "    <tr style=\"text-align: right;\">\n",
       "      <th></th>\n",
       "      <th>AgeBand</th>\n",
       "      <th>LOAN_WAS_PAID_BACK</th>\n",
       "    </tr>\n",
       "  </thead>\n",
       "  <tbody>\n",
       "    <tr>\n",
       "      <th>0</th>\n",
       "      <td>(20.0, 27.0]</td>\n",
       "      <td>0.838475</td>\n",
       "    </tr>\n",
       "    <tr>\n",
       "      <th>1</th>\n",
       "      <td>(27.0, 34.0]</td>\n",
       "      <td>0.845005</td>\n",
       "    </tr>\n",
       "    <tr>\n",
       "      <th>2</th>\n",
       "      <td>(34.0, 40.0]</td>\n",
       "      <td>0.862837</td>\n",
       "    </tr>\n",
       "    <tr>\n",
       "      <th>3</th>\n",
       "      <td>(40.0, 47.0]</td>\n",
       "      <td>0.851406</td>\n",
       "    </tr>\n",
       "    <tr>\n",
       "      <th>4</th>\n",
       "      <td>(47.0, 54.0]</td>\n",
       "      <td>0.890351</td>\n",
       "    </tr>\n",
       "  </tbody>\n",
       "</table>\n",
       "</div>"
      ],
      "text/plain": [
       "        AgeBand  LOAN_WAS_PAID_BACK\n",
       "0  (20.0, 27.0]            0.838475\n",
       "1  (27.0, 34.0]            0.845005\n",
       "2  (34.0, 40.0]            0.862837\n",
       "3  (40.0, 47.0]            0.851406\n",
       "4  (47.0, 54.0]            0.890351"
      ]
     },
     "execution_count": 24,
     "metadata": {},
     "output_type": "execute_result"
    }
   ],
   "source": [
    "# binning age into 5 categories\n",
    "df['AgeBand'] = pd.cut(df['AGE'], 5, precision = 0)\n",
    "df[['AgeBand', 'LOAN_WAS_PAID_BACK']].groupby(['AgeBand'], as_index=False).mean().sort_values(by='AgeBand', ascending=True)"
   ]
  },
  {
   "cell_type": "markdown",
   "metadata": {},
   "source": [
    "By binning the age into 5 groups we have validated our previous assumption, although there is a slight variation in the age group between 40 and 47. We will therefore proceed with binning age into a categorical feature"
   ]
  },
  {
   "cell_type": "code",
   "execution_count": 25,
   "metadata": {},
   "outputs": [
    {
     "data": {
      "text/html": [
       "<div>\n",
       "<style scoped>\n",
       "    .dataframe tbody tr th:only-of-type {\n",
       "        vertical-align: middle;\n",
       "    }\n",
       "\n",
       "    .dataframe tbody tr th {\n",
       "        vertical-align: top;\n",
       "    }\n",
       "\n",
       "    .dataframe thead th {\n",
       "        text-align: right;\n",
       "    }\n",
       "</style>\n",
       "<table border=\"1\" class=\"dataframe\">\n",
       "  <thead>\n",
       "    <tr style=\"text-align: right;\">\n",
       "      <th></th>\n",
       "      <th>AGE</th>\n",
       "      <th>INCOME</th>\n",
       "      <th>GENDER</th>\n",
       "      <th>EDUCATION</th>\n",
       "      <th>LOAN_PURPOSE</th>\n",
       "      <th>HAS_APPLIED_BEFORE</th>\n",
       "      <th>HAS_INCOME_VERIFICATION</th>\n",
       "      <th>LOANS_WITHOUT_DELAYS</th>\n",
       "      <th>LOANS_WITH_DELAYS</th>\n",
       "      <th>LOAN_WAS_PAID_BACK</th>\n",
       "      <th>AgeBand</th>\n",
       "    </tr>\n",
       "  </thead>\n",
       "  <tbody>\n",
       "    <tr>\n",
       "      <th>1749</th>\n",
       "      <td>3</td>\n",
       "      <td>9000000.0</td>\n",
       "      <td>Male</td>\n",
       "      <td>High School</td>\n",
       "      <td>Credit card</td>\n",
       "      <td>No</td>\n",
       "      <td>Yes</td>\n",
       "      <td>3.0</td>\n",
       "      <td>2.0</td>\n",
       "      <td>1</td>\n",
       "      <td>(40.0, 47.0]</td>\n",
       "    </tr>\n",
       "    <tr>\n",
       "      <th>3488</th>\n",
       "      <td>1</td>\n",
       "      <td>12000000.0</td>\n",
       "      <td>Female</td>\n",
       "      <td>Bachelor Degree</td>\n",
       "      <td>Working Capital</td>\n",
       "      <td>Yes</td>\n",
       "      <td>Yes</td>\n",
       "      <td>1.0</td>\n",
       "      <td>3.0</td>\n",
       "      <td>1</td>\n",
       "      <td>(34.0, 40.0]</td>\n",
       "    </tr>\n",
       "    <tr>\n",
       "      <th>89</th>\n",
       "      <td>1</td>\n",
       "      <td>15000000.0</td>\n",
       "      <td>Female</td>\n",
       "      <td>Bachelor Degree</td>\n",
       "      <td>Holiday</td>\n",
       "      <td>No</td>\n",
       "      <td>Yes</td>\n",
       "      <td>5.0</td>\n",
       "      <td>0.0</td>\n",
       "      <td>1</td>\n",
       "      <td>(20.0, 27.0]</td>\n",
       "    </tr>\n",
       "    <tr>\n",
       "      <th>1035</th>\n",
       "      <td>1</td>\n",
       "      <td>5000000.0</td>\n",
       "      <td>Male</td>\n",
       "      <td>Bachelor Degree</td>\n",
       "      <td>Credit card</td>\n",
       "      <td>No</td>\n",
       "      <td>Yes</td>\n",
       "      <td>1.0</td>\n",
       "      <td>0.0</td>\n",
       "      <td>1</td>\n",
       "      <td>(20.0, 27.0]</td>\n",
       "    </tr>\n",
       "    <tr>\n",
       "      <th>386</th>\n",
       "      <td>3</td>\n",
       "      <td>10000000.0</td>\n",
       "      <td>Female</td>\n",
       "      <td>Bachelor Degree</td>\n",
       "      <td>Working Capital</td>\n",
       "      <td>No</td>\n",
       "      <td>Yes</td>\n",
       "      <td>3.0</td>\n",
       "      <td>1.0</td>\n",
       "      <td>1</td>\n",
       "      <td>(40.0, 47.0]</td>\n",
       "    </tr>\n",
       "  </tbody>\n",
       "</table>\n",
       "</div>"
      ],
      "text/plain": [
       "      AGE      INCOME  GENDER        EDUCATION     LOAN_PURPOSE  \\\n",
       "1749    3   9000000.0    Male      High School      Credit card   \n",
       "3488    1  12000000.0  Female  Bachelor Degree  Working Capital   \n",
       "89      1  15000000.0  Female  Bachelor Degree          Holiday   \n",
       "1035    1   5000000.0    Male  Bachelor Degree      Credit card   \n",
       "386     3  10000000.0  Female  Bachelor Degree  Working Capital   \n",
       "\n",
       "     HAS_APPLIED_BEFORE HAS_INCOME_VERIFICATION  LOANS_WITHOUT_DELAYS  \\\n",
       "1749                 No                     Yes                   3.0   \n",
       "3488                Yes                     Yes                   1.0   \n",
       "89                   No                     Yes                   5.0   \n",
       "1035                 No                     Yes                   1.0   \n",
       "386                  No                     Yes                   3.0   \n",
       "\n",
       "      LOANS_WITH_DELAYS  LOAN_WAS_PAID_BACK       AgeBand  \n",
       "1749                2.0                   1  (40.0, 47.0]  \n",
       "3488                3.0                   1  (34.0, 40.0]  \n",
       "89                  0.0                   1  (20.0, 27.0]  \n",
       "1035                0.0                   1  (20.0, 27.0]  \n",
       "386                 1.0                   1  (40.0, 47.0]  "
      ]
     },
     "execution_count": 25,
     "metadata": {},
     "output_type": "execute_result"
    }
   ],
   "source": [
    "# replace AGE with ordinals\n",
    "\n",
    "df.loc[ df['AGE'] <= 20, 'AGE'] = 0\n",
    "df.loc[(df['AGE'] > 20) & (df['AGE'] <= 34), 'AGE'] = 1\n",
    "df.loc[(df['AGE'] > 34) & (df['AGE'] <= 40), 'AGE'] = 2\n",
    "df.loc[(df['AGE'] > 40) & (df['AGE'] <= 47), 'AGE'] = 3\n",
    "df.loc[ df['AGE'] > 47, 'AGE'] = 4\n",
    "df.head()"
   ]
  },
  {
   "cell_type": "code",
   "execution_count": 26,
   "metadata": {},
   "outputs": [
    {
     "data": {
      "text/html": [
       "<div>\n",
       "<style scoped>\n",
       "    .dataframe tbody tr th:only-of-type {\n",
       "        vertical-align: middle;\n",
       "    }\n",
       "\n",
       "    .dataframe tbody tr th {\n",
       "        vertical-align: top;\n",
       "    }\n",
       "\n",
       "    .dataframe thead th {\n",
       "        text-align: right;\n",
       "    }\n",
       "</style>\n",
       "<table border=\"1\" class=\"dataframe\">\n",
       "  <thead>\n",
       "    <tr style=\"text-align: right;\">\n",
       "      <th></th>\n",
       "      <th>AGE</th>\n",
       "      <th>INCOME</th>\n",
       "      <th>GENDER</th>\n",
       "      <th>EDUCATION</th>\n",
       "      <th>LOAN_PURPOSE</th>\n",
       "      <th>HAS_APPLIED_BEFORE</th>\n",
       "      <th>HAS_INCOME_VERIFICATION</th>\n",
       "      <th>LOANS_WITHOUT_DELAYS</th>\n",
       "      <th>LOANS_WITH_DELAYS</th>\n",
       "      <th>LOAN_WAS_PAID_BACK</th>\n",
       "    </tr>\n",
       "  </thead>\n",
       "  <tbody>\n",
       "    <tr>\n",
       "      <th>1749</th>\n",
       "      <td>3</td>\n",
       "      <td>9000000.0</td>\n",
       "      <td>Male</td>\n",
       "      <td>High School</td>\n",
       "      <td>Credit card</td>\n",
       "      <td>No</td>\n",
       "      <td>Yes</td>\n",
       "      <td>3.0</td>\n",
       "      <td>2.0</td>\n",
       "      <td>1</td>\n",
       "    </tr>\n",
       "    <tr>\n",
       "      <th>3488</th>\n",
       "      <td>1</td>\n",
       "      <td>12000000.0</td>\n",
       "      <td>Female</td>\n",
       "      <td>Bachelor Degree</td>\n",
       "      <td>Working Capital</td>\n",
       "      <td>Yes</td>\n",
       "      <td>Yes</td>\n",
       "      <td>1.0</td>\n",
       "      <td>3.0</td>\n",
       "      <td>1</td>\n",
       "    </tr>\n",
       "    <tr>\n",
       "      <th>89</th>\n",
       "      <td>1</td>\n",
       "      <td>15000000.0</td>\n",
       "      <td>Female</td>\n",
       "      <td>Bachelor Degree</td>\n",
       "      <td>Holiday</td>\n",
       "      <td>No</td>\n",
       "      <td>Yes</td>\n",
       "      <td>5.0</td>\n",
       "      <td>0.0</td>\n",
       "      <td>1</td>\n",
       "    </tr>\n",
       "    <tr>\n",
       "      <th>1035</th>\n",
       "      <td>1</td>\n",
       "      <td>5000000.0</td>\n",
       "      <td>Male</td>\n",
       "      <td>Bachelor Degree</td>\n",
       "      <td>Credit card</td>\n",
       "      <td>No</td>\n",
       "      <td>Yes</td>\n",
       "      <td>1.0</td>\n",
       "      <td>0.0</td>\n",
       "      <td>1</td>\n",
       "    </tr>\n",
       "    <tr>\n",
       "      <th>386</th>\n",
       "      <td>3</td>\n",
       "      <td>10000000.0</td>\n",
       "      <td>Female</td>\n",
       "      <td>Bachelor Degree</td>\n",
       "      <td>Working Capital</td>\n",
       "      <td>No</td>\n",
       "      <td>Yes</td>\n",
       "      <td>3.0</td>\n",
       "      <td>1.0</td>\n",
       "      <td>1</td>\n",
       "    </tr>\n",
       "  </tbody>\n",
       "</table>\n",
       "</div>"
      ],
      "text/plain": [
       "      AGE      INCOME  GENDER        EDUCATION     LOAN_PURPOSE  \\\n",
       "1749    3   9000000.0    Male      High School      Credit card   \n",
       "3488    1  12000000.0  Female  Bachelor Degree  Working Capital   \n",
       "89      1  15000000.0  Female  Bachelor Degree          Holiday   \n",
       "1035    1   5000000.0    Male  Bachelor Degree      Credit card   \n",
       "386     3  10000000.0  Female  Bachelor Degree  Working Capital   \n",
       "\n",
       "     HAS_APPLIED_BEFORE HAS_INCOME_VERIFICATION  LOANS_WITHOUT_DELAYS  \\\n",
       "1749                 No                     Yes                   3.0   \n",
       "3488                Yes                     Yes                   1.0   \n",
       "89                   No                     Yes                   5.0   \n",
       "1035                 No                     Yes                   1.0   \n",
       "386                  No                     Yes                   3.0   \n",
       "\n",
       "      LOANS_WITH_DELAYS  LOAN_WAS_PAID_BACK  \n",
       "1749                2.0                   1  \n",
       "3488                3.0                   1  \n",
       "89                  0.0                   1  \n",
       "1035                0.0                   1  \n",
       "386                 1.0                   1  "
      ]
     },
     "execution_count": 26,
     "metadata": {},
     "output_type": "execute_result"
    }
   ],
   "source": [
    "# remove ageband\n",
    "df = df.drop(['AgeBand'], axis=1)\n",
    "df.head()"
   ]
  },
  {
   "cell_type": "markdown",
   "metadata": {},
   "source": [
    "## 7.2. Distribution of INCOME variable"
   ]
  },
  {
   "cell_type": "code",
   "execution_count": 27,
   "metadata": {},
   "outputs": [
    {
     "data": {
      "image/png": "[encoded data removed]",
      "text/plain": [
       "<Figure size 720x432 with 1 Axes>"
      ]
     },
     "metadata": {
      "needs_background": "light"
     },
     "output_type": "display_data"
    }
   ],
   "source": [
    "plt.figure(figsize=(10,6))\n",
    "plt.grid(True, alpha=0.5)\n",
    "sns.kdeplot(df.loc[df['LOAN_WAS_PAID_BACK'] == 1, 'INCOME'] , label = 'Paid')\n",
    "sns.kdeplot(df.loc[df['LOAN_WAS_PAID_BACK'] == 0, 'INCOME'] ,  label = 'Not Paid')\n",
    "plt.axvline(df.INCOME.mean(), 0, 1, label = 'mean', color = 'r', ls = '--')\n",
    "plt.axvline(df.INCOME.median(), 0, 1, label = 'median', color = 'g', ls = '--')\n",
    "plt.xlabel('INCOME')\n",
    "plt.ylabel('Density')\n",
    "plt.legend()\n",
    "plt.title('Distribution of INCOME');"
   ]
  },
  {
   "cell_type": "markdown",
   "metadata": {},
   "source": [
    "**What we discover**\n",
    "\n",
    "Income feature are quite skewed with outliers. However we can see that customer with lower income level tend to not paying back their loan, compare to much more well off customer with higher income. <br>\n",
    "We will try and see how the target variable is distributed if we bin our INCOME feature"
   ]
  },
  {
   "cell_type": "markdown",
   "metadata": {},
   "source": [
    "### 7.2.1. binning income"
   ]
  },
  {
   "cell_type": "code",
   "execution_count": 28,
   "metadata": {},
   "outputs": [
    {
     "data": {
      "text/html": [
       "<div>\n",
       "<style scoped>\n",
       "    .dataframe tbody tr th:only-of-type {\n",
       "        vertical-align: middle;\n",
       "    }\n",
       "\n",
       "    .dataframe tbody tr th {\n",
       "        vertical-align: top;\n",
       "    }\n",
       "\n",
       "    .dataframe thead th {\n",
       "        text-align: right;\n",
       "    }\n",
       "</style>\n",
       "<table border=\"1\" class=\"dataframe\">\n",
       "  <thead>\n",
       "    <tr style=\"text-align: right;\">\n",
       "      <th></th>\n",
       "      <th>INCOMEBAND</th>\n",
       "      <th>LOAN_WAS_PAID_BACK</th>\n",
       "    </tr>\n",
       "  </thead>\n",
       "  <tbody>\n",
       "    <tr>\n",
       "      <th>0</th>\n",
       "      <td>(-0.001, 4000000.0]</td>\n",
       "      <td>0.820200</td>\n",
       "    </tr>\n",
       "    <tr>\n",
       "      <th>1</th>\n",
       "      <td>(4000000.0, 5000000.0]</td>\n",
       "      <td>0.833729</td>\n",
       "    </tr>\n",
       "    <tr>\n",
       "      <th>2</th>\n",
       "      <td>(5000000.0, 6000000.0]</td>\n",
       "      <td>0.840426</td>\n",
       "    </tr>\n",
       "    <tr>\n",
       "      <th>3</th>\n",
       "      <td>(6000000.0, 8000000.0]</td>\n",
       "      <td>0.855491</td>\n",
       "    </tr>\n",
       "    <tr>\n",
       "      <th>4</th>\n",
       "      <td>(8000000.0, 11000000.0]</td>\n",
       "      <td>0.859944</td>\n",
       "    </tr>\n",
       "    <tr>\n",
       "      <th>5</th>\n",
       "      <td>(11000000.0, 70000000.0]</td>\n",
       "      <td>0.926829</td>\n",
       "    </tr>\n",
       "  </tbody>\n",
       "</table>\n",
       "</div>"
      ],
      "text/plain": [
       "                 INCOMEBAND  LOAN_WAS_PAID_BACK\n",
       "0       (-0.001, 4000000.0]            0.820200\n",
       "1    (4000000.0, 5000000.0]            0.833729\n",
       "2    (5000000.0, 6000000.0]            0.840426\n",
       "3    (6000000.0, 8000000.0]            0.855491\n",
       "4   (8000000.0, 11000000.0]            0.859944\n",
       "5  (11000000.0, 70000000.0]            0.926829"
      ]
     },
     "execution_count": 28,
     "metadata": {},
     "output_type": "execute_result"
    }
   ],
   "source": [
    "df['INCOMEBAND'] = pd.qcut(df['INCOME'], 6)\n",
    "df[['INCOMEBAND', 'LOAN_WAS_PAID_BACK']].groupby(['INCOMEBAND'], as_index=False).mean().sort_values(by='INCOMEBAND', ascending=True)"
   ]
  },
  {
   "cell_type": "markdown",
   "metadata": {},
   "source": [
    "We can see a somewhat linear pattern where lower income customer are less likely to pay back their loan. We will then bin this INCOME variable according to the above category"
   ]
  },
  {
   "cell_type": "code",
   "execution_count": 29,
   "metadata": {},
   "outputs": [
    {
     "data": {
      "text/html": [
       "<div>\n",
       "<style scoped>\n",
       "    .dataframe tbody tr th:only-of-type {\n",
       "        vertical-align: middle;\n",
       "    }\n",
       "\n",
       "    .dataframe tbody tr th {\n",
       "        vertical-align: top;\n",
       "    }\n",
       "\n",
       "    .dataframe thead th {\n",
       "        text-align: right;\n",
       "    }\n",
       "</style>\n",
       "<table border=\"1\" class=\"dataframe\">\n",
       "  <thead>\n",
       "    <tr style=\"text-align: right;\">\n",
       "      <th></th>\n",
       "      <th>AGE</th>\n",
       "      <th>INCOME</th>\n",
       "      <th>GENDER</th>\n",
       "      <th>EDUCATION</th>\n",
       "      <th>LOAN_PURPOSE</th>\n",
       "      <th>HAS_APPLIED_BEFORE</th>\n",
       "      <th>HAS_INCOME_VERIFICATION</th>\n",
       "      <th>LOANS_WITHOUT_DELAYS</th>\n",
       "      <th>LOANS_WITH_DELAYS</th>\n",
       "      <th>LOAN_WAS_PAID_BACK</th>\n",
       "      <th>INCOMEBAND</th>\n",
       "    </tr>\n",
       "  </thead>\n",
       "  <tbody>\n",
       "    <tr>\n",
       "      <th>1749</th>\n",
       "      <td>3</td>\n",
       "      <td>4.0</td>\n",
       "      <td>Male</td>\n",
       "      <td>High School</td>\n",
       "      <td>Credit card</td>\n",
       "      <td>No</td>\n",
       "      <td>Yes</td>\n",
       "      <td>3.0</td>\n",
       "      <td>2.0</td>\n",
       "      <td>1</td>\n",
       "      <td>(8000000.0, 11000000.0]</td>\n",
       "    </tr>\n",
       "    <tr>\n",
       "      <th>3488</th>\n",
       "      <td>1</td>\n",
       "      <td>5.0</td>\n",
       "      <td>Female</td>\n",
       "      <td>Bachelor Degree</td>\n",
       "      <td>Working Capital</td>\n",
       "      <td>Yes</td>\n",
       "      <td>Yes</td>\n",
       "      <td>1.0</td>\n",
       "      <td>3.0</td>\n",
       "      <td>1</td>\n",
       "      <td>(11000000.0, 70000000.0]</td>\n",
       "    </tr>\n",
       "    <tr>\n",
       "      <th>89</th>\n",
       "      <td>1</td>\n",
       "      <td>5.0</td>\n",
       "      <td>Female</td>\n",
       "      <td>Bachelor Degree</td>\n",
       "      <td>Holiday</td>\n",
       "      <td>No</td>\n",
       "      <td>Yes</td>\n",
       "      <td>5.0</td>\n",
       "      <td>0.0</td>\n",
       "      <td>1</td>\n",
       "      <td>(11000000.0, 70000000.0]</td>\n",
       "    </tr>\n",
       "    <tr>\n",
       "      <th>1035</th>\n",
       "      <td>1</td>\n",
       "      <td>1.0</td>\n",
       "      <td>Male</td>\n",
       "      <td>Bachelor Degree</td>\n",
       "      <td>Credit card</td>\n",
       "      <td>No</td>\n",
       "      <td>Yes</td>\n",
       "      <td>1.0</td>\n",
       "      <td>0.0</td>\n",
       "      <td>1</td>\n",
       "      <td>(4000000.0, 5000000.0]</td>\n",
       "    </tr>\n",
       "    <tr>\n",
       "      <th>386</th>\n",
       "      <td>3</td>\n",
       "      <td>4.0</td>\n",
       "      <td>Female</td>\n",
       "      <td>Bachelor Degree</td>\n",
       "      <td>Working Capital</td>\n",
       "      <td>No</td>\n",
       "      <td>Yes</td>\n",
       "      <td>3.0</td>\n",
       "      <td>1.0</td>\n",
       "      <td>1</td>\n",
       "      <td>(8000000.0, 11000000.0]</td>\n",
       "    </tr>\n",
       "  </tbody>\n",
       "</table>\n",
       "</div>"
      ],
      "text/plain": [
       "      AGE  INCOME  GENDER        EDUCATION     LOAN_PURPOSE  \\\n",
       "1749    3     4.0    Male      High School      Credit card   \n",
       "3488    1     5.0  Female  Bachelor Degree  Working Capital   \n",
       "89      1     5.0  Female  Bachelor Degree          Holiday   \n",
       "1035    1     1.0    Male  Bachelor Degree      Credit card   \n",
       "386     3     4.0  Female  Bachelor Degree  Working Capital   \n",
       "\n",
       "     HAS_APPLIED_BEFORE HAS_INCOME_VERIFICATION  LOANS_WITHOUT_DELAYS  \\\n",
       "1749                 No                     Yes                   3.0   \n",
       "3488                Yes                     Yes                   1.0   \n",
       "89                   No                     Yes                   5.0   \n",
       "1035                 No                     Yes                   1.0   \n",
       "386                  No                     Yes                   3.0   \n",
       "\n",
       "      LOANS_WITH_DELAYS  LOAN_WAS_PAID_BACK                INCOMEBAND  \n",
       "1749                2.0                   1   (8000000.0, 11000000.0]  \n",
       "3488                3.0                   1  (11000000.0, 70000000.0]  \n",
       "89                  0.0                   1  (11000000.0, 70000000.0]  \n",
       "1035                0.0                   1    (4000000.0, 5000000.0]  \n",
       "386                 1.0                   1   (8000000.0, 11000000.0]  "
      ]
     },
     "execution_count": 29,
     "metadata": {},
     "output_type": "execute_result"
    }
   ],
   "source": [
    "# replace INCOME with ordinals\n",
    "\n",
    "df.loc[ df['INCOME'] <= 4e6, 'INCOME'] = 0\n",
    "df.loc[(df['INCOME'] > 4e6) & (df['INCOME'] <= 5e6), 'INCOME'] = 1\n",
    "df.loc[(df['INCOME'] > 5e6) & (df['INCOME'] <= 6e6), 'INCOME'] = 2\n",
    "df.loc[(df['INCOME'] > 6e6) & (df['INCOME'] <= 8e6), 'INCOME'] = 3\n",
    "df.loc[(df['INCOME'] > 8e6) & (df['INCOME'] <= 11e6), 'INCOME'] = 4\n",
    "df.loc[ df['INCOME'] > 11e6, 'INCOME'] = 5\n",
    "df.head()"
   ]
  },
  {
   "cell_type": "code",
   "execution_count": 30,
   "metadata": {},
   "outputs": [
    {
     "data": {
      "text/html": [
       "<div>\n",
       "<style scoped>\n",
       "    .dataframe tbody tr th:only-of-type {\n",
       "        vertical-align: middle;\n",
       "    }\n",
       "\n",
       "    .dataframe tbody tr th {\n",
       "        vertical-align: top;\n",
       "    }\n",
       "\n",
       "    .dataframe thead th {\n",
       "        text-align: right;\n",
       "    }\n",
       "</style>\n",
       "<table border=\"1\" class=\"dataframe\">\n",
       "  <thead>\n",
       "    <tr style=\"text-align: right;\">\n",
       "      <th></th>\n",
       "      <th>AGE</th>\n",
       "      <th>INCOME</th>\n",
       "      <th>GENDER</th>\n",
       "      <th>EDUCATION</th>\n",
       "      <th>LOAN_PURPOSE</th>\n",
       "      <th>HAS_APPLIED_BEFORE</th>\n",
       "      <th>HAS_INCOME_VERIFICATION</th>\n",
       "      <th>LOANS_WITHOUT_DELAYS</th>\n",
       "      <th>LOANS_WITH_DELAYS</th>\n",
       "      <th>LOAN_WAS_PAID_BACK</th>\n",
       "    </tr>\n",
       "  </thead>\n",
       "  <tbody>\n",
       "    <tr>\n",
       "      <th>1749</th>\n",
       "      <td>3</td>\n",
       "      <td>4.0</td>\n",
       "      <td>Male</td>\n",
       "      <td>High School</td>\n",
       "      <td>Credit card</td>\n",
       "      <td>No</td>\n",
       "      <td>Yes</td>\n",
       "      <td>3.0</td>\n",
       "      <td>2.0</td>\n",
       "      <td>1</td>\n",
       "    </tr>\n",
       "    <tr>\n",
       "      <th>3488</th>\n",
       "      <td>1</td>\n",
       "      <td>5.0</td>\n",
       "      <td>Female</td>\n",
       "      <td>Bachelor Degree</td>\n",
       "      <td>Working Capital</td>\n",
       "      <td>Yes</td>\n",
       "      <td>Yes</td>\n",
       "      <td>1.0</td>\n",
       "      <td>3.0</td>\n",
       "      <td>1</td>\n",
       "    </tr>\n",
       "    <tr>\n",
       "      <th>89</th>\n",
       "      <td>1</td>\n",
       "      <td>5.0</td>\n",
       "      <td>Female</td>\n",
       "      <td>Bachelor Degree</td>\n",
       "      <td>Holiday</td>\n",
       "      <td>No</td>\n",
       "      <td>Yes</td>\n",
       "      <td>5.0</td>\n",
       "      <td>0.0</td>\n",
       "      <td>1</td>\n",
       "    </tr>\n",
       "    <tr>\n",
       "      <th>1035</th>\n",
       "      <td>1</td>\n",
       "      <td>1.0</td>\n",
       "      <td>Male</td>\n",
       "      <td>Bachelor Degree</td>\n",
       "      <td>Credit card</td>\n",
       "      <td>No</td>\n",
       "      <td>Yes</td>\n",
       "      <td>1.0</td>\n",
       "      <td>0.0</td>\n",
       "      <td>1</td>\n",
       "    </tr>\n",
       "    <tr>\n",
       "      <th>386</th>\n",
       "      <td>3</td>\n",
       "      <td>4.0</td>\n",
       "      <td>Female</td>\n",
       "      <td>Bachelor Degree</td>\n",
       "      <td>Working Capital</td>\n",
       "      <td>No</td>\n",
       "      <td>Yes</td>\n",
       "      <td>3.0</td>\n",
       "      <td>1.0</td>\n",
       "      <td>1</td>\n",
       "    </tr>\n",
       "  </tbody>\n",
       "</table>\n",
       "</div>"
      ],
      "text/plain": [
       "      AGE  INCOME  GENDER        EDUCATION     LOAN_PURPOSE  \\\n",
       "1749    3     4.0    Male      High School      Credit card   \n",
       "3488    1     5.0  Female  Bachelor Degree  Working Capital   \n",
       "89      1     5.0  Female  Bachelor Degree          Holiday   \n",
       "1035    1     1.0    Male  Bachelor Degree      Credit card   \n",
       "386     3     4.0  Female  Bachelor Degree  Working Capital   \n",
       "\n",
       "     HAS_APPLIED_BEFORE HAS_INCOME_VERIFICATION  LOANS_WITHOUT_DELAYS  \\\n",
       "1749                 No                     Yes                   3.0   \n",
       "3488                Yes                     Yes                   1.0   \n",
       "89                   No                     Yes                   5.0   \n",
       "1035                 No                     Yes                   1.0   \n",
       "386                  No                     Yes                   3.0   \n",
       "\n",
       "      LOANS_WITH_DELAYS  LOAN_WAS_PAID_BACK  \n",
       "1749                2.0                   1  \n",
       "3488                3.0                   1  \n",
       "89                  0.0                   1  \n",
       "1035                0.0                   1  \n",
       "386                 1.0                   1  "
      ]
     },
     "execution_count": 30,
     "metadata": {},
     "output_type": "execute_result"
    }
   ],
   "source": [
    "# remove INCOMEBAND\n",
    "df = df.drop(['INCOMEBAND'], axis=1)\n",
    "df.head()"
   ]
  },
  {
   "cell_type": "markdown",
   "metadata": {},
   "source": [
    "## 7.3. Visualizing GENDER feature "
   ]
  },
  {
   "cell_type": "code",
   "execution_count": 31,
   "metadata": {},
   "outputs": [
    {
     "name": "stdout",
     "output_type": "stream",
     "text": [
      "Male      1714\n",
      "Female    1487\n",
      "Name: GENDER, dtype: int64\n"
     ]
    },
    {
     "data": {
      "image/png": "[encoded data removed]",
      "text/plain": [
       "<Figure size 864x360 with 1 Axes>"
      ]
     },
     "metadata": {
      "needs_background": "light"
     },
     "output_type": "display_data"
    }
   ],
   "source": [
    "# visualize gender distribution related to target\n",
    "print(df.GENDER.value_counts())\n",
    "\n",
    "plt.figure(figsize=(12,5))\n",
    "ax = sns.countplot(hue=\"LOAN_WAS_PAID_BACK\", x=\"GENDER\", data=df)\n",
    "plt.title(\"Distribution of GENDER\")\n",
    "plt.show()"
   ]
  },
  {
   "cell_type": "markdown",
   "metadata": {},
   "source": [
    "Based on the visualisation we can see while Female make up smaller proportion of customer in the sample, number of defaulted female is higher than their counterpart. Therefore we are going to include gender as a feature"
   ]
  },
  {
   "cell_type": "markdown",
   "metadata": {},
   "source": [
    "## 7.4. Visualizing EDUCATION"
   ]
  },
  {
   "cell_type": "code",
   "execution_count": 32,
   "metadata": {},
   "outputs": [
    {
     "data": {
      "image/png": "[encoded data removed]",
      "text/plain": [
       "<Figure size 1440x360 with 1 Axes>"
      ]
     },
     "metadata": {
      "needs_background": "light"
     },
     "output_type": "display_data"
    }
   ],
   "source": [
    "plt.figure(figsize=(20,5))\n",
    "ax = sns.countplot(hue=\"LOAN_WAS_PAID_BACK\",\n",
    "                   x=\"EDUCATION\", \n",
    "                   data=df, \n",
    "                  order = df[\"EDUCATION\"].value_counts().index)\n",
    "plt.title(\"Distribution of EDUCATION\")\n",
    "plt.show()"
   ]
  },
  {
   "cell_type": "markdown",
   "metadata": {},
   "source": [
    "### 7.4.1. Let's see how education and gender corelate with each other "
   ]
  },
  {
   "cell_type": "code",
   "execution_count": 33,
   "metadata": {},
   "outputs": [],
   "source": [
    "edu_gender_1 = df.loc[df['LOAN_WAS_PAID_BACK'] == 1,\n",
    "                      ['EDUCATION', 'GENDER', 'LOAN_WAS_PAID_BACK']]\\\n",
    ".groupby('EDUCATION')['GENDER'].value_counts(normalize=True).unstack().reset_index()\n",
    "\n",
    "edu_gender_0 = df.loc[df['LOAN_WAS_PAID_BACK'] == 0,\n",
    "                      ['EDUCATION', 'GENDER', 'LOAN_WAS_PAID_BACK']]\\\n",
    ".groupby('EDUCATION')['GENDER'].value_counts(normalize=True).unstack().reset_index()"
   ]
  },
  {
   "cell_type": "code",
   "execution_count": 34,
   "metadata": {},
   "outputs": [],
   "source": [
    "edu_0 = pd.melt(edu_gender_0, id_vars = \"EDUCATION\")\n",
    "edu_1 = pd.melt(edu_gender_1, id_vars = \"EDUCATION\")"
   ]
  },
  {
   "cell_type": "code",
   "execution_count": 35,
   "metadata": {},
   "outputs": [
    {
     "data": {
      "image/png": "[encoded data removed]",
      "text/plain": [
       "<Figure size 792.125x360 with 1 Axes>"
      ]
     },
     "metadata": {
      "needs_background": "light"
     },
     "output_type": "display_data"
    },
    {
     "data": {
      "image/png": "[encoded data removed]",
      "text/plain": [
       "<Figure size 792.125x360 with 1 Axes>"
      ]
     },
     "metadata": {
      "needs_background": "light"
     },
     "output_type": "display_data"
    }
   ],
   "source": [
    "sns.catplot(x = 'EDUCATION', y='value', \n",
    "            hue = 'GENDER',data=edu_1, \n",
    "            kind='bar',  height=5, aspect=2)\n",
    "plt.title(\"Distribution of gender based on education, good customer\")\n",
    "plt.ylabel(\"percentage\")\n",
    "plt.show()\n",
    "\n",
    "sns.catplot(x = 'EDUCATION', y='value', \n",
    "            hue = 'GENDER',data=edu_0, \n",
    "            kind='bar',  height=5, aspect=2)\n",
    "plt.title(\"Distribution of gender based on education, bad customer\")\n",
    "plt.ylabel(\"percentage\")\n",
    "plt.show()"
   ]
  },
  {
   "cell_type": "markdown",
   "metadata": {},
   "source": [
    "**What we discover**\n",
    "\n",
    "- Male with higher degree of education are more likely to pay bay their loan and become good customer \n",
    "- Proportionaly there are more female with high school education level in both good and bad customer \n",
    "- Surprisingly, all male customer with a post graduate degree are good customer and paid back all their loan\n",
    "- While at the same time, we can see that except in diploma and other education level, female applicants tend to default on their loan accross all education level\n",
    "\n",
    "**Decision**\n",
    "\n",
    "We are also going to include EDUCATION as a feature in our model"
   ]
  },
  {
   "cell_type": "markdown",
   "metadata": {},
   "source": [
    "## 7.5. LOAN_PURPOSE "
   ]
  },
  {
   "cell_type": "code",
   "execution_count": 36,
   "metadata": {},
   "outputs": [
    {
     "data": {
      "image/png": "[encoded data removed]",
      "text/plain": [
       "<Figure size 1440x360 with 1 Axes>"
      ]
     },
     "metadata": {
      "needs_background": "light"
     },
     "output_type": "display_data"
    }
   ],
   "source": [
    "plt.figure(figsize=(20,5))\n",
    "ax = sns.countplot(hue=\"LOAN_WAS_PAID_BACK\",\n",
    "                   x=\"LOAN_PURPOSE\", \n",
    "                   data=df, \n",
    "                  order = df[\"LOAN_PURPOSE\"].value_counts().index)\n",
    "plt.title(\"Distribution of LOAN_PURPOSE\")\n",
    "plt.show()"
   ]
  },
  {
   "cell_type": "markdown",
   "metadata": {},
   "source": [
    "**What we discover**\n",
    "\n",
    "- Most of the customer apply for productive loan to help their business, as the top 2 loans are working capital and renovation\n",
    "- Consumptive loan are next category, in which credit card, unsecured and loan for holiday purpose are next in terms of number of applicants\n",
    "- We can also see there is a trend , in which top 3 loan category has the highest amount of default customer by counts, which might be valuable for the model\n",
    "\n",
    "**Decision**\n",
    "\n",
    "We are also going to include LOAN_PURPOSE as a feature in our model"
   ]
  },
  {
   "cell_type": "markdown",
   "metadata": {},
   "source": [
    "## 7.6. HAS_INCOME_VERIFICATION"
   ]
  },
  {
   "cell_type": "code",
   "execution_count": 37,
   "metadata": {},
   "outputs": [],
   "source": [
    "# let's see how income verification corelate with income and target \n",
    "income_1 = df.loc[df['LOAN_WAS_PAID_BACK'] == 1,\n",
    "                      ['INCOME', 'HAS_INCOME_VERIFICATION', 'LOAN_WAS_PAID_BACK']]\\\n",
    ".groupby('INCOME')['HAS_INCOME_VERIFICATION'].value_counts(normalize=True).unstack().reset_index()\n",
    "\n",
    "income_0 = df.loc[df['LOAN_WAS_PAID_BACK'] == 0,\n",
    "                      ['INCOME', 'HAS_INCOME_VERIFICATION', 'LOAN_WAS_PAID_BACK']]\\\n",
    ".groupby('INCOME')['HAS_INCOME_VERIFICATION'].value_counts(normalize=True).unstack().reset_index()\n",
    "\n",
    "income_1_df = pd.melt(income_1, id_vars = \"INCOME\")\n",
    "income_0_df = pd.melt(income_0, id_vars = \"INCOME\")"
   ]
  },
  {
   "cell_type": "code",
   "execution_count": 38,
   "metadata": {},
   "outputs": [
    {
     "data": {
      "text/html": [
       "<div>\n",
       "<style scoped>\n",
       "    .dataframe tbody tr th:only-of-type {\n",
       "        vertical-align: middle;\n",
       "    }\n",
       "\n",
       "    .dataframe tbody tr th {\n",
       "        vertical-align: top;\n",
       "    }\n",
       "\n",
       "    .dataframe thead th {\n",
       "        text-align: right;\n",
       "    }\n",
       "</style>\n",
       "<table border=\"1\" class=\"dataframe\">\n",
       "  <thead>\n",
       "    <tr style=\"text-align: right;\">\n",
       "      <th></th>\n",
       "      <th>INCOME</th>\n",
       "      <th>HAS_INCOME_VERIFICATION</th>\n",
       "      <th>value</th>\n",
       "    </tr>\n",
       "  </thead>\n",
       "  <tbody>\n",
       "    <tr>\n",
       "      <th>0</th>\n",
       "      <td>0.0</td>\n",
       "      <td>No</td>\n",
       "      <td>0.033829</td>\n",
       "    </tr>\n",
       "    <tr>\n",
       "      <th>1</th>\n",
       "      <td>1.0</td>\n",
       "      <td>No</td>\n",
       "      <td>0.002849</td>\n",
       "    </tr>\n",
       "    <tr>\n",
       "      <th>2</th>\n",
       "      <td>2.0</td>\n",
       "      <td>No</td>\n",
       "      <td>0.025316</td>\n",
       "    </tr>\n",
       "    <tr>\n",
       "      <th>3</th>\n",
       "      <td>3.0</td>\n",
       "      <td>No</td>\n",
       "      <td>0.020270</td>\n",
       "    </tr>\n",
       "    <tr>\n",
       "      <th>4</th>\n",
       "      <td>4.0</td>\n",
       "      <td>No</td>\n",
       "      <td>0.009772</td>\n",
       "    </tr>\n",
       "    <tr>\n",
       "      <th>5</th>\n",
       "      <td>5.0</td>\n",
       "      <td>No</td>\n",
       "      <td>0.006073</td>\n",
       "    </tr>\n",
       "    <tr>\n",
       "      <th>6</th>\n",
       "      <td>0.0</td>\n",
       "      <td>Yes</td>\n",
       "      <td>0.966171</td>\n",
       "    </tr>\n",
       "    <tr>\n",
       "      <th>7</th>\n",
       "      <td>1.0</td>\n",
       "      <td>Yes</td>\n",
       "      <td>0.997151</td>\n",
       "    </tr>\n",
       "    <tr>\n",
       "      <th>8</th>\n",
       "      <td>2.0</td>\n",
       "      <td>Yes</td>\n",
       "      <td>0.974684</td>\n",
       "    </tr>\n",
       "    <tr>\n",
       "      <th>9</th>\n",
       "      <td>3.0</td>\n",
       "      <td>Yes</td>\n",
       "      <td>0.979730</td>\n",
       "    </tr>\n",
       "    <tr>\n",
       "      <th>10</th>\n",
       "      <td>4.0</td>\n",
       "      <td>Yes</td>\n",
       "      <td>0.990228</td>\n",
       "    </tr>\n",
       "    <tr>\n",
       "      <th>11</th>\n",
       "      <td>5.0</td>\n",
       "      <td>Yes</td>\n",
       "      <td>0.993927</td>\n",
       "    </tr>\n",
       "  </tbody>\n",
       "</table>\n",
       "</div>"
      ],
      "text/plain": [
       "    INCOME HAS_INCOME_VERIFICATION     value\n",
       "0      0.0                      No  0.033829\n",
       "1      1.0                      No  0.002849\n",
       "2      2.0                      No  0.025316\n",
       "3      3.0                      No  0.020270\n",
       "4      4.0                      No  0.009772\n",
       "5      5.0                      No  0.006073\n",
       "6      0.0                     Yes  0.966171\n",
       "7      1.0                     Yes  0.997151\n",
       "8      2.0                     Yes  0.974684\n",
       "9      3.0                     Yes  0.979730\n",
       "10     4.0                     Yes  0.990228\n",
       "11     5.0                     Yes  0.993927"
      ]
     },
     "execution_count": 38,
     "metadata": {},
     "output_type": "execute_result"
    }
   ],
   "source": [
    "income_1_df"
   ]
  },
  {
   "cell_type": "code",
   "execution_count": 39,
   "metadata": {},
   "outputs": [
    {
     "data": {
      "image/png": "[encoded data removed]",
      "text/plain": [
       "<Figure size 867.125x360 with 1 Axes>"
      ]
     },
     "metadata": {
      "needs_background": "light"
     },
     "output_type": "display_data"
    },
    {
     "data": {
      "image/png": "[encoded data removed]",
      "text/plain": [
       "<Figure size 867.125x360 with 1 Axes>"
      ]
     },
     "metadata": {
      "needs_background": "light"
     },
     "output_type": "display_data"
    }
   ],
   "source": [
    "sns.catplot(x = 'INCOME', y='value', \n",
    "            hue = 'HAS_INCOME_VERIFICATION',data=income_1_df, \n",
    "            kind='bar',  height=5, aspect=2)\n",
    "plt.title(\"Distribution of INCOME based on HAS_INCOME_VERIFICATION, good customer\")\n",
    "plt.ylabel(\"percentage\")\n",
    "plt.show()\n",
    "\n",
    "sns.catplot(x = 'INCOME', y='value', \n",
    "            hue = 'HAS_INCOME_VERIFICATION',data=income_0_df, \n",
    "            kind='bar',  height=5, aspect=2)\n",
    "plt.title(\"Distribution of INCOME based on HAS_INCOME_VERIFICATION, bad customer\")\n",
    "plt.ylabel(\"percentage\")\n",
    "plt.show()"
   ]
  },
  {
   "cell_type": "markdown",
   "metadata": {},
   "source": [
    "We can see that customer without income verification are more likely to default on their payment, especially in the lower income region (group 0 - 2)"
   ]
  },
  {
   "cell_type": "markdown",
   "metadata": {},
   "source": [
    "## 7.7. Distribution of HAS_APPLIED BEFORE feature"
   ]
  },
  {
   "cell_type": "code",
   "execution_count": 40,
   "metadata": {},
   "outputs": [
    {
     "data": {
      "image/png": "[encoded data removed]",
      "text/plain": [
       "<Figure size 1440x360 with 1 Axes>"
      ]
     },
     "metadata": {
      "needs_background": "light"
     },
     "output_type": "display_data"
    }
   ],
   "source": [
    "plt.figure(figsize=(20,5))\n",
    "ax = sns.countplot(hue=\"LOAN_WAS_PAID_BACK\",\n",
    "                   x=\"HAS_APPLIED_BEFORE\", \n",
    "                   data=df, \n",
    "                  order = df[\"HAS_APPLIED_BEFORE\"].value_counts().index)\n",
    "plt.title(\"Distribution of EDUCATION\")\n",
    "plt.show()"
   ]
  },
  {
   "cell_type": "markdown",
   "metadata": {},
   "source": [
    "# 8. Feature Engineering and Selection"
   ]
  },
  {
   "cell_type": "markdown",
   "metadata": {},
   "source": [
    "Based on previous parts, we are going to make 2 model that distinguished by have or doesn't have bureau data and we will use features:\n",
    "- AGE (binned)\n",
    "- INCOME (binned)\n",
    "- GENDER\n",
    "- EDUCATION\n",
    "- LOAN_PURPOSE\n",
    "- HAS_APPLIED_BEFORE\n",
    "- HAS INCOME VERIFICATION\n",
    "- Bureau data (\"LOANS_WITHOUT_DELAYS\", \"LOANS_WITH_DELAYS\")"
   ]
  },
  {
   "cell_type": "code",
   "execution_count": 41,
   "metadata": {},
   "outputs": [],
   "source": [
    "def binning_features(df):\n",
    "    #binning Age\n",
    "    df.loc[ df['AGE'] <= 20, 'AGE'] = 0\n",
    "    df.loc[(df['AGE'] > 20) & (df['AGE'] <= 34), 'AGE'] = 1\n",
    "    df.loc[(df['AGE'] > 34) & (df['AGE'] <= 40), 'AGE'] = 2\n",
    "    df.loc[(df['AGE'] > 40) & (df['AGE'] <= 47), 'AGE'] = 3\n",
    "    df.loc[ df['AGE'] > 47, 'AGE'] = 4\n",
    "    \n",
    "    #income\n",
    "    df.loc[ df['INCOME'] <= 4e6, 'INCOME'] = 0\n",
    "    df.loc[(df['INCOME'] > 4e6) & (df['INCOME'] <= 5e6), 'INCOME'] = 1\n",
    "    df.loc[(df['INCOME'] > 5e6) & (df['INCOME'] <= 6e6), 'INCOME'] = 2\n",
    "    df.loc[(df['INCOME'] > 6e6) & (df['INCOME'] <= 8e6), 'INCOME'] = 3\n",
    "    df.loc[(df['INCOME'] > 8e6) & (df['INCOME'] <= 11e6), 'INCOME'] = 4\n",
    "    df.loc[ df['INCOME'] > 11e6, 'INCOME'] = 5\n",
    "\n",
    "    return df"
   ]
  },
  {
   "cell_type": "code",
   "execution_count": 42,
   "metadata": {},
   "outputs": [],
   "source": [
    "def one_hot_encoder(x_cat):\n",
    "    df = x_cat.copy()\n",
    "    index = x_cat.index\n",
    "    col = x_cat.columns\n",
    "    \n",
    "    encoder = OneHotEncoder(sparse=False, handle_unknown='ignore')\n",
    "    encoder.fit(x_cat)\n",
    "\n",
    "    encoded = encoder.transform(x_cat)\n",
    "    feat_names = encoder.get_feature_names(col)\n",
    "    encoded = pd.DataFrame(encoded)\n",
    "    encoded.index = index\n",
    "    encoded.columns = feat_names\n",
    "    return encoded"
   ]
  },
  {
   "cell_type": "code",
   "execution_count": 43,
   "metadata": {},
   "outputs": [],
   "source": [
    "#compile all engineering\n",
    "def feature_engineering(df):\n",
    "    TARGET = \"LOAN_WAS_PAID_BACK\"\n",
    "    #drop some features\n",
    "    df = df.drop([\"customer_id\", \"APPLICATION_RECEIVE_TIME\", \"KNOWN_ASSETS\", \"Score\"], axis=1)\n",
    "    #dropna for Income and Loan Purpose\n",
    "    df = df.dropna(subset = ['INCOME', 'LOAN_PURPOSE'])\n",
    "    \n",
    "    #binning\n",
    "    binning_features(df)\n",
    "    \n",
    "    #converting categorical Features\n",
    "    df['GENDER'] = df['GENDER'].map( {'Male': 1, 'Female': 0} ).astype(int)\n",
    "    df['HAS_APPLIED_BEFORE'] = df['HAS_APPLIED_BEFORE'].map( {'Yes': 1, 'No': 0} ).astype(int)\n",
    "    df['HAS_INCOME_VERIFICATION'] = df['HAS_INCOME_VERIFICATION'].map( {'Yes': 1, 'No': 0} ).astype(int)\n",
    "    \n",
    "    #one hot encoding\n",
    "    df_num = df.drop(['EDUCATION','LOAN_PURPOSE'], axis=1)\n",
    "    df_hot = one_hot_encoder(df[['EDUCATION','LOAN_PURPOSE']])\n",
    "    df_ready = df_num.join(df_hot)\n",
    "    \n",
    "    #split data with or without bureau data\n",
    "    df_with_bureau = df_ready.dropna(subset = ['LOANS_WITHOUT_DELAYS', 'LOANS_WITH_DELAYS'])\n",
    "    df_without_bureau = df_ready[df_ready['LOANS_WITH_DELAYS'].isna() == True]\n",
    "    df_without_bureau = df_ready.drop(columns=[ \"LOANS_WITHOUT_DELAYS\", \"LOANS_WITH_DELAYS\"])\n",
    "    X_with_bureau = df_with_bureau.drop(columns=TARGET)\n",
    "    X_without_bureau = df_without_bureau.drop(columns=TARGET)\n",
    "    y_with_bureau = df_with_bureau[TARGET]\n",
    "    y_without_bureau = df_without_bureau[TARGET]\n",
    "    return X_with_bureau,X_without_bureau,y_with_bureau,y_without_bureau\n",
    "\n",
    "\n",
    "def add_columns(df_raw, df_2,bureau='yes'):\n",
    "    df_temp = df_2.copy()\n",
    "    X_with_bureau,X_without_bureau,y_with_bureau,y_without_bureau = feature_engineering(df_raw)\n",
    "    if bureau =='yes':\n",
    "        mis_col = set(X_with_bureau.columns).difference(set(df_2.columns))\n",
    "        print(mis_col)\n",
    "    else:\n",
    "        mis_col = set(X_without_bureau.columns).difference(set(df_2.columns))\n",
    "        print(mis_col)\n",
    "    if len(mis_col) > 0:\n",
    "        for i in mis_col :\n",
    "            df_temp.loc[:, i] = 0\n",
    "    else:\n",
    "        pass\n",
    "    return df_temp"
   ]
  },
  {
   "cell_type": "code",
   "execution_count": 44,
   "metadata": {},
   "outputs": [],
   "source": [
    "#compile all engineering\n",
    "def feature_engineering_xb(df):\n",
    "    TARGET = \"LOAN_WAS_PAID_BACK\"\n",
    "    #drop some features\n",
    "    df = df.drop([\"customer_id\", \"APPLICATION_RECEIVE_TIME\", \"KNOWN_ASSETS\", \"Score\"], axis=1)\n",
    "    #dropna for Income and Loan Purpose\n",
    "    df = df.dropna(subset = ['INCOME', 'LOAN_PURPOSE'])\n",
    "    \n",
    "    #binning\n",
    "    binning_features(df)\n",
    "    \n",
    "    #converting categorical Features\n",
    "    df['GENDER'] = df['GENDER'].map( {'Male': 1, 'Female': 0} ).astype(int)\n",
    "    df['HAS_APPLIED_BEFORE'] = df['HAS_APPLIED_BEFORE'].map( {'Yes': 1, 'No': 0} ).astype(int)\n",
    "    df['HAS_INCOME_VERIFICATION'] = df['HAS_INCOME_VERIFICATION'].map( {'Yes': 1, 'No': 0} ).astype(int)\n",
    "    \n",
    "    #one hot encoding\n",
    "    df_num = df.drop(['EDUCATION','LOAN_PURPOSE'], axis=1)\n",
    "    df_hot = one_hot_encoder(df[['EDUCATION','LOAN_PURPOSE']])\n",
    "    df_ready = df_num.join(df_hot)\n",
    "    df_without_bureau=df_ready #tambahan\n",
    "    \n",
    "    #split data with or without bureau data\n",
    "    #df_with_bureau = df_ready.dropna(subset = ['LOANS_WITHOUT_DELAYS', 'LOANS_WITH_DELAYS'])\n",
    "    #df_without_bureau = df_ready[df_ready['LOANS_WITH_DELAYS'].isna() == True]\n",
    "    #df_without_bureau = df_ready.drop(columns=[ \"LOANS_WITHOUT_DELAYS\", \"LOANS_WITH_DELAYS\"])\n",
    "    #X_with_bureau = df_with_bureau.drop(columns=TARGET)\n",
    "    X_without_bureau = df_without_bureau.drop(columns=TARGET)\n",
    "    #y_with_bureau = df_with_bureau[TARGET]\n",
    "    y_without_bureau = df_without_bureau[TARGET]\n",
    "    return X_without_bureau,y_without_bureau\n",
    "\n",
    "\n",
    "def add_columns_xb(df_raw, df_2):\n",
    "    df_temp = df_2.copy()\n",
    "    X_without_bureau,y_without_bureau = feature_engineering_xb(df_raw)\n",
    "    mis_col = set(X_without_bureau.columns).difference(set(df_2.columns))\n",
    "    print(mis_col)\n",
    "    if len(mis_col) > 0:\n",
    "        for i in mis_col :\n",
    "            df_temp.loc[:, i] = 0\n",
    "    else:\n",
    "        pass\n",
    "    return df_temp"
   ]
  },
  {
   "cell_type": "code",
   "execution_count": 45,
   "metadata": {},
   "outputs": [
    {
     "data": {
      "text/html": [
       "<div>\n",
       "<style scoped>\n",
       "    .dataframe tbody tr th:only-of-type {\n",
       "        vertical-align: middle;\n",
       "    }\n",
       "\n",
       "    .dataframe tbody tr th {\n",
       "        vertical-align: top;\n",
       "    }\n",
       "\n",
       "    .dataframe thead th {\n",
       "        text-align: right;\n",
       "    }\n",
       "</style>\n",
       "<table border=\"1\" class=\"dataframe\">\n",
       "  <thead>\n",
       "    <tr style=\"text-align: right;\">\n",
       "      <th></th>\n",
       "      <th>customer_id</th>\n",
       "      <th>AGE</th>\n",
       "      <th>INCOME</th>\n",
       "      <th>GENDER</th>\n",
       "      <th>EDUCATION</th>\n",
       "      <th>LOAN_PURPOSE</th>\n",
       "      <th>APPLICATION_RECEIVE_TIME</th>\n",
       "      <th>HAS_APPLIED_BEFORE</th>\n",
       "      <th>HAS_INCOME_VERIFICATION</th>\n",
       "      <th>LOAN_WAS_PAID_BACK</th>\n",
       "      <th>LOANS_WITHOUT_DELAYS</th>\n",
       "      <th>LOANS_WITH_DELAYS</th>\n",
       "      <th>KNOWN_ASSETS</th>\n",
       "      <th>Score</th>\n",
       "    </tr>\n",
       "  </thead>\n",
       "  <tbody>\n",
       "    <tr>\n",
       "      <th>0</th>\n",
       "      <td>36493</td>\n",
       "      <td>40</td>\n",
       "      <td>10000000.0</td>\n",
       "      <td>Female</td>\n",
       "      <td>Diploma</td>\n",
       "      <td>Working Capital</td>\n",
       "      <td>09:07:00</td>\n",
       "      <td>No</td>\n",
       "      <td>Yes</td>\n",
       "      <td>1</td>\n",
       "      <td>3.0</td>\n",
       "      <td>3.0</td>\n",
       "      <td>40000000.0</td>\n",
       "      <td>0.77</td>\n",
       "    </tr>\n",
       "    <tr>\n",
       "      <th>1</th>\n",
       "      <td>36494</td>\n",
       "      <td>39</td>\n",
       "      <td>15000000.0</td>\n",
       "      <td>Female</td>\n",
       "      <td>Bachelor Degree</td>\n",
       "      <td>Other</td>\n",
       "      <td>15:15:00</td>\n",
       "      <td>No</td>\n",
       "      <td>Yes</td>\n",
       "      <td>1</td>\n",
       "      <td>3.0</td>\n",
       "      <td>0.0</td>\n",
       "      <td>20000000.0</td>\n",
       "      <td>0.93</td>\n",
       "    </tr>\n",
       "    <tr>\n",
       "      <th>2</th>\n",
       "      <td>36495</td>\n",
       "      <td>28</td>\n",
       "      <td>15000000.0</td>\n",
       "      <td>Male</td>\n",
       "      <td>Bachelor Degree</td>\n",
       "      <td>Renovation</td>\n",
       "      <td>07:13:00</td>\n",
       "      <td>No</td>\n",
       "      <td>Yes</td>\n",
       "      <td>1</td>\n",
       "      <td>NaN</td>\n",
       "      <td>NaN</td>\n",
       "      <td>NaN</td>\n",
       "      <td>NaN</td>\n",
       "    </tr>\n",
       "    <tr>\n",
       "      <th>3</th>\n",
       "      <td>36496</td>\n",
       "      <td>28</td>\n",
       "      <td>4000000.0</td>\n",
       "      <td>Male</td>\n",
       "      <td>Bachelor Degree</td>\n",
       "      <td>Renovation</td>\n",
       "      <td>12:05:00</td>\n",
       "      <td>Yes</td>\n",
       "      <td>Yes</td>\n",
       "      <td>1</td>\n",
       "      <td>2.0</td>\n",
       "      <td>1.0</td>\n",
       "      <td>0.0</td>\n",
       "      <td>0.78</td>\n",
       "    </tr>\n",
       "    <tr>\n",
       "      <th>4</th>\n",
       "      <td>36497</td>\n",
       "      <td>38</td>\n",
       "      <td>10000000.0</td>\n",
       "      <td>Male</td>\n",
       "      <td>Diploma</td>\n",
       "      <td>Renovation</td>\n",
       "      <td>14:35:00</td>\n",
       "      <td>Yes</td>\n",
       "      <td>Yes</td>\n",
       "      <td>0</td>\n",
       "      <td>1.0</td>\n",
       "      <td>0.0</td>\n",
       "      <td>40000000.0</td>\n",
       "      <td>0.81</td>\n",
       "    </tr>\n",
       "  </tbody>\n",
       "</table>\n",
       "</div>"
      ],
      "text/plain": [
       "   customer_id  AGE      INCOME  GENDER        EDUCATION     LOAN_PURPOSE  \\\n",
       "0        36493   40  10000000.0  Female          Diploma  Working Capital   \n",
       "1        36494   39  15000000.0  Female  Bachelor Degree            Other   \n",
       "2        36495   28  15000000.0    Male  Bachelor Degree       Renovation   \n",
       "3        36496   28   4000000.0    Male  Bachelor Degree       Renovation   \n",
       "4        36497   38  10000000.0    Male          Diploma       Renovation   \n",
       "\n",
       "  APPLICATION_RECEIVE_TIME HAS_APPLIED_BEFORE HAS_INCOME_VERIFICATION  \\\n",
       "0                 09:07:00                 No                     Yes   \n",
       "1                 15:15:00                 No                     Yes   \n",
       "2                 07:13:00                 No                     Yes   \n",
       "3                 12:05:00                Yes                     Yes   \n",
       "4                 14:35:00                Yes                     Yes   \n",
       "\n",
       "   LOAN_WAS_PAID_BACK  LOANS_WITHOUT_DELAYS  LOANS_WITH_DELAYS  KNOWN_ASSETS  \\\n",
       "0                   1                   3.0                3.0    40000000.0   \n",
       "1                   1                   3.0                0.0    20000000.0   \n",
       "2                   1                   NaN                NaN           NaN   \n",
       "3                   1                   2.0                1.0           0.0   \n",
       "4                   0                   1.0                0.0    40000000.0   \n",
       "\n",
       "   Score  \n",
       "0   0.77  \n",
       "1   0.93  \n",
       "2    NaN  \n",
       "3   0.78  \n",
       "4   0.81  "
      ]
     },
     "execution_count": 45,
     "metadata": {},
     "output_type": "execute_result"
    }
   ],
   "source": [
    "# merge master and bureau and external data\n",
    "df = pd.merge(master, bureau, on='customer_id', how='left')\n",
    "df = pd.merge(df, external, on='customer_id', how='left')\n",
    "df.head()"
   ]
  },
  {
   "cell_type": "markdown",
   "metadata": {},
   "source": [
    "## 8.1. Train Engginering"
   ]
  },
  {
   "cell_type": "code",
   "execution_count": 46,
   "metadata": {},
   "outputs": [],
   "source": [
    "df_train = pd.concat([x_train, pd.DataFrame(y_train)], axis = 1)"
   ]
  },
  {
   "cell_type": "code",
   "execution_count": 47,
   "metadata": {},
   "outputs": [
    {
     "data": {
      "text/plain": [
       "(6588, 14)"
      ]
     },
     "execution_count": 47,
     "metadata": {},
     "output_type": "execute_result"
    }
   ],
   "source": [
    "df.shape"
   ]
  },
  {
   "cell_type": "code",
   "execution_count": 48,
   "metadata": {},
   "outputs": [],
   "source": [
    "# This is our final feature\n",
    "X_train_with_bureau, X_train_without_bureau, y_train_with_bureau, y_train_without_bureau = feature_engineering(df_train)"
   ]
  },
  {
   "cell_type": "code",
   "execution_count": 49,
   "metadata": {},
   "outputs": [
    {
     "name": "stdout",
     "output_type": "stream",
     "text": [
      "set()\n",
      "set()\n"
     ]
    }
   ],
   "source": [
    "X_train_with_bureau = add_columns(df,X_train_with_bureau)\n",
    "X_train_without_bureau = add_columns(df,X_train_without_bureau,bureau='no')"
   ]
  },
  {
   "cell_type": "code",
   "execution_count": 50,
   "metadata": {},
   "outputs": [
    {
     "name": "stdout",
     "output_type": "stream",
     "text": [
      " Data Train With Bureau has 24 Features\n",
      " Data Train Without Bureau has 22 Features\n"
     ]
    }
   ],
   "source": [
    "print(f' Data Train With Bureau has {X_train_with_bureau.shape[1]} Features')\n",
    "print(f' Data Train Without Bureau has {X_train_without_bureau.shape[1]} Features')"
   ]
  },
  {
   "cell_type": "markdown",
   "metadata": {},
   "source": [
    "## 8.2. Validation Engginering"
   ]
  },
  {
   "cell_type": "code",
   "execution_count": 51,
   "metadata": {},
   "outputs": [],
   "source": [
    "df_valid = pd.concat([x_valid, pd.DataFrame(y_valid)], axis = 1)"
   ]
  },
  {
   "cell_type": "code",
   "execution_count": 52,
   "metadata": {},
   "outputs": [],
   "source": [
    "X_valid_with_bureau, X_valid_without_bureau, y_valid_with_bureau, y_valid_without_bureau = feature_engineering(df_valid)"
   ]
  },
  {
   "cell_type": "code",
   "execution_count": 53,
   "metadata": {},
   "outputs": [
    {
     "name": "stdout",
     "output_type": "stream",
     "text": [
      "set()\n",
      "set()\n"
     ]
    }
   ],
   "source": [
    "X_valid_with_bureau = add_columns(df,X_valid_with_bureau)\n",
    "X_valid_without_bureau = add_columns(df,X_valid_without_bureau,bureau='no')"
   ]
  },
  {
   "cell_type": "code",
   "execution_count": 54,
   "metadata": {},
   "outputs": [
    {
     "name": "stdout",
     "output_type": "stream",
     "text": [
      " Data Valid With Bureau has 24 Features\n",
      " Data Valid Without Bureau has 22 Features\n"
     ]
    }
   ],
   "source": [
    "print(f' Data Valid With Bureau has {X_valid_with_bureau.shape[1]} Features')\n",
    "print(f' Data Valid Without Bureau has {X_valid_without_bureau.shape[1]} Features')"
   ]
  },
  {
   "cell_type": "markdown",
   "metadata": {},
   "source": [
    "## 8.3. Test Engginering"
   ]
  },
  {
   "cell_type": "code",
   "execution_count": 55,
   "metadata": {},
   "outputs": [],
   "source": [
    "df_test = pd.concat([x_test, pd.DataFrame(y_test)], axis = 1)"
   ]
  },
  {
   "cell_type": "code",
   "execution_count": 56,
   "metadata": {},
   "outputs": [],
   "source": [
    "X_test_with_bureau, X_test_without_bureau, y_test_with_bureau, y_test_without_bureau = feature_engineering(df_test)"
   ]
  },
  {
   "cell_type": "code",
   "execution_count": 57,
   "metadata": {},
   "outputs": [
    {
     "name": "stdout",
     "output_type": "stream",
     "text": [
      "{'LOAN_PURPOSE_Car/Motorcycle'}\n",
      "{'LOAN_PURPOSE_Car/Motorcycle'}\n"
     ]
    }
   ],
   "source": [
    "X_test_with_bureau = add_columns(df,X_test_with_bureau)\n",
    "X_test_without_bureau = add_columns(df,X_test_without_bureau,bureau='no')"
   ]
  },
  {
   "cell_type": "code",
   "execution_count": 58,
   "metadata": {},
   "outputs": [
    {
     "name": "stdout",
     "output_type": "stream",
     "text": [
      " Data Test With Bureau has 24 Features\n",
      " Data Test Without Bureau has 22 Features\n"
     ]
    }
   ],
   "source": [
    "print(f' Data Test With Bureau has {X_test_with_bureau.shape[1]} Features')\n",
    "print(f' Data Test Without Bureau has {X_test_without_bureau.shape[1]} Features')"
   ]
  },
  {
   "cell_type": "markdown",
   "metadata": {},
   "source": [
    "# 9. ML Training"
   ]
  },
  {
   "cell_type": "markdown",
   "metadata": {},
   "source": [
    "## Without Bureau Data (SMOTE)"
   ]
  },
  {
   "cell_type": "markdown",
   "metadata": {},
   "source": [
    "Before we train we want To tackle the imbalanced data problem"
   ]
  },
  {
   "cell_type": "code",
   "execution_count": 59,
   "metadata": {},
   "outputs": [
    {
     "data": {
      "text/html": [
       "<div>\n",
       "<style scoped>\n",
       "    .dataframe tbody tr th:only-of-type {\n",
       "        vertical-align: middle;\n",
       "    }\n",
       "\n",
       "    .dataframe tbody tr th {\n",
       "        vertical-align: top;\n",
       "    }\n",
       "\n",
       "    .dataframe thead th {\n",
       "        text-align: right;\n",
       "    }\n",
       "</style>\n",
       "<table border=\"1\" class=\"dataframe\">\n",
       "  <thead>\n",
       "    <tr style=\"text-align: right;\">\n",
       "      <th></th>\n",
       "      <th>AGE</th>\n",
       "      <th>INCOME</th>\n",
       "      <th>GENDER</th>\n",
       "      <th>HAS_APPLIED_BEFORE</th>\n",
       "      <th>HAS_INCOME_VERIFICATION</th>\n",
       "      <th>EDUCATION_Bachelor Degree</th>\n",
       "      <th>EDUCATION_Diploma</th>\n",
       "      <th>EDUCATION_High School</th>\n",
       "      <th>EDUCATION_Master's Degree/Post graduate</th>\n",
       "      <th>EDUCATION_Other</th>\n",
       "      <th>...</th>\n",
       "      <th>LOAN_PURPOSE_Credit card</th>\n",
       "      <th>LOAN_PURPOSE_Education</th>\n",
       "      <th>LOAN_PURPOSE_Electronic unsecured loan</th>\n",
       "      <th>LOAN_PURPOSE_Holiday</th>\n",
       "      <th>LOAN_PURPOSE_Housing loan</th>\n",
       "      <th>LOAN_PURPOSE_Investment</th>\n",
       "      <th>LOAN_PURPOSE_Other</th>\n",
       "      <th>LOAN_PURPOSE_Renovation</th>\n",
       "      <th>LOAN_PURPOSE_Venture capital</th>\n",
       "      <th>LOAN_PURPOSE_Working Capital</th>\n",
       "    </tr>\n",
       "  </thead>\n",
       "  <tbody>\n",
       "    <tr>\n",
       "      <th>0</th>\n",
       "      <td>3</td>\n",
       "      <td>4.000000</td>\n",
       "      <td>1</td>\n",
       "      <td>0</td>\n",
       "      <td>1</td>\n",
       "      <td>0.0</td>\n",
       "      <td>0.0</td>\n",
       "      <td>1.0</td>\n",
       "      <td>0.0</td>\n",
       "      <td>0.0</td>\n",
       "      <td>...</td>\n",
       "      <td>1.000000</td>\n",
       "      <td>0.0</td>\n",
       "      <td>0.0</td>\n",
       "      <td>0.0</td>\n",
       "      <td>0.0</td>\n",
       "      <td>0.0</td>\n",
       "      <td>0.0</td>\n",
       "      <td>0.0</td>\n",
       "      <td>0.0</td>\n",
       "      <td>0.000000</td>\n",
       "    </tr>\n",
       "    <tr>\n",
       "      <th>1</th>\n",
       "      <td>1</td>\n",
       "      <td>5.000000</td>\n",
       "      <td>0</td>\n",
       "      <td>1</td>\n",
       "      <td>1</td>\n",
       "      <td>1.0</td>\n",
       "      <td>0.0</td>\n",
       "      <td>0.0</td>\n",
       "      <td>0.0</td>\n",
       "      <td>0.0</td>\n",
       "      <td>...</td>\n",
       "      <td>0.000000</td>\n",
       "      <td>0.0</td>\n",
       "      <td>0.0</td>\n",
       "      <td>0.0</td>\n",
       "      <td>0.0</td>\n",
       "      <td>0.0</td>\n",
       "      <td>0.0</td>\n",
       "      <td>0.0</td>\n",
       "      <td>0.0</td>\n",
       "      <td>1.000000</td>\n",
       "    </tr>\n",
       "    <tr>\n",
       "      <th>2</th>\n",
       "      <td>1</td>\n",
       "      <td>5.000000</td>\n",
       "      <td>0</td>\n",
       "      <td>0</td>\n",
       "      <td>1</td>\n",
       "      <td>1.0</td>\n",
       "      <td>0.0</td>\n",
       "      <td>0.0</td>\n",
       "      <td>0.0</td>\n",
       "      <td>0.0</td>\n",
       "      <td>...</td>\n",
       "      <td>0.000000</td>\n",
       "      <td>0.0</td>\n",
       "      <td>0.0</td>\n",
       "      <td>1.0</td>\n",
       "      <td>0.0</td>\n",
       "      <td>0.0</td>\n",
       "      <td>0.0</td>\n",
       "      <td>0.0</td>\n",
       "      <td>0.0</td>\n",
       "      <td>0.000000</td>\n",
       "    </tr>\n",
       "    <tr>\n",
       "      <th>3</th>\n",
       "      <td>1</td>\n",
       "      <td>1.000000</td>\n",
       "      <td>1</td>\n",
       "      <td>0</td>\n",
       "      <td>1</td>\n",
       "      <td>1.0</td>\n",
       "      <td>0.0</td>\n",
       "      <td>0.0</td>\n",
       "      <td>0.0</td>\n",
       "      <td>0.0</td>\n",
       "      <td>...</td>\n",
       "      <td>1.000000</td>\n",
       "      <td>0.0</td>\n",
       "      <td>0.0</td>\n",
       "      <td>0.0</td>\n",
       "      <td>0.0</td>\n",
       "      <td>0.0</td>\n",
       "      <td>0.0</td>\n",
       "      <td>0.0</td>\n",
       "      <td>0.0</td>\n",
       "      <td>0.000000</td>\n",
       "    </tr>\n",
       "    <tr>\n",
       "      <th>4</th>\n",
       "      <td>3</td>\n",
       "      <td>4.000000</td>\n",
       "      <td>0</td>\n",
       "      <td>0</td>\n",
       "      <td>1</td>\n",
       "      <td>1.0</td>\n",
       "      <td>0.0</td>\n",
       "      <td>0.0</td>\n",
       "      <td>0.0</td>\n",
       "      <td>0.0</td>\n",
       "      <td>...</td>\n",
       "      <td>0.000000</td>\n",
       "      <td>0.0</td>\n",
       "      <td>0.0</td>\n",
       "      <td>0.0</td>\n",
       "      <td>0.0</td>\n",
       "      <td>0.0</td>\n",
       "      <td>0.0</td>\n",
       "      <td>0.0</td>\n",
       "      <td>0.0</td>\n",
       "      <td>1.000000</td>\n",
       "    </tr>\n",
       "    <tr>\n",
       "      <th>...</th>\n",
       "      <td>...</td>\n",
       "      <td>...</td>\n",
       "      <td>...</td>\n",
       "      <td>...</td>\n",
       "      <td>...</td>\n",
       "      <td>...</td>\n",
       "      <td>...</td>\n",
       "      <td>...</td>\n",
       "      <td>...</td>\n",
       "      <td>...</td>\n",
       "      <td>...</td>\n",
       "      <td>...</td>\n",
       "      <td>...</td>\n",
       "      <td>...</td>\n",
       "      <td>...</td>\n",
       "      <td>...</td>\n",
       "      <td>...</td>\n",
       "      <td>...</td>\n",
       "      <td>...</td>\n",
       "      <td>...</td>\n",
       "      <td>...</td>\n",
       "    </tr>\n",
       "    <tr>\n",
       "      <th>5455</th>\n",
       "      <td>1</td>\n",
       "      <td>0.982842</td>\n",
       "      <td>1</td>\n",
       "      <td>1</td>\n",
       "      <td>1</td>\n",
       "      <td>1.0</td>\n",
       "      <td>0.0</td>\n",
       "      <td>0.0</td>\n",
       "      <td>0.0</td>\n",
       "      <td>0.0</td>\n",
       "      <td>...</td>\n",
       "      <td>0.000000</td>\n",
       "      <td>0.0</td>\n",
       "      <td>0.0</td>\n",
       "      <td>0.0</td>\n",
       "      <td>0.0</td>\n",
       "      <td>0.0</td>\n",
       "      <td>0.0</td>\n",
       "      <td>1.0</td>\n",
       "      <td>0.0</td>\n",
       "      <td>0.000000</td>\n",
       "    </tr>\n",
       "    <tr>\n",
       "      <th>5456</th>\n",
       "      <td>1</td>\n",
       "      <td>2.000000</td>\n",
       "      <td>1</td>\n",
       "      <td>1</td>\n",
       "      <td>1</td>\n",
       "      <td>0.0</td>\n",
       "      <td>0.0</td>\n",
       "      <td>1.0</td>\n",
       "      <td>0.0</td>\n",
       "      <td>0.0</td>\n",
       "      <td>...</td>\n",
       "      <td>0.000000</td>\n",
       "      <td>0.0</td>\n",
       "      <td>0.0</td>\n",
       "      <td>0.0</td>\n",
       "      <td>0.0</td>\n",
       "      <td>0.0</td>\n",
       "      <td>0.0</td>\n",
       "      <td>0.0</td>\n",
       "      <td>0.0</td>\n",
       "      <td>1.000000</td>\n",
       "    </tr>\n",
       "    <tr>\n",
       "      <th>5457</th>\n",
       "      <td>1</td>\n",
       "      <td>3.974003</td>\n",
       "      <td>0</td>\n",
       "      <td>0</td>\n",
       "      <td>1</td>\n",
       "      <td>1.0</td>\n",
       "      <td>0.0</td>\n",
       "      <td>0.0</td>\n",
       "      <td>0.0</td>\n",
       "      <td>0.0</td>\n",
       "      <td>...</td>\n",
       "      <td>0.000000</td>\n",
       "      <td>0.0</td>\n",
       "      <td>0.0</td>\n",
       "      <td>0.0</td>\n",
       "      <td>0.0</td>\n",
       "      <td>0.0</td>\n",
       "      <td>0.0</td>\n",
       "      <td>1.0</td>\n",
       "      <td>0.0</td>\n",
       "      <td>0.000000</td>\n",
       "    </tr>\n",
       "    <tr>\n",
       "      <th>5458</th>\n",
       "      <td>3</td>\n",
       "      <td>5.000000</td>\n",
       "      <td>0</td>\n",
       "      <td>0</td>\n",
       "      <td>1</td>\n",
       "      <td>1.0</td>\n",
       "      <td>0.0</td>\n",
       "      <td>0.0</td>\n",
       "      <td>0.0</td>\n",
       "      <td>0.0</td>\n",
       "      <td>...</td>\n",
       "      <td>0.197242</td>\n",
       "      <td>0.0</td>\n",
       "      <td>0.0</td>\n",
       "      <td>0.0</td>\n",
       "      <td>0.0</td>\n",
       "      <td>0.0</td>\n",
       "      <td>0.0</td>\n",
       "      <td>0.0</td>\n",
       "      <td>0.0</td>\n",
       "      <td>0.802758</td>\n",
       "    </tr>\n",
       "    <tr>\n",
       "      <th>5459</th>\n",
       "      <td>1</td>\n",
       "      <td>5.000000</td>\n",
       "      <td>1</td>\n",
       "      <td>0</td>\n",
       "      <td>1</td>\n",
       "      <td>1.0</td>\n",
       "      <td>0.0</td>\n",
       "      <td>0.0</td>\n",
       "      <td>0.0</td>\n",
       "      <td>0.0</td>\n",
       "      <td>...</td>\n",
       "      <td>0.835678</td>\n",
       "      <td>0.0</td>\n",
       "      <td>0.0</td>\n",
       "      <td>0.0</td>\n",
       "      <td>0.0</td>\n",
       "      <td>0.0</td>\n",
       "      <td>0.0</td>\n",
       "      <td>0.0</td>\n",
       "      <td>0.0</td>\n",
       "      <td>0.164322</td>\n",
       "    </tr>\n",
       "  </tbody>\n",
       "</table>\n",
       "<p>5460 rows × 22 columns</p>\n",
       "</div>"
      ],
      "text/plain": [
       "      AGE    INCOME  GENDER  HAS_APPLIED_BEFORE  HAS_INCOME_VERIFICATION  \\\n",
       "0       3  4.000000       1                   0                        1   \n",
       "1       1  5.000000       0                   1                        1   \n",
       "2       1  5.000000       0                   0                        1   \n",
       "3       1  1.000000       1                   0                        1   \n",
       "4       3  4.000000       0                   0                        1   \n",
       "...   ...       ...     ...                 ...                      ...   \n",
       "5455    1  0.982842       1                   1                        1   \n",
       "5456    1  2.000000       1                   1                        1   \n",
       "5457    1  3.974003       0                   0                        1   \n",
       "5458    3  5.000000       0                   0                        1   \n",
       "5459    1  5.000000       1                   0                        1   \n",
       "\n",
       "      EDUCATION_Bachelor Degree  EDUCATION_Diploma  EDUCATION_High School  \\\n",
       "0                           0.0                0.0                    1.0   \n",
       "1                           1.0                0.0                    0.0   \n",
       "2                           1.0                0.0                    0.0   \n",
       "3                           1.0                0.0                    0.0   \n",
       "4                           1.0                0.0                    0.0   \n",
       "...                         ...                ...                    ...   \n",
       "5455                        1.0                0.0                    0.0   \n",
       "5456                        0.0                0.0                    1.0   \n",
       "5457                        1.0                0.0                    0.0   \n",
       "5458                        1.0                0.0                    0.0   \n",
       "5459                        1.0                0.0                    0.0   \n",
       "\n",
       "      EDUCATION_Master's Degree/Post graduate  EDUCATION_Other  ...  \\\n",
       "0                                         0.0              0.0  ...   \n",
       "1                                         0.0              0.0  ...   \n",
       "2                                         0.0              0.0  ...   \n",
       "3                                         0.0              0.0  ...   \n",
       "4                                         0.0              0.0  ...   \n",
       "...                                       ...              ...  ...   \n",
       "5455                                      0.0              0.0  ...   \n",
       "5456                                      0.0              0.0  ...   \n",
       "5457                                      0.0              0.0  ...   \n",
       "5458                                      0.0              0.0  ...   \n",
       "5459                                      0.0              0.0  ...   \n",
       "\n",
       "      LOAN_PURPOSE_Credit card  LOAN_PURPOSE_Education  \\\n",
       "0                     1.000000                     0.0   \n",
       "1                     0.000000                     0.0   \n",
       "2                     0.000000                     0.0   \n",
       "3                     1.000000                     0.0   \n",
       "4                     0.000000                     0.0   \n",
       "...                        ...                     ...   \n",
       "5455                  0.000000                     0.0   \n",
       "5456                  0.000000                     0.0   \n",
       "5457                  0.000000                     0.0   \n",
       "5458                  0.197242                     0.0   \n",
       "5459                  0.835678                     0.0   \n",
       "\n",
       "      LOAN_PURPOSE_Electronic unsecured loan  LOAN_PURPOSE_Holiday  \\\n",
       "0                                        0.0                   0.0   \n",
       "1                                        0.0                   0.0   \n",
       "2                                        0.0                   1.0   \n",
       "3                                        0.0                   0.0   \n",
       "4                                        0.0                   0.0   \n",
       "...                                      ...                   ...   \n",
       "5455                                     0.0                   0.0   \n",
       "5456                                     0.0                   0.0   \n",
       "5457                                     0.0                   0.0   \n",
       "5458                                     0.0                   0.0   \n",
       "5459                                     0.0                   0.0   \n",
       "\n",
       "      LOAN_PURPOSE_Housing loan  LOAN_PURPOSE_Investment  LOAN_PURPOSE_Other  \\\n",
       "0                           0.0                      0.0                 0.0   \n",
       "1                           0.0                      0.0                 0.0   \n",
       "2                           0.0                      0.0                 0.0   \n",
       "3                           0.0                      0.0                 0.0   \n",
       "4                           0.0                      0.0                 0.0   \n",
       "...                         ...                      ...                 ...   \n",
       "5455                        0.0                      0.0                 0.0   \n",
       "5456                        0.0                      0.0                 0.0   \n",
       "5457                        0.0                      0.0                 0.0   \n",
       "5458                        0.0                      0.0                 0.0   \n",
       "5459                        0.0                      0.0                 0.0   \n",
       "\n",
       "      LOAN_PURPOSE_Renovation  LOAN_PURPOSE_Venture capital  \\\n",
       "0                         0.0                           0.0   \n",
       "1                         0.0                           0.0   \n",
       "2                         0.0                           0.0   \n",
       "3                         0.0                           0.0   \n",
       "4                         0.0                           0.0   \n",
       "...                       ...                           ...   \n",
       "5455                      1.0                           0.0   \n",
       "5456                      0.0                           0.0   \n",
       "5457                      1.0                           0.0   \n",
       "5458                      0.0                           0.0   \n",
       "5459                      0.0                           0.0   \n",
       "\n",
       "      LOAN_PURPOSE_Working Capital  \n",
       "0                         0.000000  \n",
       "1                         1.000000  \n",
       "2                         0.000000  \n",
       "3                         0.000000  \n",
       "4                         1.000000  \n",
       "...                            ...  \n",
       "5455                      0.000000  \n",
       "5456                      1.000000  \n",
       "5457                      0.000000  \n",
       "5458                      0.802758  \n",
       "5459                      0.164322  \n",
       "\n",
       "[5460 rows x 22 columns]"
      ]
     },
     "execution_count": 59,
     "metadata": {},
     "output_type": "execute_result"
    }
   ],
   "source": [
    "from collections import Counter\n",
    "from sklearn.datasets import make_classification\n",
    "from imblearn.over_sampling import SMOTE \n",
    "\n",
    "oversample = SMOTE()\n",
    "X_train_without_bureau, y_train_without_bureau = oversample.fit_resample(X_train_without_bureau, y_train_without_bureau)\n",
    "X_train_without_bureau"
   ]
  },
  {
   "cell_type": "code",
   "execution_count": 60,
   "metadata": {},
   "outputs": [
    {
     "data": {
      "text/plain": [
       "1    2730\n",
       "0    2730\n",
       "Name: LOAN_WAS_PAID_BACK, dtype: int64"
      ]
     },
     "execution_count": 60,
     "metadata": {},
     "output_type": "execute_result"
    }
   ],
   "source": [
    "#check balance of data\n",
    "y_train_without_bureau.value_counts()"
   ]
  },
  {
   "cell_type": "code",
   "execution_count": 61,
   "metadata": {},
   "outputs": [
    {
     "data": {
      "text/plain": [
       "(5460, 22)"
      ]
     },
     "execution_count": 61,
     "metadata": {},
     "output_type": "execute_result"
    }
   ],
   "source": [
    "X_train_without_bureau.shape"
   ]
  },
  {
   "cell_type": "code",
   "execution_count": 62,
   "metadata": {},
   "outputs": [
    {
     "data": {
      "text/html": [
       "<div>\n",
       "<style scoped>\n",
       "    .dataframe tbody tr th:only-of-type {\n",
       "        vertical-align: middle;\n",
       "    }\n",
       "\n",
       "    .dataframe tbody tr th {\n",
       "        vertical-align: top;\n",
       "    }\n",
       "\n",
       "    .dataframe thead th {\n",
       "        text-align: right;\n",
       "    }\n",
       "</style>\n",
       "<table border=\"1\" class=\"dataframe\">\n",
       "  <thead>\n",
       "    <tr style=\"text-align: right;\">\n",
       "      <th></th>\n",
       "      <th>AGE</th>\n",
       "      <th>INCOME</th>\n",
       "      <th>GENDER</th>\n",
       "      <th>HAS_APPLIED_BEFORE</th>\n",
       "      <th>HAS_INCOME_VERIFICATION</th>\n",
       "      <th>EDUCATION_Bachelor Degree</th>\n",
       "      <th>EDUCATION_Diploma</th>\n",
       "      <th>EDUCATION_High School</th>\n",
       "      <th>EDUCATION_Master's Degree/Post graduate</th>\n",
       "      <th>EDUCATION_Other</th>\n",
       "      <th>...</th>\n",
       "      <th>LOAN_PURPOSE_Credit card</th>\n",
       "      <th>LOAN_PURPOSE_Education</th>\n",
       "      <th>LOAN_PURPOSE_Electronic unsecured loan</th>\n",
       "      <th>LOAN_PURPOSE_Holiday</th>\n",
       "      <th>LOAN_PURPOSE_Housing loan</th>\n",
       "      <th>LOAN_PURPOSE_Investment</th>\n",
       "      <th>LOAN_PURPOSE_Other</th>\n",
       "      <th>LOAN_PURPOSE_Renovation</th>\n",
       "      <th>LOAN_PURPOSE_Venture capital</th>\n",
       "      <th>LOAN_PURPOSE_Working Capital</th>\n",
       "    </tr>\n",
       "  </thead>\n",
       "  <tbody>\n",
       "    <tr>\n",
       "      <th>0</th>\n",
       "      <td>2</td>\n",
       "      <td>2.0</td>\n",
       "      <td>1</td>\n",
       "      <td>0</td>\n",
       "      <td>0</td>\n",
       "      <td>1.0</td>\n",
       "      <td>0.0</td>\n",
       "      <td>0.0</td>\n",
       "      <td>0.0</td>\n",
       "      <td>0.0</td>\n",
       "      <td>...</td>\n",
       "      <td>1.000000</td>\n",
       "      <td>0.0</td>\n",
       "      <td>0.0</td>\n",
       "      <td>0.0</td>\n",
       "      <td>0.0</td>\n",
       "      <td>0.0</td>\n",
       "      <td>0.0</td>\n",
       "      <td>0.0</td>\n",
       "      <td>0.0</td>\n",
       "      <td>0.000000</td>\n",
       "    </tr>\n",
       "    <tr>\n",
       "      <th>1</th>\n",
       "      <td>1</td>\n",
       "      <td>0.0</td>\n",
       "      <td>1</td>\n",
       "      <td>0</td>\n",
       "      <td>1</td>\n",
       "      <td>0.0</td>\n",
       "      <td>0.0</td>\n",
       "      <td>1.0</td>\n",
       "      <td>0.0</td>\n",
       "      <td>0.0</td>\n",
       "      <td>...</td>\n",
       "      <td>0.000000</td>\n",
       "      <td>0.0</td>\n",
       "      <td>0.0</td>\n",
       "      <td>0.0</td>\n",
       "      <td>0.0</td>\n",
       "      <td>0.0</td>\n",
       "      <td>0.0</td>\n",
       "      <td>1.0</td>\n",
       "      <td>0.0</td>\n",
       "      <td>0.000000</td>\n",
       "    </tr>\n",
       "    <tr>\n",
       "      <th>2</th>\n",
       "      <td>1</td>\n",
       "      <td>0.0</td>\n",
       "      <td>1</td>\n",
       "      <td>1</td>\n",
       "      <td>1</td>\n",
       "      <td>0.0</td>\n",
       "      <td>0.0</td>\n",
       "      <td>1.0</td>\n",
       "      <td>0.0</td>\n",
       "      <td>0.0</td>\n",
       "      <td>...</td>\n",
       "      <td>0.000000</td>\n",
       "      <td>0.0</td>\n",
       "      <td>0.0</td>\n",
       "      <td>0.0</td>\n",
       "      <td>0.0</td>\n",
       "      <td>0.0</td>\n",
       "      <td>0.0</td>\n",
       "      <td>0.0</td>\n",
       "      <td>0.0</td>\n",
       "      <td>1.000000</td>\n",
       "    </tr>\n",
       "    <tr>\n",
       "      <th>3</th>\n",
       "      <td>1</td>\n",
       "      <td>0.0</td>\n",
       "      <td>1</td>\n",
       "      <td>0</td>\n",
       "      <td>1</td>\n",
       "      <td>0.0</td>\n",
       "      <td>0.0</td>\n",
       "      <td>1.0</td>\n",
       "      <td>0.0</td>\n",
       "      <td>0.0</td>\n",
       "      <td>...</td>\n",
       "      <td>0.000000</td>\n",
       "      <td>0.0</td>\n",
       "      <td>0.0</td>\n",
       "      <td>0.0</td>\n",
       "      <td>0.0</td>\n",
       "      <td>0.0</td>\n",
       "      <td>0.0</td>\n",
       "      <td>0.0</td>\n",
       "      <td>0.0</td>\n",
       "      <td>1.000000</td>\n",
       "    </tr>\n",
       "    <tr>\n",
       "      <th>4</th>\n",
       "      <td>2</td>\n",
       "      <td>3.0</td>\n",
       "      <td>0</td>\n",
       "      <td>0</td>\n",
       "      <td>1</td>\n",
       "      <td>1.0</td>\n",
       "      <td>0.0</td>\n",
       "      <td>0.0</td>\n",
       "      <td>0.0</td>\n",
       "      <td>0.0</td>\n",
       "      <td>...</td>\n",
       "      <td>0.000000</td>\n",
       "      <td>0.0</td>\n",
       "      <td>0.0</td>\n",
       "      <td>0.0</td>\n",
       "      <td>0.0</td>\n",
       "      <td>0.0</td>\n",
       "      <td>1.0</td>\n",
       "      <td>0.0</td>\n",
       "      <td>0.0</td>\n",
       "      <td>0.000000</td>\n",
       "    </tr>\n",
       "    <tr>\n",
       "      <th>...</th>\n",
       "      <td>...</td>\n",
       "      <td>...</td>\n",
       "      <td>...</td>\n",
       "      <td>...</td>\n",
       "      <td>...</td>\n",
       "      <td>...</td>\n",
       "      <td>...</td>\n",
       "      <td>...</td>\n",
       "      <td>...</td>\n",
       "      <td>...</td>\n",
       "      <td>...</td>\n",
       "      <td>...</td>\n",
       "      <td>...</td>\n",
       "      <td>...</td>\n",
       "      <td>...</td>\n",
       "      <td>...</td>\n",
       "      <td>...</td>\n",
       "      <td>...</td>\n",
       "      <td>...</td>\n",
       "      <td>...</td>\n",
       "      <td>...</td>\n",
       "    </tr>\n",
       "    <tr>\n",
       "      <th>2335</th>\n",
       "      <td>1</td>\n",
       "      <td>0.0</td>\n",
       "      <td>1</td>\n",
       "      <td>1</td>\n",
       "      <td>1</td>\n",
       "      <td>0.0</td>\n",
       "      <td>0.0</td>\n",
       "      <td>1.0</td>\n",
       "      <td>0.0</td>\n",
       "      <td>0.0</td>\n",
       "      <td>...</td>\n",
       "      <td>0.000000</td>\n",
       "      <td>0.0</td>\n",
       "      <td>0.0</td>\n",
       "      <td>0.0</td>\n",
       "      <td>0.0</td>\n",
       "      <td>0.0</td>\n",
       "      <td>0.0</td>\n",
       "      <td>1.0</td>\n",
       "      <td>0.0</td>\n",
       "      <td>0.000000</td>\n",
       "    </tr>\n",
       "    <tr>\n",
       "      <th>2336</th>\n",
       "      <td>1</td>\n",
       "      <td>1.0</td>\n",
       "      <td>1</td>\n",
       "      <td>1</td>\n",
       "      <td>1</td>\n",
       "      <td>1.0</td>\n",
       "      <td>0.0</td>\n",
       "      <td>0.0</td>\n",
       "      <td>0.0</td>\n",
       "      <td>0.0</td>\n",
       "      <td>...</td>\n",
       "      <td>0.000000</td>\n",
       "      <td>0.0</td>\n",
       "      <td>0.0</td>\n",
       "      <td>0.0</td>\n",
       "      <td>0.0</td>\n",
       "      <td>0.0</td>\n",
       "      <td>0.0</td>\n",
       "      <td>0.0</td>\n",
       "      <td>0.0</td>\n",
       "      <td>1.000000</td>\n",
       "    </tr>\n",
       "    <tr>\n",
       "      <th>2337</th>\n",
       "      <td>2</td>\n",
       "      <td>2.0</td>\n",
       "      <td>0</td>\n",
       "      <td>0</td>\n",
       "      <td>1</td>\n",
       "      <td>0.0</td>\n",
       "      <td>0.0</td>\n",
       "      <td>1.0</td>\n",
       "      <td>0.0</td>\n",
       "      <td>0.0</td>\n",
       "      <td>...</td>\n",
       "      <td>0.714875</td>\n",
       "      <td>0.0</td>\n",
       "      <td>0.0</td>\n",
       "      <td>0.0</td>\n",
       "      <td>0.0</td>\n",
       "      <td>0.0</td>\n",
       "      <td>0.0</td>\n",
       "      <td>0.0</td>\n",
       "      <td>0.0</td>\n",
       "      <td>0.285125</td>\n",
       "    </tr>\n",
       "    <tr>\n",
       "      <th>2338</th>\n",
       "      <td>1</td>\n",
       "      <td>0.0</td>\n",
       "      <td>0</td>\n",
       "      <td>0</td>\n",
       "      <td>1</td>\n",
       "      <td>0.0</td>\n",
       "      <td>0.0</td>\n",
       "      <td>1.0</td>\n",
       "      <td>0.0</td>\n",
       "      <td>0.0</td>\n",
       "      <td>...</td>\n",
       "      <td>0.000000</td>\n",
       "      <td>0.0</td>\n",
       "      <td>0.0</td>\n",
       "      <td>0.0</td>\n",
       "      <td>0.0</td>\n",
       "      <td>0.0</td>\n",
       "      <td>0.0</td>\n",
       "      <td>1.0</td>\n",
       "      <td>0.0</td>\n",
       "      <td>0.000000</td>\n",
       "    </tr>\n",
       "    <tr>\n",
       "      <th>2339</th>\n",
       "      <td>1</td>\n",
       "      <td>0.0</td>\n",
       "      <td>0</td>\n",
       "      <td>0</td>\n",
       "      <td>1</td>\n",
       "      <td>0.0</td>\n",
       "      <td>0.0</td>\n",
       "      <td>1.0</td>\n",
       "      <td>0.0</td>\n",
       "      <td>0.0</td>\n",
       "      <td>...</td>\n",
       "      <td>0.000000</td>\n",
       "      <td>0.0</td>\n",
       "      <td>0.0</td>\n",
       "      <td>0.0</td>\n",
       "      <td>0.0</td>\n",
       "      <td>0.0</td>\n",
       "      <td>0.0</td>\n",
       "      <td>0.0</td>\n",
       "      <td>0.0</td>\n",
       "      <td>1.000000</td>\n",
       "    </tr>\n",
       "  </tbody>\n",
       "</table>\n",
       "<p>2340 rows × 22 columns</p>\n",
       "</div>"
      ],
      "text/plain": [
       "      AGE  INCOME  GENDER  HAS_APPLIED_BEFORE  HAS_INCOME_VERIFICATION  \\\n",
       "0       2     2.0       1                   0                        0   \n",
       "1       1     0.0       1                   0                        1   \n",
       "2       1     0.0       1                   1                        1   \n",
       "3       1     0.0       1                   0                        1   \n",
       "4       2     3.0       0                   0                        1   \n",
       "...   ...     ...     ...                 ...                      ...   \n",
       "2335    1     0.0       1                   1                        1   \n",
       "2336    1     1.0       1                   1                        1   \n",
       "2337    2     2.0       0                   0                        1   \n",
       "2338    1     0.0       0                   0                        1   \n",
       "2339    1     0.0       0                   0                        1   \n",
       "\n",
       "      EDUCATION_Bachelor Degree  EDUCATION_Diploma  EDUCATION_High School  \\\n",
       "0                           1.0                0.0                    0.0   \n",
       "1                           0.0                0.0                    1.0   \n",
       "2                           0.0                0.0                    1.0   \n",
       "3                           0.0                0.0                    1.0   \n",
       "4                           1.0                0.0                    0.0   \n",
       "...                         ...                ...                    ...   \n",
       "2335                        0.0                0.0                    1.0   \n",
       "2336                        1.0                0.0                    0.0   \n",
       "2337                        0.0                0.0                    1.0   \n",
       "2338                        0.0                0.0                    1.0   \n",
       "2339                        0.0                0.0                    1.0   \n",
       "\n",
       "      EDUCATION_Master's Degree/Post graduate  EDUCATION_Other  ...  \\\n",
       "0                                         0.0              0.0  ...   \n",
       "1                                         0.0              0.0  ...   \n",
       "2                                         0.0              0.0  ...   \n",
       "3                                         0.0              0.0  ...   \n",
       "4                                         0.0              0.0  ...   \n",
       "...                                       ...              ...  ...   \n",
       "2335                                      0.0              0.0  ...   \n",
       "2336                                      0.0              0.0  ...   \n",
       "2337                                      0.0              0.0  ...   \n",
       "2338                                      0.0              0.0  ...   \n",
       "2339                                      0.0              0.0  ...   \n",
       "\n",
       "      LOAN_PURPOSE_Credit card  LOAN_PURPOSE_Education  \\\n",
       "0                     1.000000                     0.0   \n",
       "1                     0.000000                     0.0   \n",
       "2                     0.000000                     0.0   \n",
       "3                     0.000000                     0.0   \n",
       "4                     0.000000                     0.0   \n",
       "...                        ...                     ...   \n",
       "2335                  0.000000                     0.0   \n",
       "2336                  0.000000                     0.0   \n",
       "2337                  0.714875                     0.0   \n",
       "2338                  0.000000                     0.0   \n",
       "2339                  0.000000                     0.0   \n",
       "\n",
       "      LOAN_PURPOSE_Electronic unsecured loan  LOAN_PURPOSE_Holiday  \\\n",
       "0                                        0.0                   0.0   \n",
       "1                                        0.0                   0.0   \n",
       "2                                        0.0                   0.0   \n",
       "3                                        0.0                   0.0   \n",
       "4                                        0.0                   0.0   \n",
       "...                                      ...                   ...   \n",
       "2335                                     0.0                   0.0   \n",
       "2336                                     0.0                   0.0   \n",
       "2337                                     0.0                   0.0   \n",
       "2338                                     0.0                   0.0   \n",
       "2339                                     0.0                   0.0   \n",
       "\n",
       "      LOAN_PURPOSE_Housing loan  LOAN_PURPOSE_Investment  LOAN_PURPOSE_Other  \\\n",
       "0                           0.0                      0.0                 0.0   \n",
       "1                           0.0                      0.0                 0.0   \n",
       "2                           0.0                      0.0                 0.0   \n",
       "3                           0.0                      0.0                 0.0   \n",
       "4                           0.0                      0.0                 1.0   \n",
       "...                         ...                      ...                 ...   \n",
       "2335                        0.0                      0.0                 0.0   \n",
       "2336                        0.0                      0.0                 0.0   \n",
       "2337                        0.0                      0.0                 0.0   \n",
       "2338                        0.0                      0.0                 0.0   \n",
       "2339                        0.0                      0.0                 0.0   \n",
       "\n",
       "      LOAN_PURPOSE_Renovation  LOAN_PURPOSE_Venture capital  \\\n",
       "0                         0.0                           0.0   \n",
       "1                         1.0                           0.0   \n",
       "2                         0.0                           0.0   \n",
       "3                         0.0                           0.0   \n",
       "4                         0.0                           0.0   \n",
       "...                       ...                           ...   \n",
       "2335                      1.0                           0.0   \n",
       "2336                      0.0                           0.0   \n",
       "2337                      0.0                           0.0   \n",
       "2338                      1.0                           0.0   \n",
       "2339                      0.0                           0.0   \n",
       "\n",
       "      LOAN_PURPOSE_Working Capital  \n",
       "0                         0.000000  \n",
       "1                         0.000000  \n",
       "2                         1.000000  \n",
       "3                         1.000000  \n",
       "4                         0.000000  \n",
       "...                            ...  \n",
       "2335                      0.000000  \n",
       "2336                      1.000000  \n",
       "2337                      0.285125  \n",
       "2338                      0.000000  \n",
       "2339                      1.000000  \n",
       "\n",
       "[2340 rows x 22 columns]"
      ]
     },
     "execution_count": 62,
     "metadata": {},
     "output_type": "execute_result"
    }
   ],
   "source": [
    "#we try on valid data\n",
    "X_valid_without_bureau_rs, y_valid_without_bureau_rs = oversample.fit_resample(X_valid_without_bureau, y_valid_without_bureau)\n",
    "X_valid_without_bureau_rs"
   ]
  },
  {
   "cell_type": "code",
   "execution_count": 63,
   "metadata": {},
   "outputs": [
    {
     "data": {
      "text/plain": [
       "1    1170\n",
       "0     201\n",
       "Name: LOAN_WAS_PAID_BACK, dtype: int64"
      ]
     },
     "execution_count": 63,
     "metadata": {},
     "output_type": "execute_result"
    }
   ],
   "source": [
    "#check balance of data\n",
    "y_valid_without_bureau.value_counts()"
   ]
  },
  {
   "cell_type": "code",
   "execution_count": 64,
   "metadata": {},
   "outputs": [],
   "source": [
    "# Changing everything to float and replacing infinities\n",
    "for c in X_train_without_bureau.columns:\n",
    "  X_train_without_bureau[c] = X_train_without_bureau[c].astype(np.float64)\n",
    "X_train_without_bureau.replace([np.inf, -np.inf], np.nan, inplace=True)"
   ]
  },
  {
   "cell_type": "code",
   "execution_count": 65,
   "metadata": {},
   "outputs": [],
   "source": [
    "# Changing everything to float and replacing infinities\n",
    "for c in X_valid_without_bureau.columns:\n",
    "  X_valid_without_bureau[c] = X_valid_without_bureau[c].astype(np.float64)\n",
    "X_valid_without_bureau.replace([np.inf, -np.inf], np.nan, inplace=True)"
   ]
  },
  {
   "cell_type": "code",
   "execution_count": 66,
   "metadata": {},
   "outputs": [],
   "source": [
    "# Changing everything to float and replacing infinities\n",
    "for c in X_test_without_bureau.columns:\n",
    "  X_test_without_bureau[c] = X_test_without_bureau[c].astype(np.float64)\n",
    "X_test_without_bureau.replace([np.inf, -np.inf], np.nan, inplace=True)"
   ]
  },
  {
   "cell_type": "code",
   "execution_count": 67,
   "metadata": {},
   "outputs": [
    {
     "data": {
      "text/plain": [
       "AGE                                        0\n",
       "INCOME                                     0\n",
       "GENDER                                     0\n",
       "HAS_APPLIED_BEFORE                         0\n",
       "HAS_INCOME_VERIFICATION                    0\n",
       "EDUCATION_Bachelor Degree                  0\n",
       "EDUCATION_Diploma                          0\n",
       "EDUCATION_High School                      0\n",
       "EDUCATION_Master's Degree/Post graduate    0\n",
       "EDUCATION_Other                            0\n",
       "LOAN_PURPOSE_Bills                         0\n",
       "LOAN_PURPOSE_Car/Motorcycle                0\n",
       "LOAN_PURPOSE_Credit card                   0\n",
       "LOAN_PURPOSE_Education                     0\n",
       "LOAN_PURPOSE_Electronic unsecured loan     0\n",
       "LOAN_PURPOSE_Holiday                       0\n",
       "LOAN_PURPOSE_Housing loan                  0\n",
       "LOAN_PURPOSE_Investment                    0\n",
       "LOAN_PURPOSE_Other                         0\n",
       "LOAN_PURPOSE_Renovation                    0\n",
       "LOAN_PURPOSE_Venture capital               0\n",
       "LOAN_PURPOSE_Working Capital               0\n",
       "dtype: int64"
      ]
     },
     "execution_count": 67,
     "metadata": {},
     "output_type": "execute_result"
    }
   ],
   "source": [
    "X_train_without_bureau.isnull().sum()"
   ]
  },
  {
   "cell_type": "code",
   "execution_count": 68,
   "metadata": {},
   "outputs": [],
   "source": [
    "# Fixing column names that contains [,],or < for XGBoost model\n",
    "import re\n",
    "regex = re.compile(r\"\\[|\\]|<\", re.IGNORECASE)\n",
    "X_train_without_bureau.columns = [regex.sub(\"_\", col) if any(x in str(col) for x in set(('[', ']', '<'))) else col for col in X_train_without_bureau.columns.values]\n",
    "X_valid_without_bureau.columns = [regex.sub(\"_\", col) if any(x in str(col) for x in set(('[', ']', '<'))) else col for col in X_valid_without_bureau.columns.values]\n",
    "X_test_without_bureau.columns = [regex.sub(\"_\", col) if any(x in str(col) for x in set(('[', ']', '<'))) else col for col in X_test_without_bureau.columns.values]"
   ]
  },
  {
   "cell_type": "code",
   "execution_count": 69,
   "metadata": {},
   "outputs": [
    {
     "name": "stdout",
     "output_type": "stream",
     "text": [
      "[19:18:42] WARNING: C:/Users/Administrator/workspace/xgboost-win64_release_1.5.1/src/learner.cc:1115: Starting in XGBoost 1.3.0, the default evaluation metric used with the objective 'binary:logistic' was changed from 'error' to 'logloss'. Explicitly set eval_metric if you'd like to restore the old behavior.\n",
      "Gini Performance Evaluation\n",
      "\n",
      "Logistic Regression Gini : 0.36413973084302764\n",
      "Random Forest Gini       : 0.872216050128138\n",
      "Decision Tree Gini       : 0.8780392867206055\n",
      "KNN Classifier Gini      : 0.7237075500811767\n",
      "LGBM Gini                : 0.8213137168082223\n",
      "XGBoost Gini             : 0.8293143608528224\n"
     ]
    }
   ],
   "source": [
    "# Check the baseline model\n",
    "def baseline_model(X_train,y_train):\n",
    "  clf_logreg = LogisticRegression().fit(X_train,y_train)\n",
    "  clf_rf = RandomForestClassifier().fit(X_train,y_train)\n",
    "  clf_tree = DecisionTreeClassifier().fit(X_train,y_train)\n",
    "  clf_knn = KNeighborsClassifier().fit(X_train,y_train)\n",
    "  clf_lgbm = LGBMClassifier().fit(X_train,y_train)\n",
    "  clf_xgb = xgb.XGBClassifier().fit(X_train,y_train)\n",
    "\n",
    "  gini_logreg = (2*(roc_auc_score(y_train, clf_logreg.predict_proba(X_train)[:, 1])))-1\n",
    "  gini_rf = (2*(roc_auc_score(y_train, clf_rf.predict_proba(X_train)[:, 1])))-1\n",
    "  gini_tree = (2*(roc_auc_score(y_train, clf_tree.predict_proba(X_train)[:, 1])))-1\n",
    "  gini_knn = (2*(roc_auc_score(y_train, clf_knn.predict_proba(X_train)[:, 1])))-1\n",
    "  gini_lgbm = (2*(roc_auc_score(y_train, clf_lgbm.predict_proba(X_train)[:, 1])))-1\n",
    "  gini_xgb = (2*(roc_auc_score(y_train, clf_xgb.predict_proba(X_train)[:, 1])))-1\n",
    "\n",
    "  print(\"Gini Performance Evaluation\\n\")\n",
    "  print(f\"Logistic Regression Gini : {gini_logreg}\")\n",
    "  print(f\"Random Forest Gini       : {gini_rf}\")\n",
    "  print(f\"Decision Tree Gini       : {gini_tree}\")\n",
    "  print(f\"KNN Classifier Gini      : {gini_knn}\")\n",
    "  print(f\"LGBM Gini                : {gini_lgbm}\")\n",
    "  print(f\"XGBoost Gini             : {gini_xgb}\")\n",
    "\n",
    "  return clf_logreg, clf_rf, clf_tree, clf_knn, clf_lgbm, clf_xgb\n",
    " \n",
    "clf_logreg, clf_rf, clf_tree, clf_knn, clf_lgbm, clf_xgb = baseline_model(X_train_without_bureau,y_train_without_bureau)"
   ]
  },
  {
   "cell_type": "markdown",
   "metadata": {},
   "source": [
    "Hyperparameter tuning on best baseline model\n",
    "We will be using Decision Tree since it has the highest gini score."
   ]
  },
  {
   "cell_type": "markdown",
   "metadata": {},
   "source": [
    "#### Hyperparameter tuning on best baseline model\n"
   ]
  },
  {
   "cell_type": "code",
   "execution_count": 70,
   "metadata": {},
   "outputs": [
    {
     "name": "stdout",
     "output_type": "stream",
     "text": [
      "[19:21:19] WARNING: C:/Users/Administrator/workspace/xgboost-win64_release_1.5.1/src/learner.cc:576: \n",
      "Parameters: { \"clf__colsample_bytree\", \"clf__gamma\", \"clf__learning_rate\", \"clf__max_depth\", \"clf__n_estimators\", \"fs__k\" } might not be used.\n",
      "\n",
      "  This could be a false alarm, with some parameters getting used by language bindings but\n",
      "  then being mistakenly passed down to XGBoost core, or some parameter actually being used\n",
      "  but getting flagged wrongly here. Please open an issue if you find any such cases.\n",
      "\n",
      "\n",
      "[19:21:19] WARNING: C:/Users/Administrator/workspace/xgboost-win64_release_1.5.1/src/learner.cc:1115: Starting in XGBoost 1.3.0, the default evaluation metric used with the objective 'binary:logistic' was changed from 'error' to 'logloss'. Explicitly set eval_metric if you'd like to restore the old behavior.\n",
      "Best Score tree: 0.6788679574393861\n",
      "Best Hyperparameters: {'min_samples_leaf': 5, 'max_depth': 20, 'criterion': 'entropy'}\n",
      "Best Score rf: 0.741340954527768\n",
      "Best Hyperparameters: {'min_samples_split': 5, 'min_samples_leaf': 1, 'max_depth': 70}\n",
      "Best Score xgb: 0.7520072723369426\n",
      "Best Hyperparameters: {'fs__k': 10, 'clf__n_estimators': 200, 'clf__max_depth': 8, 'clf__learning_rate': 0.3, 'clf__gamma': 0.0, 'clf__colsample_bytree': 0.1}\n",
      "Wall time: 2min 36s\n"
     ]
    }
   ],
   "source": [
    "%%time\n",
    "\n",
    "clf_xgb = xgb.XGBClassifier()\n",
    "clf_tree = DecisionTreeClassifier()\n",
    "clf_rf = RandomForestClassifier()\n",
    "\n",
    "# Define evaluation\n",
    "cv = RepeatedStratifiedKFold(n_splits=10, n_repeats=2, random_state=420)\n",
    "\n",
    "# Define search space\n",
    "space_tree = dict()\n",
    "space_rf = dict()\n",
    "space_xgb = [\n",
    "  {\n",
    "    'clf__n_estimators': [50, 100, 150, 200],\n",
    "    'clf__learning_rate': [0.01, 0.1, 0.2, 0.3],\n",
    "    'clf__max_depth': range(3, 10),\n",
    "    'clf__colsample_bytree': [i/10.0 for i in range(1, 3)],\n",
    "    'clf__gamma': [i/10.0 for i in range(3)],\n",
    "#     'fs__score_func': [chi2],\n",
    "    'fs__k': [10],\n",
    "  }\n",
    "]\n",
    "\n",
    "max_depth = [int(x) for x in np.linspace(10, 110, num = 11)] #RF\n",
    "max_depth.append(None) #RF\n",
    "space_rf['max_depth'] = max_depth # RF\n",
    "space_rf['min_samples_split'] = [2, 5, 10] # RF\n",
    "space_rf['min_samples_leaf'] = [1, 2, 4] # RF\n",
    "\n",
    "space_tree['max_depth'] = [2, 3, 5, 10, 20] #DT\n",
    "space_tree['min_samples_leaf'] = [5, 10, 20, 50, 100] #DT\n",
    "space_tree['criterion'] = [\"gini\", \"entropy\"] #DT\n",
    "\n",
    "# Define search\n",
    "search_tree = RandomizedSearchCV(clf_tree, space_tree, n_iter=30, scoring='roc_auc', n_jobs=30, cv=cv, random_state=1)\n",
    "search_rf = RandomizedSearchCV(clf_rf, space_rf, n_iter=30, scoring='roc_auc', n_jobs=30, cv=cv, random_state=1)\n",
    "search_xgb = RandomizedSearchCV(clf_xgb, space_xgb, n_iter=30, scoring='roc_auc', n_jobs=30, cv=cv, random_state=1)\n",
    "\n",
    "# Execute search\n",
    "result_tree = search_tree.fit(X_train_without_bureau,y_train_without_bureau)\n",
    "result_rf = search_rf.fit(X_train_without_bureau,y_train_without_bureau)\n",
    "result_xgb = search_xgb.fit(X_train_without_bureau,y_train_without_bureau)\n",
    "\n",
    "# Summarize result\n",
    "print('Best Score tree: %s' % ((result_tree.best_score_ * 2) - 1))\n",
    "print('Best Hyperparameters: %s' % result_tree.best_params_)\n",
    "\n",
    "print('Best Score rf: %s' % ((result_rf.best_score_*2) - 1))\n",
    "print('Best Hyperparameters: %s' % result_rf.best_params_)\n",
    "\n",
    "print('Best Score xgb: %s' % ((result_xgb.best_score_*2) - 1))\n",
    "print('Best Hyperparameters: %s' % result_xgb.best_params_)"
   ]
  },
  {
   "cell_type": "markdown",
   "metadata": {},
   "source": [
    "#### Evaluate on validation data"
   ]
  },
  {
   "cell_type": "code",
   "execution_count": 71,
   "metadata": {},
   "outputs": [
    {
     "name": "stdout",
     "output_type": "stream",
     "text": [
      "GINI validation data for Decision Tree : 0.10670578730280234\n",
      "GINI validation data for Random Forest : 0.08697537951269307\n",
      "GINI validation data for XGBOOST : 0.19019432750776044\n"
     ]
    }
   ],
   "source": [
    "dt_valid = DecisionTreeClassifier(\n",
    "    min_samples_leaf = 5, \n",
    "    max_depth = 20, \n",
    "    criterion = 'entropy').fit(X_train_without_bureau,y_train_without_bureau)\n",
    "\n",
    "rf_valid = RandomForestClassifier(\n",
    "    min_samples_split = 5, \n",
    "    min_samples_leaf = 1, \n",
    "    max_depth = 60).fit(X_train_without_bureau,y_train_without_bureau)\n",
    "\n",
    "xgb_valid = xgb.XGBClassifier(\n",
    "    fs__k= 10, \n",
    "    n_estimators= 200, \n",
    "    max_depth= 8, \n",
    "    learning_rate= 0.3, \n",
    "    gamma= 0.0, \n",
    "    colsample_bytree= 0.1,\n",
    "    verbosity = 0).fit(X_train_without_bureau,y_train_without_bureau)\n",
    "\n",
    "def gini_value(x, y, model):\n",
    "    return (2*(roc_auc_score(y, model.predict_proba(x)[:, 1])))-1\n",
    "\n",
    "print(\"GINI validation data for Decision Tree :\" , gini_value(X_valid_without_bureau,y_valid_without_bureau, dt_valid))\n",
    "print(\"GINI validation data for Random Forest :\" , gini_value(X_valid_without_bureau,y_valid_without_bureau, rf_valid))\n",
    "print(\"GINI validation data for XGBOOST :\" , gini_value(X_valid_without_bureau,y_valid_without_bureau, xgb_valid))"
   ]
  },
  {
   "cell_type": "code",
   "execution_count": 72,
   "metadata": {},
   "outputs": [
    {
     "name": "stdout",
     "output_type": "stream",
     "text": [
      "              precision    recall  f1-score   support\n",
      "\n",
      "           0       0.77      0.69      0.73      2730\n",
      "           1       0.72      0.80      0.76      2730\n",
      "\n",
      "    accuracy                           0.74      5460\n",
      "   macro avg       0.75      0.74      0.74      5460\n",
      "weighted avg       0.75      0.74      0.74      5460\n",
      "\n"
     ]
    }
   ],
   "source": [
    "from sklearn.metrics import classification_report\n",
    "\n",
    "y_pred_train = xgb_valid.predict(X_train_without_bureau)\n",
    "\n",
    "print(classification_report(y_train_without_bureau, y_pred_train))"
   ]
  },
  {
   "cell_type": "code",
   "execution_count": 73,
   "metadata": {},
   "outputs": [
    {
     "name": "stdout",
     "output_type": "stream",
     "text": [
      "              precision    recall  f1-score   support\n",
      "\n",
      "           0       0.77      0.71      0.74      1170\n",
      "           1       0.73      0.78      0.76      1170\n",
      "\n",
      "    accuracy                           0.75      2340\n",
      "   macro avg       0.75      0.75      0.75      2340\n",
      "weighted avg       0.75      0.75      0.75      2340\n",
      "\n"
     ]
    }
   ],
   "source": [
    "#ini valid yang di Resampled\n",
    "from sklearn.metrics import classification_report\n",
    "\n",
    "y_pred_valid = xgb_valid.predict(X_valid_without_bureau_rs)\n",
    "\n",
    "print(classification_report(y_valid_without_bureau_rs, y_pred_valid))"
   ]
  },
  {
   "cell_type": "code",
   "execution_count": 74,
   "metadata": {},
   "outputs": [
    {
     "name": "stdout",
     "output_type": "stream",
     "text": [
      "              precision    recall  f1-score   support\n",
      "\n",
      "           0       0.19      0.30      0.23       201\n",
      "           1       0.87      0.78      0.82      1170\n",
      "\n",
      "    accuracy                           0.71      1371\n",
      "   macro avg       0.53      0.54      0.53      1371\n",
      "weighted avg       0.77      0.71      0.74      1371\n",
      "\n"
     ]
    }
   ],
   "source": [
    "from sklearn.metrics import classification_report\n",
    "\n",
    "y_pred_valid = xgb_valid.predict(X_valid_without_bureau)\n",
    "\n",
    "print(classification_report(y_valid_without_bureau, y_pred_valid))"
   ]
  },
  {
   "cell_type": "code",
   "execution_count": 75,
   "metadata": {},
   "outputs": [
    {
     "data": {
      "image/png": "[encoded data removed]",
      "text/plain": [
       "<Figure size 432x288 with 1 Axes>"
      ]
     },
     "metadata": {
      "needs_background": "light"
     },
     "output_type": "display_data"
    }
   ],
   "source": [
    "from sklearn.metrics import plot_roc_curve\n",
    "plot_roc_curve(xgb_valid,X_valid_without_bureau,y_valid_without_bureau)\n",
    "plt.show()"
   ]
  },
  {
   "cell_type": "code",
   "execution_count": 76,
   "metadata": {},
   "outputs": [
    {
     "name": "stdout",
     "output_type": "stream",
     "text": [
      "              precision    recall  f1-score   support\n",
      "\n",
      "           0       0.15      0.07      0.10       289\n",
      "           1       0.85      0.93      0.89      1676\n",
      "\n",
      "    accuracy                           0.81      1965\n",
      "   macro avg       0.50      0.50      0.49      1965\n",
      "weighted avg       0.75      0.81      0.77      1965\n",
      "\n"
     ]
    }
   ],
   "source": [
    "y_pred_test_without_bureau = xgb_valid.predict(X_test_without_bureau)\n",
    "print(classification_report(y_test_without_bureau, y_pred_test_without_bureau))"
   ]
  },
  {
   "cell_type": "code",
   "execution_count": 77,
   "metadata": {},
   "outputs": [
    {
     "name": "stdout",
     "output_type": "stream",
     "text": [
      "Final DecisionTree Gini Score (on test Set)            : -0.046518733844794324 \n"
     ]
    }
   ],
   "source": [
    "print(f\"Final DecisionTree Gini Score (on test Set)            : {(2*(roc_auc_score(y_test_without_bureau, xgb_valid.predict_proba(X_test_without_bureau)[:, 1])))-1} \")"
   ]
  },
  {
   "cell_type": "markdown",
   "metadata": {},
   "source": [
    "#### Evaluate with all data"
   ]
  },
  {
   "cell_type": "markdown",
   "metadata": {},
   "source": [
    "##### Without bureau data"
   ]
  },
  {
   "cell_type": "code",
   "execution_count": 78,
   "metadata": {},
   "outputs": [
    {
     "data": {
      "text/html": [
       "<div>\n",
       "<style scoped>\n",
       "    .dataframe tbody tr th:only-of-type {\n",
       "        vertical-align: middle;\n",
       "    }\n",
       "\n",
       "    .dataframe tbody tr th {\n",
       "        vertical-align: top;\n",
       "    }\n",
       "\n",
       "    .dataframe thead th {\n",
       "        text-align: right;\n",
       "    }\n",
       "</style>\n",
       "<table border=\"1\" class=\"dataframe\">\n",
       "  <thead>\n",
       "    <tr style=\"text-align: right;\">\n",
       "      <th></th>\n",
       "      <th>customer_id</th>\n",
       "      <th>AGE</th>\n",
       "      <th>INCOME</th>\n",
       "      <th>GENDER</th>\n",
       "      <th>EDUCATION</th>\n",
       "      <th>LOAN_PURPOSE</th>\n",
       "      <th>APPLICATION_RECEIVE_TIME</th>\n",
       "      <th>HAS_APPLIED_BEFORE</th>\n",
       "      <th>HAS_INCOME_VERIFICATION</th>\n",
       "      <th>LOAN_WAS_PAID_BACK</th>\n",
       "      <th>KNOWN_ASSETS</th>\n",
       "      <th>Score</th>\n",
       "    </tr>\n",
       "  </thead>\n",
       "  <tbody>\n",
       "    <tr>\n",
       "      <th>0</th>\n",
       "      <td>36495</td>\n",
       "      <td>28</td>\n",
       "      <td>15000000.0</td>\n",
       "      <td>Male</td>\n",
       "      <td>Bachelor Degree</td>\n",
       "      <td>Renovation</td>\n",
       "      <td>07:13:00</td>\n",
       "      <td>No</td>\n",
       "      <td>Yes</td>\n",
       "      <td>1</td>\n",
       "      <td>NaN</td>\n",
       "      <td>NaN</td>\n",
       "    </tr>\n",
       "    <tr>\n",
       "      <th>1</th>\n",
       "      <td>36500</td>\n",
       "      <td>29</td>\n",
       "      <td>14000000.0</td>\n",
       "      <td>Female</td>\n",
       "      <td>Bachelor Degree</td>\n",
       "      <td>Renovation</td>\n",
       "      <td>19:30:00</td>\n",
       "      <td>Yes</td>\n",
       "      <td>Yes</td>\n",
       "      <td>0</td>\n",
       "      <td>NaN</td>\n",
       "      <td>0.86</td>\n",
       "    </tr>\n",
       "    <tr>\n",
       "      <th>2</th>\n",
       "      <td>36505</td>\n",
       "      <td>36</td>\n",
       "      <td>21000000.0</td>\n",
       "      <td>Female</td>\n",
       "      <td>Bachelor Degree</td>\n",
       "      <td>Renovation</td>\n",
       "      <td>06:12:00</td>\n",
       "      <td>No</td>\n",
       "      <td>Yes</td>\n",
       "      <td>1</td>\n",
       "      <td>NaN</td>\n",
       "      <td>0.83</td>\n",
       "    </tr>\n",
       "    <tr>\n",
       "      <th>3</th>\n",
       "      <td>36510</td>\n",
       "      <td>44</td>\n",
       "      <td>5000000.0</td>\n",
       "      <td>Male</td>\n",
       "      <td>Bachelor Degree</td>\n",
       "      <td>Investment</td>\n",
       "      <td>17:48:00</td>\n",
       "      <td>No</td>\n",
       "      <td>Yes</td>\n",
       "      <td>1</td>\n",
       "      <td>NaN</td>\n",
       "      <td>0.79</td>\n",
       "    </tr>\n",
       "    <tr>\n",
       "      <th>4</th>\n",
       "      <td>36515</td>\n",
       "      <td>34</td>\n",
       "      <td>6000000.0</td>\n",
       "      <td>Male</td>\n",
       "      <td>Bachelor Degree</td>\n",
       "      <td>Credit card</td>\n",
       "      <td>12:17:00</td>\n",
       "      <td>No</td>\n",
       "      <td>Yes</td>\n",
       "      <td>1</td>\n",
       "      <td>NaN</td>\n",
       "      <td>NaN</td>\n",
       "    </tr>\n",
       "  </tbody>\n",
       "</table>\n",
       "</div>"
      ],
      "text/plain": [
       "   customer_id  AGE      INCOME  GENDER        EDUCATION LOAN_PURPOSE  \\\n",
       "0        36495   28  15000000.0    Male  Bachelor Degree   Renovation   \n",
       "1        36500   29  14000000.0  Female  Bachelor Degree   Renovation   \n",
       "2        36505   36  21000000.0  Female  Bachelor Degree   Renovation   \n",
       "3        36510   44   5000000.0    Male  Bachelor Degree   Investment   \n",
       "4        36515   34   6000000.0    Male  Bachelor Degree  Credit card   \n",
       "\n",
       "  APPLICATION_RECEIVE_TIME HAS_APPLIED_BEFORE HAS_INCOME_VERIFICATION  \\\n",
       "0                 07:13:00                 No                     Yes   \n",
       "1                 19:30:00                Yes                     Yes   \n",
       "2                 06:12:00                 No                     Yes   \n",
       "3                 17:48:00                 No                     Yes   \n",
       "4                 12:17:00                 No                     Yes   \n",
       "\n",
       "   LOAN_WAS_PAID_BACK  KNOWN_ASSETS  Score  \n",
       "0                   1           NaN    NaN  \n",
       "1                   0           NaN   0.86  \n",
       "2                   1           NaN   0.83  \n",
       "3                   1           NaN   0.79  \n",
       "4                   1           NaN    NaN  "
      ]
     },
     "execution_count": 78,
     "metadata": {},
     "output_type": "execute_result"
    }
   ],
   "source": [
    "# get all data without bureau\n",
    "df_all_xb = df[df['LOANS_WITH_DELAYS'].isna() == True]\n",
    "df_all_xb = df_all_xb.drop(columns=[ \"LOANS_WITHOUT_DELAYS\", \"LOANS_WITH_DELAYS\"]).reset_index(drop=True)\n",
    "df_all_xb.head()"
   ]
  },
  {
   "cell_type": "code",
   "execution_count": 79,
   "metadata": {},
   "outputs": [
    {
     "data": {
      "text/plain": [
       "(1308, 22)"
      ]
     },
     "execution_count": 79,
     "metadata": {},
     "output_type": "execute_result"
    }
   ],
   "source": [
    "#test with all data whitout bureau\n",
    "X_cek,y_cek = feature_engineering_xb(df_all_xb)\n",
    "X_cek.shape"
   ]
  },
  {
   "cell_type": "code",
   "execution_count": 80,
   "metadata": {},
   "outputs": [
    {
     "name": "stdout",
     "output_type": "stream",
     "text": [
      "              precision    recall  f1-score   support\n",
      "\n",
      "           0       0.19      0.28      0.23       202\n",
      "           1       0.86      0.78      0.82      1106\n",
      "\n",
      "    accuracy                           0.70      1308\n",
      "   macro avg       0.52      0.53      0.52      1308\n",
      "weighted avg       0.75      0.70      0.73      1308\n",
      "\n"
     ]
    }
   ],
   "source": [
    "y_pred = xgb_valid.predict(X_cek)\n",
    "print(classification_report(y_cek, y_pred))"
   ]
  },
  {
   "cell_type": "markdown",
   "metadata": {},
   "source": [
    "##### Without all data remove bureau"
   ]
  },
  {
   "cell_type": "code",
   "execution_count": 81,
   "metadata": {},
   "outputs": [
    {
     "data": {
      "text/html": [
       "<div>\n",
       "<style scoped>\n",
       "    .dataframe tbody tr th:only-of-type {\n",
       "        vertical-align: middle;\n",
       "    }\n",
       "\n",
       "    .dataframe tbody tr th {\n",
       "        vertical-align: top;\n",
       "    }\n",
       "\n",
       "    .dataframe thead th {\n",
       "        text-align: right;\n",
       "    }\n",
       "</style>\n",
       "<table border=\"1\" class=\"dataframe\">\n",
       "  <thead>\n",
       "    <tr style=\"text-align: right;\">\n",
       "      <th></th>\n",
       "      <th>customer_id</th>\n",
       "      <th>AGE</th>\n",
       "      <th>INCOME</th>\n",
       "      <th>GENDER</th>\n",
       "      <th>EDUCATION</th>\n",
       "      <th>LOAN_PURPOSE</th>\n",
       "      <th>APPLICATION_RECEIVE_TIME</th>\n",
       "      <th>HAS_APPLIED_BEFORE</th>\n",
       "      <th>HAS_INCOME_VERIFICATION</th>\n",
       "      <th>LOAN_WAS_PAID_BACK</th>\n",
       "      <th>KNOWN_ASSETS</th>\n",
       "      <th>Score</th>\n",
       "    </tr>\n",
       "  </thead>\n",
       "  <tbody>\n",
       "    <tr>\n",
       "      <th>0</th>\n",
       "      <td>36493</td>\n",
       "      <td>40</td>\n",
       "      <td>10000000.0</td>\n",
       "      <td>Female</td>\n",
       "      <td>Diploma</td>\n",
       "      <td>Working Capital</td>\n",
       "      <td>09:07:00</td>\n",
       "      <td>No</td>\n",
       "      <td>Yes</td>\n",
       "      <td>1</td>\n",
       "      <td>40000000.0</td>\n",
       "      <td>0.77</td>\n",
       "    </tr>\n",
       "    <tr>\n",
       "      <th>1</th>\n",
       "      <td>36494</td>\n",
       "      <td>39</td>\n",
       "      <td>15000000.0</td>\n",
       "      <td>Female</td>\n",
       "      <td>Bachelor Degree</td>\n",
       "      <td>Other</td>\n",
       "      <td>15:15:00</td>\n",
       "      <td>No</td>\n",
       "      <td>Yes</td>\n",
       "      <td>1</td>\n",
       "      <td>20000000.0</td>\n",
       "      <td>0.93</td>\n",
       "    </tr>\n",
       "    <tr>\n",
       "      <th>2</th>\n",
       "      <td>36495</td>\n",
       "      <td>28</td>\n",
       "      <td>15000000.0</td>\n",
       "      <td>Male</td>\n",
       "      <td>Bachelor Degree</td>\n",
       "      <td>Renovation</td>\n",
       "      <td>07:13:00</td>\n",
       "      <td>No</td>\n",
       "      <td>Yes</td>\n",
       "      <td>1</td>\n",
       "      <td>NaN</td>\n",
       "      <td>NaN</td>\n",
       "    </tr>\n",
       "    <tr>\n",
       "      <th>3</th>\n",
       "      <td>36496</td>\n",
       "      <td>28</td>\n",
       "      <td>4000000.0</td>\n",
       "      <td>Male</td>\n",
       "      <td>Bachelor Degree</td>\n",
       "      <td>Renovation</td>\n",
       "      <td>12:05:00</td>\n",
       "      <td>Yes</td>\n",
       "      <td>Yes</td>\n",
       "      <td>1</td>\n",
       "      <td>0.0</td>\n",
       "      <td>0.78</td>\n",
       "    </tr>\n",
       "    <tr>\n",
       "      <th>4</th>\n",
       "      <td>36497</td>\n",
       "      <td>38</td>\n",
       "      <td>10000000.0</td>\n",
       "      <td>Male</td>\n",
       "      <td>Diploma</td>\n",
       "      <td>Renovation</td>\n",
       "      <td>14:35:00</td>\n",
       "      <td>Yes</td>\n",
       "      <td>Yes</td>\n",
       "      <td>0</td>\n",
       "      <td>40000000.0</td>\n",
       "      <td>0.81</td>\n",
       "    </tr>\n",
       "  </tbody>\n",
       "</table>\n",
       "</div>"
      ],
      "text/plain": [
       "   customer_id  AGE      INCOME  GENDER        EDUCATION     LOAN_PURPOSE  \\\n",
       "0        36493   40  10000000.0  Female          Diploma  Working Capital   \n",
       "1        36494   39  15000000.0  Female  Bachelor Degree            Other   \n",
       "2        36495   28  15000000.0    Male  Bachelor Degree       Renovation   \n",
       "3        36496   28   4000000.0    Male  Bachelor Degree       Renovation   \n",
       "4        36497   38  10000000.0    Male          Diploma       Renovation   \n",
       "\n",
       "  APPLICATION_RECEIVE_TIME HAS_APPLIED_BEFORE HAS_INCOME_VERIFICATION  \\\n",
       "0                 09:07:00                 No                     Yes   \n",
       "1                 15:15:00                 No                     Yes   \n",
       "2                 07:13:00                 No                     Yes   \n",
       "3                 12:05:00                Yes                     Yes   \n",
       "4                 14:35:00                Yes                     Yes   \n",
       "\n",
       "   LOAN_WAS_PAID_BACK  KNOWN_ASSETS  Score  \n",
       "0                   1    40000000.0   0.77  \n",
       "1                   1    20000000.0   0.93  \n",
       "2                   1           NaN    NaN  \n",
       "3                   1           0.0   0.78  \n",
       "4                   0    40000000.0   0.81  "
      ]
     },
     "execution_count": 81,
     "metadata": {},
     "output_type": "execute_result"
    }
   ],
   "source": [
    "# get all data remove bureau\n",
    "df_all = df.drop(columns=[ \"LOANS_WITHOUT_DELAYS\", \"LOANS_WITH_DELAYS\"]).reset_index(drop=True)\n",
    "df_all.head()"
   ]
  },
  {
   "cell_type": "code",
   "execution_count": 82,
   "metadata": {},
   "outputs": [
    {
     "data": {
      "text/plain": [
       "(6537, 22)"
      ]
     },
     "execution_count": 82,
     "metadata": {},
     "output_type": "execute_result"
    }
   ],
   "source": [
    "\n",
    "X_cek,y_cek = feature_engineering_xb(df_all)\n",
    "X_cek.shape"
   ]
  },
  {
   "cell_type": "code",
   "execution_count": 83,
   "metadata": {},
   "outputs": [
    {
     "name": "stdout",
     "output_type": "stream",
     "text": [
      "              precision    recall  f1-score   support\n",
      "\n",
      "           0       0.22      0.33      0.26       961\n",
      "           1       0.87      0.80      0.83      5576\n",
      "\n",
      "    accuracy                           0.73      6537\n",
      "   macro avg       0.54      0.56      0.55      6537\n",
      "weighted avg       0.78      0.73      0.75      6537\n",
      "\n"
     ]
    }
   ],
   "source": [
    "y_pred = xgb_valid.predict(X_cek)\n",
    "print(classification_report(y_cek, y_pred))"
   ]
  },
  {
   "cell_type": "markdown",
   "metadata": {},
   "source": [
    "## uji coba dengan 50:50"
   ]
  },
  {
   "cell_type": "code",
   "execution_count": 84,
   "metadata": {},
   "outputs": [
    {
     "data": {
      "text/html": [
       "<div>\n",
       "<style scoped>\n",
       "    .dataframe tbody tr th:only-of-type {\n",
       "        vertical-align: middle;\n",
       "    }\n",
       "\n",
       "    .dataframe tbody tr th {\n",
       "        vertical-align: top;\n",
       "    }\n",
       "\n",
       "    .dataframe thead th {\n",
       "        text-align: right;\n",
       "    }\n",
       "</style>\n",
       "<table border=\"1\" class=\"dataframe\">\n",
       "  <thead>\n",
       "    <tr style=\"text-align: right;\">\n",
       "      <th></th>\n",
       "      <th>customer_id</th>\n",
       "      <th>AGE</th>\n",
       "      <th>INCOME</th>\n",
       "      <th>GENDER</th>\n",
       "      <th>EDUCATION</th>\n",
       "      <th>LOAN_PURPOSE</th>\n",
       "      <th>APPLICATION_RECEIVE_TIME</th>\n",
       "      <th>HAS_APPLIED_BEFORE</th>\n",
       "      <th>HAS_INCOME_VERIFICATION</th>\n",
       "      <th>LOAN_WAS_PAID_BACK</th>\n",
       "      <th>LOANS_WITHOUT_DELAYS</th>\n",
       "      <th>LOANS_WITH_DELAYS</th>\n",
       "      <th>KNOWN_ASSETS</th>\n",
       "      <th>Score</th>\n",
       "    </tr>\n",
       "  </thead>\n",
       "  <tbody>\n",
       "    <tr>\n",
       "      <th>0</th>\n",
       "      <td>36493</td>\n",
       "      <td>40</td>\n",
       "      <td>10000000.0</td>\n",
       "      <td>Female</td>\n",
       "      <td>Diploma</td>\n",
       "      <td>Working Capital</td>\n",
       "      <td>09:07:00</td>\n",
       "      <td>No</td>\n",
       "      <td>Yes</td>\n",
       "      <td>1</td>\n",
       "      <td>3.0</td>\n",
       "      <td>3.0</td>\n",
       "      <td>40000000.0</td>\n",
       "      <td>0.77</td>\n",
       "    </tr>\n",
       "    <tr>\n",
       "      <th>1</th>\n",
       "      <td>36494</td>\n",
       "      <td>39</td>\n",
       "      <td>15000000.0</td>\n",
       "      <td>Female</td>\n",
       "      <td>Bachelor Degree</td>\n",
       "      <td>Other</td>\n",
       "      <td>15:15:00</td>\n",
       "      <td>No</td>\n",
       "      <td>Yes</td>\n",
       "      <td>1</td>\n",
       "      <td>3.0</td>\n",
       "      <td>0.0</td>\n",
       "      <td>20000000.0</td>\n",
       "      <td>0.93</td>\n",
       "    </tr>\n",
       "    <tr>\n",
       "      <th>2</th>\n",
       "      <td>36495</td>\n",
       "      <td>28</td>\n",
       "      <td>15000000.0</td>\n",
       "      <td>Male</td>\n",
       "      <td>Bachelor Degree</td>\n",
       "      <td>Renovation</td>\n",
       "      <td>07:13:00</td>\n",
       "      <td>No</td>\n",
       "      <td>Yes</td>\n",
       "      <td>1</td>\n",
       "      <td>NaN</td>\n",
       "      <td>NaN</td>\n",
       "      <td>NaN</td>\n",
       "      <td>NaN</td>\n",
       "    </tr>\n",
       "    <tr>\n",
       "      <th>3</th>\n",
       "      <td>36496</td>\n",
       "      <td>28</td>\n",
       "      <td>4000000.0</td>\n",
       "      <td>Male</td>\n",
       "      <td>Bachelor Degree</td>\n",
       "      <td>Renovation</td>\n",
       "      <td>12:05:00</td>\n",
       "      <td>Yes</td>\n",
       "      <td>Yes</td>\n",
       "      <td>1</td>\n",
       "      <td>2.0</td>\n",
       "      <td>1.0</td>\n",
       "      <td>0.0</td>\n",
       "      <td>0.78</td>\n",
       "    </tr>\n",
       "    <tr>\n",
       "      <th>4</th>\n",
       "      <td>36497</td>\n",
       "      <td>38</td>\n",
       "      <td>10000000.0</td>\n",
       "      <td>Male</td>\n",
       "      <td>Diploma</td>\n",
       "      <td>Renovation</td>\n",
       "      <td>14:35:00</td>\n",
       "      <td>Yes</td>\n",
       "      <td>Yes</td>\n",
       "      <td>0</td>\n",
       "      <td>1.0</td>\n",
       "      <td>0.0</td>\n",
       "      <td>40000000.0</td>\n",
       "      <td>0.81</td>\n",
       "    </tr>\n",
       "  </tbody>\n",
       "</table>\n",
       "</div>"
      ],
      "text/plain": [
       "   customer_id  AGE      INCOME  GENDER        EDUCATION     LOAN_PURPOSE  \\\n",
       "0        36493   40  10000000.0  Female          Diploma  Working Capital   \n",
       "1        36494   39  15000000.0  Female  Bachelor Degree            Other   \n",
       "2        36495   28  15000000.0    Male  Bachelor Degree       Renovation   \n",
       "3        36496   28   4000000.0    Male  Bachelor Degree       Renovation   \n",
       "4        36497   38  10000000.0    Male          Diploma       Renovation   \n",
       "\n",
       "  APPLICATION_RECEIVE_TIME HAS_APPLIED_BEFORE HAS_INCOME_VERIFICATION  \\\n",
       "0                 09:07:00                 No                     Yes   \n",
       "1                 15:15:00                 No                     Yes   \n",
       "2                 07:13:00                 No                     Yes   \n",
       "3                 12:05:00                Yes                     Yes   \n",
       "4                 14:35:00                Yes                     Yes   \n",
       "\n",
       "   LOAN_WAS_PAID_BACK  LOANS_WITHOUT_DELAYS  LOANS_WITH_DELAYS  KNOWN_ASSETS  \\\n",
       "0                   1                   3.0                3.0    40000000.0   \n",
       "1                   1                   3.0                0.0    20000000.0   \n",
       "2                   1                   NaN                NaN           NaN   \n",
       "3                   1                   2.0                1.0           0.0   \n",
       "4                   0                   1.0                0.0    40000000.0   \n",
       "\n",
       "   Score  \n",
       "0   0.77  \n",
       "1   0.93  \n",
       "2    NaN  \n",
       "3   0.78  \n",
       "4   0.81  "
      ]
     },
     "execution_count": 84,
     "metadata": {},
     "output_type": "execute_result"
    }
   ],
   "source": [
    "# merge master and bureau and external data\n",
    "df = pd.merge(master, bureau, on='customer_id', how='left')\n",
    "df = pd.merge(df, external, on='customer_id', how='left')\n",
    "df.head()"
   ]
  },
  {
   "cell_type": "code",
   "execution_count": 85,
   "metadata": {},
   "outputs": [],
   "source": [
    "df_cek = df.drop(columns=[ \"LOANS_WITHOUT_DELAYS\", \"LOANS_WITH_DELAYS\"])"
   ]
  },
  {
   "cell_type": "code",
   "execution_count": 86,
   "metadata": {},
   "outputs": [
    {
     "data": {
      "text/html": [
       "<div>\n",
       "<style scoped>\n",
       "    .dataframe tbody tr th:only-of-type {\n",
       "        vertical-align: middle;\n",
       "    }\n",
       "\n",
       "    .dataframe tbody tr th {\n",
       "        vertical-align: top;\n",
       "    }\n",
       "\n",
       "    .dataframe thead th {\n",
       "        text-align: right;\n",
       "    }\n",
       "</style>\n",
       "<table border=\"1\" class=\"dataframe\">\n",
       "  <thead>\n",
       "    <tr style=\"text-align: right;\">\n",
       "      <th></th>\n",
       "      <th>customer_id</th>\n",
       "      <th>AGE</th>\n",
       "      <th>INCOME</th>\n",
       "      <th>GENDER</th>\n",
       "      <th>EDUCATION</th>\n",
       "      <th>LOAN_PURPOSE</th>\n",
       "      <th>APPLICATION_RECEIVE_TIME</th>\n",
       "      <th>HAS_APPLIED_BEFORE</th>\n",
       "      <th>HAS_INCOME_VERIFICATION</th>\n",
       "      <th>LOAN_WAS_PAID_BACK</th>\n",
       "      <th>KNOWN_ASSETS</th>\n",
       "      <th>Score</th>\n",
       "    </tr>\n",
       "  </thead>\n",
       "  <tbody>\n",
       "    <tr>\n",
       "      <th>0</th>\n",
       "      <td>36500</td>\n",
       "      <td>29</td>\n",
       "      <td>14000000.0</td>\n",
       "      <td>Female</td>\n",
       "      <td>Bachelor Degree</td>\n",
       "      <td>Renovation</td>\n",
       "      <td>19:30:00</td>\n",
       "      <td>Yes</td>\n",
       "      <td>Yes</td>\n",
       "      <td>0</td>\n",
       "      <td>NaN</td>\n",
       "      <td>0.86</td>\n",
       "    </tr>\n",
       "    <tr>\n",
       "      <th>1</th>\n",
       "      <td>36570</td>\n",
       "      <td>23</td>\n",
       "      <td>6000000.0</td>\n",
       "      <td>Male</td>\n",
       "      <td>Bachelor Degree</td>\n",
       "      <td>Renovation</td>\n",
       "      <td>23:39:00</td>\n",
       "      <td>Yes</td>\n",
       "      <td>No</td>\n",
       "      <td>0</td>\n",
       "      <td>NaN</td>\n",
       "      <td>0.84</td>\n",
       "    </tr>\n",
       "    <tr>\n",
       "      <th>2</th>\n",
       "      <td>36590</td>\n",
       "      <td>31</td>\n",
       "      <td>8000000.0</td>\n",
       "      <td>Male</td>\n",
       "      <td>Bachelor Degree</td>\n",
       "      <td>Renovation</td>\n",
       "      <td>09:22:00</td>\n",
       "      <td>Yes</td>\n",
       "      <td>Yes</td>\n",
       "      <td>0</td>\n",
       "      <td>NaN</td>\n",
       "      <td>0.85</td>\n",
       "    </tr>\n",
       "    <tr>\n",
       "      <th>3</th>\n",
       "      <td>36600</td>\n",
       "      <td>42</td>\n",
       "      <td>6000000.0</td>\n",
       "      <td>Male</td>\n",
       "      <td>Bachelor Degree</td>\n",
       "      <td>Working Capital</td>\n",
       "      <td>11:40:00</td>\n",
       "      <td>No</td>\n",
       "      <td>Yes</td>\n",
       "      <td>0</td>\n",
       "      <td>NaN</td>\n",
       "      <td>NaN</td>\n",
       "    </tr>\n",
       "    <tr>\n",
       "      <th>4</th>\n",
       "      <td>36610</td>\n",
       "      <td>47</td>\n",
       "      <td>8000000.0</td>\n",
       "      <td>Female</td>\n",
       "      <td>High School</td>\n",
       "      <td>Credit card</td>\n",
       "      <td>00:24:00</td>\n",
       "      <td>No</td>\n",
       "      <td>Yes</td>\n",
       "      <td>0</td>\n",
       "      <td>NaN</td>\n",
       "      <td>0.81</td>\n",
       "    </tr>\n",
       "  </tbody>\n",
       "</table>\n",
       "</div>"
      ],
      "text/plain": [
       "   customer_id  AGE      INCOME  GENDER        EDUCATION     LOAN_PURPOSE  \\\n",
       "0        36500   29  14000000.0  Female  Bachelor Degree       Renovation   \n",
       "1        36570   23   6000000.0    Male  Bachelor Degree       Renovation   \n",
       "2        36590   31   8000000.0    Male  Bachelor Degree       Renovation   \n",
       "3        36600   42   6000000.0    Male  Bachelor Degree  Working Capital   \n",
       "4        36610   47   8000000.0  Female      High School      Credit card   \n",
       "\n",
       "  APPLICATION_RECEIVE_TIME HAS_APPLIED_BEFORE HAS_INCOME_VERIFICATION  \\\n",
       "0                 19:30:00                Yes                     Yes   \n",
       "1                 23:39:00                Yes                      No   \n",
       "2                 09:22:00                Yes                     Yes   \n",
       "3                 11:40:00                 No                     Yes   \n",
       "4                 00:24:00                 No                     Yes   \n",
       "\n",
       "   LOAN_WAS_PAID_BACK  KNOWN_ASSETS  Score  \n",
       "0                   0           NaN   0.86  \n",
       "1                   0           NaN   0.84  \n",
       "2                   0           NaN   0.85  \n",
       "3                   0           NaN    NaN  \n",
       "4                   0           NaN   0.81  "
      ]
     },
     "execution_count": 86,
     "metadata": {},
     "output_type": "execute_result"
    }
   ],
   "source": [
    "# get all data without bureau\n",
    "df_1 = df[df['LOANS_WITH_DELAYS'].isna() == True]\n",
    "df_1 = df_1.drop(columns=[ \"LOANS_WITHOUT_DELAYS\", \"LOANS_WITH_DELAYS\"])\n",
    "\n",
    "# get all data with label 0\n",
    "df_2 = df_1.loc[(df_1.LOAN_WAS_PAID_BACK == 0)]\n",
    "\n",
    "# get all labeled 1 data with the same number of row as label 0 data\n",
    "df_3 = df_1.loc[df_1.LOAN_WAS_PAID_BACK == 1, :].sample(n = df_2.shape[0])\n",
    "df_final = pd.concat([df_2, df_3], ignore_index=True)\n",
    "df_final.head()"
   ]
  },
  {
   "cell_type": "code",
   "execution_count": 87,
   "metadata": {},
   "outputs": [
    {
     "data": {
      "text/plain": [
       "0    202\n",
       "1    202\n",
       "Name: LOAN_WAS_PAID_BACK, dtype: int64"
      ]
     },
     "execution_count": 87,
     "metadata": {},
     "output_type": "execute_result"
    }
   ],
   "source": [
    "df_final.LOAN_WAS_PAID_BACK.value_counts()"
   ]
  },
  {
   "cell_type": "code",
   "execution_count": 88,
   "metadata": {},
   "outputs": [],
   "source": [
    "# do the splitting\n",
    "TARGET = \"LOAN_WAS_PAID_BACK\"\n",
    "TEST_SIZE = 0.3\n",
    "\n",
    "output_df, input_df = split_input_output(\n",
    "                            df_final,\n",
    "                            TARGET, save_file = False)\n",
    "\n",
    "x_train, y_train, x_valid, y_valid, x_test, y_test = split_data(input_df,\n",
    "                                                                    output_df,\n",
    "                                                                   True,\n",
    "                                                                   TEST_SIZE)"
   ]
  },
  {
   "cell_type": "code",
   "execution_count": 89,
   "metadata": {},
   "outputs": [
    {
     "name": "stdout",
     "output_type": "stream",
     "text": [
      "1    99\n",
      "0    98\n",
      "Name: LOAN_WAS_PAID_BACK, dtype: int64\n",
      "-------------------------------------\n",
      "0    43\n",
      "1    42\n",
      "Name: LOAN_WAS_PAID_BACK, dtype: int64\n",
      "-------------------------------------\n",
      "0    61\n",
      "1    61\n",
      "Name: LOAN_WAS_PAID_BACK, dtype: int64\n"
     ]
    }
   ],
   "source": [
    "# check if stratify is correct\n",
    "print(y_train.value_counts())\n",
    "print(\"-------------------------------------\")\n",
    "print(y_valid.value_counts())\n",
    "print(\"-------------------------------------\")\n",
    "print(y_test.value_counts())"
   ]
  },
  {
   "cell_type": "code",
   "execution_count": 90,
   "metadata": {},
   "outputs": [
    {
     "name": "stdout",
     "output_type": "stream",
     "text": [
      "1    0.502538\n",
      "0    0.497462\n",
      "Name: LOAN_WAS_PAID_BACK, dtype: float64\n",
      "-------------------------------------\n",
      "0    0.505882\n",
      "1    0.494118\n",
      "Name: LOAN_WAS_PAID_BACK, dtype: float64\n",
      "-------------------------------------\n",
      "0    0.5\n",
      "1    0.5\n",
      "Name: LOAN_WAS_PAID_BACK, dtype: float64\n"
     ]
    }
   ],
   "source": [
    "# check if stratify is correct\n",
    "print(y_train.value_counts(normalize = True))\n",
    "print(\"-------------------------------------\")\n",
    "print(y_valid.value_counts(normalize = True))\n",
    "print(\"-------------------------------------\")\n",
    "print(y_test.value_counts(normalize = True))"
   ]
  },
  {
   "cell_type": "markdown",
   "metadata": {},
   "source": [
    "### Feature engineering"
   ]
  },
  {
   "cell_type": "markdown",
   "metadata": {},
   "source": [
    "#### train"
   ]
  },
  {
   "cell_type": "code",
   "execution_count": 91,
   "metadata": {},
   "outputs": [],
   "source": [
    "df_train = pd.concat([x_train, pd.DataFrame(y_train)], axis = 1)"
   ]
  },
  {
   "cell_type": "code",
   "execution_count": 92,
   "metadata": {},
   "outputs": [],
   "source": [
    "# This is our final feature\n",
    "X_train_without_bureau,y_train_without_bureau = feature_engineering_xb(df_train)"
   ]
  },
  {
   "cell_type": "code",
   "execution_count": 93,
   "metadata": {},
   "outputs": [
    {
     "name": "stdout",
     "output_type": "stream",
     "text": [
      "{'LOAN_PURPOSE_Other', 'LOAN_PURPOSE_Car/Motorcycle', 'LOAN_PURPOSE_Housing loan'}\n"
     ]
    }
   ],
   "source": [
    "X_train_without_bureau = add_columns_xb(df_cek,X_train_without_bureau)"
   ]
  },
  {
   "cell_type": "code",
   "execution_count": 94,
   "metadata": {},
   "outputs": [
    {
     "name": "stdout",
     "output_type": "stream",
     "text": [
      " Data Train Without Bureau has 22 Features\n"
     ]
    }
   ],
   "source": [
    "print(f' Data Train Without Bureau has {X_train_without_bureau.shape[1]} Features')"
   ]
  },
  {
   "cell_type": "markdown",
   "metadata": {},
   "source": [
    "#### Valid"
   ]
  },
  {
   "cell_type": "code",
   "execution_count": 95,
   "metadata": {},
   "outputs": [],
   "source": [
    "df_valid = pd.concat([x_valid, pd.DataFrame(y_valid)], axis = 1)"
   ]
  },
  {
   "cell_type": "code",
   "execution_count": 96,
   "metadata": {},
   "outputs": [],
   "source": [
    "# This is our final feature\n",
    "X_valid_without_bureau,y_valid_without_bureau = feature_engineering_xb(df_valid)"
   ]
  },
  {
   "cell_type": "code",
   "execution_count": 97,
   "metadata": {},
   "outputs": [
    {
     "name": "stdout",
     "output_type": "stream",
     "text": [
      "{'LOAN_PURPOSE_Bills', 'LOAN_PURPOSE_Car/Motorcycle', 'LOAN_PURPOSE_Venture capital'}\n"
     ]
    }
   ],
   "source": [
    "X_valid_without_bureau = add_columns_xb(df_cek,X_valid_without_bureau)"
   ]
  },
  {
   "cell_type": "code",
   "execution_count": 98,
   "metadata": {},
   "outputs": [
    {
     "name": "stdout",
     "output_type": "stream",
     "text": [
      " Data Train Without Bureau has 22 Features\n"
     ]
    }
   ],
   "source": [
    "print(f' Data Train Without Bureau has {X_valid_without_bureau.shape[1]} Features')"
   ]
  },
  {
   "cell_type": "markdown",
   "metadata": {},
   "source": [
    "#### Test"
   ]
  },
  {
   "cell_type": "code",
   "execution_count": 99,
   "metadata": {},
   "outputs": [],
   "source": [
    "df_test = pd.concat([x_test, pd.DataFrame(y_test)], axis = 1)"
   ]
  },
  {
   "cell_type": "code",
   "execution_count": 100,
   "metadata": {},
   "outputs": [],
   "source": [
    "# This is our final feature\n",
    "X_test_without_bureau,y_test_without_bureau = feature_engineering_xb(df_test)"
   ]
  },
  {
   "cell_type": "code",
   "execution_count": 101,
   "metadata": {},
   "outputs": [
    {
     "name": "stdout",
     "output_type": "stream",
     "text": [
      "{'EDUCATION_Other', 'LOAN_PURPOSE_Car/Motorcycle'}\n"
     ]
    }
   ],
   "source": [
    "X_test_without_bureau = add_columns_xb(df_cek,X_test_without_bureau)"
   ]
  },
  {
   "cell_type": "code",
   "execution_count": 102,
   "metadata": {},
   "outputs": [
    {
     "name": "stdout",
     "output_type": "stream",
     "text": [
      " Data Train Without Bureau has 22 Features\n"
     ]
    }
   ],
   "source": [
    "print(f' Data Train Without Bureau has {X_test_without_bureau.shape[1]} Features')"
   ]
  },
  {
   "cell_type": "code",
   "execution_count": 103,
   "metadata": {},
   "outputs": [],
   "source": [
    "# Changing everything to float and replacing infinities\n",
    "for c in X_train_without_bureau.columns:\n",
    "  X_train_without_bureau[c] = X_train_without_bureau[c].astype(np.float64)\n",
    "X_train_without_bureau.replace([np.inf, -np.inf], np.nan, inplace=True)"
   ]
  },
  {
   "cell_type": "code",
   "execution_count": 104,
   "metadata": {},
   "outputs": [],
   "source": [
    "# Changing everything to float and replacing infinities\n",
    "for c in X_valid_without_bureau.columns:\n",
    "  X_valid_without_bureau[c] = X_valid_without_bureau[c].astype(np.float64)\n",
    "X_valid_without_bureau.replace([np.inf, -np.inf], np.nan, inplace=True)"
   ]
  },
  {
   "cell_type": "code",
   "execution_count": 105,
   "metadata": {},
   "outputs": [],
   "source": [
    "# Changing everything to float and replacing infinities\n",
    "for c in X_test_without_bureau.columns:\n",
    "  X_test_without_bureau[c] = X_test_without_bureau[c].astype(np.float64)\n",
    "X_test_without_bureau.replace([np.inf, -np.inf], np.nan, inplace=True)"
   ]
  },
  {
   "cell_type": "code",
   "execution_count": 106,
   "metadata": {},
   "outputs": [
    {
     "data": {
      "text/plain": [
       "AGE                                        0\n",
       "INCOME                                     0\n",
       "GENDER                                     0\n",
       "HAS_APPLIED_BEFORE                         0\n",
       "HAS_INCOME_VERIFICATION                    0\n",
       "EDUCATION_Bachelor Degree                  0\n",
       "EDUCATION_Diploma                          0\n",
       "EDUCATION_High School                      0\n",
       "EDUCATION_Master's Degree/Post graduate    0\n",
       "EDUCATION_Other                            0\n",
       "LOAN_PURPOSE_Bills                         0\n",
       "LOAN_PURPOSE_Credit card                   0\n",
       "LOAN_PURPOSE_Education                     0\n",
       "LOAN_PURPOSE_Electronic unsecured loan     0\n",
       "LOAN_PURPOSE_Holiday                       0\n",
       "LOAN_PURPOSE_Investment                    0\n",
       "LOAN_PURPOSE_Renovation                    0\n",
       "LOAN_PURPOSE_Venture capital               0\n",
       "LOAN_PURPOSE_Working Capital               0\n",
       "LOAN_PURPOSE_Other                         0\n",
       "LOAN_PURPOSE_Car/Motorcycle                0\n",
       "LOAN_PURPOSE_Housing loan                  0\n",
       "dtype: int64"
      ]
     },
     "execution_count": 106,
     "metadata": {},
     "output_type": "execute_result"
    }
   ],
   "source": [
    "X_train_without_bureau.isnull().sum()"
   ]
  },
  {
   "cell_type": "code",
   "execution_count": 107,
   "metadata": {},
   "outputs": [],
   "source": [
    "# Fixing column names that contains [,],or < for XGBoost model\n",
    "import re\n",
    "regex = re.compile(r\"\\[|\\]|<\", re.IGNORECASE)\n",
    "X_train_without_bureau.columns = [regex.sub(\"_\", col) if any(x in str(col) for x in set(('[', ']', '<'))) else col for col in X_train_without_bureau.columns.values]\n",
    "X_valid_without_bureau.columns = [regex.sub(\"_\", col) if any(x in str(col) for x in set(('[', ']', '<'))) else col for col in X_valid_without_bureau.columns.values]\n",
    "X_test_without_bureau.columns = [regex.sub(\"_\", col) if any(x in str(col) for x in set(('[', ']', '<'))) else col for col in X_test_without_bureau.columns.values]"
   ]
  },
  {
   "cell_type": "code",
   "execution_count": 108,
   "metadata": {},
   "outputs": [
    {
     "name": "stdout",
     "output_type": "stream",
     "text": [
      "Gini Performance Evaluation\n",
      "\n",
      "Logistic Regression Gini : 0.4922154428781822\n",
      "Random Forest Gini       : 0.9847464759099516\n",
      "Decision Tree Gini       : 0.9910582789816957\n",
      "KNN Classifier Gini      : 0.5353460972017672\n",
      "LGBM Gini                : 0.7389017462655165\n",
      "XGBoost Gini             : 0.9853776562171261\n"
     ]
    }
   ],
   "source": [
    "# Check the baseline model\n",
    "def baseline_model(X_train,y_train):\n",
    "  clf_logreg = LogisticRegression().fit(X_train,y_train)\n",
    "  clf_rf = RandomForestClassifier().fit(X_train,y_train)\n",
    "  clf_tree = DecisionTreeClassifier().fit(X_train,y_train)\n",
    "  clf_knn = KNeighborsClassifier().fit(X_train,y_train)\n",
    "  clf_lgbm = LGBMClassifier().fit(X_train,y_train)\n",
    "  clf_xgb = xgb.XGBClassifier().fit(X_train,y_train)\n",
    "\n",
    "  gini_logreg = (2*(roc_auc_score(y_train, clf_logreg.predict_proba(X_train)[:, 1])))-1\n",
    "  gini_rf = (2*(roc_auc_score(y_train, clf_rf.predict_proba(X_train)[:, 1])))-1\n",
    "  gini_tree = (2*(roc_auc_score(y_train, clf_tree.predict_proba(X_train)[:, 1])))-1\n",
    "  gini_knn = (2*(roc_auc_score(y_train, clf_knn.predict_proba(X_train)[:, 1])))-1\n",
    "  gini_lgbm = (2*(roc_auc_score(y_train, clf_lgbm.predict_proba(X_train)[:, 1])))-1\n",
    "  gini_xgb = (2*(roc_auc_score(y_train, clf_xgb.predict_proba(X_train)[:, 1])))-1\n",
    "\n",
    "  print(\"Gini Performance Evaluation\\n\")\n",
    "  print(f\"Logistic Regression Gini : {gini_logreg}\")\n",
    "  print(f\"Random Forest Gini       : {gini_rf}\")\n",
    "  print(f\"Decision Tree Gini       : {gini_tree}\")\n",
    "  print(f\"KNN Classifier Gini      : {gini_knn}\")\n",
    "  print(f\"LGBM Gini                : {gini_lgbm}\")\n",
    "  print(f\"XGBoost Gini             : {gini_xgb}\")\n",
    "\n",
    "  return clf_logreg, clf_rf, clf_tree, clf_knn, clf_lgbm, clf_xgb\n",
    " \n",
    "clf_logreg, clf_rf, clf_tree, clf_knn, clf_lgbm, clf_xgb = baseline_model(X_train_without_bureau,y_train_without_bureau)"
   ]
  },
  {
   "cell_type": "markdown",
   "metadata": {},
   "source": [
    "Hyperparameter tuning on best baseline model\n",
    "We will be using Decision Tree since it has the highest gini score."
   ]
  },
  {
   "cell_type": "markdown",
   "metadata": {},
   "source": [
    "#### Hyperparameter tuning on best baseline model\n"
   ]
  },
  {
   "cell_type": "code",
   "execution_count": 109,
   "metadata": {},
   "outputs": [
    {
     "name": "stdout",
     "output_type": "stream",
     "text": [
      "Best Score tree: 0.32711111111111113\n",
      "Best Hyperparameters: {'min_samples_leaf': 20, 'max_depth': 3, 'criterion': 'entropy'}\n",
      "Best Score rf: 0.2937222222222222\n",
      "Best Hyperparameters: {'min_samples_split': 10, 'min_samples_leaf': 4, 'max_depth': 70}\n",
      "Best Score xgb: 0.14872222222222198\n",
      "Best Hyperparameters: {'fs__k': 10, 'clf__n_estimators': 200, 'clf__max_depth': 8, 'clf__learning_rate': 0.3, 'clf__gamma': 0.0, 'clf__colsample_bytree': 0.1}\n",
      "Wall time: 47.2 s\n"
     ]
    }
   ],
   "source": [
    "%%time\n",
    "\n",
    "clf_xgb = xgb.XGBClassifier()\n",
    "clf_tree = DecisionTreeClassifier()\n",
    "clf_rf = RandomForestClassifier()\n",
    "\n",
    "# Define evaluation\n",
    "cv = RepeatedStratifiedKFold(n_splits=10, n_repeats=2, random_state=420)\n",
    "\n",
    "# Define search space\n",
    "space_tree = dict()\n",
    "space_rf = dict()\n",
    "space_xgb = [\n",
    "  {\n",
    "    'clf__n_estimators': [50, 100, 150, 200],\n",
    "    'clf__learning_rate': [0.01, 0.1, 0.2, 0.3],\n",
    "    'clf__max_depth': range(3, 10),\n",
    "    'clf__colsample_bytree': [i/10.0 for i in range(1, 3)],\n",
    "    'clf__gamma': [i/10.0 for i in range(3)],\n",
    "#     'fs__score_func': [chi2],\n",
    "    'fs__k': [10],\n",
    "  }\n",
    "]\n",
    "\n",
    "max_depth = [int(x) for x in np.linspace(10, 110, num = 11)] #RF\n",
    "max_depth.append(None) #RF\n",
    "space_rf['max_depth'] = max_depth # RF\n",
    "space_rf['min_samples_split'] = [2, 5, 10] # RF\n",
    "space_rf['min_samples_leaf'] = [1, 2, 4] # RF\n",
    "\n",
    "space_tree['max_depth'] = [2, 3, 5, 10, 20] #DT\n",
    "space_tree['min_samples_leaf'] = [5, 10, 20, 50, 100] #DT\n",
    "space_tree['criterion'] = [\"gini\", \"entropy\"] #DT\n",
    "\n",
    "# Define search\n",
    "search_tree = RandomizedSearchCV(clf_tree, space_tree, n_iter=30, scoring='roc_auc', n_jobs=30, cv=cv, random_state=1)\n",
    "search_rf = RandomizedSearchCV(clf_rf, space_rf, n_iter=30, scoring='roc_auc', n_jobs=30, cv=cv, random_state=1)\n",
    "search_xgb = RandomizedSearchCV(clf_xgb, space_xgb, n_iter=30, scoring='roc_auc', n_jobs=30, cv=cv, random_state=1)\n",
    "\n",
    "# Execute search\n",
    "result_tree = search_tree.fit(X_train_without_bureau,y_train_without_bureau)\n",
    "result_rf = search_rf.fit(X_train_without_bureau,y_train_without_bureau)\n",
    "result_xgb = search_xgb.fit(X_train_without_bureau,y_train_without_bureau)\n",
    "\n",
    "# Summarize result\n",
    "print('Best Score tree: %s' % ((result_tree.best_score_ * 2) - 1))\n",
    "print('Best Hyperparameters: %s' % result_tree.best_params_)\n",
    "\n",
    "print('Best Score rf: %s' % ((result_rf.best_score_*2) - 1))\n",
    "print('Best Hyperparameters: %s' % result_rf.best_params_)\n",
    "\n",
    "print('Best Score xgb: %s' % ((result_xgb.best_score_*2) - 1))\n",
    "print('Best Hyperparameters: %s' % result_xgb.best_params_)"
   ]
  },
  {
   "cell_type": "markdown",
   "metadata": {},
   "source": [
    "#### Evaluate on validation data"
   ]
  },
  {
   "cell_type": "code",
   "execution_count": 110,
   "metadata": {},
   "outputs": [
    {
     "name": "stdout",
     "output_type": "stream",
     "text": [
      "GINI validation data for Decision Tree : 0.10852713178294549\n",
      "GINI validation data for Random Forest : 0.0897009966777409\n",
      "GINI validation data for XGBOOST : 0.1705426356589148\n"
     ]
    }
   ],
   "source": [
    "dt_valid = DecisionTreeClassifier(\n",
    "    min_samples_leaf = 5, \n",
    "    max_depth = 10, \n",
    "    criterion = 'entropy').fit(X_train_without_bureau,y_train_without_bureau)\n",
    "\n",
    "rf_valid = RandomForestClassifier(\n",
    "    min_samples_split = 5, \n",
    "    min_samples_leaf = 4, \n",
    "    max_depth = 80).fit(X_train_without_bureau,y_train_without_bureau)\n",
    "\n",
    "xgb_valid = xgb.XGBClassifier(\n",
    "    fs__k= 10, \n",
    "    n_estimators= 200, \n",
    "    max_depth= 8, \n",
    "    learning_rate= 0.3, \n",
    "    gamma= 0.0, \n",
    "    colsample_bytree= 0.1,\n",
    "    verbosity = 0).fit(X_train_without_bureau,y_train_without_bureau)\n",
    "\n",
    "def gini_value(x, y, model):\n",
    "    return (2*(roc_auc_score(y, model.predict_proba(x)[:, 1])))-1\n",
    "\n",
    "print(\"GINI validation data for Decision Tree :\" , gini_value(X_valid_without_bureau,y_valid_without_bureau, dt_valid))\n",
    "print(\"GINI validation data for Random Forest :\" , gini_value(X_valid_without_bureau,y_valid_without_bureau, rf_valid))\n",
    "print(\"GINI validation data for XGBOOST :\" , gini_value(X_valid_without_bureau,y_valid_without_bureau, xgb_valid))"
   ]
  },
  {
   "cell_type": "code",
   "execution_count": 111,
   "metadata": {},
   "outputs": [
    {
     "name": "stdout",
     "output_type": "stream",
     "text": [
      "              precision    recall  f1-score   support\n",
      "\n",
      "           0       0.75      0.72      0.74        98\n",
      "           1       0.73      0.75      0.74        97\n",
      "\n",
      "    accuracy                           0.74       195\n",
      "   macro avg       0.74      0.74      0.74       195\n",
      "weighted avg       0.74      0.74      0.74       195\n",
      "\n"
     ]
    }
   ],
   "source": [
    "from sklearn.metrics import classification_report\n",
    "\n",
    "y_pred_train = rf_valid.predict(X_train_without_bureau)\n",
    "\n",
    "print(classification_report(y_train_without_bureau, y_pred_train))"
   ]
  },
  {
   "cell_type": "code",
   "execution_count": 112,
   "metadata": {},
   "outputs": [
    {
     "name": "stdout",
     "output_type": "stream",
     "text": [
      "              precision    recall  f1-score   support\n",
      "\n",
      "           0       0.56      0.63      0.59        43\n",
      "           1       0.57      0.50      0.53        42\n",
      "\n",
      "    accuracy                           0.56        85\n",
      "   macro avg       0.57      0.56      0.56        85\n",
      "weighted avg       0.57      0.56      0.56        85\n",
      "\n"
     ]
    }
   ],
   "source": [
    "from sklearn.metrics import classification_report\n",
    "\n",
    "y_pred_valid = rf_valid.predict(X_valid_without_bureau)\n",
    "\n",
    "print(classification_report(y_valid_without_bureau, y_pred_valid))"
   ]
  },
  {
   "cell_type": "code",
   "execution_count": 113,
   "metadata": {},
   "outputs": [
    {
     "data": {
      "image/png": "[encoded data removed]",
      "text/plain": [
       "<Figure size 432x288 with 1 Axes>"
      ]
     },
     "metadata": {
      "needs_background": "light"
     },
     "output_type": "display_data"
    }
   ],
   "source": [
    "from sklearn.metrics import plot_roc_curve\n",
    "plot_roc_curve(rf_valid,X_valid_without_bureau,y_valid_without_bureau)\n",
    "plt.show()"
   ]
  },
  {
   "cell_type": "code",
   "execution_count": 114,
   "metadata": {},
   "outputs": [
    {
     "name": "stdout",
     "output_type": "stream",
     "text": [
      "              precision    recall  f1-score   support\n",
      "\n",
      "           0       0.51      0.41      0.45        61\n",
      "           1       0.50      0.60      0.55        60\n",
      "\n",
      "    accuracy                           0.50       121\n",
      "   macro avg       0.51      0.50      0.50       121\n",
      "weighted avg       0.51      0.50      0.50       121\n",
      "\n"
     ]
    }
   ],
   "source": [
    "y_pred_test_without_bureau = rf_valid.predict(X_test_without_bureau)\n",
    "print(classification_report(y_test_without_bureau, y_pred_test_without_bureau))"
   ]
  },
  {
   "cell_type": "code",
   "execution_count": 115,
   "metadata": {},
   "outputs": [
    {
     "name": "stdout",
     "output_type": "stream",
     "text": [
      "Final DecisionTree Gini Score (on test Set)            : 0.05327868852459017 \n"
     ]
    }
   ],
   "source": [
    "print(f\"Final DecisionTree Gini Score (on test Set)            : {(2*(roc_auc_score(y_test_without_bureau, rf_valid.predict_proba(X_test_without_bureau)[:, 1])))-1} \")"
   ]
  },
  {
   "cell_type": "markdown",
   "metadata": {},
   "source": [
    "#### Evaluate with all data"
   ]
  },
  {
   "cell_type": "markdown",
   "metadata": {},
   "source": [
    "##### Without bureau data"
   ]
  },
  {
   "cell_type": "code",
   "execution_count": 116,
   "metadata": {},
   "outputs": [
    {
     "data": {
      "text/html": [
       "<div>\n",
       "<style scoped>\n",
       "    .dataframe tbody tr th:only-of-type {\n",
       "        vertical-align: middle;\n",
       "    }\n",
       "\n",
       "    .dataframe tbody tr th {\n",
       "        vertical-align: top;\n",
       "    }\n",
       "\n",
       "    .dataframe thead th {\n",
       "        text-align: right;\n",
       "    }\n",
       "</style>\n",
       "<table border=\"1\" class=\"dataframe\">\n",
       "  <thead>\n",
       "    <tr style=\"text-align: right;\">\n",
       "      <th></th>\n",
       "      <th>customer_id</th>\n",
       "      <th>AGE</th>\n",
       "      <th>INCOME</th>\n",
       "      <th>GENDER</th>\n",
       "      <th>EDUCATION</th>\n",
       "      <th>LOAN_PURPOSE</th>\n",
       "      <th>APPLICATION_RECEIVE_TIME</th>\n",
       "      <th>HAS_APPLIED_BEFORE</th>\n",
       "      <th>HAS_INCOME_VERIFICATION</th>\n",
       "      <th>LOAN_WAS_PAID_BACK</th>\n",
       "      <th>KNOWN_ASSETS</th>\n",
       "      <th>Score</th>\n",
       "    </tr>\n",
       "  </thead>\n",
       "  <tbody>\n",
       "    <tr>\n",
       "      <th>0</th>\n",
       "      <td>36495</td>\n",
       "      <td>28</td>\n",
       "      <td>15000000.0</td>\n",
       "      <td>Male</td>\n",
       "      <td>Bachelor Degree</td>\n",
       "      <td>Renovation</td>\n",
       "      <td>07:13:00</td>\n",
       "      <td>No</td>\n",
       "      <td>Yes</td>\n",
       "      <td>1</td>\n",
       "      <td>NaN</td>\n",
       "      <td>NaN</td>\n",
       "    </tr>\n",
       "    <tr>\n",
       "      <th>1</th>\n",
       "      <td>36500</td>\n",
       "      <td>29</td>\n",
       "      <td>14000000.0</td>\n",
       "      <td>Female</td>\n",
       "      <td>Bachelor Degree</td>\n",
       "      <td>Renovation</td>\n",
       "      <td>19:30:00</td>\n",
       "      <td>Yes</td>\n",
       "      <td>Yes</td>\n",
       "      <td>0</td>\n",
       "      <td>NaN</td>\n",
       "      <td>0.86</td>\n",
       "    </tr>\n",
       "    <tr>\n",
       "      <th>2</th>\n",
       "      <td>36505</td>\n",
       "      <td>36</td>\n",
       "      <td>21000000.0</td>\n",
       "      <td>Female</td>\n",
       "      <td>Bachelor Degree</td>\n",
       "      <td>Renovation</td>\n",
       "      <td>06:12:00</td>\n",
       "      <td>No</td>\n",
       "      <td>Yes</td>\n",
       "      <td>1</td>\n",
       "      <td>NaN</td>\n",
       "      <td>0.83</td>\n",
       "    </tr>\n",
       "    <tr>\n",
       "      <th>3</th>\n",
       "      <td>36510</td>\n",
       "      <td>44</td>\n",
       "      <td>5000000.0</td>\n",
       "      <td>Male</td>\n",
       "      <td>Bachelor Degree</td>\n",
       "      <td>Investment</td>\n",
       "      <td>17:48:00</td>\n",
       "      <td>No</td>\n",
       "      <td>Yes</td>\n",
       "      <td>1</td>\n",
       "      <td>NaN</td>\n",
       "      <td>0.79</td>\n",
       "    </tr>\n",
       "    <tr>\n",
       "      <th>4</th>\n",
       "      <td>36515</td>\n",
       "      <td>34</td>\n",
       "      <td>6000000.0</td>\n",
       "      <td>Male</td>\n",
       "      <td>Bachelor Degree</td>\n",
       "      <td>Credit card</td>\n",
       "      <td>12:17:00</td>\n",
       "      <td>No</td>\n",
       "      <td>Yes</td>\n",
       "      <td>1</td>\n",
       "      <td>NaN</td>\n",
       "      <td>NaN</td>\n",
       "    </tr>\n",
       "  </tbody>\n",
       "</table>\n",
       "</div>"
      ],
      "text/plain": [
       "   customer_id  AGE      INCOME  GENDER        EDUCATION LOAN_PURPOSE  \\\n",
       "0        36495   28  15000000.0    Male  Bachelor Degree   Renovation   \n",
       "1        36500   29  14000000.0  Female  Bachelor Degree   Renovation   \n",
       "2        36505   36  21000000.0  Female  Bachelor Degree   Renovation   \n",
       "3        36510   44   5000000.0    Male  Bachelor Degree   Investment   \n",
       "4        36515   34   6000000.0    Male  Bachelor Degree  Credit card   \n",
       "\n",
       "  APPLICATION_RECEIVE_TIME HAS_APPLIED_BEFORE HAS_INCOME_VERIFICATION  \\\n",
       "0                 07:13:00                 No                     Yes   \n",
       "1                 19:30:00                Yes                     Yes   \n",
       "2                 06:12:00                 No                     Yes   \n",
       "3                 17:48:00                 No                     Yes   \n",
       "4                 12:17:00                 No                     Yes   \n",
       "\n",
       "   LOAN_WAS_PAID_BACK  KNOWN_ASSETS  Score  \n",
       "0                   1           NaN    NaN  \n",
       "1                   0           NaN   0.86  \n",
       "2                   1           NaN   0.83  \n",
       "3                   1           NaN   0.79  \n",
       "4                   1           NaN    NaN  "
      ]
     },
     "execution_count": 116,
     "metadata": {},
     "output_type": "execute_result"
    }
   ],
   "source": [
    "# get all data without bureau\n",
    "df_all_xb = df[df['LOANS_WITH_DELAYS'].isna() == True]\n",
    "df_all_xb = df_all_xb.drop(columns=[ \"LOANS_WITHOUT_DELAYS\", \"LOANS_WITH_DELAYS\"]).reset_index(drop=True)\n",
    "df_all_xb.head()"
   ]
  },
  {
   "cell_type": "code",
   "execution_count": 117,
   "metadata": {},
   "outputs": [
    {
     "data": {
      "text/plain": [
       "(1308, 22)"
      ]
     },
     "execution_count": 117,
     "metadata": {},
     "output_type": "execute_result"
    }
   ],
   "source": [
    "#test with all data whitout bureau\n",
    "X_cek,y_cek = feature_engineering_xb(df_all_xb)\n",
    "X_cek.shape"
   ]
  },
  {
   "cell_type": "code",
   "execution_count": 118,
   "metadata": {},
   "outputs": [
    {
     "name": "stdout",
     "output_type": "stream",
     "text": [
      "              precision    recall  f1-score   support\n",
      "\n",
      "           0       0.20      0.52      0.29       202\n",
      "           1       0.88      0.63      0.73      1106\n",
      "\n",
      "    accuracy                           0.61      1308\n",
      "   macro avg       0.54      0.58      0.51      1308\n",
      "weighted avg       0.77      0.61      0.66      1308\n",
      "\n"
     ]
    }
   ],
   "source": [
    "y_pred = rf_valid.predict(X_cek)\n",
    "print(classification_report(y_cek, y_pred))"
   ]
  },
  {
   "cell_type": "markdown",
   "metadata": {},
   "source": [
    "##### Without all data remove bureau"
   ]
  },
  {
   "cell_type": "code",
   "execution_count": 119,
   "metadata": {},
   "outputs": [
    {
     "data": {
      "text/html": [
       "<div>\n",
       "<style scoped>\n",
       "    .dataframe tbody tr th:only-of-type {\n",
       "        vertical-align: middle;\n",
       "    }\n",
       "\n",
       "    .dataframe tbody tr th {\n",
       "        vertical-align: top;\n",
       "    }\n",
       "\n",
       "    .dataframe thead th {\n",
       "        text-align: right;\n",
       "    }\n",
       "</style>\n",
       "<table border=\"1\" class=\"dataframe\">\n",
       "  <thead>\n",
       "    <tr style=\"text-align: right;\">\n",
       "      <th></th>\n",
       "      <th>customer_id</th>\n",
       "      <th>AGE</th>\n",
       "      <th>INCOME</th>\n",
       "      <th>GENDER</th>\n",
       "      <th>EDUCATION</th>\n",
       "      <th>LOAN_PURPOSE</th>\n",
       "      <th>APPLICATION_RECEIVE_TIME</th>\n",
       "      <th>HAS_APPLIED_BEFORE</th>\n",
       "      <th>HAS_INCOME_VERIFICATION</th>\n",
       "      <th>LOAN_WAS_PAID_BACK</th>\n",
       "      <th>KNOWN_ASSETS</th>\n",
       "      <th>Score</th>\n",
       "    </tr>\n",
       "  </thead>\n",
       "  <tbody>\n",
       "    <tr>\n",
       "      <th>0</th>\n",
       "      <td>36493</td>\n",
       "      <td>40</td>\n",
       "      <td>10000000.0</td>\n",
       "      <td>Female</td>\n",
       "      <td>Diploma</td>\n",
       "      <td>Working Capital</td>\n",
       "      <td>09:07:00</td>\n",
       "      <td>No</td>\n",
       "      <td>Yes</td>\n",
       "      <td>1</td>\n",
       "      <td>40000000.0</td>\n",
       "      <td>0.77</td>\n",
       "    </tr>\n",
       "    <tr>\n",
       "      <th>1</th>\n",
       "      <td>36494</td>\n",
       "      <td>39</td>\n",
       "      <td>15000000.0</td>\n",
       "      <td>Female</td>\n",
       "      <td>Bachelor Degree</td>\n",
       "      <td>Other</td>\n",
       "      <td>15:15:00</td>\n",
       "      <td>No</td>\n",
       "      <td>Yes</td>\n",
       "      <td>1</td>\n",
       "      <td>20000000.0</td>\n",
       "      <td>0.93</td>\n",
       "    </tr>\n",
       "    <tr>\n",
       "      <th>2</th>\n",
       "      <td>36495</td>\n",
       "      <td>28</td>\n",
       "      <td>15000000.0</td>\n",
       "      <td>Male</td>\n",
       "      <td>Bachelor Degree</td>\n",
       "      <td>Renovation</td>\n",
       "      <td>07:13:00</td>\n",
       "      <td>No</td>\n",
       "      <td>Yes</td>\n",
       "      <td>1</td>\n",
       "      <td>NaN</td>\n",
       "      <td>NaN</td>\n",
       "    </tr>\n",
       "    <tr>\n",
       "      <th>3</th>\n",
       "      <td>36496</td>\n",
       "      <td>28</td>\n",
       "      <td>4000000.0</td>\n",
       "      <td>Male</td>\n",
       "      <td>Bachelor Degree</td>\n",
       "      <td>Renovation</td>\n",
       "      <td>12:05:00</td>\n",
       "      <td>Yes</td>\n",
       "      <td>Yes</td>\n",
       "      <td>1</td>\n",
       "      <td>0.0</td>\n",
       "      <td>0.78</td>\n",
       "    </tr>\n",
       "    <tr>\n",
       "      <th>4</th>\n",
       "      <td>36497</td>\n",
       "      <td>38</td>\n",
       "      <td>10000000.0</td>\n",
       "      <td>Male</td>\n",
       "      <td>Diploma</td>\n",
       "      <td>Renovation</td>\n",
       "      <td>14:35:00</td>\n",
       "      <td>Yes</td>\n",
       "      <td>Yes</td>\n",
       "      <td>0</td>\n",
       "      <td>40000000.0</td>\n",
       "      <td>0.81</td>\n",
       "    </tr>\n",
       "  </tbody>\n",
       "</table>\n",
       "</div>"
      ],
      "text/plain": [
       "   customer_id  AGE      INCOME  GENDER        EDUCATION     LOAN_PURPOSE  \\\n",
       "0        36493   40  10000000.0  Female          Diploma  Working Capital   \n",
       "1        36494   39  15000000.0  Female  Bachelor Degree            Other   \n",
       "2        36495   28  15000000.0    Male  Bachelor Degree       Renovation   \n",
       "3        36496   28   4000000.0    Male  Bachelor Degree       Renovation   \n",
       "4        36497   38  10000000.0    Male          Diploma       Renovation   \n",
       "\n",
       "  APPLICATION_RECEIVE_TIME HAS_APPLIED_BEFORE HAS_INCOME_VERIFICATION  \\\n",
       "0                 09:07:00                 No                     Yes   \n",
       "1                 15:15:00                 No                     Yes   \n",
       "2                 07:13:00                 No                     Yes   \n",
       "3                 12:05:00                Yes                     Yes   \n",
       "4                 14:35:00                Yes                     Yes   \n",
       "\n",
       "   LOAN_WAS_PAID_BACK  KNOWN_ASSETS  Score  \n",
       "0                   1    40000000.0   0.77  \n",
       "1                   1    20000000.0   0.93  \n",
       "2                   1           NaN    NaN  \n",
       "3                   1           0.0   0.78  \n",
       "4                   0    40000000.0   0.81  "
      ]
     },
     "execution_count": 119,
     "metadata": {},
     "output_type": "execute_result"
    }
   ],
   "source": [
    "# get all data remove bureau\n",
    "df_all = df.drop(columns=[ \"LOANS_WITHOUT_DELAYS\", \"LOANS_WITH_DELAYS\"]).reset_index(drop=True)\n",
    "df_all.head()"
   ]
  },
  {
   "cell_type": "code",
   "execution_count": 120,
   "metadata": {},
   "outputs": [
    {
     "data": {
      "text/plain": [
       "(6537, 22)"
      ]
     },
     "execution_count": 120,
     "metadata": {},
     "output_type": "execute_result"
    }
   ],
   "source": [
    "\n",
    "X_cek,y_cek = feature_engineering_xb(df_all)\n",
    "X_cek.shape"
   ]
  },
  {
   "cell_type": "code",
   "execution_count": 121,
   "metadata": {},
   "outputs": [
    {
     "name": "stdout",
     "output_type": "stream",
     "text": [
      "              precision    recall  f1-score   support\n",
      "\n",
      "           0       0.18      0.49      0.27       961\n",
      "           1       0.88      0.62      0.73      5576\n",
      "\n",
      "    accuracy                           0.61      6537\n",
      "   macro avg       0.53      0.56      0.50      6537\n",
      "weighted avg       0.78      0.61      0.66      6537\n",
      "\n"
     ]
    }
   ],
   "source": [
    "y_pred = rf_valid.predict(X_cek)\n",
    "print(classification_report(y_cek, y_pred))"
   ]
  },
  {
   "cell_type": "markdown",
   "metadata": {},
   "source": [
    "## uji coba dengan 50:50 with all data"
   ]
  },
  {
   "cell_type": "code",
   "execution_count": 122,
   "metadata": {},
   "outputs": [
    {
     "data": {
      "text/html": [
       "<div>\n",
       "<style scoped>\n",
       "    .dataframe tbody tr th:only-of-type {\n",
       "        vertical-align: middle;\n",
       "    }\n",
       "\n",
       "    .dataframe tbody tr th {\n",
       "        vertical-align: top;\n",
       "    }\n",
       "\n",
       "    .dataframe thead th {\n",
       "        text-align: right;\n",
       "    }\n",
       "</style>\n",
       "<table border=\"1\" class=\"dataframe\">\n",
       "  <thead>\n",
       "    <tr style=\"text-align: right;\">\n",
       "      <th></th>\n",
       "      <th>customer_id</th>\n",
       "      <th>AGE</th>\n",
       "      <th>INCOME</th>\n",
       "      <th>GENDER</th>\n",
       "      <th>EDUCATION</th>\n",
       "      <th>LOAN_PURPOSE</th>\n",
       "      <th>APPLICATION_RECEIVE_TIME</th>\n",
       "      <th>HAS_APPLIED_BEFORE</th>\n",
       "      <th>HAS_INCOME_VERIFICATION</th>\n",
       "      <th>LOAN_WAS_PAID_BACK</th>\n",
       "      <th>LOANS_WITHOUT_DELAYS</th>\n",
       "      <th>LOANS_WITH_DELAYS</th>\n",
       "      <th>KNOWN_ASSETS</th>\n",
       "      <th>Score</th>\n",
       "    </tr>\n",
       "  </thead>\n",
       "  <tbody>\n",
       "    <tr>\n",
       "      <th>0</th>\n",
       "      <td>36493</td>\n",
       "      <td>40</td>\n",
       "      <td>10000000.0</td>\n",
       "      <td>Female</td>\n",
       "      <td>Diploma</td>\n",
       "      <td>Working Capital</td>\n",
       "      <td>09:07:00</td>\n",
       "      <td>No</td>\n",
       "      <td>Yes</td>\n",
       "      <td>1</td>\n",
       "      <td>3.0</td>\n",
       "      <td>3.0</td>\n",
       "      <td>40000000.0</td>\n",
       "      <td>0.77</td>\n",
       "    </tr>\n",
       "    <tr>\n",
       "      <th>1</th>\n",
       "      <td>36494</td>\n",
       "      <td>39</td>\n",
       "      <td>15000000.0</td>\n",
       "      <td>Female</td>\n",
       "      <td>Bachelor Degree</td>\n",
       "      <td>Other</td>\n",
       "      <td>15:15:00</td>\n",
       "      <td>No</td>\n",
       "      <td>Yes</td>\n",
       "      <td>1</td>\n",
       "      <td>3.0</td>\n",
       "      <td>0.0</td>\n",
       "      <td>20000000.0</td>\n",
       "      <td>0.93</td>\n",
       "    </tr>\n",
       "    <tr>\n",
       "      <th>2</th>\n",
       "      <td>36495</td>\n",
       "      <td>28</td>\n",
       "      <td>15000000.0</td>\n",
       "      <td>Male</td>\n",
       "      <td>Bachelor Degree</td>\n",
       "      <td>Renovation</td>\n",
       "      <td>07:13:00</td>\n",
       "      <td>No</td>\n",
       "      <td>Yes</td>\n",
       "      <td>1</td>\n",
       "      <td>NaN</td>\n",
       "      <td>NaN</td>\n",
       "      <td>NaN</td>\n",
       "      <td>NaN</td>\n",
       "    </tr>\n",
       "    <tr>\n",
       "      <th>3</th>\n",
       "      <td>36496</td>\n",
       "      <td>28</td>\n",
       "      <td>4000000.0</td>\n",
       "      <td>Male</td>\n",
       "      <td>Bachelor Degree</td>\n",
       "      <td>Renovation</td>\n",
       "      <td>12:05:00</td>\n",
       "      <td>Yes</td>\n",
       "      <td>Yes</td>\n",
       "      <td>1</td>\n",
       "      <td>2.0</td>\n",
       "      <td>1.0</td>\n",
       "      <td>0.0</td>\n",
       "      <td>0.78</td>\n",
       "    </tr>\n",
       "    <tr>\n",
       "      <th>4</th>\n",
       "      <td>36497</td>\n",
       "      <td>38</td>\n",
       "      <td>10000000.0</td>\n",
       "      <td>Male</td>\n",
       "      <td>Diploma</td>\n",
       "      <td>Renovation</td>\n",
       "      <td>14:35:00</td>\n",
       "      <td>Yes</td>\n",
       "      <td>Yes</td>\n",
       "      <td>0</td>\n",
       "      <td>1.0</td>\n",
       "      <td>0.0</td>\n",
       "      <td>40000000.0</td>\n",
       "      <td>0.81</td>\n",
       "    </tr>\n",
       "  </tbody>\n",
       "</table>\n",
       "</div>"
      ],
      "text/plain": [
       "   customer_id  AGE      INCOME  GENDER        EDUCATION     LOAN_PURPOSE  \\\n",
       "0        36493   40  10000000.0  Female          Diploma  Working Capital   \n",
       "1        36494   39  15000000.0  Female  Bachelor Degree            Other   \n",
       "2        36495   28  15000000.0    Male  Bachelor Degree       Renovation   \n",
       "3        36496   28   4000000.0    Male  Bachelor Degree       Renovation   \n",
       "4        36497   38  10000000.0    Male          Diploma       Renovation   \n",
       "\n",
       "  APPLICATION_RECEIVE_TIME HAS_APPLIED_BEFORE HAS_INCOME_VERIFICATION  \\\n",
       "0                 09:07:00                 No                     Yes   \n",
       "1                 15:15:00                 No                     Yes   \n",
       "2                 07:13:00                 No                     Yes   \n",
       "3                 12:05:00                Yes                     Yes   \n",
       "4                 14:35:00                Yes                     Yes   \n",
       "\n",
       "   LOAN_WAS_PAID_BACK  LOANS_WITHOUT_DELAYS  LOANS_WITH_DELAYS  KNOWN_ASSETS  \\\n",
       "0                   1                   3.0                3.0    40000000.0   \n",
       "1                   1                   3.0                0.0    20000000.0   \n",
       "2                   1                   NaN                NaN           NaN   \n",
       "3                   1                   2.0                1.0           0.0   \n",
       "4                   0                   1.0                0.0    40000000.0   \n",
       "\n",
       "   Score  \n",
       "0   0.77  \n",
       "1   0.93  \n",
       "2    NaN  \n",
       "3   0.78  \n",
       "4   0.81  "
      ]
     },
     "execution_count": 122,
     "metadata": {},
     "output_type": "execute_result"
    }
   ],
   "source": [
    "# merge master and bureau and external data\n",
    "df = pd.merge(master, bureau, on='customer_id', how='left')\n",
    "df = pd.merge(df, external, on='customer_id', how='left')\n",
    "df.head()"
   ]
  },
  {
   "cell_type": "code",
   "execution_count": 123,
   "metadata": {},
   "outputs": [
    {
     "data": {
      "text/html": [
       "<div>\n",
       "<style scoped>\n",
       "    .dataframe tbody tr th:only-of-type {\n",
       "        vertical-align: middle;\n",
       "    }\n",
       "\n",
       "    .dataframe tbody tr th {\n",
       "        vertical-align: top;\n",
       "    }\n",
       "\n",
       "    .dataframe thead th {\n",
       "        text-align: right;\n",
       "    }\n",
       "</style>\n",
       "<table border=\"1\" class=\"dataframe\">\n",
       "  <thead>\n",
       "    <tr style=\"text-align: right;\">\n",
       "      <th></th>\n",
       "      <th>customer_id</th>\n",
       "      <th>AGE</th>\n",
       "      <th>INCOME</th>\n",
       "      <th>GENDER</th>\n",
       "      <th>EDUCATION</th>\n",
       "      <th>LOAN_PURPOSE</th>\n",
       "      <th>APPLICATION_RECEIVE_TIME</th>\n",
       "      <th>HAS_APPLIED_BEFORE</th>\n",
       "      <th>HAS_INCOME_VERIFICATION</th>\n",
       "      <th>LOAN_WAS_PAID_BACK</th>\n",
       "      <th>KNOWN_ASSETS</th>\n",
       "      <th>Score</th>\n",
       "    </tr>\n",
       "  </thead>\n",
       "  <tbody>\n",
       "    <tr>\n",
       "      <th>0</th>\n",
       "      <td>36497</td>\n",
       "      <td>38</td>\n",
       "      <td>10000000.0</td>\n",
       "      <td>Male</td>\n",
       "      <td>Diploma</td>\n",
       "      <td>Renovation</td>\n",
       "      <td>14:35:00</td>\n",
       "      <td>Yes</td>\n",
       "      <td>Yes</td>\n",
       "      <td>0</td>\n",
       "      <td>40000000.0</td>\n",
       "      <td>0.81</td>\n",
       "    </tr>\n",
       "    <tr>\n",
       "      <th>1</th>\n",
       "      <td>36500</td>\n",
       "      <td>29</td>\n",
       "      <td>14000000.0</td>\n",
       "      <td>Female</td>\n",
       "      <td>Bachelor Degree</td>\n",
       "      <td>Renovation</td>\n",
       "      <td>19:30:00</td>\n",
       "      <td>Yes</td>\n",
       "      <td>Yes</td>\n",
       "      <td>0</td>\n",
       "      <td>NaN</td>\n",
       "      <td>0.86</td>\n",
       "    </tr>\n",
       "    <tr>\n",
       "      <th>2</th>\n",
       "      <td>36512</td>\n",
       "      <td>40</td>\n",
       "      <td>6000000.0</td>\n",
       "      <td>Female</td>\n",
       "      <td>Bachelor Degree</td>\n",
       "      <td>Working Capital</td>\n",
       "      <td>10:31:00</td>\n",
       "      <td>Yes</td>\n",
       "      <td>Yes</td>\n",
       "      <td>0</td>\n",
       "      <td>10000000.0</td>\n",
       "      <td>0.77</td>\n",
       "    </tr>\n",
       "    <tr>\n",
       "      <th>3</th>\n",
       "      <td>36526</td>\n",
       "      <td>29</td>\n",
       "      <td>6000000.0</td>\n",
       "      <td>Male</td>\n",
       "      <td>Bachelor Degree</td>\n",
       "      <td>Working Capital</td>\n",
       "      <td>10:35:00</td>\n",
       "      <td>Yes</td>\n",
       "      <td>Yes</td>\n",
       "      <td>0</td>\n",
       "      <td>10000000.0</td>\n",
       "      <td>NaN</td>\n",
       "    </tr>\n",
       "    <tr>\n",
       "      <th>4</th>\n",
       "      <td>36528</td>\n",
       "      <td>44</td>\n",
       "      <td>10000000.0</td>\n",
       "      <td>Female</td>\n",
       "      <td>Bachelor Degree</td>\n",
       "      <td>Credit card</td>\n",
       "      <td>07:01:00</td>\n",
       "      <td>No</td>\n",
       "      <td>Yes</td>\n",
       "      <td>0</td>\n",
       "      <td>NaN</td>\n",
       "      <td>0.77</td>\n",
       "    </tr>\n",
       "  </tbody>\n",
       "</table>\n",
       "</div>"
      ],
      "text/plain": [
       "   customer_id  AGE      INCOME  GENDER        EDUCATION     LOAN_PURPOSE  \\\n",
       "0        36497   38  10000000.0    Male          Diploma       Renovation   \n",
       "1        36500   29  14000000.0  Female  Bachelor Degree       Renovation   \n",
       "2        36512   40   6000000.0  Female  Bachelor Degree  Working Capital   \n",
       "3        36526   29   6000000.0    Male  Bachelor Degree  Working Capital   \n",
       "4        36528   44  10000000.0  Female  Bachelor Degree      Credit card   \n",
       "\n",
       "  APPLICATION_RECEIVE_TIME HAS_APPLIED_BEFORE HAS_INCOME_VERIFICATION  \\\n",
       "0                 14:35:00                Yes                     Yes   \n",
       "1                 19:30:00                Yes                     Yes   \n",
       "2                 10:31:00                Yes                     Yes   \n",
       "3                 10:35:00                Yes                     Yes   \n",
       "4                 07:01:00                 No                     Yes   \n",
       "\n",
       "   LOAN_WAS_PAID_BACK  KNOWN_ASSETS  Score  \n",
       "0                   0    40000000.0   0.81  \n",
       "1                   0           NaN   0.86  \n",
       "2                   0    10000000.0   0.77  \n",
       "3                   0    10000000.0    NaN  \n",
       "4                   0           NaN   0.77  "
      ]
     },
     "execution_count": 123,
     "metadata": {},
     "output_type": "execute_result"
    }
   ],
   "source": [
    "# get all data without bureau\n",
    "df_1 = df.drop(columns=[ \"LOANS_WITHOUT_DELAYS\", \"LOANS_WITH_DELAYS\"])\n",
    "\n",
    "# get all data with label 0\n",
    "df_2 = df_1.loc[(df_1.LOAN_WAS_PAID_BACK == 0)]\n",
    "\n",
    "# get all labeled 1 data with the same number of row as label 0 data\n",
    "df_3 = df_1.loc[df_1.LOAN_WAS_PAID_BACK == 1, :].sample(n = df_2.shape[0])\n",
    "df_final = pd.concat([df_2, df_3], ignore_index=True)\n",
    "df_final.head()"
   ]
  },
  {
   "cell_type": "code",
   "execution_count": 124,
   "metadata": {},
   "outputs": [
    {
     "data": {
      "text/plain": [
       "0    963\n",
       "1    963\n",
       "Name: LOAN_WAS_PAID_BACK, dtype: int64"
      ]
     },
     "execution_count": 124,
     "metadata": {},
     "output_type": "execute_result"
    }
   ],
   "source": [
    "df_final.LOAN_WAS_PAID_BACK.value_counts()"
   ]
  },
  {
   "cell_type": "code",
   "execution_count": 125,
   "metadata": {},
   "outputs": [],
   "source": [
    "# do the splitting\n",
    "TARGET = \"LOAN_WAS_PAID_BACK\"\n",
    "TEST_SIZE = 0.3\n",
    "\n",
    "output_df, input_df = split_input_output(\n",
    "                            df_final,\n",
    "                            TARGET, save_file = False)\n",
    "\n",
    "x_train, y_train, x_valid, y_valid, x_test, y_test = split_data(input_df,\n",
    "                                                                    output_df,\n",
    "                                                                   True,\n",
    "                                                                   TEST_SIZE)"
   ]
  },
  {
   "cell_type": "code",
   "execution_count": 126,
   "metadata": {},
   "outputs": [
    {
     "name": "stdout",
     "output_type": "stream",
     "text": [
      "1    472\n",
      "0    471\n",
      "Name: LOAN_WAS_PAID_BACK, dtype: int64\n",
      "-------------------------------------\n",
      "0    203\n",
      "1    202\n",
      "Name: LOAN_WAS_PAID_BACK, dtype: int64\n",
      "-------------------------------------\n",
      "1    289\n",
      "0    289\n",
      "Name: LOAN_WAS_PAID_BACK, dtype: int64\n"
     ]
    }
   ],
   "source": [
    "# check if stratify is correct\n",
    "print(y_train.value_counts())\n",
    "print(\"-------------------------------------\")\n",
    "print(y_valid.value_counts())\n",
    "print(\"-------------------------------------\")\n",
    "print(y_test.value_counts())"
   ]
  },
  {
   "cell_type": "code",
   "execution_count": 127,
   "metadata": {},
   "outputs": [
    {
     "name": "stdout",
     "output_type": "stream",
     "text": [
      "1    0.50053\n",
      "0    0.49947\n",
      "Name: LOAN_WAS_PAID_BACK, dtype: float64\n",
      "-------------------------------------\n",
      "0    0.501235\n",
      "1    0.498765\n",
      "Name: LOAN_WAS_PAID_BACK, dtype: float64\n",
      "-------------------------------------\n",
      "1    0.5\n",
      "0    0.5\n",
      "Name: LOAN_WAS_PAID_BACK, dtype: float64\n"
     ]
    }
   ],
   "source": [
    "# check if stratify is correct\n",
    "print(y_train.value_counts(normalize = True))\n",
    "print(\"-------------------------------------\")\n",
    "print(y_valid.value_counts(normalize = True))\n",
    "print(\"-------------------------------------\")\n",
    "print(y_test.value_counts(normalize = True))"
   ]
  },
  {
   "cell_type": "markdown",
   "metadata": {},
   "source": [
    "### Feature engineering"
   ]
  },
  {
   "cell_type": "markdown",
   "metadata": {},
   "source": [
    "#### train"
   ]
  },
  {
   "cell_type": "code",
   "execution_count": 128,
   "metadata": {},
   "outputs": [],
   "source": [
    "df_train = pd.concat([x_train, pd.DataFrame(y_train)], axis = 1)"
   ]
  },
  {
   "cell_type": "code",
   "execution_count": 129,
   "metadata": {},
   "outputs": [],
   "source": [
    "# This is our final feature\n",
    "X_train_without_bureau,y_train_without_bureau = feature_engineering_xb(df_train)"
   ]
  },
  {
   "cell_type": "code",
   "execution_count": 130,
   "metadata": {},
   "outputs": [
    {
     "name": "stdout",
     "output_type": "stream",
     "text": [
      "set()\n"
     ]
    }
   ],
   "source": [
    "X_train_without_bureau = add_columns_xb(df_final,X_train_without_bureau)"
   ]
  },
  {
   "cell_type": "code",
   "execution_count": 131,
   "metadata": {},
   "outputs": [
    {
     "name": "stdout",
     "output_type": "stream",
     "text": [
      " Data Train Without Bureau has 21 Features\n"
     ]
    }
   ],
   "source": [
    "print(f' Data Train Without Bureau has {X_train_without_bureau.shape[1]} Features')"
   ]
  },
  {
   "cell_type": "markdown",
   "metadata": {},
   "source": [
    "#### Valid"
   ]
  },
  {
   "cell_type": "code",
   "execution_count": 132,
   "metadata": {},
   "outputs": [],
   "source": [
    "df_valid = pd.concat([x_valid, pd.DataFrame(y_valid)], axis = 1)"
   ]
  },
  {
   "cell_type": "code",
   "execution_count": 133,
   "metadata": {},
   "outputs": [],
   "source": [
    "# This is our final feature\n",
    "X_valid_without_bureau,y_valid_without_bureau = feature_engineering_xb(df_valid)"
   ]
  },
  {
   "cell_type": "code",
   "execution_count": 134,
   "metadata": {},
   "outputs": [
    {
     "name": "stdout",
     "output_type": "stream",
     "text": [
      "set()\n"
     ]
    }
   ],
   "source": [
    "X_valid_without_bureau = add_columns_xb(df_final,X_valid_without_bureau)"
   ]
  },
  {
   "cell_type": "code",
   "execution_count": 135,
   "metadata": {},
   "outputs": [
    {
     "name": "stdout",
     "output_type": "stream",
     "text": [
      " Data Train Without Bureau has 21 Features\n"
     ]
    }
   ],
   "source": [
    "print(f' Data Train Without Bureau has {X_valid_without_bureau.shape[1]} Features')"
   ]
  },
  {
   "cell_type": "markdown",
   "metadata": {},
   "source": [
    "#### Test"
   ]
  },
  {
   "cell_type": "code",
   "execution_count": 136,
   "metadata": {},
   "outputs": [],
   "source": [
    "df_test = pd.concat([x_test, pd.DataFrame(y_test)], axis = 1)"
   ]
  },
  {
   "cell_type": "code",
   "execution_count": 137,
   "metadata": {},
   "outputs": [],
   "source": [
    "# This is our final feature\n",
    "X_test_without_bureau,y_test_without_bureau = feature_engineering_xb(df_test)"
   ]
  },
  {
   "cell_type": "code",
   "execution_count": 138,
   "metadata": {},
   "outputs": [
    {
     "name": "stdout",
     "output_type": "stream",
     "text": [
      "set()\n"
     ]
    }
   ],
   "source": [
    "X_test_without_bureau = add_columns_xb(df_final,X_test_without_bureau)"
   ]
  },
  {
   "cell_type": "code",
   "execution_count": 139,
   "metadata": {},
   "outputs": [
    {
     "name": "stdout",
     "output_type": "stream",
     "text": [
      " Data Train Without Bureau has 21 Features\n"
     ]
    }
   ],
   "source": [
    "print(f' Data Train Without Bureau has {X_test_without_bureau.shape[1]} Features')"
   ]
  },
  {
   "cell_type": "code",
   "execution_count": 140,
   "metadata": {},
   "outputs": [],
   "source": [
    "# Changing everything to float and replacing infinities\n",
    "for c in X_train_without_bureau.columns:\n",
    "  X_train_without_bureau[c] = X_train_without_bureau[c].astype(np.float64)\n",
    "X_train_without_bureau.replace([np.inf, -np.inf], np.nan, inplace=True)"
   ]
  },
  {
   "cell_type": "code",
   "execution_count": 141,
   "metadata": {},
   "outputs": [],
   "source": [
    "# Changing everything to float and replacing infinities\n",
    "for c in X_valid_without_bureau.columns:\n",
    "  X_valid_without_bureau[c] = X_valid_without_bureau[c].astype(np.float64)\n",
    "X_valid_without_bureau.replace([np.inf, -np.inf], np.nan, inplace=True)"
   ]
  },
  {
   "cell_type": "code",
   "execution_count": 142,
   "metadata": {},
   "outputs": [],
   "source": [
    "# Changing everything to float and replacing infinities\n",
    "for c in X_test_without_bureau.columns:\n",
    "  X_test_without_bureau[c] = X_test_without_bureau[c].astype(np.float64)\n",
    "X_test_without_bureau.replace([np.inf, -np.inf], np.nan, inplace=True)"
   ]
  },
  {
   "cell_type": "code",
   "execution_count": 143,
   "metadata": {},
   "outputs": [
    {
     "data": {
      "text/plain": [
       "AGE                                        0\n",
       "INCOME                                     0\n",
       "GENDER                                     0\n",
       "HAS_APPLIED_BEFORE                         0\n",
       "HAS_INCOME_VERIFICATION                    0\n",
       "EDUCATION_Bachelor Degree                  0\n",
       "EDUCATION_Diploma                          0\n",
       "EDUCATION_High School                      0\n",
       "EDUCATION_Master's Degree/Post graduate    0\n",
       "EDUCATION_Other                            0\n",
       "LOAN_PURPOSE_Bills                         0\n",
       "LOAN_PURPOSE_Credit card                   0\n",
       "LOAN_PURPOSE_Education                     0\n",
       "LOAN_PURPOSE_Electronic unsecured loan     0\n",
       "LOAN_PURPOSE_Holiday                       0\n",
       "LOAN_PURPOSE_Housing loan                  0\n",
       "LOAN_PURPOSE_Investment                    0\n",
       "LOAN_PURPOSE_Other                         0\n",
       "LOAN_PURPOSE_Renovation                    0\n",
       "LOAN_PURPOSE_Venture capital               0\n",
       "LOAN_PURPOSE_Working Capital               0\n",
       "dtype: int64"
      ]
     },
     "execution_count": 143,
     "metadata": {},
     "output_type": "execute_result"
    }
   ],
   "source": [
    "X_train_without_bureau.isnull().sum()"
   ]
  },
  {
   "cell_type": "code",
   "execution_count": 144,
   "metadata": {},
   "outputs": [],
   "source": [
    "# Fixing column names that contains [,],or < for XGBoost model\n",
    "import re\n",
    "regex = re.compile(r\"\\[|\\]|<\", re.IGNORECASE)\n",
    "X_train_without_bureau.columns = [regex.sub(\"_\", col) if any(x in str(col) for x in set(('[', ']', '<'))) else col for col in X_train_without_bureau.columns.values]\n",
    "X_valid_without_bureau.columns = [regex.sub(\"_\", col) if any(x in str(col) for x in set(('[', ']', '<'))) else col for col in X_valid_without_bureau.columns.values]\n",
    "X_test_without_bureau.columns = [regex.sub(\"_\", col) if any(x in str(col) for x in set(('[', ']', '<'))) else col for col in X_test_without_bureau.columns.values]"
   ]
  },
  {
   "cell_type": "code",
   "execution_count": 145,
   "metadata": {},
   "outputs": [
    {
     "name": "stdout",
     "output_type": "stream",
     "text": [
      "Gini Performance Evaluation\n",
      "\n",
      "Logistic Regression Gini : 0.3531272971331778\n",
      "Random Forest Gini       : 0.8789168260867579\n",
      "Decision Tree Gini       : 0.8871168781360863\n",
      "KNN Classifier Gini      : 0.5621281783191718\n",
      "LGBM Gini                : 0.7317815937139018\n",
      "XGBoost Gini             : 0.8255936591134265\n"
     ]
    }
   ],
   "source": [
    "# Check the baseline model\n",
    "def baseline_model(X_train,y_train):\n",
    "  clf_logreg = LogisticRegression().fit(X_train,y_train)\n",
    "  clf_rf = RandomForestClassifier().fit(X_train,y_train)\n",
    "  clf_tree = DecisionTreeClassifier().fit(X_train,y_train)\n",
    "  clf_knn = KNeighborsClassifier().fit(X_train,y_train)\n",
    "  clf_lgbm = LGBMClassifier().fit(X_train,y_train)\n",
    "  clf_xgb = xgb.XGBClassifier().fit(X_train,y_train)\n",
    "\n",
    "  gini_logreg = (2*(roc_auc_score(y_train, clf_logreg.predict_proba(X_train)[:, 1])))-1\n",
    "  gini_rf = (2*(roc_auc_score(y_train, clf_rf.predict_proba(X_train)[:, 1])))-1\n",
    "  gini_tree = (2*(roc_auc_score(y_train, clf_tree.predict_proba(X_train)[:, 1])))-1\n",
    "  gini_knn = (2*(roc_auc_score(y_train, clf_knn.predict_proba(X_train)[:, 1])))-1\n",
    "  gini_lgbm = (2*(roc_auc_score(y_train, clf_lgbm.predict_proba(X_train)[:, 1])))-1\n",
    "  gini_xgb = (2*(roc_auc_score(y_train, clf_xgb.predict_proba(X_train)[:, 1])))-1\n",
    "\n",
    "  print(\"Gini Performance Evaluation\\n\")\n",
    "  print(f\"Logistic Regression Gini : {gini_logreg}\")\n",
    "  print(f\"Random Forest Gini       : {gini_rf}\")\n",
    "  print(f\"Decision Tree Gini       : {gini_tree}\")\n",
    "  print(f\"KNN Classifier Gini      : {gini_knn}\")\n",
    "  print(f\"LGBM Gini                : {gini_lgbm}\")\n",
    "  print(f\"XGBoost Gini             : {gini_xgb}\")\n",
    "\n",
    "  return clf_logreg, clf_rf, clf_tree, clf_knn, clf_lgbm, clf_xgb\n",
    " \n",
    "clf_logreg, clf_rf, clf_tree, clf_knn, clf_lgbm, clf_xgb = baseline_model(X_train_without_bureau,y_train_without_bureau)"
   ]
  },
  {
   "cell_type": "markdown",
   "metadata": {},
   "source": [
    "Hyperparameter tuning on best baseline model\n",
    "We will be using Decision Tree since it has the highest gini score."
   ]
  },
  {
   "cell_type": "markdown",
   "metadata": {},
   "source": [
    "#### Hyperparameter tuning on best baseline model\n"
   ]
  },
  {
   "cell_type": "code",
   "execution_count": 146,
   "metadata": {},
   "outputs": [
    {
     "name": "stdout",
     "output_type": "stream",
     "text": [
      "Best Score tree: 0.2539546716003698\n",
      "Best Hyperparameters: {'min_samples_leaf': 5, 'max_depth': 20, 'criterion': 'entropy'}\n",
      "Best Score rf: 0.32235125081189575\n",
      "Best Hyperparameters: {'min_samples_split': 2, 'min_samples_leaf': 4, 'max_depth': 50}\n",
      "Best Score xgb: 0.2865392564016769\n",
      "Best Hyperparameters: {'fs__k': 10, 'clf__n_estimators': 200, 'clf__max_depth': 8, 'clf__learning_rate': 0.3, 'clf__gamma': 0.0, 'clf__colsample_bytree': 0.1}\n",
      "Wall time: 1min 4s\n"
     ]
    }
   ],
   "source": [
    "%%time\n",
    "\n",
    "clf_xgb = xgb.XGBClassifier()\n",
    "clf_tree = DecisionTreeClassifier()\n",
    "clf_rf = RandomForestClassifier()\n",
    "\n",
    "# Define evaluation\n",
    "cv = RepeatedStratifiedKFold(n_splits=10, n_repeats=2, random_state=420)\n",
    "\n",
    "# Define search space\n",
    "space_tree = dict()\n",
    "space_rf = dict()\n",
    "space_xgb = [\n",
    "  {\n",
    "    'clf__n_estimators': [50, 100, 150, 200],\n",
    "    'clf__learning_rate': [0.01, 0.1, 0.2, 0.3],\n",
    "    'clf__max_depth': range(3, 10),\n",
    "    'clf__colsample_bytree': [i/10.0 for i in range(1, 3)],\n",
    "    'clf__gamma': [i/10.0 for i in range(3)],\n",
    "#     'fs__score_func': [chi2],\n",
    "    'fs__k': [10],\n",
    "  }\n",
    "]\n",
    "\n",
    "max_depth = [int(x) for x in np.linspace(10, 110, num = 11)] #RF\n",
    "max_depth.append(None) #RF\n",
    "space_rf['max_depth'] = max_depth # RF\n",
    "space_rf['min_samples_split'] = [2, 5, 10] # RF\n",
    "space_rf['min_samples_leaf'] = [1, 2, 4] # RF\n",
    "\n",
    "space_tree['max_depth'] = [2, 3, 5, 10, 20] #DT\n",
    "space_tree['min_samples_leaf'] = [5, 10, 20, 50, 100] #DT\n",
    "space_tree['criterion'] = [\"gini\", \"entropy\"] #DT\n",
    "\n",
    "# Define search\n",
    "search_tree = RandomizedSearchCV(clf_tree, space_tree, n_iter=30, scoring='roc_auc', n_jobs=30, cv=cv, random_state=1)\n",
    "search_rf = RandomizedSearchCV(clf_rf, space_rf, n_iter=30, scoring='roc_auc', n_jobs=30, cv=cv, random_state=1)\n",
    "search_xgb = RandomizedSearchCV(clf_xgb, space_xgb, n_iter=30, scoring='roc_auc', n_jobs=30, cv=cv, random_state=1)\n",
    "\n",
    "# Execute search\n",
    "result_tree = search_tree.fit(X_train_without_bureau,y_train_without_bureau)\n",
    "result_rf = search_rf.fit(X_train_without_bureau,y_train_without_bureau)\n",
    "result_xgb = search_xgb.fit(X_train_without_bureau,y_train_without_bureau)\n",
    "\n",
    "# Summarize result\n",
    "print('Best Score tree: %s' % ((result_tree.best_score_ * 2) - 1))\n",
    "print('Best Hyperparameters: %s' % result_tree.best_params_)\n",
    "\n",
    "print('Best Score rf: %s' % ((result_rf.best_score_*2) - 1))\n",
    "print('Best Hyperparameters: %s' % result_rf.best_params_)\n",
    "\n",
    "print('Best Score xgb: %s' % ((result_xgb.best_score_*2) - 1))\n",
    "print('Best Hyperparameters: %s' % result_xgb.best_params_)"
   ]
  },
  {
   "cell_type": "markdown",
   "metadata": {},
   "source": [
    "#### Evaluate on validation data"
   ]
  },
  {
   "cell_type": "code",
   "execution_count": 147,
   "metadata": {},
   "outputs": [
    {
     "name": "stdout",
     "output_type": "stream",
     "text": [
      "GINI validation data for Decision Tree : 0.10727698385602102\n",
      "GINI validation data for Random Forest : 0.20643320489684447\n",
      "GINI validation data for XGBOOST : 0.22013851631468562\n"
     ]
    }
   ],
   "source": [
    "dt_valid = DecisionTreeClassifier(\n",
    "    min_samples_leaf = 5, \n",
    "    max_depth = 5, \n",
    "    criterion = 'gini').fit(X_train_without_bureau,y_train_without_bureau)\n",
    "\n",
    "rf_valid = RandomForestClassifier(\n",
    "    min_samples_split = 2, \n",
    "    min_samples_leaf = 4, \n",
    "    max_depth = 40).fit(X_train_without_bureau,y_train_without_bureau)\n",
    "\n",
    "xgb_valid = xgb.XGBClassifier(\n",
    "    fs__k= 10, \n",
    "    n_estimators= 200, \n",
    "    max_depth= 8, \n",
    "    learning_rate= 0.3, \n",
    "    gamma= 0.0, \n",
    "    colsample_bytree= 0.1,\n",
    "    verbosity = 0).fit(X_train_without_bureau,y_train_without_bureau)\n",
    "\n",
    "def gini_value(x, y, model):\n",
    "    return (2*(roc_auc_score(y, model.predict_proba(x)[:, 1])))-1\n",
    "\n",
    "print(\"GINI validation data for Decision Tree :\" , gini_value(X_valid_without_bureau,y_valid_without_bureau, dt_valid))\n",
    "print(\"GINI validation data for Random Forest :\" , gini_value(X_valid_without_bureau,y_valid_without_bureau, rf_valid))\n",
    "print(\"GINI validation data for XGBOOST :\" , gini_value(X_valid_without_bureau,y_valid_without_bureau, xgb_valid))"
   ]
  },
  {
   "cell_type": "code",
   "execution_count": 148,
   "metadata": {},
   "outputs": [
    {
     "name": "stdout",
     "output_type": "stream",
     "text": [
      "              precision    recall  f1-score   support\n",
      "\n",
      "           0       0.67      0.68      0.67       469\n",
      "           1       0.67      0.67      0.67       467\n",
      "\n",
      "    accuracy                           0.67       936\n",
      "   macro avg       0.67      0.67      0.67       936\n",
      "weighted avg       0.67      0.67      0.67       936\n",
      "\n"
     ]
    }
   ],
   "source": [
    "from sklearn.metrics import classification_report\n",
    "\n",
    "y_pred_train = xgb_valid.predict(X_train_without_bureau)\n",
    "\n",
    "print(classification_report(y_train_without_bureau, y_pred_train))"
   ]
  },
  {
   "cell_type": "code",
   "execution_count": 149,
   "metadata": {},
   "outputs": [
    {
     "name": "stdout",
     "output_type": "stream",
     "text": [
      "              precision    recall  f1-score   support\n",
      "\n",
      "           0       0.58      0.57      0.57       203\n",
      "           1       0.57      0.58      0.58       202\n",
      "\n",
      "    accuracy                           0.58       405\n",
      "   macro avg       0.58      0.58      0.58       405\n",
      "weighted avg       0.58      0.58      0.58       405\n",
      "\n"
     ]
    }
   ],
   "source": [
    "from sklearn.metrics import classification_report\n",
    "\n",
    "y_pred_valid = xgb_valid.predict(X_valid_without_bureau)\n",
    "\n",
    "print(classification_report(y_valid_without_bureau, y_pred_valid))"
   ]
  },
  {
   "cell_type": "code",
   "execution_count": 150,
   "metadata": {},
   "outputs": [
    {
     "data": {
      "image/png": "[encoded data removed]",
      "text/plain": [
       "<Figure size 432x288 with 1 Axes>"
      ]
     },
     "metadata": {
      "needs_background": "light"
     },
     "output_type": "display_data"
    }
   ],
   "source": [
    "from sklearn.metrics import plot_roc_curve\n",
    "plot_roc_curve(xgb_valid,X_valid_without_bureau,y_valid_without_bureau)\n",
    "plt.show()"
   ]
  },
  {
   "cell_type": "code",
   "execution_count": 151,
   "metadata": {},
   "outputs": [
    {
     "name": "stdout",
     "output_type": "stream",
     "text": [
      "              precision    recall  f1-score   support\n",
      "\n",
      "           0       0.59      0.59      0.59       289\n",
      "           1       0.58      0.58      0.58       287\n",
      "\n",
      "    accuracy                           0.59       576\n",
      "   macro avg       0.59      0.59      0.59       576\n",
      "weighted avg       0.59      0.59      0.59       576\n",
      "\n"
     ]
    }
   ],
   "source": [
    "y_pred_test_without_bureau = xgb_valid.predict(X_test_without_bureau)\n",
    "print(classification_report(y_test_without_bureau, y_pred_test_without_bureau))"
   ]
  },
  {
   "cell_type": "code",
   "execution_count": 152,
   "metadata": {},
   "outputs": [
    {
     "name": "stdout",
     "output_type": "stream",
     "text": [
      "Final DecisionTree Gini Score (on test Set)            : 0.2188129197159494 \n"
     ]
    }
   ],
   "source": [
    "print(f\"Final DecisionTree Gini Score (on test Set)            : {(2*(roc_auc_score(y_test_without_bureau, xgb_valid.predict_proba(X_test_without_bureau)[:, 1])))-1} \")"
   ]
  },
  {
   "cell_type": "markdown",
   "metadata": {},
   "source": [
    "#### Evaluate with all data"
   ]
  },
  {
   "cell_type": "markdown",
   "metadata": {},
   "source": [
    "##### Without bureau data"
   ]
  },
  {
   "cell_type": "code",
   "execution_count": 153,
   "metadata": {},
   "outputs": [
    {
     "data": {
      "text/html": [
       "<div>\n",
       "<style scoped>\n",
       "    .dataframe tbody tr th:only-of-type {\n",
       "        vertical-align: middle;\n",
       "    }\n",
       "\n",
       "    .dataframe tbody tr th {\n",
       "        vertical-align: top;\n",
       "    }\n",
       "\n",
       "    .dataframe thead th {\n",
       "        text-align: right;\n",
       "    }\n",
       "</style>\n",
       "<table border=\"1\" class=\"dataframe\">\n",
       "  <thead>\n",
       "    <tr style=\"text-align: right;\">\n",
       "      <th></th>\n",
       "      <th>customer_id</th>\n",
       "      <th>AGE</th>\n",
       "      <th>INCOME</th>\n",
       "      <th>GENDER</th>\n",
       "      <th>EDUCATION</th>\n",
       "      <th>LOAN_PURPOSE</th>\n",
       "      <th>APPLICATION_RECEIVE_TIME</th>\n",
       "      <th>HAS_APPLIED_BEFORE</th>\n",
       "      <th>HAS_INCOME_VERIFICATION</th>\n",
       "      <th>LOAN_WAS_PAID_BACK</th>\n",
       "      <th>KNOWN_ASSETS</th>\n",
       "      <th>Score</th>\n",
       "    </tr>\n",
       "  </thead>\n",
       "  <tbody>\n",
       "    <tr>\n",
       "      <th>0</th>\n",
       "      <td>36495</td>\n",
       "      <td>28</td>\n",
       "      <td>15000000.0</td>\n",
       "      <td>Male</td>\n",
       "      <td>Bachelor Degree</td>\n",
       "      <td>Renovation</td>\n",
       "      <td>07:13:00</td>\n",
       "      <td>No</td>\n",
       "      <td>Yes</td>\n",
       "      <td>1</td>\n",
       "      <td>NaN</td>\n",
       "      <td>NaN</td>\n",
       "    </tr>\n",
       "    <tr>\n",
       "      <th>1</th>\n",
       "      <td>36500</td>\n",
       "      <td>29</td>\n",
       "      <td>14000000.0</td>\n",
       "      <td>Female</td>\n",
       "      <td>Bachelor Degree</td>\n",
       "      <td>Renovation</td>\n",
       "      <td>19:30:00</td>\n",
       "      <td>Yes</td>\n",
       "      <td>Yes</td>\n",
       "      <td>0</td>\n",
       "      <td>NaN</td>\n",
       "      <td>0.86</td>\n",
       "    </tr>\n",
       "    <tr>\n",
       "      <th>2</th>\n",
       "      <td>36505</td>\n",
       "      <td>36</td>\n",
       "      <td>21000000.0</td>\n",
       "      <td>Female</td>\n",
       "      <td>Bachelor Degree</td>\n",
       "      <td>Renovation</td>\n",
       "      <td>06:12:00</td>\n",
       "      <td>No</td>\n",
       "      <td>Yes</td>\n",
       "      <td>1</td>\n",
       "      <td>NaN</td>\n",
       "      <td>0.83</td>\n",
       "    </tr>\n",
       "    <tr>\n",
       "      <th>3</th>\n",
       "      <td>36510</td>\n",
       "      <td>44</td>\n",
       "      <td>5000000.0</td>\n",
       "      <td>Male</td>\n",
       "      <td>Bachelor Degree</td>\n",
       "      <td>Investment</td>\n",
       "      <td>17:48:00</td>\n",
       "      <td>No</td>\n",
       "      <td>Yes</td>\n",
       "      <td>1</td>\n",
       "      <td>NaN</td>\n",
       "      <td>0.79</td>\n",
       "    </tr>\n",
       "    <tr>\n",
       "      <th>4</th>\n",
       "      <td>36515</td>\n",
       "      <td>34</td>\n",
       "      <td>6000000.0</td>\n",
       "      <td>Male</td>\n",
       "      <td>Bachelor Degree</td>\n",
       "      <td>Credit card</td>\n",
       "      <td>12:17:00</td>\n",
       "      <td>No</td>\n",
       "      <td>Yes</td>\n",
       "      <td>1</td>\n",
       "      <td>NaN</td>\n",
       "      <td>NaN</td>\n",
       "    </tr>\n",
       "  </tbody>\n",
       "</table>\n",
       "</div>"
      ],
      "text/plain": [
       "   customer_id  AGE      INCOME  GENDER        EDUCATION LOAN_PURPOSE  \\\n",
       "0        36495   28  15000000.0    Male  Bachelor Degree   Renovation   \n",
       "1        36500   29  14000000.0  Female  Bachelor Degree   Renovation   \n",
       "2        36505   36  21000000.0  Female  Bachelor Degree   Renovation   \n",
       "3        36510   44   5000000.0    Male  Bachelor Degree   Investment   \n",
       "4        36515   34   6000000.0    Male  Bachelor Degree  Credit card   \n",
       "\n",
       "  APPLICATION_RECEIVE_TIME HAS_APPLIED_BEFORE HAS_INCOME_VERIFICATION  \\\n",
       "0                 07:13:00                 No                     Yes   \n",
       "1                 19:30:00                Yes                     Yes   \n",
       "2                 06:12:00                 No                     Yes   \n",
       "3                 17:48:00                 No                     Yes   \n",
       "4                 12:17:00                 No                     Yes   \n",
       "\n",
       "   LOAN_WAS_PAID_BACK  KNOWN_ASSETS  Score  \n",
       "0                   1           NaN    NaN  \n",
       "1                   0           NaN   0.86  \n",
       "2                   1           NaN   0.83  \n",
       "3                   1           NaN   0.79  \n",
       "4                   1           NaN    NaN  "
      ]
     },
     "execution_count": 153,
     "metadata": {},
     "output_type": "execute_result"
    }
   ],
   "source": [
    "# get all data without bureau\n",
    "df_all_xb = df[df['LOANS_WITH_DELAYS'].isna() == True]\n",
    "df_all_xb = df_all_xb.drop(columns=[ \"LOANS_WITHOUT_DELAYS\", \"LOANS_WITH_DELAYS\"]).reset_index(drop=True)\n",
    "df_all_xb.head()"
   ]
  },
  {
   "cell_type": "code",
   "execution_count": 154,
   "metadata": {},
   "outputs": [
    {
     "data": {
      "text/plain": [
       "(1308, 22)"
      ]
     },
     "execution_count": 154,
     "metadata": {},
     "output_type": "execute_result"
    }
   ],
   "source": [
    "#test with all data whitout bureau\n",
    "X_cek,y_cek = feature_engineering_xb(df_all_xb)\n",
    "X_cek.shape"
   ]
  },
  {
   "cell_type": "code",
   "execution_count": 155,
   "metadata": {},
   "outputs": [
    {
     "ename": "ValueError",
     "evalue": "Feature shape mismatch, expected: 21, got 22",
     "output_type": "error",
     "traceback": [
      "\u001b[1;31m---------------------------------------------------------------------------\u001b[0m",
      "\u001b[1;31mValueError\u001b[0m                                Traceback (most recent call last)",
      "\u001b[1;32m~\\AppData\\Local\\Temp\\ipykernel_12872\\1695856004.py\u001b[0m in \u001b[0;36m<module>\u001b[1;34m\u001b[0m\n\u001b[1;32m----> 1\u001b[1;33m \u001b[0my_pred\u001b[0m \u001b[1;33m=\u001b[0m \u001b[0mxgb_valid\u001b[0m\u001b[1;33m.\u001b[0m\u001b[0mpredict\u001b[0m\u001b[1;33m(\u001b[0m\u001b[0mX_cek\u001b[0m\u001b[1;33m)\u001b[0m\u001b[1;33m\u001b[0m\u001b[1;33m\u001b[0m\u001b[0m\n\u001b[0m\u001b[0;32m      2\u001b[0m \u001b[0mprint\u001b[0m\u001b[1;33m(\u001b[0m\u001b[0mclassification_report\u001b[0m\u001b[1;33m(\u001b[0m\u001b[0my_cek\u001b[0m\u001b[1;33m,\u001b[0m \u001b[0my_pred\u001b[0m\u001b[1;33m)\u001b[0m\u001b[1;33m)\u001b[0m\u001b[1;33m\u001b[0m\u001b[1;33m\u001b[0m\u001b[0m\n",
      "\u001b[1;32mD:\\Anaconda3\\envs\\pmds\\lib\\site-packages\\xgboost\\sklearn.py\u001b[0m in \u001b[0;36mpredict\u001b[1;34m(self, X, output_margin, ntree_limit, validate_features, base_margin, iteration_range)\u001b[0m\n\u001b[0;32m   1288\u001b[0m             \u001b[0mvalidate_features\u001b[0m\u001b[1;33m=\u001b[0m\u001b[0mvalidate_features\u001b[0m\u001b[1;33m,\u001b[0m\u001b[1;33m\u001b[0m\u001b[1;33m\u001b[0m\u001b[0m\n\u001b[0;32m   1289\u001b[0m             \u001b[0mbase_margin\u001b[0m\u001b[1;33m=\u001b[0m\u001b[0mbase_margin\u001b[0m\u001b[1;33m,\u001b[0m\u001b[1;33m\u001b[0m\u001b[1;33m\u001b[0m\u001b[0m\n\u001b[1;32m-> 1290\u001b[1;33m             \u001b[0miteration_range\u001b[0m\u001b[1;33m=\u001b[0m\u001b[0miteration_range\u001b[0m\u001b[1;33m,\u001b[0m\u001b[1;33m\u001b[0m\u001b[1;33m\u001b[0m\u001b[0m\n\u001b[0m\u001b[0;32m   1291\u001b[0m         )\n\u001b[0;32m   1292\u001b[0m         \u001b[1;32mif\u001b[0m \u001b[0moutput_margin\u001b[0m\u001b[1;33m:\u001b[0m\u001b[1;33m\u001b[0m\u001b[1;33m\u001b[0m\u001b[0m\n",
      "\u001b[1;32mD:\\Anaconda3\\envs\\pmds\\lib\\site-packages\\xgboost\\sklearn.py\u001b[0m in \u001b[0;36mpredict\u001b[1;34m(self, X, output_margin, ntree_limit, validate_features, base_margin, iteration_range)\u001b[0m\n\u001b[0;32m    885\u001b[0m                     \u001b[0mmissing\u001b[0m\u001b[1;33m=\u001b[0m\u001b[0mself\u001b[0m\u001b[1;33m.\u001b[0m\u001b[0mmissing\u001b[0m\u001b[1;33m,\u001b[0m\u001b[1;33m\u001b[0m\u001b[1;33m\u001b[0m\u001b[0m\n\u001b[0;32m    886\u001b[0m                     \u001b[0mbase_margin\u001b[0m\u001b[1;33m=\u001b[0m\u001b[0mbase_margin\u001b[0m\u001b[1;33m,\u001b[0m\u001b[1;33m\u001b[0m\u001b[1;33m\u001b[0m\u001b[0m\n\u001b[1;32m--> 887\u001b[1;33m                     \u001b[0mvalidate_features\u001b[0m\u001b[1;33m=\u001b[0m\u001b[0mvalidate_features\u001b[0m\u001b[1;33m,\u001b[0m\u001b[1;33m\u001b[0m\u001b[1;33m\u001b[0m\u001b[0m\n\u001b[0m\u001b[0;32m    888\u001b[0m                 )\n\u001b[0;32m    889\u001b[0m                 \u001b[1;32mif\u001b[0m \u001b[0m_is_cupy_array\u001b[0m\u001b[1;33m(\u001b[0m\u001b[0mpredts\u001b[0m\u001b[1;33m)\u001b[0m\u001b[1;33m:\u001b[0m\u001b[1;33m\u001b[0m\u001b[1;33m\u001b[0m\u001b[0m\n",
      "\u001b[1;32mD:\\Anaconda3\\envs\\pmds\\lib\\site-packages\\xgboost\\core.py\u001b[0m in \u001b[0;36minplace_predict\u001b[1;34m(self, data, iteration_range, predict_type, missing, validate_features, base_margin, strict_shape)\u001b[0m\n\u001b[0;32m   2017\u001b[0m             \u001b[1;32mif\u001b[0m \u001b[0mlen\u001b[0m\u001b[1;33m(\u001b[0m\u001b[0mdata\u001b[0m\u001b[1;33m.\u001b[0m\u001b[0mshape\u001b[0m\u001b[1;33m)\u001b[0m \u001b[1;33m!=\u001b[0m \u001b[1;36m1\u001b[0m \u001b[1;32mand\u001b[0m \u001b[0mself\u001b[0m\u001b[1;33m.\u001b[0m\u001b[0mnum_features\u001b[0m\u001b[1;33m(\u001b[0m\u001b[1;33m)\u001b[0m \u001b[1;33m!=\u001b[0m \u001b[0mdata\u001b[0m\u001b[1;33m.\u001b[0m\u001b[0mshape\u001b[0m\u001b[1;33m[\u001b[0m\u001b[1;36m1\u001b[0m\u001b[1;33m]\u001b[0m\u001b[1;33m:\u001b[0m\u001b[1;33m\u001b[0m\u001b[1;33m\u001b[0m\u001b[0m\n\u001b[0;32m   2018\u001b[0m                 raise ValueError(\n\u001b[1;32m-> 2019\u001b[1;33m                     \u001b[1;34mf\"Feature shape mismatch, expected: {self.num_features()}, \"\u001b[0m\u001b[1;33m\u001b[0m\u001b[1;33m\u001b[0m\u001b[0m\n\u001b[0m\u001b[0;32m   2020\u001b[0m                     \u001b[1;34mf\"got {data.shape[1]}\"\u001b[0m\u001b[1;33m\u001b[0m\u001b[1;33m\u001b[0m\u001b[0m\n\u001b[0;32m   2021\u001b[0m                 )\n",
      "\u001b[1;31mValueError\u001b[0m: Feature shape mismatch, expected: 21, got 22"
     ]
    }
   ],
   "source": [
    "y_pred = xgb_valid.predict(X_cek)\n",
    "print(classification_report(y_cek, y_pred))"
   ]
  },
  {
   "cell_type": "markdown",
   "metadata": {},
   "source": [
    "##### Without all data remove bureau"
   ]
  },
  {
   "cell_type": "code",
   "execution_count": 156,
   "metadata": {},
   "outputs": [
    {
     "data": {
      "text/html": [
       "<div>\n",
       "<style scoped>\n",
       "    .dataframe tbody tr th:only-of-type {\n",
       "        vertical-align: middle;\n",
       "    }\n",
       "\n",
       "    .dataframe tbody tr th {\n",
       "        vertical-align: top;\n",
       "    }\n",
       "\n",
       "    .dataframe thead th {\n",
       "        text-align: right;\n",
       "    }\n",
       "</style>\n",
       "<table border=\"1\" class=\"dataframe\">\n",
       "  <thead>\n",
       "    <tr style=\"text-align: right;\">\n",
       "      <th></th>\n",
       "      <th>customer_id</th>\n",
       "      <th>AGE</th>\n",
       "      <th>INCOME</th>\n",
       "      <th>GENDER</th>\n",
       "      <th>EDUCATION</th>\n",
       "      <th>LOAN_PURPOSE</th>\n",
       "      <th>APPLICATION_RECEIVE_TIME</th>\n",
       "      <th>HAS_APPLIED_BEFORE</th>\n",
       "      <th>HAS_INCOME_VERIFICATION</th>\n",
       "      <th>LOAN_WAS_PAID_BACK</th>\n",
       "      <th>KNOWN_ASSETS</th>\n",
       "      <th>Score</th>\n",
       "    </tr>\n",
       "  </thead>\n",
       "  <tbody>\n",
       "    <tr>\n",
       "      <th>0</th>\n",
       "      <td>36493</td>\n",
       "      <td>40</td>\n",
       "      <td>10000000.0</td>\n",
       "      <td>Female</td>\n",
       "      <td>Diploma</td>\n",
       "      <td>Working Capital</td>\n",
       "      <td>09:07:00</td>\n",
       "      <td>No</td>\n",
       "      <td>Yes</td>\n",
       "      <td>1</td>\n",
       "      <td>40000000.0</td>\n",
       "      <td>0.77</td>\n",
       "    </tr>\n",
       "    <tr>\n",
       "      <th>1</th>\n",
       "      <td>36494</td>\n",
       "      <td>39</td>\n",
       "      <td>15000000.0</td>\n",
       "      <td>Female</td>\n",
       "      <td>Bachelor Degree</td>\n",
       "      <td>Other</td>\n",
       "      <td>15:15:00</td>\n",
       "      <td>No</td>\n",
       "      <td>Yes</td>\n",
       "      <td>1</td>\n",
       "      <td>20000000.0</td>\n",
       "      <td>0.93</td>\n",
       "    </tr>\n",
       "    <tr>\n",
       "      <th>2</th>\n",
       "      <td>36495</td>\n",
       "      <td>28</td>\n",
       "      <td>15000000.0</td>\n",
       "      <td>Male</td>\n",
       "      <td>Bachelor Degree</td>\n",
       "      <td>Renovation</td>\n",
       "      <td>07:13:00</td>\n",
       "      <td>No</td>\n",
       "      <td>Yes</td>\n",
       "      <td>1</td>\n",
       "      <td>NaN</td>\n",
       "      <td>NaN</td>\n",
       "    </tr>\n",
       "    <tr>\n",
       "      <th>3</th>\n",
       "      <td>36496</td>\n",
       "      <td>28</td>\n",
       "      <td>4000000.0</td>\n",
       "      <td>Male</td>\n",
       "      <td>Bachelor Degree</td>\n",
       "      <td>Renovation</td>\n",
       "      <td>12:05:00</td>\n",
       "      <td>Yes</td>\n",
       "      <td>Yes</td>\n",
       "      <td>1</td>\n",
       "      <td>0.0</td>\n",
       "      <td>0.78</td>\n",
       "    </tr>\n",
       "    <tr>\n",
       "      <th>4</th>\n",
       "      <td>36497</td>\n",
       "      <td>38</td>\n",
       "      <td>10000000.0</td>\n",
       "      <td>Male</td>\n",
       "      <td>Diploma</td>\n",
       "      <td>Renovation</td>\n",
       "      <td>14:35:00</td>\n",
       "      <td>Yes</td>\n",
       "      <td>Yes</td>\n",
       "      <td>0</td>\n",
       "      <td>40000000.0</td>\n",
       "      <td>0.81</td>\n",
       "    </tr>\n",
       "  </tbody>\n",
       "</table>\n",
       "</div>"
      ],
      "text/plain": [
       "   customer_id  AGE      INCOME  GENDER        EDUCATION     LOAN_PURPOSE  \\\n",
       "0        36493   40  10000000.0  Female          Diploma  Working Capital   \n",
       "1        36494   39  15000000.0  Female  Bachelor Degree            Other   \n",
       "2        36495   28  15000000.0    Male  Bachelor Degree       Renovation   \n",
       "3        36496   28   4000000.0    Male  Bachelor Degree       Renovation   \n",
       "4        36497   38  10000000.0    Male          Diploma       Renovation   \n",
       "\n",
       "  APPLICATION_RECEIVE_TIME HAS_APPLIED_BEFORE HAS_INCOME_VERIFICATION  \\\n",
       "0                 09:07:00                 No                     Yes   \n",
       "1                 15:15:00                 No                     Yes   \n",
       "2                 07:13:00                 No                     Yes   \n",
       "3                 12:05:00                Yes                     Yes   \n",
       "4                 14:35:00                Yes                     Yes   \n",
       "\n",
       "   LOAN_WAS_PAID_BACK  KNOWN_ASSETS  Score  \n",
       "0                   1    40000000.0   0.77  \n",
       "1                   1    20000000.0   0.93  \n",
       "2                   1           NaN    NaN  \n",
       "3                   1           0.0   0.78  \n",
       "4                   0    40000000.0   0.81  "
      ]
     },
     "execution_count": 156,
     "metadata": {},
     "output_type": "execute_result"
    }
   ],
   "source": [
    "# get all data remove bureau\n",
    "df_all = df.drop(columns=[ \"LOANS_WITHOUT_DELAYS\", \"LOANS_WITH_DELAYS\"]).reset_index(drop=True)\n",
    "df_all.head()"
   ]
  },
  {
   "cell_type": "code",
   "execution_count": 157,
   "metadata": {},
   "outputs": [
    {
     "data": {
      "text/plain": [
       "(6537, 22)"
      ]
     },
     "execution_count": 157,
     "metadata": {},
     "output_type": "execute_result"
    }
   ],
   "source": [
    "X_cek,y_cek = feature_engineering_xb(df_all)\n",
    "X_cek.shape"
   ]
  },
  {
   "cell_type": "code",
   "execution_count": 158,
   "metadata": {},
   "outputs": [
    {
     "ename": "ValueError",
     "evalue": "Feature shape mismatch, expected: 21, got 22",
     "output_type": "error",
     "traceback": [
      "\u001b[1;31m---------------------------------------------------------------------------\u001b[0m",
      "\u001b[1;31mValueError\u001b[0m                                Traceback (most recent call last)",
      "\u001b[1;32m~\\AppData\\Local\\Temp\\ipykernel_12872\\1695856004.py\u001b[0m in \u001b[0;36m<module>\u001b[1;34m\u001b[0m\n\u001b[1;32m----> 1\u001b[1;33m \u001b[0my_pred\u001b[0m \u001b[1;33m=\u001b[0m \u001b[0mxgb_valid\u001b[0m\u001b[1;33m.\u001b[0m\u001b[0mpredict\u001b[0m\u001b[1;33m(\u001b[0m\u001b[0mX_cek\u001b[0m\u001b[1;33m)\u001b[0m\u001b[1;33m\u001b[0m\u001b[1;33m\u001b[0m\u001b[0m\n\u001b[0m\u001b[0;32m      2\u001b[0m \u001b[0mprint\u001b[0m\u001b[1;33m(\u001b[0m\u001b[0mclassification_report\u001b[0m\u001b[1;33m(\u001b[0m\u001b[0my_cek\u001b[0m\u001b[1;33m,\u001b[0m \u001b[0my_pred\u001b[0m\u001b[1;33m)\u001b[0m\u001b[1;33m)\u001b[0m\u001b[1;33m\u001b[0m\u001b[1;33m\u001b[0m\u001b[0m\n",
      "\u001b[1;32mD:\\Anaconda3\\envs\\pmds\\lib\\site-packages\\xgboost\\sklearn.py\u001b[0m in \u001b[0;36mpredict\u001b[1;34m(self, X, output_margin, ntree_limit, validate_features, base_margin, iteration_range)\u001b[0m\n\u001b[0;32m   1288\u001b[0m             \u001b[0mvalidate_features\u001b[0m\u001b[1;33m=\u001b[0m\u001b[0mvalidate_features\u001b[0m\u001b[1;33m,\u001b[0m\u001b[1;33m\u001b[0m\u001b[1;33m\u001b[0m\u001b[0m\n\u001b[0;32m   1289\u001b[0m             \u001b[0mbase_margin\u001b[0m\u001b[1;33m=\u001b[0m\u001b[0mbase_margin\u001b[0m\u001b[1;33m,\u001b[0m\u001b[1;33m\u001b[0m\u001b[1;33m\u001b[0m\u001b[0m\n\u001b[1;32m-> 1290\u001b[1;33m             \u001b[0miteration_range\u001b[0m\u001b[1;33m=\u001b[0m\u001b[0miteration_range\u001b[0m\u001b[1;33m,\u001b[0m\u001b[1;33m\u001b[0m\u001b[1;33m\u001b[0m\u001b[0m\n\u001b[0m\u001b[0;32m   1291\u001b[0m         )\n\u001b[0;32m   1292\u001b[0m         \u001b[1;32mif\u001b[0m \u001b[0moutput_margin\u001b[0m\u001b[1;33m:\u001b[0m\u001b[1;33m\u001b[0m\u001b[1;33m\u001b[0m\u001b[0m\n",
      "\u001b[1;32mD:\\Anaconda3\\envs\\pmds\\lib\\site-packages\\xgboost\\sklearn.py\u001b[0m in \u001b[0;36mpredict\u001b[1;34m(self, X, output_margin, ntree_limit, validate_features, base_margin, iteration_range)\u001b[0m\n\u001b[0;32m    885\u001b[0m                     \u001b[0mmissing\u001b[0m\u001b[1;33m=\u001b[0m\u001b[0mself\u001b[0m\u001b[1;33m.\u001b[0m\u001b[0mmissing\u001b[0m\u001b[1;33m,\u001b[0m\u001b[1;33m\u001b[0m\u001b[1;33m\u001b[0m\u001b[0m\n\u001b[0;32m    886\u001b[0m                     \u001b[0mbase_margin\u001b[0m\u001b[1;33m=\u001b[0m\u001b[0mbase_margin\u001b[0m\u001b[1;33m,\u001b[0m\u001b[1;33m\u001b[0m\u001b[1;33m\u001b[0m\u001b[0m\n\u001b[1;32m--> 887\u001b[1;33m                     \u001b[0mvalidate_features\u001b[0m\u001b[1;33m=\u001b[0m\u001b[0mvalidate_features\u001b[0m\u001b[1;33m,\u001b[0m\u001b[1;33m\u001b[0m\u001b[1;33m\u001b[0m\u001b[0m\n\u001b[0m\u001b[0;32m    888\u001b[0m                 )\n\u001b[0;32m    889\u001b[0m                 \u001b[1;32mif\u001b[0m \u001b[0m_is_cupy_array\u001b[0m\u001b[1;33m(\u001b[0m\u001b[0mpredts\u001b[0m\u001b[1;33m)\u001b[0m\u001b[1;33m:\u001b[0m\u001b[1;33m\u001b[0m\u001b[1;33m\u001b[0m\u001b[0m\n",
      "\u001b[1;32mD:\\Anaconda3\\envs\\pmds\\lib\\site-packages\\xgboost\\core.py\u001b[0m in \u001b[0;36minplace_predict\u001b[1;34m(self, data, iteration_range, predict_type, missing, validate_features, base_margin, strict_shape)\u001b[0m\n\u001b[0;32m   2017\u001b[0m             \u001b[1;32mif\u001b[0m \u001b[0mlen\u001b[0m\u001b[1;33m(\u001b[0m\u001b[0mdata\u001b[0m\u001b[1;33m.\u001b[0m\u001b[0mshape\u001b[0m\u001b[1;33m)\u001b[0m \u001b[1;33m!=\u001b[0m \u001b[1;36m1\u001b[0m \u001b[1;32mand\u001b[0m \u001b[0mself\u001b[0m\u001b[1;33m.\u001b[0m\u001b[0mnum_features\u001b[0m\u001b[1;33m(\u001b[0m\u001b[1;33m)\u001b[0m \u001b[1;33m!=\u001b[0m \u001b[0mdata\u001b[0m\u001b[1;33m.\u001b[0m\u001b[0mshape\u001b[0m\u001b[1;33m[\u001b[0m\u001b[1;36m1\u001b[0m\u001b[1;33m]\u001b[0m\u001b[1;33m:\u001b[0m\u001b[1;33m\u001b[0m\u001b[1;33m\u001b[0m\u001b[0m\n\u001b[0;32m   2018\u001b[0m                 raise ValueError(\n\u001b[1;32m-> 2019\u001b[1;33m                     \u001b[1;34mf\"Feature shape mismatch, expected: {self.num_features()}, \"\u001b[0m\u001b[1;33m\u001b[0m\u001b[1;33m\u001b[0m\u001b[0m\n\u001b[0m\u001b[0;32m   2020\u001b[0m                     \u001b[1;34mf\"got {data.shape[1]}\"\u001b[0m\u001b[1;33m\u001b[0m\u001b[1;33m\u001b[0m\u001b[0m\n\u001b[0;32m   2021\u001b[0m                 )\n",
      "\u001b[1;31mValueError\u001b[0m: Feature shape mismatch, expected: 21, got 22"
     ]
    }
   ],
   "source": [
    "y_pred = xgb_valid.predict(X_cek)\n",
    "print(classification_report(y_cek, y_pred))"
   ]
  },
  {
   "cell_type": "markdown",
   "metadata": {},
   "source": [
    "## all data remove Bureau Data (SMOTE)"
   ]
  },
  {
   "cell_type": "code",
   "execution_count": 159,
   "metadata": {},
   "outputs": [
    {
     "data": {
      "text/html": [
       "<div>\n",
       "<style scoped>\n",
       "    .dataframe tbody tr th:only-of-type {\n",
       "        vertical-align: middle;\n",
       "    }\n",
       "\n",
       "    .dataframe tbody tr th {\n",
       "        vertical-align: top;\n",
       "    }\n",
       "\n",
       "    .dataframe thead th {\n",
       "        text-align: right;\n",
       "    }\n",
       "</style>\n",
       "<table border=\"1\" class=\"dataframe\">\n",
       "  <thead>\n",
       "    <tr style=\"text-align: right;\">\n",
       "      <th></th>\n",
       "      <th>customer_id</th>\n",
       "      <th>AGE</th>\n",
       "      <th>INCOME</th>\n",
       "      <th>GENDER</th>\n",
       "      <th>EDUCATION</th>\n",
       "      <th>LOAN_PURPOSE</th>\n",
       "      <th>APPLICATION_RECEIVE_TIME</th>\n",
       "      <th>HAS_APPLIED_BEFORE</th>\n",
       "      <th>HAS_INCOME_VERIFICATION</th>\n",
       "      <th>LOAN_WAS_PAID_BACK</th>\n",
       "      <th>LOANS_WITHOUT_DELAYS</th>\n",
       "      <th>LOANS_WITH_DELAYS</th>\n",
       "      <th>KNOWN_ASSETS</th>\n",
       "      <th>Score</th>\n",
       "    </tr>\n",
       "  </thead>\n",
       "  <tbody>\n",
       "    <tr>\n",
       "      <th>0</th>\n",
       "      <td>36493</td>\n",
       "      <td>40</td>\n",
       "      <td>10000000.0</td>\n",
       "      <td>Female</td>\n",
       "      <td>Diploma</td>\n",
       "      <td>Working Capital</td>\n",
       "      <td>09:07:00</td>\n",
       "      <td>No</td>\n",
       "      <td>Yes</td>\n",
       "      <td>1</td>\n",
       "      <td>3.0</td>\n",
       "      <td>3.0</td>\n",
       "      <td>40000000.0</td>\n",
       "      <td>0.77</td>\n",
       "    </tr>\n",
       "    <tr>\n",
       "      <th>1</th>\n",
       "      <td>36494</td>\n",
       "      <td>39</td>\n",
       "      <td>15000000.0</td>\n",
       "      <td>Female</td>\n",
       "      <td>Bachelor Degree</td>\n",
       "      <td>Other</td>\n",
       "      <td>15:15:00</td>\n",
       "      <td>No</td>\n",
       "      <td>Yes</td>\n",
       "      <td>1</td>\n",
       "      <td>3.0</td>\n",
       "      <td>0.0</td>\n",
       "      <td>20000000.0</td>\n",
       "      <td>0.93</td>\n",
       "    </tr>\n",
       "    <tr>\n",
       "      <th>2</th>\n",
       "      <td>36495</td>\n",
       "      <td>28</td>\n",
       "      <td>15000000.0</td>\n",
       "      <td>Male</td>\n",
       "      <td>Bachelor Degree</td>\n",
       "      <td>Renovation</td>\n",
       "      <td>07:13:00</td>\n",
       "      <td>No</td>\n",
       "      <td>Yes</td>\n",
       "      <td>1</td>\n",
       "      <td>NaN</td>\n",
       "      <td>NaN</td>\n",
       "      <td>NaN</td>\n",
       "      <td>NaN</td>\n",
       "    </tr>\n",
       "    <tr>\n",
       "      <th>3</th>\n",
       "      <td>36496</td>\n",
       "      <td>28</td>\n",
       "      <td>4000000.0</td>\n",
       "      <td>Male</td>\n",
       "      <td>Bachelor Degree</td>\n",
       "      <td>Renovation</td>\n",
       "      <td>12:05:00</td>\n",
       "      <td>Yes</td>\n",
       "      <td>Yes</td>\n",
       "      <td>1</td>\n",
       "      <td>2.0</td>\n",
       "      <td>1.0</td>\n",
       "      <td>0.0</td>\n",
       "      <td>0.78</td>\n",
       "    </tr>\n",
       "    <tr>\n",
       "      <th>4</th>\n",
       "      <td>36497</td>\n",
       "      <td>38</td>\n",
       "      <td>10000000.0</td>\n",
       "      <td>Male</td>\n",
       "      <td>Diploma</td>\n",
       "      <td>Renovation</td>\n",
       "      <td>14:35:00</td>\n",
       "      <td>Yes</td>\n",
       "      <td>Yes</td>\n",
       "      <td>0</td>\n",
       "      <td>1.0</td>\n",
       "      <td>0.0</td>\n",
       "      <td>40000000.0</td>\n",
       "      <td>0.81</td>\n",
       "    </tr>\n",
       "  </tbody>\n",
       "</table>\n",
       "</div>"
      ],
      "text/plain": [
       "   customer_id  AGE      INCOME  GENDER        EDUCATION     LOAN_PURPOSE  \\\n",
       "0        36493   40  10000000.0  Female          Diploma  Working Capital   \n",
       "1        36494   39  15000000.0  Female  Bachelor Degree            Other   \n",
       "2        36495   28  15000000.0    Male  Bachelor Degree       Renovation   \n",
       "3        36496   28   4000000.0    Male  Bachelor Degree       Renovation   \n",
       "4        36497   38  10000000.0    Male          Diploma       Renovation   \n",
       "\n",
       "  APPLICATION_RECEIVE_TIME HAS_APPLIED_BEFORE HAS_INCOME_VERIFICATION  \\\n",
       "0                 09:07:00                 No                     Yes   \n",
       "1                 15:15:00                 No                     Yes   \n",
       "2                 07:13:00                 No                     Yes   \n",
       "3                 12:05:00                Yes                     Yes   \n",
       "4                 14:35:00                Yes                     Yes   \n",
       "\n",
       "   LOAN_WAS_PAID_BACK  LOANS_WITHOUT_DELAYS  LOANS_WITH_DELAYS  KNOWN_ASSETS  \\\n",
       "0                   1                   3.0                3.0    40000000.0   \n",
       "1                   1                   3.0                0.0    20000000.0   \n",
       "2                   1                   NaN                NaN           NaN   \n",
       "3                   1                   2.0                1.0           0.0   \n",
       "4                   0                   1.0                0.0    40000000.0   \n",
       "\n",
       "   Score  \n",
       "0   0.77  \n",
       "1   0.93  \n",
       "2    NaN  \n",
       "3   0.78  \n",
       "4   0.81  "
      ]
     },
     "execution_count": 159,
     "metadata": {},
     "output_type": "execute_result"
    }
   ],
   "source": [
    "# merge master and bureau and external data\n",
    "df = pd.merge(master, bureau, on='customer_id', how='left')\n",
    "df = pd.merge(df, external, on='customer_id', how='left')\n",
    "df.head()"
   ]
  },
  {
   "cell_type": "code",
   "execution_count": 160,
   "metadata": {},
   "outputs": [],
   "source": [
    "# get all data without bureau\n",
    "df_final = df.drop(columns=[ \"LOANS_WITHOUT_DELAYS\", \"LOANS_WITH_DELAYS\"])"
   ]
  },
  {
   "cell_type": "code",
   "execution_count": 161,
   "metadata": {},
   "outputs": [
    {
     "data": {
      "text/plain": [
       "1    5625\n",
       "0     963\n",
       "Name: LOAN_WAS_PAID_BACK, dtype: int64"
      ]
     },
     "execution_count": 161,
     "metadata": {},
     "output_type": "execute_result"
    }
   ],
   "source": [
    "df_final.LOAN_WAS_PAID_BACK.value_counts()"
   ]
  },
  {
   "cell_type": "code",
   "execution_count": 162,
   "metadata": {},
   "outputs": [],
   "source": [
    "# do the splitting\n",
    "TARGET = \"LOAN_WAS_PAID_BACK\"\n",
    "TEST_SIZE = 0.3\n",
    "\n",
    "output_df, input_df = split_input_output(\n",
    "                            df_final,\n",
    "                            TARGET, save_file = False)\n",
    "\n",
    "x_train, y_train, x_valid, y_valid, x_test, y_test = split_data(input_df,\n",
    "                                                                    output_df,\n",
    "                                                                   True,\n",
    "                                                                   TEST_SIZE)"
   ]
  },
  {
   "cell_type": "code",
   "execution_count": 163,
   "metadata": {},
   "outputs": [
    {
     "name": "stdout",
     "output_type": "stream",
     "text": [
      "1    2755\n",
      "0     472\n",
      "Name: LOAN_WAS_PAID_BACK, dtype: int64\n",
      "-------------------------------------\n",
      "1    1182\n",
      "0     202\n",
      "Name: LOAN_WAS_PAID_BACK, dtype: int64\n",
      "-------------------------------------\n",
      "1    1688\n",
      "0     289\n",
      "Name: LOAN_WAS_PAID_BACK, dtype: int64\n"
     ]
    }
   ],
   "source": [
    "# check if stratify is correct\n",
    "print(y_train.value_counts())\n",
    "print(\"-------------------------------------\")\n",
    "print(y_valid.value_counts())\n",
    "print(\"-------------------------------------\")\n",
    "print(y_test.value_counts())"
   ]
  },
  {
   "cell_type": "code",
   "execution_count": 164,
   "metadata": {},
   "outputs": [
    {
     "name": "stdout",
     "output_type": "stream",
     "text": [
      "1    0.853734\n",
      "0    0.146266\n",
      "Name: LOAN_WAS_PAID_BACK, dtype: float64\n",
      "-------------------------------------\n",
      "1    0.854046\n",
      "0    0.145954\n",
      "Name: LOAN_WAS_PAID_BACK, dtype: float64\n",
      "-------------------------------------\n",
      "1    0.853819\n",
      "0    0.146181\n",
      "Name: LOAN_WAS_PAID_BACK, dtype: float64\n"
     ]
    }
   ],
   "source": [
    "# check if stratify is correct\n",
    "print(y_train.value_counts(normalize = True))\n",
    "print(\"-------------------------------------\")\n",
    "print(y_valid.value_counts(normalize = True))\n",
    "print(\"-------------------------------------\")\n",
    "print(y_test.value_counts(normalize = True))"
   ]
  },
  {
   "cell_type": "code",
   "execution_count": 203,
   "metadata": {},
   "outputs": [
    {
     "data": {
      "text/plain": [
       "(3227, 11)"
      ]
     },
     "execution_count": 203,
     "metadata": {},
     "output_type": "execute_result"
    }
   ],
   "source": [
    "x_train.shape"
   ]
  },
  {
   "cell_type": "markdown",
   "metadata": {},
   "source": [
    "### Feature engineering"
   ]
  },
  {
   "cell_type": "markdown",
   "metadata": {},
   "source": [
    "#### train"
   ]
  },
  {
   "cell_type": "code",
   "execution_count": 165,
   "metadata": {},
   "outputs": [],
   "source": [
    "df_train = pd.concat([x_train, pd.DataFrame(y_train)], axis = 1)"
   ]
  },
  {
   "cell_type": "code",
   "execution_count": 166,
   "metadata": {},
   "outputs": [],
   "source": [
    "# This is our final feature\n",
    "X_train_without_bureau,y_train_without_bureau = feature_engineering_xb(df_train)"
   ]
  },
  {
   "cell_type": "code",
   "execution_count": 167,
   "metadata": {},
   "outputs": [
    {
     "name": "stdout",
     "output_type": "stream",
     "text": [
      "set()\n"
     ]
    }
   ],
   "source": [
    "X_train_without_bureau = add_columns_xb(df_final,X_train_without_bureau)"
   ]
  },
  {
   "cell_type": "code",
   "execution_count": 168,
   "metadata": {},
   "outputs": [
    {
     "name": "stdout",
     "output_type": "stream",
     "text": [
      " Data Train Without Bureau has 22 Features\n"
     ]
    }
   ],
   "source": [
    "print(f' Data Train Without Bureau has {X_train_without_bureau.shape[1]} Features')"
   ]
  },
  {
   "cell_type": "code",
   "execution_count": 169,
   "metadata": {},
   "outputs": [
    {
     "data": {
      "text/plain": [
       "(3201, 22)"
      ]
     },
     "execution_count": 169,
     "metadata": {},
     "output_type": "execute_result"
    }
   ],
   "source": [
    "X_train_without_bureau.shape"
   ]
  },
  {
   "cell_type": "code",
   "execution_count": 170,
   "metadata": {},
   "outputs": [
    {
     "data": {
      "text/plain": [
       "(5460, 22)"
      ]
     },
     "execution_count": 170,
     "metadata": {},
     "output_type": "execute_result"
    }
   ],
   "source": [
    "from collections import Counter\n",
    "from sklearn.datasets import make_classification\n",
    "from imblearn.over_sampling import SMOTE \n",
    "\n",
    "oversample = SMOTE()\n",
    "X_train_without_bureau, y_train_without_bureau = oversample.fit_resample(X_train_without_bureau, y_train_without_bureau)\n",
    "X_train_without_bureau.shape"
   ]
  },
  {
   "cell_type": "code",
   "execution_count": 171,
   "metadata": {},
   "outputs": [
    {
     "name": "stdout",
     "output_type": "stream",
     "text": [
      "1    2730\n",
      "0    2730\n",
      "Name: LOAN_WAS_PAID_BACK, dtype: int64\n"
     ]
    }
   ],
   "source": [
    "print(y_train_without_bureau.value_counts())"
   ]
  },
  {
   "cell_type": "markdown",
   "metadata": {},
   "source": [
    "#### Valid"
   ]
  },
  {
   "cell_type": "code",
   "execution_count": 172,
   "metadata": {},
   "outputs": [],
   "source": [
    "df_valid = pd.concat([x_valid, pd.DataFrame(y_valid)], axis = 1)"
   ]
  },
  {
   "cell_type": "code",
   "execution_count": 173,
   "metadata": {},
   "outputs": [],
   "source": [
    "# This is our final feature\n",
    "X_valid_without_bureau,y_valid_without_bureau = feature_engineering_xb(df_valid)"
   ]
  },
  {
   "cell_type": "code",
   "execution_count": 174,
   "metadata": {},
   "outputs": [
    {
     "name": "stdout",
     "output_type": "stream",
     "text": [
      "set()\n"
     ]
    }
   ],
   "source": [
    "X_valid_without_bureau = add_columns_xb(df_final,X_valid_without_bureau)"
   ]
  },
  {
   "cell_type": "code",
   "execution_count": 175,
   "metadata": {},
   "outputs": [
    {
     "name": "stdout",
     "output_type": "stream",
     "text": [
      " Data Train Without Bureau has 22 Features\n"
     ]
    }
   ],
   "source": [
    "print(f' Data Train Without Bureau has {X_valid_without_bureau.shape[1]} Features')"
   ]
  },
  {
   "cell_type": "code",
   "execution_count": 176,
   "metadata": {},
   "outputs": [
    {
     "data": {
      "text/plain": [
       "(2340, 22)"
      ]
     },
     "execution_count": 176,
     "metadata": {},
     "output_type": "execute_result"
    }
   ],
   "source": [
    "#we try on valid data\n",
    "X_valid_without_bureau_rs, y_valid_without_bureau_rs = oversample.fit_resample(X_valid_without_bureau, y_valid_without_bureau)\n",
    "X_valid_without_bureau_rs.shape"
   ]
  },
  {
   "cell_type": "code",
   "execution_count": 177,
   "metadata": {},
   "outputs": [
    {
     "name": "stdout",
     "output_type": "stream",
     "text": [
      "1    1170\n",
      "0    1170\n",
      "Name: LOAN_WAS_PAID_BACK, dtype: int64\n"
     ]
    }
   ],
   "source": [
    "print(y_valid_without_bureau_rs.value_counts())"
   ]
  },
  {
   "cell_type": "markdown",
   "metadata": {},
   "source": [
    "#### Test"
   ]
  },
  {
   "cell_type": "code",
   "execution_count": 178,
   "metadata": {},
   "outputs": [],
   "source": [
    "df_test = pd.concat([x_test, pd.DataFrame(y_test)], axis = 1)"
   ]
  },
  {
   "cell_type": "code",
   "execution_count": 179,
   "metadata": {},
   "outputs": [],
   "source": [
    "# This is our final feature\n",
    "X_test_without_bureau,y_test_without_bureau = feature_engineering_xb(df_test)"
   ]
  },
  {
   "cell_type": "code",
   "execution_count": 180,
   "metadata": {},
   "outputs": [
    {
     "name": "stdout",
     "output_type": "stream",
     "text": [
      "{'LOAN_PURPOSE_Car/Motorcycle'}\n"
     ]
    }
   ],
   "source": [
    "X_test_without_bureau = add_columns_xb(df_final,X_test_without_bureau)"
   ]
  },
  {
   "cell_type": "code",
   "execution_count": 181,
   "metadata": {},
   "outputs": [
    {
     "name": "stdout",
     "output_type": "stream",
     "text": [
      " Data Train Without Bureau has 22 Features\n"
     ]
    }
   ],
   "source": [
    "print(f' Data Train Without Bureau has {X_test_without_bureau.shape[1]} Features')"
   ]
  },
  {
   "cell_type": "code",
   "execution_count": 182,
   "metadata": {},
   "outputs": [],
   "source": [
    "# Changing everything to float and replacing infinities\n",
    "for c in X_train_without_bureau.columns:\n",
    "  X_train_without_bureau[c] = X_train_without_bureau[c].astype(np.float64)\n",
    "X_train_without_bureau.replace([np.inf, -np.inf], np.nan, inplace=True)"
   ]
  },
  {
   "cell_type": "code",
   "execution_count": 183,
   "metadata": {},
   "outputs": [],
   "source": [
    "# Changing everything to float and replacing infinities\n",
    "for c in X_valid_without_bureau.columns:\n",
    "  X_valid_without_bureau[c] = X_valid_without_bureau[c].astype(np.float64)\n",
    "X_valid_without_bureau.replace([np.inf, -np.inf], np.nan, inplace=True)"
   ]
  },
  {
   "cell_type": "code",
   "execution_count": 184,
   "metadata": {},
   "outputs": [],
   "source": [
    "# Changing everything to float and replacing infinities\n",
    "for c in X_test_without_bureau.columns:\n",
    "  X_test_without_bureau[c] = X_test_without_bureau[c].astype(np.float64)\n",
    "X_test_without_bureau.replace([np.inf, -np.inf], np.nan, inplace=True)"
   ]
  },
  {
   "cell_type": "code",
   "execution_count": 185,
   "metadata": {},
   "outputs": [],
   "source": [
    "# Changing everything to float and replacing infinities\n",
    "for c in X_valid_without_bureau_rs.columns:\n",
    "  X_valid_without_bureau_rs[c] = X_valid_without_bureau_rs[c].astype(np.float64)\n",
    "X_valid_without_bureau_rs.replace([np.inf, -np.inf], np.nan, inplace=True)"
   ]
  },
  {
   "cell_type": "code",
   "execution_count": 186,
   "metadata": {},
   "outputs": [
    {
     "data": {
      "text/plain": [
       "AGE                                        0\n",
       "INCOME                                     0\n",
       "GENDER                                     0\n",
       "HAS_APPLIED_BEFORE                         0\n",
       "HAS_INCOME_VERIFICATION                    0\n",
       "EDUCATION_Bachelor Degree                  0\n",
       "EDUCATION_Diploma                          0\n",
       "EDUCATION_High School                      0\n",
       "EDUCATION_Master's Degree/Post graduate    0\n",
       "EDUCATION_Other                            0\n",
       "LOAN_PURPOSE_Bills                         0\n",
       "LOAN_PURPOSE_Car/Motorcycle                0\n",
       "LOAN_PURPOSE_Credit card                   0\n",
       "LOAN_PURPOSE_Education                     0\n",
       "LOAN_PURPOSE_Electronic unsecured loan     0\n",
       "LOAN_PURPOSE_Holiday                       0\n",
       "LOAN_PURPOSE_Housing loan                  0\n",
       "LOAN_PURPOSE_Investment                    0\n",
       "LOAN_PURPOSE_Other                         0\n",
       "LOAN_PURPOSE_Renovation                    0\n",
       "LOAN_PURPOSE_Venture capital               0\n",
       "LOAN_PURPOSE_Working Capital               0\n",
       "dtype: int64"
      ]
     },
     "execution_count": 186,
     "metadata": {},
     "output_type": "execute_result"
    }
   ],
   "source": [
    "X_train_without_bureau.isnull().sum()"
   ]
  },
  {
   "cell_type": "code",
   "execution_count": 187,
   "metadata": {},
   "outputs": [],
   "source": [
    "# Fixing column names that contains [,],or < for XGBoost model\n",
    "import re\n",
    "regex = re.compile(r\"\\[|\\]|<\", re.IGNORECASE)\n",
    "X_train_without_bureau.columns = [regex.sub(\"_\", col) if any(x in str(col) for x in set(('[', ']', '<'))) else col for col in X_train_without_bureau.columns.values]\n",
    "X_valid_without_bureau.columns = [regex.sub(\"_\", col) if any(x in str(col) for x in set(('[', ']', '<'))) else col for col in X_valid_without_bureau.columns.values]\n",
    "X_test_without_bureau.columns = [regex.sub(\"_\", col) if any(x in str(col) for x in set(('[', ']', '<'))) else col for col in X_test_without_bureau.columns.values]\n",
    "X_valid_without_bureau_rs.columns = [regex.sub(\"_\", col) if any(x in str(col) for x in set(('[', ']', '<'))) else col for col in X_valid_without_bureau_rs.columns.values]"
   ]
  },
  {
   "cell_type": "code",
   "execution_count": 188,
   "metadata": {},
   "outputs": [
    {
     "name": "stdout",
     "output_type": "stream",
     "text": [
      "Gini Performance Evaluation\n",
      "\n",
      "Logistic Regression Gini : 0.3822611332501442\n",
      "Random Forest Gini       : 0.8742908129721316\n",
      "Decision Tree Gini       : 0.8801119027492654\n",
      "KNN Classifier Gini      : 0.7426636611251998\n",
      "LGBM Gini                : 0.8231970105596478\n",
      "XGBoost Gini             : 0.8394909364140133\n"
     ]
    }
   ],
   "source": [
    "# Check the baseline model\n",
    "def baseline_model(X_train,y_train):\n",
    "  clf_logreg = LogisticRegression().fit(X_train,y_train)\n",
    "  clf_rf = RandomForestClassifier().fit(X_train,y_train)\n",
    "  clf_tree = DecisionTreeClassifier().fit(X_train,y_train)\n",
    "  clf_knn = KNeighborsClassifier().fit(X_train,y_train)\n",
    "  clf_lgbm = LGBMClassifier().fit(X_train,y_train)\n",
    "  clf_xgb = xgb.XGBClassifier().fit(X_train,y_train)\n",
    "\n",
    "  gini_logreg = (2*(roc_auc_score(y_train, clf_logreg.predict_proba(X_train)[:, 1])))-1\n",
    "  gini_rf = (2*(roc_auc_score(y_train, clf_rf.predict_proba(X_train)[:, 1])))-1\n",
    "  gini_tree = (2*(roc_auc_score(y_train, clf_tree.predict_proba(X_train)[:, 1])))-1\n",
    "  gini_knn = (2*(roc_auc_score(y_train, clf_knn.predict_proba(X_train)[:, 1])))-1\n",
    "  gini_lgbm = (2*(roc_auc_score(y_train, clf_lgbm.predict_proba(X_train)[:, 1])))-1\n",
    "  gini_xgb = (2*(roc_auc_score(y_train, clf_xgb.predict_proba(X_train)[:, 1])))-1\n",
    "\n",
    "  print(\"Gini Performance Evaluation\\n\")\n",
    "  print(f\"Logistic Regression Gini : {gini_logreg}\")\n",
    "  print(f\"Random Forest Gini       : {gini_rf}\")\n",
    "  print(f\"Decision Tree Gini       : {gini_tree}\")\n",
    "  print(f\"KNN Classifier Gini      : {gini_knn}\")\n",
    "  print(f\"LGBM Gini                : {gini_lgbm}\")\n",
    "  print(f\"XGBoost Gini             : {gini_xgb}\")\n",
    "\n",
    "  return clf_logreg, clf_rf, clf_tree, clf_knn, clf_lgbm, clf_xgb\n",
    " \n",
    "clf_logreg, clf_rf, clf_tree, clf_knn, clf_lgbm, clf_xgb = baseline_model(X_train_without_bureau,y_train_without_bureau)"
   ]
  },
  {
   "cell_type": "markdown",
   "metadata": {},
   "source": [
    "Hyperparameter tuning on best baseline model\n",
    "We will be using Decision Tree since it has the highest gini score."
   ]
  },
  {
   "cell_type": "markdown",
   "metadata": {},
   "source": [
    "#### Hyperparameter tuning on best baseline model\n"
   ]
  },
  {
   "cell_type": "code",
   "execution_count": 189,
   "metadata": {},
   "outputs": [
    {
     "name": "stdout",
     "output_type": "stream",
     "text": [
      "Best Score tree: 0.6741697862576985\n",
      "Best Hyperparameters: {'min_samples_leaf': 5, 'max_depth': 20, 'criterion': 'entropy'}\n",
      "Best Score rf: 0.7418380764534611\n",
      "Best Hyperparameters: {'min_samples_split': 5, 'min_samples_leaf': 1, 'max_depth': None}\n",
      "Best Score xgb: 0.7561975875162688\n",
      "Best Hyperparameters: {'fs__k': 10, 'clf__n_estimators': 200, 'clf__max_depth': 8, 'clf__learning_rate': 0.3, 'clf__gamma': 0.0, 'clf__colsample_bytree': 0.1}\n",
      "Wall time: 2min 39s\n"
     ]
    }
   ],
   "source": [
    "%%time\n",
    "\n",
    "clf_xgb = xgb.XGBClassifier()\n",
    "clf_tree = DecisionTreeClassifier()\n",
    "clf_rf = RandomForestClassifier()\n",
    "\n",
    "# Define evaluation\n",
    "cv = RepeatedStratifiedKFold(n_splits=10, n_repeats=2, random_state=420)\n",
    "\n",
    "# Define search space\n",
    "space_tree = dict()\n",
    "space_rf = dict()\n",
    "space_xgb = [\n",
    "  {\n",
    "    'clf__n_estimators': [50, 100, 150, 200],\n",
    "    'clf__learning_rate': [0.01, 0.1, 0.2, 0.3],\n",
    "    'clf__max_depth': range(3, 10),\n",
    "    'clf__colsample_bytree': [i/10.0 for i in range(1, 3)],\n",
    "    'clf__gamma': [i/10.0 for i in range(3)],\n",
    "#     'fs__score_func': [chi2],\n",
    "    'fs__k': [10],\n",
    "  }\n",
    "]\n",
    "\n",
    "max_depth = [int(x) for x in np.linspace(10, 110, num = 11)] #RF\n",
    "max_depth.append(None) #RF\n",
    "space_rf['max_depth'] = max_depth # RF\n",
    "space_rf['min_samples_split'] = [2, 5, 10] # RF\n",
    "space_rf['min_samples_leaf'] = [1, 2, 4] # RF\n",
    "\n",
    "space_tree['max_depth'] = [2, 3, 5, 10, 20] #DT\n",
    "space_tree['min_samples_leaf'] = [5, 10, 20, 50, 100] #DT\n",
    "space_tree['criterion'] = [\"gini\", \"entropy\"] #DT\n",
    "\n",
    "# Define search\n",
    "search_tree = RandomizedSearchCV(clf_tree, space_tree, n_iter=30, scoring='roc_auc', n_jobs=30, cv=cv, random_state=1)\n",
    "search_rf = RandomizedSearchCV(clf_rf, space_rf, n_iter=30, scoring='roc_auc', n_jobs=30, cv=cv, random_state=1)\n",
    "search_xgb = RandomizedSearchCV(clf_xgb, space_xgb, n_iter=30, scoring='roc_auc', n_jobs=30, cv=cv, random_state=1)\n",
    "\n",
    "# Execute search\n",
    "result_tree = search_tree.fit(X_train_without_bureau,y_train_without_bureau)\n",
    "result_rf = search_rf.fit(X_train_without_bureau,y_train_without_bureau)\n",
    "result_xgb = search_xgb.fit(X_train_without_bureau,y_train_without_bureau)\n",
    "\n",
    "# Summarize result\n",
    "print('Best Score tree: %s' % ((result_tree.best_score_ * 2) - 1))\n",
    "print('Best Hyperparameters: %s' % result_tree.best_params_)\n",
    "\n",
    "print('Best Score rf: %s' % ((result_rf.best_score_*2) - 1))\n",
    "print('Best Hyperparameters: %s' % result_rf.best_params_)\n",
    "\n",
    "print('Best Score xgb: %s' % ((result_xgb.best_score_*2) - 1))\n",
    "print('Best Hyperparameters: %s' % result_xgb.best_params_)"
   ]
  },
  {
   "cell_type": "markdown",
   "metadata": {},
   "source": [
    "#### Evaluate on validation data"
   ]
  },
  {
   "cell_type": "code",
   "execution_count": 190,
   "metadata": {},
   "outputs": [
    {
     "name": "stdout",
     "output_type": "stream",
     "text": [
      "GINI validation data for Decision Tree : 0.1356295445847684\n",
      "GINI validation data for Random Forest : 0.12013437088063972\n",
      "GINI validation data for XGBOOST : 0.2041161712803503\n"
     ]
    }
   ],
   "source": [
    "dt_valid = DecisionTreeClassifier(\n",
    "    min_samples_leaf = 5, \n",
    "    max_depth = 20, \n",
    "    criterion = 'entropy').fit(X_train_without_bureau,y_train_without_bureau)\n",
    "\n",
    "rf_valid = RandomForestClassifier(\n",
    "    min_samples_split = 5, \n",
    "    min_samples_leaf = 1, \n",
    "    max_depth = None).fit(X_train_without_bureau,y_train_without_bureau)\n",
    "\n",
    "xgb_valid = xgb.XGBClassifier(\n",
    "    fs__k= 10, \n",
    "    n_estimators= 200, \n",
    "    max_depth= 8, \n",
    "    learning_rate= 0.3, \n",
    "    gamma= 0.0, \n",
    "    colsample_bytree= 0.1,\n",
    "    verbosity = 0).fit(X_train_without_bureau,y_train_without_bureau)\n",
    "\n",
    "def gini_value(x, y, model):\n",
    "    return (2*(roc_auc_score(y, model.predict_proba(x)[:, 1])))-1\n",
    "\n",
    "print(\"GINI validation data for Decision Tree :\" , gini_value(X_valid_without_bureau,y_valid_without_bureau, dt_valid))\n",
    "print(\"GINI validation data for Random Forest :\" , gini_value(X_valid_without_bureau,y_valid_without_bureau, rf_valid))\n",
    "print(\"GINI validation data for XGBOOST :\" , gini_value(X_valid_without_bureau,y_valid_without_bureau, xgb_valid))"
   ]
  },
  {
   "cell_type": "code",
   "execution_count": 191,
   "metadata": {},
   "outputs": [
    {
     "name": "stdout",
     "output_type": "stream",
     "text": [
      "              precision    recall  f1-score   support\n",
      "\n",
      "           0       0.78      0.71      0.74      2730\n",
      "           1       0.73      0.80      0.77      2730\n",
      "\n",
      "    accuracy                           0.76      5460\n",
      "   macro avg       0.76      0.76      0.76      5460\n",
      "weighted avg       0.76      0.76      0.76      5460\n",
      "\n"
     ]
    }
   ],
   "source": [
    "from sklearn.metrics import classification_report\n",
    "\n",
    "y_pred_train = xgb_valid.predict(X_train_without_bureau)\n",
    "\n",
    "print(classification_report(y_train_without_bureau, y_pred_train))"
   ]
  },
  {
   "cell_type": "code",
   "execution_count": 192,
   "metadata": {},
   "outputs": [
    {
     "name": "stdout",
     "output_type": "stream",
     "text": [
      "              precision    recall  f1-score   support\n",
      "\n",
      "           0       0.21      0.34      0.26       201\n",
      "           1       0.87      0.78      0.82      1170\n",
      "\n",
      "    accuracy                           0.72      1371\n",
      "   macro avg       0.54      0.56      0.54      1371\n",
      "weighted avg       0.78      0.72      0.74      1371\n",
      "\n"
     ]
    }
   ],
   "source": [
    "from sklearn.metrics import classification_report\n",
    "\n",
    "y_pred_valid = xgb_valid.predict(X_valid_without_bureau)\n",
    "\n",
    "print(classification_report(y_valid_without_bureau, y_pred_valid))"
   ]
  },
  {
   "cell_type": "code",
   "execution_count": 193,
   "metadata": {},
   "outputs": [
    {
     "name": "stdout",
     "output_type": "stream",
     "text": [
      "              precision    recall  f1-score   support\n",
      "\n",
      "           0       0.77      0.73      0.75      1170\n",
      "           1       0.75      0.78      0.76      1170\n",
      "\n",
      "    accuracy                           0.76      2340\n",
      "   macro avg       0.76      0.76      0.76      2340\n",
      "weighted avg       0.76      0.76      0.76      2340\n",
      "\n"
     ]
    }
   ],
   "source": [
    "#dengan data validation yang sudah di resample\n",
    "from sklearn.metrics import classification_report\n",
    "\n",
    "y_pred_valid = xgb_valid.predict(X_valid_without_bureau_rs)\n",
    "\n",
    "print(classification_report(y_valid_without_bureau_rs, y_pred_valid))"
   ]
  },
  {
   "cell_type": "code",
   "execution_count": 194,
   "metadata": {},
   "outputs": [
    {
     "data": {
      "image/png": "[encoded data removed]",
      "text/plain": [
       "<Figure size 432x288 with 1 Axes>"
      ]
     },
     "metadata": {
      "needs_background": "light"
     },
     "output_type": "display_data"
    }
   ],
   "source": [
    "from sklearn.metrics import plot_roc_curve\n",
    "plot_roc_curve(xgb_valid,X_valid_without_bureau,y_valid_without_bureau)\n",
    "plt.show()"
   ]
  },
  {
   "cell_type": "code",
   "execution_count": 195,
   "metadata": {},
   "outputs": [
    {
     "name": "stdout",
     "output_type": "stream",
     "text": [
      "              precision    recall  f1-score   support\n",
      "\n",
      "           0       0.17      0.09      0.11       289\n",
      "           1       0.85      0.93      0.89      1676\n",
      "\n",
      "    accuracy                           0.80      1965\n",
      "   macro avg       0.51      0.51      0.50      1965\n",
      "weighted avg       0.75      0.80      0.77      1965\n",
      "\n"
     ]
    }
   ],
   "source": [
    "y_pred_test_without_bureau = xgb_valid.predict(X_test_without_bureau)\n",
    "print(classification_report(y_test_without_bureau, y_pred_test_without_bureau))"
   ]
  },
  {
   "cell_type": "code",
   "execution_count": 196,
   "metadata": {},
   "outputs": [
    {
     "name": "stdout",
     "output_type": "stream",
     "text": [
      "Final DecisionTree Gini Score (on test Set)            : -0.0369598070872319 \n"
     ]
    }
   ],
   "source": [
    "print(f\"Final DecisionTree Gini Score (on test Set)            : {(2*(roc_auc_score(y_test_without_bureau, xgb_valid.predict_proba(X_test_without_bureau)[:, 1])))-1} \")"
   ]
  },
  {
   "cell_type": "markdown",
   "metadata": {},
   "source": [
    "#### Evaluate with all data"
   ]
  },
  {
   "cell_type": "markdown",
   "metadata": {},
   "source": [
    "##### Without bureau data"
   ]
  },
  {
   "cell_type": "code",
   "execution_count": 197,
   "metadata": {},
   "outputs": [
    {
     "data": {
      "text/html": [
       "<div>\n",
       "<style scoped>\n",
       "    .dataframe tbody tr th:only-of-type {\n",
       "        vertical-align: middle;\n",
       "    }\n",
       "\n",
       "    .dataframe tbody tr th {\n",
       "        vertical-align: top;\n",
       "    }\n",
       "\n",
       "    .dataframe thead th {\n",
       "        text-align: right;\n",
       "    }\n",
       "</style>\n",
       "<table border=\"1\" class=\"dataframe\">\n",
       "  <thead>\n",
       "    <tr style=\"text-align: right;\">\n",
       "      <th></th>\n",
       "      <th>customer_id</th>\n",
       "      <th>AGE</th>\n",
       "      <th>INCOME</th>\n",
       "      <th>GENDER</th>\n",
       "      <th>EDUCATION</th>\n",
       "      <th>LOAN_PURPOSE</th>\n",
       "      <th>APPLICATION_RECEIVE_TIME</th>\n",
       "      <th>HAS_APPLIED_BEFORE</th>\n",
       "      <th>HAS_INCOME_VERIFICATION</th>\n",
       "      <th>LOAN_WAS_PAID_BACK</th>\n",
       "      <th>KNOWN_ASSETS</th>\n",
       "      <th>Score</th>\n",
       "    </tr>\n",
       "  </thead>\n",
       "  <tbody>\n",
       "    <tr>\n",
       "      <th>0</th>\n",
       "      <td>36495</td>\n",
       "      <td>28</td>\n",
       "      <td>15000000.0</td>\n",
       "      <td>Male</td>\n",
       "      <td>Bachelor Degree</td>\n",
       "      <td>Renovation</td>\n",
       "      <td>07:13:00</td>\n",
       "      <td>No</td>\n",
       "      <td>Yes</td>\n",
       "      <td>1</td>\n",
       "      <td>NaN</td>\n",
       "      <td>NaN</td>\n",
       "    </tr>\n",
       "    <tr>\n",
       "      <th>1</th>\n",
       "      <td>36500</td>\n",
       "      <td>29</td>\n",
       "      <td>14000000.0</td>\n",
       "      <td>Female</td>\n",
       "      <td>Bachelor Degree</td>\n",
       "      <td>Renovation</td>\n",
       "      <td>19:30:00</td>\n",
       "      <td>Yes</td>\n",
       "      <td>Yes</td>\n",
       "      <td>0</td>\n",
       "      <td>NaN</td>\n",
       "      <td>0.86</td>\n",
       "    </tr>\n",
       "    <tr>\n",
       "      <th>2</th>\n",
       "      <td>36505</td>\n",
       "      <td>36</td>\n",
       "      <td>21000000.0</td>\n",
       "      <td>Female</td>\n",
       "      <td>Bachelor Degree</td>\n",
       "      <td>Renovation</td>\n",
       "      <td>06:12:00</td>\n",
       "      <td>No</td>\n",
       "      <td>Yes</td>\n",
       "      <td>1</td>\n",
       "      <td>NaN</td>\n",
       "      <td>0.83</td>\n",
       "    </tr>\n",
       "    <tr>\n",
       "      <th>3</th>\n",
       "      <td>36510</td>\n",
       "      <td>44</td>\n",
       "      <td>5000000.0</td>\n",
       "      <td>Male</td>\n",
       "      <td>Bachelor Degree</td>\n",
       "      <td>Investment</td>\n",
       "      <td>17:48:00</td>\n",
       "      <td>No</td>\n",
       "      <td>Yes</td>\n",
       "      <td>1</td>\n",
       "      <td>NaN</td>\n",
       "      <td>0.79</td>\n",
       "    </tr>\n",
       "    <tr>\n",
       "      <th>4</th>\n",
       "      <td>36515</td>\n",
       "      <td>34</td>\n",
       "      <td>6000000.0</td>\n",
       "      <td>Male</td>\n",
       "      <td>Bachelor Degree</td>\n",
       "      <td>Credit card</td>\n",
       "      <td>12:17:00</td>\n",
       "      <td>No</td>\n",
       "      <td>Yes</td>\n",
       "      <td>1</td>\n",
       "      <td>NaN</td>\n",
       "      <td>NaN</td>\n",
       "    </tr>\n",
       "  </tbody>\n",
       "</table>\n",
       "</div>"
      ],
      "text/plain": [
       "   customer_id  AGE      INCOME  GENDER        EDUCATION LOAN_PURPOSE  \\\n",
       "0        36495   28  15000000.0    Male  Bachelor Degree   Renovation   \n",
       "1        36500   29  14000000.0  Female  Bachelor Degree   Renovation   \n",
       "2        36505   36  21000000.0  Female  Bachelor Degree   Renovation   \n",
       "3        36510   44   5000000.0    Male  Bachelor Degree   Investment   \n",
       "4        36515   34   6000000.0    Male  Bachelor Degree  Credit card   \n",
       "\n",
       "  APPLICATION_RECEIVE_TIME HAS_APPLIED_BEFORE HAS_INCOME_VERIFICATION  \\\n",
       "0                 07:13:00                 No                     Yes   \n",
       "1                 19:30:00                Yes                     Yes   \n",
       "2                 06:12:00                 No                     Yes   \n",
       "3                 17:48:00                 No                     Yes   \n",
       "4                 12:17:00                 No                     Yes   \n",
       "\n",
       "   LOAN_WAS_PAID_BACK  KNOWN_ASSETS  Score  \n",
       "0                   1           NaN    NaN  \n",
       "1                   0           NaN   0.86  \n",
       "2                   1           NaN   0.83  \n",
       "3                   1           NaN   0.79  \n",
       "4                   1           NaN    NaN  "
      ]
     },
     "execution_count": 197,
     "metadata": {},
     "output_type": "execute_result"
    }
   ],
   "source": [
    "# get all data without bureau\n",
    "df_all_xb = df[df['LOANS_WITH_DELAYS'].isna() == True]\n",
    "df_all_xb = df_all_xb.drop(columns=[ \"LOANS_WITHOUT_DELAYS\", \"LOANS_WITH_DELAYS\"]).reset_index(drop=True)\n",
    "df_all_xb.head()"
   ]
  },
  {
   "cell_type": "code",
   "execution_count": 198,
   "metadata": {},
   "outputs": [
    {
     "data": {
      "text/plain": [
       "(1308, 22)"
      ]
     },
     "execution_count": 198,
     "metadata": {},
     "output_type": "execute_result"
    }
   ],
   "source": [
    "#test with all data whitout bureau\n",
    "X_cek,y_cek = feature_engineering_xb(df_all_xb)\n",
    "X_cek.shape"
   ]
  },
  {
   "cell_type": "code",
   "execution_count": 199,
   "metadata": {},
   "outputs": [
    {
     "name": "stdout",
     "output_type": "stream",
     "text": [
      "              precision    recall  f1-score   support\n",
      "\n",
      "           0       0.21      0.30      0.24       202\n",
      "           1       0.86      0.79      0.82      1106\n",
      "\n",
      "    accuracy                           0.71      1308\n",
      "   macro avg       0.53      0.54      0.53      1308\n",
      "weighted avg       0.76      0.71      0.73      1308\n",
      "\n"
     ]
    }
   ],
   "source": [
    "y_pred = xgb_valid.predict(X_cek)\n",
    "print(classification_report(y_cek, y_pred))"
   ]
  },
  {
   "cell_type": "markdown",
   "metadata": {},
   "source": [
    "##### Without all data remove bureau"
   ]
  },
  {
   "cell_type": "code",
   "execution_count": 200,
   "metadata": {},
   "outputs": [
    {
     "data": {
      "text/html": [
       "<div>\n",
       "<style scoped>\n",
       "    .dataframe tbody tr th:only-of-type {\n",
       "        vertical-align: middle;\n",
       "    }\n",
       "\n",
       "    .dataframe tbody tr th {\n",
       "        vertical-align: top;\n",
       "    }\n",
       "\n",
       "    .dataframe thead th {\n",
       "        text-align: right;\n",
       "    }\n",
       "</style>\n",
       "<table border=\"1\" class=\"dataframe\">\n",
       "  <thead>\n",
       "    <tr style=\"text-align: right;\">\n",
       "      <th></th>\n",
       "      <th>customer_id</th>\n",
       "      <th>AGE</th>\n",
       "      <th>INCOME</th>\n",
       "      <th>GENDER</th>\n",
       "      <th>EDUCATION</th>\n",
       "      <th>LOAN_PURPOSE</th>\n",
       "      <th>APPLICATION_RECEIVE_TIME</th>\n",
       "      <th>HAS_APPLIED_BEFORE</th>\n",
       "      <th>HAS_INCOME_VERIFICATION</th>\n",
       "      <th>LOAN_WAS_PAID_BACK</th>\n",
       "      <th>KNOWN_ASSETS</th>\n",
       "      <th>Score</th>\n",
       "    </tr>\n",
       "  </thead>\n",
       "  <tbody>\n",
       "    <tr>\n",
       "      <th>0</th>\n",
       "      <td>36493</td>\n",
       "      <td>40</td>\n",
       "      <td>10000000.0</td>\n",
       "      <td>Female</td>\n",
       "      <td>Diploma</td>\n",
       "      <td>Working Capital</td>\n",
       "      <td>09:07:00</td>\n",
       "      <td>No</td>\n",
       "      <td>Yes</td>\n",
       "      <td>1</td>\n",
       "      <td>40000000.0</td>\n",
       "      <td>0.77</td>\n",
       "    </tr>\n",
       "    <tr>\n",
       "      <th>1</th>\n",
       "      <td>36494</td>\n",
       "      <td>39</td>\n",
       "      <td>15000000.0</td>\n",
       "      <td>Female</td>\n",
       "      <td>Bachelor Degree</td>\n",
       "      <td>Other</td>\n",
       "      <td>15:15:00</td>\n",
       "      <td>No</td>\n",
       "      <td>Yes</td>\n",
       "      <td>1</td>\n",
       "      <td>20000000.0</td>\n",
       "      <td>0.93</td>\n",
       "    </tr>\n",
       "    <tr>\n",
       "      <th>2</th>\n",
       "      <td>36495</td>\n",
       "      <td>28</td>\n",
       "      <td>15000000.0</td>\n",
       "      <td>Male</td>\n",
       "      <td>Bachelor Degree</td>\n",
       "      <td>Renovation</td>\n",
       "      <td>07:13:00</td>\n",
       "      <td>No</td>\n",
       "      <td>Yes</td>\n",
       "      <td>1</td>\n",
       "      <td>NaN</td>\n",
       "      <td>NaN</td>\n",
       "    </tr>\n",
       "    <tr>\n",
       "      <th>3</th>\n",
       "      <td>36496</td>\n",
       "      <td>28</td>\n",
       "      <td>4000000.0</td>\n",
       "      <td>Male</td>\n",
       "      <td>Bachelor Degree</td>\n",
       "      <td>Renovation</td>\n",
       "      <td>12:05:00</td>\n",
       "      <td>Yes</td>\n",
       "      <td>Yes</td>\n",
       "      <td>1</td>\n",
       "      <td>0.0</td>\n",
       "      <td>0.78</td>\n",
       "    </tr>\n",
       "    <tr>\n",
       "      <th>4</th>\n",
       "      <td>36497</td>\n",
       "      <td>38</td>\n",
       "      <td>10000000.0</td>\n",
       "      <td>Male</td>\n",
       "      <td>Diploma</td>\n",
       "      <td>Renovation</td>\n",
       "      <td>14:35:00</td>\n",
       "      <td>Yes</td>\n",
       "      <td>Yes</td>\n",
       "      <td>0</td>\n",
       "      <td>40000000.0</td>\n",
       "      <td>0.81</td>\n",
       "    </tr>\n",
       "  </tbody>\n",
       "</table>\n",
       "</div>"
      ],
      "text/plain": [
       "   customer_id  AGE      INCOME  GENDER        EDUCATION     LOAN_PURPOSE  \\\n",
       "0        36493   40  10000000.0  Female          Diploma  Working Capital   \n",
       "1        36494   39  15000000.0  Female  Bachelor Degree            Other   \n",
       "2        36495   28  15000000.0    Male  Bachelor Degree       Renovation   \n",
       "3        36496   28   4000000.0    Male  Bachelor Degree       Renovation   \n",
       "4        36497   38  10000000.0    Male          Diploma       Renovation   \n",
       "\n",
       "  APPLICATION_RECEIVE_TIME HAS_APPLIED_BEFORE HAS_INCOME_VERIFICATION  \\\n",
       "0                 09:07:00                 No                     Yes   \n",
       "1                 15:15:00                 No                     Yes   \n",
       "2                 07:13:00                 No                     Yes   \n",
       "3                 12:05:00                Yes                     Yes   \n",
       "4                 14:35:00                Yes                     Yes   \n",
       "\n",
       "   LOAN_WAS_PAID_BACK  KNOWN_ASSETS  Score  \n",
       "0                   1    40000000.0   0.77  \n",
       "1                   1    20000000.0   0.93  \n",
       "2                   1           NaN    NaN  \n",
       "3                   1           0.0   0.78  \n",
       "4                   0    40000000.0   0.81  "
      ]
     },
     "execution_count": 200,
     "metadata": {},
     "output_type": "execute_result"
    }
   ],
   "source": [
    "# get all data remove bureau\n",
    "df_all = df.drop(columns=[ \"LOANS_WITHOUT_DELAYS\", \"LOANS_WITH_DELAYS\"]).reset_index(drop=True)\n",
    "df_all.head()"
   ]
  },
  {
   "cell_type": "code",
   "execution_count": 201,
   "metadata": {},
   "outputs": [
    {
     "data": {
      "text/plain": [
       "(6537, 22)"
      ]
     },
     "execution_count": 201,
     "metadata": {},
     "output_type": "execute_result"
    }
   ],
   "source": [
    "X_cek,y_cek = feature_engineering_xb(df_all)\n",
    "X_cek.shape"
   ]
  },
  {
   "cell_type": "code",
   "execution_count": 202,
   "metadata": {},
   "outputs": [
    {
     "name": "stdout",
     "output_type": "stream",
     "text": [
      "              precision    recall  f1-score   support\n",
      "\n",
      "           0       0.22      0.34      0.27       961\n",
      "           1       0.88      0.80      0.83      5576\n",
      "\n",
      "    accuracy                           0.73      6537\n",
      "   macro avg       0.55      0.57      0.55      6537\n",
      "weighted avg       0.78      0.73      0.75      6537\n",
      "\n"
     ]
    }
   ],
   "source": [
    "y_pred = xgb_valid.predict(X_cek)\n",
    "print(classification_report(y_cek, y_pred))"
   ]
  },
  {
   "cell_type": "code",
   "execution_count": 209,
   "metadata": {},
   "outputs": [],
   "source": [
    "d = {\"a\" : 1, \"b\":2, \"c\" : {\"xx\" : 3, \"yy\" : 4}}"
   ]
  },
  {
   "cell_type": "code",
   "execution_count": 217,
   "metadata": {},
   "outputs": [],
   "source": [
    "t = pd.json_normalize(d, sep='_')\n",
    "t.rename()"
   ]
  },
  {
   "cell_type": "code",
   "execution_count": 221,
   "metadata": {},
   "outputs": [
    {
     "data": {
      "text/plain": [
       "{'a': 1, 'b': 2, 'c_xx': 3, 'c_yy': 4}"
      ]
     },
     "execution_count": 221,
     "metadata": {},
     "output_type": "execute_result"
    }
   ],
   "source": [
    "dict(zip(list(t.columns), [1,2,3,4]))"
   ]
  },
  {
   "cell_type": "code",
   "execution_count": null,
   "metadata": {},
   "outputs": [],
   "source": []
  },
  {
   "cell_type": "code",
   "execution_count": null,
   "metadata": {},
   "outputs": [],
   "source": []
  },
  {
   "cell_type": "code",
   "execution_count": null,
   "metadata": {},
   "outputs": [],
   "source": []
  },
  {
   "cell_type": "code",
   "execution_count": null,
   "metadata": {},
   "outputs": [],
   "source": []
  },
  {
   "cell_type": "code",
   "execution_count": null,
   "metadata": {},
   "outputs": [],
   "source": []
  },
  {
   "cell_type": "code",
   "execution_count": null,
   "metadata": {},
   "outputs": [],
   "source": []
  },
  {
   "cell_type": "code",
   "execution_count": null,
   "metadata": {},
   "outputs": [],
   "source": []
  },
  {
   "cell_type": "code",
   "execution_count": null,
   "metadata": {},
   "outputs": [],
   "source": []
  }
 ],
 "metadata": {
  "kernelspec": {
   "display_name": "Python 3 (ipykernel)",
   "language": "python",
   "name": "python3"
  },
  "language_info": {
   "codemirror_mode": {
    "name": "ipython",
    "version": 3
   },
   "file_extension": ".py",
   "mimetype": "text/x-python",
   "name": "python",
   "nbconvert_exporter": "python",
   "pygments_lexer": "ipython3",
   "version": "3.7.13"
  }
 },
 "nbformat": 4,
 "nbformat_minor": 4
}
