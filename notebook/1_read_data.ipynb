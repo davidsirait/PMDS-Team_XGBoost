{
 "cells": [
  {
   "cell_type": "code",
   "execution_count": 1,
   "id": "96b13a4b-06c0-4e5e-9065-8836f9eddf06",
   "metadata": {},
   "outputs": [],
   "source": [
    "import numpy as np\n",
    "import pandas as pd\n",
    "import joblib"
   ]
  },
  {
   "cell_type": "code",
   "execution_count": 19,
   "id": "fd2d9cb6-9175-4ccc-af38-174e4d17fb17",
   "metadata": {},
   "outputs": [],
   "source": [
    "def read_data(master,\n",
    "              bureau,\n",
    "              save_file = True,\n",
    "              return_file = True,\n",
    "              set_index = None):\n",
    "    '''\n",
    "    Read data from data folder in csv format.\n",
    "    \n",
    "    Parameters\n",
    "    ----------\n",
    "    master: str\n",
    "          path to data master\n",
    "    bureau: str\n",
    "          path to data bureau\n",
    "    \n",
    "    '''\n",
    "    master = pd.read_csv(master, index_col = set_index)\n",
    "    bureau = pd.read_csv(bureau, index_col = set_index)\n",
    "    data = pd.merge(master, bureau, on='customer_id', how='left')\n",
    "    \n",
    "    if save_file:\n",
    "        joblib.dump(data, \"output/data.pkl\")\n",
    "    \n",
    "    if return_file:\n",
    "        return data"
   ]
  },
  {
   "cell_type": "code",
   "execution_count": 22,
   "id": "052bd434-c36b-4484-88c6-4997550691ff",
   "metadata": {},
   "outputs": [],
   "source": [
    "DATA_MASTER = \"data/Customer_Information.csv\"\n",
    "DATA_BUREAU = \"data/Credit_Bureau_data.csv\"\n",
    "INDEX_COLUMN = \"customer_id\"\n",
    "cust_data = read_data(DATA_MASTER,\n",
    "                      DATA_BUREAU,\n",
    "                      set_index = INDEX_COLUMN)"
   ]
  }
 ],
 "metadata": {
  "kernelspec": {
   "display_name": "Python 3",
   "language": "python",
   "name": "python3"
  },
  "language_info": {
   "codemirror_mode": {
    "name": "ipython",
    "version": 3
   },
   "file_extension": ".py",
   "mimetype": "text/x-python",
   "name": "python",
   "nbconvert_exporter": "python",
   "pygments_lexer": "ipython3",
   "version": "3.8.8"
  }
 },
 "nbformat": 4,
 "nbformat_minor": 5
}
