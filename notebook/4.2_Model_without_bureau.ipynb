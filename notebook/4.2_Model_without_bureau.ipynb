{
 "cells": [
  {
   "cell_type": "markdown",
   "id": "020a75b4",
   "metadata": {},
   "source": [
    "## 1. Feature Engineering and Selection"
   ]
  },
  {
   "cell_type": "markdown",
   "id": "2581112a",
   "metadata": {},
   "source": [
    "Based on previous feature engineering , we are going to make 2 model that distinguished by have or doesn't have bureau data and we will use features:\n",
    "- AGE (binned)\n",
    "- INCOME (binned)\n",
    "- GENDER\n",
    "- EDUCATION\n",
    "- LOAN_PURPOSE\n",
    "- HAS_APPLIED_BEFORE\n",
    "- HAS INCOME VERIFICATION\n",
    "- Bureau data (\"LOANS_WITHOUT_DELAYS\", \"LOANS_WITH_DELAYS\")"
   ]
  },
  {
   "cell_type": "markdown",
   "id": "bc99f3bc",
   "metadata": {},
   "source": [
    "This notebook will create model for customers without bureau data"
   ]
  },
  {
   "cell_type": "markdown",
   "id": "0dd5bff0",
   "metadata": {},
   "source": [
    "# 2. Load library and necessary functions "
   ]
  },
  {
   "cell_type": "code",
   "execution_count": 47,
   "id": "e5f2f8db",
   "metadata": {},
   "outputs": [],
   "source": [
    "import pandas as pd\n",
    "import numpy as np\n",
    "import matplotlib.pyplot as plt\n",
    "import seaborn as sns\n",
    "import warnings\n",
    "warnings.filterwarnings('ignore')\n",
    "\n",
    "\n",
    "from sklearn.model_selection import train_test_split\n",
    "from sklearn.model_selection import train_test_split\n",
    "# from imblearn.under_sampling import RandomUnderSampler\n",
    "from sklearn.preprocessing import OneHotEncoder\n",
    "from sklearn.linear_model import LogisticRegression\n",
    "from sklearn.model_selection import GridSearchCV, RepeatedStratifiedKFold, cross_val_score, RandomizedSearchCV\n",
    "from sklearn.preprocessing import StandardScaler\n",
    "from sklearn.metrics import roc_auc_score, classification_report, confusion_matrix, plot_roc_curve, plot_confusion_matrix\n",
    "from sklearn.ensemble import RandomForestClassifier\n",
    "from sklearn.tree import DecisionTreeClassifier\n",
    "from sklearn.neighbors import KNeighborsClassifier\n",
    "from lightgbm import LGBMClassifier\n",
    "import xgboost as xgb"
   ]
  },
  {
   "cell_type": "code",
   "execution_count": 48,
   "id": "a144950c",
   "metadata": {},
   "outputs": [],
   "source": [
    "import joblib\n",
    "\n",
    "def split_input_output(dataset,\n",
    "                       target_column,\n",
    "                       save_file = True,\n",
    "                       return_file = True):\n",
    "    \n",
    "    output_df = dataset[target_column]\n",
    "    input_df = dataset.drop([target_column],\n",
    "                            axis = 1)\n",
    "    \n",
    "    if save_file:\n",
    "        joblib.dump(output_df, \"output/output_df.pkl\")\n",
    "        joblib.dump(input_df, \"output/input_df.pkl\")\n",
    "    \n",
    "    if return_file:\n",
    "        return output_df, input_df\n",
    "\n",
    "\n",
    "def split_train_test(x, y, TEST_SIZE):\n",
    "    # Do not forget to stratify if classification\n",
    "    x_train, x_test,\\\n",
    "        y_train, y_test = train_test_split(x,\n",
    "                                           y,\n",
    "                                           test_size=TEST_SIZE,\n",
    "                                           random_state=123,\n",
    "                                          stratify=y)\n",
    "\n",
    "    return x_train, x_test, y_train, y_test\n",
    "\n",
    "def split_data(data_input, data_ouput, save_file = False, return_file=False, TEST_SIZE=0.2):\n",
    "\n",
    "    x_train, x_test, \\\n",
    "        y_train, y_test = split_train_test(\n",
    "            data_input,\n",
    "            data_ouput,\n",
    "            TEST_SIZE)\n",
    "\n",
    "    x_train, x_valid, \\\n",
    "        y_train, y_valid = split_train_test(\n",
    "            x_train,\n",
    "            y_train,\n",
    "            TEST_SIZE)\n",
    "    \n",
    "    if save_file:\n",
    "        joblib.dump(x_train, \"output/x_train1.pkl\")\n",
    "        joblib.dump(y_train, \"output/y_train1.pkl\")\n",
    "        joblib.dump(x_valid, \"output/x_valid1.pkl\")\n",
    "        joblib.dump(y_valid, \"output/y_valid1.pkl\")\n",
    "        joblib.dump(x_test, \"output/x_test1.pkl\")\n",
    "        joblib.dump(y_test, \"output/y_test1.pkl\")\n",
    "\n",
    "    if return_file:\n",
    "        return x_train, y_train, \\\n",
    "            x_valid, y_valid, \\\n",
    "            x_test, y_test"
   ]
  },
  {
   "cell_type": "code",
   "execution_count": 49,
   "id": "f3434d54",
   "metadata": {},
   "outputs": [],
   "source": [
    "def binning_features(df):\n",
    "    #binning Age\n",
    "    df.loc[ df['AGE'] <= 20, 'AGE'] = 0\n",
    "    df.loc[(df['AGE'] > 20) & (df['AGE'] <= 34), 'AGE'] = 1\n",
    "    df.loc[(df['AGE'] > 34) & (df['AGE'] <= 40), 'AGE'] = 2\n",
    "    df.loc[(df['AGE'] > 40) & (df['AGE'] <= 47), 'AGE'] = 3\n",
    "    df.loc[ df['AGE'] > 47, 'AGE'] = 4\n",
    "    \n",
    "    #income\n",
    "    df.loc[ df['INCOME'] <= 4e6, 'INCOME'] = 0\n",
    "    df.loc[(df['INCOME'] > 4e6) & (df['INCOME'] <= 5e6), 'INCOME'] = 1\n",
    "    df.loc[(df['INCOME'] > 5e6) & (df['INCOME'] <= 6e6), 'INCOME'] = 2\n",
    "    df.loc[(df['INCOME'] > 6e6) & (df['INCOME'] <= 8e6), 'INCOME'] = 3\n",
    "    df.loc[(df['INCOME'] > 8e6) & (df['INCOME'] <= 11e6), 'INCOME'] = 4\n",
    "    df.loc[ df['INCOME'] > 11e6, 'INCOME'] = 5\n",
    "\n",
    "    return df"
   ]
  },
  {
   "cell_type": "code",
   "execution_count": 50,
   "id": "56129918",
   "metadata": {},
   "outputs": [],
   "source": [
    "def one_hot_encoder(x_cat):\n",
    "    df = x_cat.copy()\n",
    "    index = x_cat.index\n",
    "    col = x_cat.columns\n",
    "    \n",
    "    encoder = OneHotEncoder(sparse=False, handle_unknown='ignore')\n",
    "    encoder.fit(x_cat)\n",
    "\n",
    "    encoded = encoder.transform(x_cat)\n",
    "    feat_names = encoder.get_feature_names(col)\n",
    "    encoded = pd.DataFrame(encoded)\n",
    "    encoded.index = index\n",
    "    encoded.columns = feat_names\n",
    "    return encoded"
   ]
  },
  {
   "cell_type": "code",
   "execution_count": 51,
   "id": "5fd7a2e7",
   "metadata": {},
   "outputs": [],
   "source": [
    "#compile all engineering\n",
    "def feature_engineering(df):\n",
    "    TARGET = \"LOAN_WAS_PAID_BACK\"\n",
    "    #drop some features\n",
    "    df = df.drop([\"customer_id\", \"APPLICATION_RECEIVE_TIME\", \"KNOWN_ASSETS\", \"Score\"], axis=1)\n",
    "    #dropna for Income and Loan Purpose\n",
    "    df = df.dropna(subset = ['INCOME', 'LOAN_PURPOSE'])\n",
    "    \n",
    "    #binning\n",
    "    binning_features(df)\n",
    "    \n",
    "    #converting categorical Features\n",
    "    df['GENDER'] = df['GENDER'].map( {'Male': 1, 'Female': 0} ).astype(int)\n",
    "    df['HAS_APPLIED_BEFORE'] = df['HAS_APPLIED_BEFORE'].map( {'Yes': 1, 'No': 0} ).astype(int)\n",
    "    df['HAS_INCOME_VERIFICATION'] = df['HAS_INCOME_VERIFICATION'].map( {'Yes': 1, 'No': 0} ).astype(int)\n",
    "    \n",
    "    #one hot encoding\n",
    "    df_num = df.drop(['EDUCATION','LOAN_PURPOSE'], axis=1)\n",
    "    df_hot = one_hot_encoder(df[['EDUCATION','LOAN_PURPOSE']])\n",
    "    df_ready = df_num.join(df_hot)\n",
    "    \n",
    "    #split data with or without bureau data\n",
    "    df_with_bureau = df_ready.dropna(subset = ['LOANS_WITHOUT_DELAYS', 'LOANS_WITH_DELAYS'])\n",
    "    df_without_bureau = df_ready[df_ready['LOANS_WITH_DELAYS'].isna() == True]\n",
    "    df_without_bureau = df_ready.drop(columns=[ \"LOANS_WITHOUT_DELAYS\", \"LOANS_WITH_DELAYS\"])\n",
    "    X_with_bureau = df_with_bureau.drop(columns=TARGET)\n",
    "    X_without_bureau = df_without_bureau.drop(columns=TARGET)\n",
    "    y_with_bureau = df_with_bureau[TARGET]\n",
    "    y_without_bureau = df_without_bureau[TARGET]\n",
    "    return X_with_bureau,X_without_bureau,y_with_bureau,y_without_bureau\n",
    "\n",
    "\n",
    "def add_columns(df_raw, df_2,bureau='yes'):\n",
    "    df_temp = df_2.copy()\n",
    "    X_with_bureau,X_without_bureau,y_with_bureau,y_without_bureau = feature_engineering(df_raw)\n",
    "    if bureau =='yes':\n",
    "        mis_col = set(X_with_bureau.columns).difference(set(df_2.columns))\n",
    "        print(mis_col)\n",
    "    else:\n",
    "        mis_col = set(X_without_bureau.columns).difference(set(df_2.columns))\n",
    "        print(mis_col)\n",
    "    if len(mis_col) > 0:\n",
    "        for i in mis_col :\n",
    "            df_temp.loc[:, i] = 0\n",
    "    else:\n",
    "        pass\n",
    "    return df_temp"
   ]
  },
  {
   "cell_type": "code",
   "execution_count": 131,
   "id": "3dfdb569",
   "metadata": {},
   "outputs": [],
   "source": [
    "#compile all engineering\n",
    "def feature_engineering_xb(df):\n",
    "    TARGET = \"LOAN_WAS_PAID_BACK\"\n",
    "    #drop some features\n",
    "    df = df.drop([\"customer_id\", \"APPLICATION_RECEIVE_TIME\", \"KNOWN_ASSETS\", \"Score\"], axis=1)\n",
    "    #dropna for Income and Loan Purpose\n",
    "    df = df.dropna(subset = ['INCOME', 'LOAN_PURPOSE'])\n",
    "    \n",
    "    #binning\n",
    "    binning_features(df)\n",
    "    \n",
    "    #converting categorical Features\n",
    "    df['GENDER'] = df['GENDER'].map( {'Male': 1, 'Female': 0} ).astype(int)\n",
    "    df['HAS_APPLIED_BEFORE'] = df['HAS_APPLIED_BEFORE'].map( {'Yes': 1, 'No': 0} ).astype(int)\n",
    "    df['HAS_INCOME_VERIFICATION'] = df['HAS_INCOME_VERIFICATION'].map( {'Yes': 1, 'No': 0} ).astype(int)\n",
    "    \n",
    "    #one hot encoding\n",
    "    df_num = df.drop(['EDUCATION','LOAN_PURPOSE'], axis=1)\n",
    "    df_hot = one_hot_encoder(df[['EDUCATION','LOAN_PURPOSE']])\n",
    "    df_ready = df_num.join(df_hot)\n",
    "    df_without_bureau=df_ready #tambahan\n",
    "    \n",
    "    #split data with or without bureau data\n",
    "    #df_with_bureau = df_ready.dropna(subset = ['LOANS_WITHOUT_DELAYS', 'LOANS_WITH_DELAYS'])\n",
    "    #df_without_bureau = df_ready[df_ready['LOANS_WITH_DELAYS'].isna() == True]\n",
    "    #df_without_bureau = df_ready.drop(columns=[ \"LOANS_WITHOUT_DELAYS\", \"LOANS_WITH_DELAYS\"])\n",
    "    #X_with_bureau = df_with_bureau.drop(columns=TARGET)\n",
    "    X_without_bureau = df_without_bureau.drop(columns=TARGET)\n",
    "    #y_with_bureau = df_with_bureau[TARGET]\n",
    "    y_without_bureau = df_without_bureau[TARGET]\n",
    "    return X_without_bureau,y_without_bureau\n",
    "\n",
    "\n",
    "def add_columns_xb(df_raw, df_2):\n",
    "    df_temp = df_2.copy()\n",
    "    df_raw = df_raw.drop(columns=[ \"LOANS_WITHOUT_DELAYS\", \"LOANS_WITH_DELAYS\"])\n",
    "    X_without_bureau,y_without_bureau = feature_engineering_xb(df_raw)\n",
    "    mis_col = set(X_without_bureau.columns).difference(set(df_2.columns))\n",
    "    print(mis_col)\n",
    "    if len(mis_col) > 0:\n",
    "        for i in mis_col :\n",
    "            df_temp.loc[:, i] = 0\n",
    "    else:\n",
    "        pass\n",
    "    return df_temp"
   ]
  },
  {
   "cell_type": "markdown",
   "id": "24d33ddf",
   "metadata": {},
   "source": [
    "### Load all our data "
   ]
  },
  {
   "cell_type": "code",
   "execution_count": 132,
   "id": "8132aa87",
   "metadata": {},
   "outputs": [],
   "source": [
    "master = pd.read_csv(\"./Customer_Information.csv\")\n",
    "bureau = pd.read_csv(\"./Credit_Bureau_Data.csv\")\n",
    "external = pd.read_csv(\"./External_Score.csv\")"
   ]
  },
  {
   "cell_type": "markdown",
   "id": "9cdaa02e",
   "metadata": {},
   "source": [
    "# 3. Modelling Start"
   ]
  },
  {
   "cell_type": "markdown",
   "id": "cb7c186a",
   "metadata": {},
   "source": [
    "For this model, we are going to use all the available data rows and all without bureau features. To handle the imbalance in data label, we are going to take all data with class 0 in our target column, and randomly sample the same number of rows with label 1 to get 50:50 proportions of each label"
   ]
  },
  {
   "cell_type": "markdown",
   "id": "c958979c",
   "metadata": {},
   "source": [
    "### 3.1 Train test validation split"
   ]
  },
  {
   "cell_type": "code",
   "execution_count": 133,
   "id": "81d3676a",
   "metadata": {},
   "outputs": [
    {
     "data": {
      "text/html": [
       "<div>\n",
       "<style scoped>\n",
       "    .dataframe tbody tr th:only-of-type {\n",
       "        vertical-align: middle;\n",
       "    }\n",
       "\n",
       "    .dataframe tbody tr th {\n",
       "        vertical-align: top;\n",
       "    }\n",
       "\n",
       "    .dataframe thead th {\n",
       "        text-align: right;\n",
       "    }\n",
       "</style>\n",
       "<table border=\"1\" class=\"dataframe\">\n",
       "  <thead>\n",
       "    <tr style=\"text-align: right;\">\n",
       "      <th></th>\n",
       "      <th>customer_id</th>\n",
       "      <th>AGE</th>\n",
       "      <th>INCOME</th>\n",
       "      <th>GENDER</th>\n",
       "      <th>EDUCATION</th>\n",
       "      <th>LOAN_PURPOSE</th>\n",
       "      <th>APPLICATION_RECEIVE_TIME</th>\n",
       "      <th>HAS_APPLIED_BEFORE</th>\n",
       "      <th>HAS_INCOME_VERIFICATION</th>\n",
       "      <th>LOAN_WAS_PAID_BACK</th>\n",
       "      <th>LOANS_WITHOUT_DELAYS</th>\n",
       "      <th>LOANS_WITH_DELAYS</th>\n",
       "      <th>KNOWN_ASSETS</th>\n",
       "      <th>Score</th>\n",
       "    </tr>\n",
       "  </thead>\n",
       "  <tbody>\n",
       "    <tr>\n",
       "      <th>0</th>\n",
       "      <td>36493</td>\n",
       "      <td>40</td>\n",
       "      <td>10000000.0</td>\n",
       "      <td>Female</td>\n",
       "      <td>Diploma</td>\n",
       "      <td>Working Capital</td>\n",
       "      <td>09:07:00</td>\n",
       "      <td>No</td>\n",
       "      <td>Yes</td>\n",
       "      <td>1</td>\n",
       "      <td>3.0</td>\n",
       "      <td>3.0</td>\n",
       "      <td>40000000.0</td>\n",
       "      <td>0.77</td>\n",
       "    </tr>\n",
       "    <tr>\n",
       "      <th>1</th>\n",
       "      <td>36494</td>\n",
       "      <td>39</td>\n",
       "      <td>15000000.0</td>\n",
       "      <td>Female</td>\n",
       "      <td>Bachelor Degree</td>\n",
       "      <td>Other</td>\n",
       "      <td>15:15:00</td>\n",
       "      <td>No</td>\n",
       "      <td>Yes</td>\n",
       "      <td>1</td>\n",
       "      <td>3.0</td>\n",
       "      <td>0.0</td>\n",
       "      <td>20000000.0</td>\n",
       "      <td>0.93</td>\n",
       "    </tr>\n",
       "    <tr>\n",
       "      <th>2</th>\n",
       "      <td>36495</td>\n",
       "      <td>28</td>\n",
       "      <td>15000000.0</td>\n",
       "      <td>Male</td>\n",
       "      <td>Bachelor Degree</td>\n",
       "      <td>Renovation</td>\n",
       "      <td>07:13:00</td>\n",
       "      <td>No</td>\n",
       "      <td>Yes</td>\n",
       "      <td>1</td>\n",
       "      <td>NaN</td>\n",
       "      <td>NaN</td>\n",
       "      <td>NaN</td>\n",
       "      <td>NaN</td>\n",
       "    </tr>\n",
       "    <tr>\n",
       "      <th>3</th>\n",
       "      <td>36496</td>\n",
       "      <td>28</td>\n",
       "      <td>4000000.0</td>\n",
       "      <td>Male</td>\n",
       "      <td>Bachelor Degree</td>\n",
       "      <td>Renovation</td>\n",
       "      <td>12:05:00</td>\n",
       "      <td>Yes</td>\n",
       "      <td>Yes</td>\n",
       "      <td>1</td>\n",
       "      <td>2.0</td>\n",
       "      <td>1.0</td>\n",
       "      <td>0.0</td>\n",
       "      <td>0.78</td>\n",
       "    </tr>\n",
       "    <tr>\n",
       "      <th>4</th>\n",
       "      <td>36497</td>\n",
       "      <td>38</td>\n",
       "      <td>10000000.0</td>\n",
       "      <td>Male</td>\n",
       "      <td>Diploma</td>\n",
       "      <td>Renovation</td>\n",
       "      <td>14:35:00</td>\n",
       "      <td>Yes</td>\n",
       "      <td>Yes</td>\n",
       "      <td>0</td>\n",
       "      <td>1.0</td>\n",
       "      <td>0.0</td>\n",
       "      <td>40000000.0</td>\n",
       "      <td>0.81</td>\n",
       "    </tr>\n",
       "  </tbody>\n",
       "</table>\n",
       "</div>"
      ],
      "text/plain": [
       "   customer_id  AGE      INCOME  GENDER        EDUCATION     LOAN_PURPOSE  \\\n",
       "0        36493   40  10000000.0  Female          Diploma  Working Capital   \n",
       "1        36494   39  15000000.0  Female  Bachelor Degree            Other   \n",
       "2        36495   28  15000000.0    Male  Bachelor Degree       Renovation   \n",
       "3        36496   28   4000000.0    Male  Bachelor Degree       Renovation   \n",
       "4        36497   38  10000000.0    Male          Diploma       Renovation   \n",
       "\n",
       "  APPLICATION_RECEIVE_TIME HAS_APPLIED_BEFORE HAS_INCOME_VERIFICATION  \\\n",
       "0                 09:07:00                 No                     Yes   \n",
       "1                 15:15:00                 No                     Yes   \n",
       "2                 07:13:00                 No                     Yes   \n",
       "3                 12:05:00                Yes                     Yes   \n",
       "4                 14:35:00                Yes                     Yes   \n",
       "\n",
       "   LOAN_WAS_PAID_BACK  LOANS_WITHOUT_DELAYS  LOANS_WITH_DELAYS  KNOWN_ASSETS  \\\n",
       "0                   1                   3.0                3.0    40000000.0   \n",
       "1                   1                   3.0                0.0    20000000.0   \n",
       "2                   1                   NaN                NaN           NaN   \n",
       "3                   1                   2.0                1.0           0.0   \n",
       "4                   0                   1.0                0.0    40000000.0   \n",
       "\n",
       "   Score  \n",
       "0   0.77  \n",
       "1   0.93  \n",
       "2    NaN  \n",
       "3   0.78  \n",
       "4   0.81  "
      ]
     },
     "execution_count": 133,
     "metadata": {},
     "output_type": "execute_result"
    }
   ],
   "source": [
    "# merge master and bureau and external data\n",
    "df = pd.merge(master, bureau, on='customer_id', how='left')\n",
    "df = pd.merge(df, external, on='customer_id', how='left')\n",
    "df.head()"
   ]
  },
  {
   "cell_type": "code",
   "execution_count": 134,
   "id": "4667f557",
   "metadata": {},
   "outputs": [
    {
     "data": {
      "text/plain": [
       "(6588, 14)"
      ]
     },
     "execution_count": 134,
     "metadata": {},
     "output_type": "execute_result"
    }
   ],
   "source": [
    "df.shape"
   ]
  },
  {
   "cell_type": "code",
   "execution_count": 135,
   "id": "1c8e551b",
   "metadata": {},
   "outputs": [
    {
     "data": {
      "text/html": [
       "<div>\n",
       "<style scoped>\n",
       "    .dataframe tbody tr th:only-of-type {\n",
       "        vertical-align: middle;\n",
       "    }\n",
       "\n",
       "    .dataframe tbody tr th {\n",
       "        vertical-align: top;\n",
       "    }\n",
       "\n",
       "    .dataframe thead th {\n",
       "        text-align: right;\n",
       "    }\n",
       "</style>\n",
       "<table border=\"1\" class=\"dataframe\">\n",
       "  <thead>\n",
       "    <tr style=\"text-align: right;\">\n",
       "      <th></th>\n",
       "      <th>customer_id</th>\n",
       "      <th>AGE</th>\n",
       "      <th>INCOME</th>\n",
       "      <th>GENDER</th>\n",
       "      <th>EDUCATION</th>\n",
       "      <th>LOAN_PURPOSE</th>\n",
       "      <th>APPLICATION_RECEIVE_TIME</th>\n",
       "      <th>HAS_APPLIED_BEFORE</th>\n",
       "      <th>HAS_INCOME_VERIFICATION</th>\n",
       "      <th>LOAN_WAS_PAID_BACK</th>\n",
       "      <th>KNOWN_ASSETS</th>\n",
       "      <th>Score</th>\n",
       "    </tr>\n",
       "  </thead>\n",
       "  <tbody>\n",
       "    <tr>\n",
       "      <th>0</th>\n",
       "      <td>36497</td>\n",
       "      <td>38</td>\n",
       "      <td>10000000.0</td>\n",
       "      <td>Male</td>\n",
       "      <td>Diploma</td>\n",
       "      <td>Renovation</td>\n",
       "      <td>14:35:00</td>\n",
       "      <td>Yes</td>\n",
       "      <td>Yes</td>\n",
       "      <td>0</td>\n",
       "      <td>40000000.0</td>\n",
       "      <td>0.81</td>\n",
       "    </tr>\n",
       "    <tr>\n",
       "      <th>1</th>\n",
       "      <td>36500</td>\n",
       "      <td>29</td>\n",
       "      <td>14000000.0</td>\n",
       "      <td>Female</td>\n",
       "      <td>Bachelor Degree</td>\n",
       "      <td>Renovation</td>\n",
       "      <td>19:30:00</td>\n",
       "      <td>Yes</td>\n",
       "      <td>Yes</td>\n",
       "      <td>0</td>\n",
       "      <td>NaN</td>\n",
       "      <td>0.86</td>\n",
       "    </tr>\n",
       "    <tr>\n",
       "      <th>2</th>\n",
       "      <td>36512</td>\n",
       "      <td>40</td>\n",
       "      <td>6000000.0</td>\n",
       "      <td>Female</td>\n",
       "      <td>Bachelor Degree</td>\n",
       "      <td>Working Capital</td>\n",
       "      <td>10:31:00</td>\n",
       "      <td>Yes</td>\n",
       "      <td>Yes</td>\n",
       "      <td>0</td>\n",
       "      <td>10000000.0</td>\n",
       "      <td>0.77</td>\n",
       "    </tr>\n",
       "    <tr>\n",
       "      <th>3</th>\n",
       "      <td>36526</td>\n",
       "      <td>29</td>\n",
       "      <td>6000000.0</td>\n",
       "      <td>Male</td>\n",
       "      <td>Bachelor Degree</td>\n",
       "      <td>Working Capital</td>\n",
       "      <td>10:35:00</td>\n",
       "      <td>Yes</td>\n",
       "      <td>Yes</td>\n",
       "      <td>0</td>\n",
       "      <td>10000000.0</td>\n",
       "      <td>NaN</td>\n",
       "    </tr>\n",
       "    <tr>\n",
       "      <th>4</th>\n",
       "      <td>36528</td>\n",
       "      <td>44</td>\n",
       "      <td>10000000.0</td>\n",
       "      <td>Female</td>\n",
       "      <td>Bachelor Degree</td>\n",
       "      <td>Credit card</td>\n",
       "      <td>07:01:00</td>\n",
       "      <td>No</td>\n",
       "      <td>Yes</td>\n",
       "      <td>0</td>\n",
       "      <td>NaN</td>\n",
       "      <td>0.77</td>\n",
       "    </tr>\n",
       "  </tbody>\n",
       "</table>\n",
       "</div>"
      ],
      "text/plain": [
       "   customer_id  AGE      INCOME  GENDER        EDUCATION     LOAN_PURPOSE  \\\n",
       "0        36497   38  10000000.0    Male          Diploma       Renovation   \n",
       "1        36500   29  14000000.0  Female  Bachelor Degree       Renovation   \n",
       "2        36512   40   6000000.0  Female  Bachelor Degree  Working Capital   \n",
       "3        36526   29   6000000.0    Male  Bachelor Degree  Working Capital   \n",
       "4        36528   44  10000000.0  Female  Bachelor Degree      Credit card   \n",
       "\n",
       "  APPLICATION_RECEIVE_TIME HAS_APPLIED_BEFORE HAS_INCOME_VERIFICATION  \\\n",
       "0                 14:35:00                Yes                     Yes   \n",
       "1                 19:30:00                Yes                     Yes   \n",
       "2                 10:31:00                Yes                     Yes   \n",
       "3                 10:35:00                Yes                     Yes   \n",
       "4                 07:01:00                 No                     Yes   \n",
       "\n",
       "   LOAN_WAS_PAID_BACK  KNOWN_ASSETS  Score  \n",
       "0                   0    40000000.0   0.81  \n",
       "1                   0           NaN   0.86  \n",
       "2                   0    10000000.0   0.77  \n",
       "3                   0    10000000.0    NaN  \n",
       "4                   0           NaN   0.77  "
      ]
     },
     "execution_count": 135,
     "metadata": {},
     "output_type": "execute_result"
    }
   ],
   "source": [
    "# get all data without bureau\n",
    "df_1 = df.drop(columns=[ \"LOANS_WITHOUT_DELAYS\", \"LOANS_WITH_DELAYS\"])\n",
    "\n",
    "# get all data with label 0\n",
    "df_2 = df_1.loc[(df_1.LOAN_WAS_PAID_BACK == 0)]\n",
    "\n",
    "# get all labeled 1 data with the same number of row as label 0 data\n",
    "df_3 = df_1.loc[df_1.LOAN_WAS_PAID_BACK == 1, :].sample(n = df_2.shape[0])\n",
    "df_final = pd.concat([df_2, df_3], ignore_index=True)\n",
    "df_final.head()"
   ]
  },
  {
   "cell_type": "code",
   "execution_count": 136,
   "id": "f3d3af0e",
   "metadata": {},
   "outputs": [
    {
     "data": {
      "text/plain": [
       "0    963\n",
       "1    963\n",
       "Name: LOAN_WAS_PAID_BACK, dtype: int64"
      ]
     },
     "execution_count": 136,
     "metadata": {},
     "output_type": "execute_result"
    }
   ],
   "source": [
    "df_final.LOAN_WAS_PAID_BACK.value_counts()"
   ]
  },
  {
   "cell_type": "code",
   "execution_count": 137,
   "id": "1ac76055",
   "metadata": {},
   "outputs": [],
   "source": [
    "# do the splitting\n",
    "TARGET = \"LOAN_WAS_PAID_BACK\"\n",
    "TEST_SIZE = 0.3\n",
    "\n",
    "output_df, input_df = split_input_output(\n",
    "                            df_final,\n",
    "                            TARGET, save_file = False)\n",
    "\n",
    "x_train, y_train, x_valid, y_valid, x_test, y_test = split_data(input_df,\n",
    "                                                                    output_df,\n",
    "                                                                    False,\n",
    "                                                                   True,\n",
    "                                                                   TEST_SIZE)"
   ]
  },
  {
   "cell_type": "code",
   "execution_count": 138,
   "id": "53198598",
   "metadata": {},
   "outputs": [
    {
     "name": "stdout",
     "output_type": "stream",
     "text": [
      "1    472\n",
      "0    471\n",
      "Name: LOAN_WAS_PAID_BACK, dtype: int64\n",
      "-------------------------------------\n",
      "0    203\n",
      "1    202\n",
      "Name: LOAN_WAS_PAID_BACK, dtype: int64\n",
      "-------------------------------------\n",
      "1    289\n",
      "0    289\n",
      "Name: LOAN_WAS_PAID_BACK, dtype: int64\n"
     ]
    }
   ],
   "source": [
    "# check if stratify is correct\n",
    "print(y_train.value_counts())\n",
    "print(\"-------------------------------------\")\n",
    "print(y_valid.value_counts())\n",
    "print(\"-------------------------------------\")\n",
    "print(y_test.value_counts())"
   ]
  },
  {
   "cell_type": "code",
   "execution_count": 139,
   "id": "242aa1c5",
   "metadata": {},
   "outputs": [
    {
     "name": "stdout",
     "output_type": "stream",
     "text": [
      "1    0.50053\n",
      "0    0.49947\n",
      "Name: LOAN_WAS_PAID_BACK, dtype: float64\n",
      "-------------------------------------\n",
      "0    0.501235\n",
      "1    0.498765\n",
      "Name: LOAN_WAS_PAID_BACK, dtype: float64\n",
      "-------------------------------------\n",
      "1    0.5\n",
      "0    0.5\n",
      "Name: LOAN_WAS_PAID_BACK, dtype: float64\n"
     ]
    }
   ],
   "source": [
    "# check if stratify is correct\n",
    "print(y_train.value_counts(normalize = True))\n",
    "print(\"-------------------------------------\")\n",
    "print(y_valid.value_counts(normalize = True))\n",
    "print(\"-------------------------------------\")\n",
    "print(y_test.value_counts(normalize = True))"
   ]
  },
  {
   "cell_type": "code",
   "execution_count": 140,
   "id": "5961d8bf",
   "metadata": {},
   "outputs": [
    {
     "data": {
      "text/plain": [
       "(943, 11)"
      ]
     },
     "execution_count": 140,
     "metadata": {},
     "output_type": "execute_result"
    }
   ],
   "source": [
    "x_train.shape"
   ]
  },
  {
   "cell_type": "markdown",
   "id": "73a9dea7",
   "metadata": {},
   "source": [
    "### 3.2 Load the preprocess training, validation and testing data  "
   ]
  },
  {
   "cell_type": "markdown",
   "id": "56a33a59",
   "metadata": {},
   "source": [
    "We are going to used previously pickled datasets which gives the most optimum results"
   ]
  },
  {
   "cell_type": "code",
   "execution_count": 141,
   "id": "ae2c71fb",
   "metadata": {},
   "outputs": [],
   "source": [
    "x_train = joblib.load(\"./output/x_train1.pkl\")\n",
    "y_train = joblib.load(\"./output/y_train1.pkl\")\n",
    "x_valid = joblib.load(\"./output/x_valid1.pkl\")\n",
    "y_valid = joblib.load(\"./output/y_valid1.pkl\")\n",
    "x_test = joblib.load(\"./output/x_test1.pkl\")\n",
    "y_test = joblib.load(\"./output/y_test1.pkl\")"
   ]
  },
  {
   "cell_type": "code",
   "execution_count": null,
   "id": "df5eb76c",
   "metadata": {},
   "outputs": [],
   "source": []
  },
  {
   "cell_type": "markdown",
   "id": "349593b5",
   "metadata": {},
   "source": [
    "# 4. Feature preprocessing "
   ]
  },
  {
   "cell_type": "markdown",
   "id": "5f694211",
   "metadata": {},
   "source": [
    "### 4.1 Train engineering "
   ]
  },
  {
   "cell_type": "code",
   "execution_count": 142,
   "id": "3e6dee10",
   "metadata": {},
   "outputs": [],
   "source": [
    "df_train = pd.concat([x_train, pd.DataFrame(y_train)], axis = 1)"
   ]
  },
  {
   "cell_type": "code",
   "execution_count": 143,
   "id": "82df4607",
   "metadata": {},
   "outputs": [],
   "source": [
    "# This is our final feature\n",
    "X_train_without_bureau,y_train_without_bureau = feature_engineering_xb(df_train)"
   ]
  },
  {
   "cell_type": "code",
   "execution_count": 144,
   "id": "78b4e3f5",
   "metadata": {},
   "outputs": [
    {
     "name": "stdout",
     "output_type": "stream",
     "text": [
      "{'LOAN_PURPOSE_Car/Motorcycle'}\n"
     ]
    }
   ],
   "source": [
    "X_train_without_bureau = add_columns_xb(df,X_train_without_bureau)"
   ]
  },
  {
   "cell_type": "code",
   "execution_count": 145,
   "id": "647f6797",
   "metadata": {},
   "outputs": [
    {
     "name": "stdout",
     "output_type": "stream",
     "text": [
      " Data Train Without Bureau has 22 Features\n"
     ]
    }
   ],
   "source": [
    "print(f' Data Train Without Bureau has {X_train_without_bureau.shape[1]} Features')"
   ]
  },
  {
   "cell_type": "code",
   "execution_count": 147,
   "id": "57fa761d",
   "metadata": {},
   "outputs": [
    {
     "data": {
      "text/plain": [
       "(939, 22)"
      ]
     },
     "execution_count": 147,
     "metadata": {},
     "output_type": "execute_result"
    }
   ],
   "source": [
    "X_train_without_bureau.shape"
   ]
  },
  {
   "cell_type": "markdown",
   "id": "5dbfe6bf",
   "metadata": {},
   "source": [
    "### 4.2 Validation engineering "
   ]
  },
  {
   "cell_type": "code",
   "execution_count": 148,
   "id": "cf6e78ee",
   "metadata": {},
   "outputs": [],
   "source": [
    "df_valid = pd.concat([x_valid, pd.DataFrame(y_valid)], axis = 1)"
   ]
  },
  {
   "cell_type": "code",
   "execution_count": 149,
   "id": "f6fcff37",
   "metadata": {},
   "outputs": [],
   "source": [
    "# This is our final feature\n",
    "X_valid_without_bureau,y_valid_without_bureau = feature_engineering_xb(df_valid)"
   ]
  },
  {
   "cell_type": "code",
   "execution_count": 151,
   "id": "cd379ca1",
   "metadata": {},
   "outputs": [
    {
     "name": "stdout",
     "output_type": "stream",
     "text": [
      "{'LOAN_PURPOSE_Car/Motorcycle'}\n"
     ]
    }
   ],
   "source": [
    "X_valid_without_bureau = add_columns_xb(df,X_valid_without_bureau)"
   ]
  },
  {
   "cell_type": "code",
   "execution_count": 157,
   "id": "04cd6599",
   "metadata": {},
   "outputs": [
    {
     "name": "stdout",
     "output_type": "stream",
     "text": [
      " Data Validation Without Bureau has 22 Features\n"
     ]
    }
   ],
   "source": [
    "print(f' Data Validation Without Bureau has {X_valid_without_bureau.shape[1]} Features')"
   ]
  },
  {
   "cell_type": "code",
   "execution_count": null,
   "id": "34187735",
   "metadata": {},
   "outputs": [],
   "source": []
  },
  {
   "cell_type": "markdown",
   "id": "ce46b4f1",
   "metadata": {},
   "source": [
    "### 4.3 Test engineering "
   ]
  },
  {
   "cell_type": "code",
   "execution_count": 153,
   "id": "4c8a4150",
   "metadata": {},
   "outputs": [],
   "source": [
    "df_test = pd.concat([x_test, pd.DataFrame(y_test)], axis = 1)"
   ]
  },
  {
   "cell_type": "code",
   "execution_count": 154,
   "id": "d9d37903",
   "metadata": {},
   "outputs": [],
   "source": [
    "# This is our final feature\n",
    "X_test_without_bureau,y_test_without_bureau = feature_engineering_xb(df_test)"
   ]
  },
  {
   "cell_type": "code",
   "execution_count": 155,
   "id": "97675500",
   "metadata": {},
   "outputs": [
    {
     "name": "stdout",
     "output_type": "stream",
     "text": [
      "{'LOAN_PURPOSE_Car/Motorcycle'}\n"
     ]
    }
   ],
   "source": [
    "X_test_without_bureau = add_columns_xb(df,X_test_without_bureau)"
   ]
  },
  {
   "cell_type": "code",
   "execution_count": 158,
   "id": "3deb9d27",
   "metadata": {},
   "outputs": [
    {
     "name": "stdout",
     "output_type": "stream",
     "text": [
      " Data Test Without Bureau has 22 Features\n"
     ]
    }
   ],
   "source": [
    "print(f' Data Test Without Bureau has {X_test_without_bureau.shape[1]} Features')"
   ]
  },
  {
   "cell_type": "markdown",
   "id": "93696e7c",
   "metadata": {},
   "source": [
    "# 5. ML training "
   ]
  },
  {
   "cell_type": "markdown",
   "id": "53ded10d",
   "metadata": {},
   "source": [
    "### 5.1 Preprocessing the data "
   ]
  },
  {
   "cell_type": "code",
   "execution_count": 159,
   "id": "99a5c284",
   "metadata": {},
   "outputs": [],
   "source": [
    "# Changing everything to float and replacing infinities\n",
    "for c in X_train_without_bureau.columns:\n",
    "  X_train_without_bureau[c] = X_train_without_bureau[c].astype(np.float64)\n",
    "X_train_without_bureau.replace([np.inf, -np.inf], np.nan, inplace=True)"
   ]
  },
  {
   "cell_type": "code",
   "execution_count": 160,
   "id": "fa4ec3f7",
   "metadata": {},
   "outputs": [],
   "source": [
    "# Changing everything to float and replacing infinities\n",
    "for c in X_valid_without_bureau.columns:\n",
    "  X_valid_without_bureau[c] = X_valid_without_bureau[c].astype(np.float64)\n",
    "X_valid_without_bureau.replace([np.inf, -np.inf], np.nan, inplace=True)"
   ]
  },
  {
   "cell_type": "code",
   "execution_count": 161,
   "id": "878ecbb0",
   "metadata": {},
   "outputs": [],
   "source": [
    "# Changing everything to float and replacing infinities\n",
    "for c in X_test_without_bureau.columns:\n",
    "  X_test_without_bureau[c] = X_test_without_bureau[c].astype(np.float64)\n",
    "X_test_without_bureau.replace([np.inf, -np.inf], np.nan, inplace=True)"
   ]
  },
  {
   "cell_type": "code",
   "execution_count": 162,
   "id": "707b64d4",
   "metadata": {},
   "outputs": [
    {
     "data": {
      "text/plain": [
       "AGE                                        0\n",
       "INCOME                                     0\n",
       "GENDER                                     0\n",
       "HAS_APPLIED_BEFORE                         0\n",
       "HAS_INCOME_VERIFICATION                    0\n",
       "EDUCATION_Bachelor Degree                  0\n",
       "EDUCATION_Diploma                          0\n",
       "EDUCATION_High School                      0\n",
       "EDUCATION_Master's Degree/Post graduate    0\n",
       "EDUCATION_Other                            0\n",
       "LOAN_PURPOSE_Bills                         0\n",
       "LOAN_PURPOSE_Credit card                   0\n",
       "LOAN_PURPOSE_Education                     0\n",
       "LOAN_PURPOSE_Electronic unsecured loan     0\n",
       "LOAN_PURPOSE_Holiday                       0\n",
       "LOAN_PURPOSE_Housing loan                  0\n",
       "LOAN_PURPOSE_Investment                    0\n",
       "LOAN_PURPOSE_Other                         0\n",
       "LOAN_PURPOSE_Renovation                    0\n",
       "LOAN_PURPOSE_Venture capital               0\n",
       "LOAN_PURPOSE_Working Capital               0\n",
       "LOAN_PURPOSE_Car/Motorcycle                0\n",
       "dtype: int64"
      ]
     },
     "execution_count": 162,
     "metadata": {},
     "output_type": "execute_result"
    }
   ],
   "source": [
    "X_train_without_bureau.isnull().sum()"
   ]
  },
  {
   "cell_type": "code",
   "execution_count": 163,
   "id": "1299ab08",
   "metadata": {},
   "outputs": [],
   "source": [
    "# Fixing column names that contains [,],or < for XGBoost model\n",
    "import re\n",
    "regex = re.compile(r\"\\[|\\]|<\", re.IGNORECASE)\n",
    "X_train_without_bureau.columns = [regex.sub(\"_\", col) if any(x in str(col) for x in set(('[', ']', '<'))) else col for col in X_train_without_bureau.columns.values]\n",
    "X_valid_without_bureau.columns = [regex.sub(\"_\", col) if any(x in str(col) for x in set(('[', ']', '<'))) else col for col in X_valid_without_bureau.columns.values]\n",
    "X_test_without_bureau.columns = [regex.sub(\"_\", col) if any(x in str(col) for x in set(('[', ']', '<'))) else col for col in X_test_without_bureau.columns.values]"
   ]
  },
  {
   "cell_type": "markdown",
   "id": "9c2ea87f",
   "metadata": {},
   "source": [
    "### 5.1 Create baseline models "
   ]
  },
  {
   "cell_type": "markdown",
   "id": "54d50716",
   "metadata": {},
   "source": [
    "We are going to start with evaluating baseline on various model with training data , and test the performance on validation data"
   ]
  },
  {
   "cell_type": "code",
   "execution_count": 164,
   "id": "487525aa",
   "metadata": {},
   "outputs": [
    {
     "name": "stdout",
     "output_type": "stream",
     "text": [
      "Gini Performance Evaluation\n",
      "\n",
      "Logistic Regression Gini : 0.27739418409472405\n",
      "Random Forest Gini       : 0.8576237354262126\n",
      "Decision Tree Gini       : 0.8678038379530919\n",
      "KNN Classifier Gini      : 0.46768135008846357\n",
      "LGBM Gini                : 0.6633443723631085\n",
      "XGBoost Gini             : 0.7755568661253007\n"
     ]
    }
   ],
   "source": [
    "# Check the baseline model\n",
    "def baseline_model(X_train,y_train):\n",
    "  clf_logreg = LogisticRegression().fit(X_train,y_train)\n",
    "  clf_rf = RandomForestClassifier().fit(X_train,y_train)\n",
    "  clf_tree = DecisionTreeClassifier().fit(X_train,y_train)\n",
    "  clf_knn = KNeighborsClassifier().fit(X_train,y_train)\n",
    "  clf_lgbm = LGBMClassifier().fit(X_train,y_train)\n",
    "  clf_xgb = xgb.XGBClassifier().fit(X_train,y_train)\n",
    "\n",
    "  gini_logreg = (2*(roc_auc_score(y_train, clf_logreg.predict_proba(X_train)[:, 1])))-1\n",
    "  gini_rf = (2*(roc_auc_score(y_train, clf_rf.predict_proba(X_train)[:, 1])))-1\n",
    "  gini_tree = (2*(roc_auc_score(y_train, clf_tree.predict_proba(X_train)[:, 1])))-1\n",
    "  gini_knn = (2*(roc_auc_score(y_train, clf_knn.predict_proba(X_train)[:, 1])))-1\n",
    "  gini_lgbm = (2*(roc_auc_score(y_train, clf_lgbm.predict_proba(X_train)[:, 1])))-1\n",
    "  gini_xgb = (2*(roc_auc_score(y_train, clf_xgb.predict_proba(X_train)[:, 1])))-1\n",
    "\n",
    "  print(\"Gini Performance Evaluation\\n\")\n",
    "  print(f\"Logistic Regression Gini : {gini_logreg}\")\n",
    "  print(f\"Random Forest Gini       : {gini_rf}\")\n",
    "  print(f\"Decision Tree Gini       : {gini_tree}\")\n",
    "  print(f\"KNN Classifier Gini      : {gini_knn}\")\n",
    "  print(f\"LGBM Gini                : {gini_lgbm}\")\n",
    "  print(f\"XGBoost Gini             : {gini_xgb}\")\n",
    "\n",
    "  return clf_logreg, clf_rf, clf_tree, clf_knn, clf_lgbm, clf_xgb\n",
    " \n",
    "clf_logreg, clf_rf, clf_tree, clf_knn, clf_lgbm, clf_xgb = baseline_model(X_train_without_bureau,y_train_without_bureau)"
   ]
  },
  {
   "cell_type": "markdown",
   "id": "995ced50",
   "metadata": {},
   "source": [
    "### 5.2 Hyperparameter tuning on best baseline model"
   ]
  },
  {
   "cell_type": "markdown",
   "id": "7f84e81f",
   "metadata": {},
   "source": [
    "Taking top 3 models based on the training gini"
   ]
  },
  {
   "cell_type": "code",
   "execution_count": 165,
   "id": "ec0080eb",
   "metadata": {},
   "outputs": [
    {
     "name": "stdout",
     "output_type": "stream",
     "text": [
      "Best Score tree: 0.19199618162851562\n",
      "Best Hyperparameters: {'min_samples_leaf': 50, 'max_depth': 3, 'criterion': 'entropy'}\n",
      "Best Score rf: 0.18318686401480133\n",
      "Best Hyperparameters: {'min_samples_split': 10, 'min_samples_leaf': 4, 'max_depth': None}\n",
      "Best Score xgb: 0.11380370815045171\n",
      "Best Hyperparameters: {'fs__k': 10, 'clf__n_estimators': 200, 'clf__max_depth': 8, 'clf__learning_rate': 0.3, 'clf__gamma': 0.0, 'clf__colsample_bytree': 0.1}\n",
      "Wall time: 1min 6s\n"
     ]
    }
   ],
   "source": [
    "%%time\n",
    "\n",
    "clf_xgb = xgb.XGBClassifier()\n",
    "clf_tree = DecisionTreeClassifier()\n",
    "clf_rf = RandomForestClassifier()\n",
    "\n",
    "# Define evaluation\n",
    "cv = RepeatedStratifiedKFold(n_splits=10, n_repeats=2, random_state=420)\n",
    "\n",
    "# Define search space\n",
    "space_tree = dict()\n",
    "space_rf = dict()\n",
    "space_xgb = [\n",
    "  {\n",
    "    'clf__n_estimators': [50, 100, 150, 200],\n",
    "    'clf__learning_rate': [0.01, 0.1, 0.2, 0.3],\n",
    "    'clf__max_depth': range(3, 10),\n",
    "    'clf__colsample_bytree': [i/10.0 for i in range(1, 3)],\n",
    "    'clf__gamma': [i/10.0 for i in range(3)],\n",
    "#     'fs__score_func': [chi2],\n",
    "    'fs__k': [10],\n",
    "  }\n",
    "]\n",
    "\n",
    "max_depth = [int(x) for x in np.linspace(10, 110, num = 11)] #RF\n",
    "max_depth.append(None) #RF\n",
    "space_rf['max_depth'] = max_depth # RF\n",
    "space_rf['min_samples_split'] = [2, 5, 10] # RF\n",
    "space_rf['min_samples_leaf'] = [1, 2, 4] # RF\n",
    "\n",
    "space_tree['max_depth'] = [2, 3, 5, 10, 20] #DT\n",
    "space_tree['min_samples_leaf'] = [5, 10, 20, 50, 100] #DT\n",
    "space_tree['criterion'] = [\"gini\", \"entropy\"] #DT\n",
    "\n",
    "# Define search\n",
    "search_tree = RandomizedSearchCV(clf_tree, space_tree, n_iter=30, scoring='roc_auc', n_jobs=30, cv=cv, random_state=1)\n",
    "search_rf = RandomizedSearchCV(clf_rf, space_rf, n_iter=30, scoring='roc_auc', n_jobs=30, cv=cv, random_state=1)\n",
    "search_xgb = RandomizedSearchCV(clf_xgb, space_xgb, n_iter=30, scoring='roc_auc', n_jobs=30, cv=cv, random_state=1)\n",
    "\n",
    "# Execute search\n",
    "result_tree = search_tree.fit(X_train_without_bureau,y_train_without_bureau)\n",
    "result_rf = search_rf.fit(X_train_without_bureau,y_train_without_bureau)\n",
    "result_xgb = search_xgb.fit(X_train_without_bureau,y_train_without_bureau)\n",
    "\n",
    "# Summarize result\n",
    "print('Best Score tree: %s' % ((result_tree.best_score_ * 2) - 1))\n",
    "print('Best Hyperparameters: %s' % result_tree.best_params_)\n",
    "\n",
    "print('Best Score rf: %s' % ((result_rf.best_score_*2) - 1))\n",
    "print('Best Hyperparameters: %s' % result_rf.best_params_)\n",
    "\n",
    "print('Best Score xgb: %s' % ((result_xgb.best_score_*2) - 1))\n",
    "print('Best Hyperparameters: %s' % result_xgb.best_params_)"
   ]
  },
  {
   "cell_type": "markdown",
   "id": "a2582dd4",
   "metadata": {},
   "source": [
    "### 5.3 Evaluate on validation data "
   ]
  },
  {
   "cell_type": "code",
   "execution_count": 166,
   "id": "8c502de5",
   "metadata": {},
   "outputs": [
    {
     "name": "stdout",
     "output_type": "stream",
     "text": [
      "GINI validation data for Decision Tree : 0.20382701685768745\n",
      "GINI validation data for Random Forest : 0.2086541079783153\n",
      "GINI validation data for XGBOOST : 0.26796544297843883\n"
     ]
    }
   ],
   "source": [
    "dt_valid = DecisionTreeClassifier(\n",
    "    min_samples_leaf = 50, \n",
    "    max_depth = 3, \n",
    "    criterion = 'entropy').fit(X_train_without_bureau,y_train_without_bureau)\n",
    "\n",
    "rf_valid = RandomForestClassifier(\n",
    "    min_samples_split = 10, \n",
    "    min_samples_leaf = 4, \n",
    "    max_depth = None).fit(X_train_without_bureau,y_train_without_bureau)\n",
    "\n",
    "xgb_valid = xgb.XGBClassifier(\n",
    "    fs__k= 10, \n",
    "    n_estimators= 200, \n",
    "    max_depth= 8, \n",
    "    learning_rate= 0.3, \n",
    "    gamma= 0.0, \n",
    "    colsample_bytree= 0.1,\n",
    "    verbosity = 0).fit(X_train_without_bureau,y_train_without_bureau)\n",
    "\n",
    "def gini_value(x, y, model):\n",
    "    return (2*(roc_auc_score(y, model.predict_proba(x)[:, 1])))-1\n",
    "\n",
    "print(\"GINI validation data for Decision Tree :\" , gini_value(X_valid_without_bureau,y_valid_without_bureau, dt_valid))\n",
    "print(\"GINI validation data for Random Forest :\" , gini_value(X_valid_without_bureau,y_valid_without_bureau, rf_valid))\n",
    "print(\"GINI validation data for XGBOOST :\" , gini_value(X_valid_without_bureau,y_valid_without_bureau, xgb_valid))"
   ]
  },
  {
   "cell_type": "markdown",
   "id": "1205753d",
   "metadata": {},
   "source": [
    "Using Xgboost model since it provide highest gini in validation data"
   ]
  },
  {
   "cell_type": "code",
   "execution_count": 167,
   "id": "e1837742",
   "metadata": {},
   "outputs": [
    {
     "name": "stdout",
     "output_type": "stream",
     "text": [
      "              precision    recall  f1-score   support\n",
      "\n",
      "           0       0.63      0.66      0.64       469\n",
      "           1       0.64      0.62      0.63       470\n",
      "\n",
      "    accuracy                           0.64       939\n",
      "   macro avg       0.64      0.64      0.64       939\n",
      "weighted avg       0.64      0.64      0.64       939\n",
      "\n"
     ]
    }
   ],
   "source": [
    "from sklearn.metrics import classification_report\n",
    "\n",
    "y_pred_train = xgb_valid.predict(X_train_without_bureau)\n",
    "\n",
    "print(classification_report(y_train_without_bureau, y_pred_train))"
   ]
  },
  {
   "cell_type": "code",
   "execution_count": 168,
   "id": "a57d63dc",
   "metadata": {},
   "outputs": [
    {
     "name": "stdout",
     "output_type": "stream",
     "text": [
      "              precision    recall  f1-score   support\n",
      "\n",
      "           0       0.62      0.55      0.58       203\n",
      "           1       0.59      0.66      0.62       199\n",
      "\n",
      "    accuracy                           0.60       402\n",
      "   macro avg       0.60      0.60      0.60       402\n",
      "weighted avg       0.60      0.60      0.60       402\n",
      "\n"
     ]
    }
   ],
   "source": [
    "from sklearn.metrics import classification_report\n",
    "\n",
    "y_pred_valid = xgb_valid.predict(X_valid_without_bureau)\n",
    "\n",
    "print(classification_report(y_valid_without_bureau, y_pred_valid))"
   ]
  },
  {
   "cell_type": "code",
   "execution_count": 169,
   "id": "f3d033a4",
   "metadata": {},
   "outputs": [
    {
     "name": "stdout",
     "output_type": "stream",
     "text": [
      "              precision    recall  f1-score   support\n",
      "\n",
      "           0       0.56      0.30      0.39      1170\n",
      "           1       0.52      0.76      0.62      1170\n",
      "\n",
      "    accuracy                           0.53      2340\n",
      "   macro avg       0.54      0.53      0.51      2340\n",
      "weighted avg       0.54      0.53      0.51      2340\n",
      "\n"
     ]
    }
   ],
   "source": [
    "#dengan data validation yang sudah di resample\n",
    "from sklearn.metrics import classification_report\n",
    "\n",
    "y_pred_valid = xgb_valid.predict(X_valid_without_bureau_rs)\n",
    "\n",
    "print(classification_report(y_valid_without_bureau_rs, y_pred_valid))"
   ]
  },
  {
   "cell_type": "code",
   "execution_count": 170,
   "id": "2a605d4f",
   "metadata": {},
   "outputs": [
    {
     "data": {
      "image/png": "[encoded data removed]",
      "text/plain": [
       "<Figure size 432x288 with 1 Axes>"
      ]
     },
     "metadata": {
      "needs_background": "light"
     },
     "output_type": "display_data"
    }
   ],
   "source": [
    "from sklearn.metrics import plot_roc_curve\n",
    "plot_roc_curve(xgb_valid,X_valid_without_bureau,y_valid_without_bureau)\n",
    "plt.show()"
   ]
  },
  {
   "cell_type": "code",
   "execution_count": null,
   "id": "469a638a",
   "metadata": {},
   "outputs": [],
   "source": []
  },
  {
   "cell_type": "markdown",
   "id": "48b5f170",
   "metadata": {},
   "source": [
    "### 5.4 Retrain model with combined validation and train data "
   ]
  },
  {
   "cell_type": "markdown",
   "id": "828ee675",
   "metadata": {},
   "source": [
    "We are going to retrain the model with combination of our validation and training data, then test the performance against our test dataset"
   ]
  },
  {
   "cell_type": "code",
   "execution_count": 171,
   "id": "bc6143cb",
   "metadata": {},
   "outputs": [
    {
     "name": "stdout",
     "output_type": "stream",
     "text": [
      "GINI validation combine for XGBOOST : 0.37660376183358246\n"
     ]
    }
   ],
   "source": [
    "# combine validation and train data\n",
    "x_combine = pd.concat([X_train_without_bureau, X_valid_without_bureau]).reset_index(drop = True)\n",
    "y_combine = pd.concat([y_train_without_bureau, y_valid_without_bureau]).reset_index(drop = True)\n",
    "\n",
    "xgb_retrain= xgb.XGBClassifier(f\n",
    "    fs__k= 10, \n",
    "    n_estimators= 200, \n",
    "    max_depth= 8, \n",
    "    learning_rate= 0.3, \n",
    "    gamma= 0.0, \n",
    "    colsample_bytree= 0.1,\n",
    "    verbosity = 0).fit(x_combine,y_combine)\n",
    "\n",
    "# rf_retrain = RandomForestClassifier(\n",
    "#     min_samples_split = 5, \n",
    "#     min_samples_leaf = 4, \n",
    "#     max_depth = 80).fit(x_combine,y_combine)\n",
    "\n",
    "# dt_retrain = DecisionTreeClassifier(\n",
    "#     min_samples_leaf = 50, \n",
    "#     max_depth = 3, \n",
    "#     criterion = 'gini').fit(x_combine,y_combine)\n",
    "\n",
    "print(\"GINI validation combine for XGBOOST :\" , gini_value(x_combine, y_combine, xgb_retrain))"
   ]
  },
  {
   "cell_type": "code",
   "execution_count": 172,
   "id": "b3a8f60f",
   "metadata": {},
   "outputs": [
    {
     "name": "stdout",
     "output_type": "stream",
     "text": [
      "              precision    recall  f1-score   support\n",
      "\n",
      "           0       0.63      0.67      0.65       672\n",
      "           1       0.65      0.60      0.62       669\n",
      "\n",
      "    accuracy                           0.64      1341\n",
      "   macro avg       0.64      0.64      0.64      1341\n",
      "weighted avg       0.64      0.64      0.64      1341\n",
      "\n"
     ]
    }
   ],
   "source": [
    "from sklearn.metrics import classification_report\n",
    "\n",
    "y_pred_comb = xgb_retrain.predict(x_combine)\n",
    "\n",
    "print(classification_report(y_combine, y_pred_comb))"
   ]
  },
  {
   "cell_type": "code",
   "execution_count": 173,
   "id": "994834d7",
   "metadata": {},
   "outputs": [
    {
     "data": {
      "image/png": "[encoded data removed]",
      "text/plain": [
       "<Figure size 432x288 with 1 Axes>"
      ]
     },
     "metadata": {
      "needs_background": "light"
     },
     "output_type": "display_data"
    }
   ],
   "source": [
    "from sklearn.metrics import plot_roc_curve\n",
    "plot_roc_curve(xgb_retrain, x_combine, y_combine)\n",
    "plt.show()"
   ]
  },
  {
   "cell_type": "markdown",
   "id": "6591f96a",
   "metadata": {},
   "source": [
    "# 6. Evaluate Model Performance  "
   ]
  },
  {
   "cell_type": "markdown",
   "id": "c09a1a38",
   "metadata": {},
   "source": [
    "### 6.1 Test model performance on testing dataset  "
   ]
  },
  {
   "cell_type": "markdown",
   "id": "d7e3eb7a",
   "metadata": {},
   "source": [
    "We now test the model on our hold out (test) dataset"
   ]
  },
  {
   "cell_type": "code",
   "execution_count": 174,
   "id": "8cd73285",
   "metadata": {},
   "outputs": [
    {
     "name": "stdout",
     "output_type": "stream",
     "text": [
      "              precision    recall  f1-score   support\n",
      "\n",
      "           0       0.59      0.60      0.59       289\n",
      "           1       0.59      0.58      0.58       288\n",
      "\n",
      "    accuracy                           0.59       577\n",
      "   macro avg       0.59      0.59      0.59       577\n",
      "weighted avg       0.59      0.59      0.59       577\n",
      "\n",
      "GINI test for retrain XGBOOST : 0.22784505959246437\n"
     ]
    }
   ],
   "source": [
    "y_pred_test_without_bureau = xgb_retrain.predict(X_test_without_bureau)\n",
    "print(classification_report(y_test_without_bureau, y_pred_test_without_bureau))\n",
    "\n",
    "print(\"GINI test for retrain XGBOOST :\" , gini_value(X_test_without_bureau, y_test_without_bureau, xgb_retrain))"
   ]
  },
  {
   "cell_type": "code",
   "execution_count": 175,
   "id": "95c92f0b",
   "metadata": {},
   "outputs": [
    {
     "data": {
      "image/png": "[encoded data removed]",
      "text/plain": [
       "<Figure size 432x288 with 1 Axes>"
      ]
     },
     "metadata": {
      "needs_background": "light"
     },
     "output_type": "display_data"
    }
   ],
   "source": [
    "plot_roc_curve(xgb_retrain, X_test_without_bureau,y_test_without_bureau)\n",
    "plt.show()"
   ]
  },
  {
   "cell_type": "markdown",
   "id": "4bec1fe2",
   "metadata": {},
   "source": [
    "### 6.2 Decile Analysis"
   ]
  },
  {
   "cell_type": "markdown",
   "id": "2f03ce9b",
   "metadata": {},
   "source": [
    "In order to minimise the risk, we are going to rank customer based on their predicted probability of paying back their loan through decile analysis, and then set a threshold of which rank we will accept for a loan"
   ]
  },
  {
   "cell_type": "code",
   "execution_count": 178,
   "id": "fa05469d",
   "metadata": {
    "colab": {
     "base_uri": "https://localhost:8080/",
     "height": 505
    },
    "id": "Eqkm1_heh4Dm",
    "outputId": "1537ca9b-7e64-4e5c-f4b4-916955730e8a"
   },
   "outputs": [
    {
     "data": {
      "text/html": [
       "<div>\n",
       "<style scoped>\n",
       "    .dataframe tbody tr th:only-of-type {\n",
       "        vertical-align: middle;\n",
       "    }\n",
       "\n",
       "    .dataframe tbody tr th {\n",
       "        vertical-align: top;\n",
       "    }\n",
       "\n",
       "    .dataframe thead th {\n",
       "        text-align: right;\n",
       "    }\n",
       "</style>\n",
       "<table border=\"1\" class=\"dataframe\">\n",
       "  <thead>\n",
       "    <tr style=\"text-align: right;\">\n",
       "      <th></th>\n",
       "      <th>AGE</th>\n",
       "      <th>INCOME</th>\n",
       "      <th>GENDER</th>\n",
       "      <th>HAS_APPLIED_BEFORE</th>\n",
       "      <th>HAS_INCOME_VERIFICATION</th>\n",
       "      <th>EDUCATION_Bachelor Degree</th>\n",
       "      <th>EDUCATION_Diploma</th>\n",
       "      <th>EDUCATION_High School</th>\n",
       "      <th>EDUCATION_Master's Degree/Post graduate</th>\n",
       "      <th>EDUCATION_Other</th>\n",
       "      <th>...</th>\n",
       "      <th>LOAN_PURPOSE_Holiday</th>\n",
       "      <th>LOAN_PURPOSE_Housing loan</th>\n",
       "      <th>LOAN_PURPOSE_Investment</th>\n",
       "      <th>LOAN_PURPOSE_Other</th>\n",
       "      <th>LOAN_PURPOSE_Renovation</th>\n",
       "      <th>LOAN_PURPOSE_Venture capital</th>\n",
       "      <th>LOAN_PURPOSE_Working Capital</th>\n",
       "      <th>LOAN_PURPOSE_Car/Motorcycle</th>\n",
       "      <th>proba</th>\n",
       "      <th>act</th>\n",
       "    </tr>\n",
       "  </thead>\n",
       "  <tbody>\n",
       "    <tr>\n",
       "      <th>315</th>\n",
       "      <td>3.0</td>\n",
       "      <td>3.0</td>\n",
       "      <td>0.0</td>\n",
       "      <td>1.0</td>\n",
       "      <td>0.0</td>\n",
       "      <td>1.0</td>\n",
       "      <td>0.0</td>\n",
       "      <td>0.0</td>\n",
       "      <td>0.0</td>\n",
       "      <td>0.0</td>\n",
       "      <td>...</td>\n",
       "      <td>0.0</td>\n",
       "      <td>0.0</td>\n",
       "      <td>0.0</td>\n",
       "      <td>0.0</td>\n",
       "      <td>0.0</td>\n",
       "      <td>0.0</td>\n",
       "      <td>1.0</td>\n",
       "      <td>0.0</td>\n",
       "      <td>0.145400</td>\n",
       "      <td>0</td>\n",
       "    </tr>\n",
       "    <tr>\n",
       "      <th>1276</th>\n",
       "      <td>2.0</td>\n",
       "      <td>0.0</td>\n",
       "      <td>0.0</td>\n",
       "      <td>1.0</td>\n",
       "      <td>1.0</td>\n",
       "      <td>1.0</td>\n",
       "      <td>0.0</td>\n",
       "      <td>0.0</td>\n",
       "      <td>0.0</td>\n",
       "      <td>0.0</td>\n",
       "      <td>...</td>\n",
       "      <td>0.0</td>\n",
       "      <td>0.0</td>\n",
       "      <td>0.0</td>\n",
       "      <td>0.0</td>\n",
       "      <td>0.0</td>\n",
       "      <td>0.0</td>\n",
       "      <td>0.0</td>\n",
       "      <td>0.0</td>\n",
       "      <td>0.166431</td>\n",
       "      <td>1</td>\n",
       "    </tr>\n",
       "    <tr>\n",
       "      <th>1322</th>\n",
       "      <td>1.0</td>\n",
       "      <td>0.0</td>\n",
       "      <td>0.0</td>\n",
       "      <td>1.0</td>\n",
       "      <td>1.0</td>\n",
       "      <td>0.0</td>\n",
       "      <td>0.0</td>\n",
       "      <td>1.0</td>\n",
       "      <td>0.0</td>\n",
       "      <td>0.0</td>\n",
       "      <td>...</td>\n",
       "      <td>0.0</td>\n",
       "      <td>0.0</td>\n",
       "      <td>1.0</td>\n",
       "      <td>0.0</td>\n",
       "      <td>0.0</td>\n",
       "      <td>0.0</td>\n",
       "      <td>0.0</td>\n",
       "      <td>0.0</td>\n",
       "      <td>0.203139</td>\n",
       "      <td>1</td>\n",
       "    </tr>\n",
       "    <tr>\n",
       "      <th>44</th>\n",
       "      <td>3.0</td>\n",
       "      <td>0.0</td>\n",
       "      <td>0.0</td>\n",
       "      <td>1.0</td>\n",
       "      <td>1.0</td>\n",
       "      <td>0.0</td>\n",
       "      <td>0.0</td>\n",
       "      <td>1.0</td>\n",
       "      <td>0.0</td>\n",
       "      <td>0.0</td>\n",
       "      <td>...</td>\n",
       "      <td>0.0</td>\n",
       "      <td>0.0</td>\n",
       "      <td>0.0</td>\n",
       "      <td>0.0</td>\n",
       "      <td>0.0</td>\n",
       "      <td>0.0</td>\n",
       "      <td>1.0</td>\n",
       "      <td>0.0</td>\n",
       "      <td>0.225139</td>\n",
       "      <td>0</td>\n",
       "    </tr>\n",
       "    <tr>\n",
       "      <th>434</th>\n",
       "      <td>1.0</td>\n",
       "      <td>0.0</td>\n",
       "      <td>0.0</td>\n",
       "      <td>1.0</td>\n",
       "      <td>1.0</td>\n",
       "      <td>0.0</td>\n",
       "      <td>0.0</td>\n",
       "      <td>1.0</td>\n",
       "      <td>0.0</td>\n",
       "      <td>0.0</td>\n",
       "      <td>...</td>\n",
       "      <td>0.0</td>\n",
       "      <td>0.0</td>\n",
       "      <td>0.0</td>\n",
       "      <td>0.0</td>\n",
       "      <td>0.0</td>\n",
       "      <td>0.0</td>\n",
       "      <td>1.0</td>\n",
       "      <td>0.0</td>\n",
       "      <td>0.232418</td>\n",
       "      <td>0</td>\n",
       "    </tr>\n",
       "  </tbody>\n",
       "</table>\n",
       "<p>5 rows × 24 columns</p>\n",
       "</div>"
      ],
      "text/plain": [
       "      AGE  INCOME  GENDER  HAS_APPLIED_BEFORE  HAS_INCOME_VERIFICATION  \\\n",
       "315   3.0     3.0     0.0                 1.0                      0.0   \n",
       "1276  2.0     0.0     0.0                 1.0                      1.0   \n",
       "1322  1.0     0.0     0.0                 1.0                      1.0   \n",
       "44    3.0     0.0     0.0                 1.0                      1.0   \n",
       "434   1.0     0.0     0.0                 1.0                      1.0   \n",
       "\n",
       "      EDUCATION_Bachelor Degree  EDUCATION_Diploma  EDUCATION_High School  \\\n",
       "315                         1.0                0.0                    0.0   \n",
       "1276                        1.0                0.0                    0.0   \n",
       "1322                        0.0                0.0                    1.0   \n",
       "44                          0.0                0.0                    1.0   \n",
       "434                         0.0                0.0                    1.0   \n",
       "\n",
       "      EDUCATION_Master's Degree/Post graduate  EDUCATION_Other  ...  \\\n",
       "315                                       0.0              0.0  ...   \n",
       "1276                                      0.0              0.0  ...   \n",
       "1322                                      0.0              0.0  ...   \n",
       "44                                        0.0              0.0  ...   \n",
       "434                                       0.0              0.0  ...   \n",
       "\n",
       "      LOAN_PURPOSE_Holiday  LOAN_PURPOSE_Housing loan  \\\n",
       "315                    0.0                        0.0   \n",
       "1276                   0.0                        0.0   \n",
       "1322                   0.0                        0.0   \n",
       "44                     0.0                        0.0   \n",
       "434                    0.0                        0.0   \n",
       "\n",
       "      LOAN_PURPOSE_Investment  LOAN_PURPOSE_Other  LOAN_PURPOSE_Renovation  \\\n",
       "315                       0.0                 0.0                      0.0   \n",
       "1276                      0.0                 0.0                      0.0   \n",
       "1322                      1.0                 0.0                      0.0   \n",
       "44                        0.0                 0.0                      0.0   \n",
       "434                       0.0                 0.0                      0.0   \n",
       "\n",
       "      LOAN_PURPOSE_Venture capital  LOAN_PURPOSE_Working Capital  \\\n",
       "315                            0.0                           1.0   \n",
       "1276                           0.0                           0.0   \n",
       "1322                           0.0                           0.0   \n",
       "44                             0.0                           1.0   \n",
       "434                            0.0                           1.0   \n",
       "\n",
       "      LOAN_PURPOSE_Car/Motorcycle     proba  act  \n",
       "315                           0.0  0.145400    0  \n",
       "1276                          0.0  0.166431    1  \n",
       "1322                          0.0  0.203139    1  \n",
       "44                            0.0  0.225139    0  \n",
       "434                           0.0  0.232418    0  \n",
       "\n",
       "[5 rows x 24 columns]"
      ]
     },
     "execution_count": 178,
     "metadata": {},
     "output_type": "execute_result"
    }
   ],
   "source": [
    "y_pred_test_prob = xgb_retrain.predict_proba(X_test_without_bureau)\n",
    "df_decile=X_test_without_bureau.copy()\n",
    "df_decile['proba']=y_pred_test_prob[:,1]\n",
    "df_decile['act']=y_test_without_bureau\n",
    "df_decile.sort_values(by=['proba'], ascending=True, inplace=True)\n",
    "df_decile.head()"
   ]
  },
  {
   "cell_type": "code",
   "execution_count": 179,
   "id": "26138e8b",
   "metadata": {
    "id": "kn93MB8U-Ylb"
   },
   "outputs": [],
   "source": [
    "df_decile.reset_index(inplace=True)\n",
    "del df_decile['index']\n",
    "df_decile.reset_index(inplace=True)"
   ]
  },
  {
   "cell_type": "code",
   "execution_count": 180,
   "id": "ebbfe2e2",
   "metadata": {
    "colab": {
     "base_uri": "https://localhost:8080/",
     "height": 505
    },
    "id": "qTJOXXUl-bzh",
    "outputId": "4f93bcad-e916-41e3-f52d-fd79a2e4277f"
   },
   "outputs": [
    {
     "data": {
      "text/html": [
       "<div>\n",
       "<style scoped>\n",
       "    .dataframe tbody tr th:only-of-type {\n",
       "        vertical-align: middle;\n",
       "    }\n",
       "\n",
       "    .dataframe tbody tr th {\n",
       "        vertical-align: top;\n",
       "    }\n",
       "\n",
       "    .dataframe thead th {\n",
       "        text-align: right;\n",
       "    }\n",
       "</style>\n",
       "<table border=\"1\" class=\"dataframe\">\n",
       "  <thead>\n",
       "    <tr style=\"text-align: right;\">\n",
       "      <th></th>\n",
       "      <th>index</th>\n",
       "      <th>AGE</th>\n",
       "      <th>INCOME</th>\n",
       "      <th>GENDER</th>\n",
       "      <th>HAS_APPLIED_BEFORE</th>\n",
       "      <th>HAS_INCOME_VERIFICATION</th>\n",
       "      <th>EDUCATION_Bachelor Degree</th>\n",
       "      <th>EDUCATION_Diploma</th>\n",
       "      <th>EDUCATION_High School</th>\n",
       "      <th>EDUCATION_Master's Degree/Post graduate</th>\n",
       "      <th>...</th>\n",
       "      <th>LOAN_PURPOSE_Housing loan</th>\n",
       "      <th>LOAN_PURPOSE_Investment</th>\n",
       "      <th>LOAN_PURPOSE_Other</th>\n",
       "      <th>LOAN_PURPOSE_Renovation</th>\n",
       "      <th>LOAN_PURPOSE_Venture capital</th>\n",
       "      <th>LOAN_PURPOSE_Working Capital</th>\n",
       "      <th>LOAN_PURPOSE_Car/Motorcycle</th>\n",
       "      <th>proba</th>\n",
       "      <th>act</th>\n",
       "      <th>decile</th>\n",
       "    </tr>\n",
       "  </thead>\n",
       "  <tbody>\n",
       "    <tr>\n",
       "      <th>0</th>\n",
       "      <td>0</td>\n",
       "      <td>3.0</td>\n",
       "      <td>3.0</td>\n",
       "      <td>0.0</td>\n",
       "      <td>1.0</td>\n",
       "      <td>0.0</td>\n",
       "      <td>1.0</td>\n",
       "      <td>0.0</td>\n",
       "      <td>0.0</td>\n",
       "      <td>0.0</td>\n",
       "      <td>...</td>\n",
       "      <td>0.0</td>\n",
       "      <td>0.0</td>\n",
       "      <td>0.0</td>\n",
       "      <td>0.0</td>\n",
       "      <td>0.0</td>\n",
       "      <td>1.0</td>\n",
       "      <td>0.0</td>\n",
       "      <td>0.145400</td>\n",
       "      <td>0</td>\n",
       "      <td>1</td>\n",
       "    </tr>\n",
       "    <tr>\n",
       "      <th>1</th>\n",
       "      <td>1</td>\n",
       "      <td>2.0</td>\n",
       "      <td>0.0</td>\n",
       "      <td>0.0</td>\n",
       "      <td>1.0</td>\n",
       "      <td>1.0</td>\n",
       "      <td>1.0</td>\n",
       "      <td>0.0</td>\n",
       "      <td>0.0</td>\n",
       "      <td>0.0</td>\n",
       "      <td>...</td>\n",
       "      <td>0.0</td>\n",
       "      <td>0.0</td>\n",
       "      <td>0.0</td>\n",
       "      <td>0.0</td>\n",
       "      <td>0.0</td>\n",
       "      <td>0.0</td>\n",
       "      <td>0.0</td>\n",
       "      <td>0.166431</td>\n",
       "      <td>1</td>\n",
       "      <td>1</td>\n",
       "    </tr>\n",
       "    <tr>\n",
       "      <th>2</th>\n",
       "      <td>2</td>\n",
       "      <td>1.0</td>\n",
       "      <td>0.0</td>\n",
       "      <td>0.0</td>\n",
       "      <td>1.0</td>\n",
       "      <td>1.0</td>\n",
       "      <td>0.0</td>\n",
       "      <td>0.0</td>\n",
       "      <td>1.0</td>\n",
       "      <td>0.0</td>\n",
       "      <td>...</td>\n",
       "      <td>0.0</td>\n",
       "      <td>1.0</td>\n",
       "      <td>0.0</td>\n",
       "      <td>0.0</td>\n",
       "      <td>0.0</td>\n",
       "      <td>0.0</td>\n",
       "      <td>0.0</td>\n",
       "      <td>0.203139</td>\n",
       "      <td>1</td>\n",
       "      <td>1</td>\n",
       "    </tr>\n",
       "    <tr>\n",
       "      <th>3</th>\n",
       "      <td>3</td>\n",
       "      <td>3.0</td>\n",
       "      <td>0.0</td>\n",
       "      <td>0.0</td>\n",
       "      <td>1.0</td>\n",
       "      <td>1.0</td>\n",
       "      <td>0.0</td>\n",
       "      <td>0.0</td>\n",
       "      <td>1.0</td>\n",
       "      <td>0.0</td>\n",
       "      <td>...</td>\n",
       "      <td>0.0</td>\n",
       "      <td>0.0</td>\n",
       "      <td>0.0</td>\n",
       "      <td>0.0</td>\n",
       "      <td>0.0</td>\n",
       "      <td>1.0</td>\n",
       "      <td>0.0</td>\n",
       "      <td>0.225139</td>\n",
       "      <td>0</td>\n",
       "      <td>1</td>\n",
       "    </tr>\n",
       "    <tr>\n",
       "      <th>4</th>\n",
       "      <td>4</td>\n",
       "      <td>1.0</td>\n",
       "      <td>0.0</td>\n",
       "      <td>0.0</td>\n",
       "      <td>1.0</td>\n",
       "      <td>1.0</td>\n",
       "      <td>0.0</td>\n",
       "      <td>0.0</td>\n",
       "      <td>1.0</td>\n",
       "      <td>0.0</td>\n",
       "      <td>...</td>\n",
       "      <td>0.0</td>\n",
       "      <td>0.0</td>\n",
       "      <td>0.0</td>\n",
       "      <td>0.0</td>\n",
       "      <td>0.0</td>\n",
       "      <td>1.0</td>\n",
       "      <td>0.0</td>\n",
       "      <td>0.232418</td>\n",
       "      <td>0</td>\n",
       "      <td>1</td>\n",
       "    </tr>\n",
       "  </tbody>\n",
       "</table>\n",
       "<p>5 rows × 26 columns</p>\n",
       "</div>"
      ],
      "text/plain": [
       "   index  AGE  INCOME  GENDER  HAS_APPLIED_BEFORE  HAS_INCOME_VERIFICATION  \\\n",
       "0      0  3.0     3.0     0.0                 1.0                      0.0   \n",
       "1      1  2.0     0.0     0.0                 1.0                      1.0   \n",
       "2      2  1.0     0.0     0.0                 1.0                      1.0   \n",
       "3      3  3.0     0.0     0.0                 1.0                      1.0   \n",
       "4      4  1.0     0.0     0.0                 1.0                      1.0   \n",
       "\n",
       "   EDUCATION_Bachelor Degree  EDUCATION_Diploma  EDUCATION_High School  \\\n",
       "0                        1.0                0.0                    0.0   \n",
       "1                        1.0                0.0                    0.0   \n",
       "2                        0.0                0.0                    1.0   \n",
       "3                        0.0                0.0                    1.0   \n",
       "4                        0.0                0.0                    1.0   \n",
       "\n",
       "   EDUCATION_Master's Degree/Post graduate  ...  LOAN_PURPOSE_Housing loan  \\\n",
       "0                                      0.0  ...                        0.0   \n",
       "1                                      0.0  ...                        0.0   \n",
       "2                                      0.0  ...                        0.0   \n",
       "3                                      0.0  ...                        0.0   \n",
       "4                                      0.0  ...                        0.0   \n",
       "\n",
       "   LOAN_PURPOSE_Investment  LOAN_PURPOSE_Other  LOAN_PURPOSE_Renovation  \\\n",
       "0                      0.0                 0.0                      0.0   \n",
       "1                      0.0                 0.0                      0.0   \n",
       "2                      1.0                 0.0                      0.0   \n",
       "3                      0.0                 0.0                      0.0   \n",
       "4                      0.0                 0.0                      0.0   \n",
       "\n",
       "   LOAN_PURPOSE_Venture capital  LOAN_PURPOSE_Working Capital  \\\n",
       "0                           0.0                           1.0   \n",
       "1                           0.0                           0.0   \n",
       "2                           0.0                           0.0   \n",
       "3                           0.0                           1.0   \n",
       "4                           0.0                           1.0   \n",
       "\n",
       "   LOAN_PURPOSE_Car/Motorcycle     proba  act  decile  \n",
       "0                          0.0  0.145400    0       1  \n",
       "1                          0.0  0.166431    1       1  \n",
       "2                          0.0  0.203139    1       1  \n",
       "3                          0.0  0.225139    0       1  \n",
       "4                          0.0  0.232418    0       1  \n",
       "\n",
       "[5 rows x 26 columns]"
      ]
     },
     "execution_count": 180,
     "metadata": {},
     "output_type": "execute_result"
    }
   ],
   "source": [
    "df_decile['decile']=pd.cut(df_decile['index'],10,labels=False,duplicates='drop')+1\n",
    "df_decile.head()"
   ]
  },
  {
   "cell_type": "code",
   "execution_count": 181,
   "id": "2d52b72a",
   "metadata": {
    "colab": {
     "base_uri": "https://localhost:8080/",
     "height": 143
    },
    "id": "8PXFAOwC-d7j",
    "outputId": "2d8b5bbb-74e6-4868-a835-542d20b3f443"
   },
   "outputs": [
    {
     "data": {
      "text/html": [
       "<div>\n",
       "<style scoped>\n",
       "    .dataframe tbody tr th:only-of-type {\n",
       "        vertical-align: middle;\n",
       "    }\n",
       "\n",
       "    .dataframe tbody tr th {\n",
       "        vertical-align: top;\n",
       "    }\n",
       "\n",
       "    .dataframe thead th {\n",
       "        text-align: right;\n",
       "    }\n",
       "</style>\n",
       "<table border=\"1\" class=\"dataframe\">\n",
       "  <thead>\n",
       "    <tr style=\"text-align: right;\">\n",
       "      <th></th>\n",
       "      <th>index</th>\n",
       "    </tr>\n",
       "    <tr>\n",
       "      <th>act</th>\n",
       "      <th></th>\n",
       "    </tr>\n",
       "  </thead>\n",
       "  <tbody>\n",
       "    <tr>\n",
       "      <th>0</th>\n",
       "      <td>289</td>\n",
       "    </tr>\n",
       "    <tr>\n",
       "      <th>1</th>\n",
       "      <td>288</td>\n",
       "    </tr>\n",
       "  </tbody>\n",
       "</table>\n",
       "</div>"
      ],
      "text/plain": [
       "     index\n",
       "act       \n",
       "0      289\n",
       "1      288"
      ]
     },
     "execution_count": 181,
     "metadata": {},
     "output_type": "execute_result"
    }
   ],
   "source": [
    "df_decile[['index','act']].groupby(['act']).count()"
   ]
  },
  {
   "cell_type": "code",
   "execution_count": 182,
   "id": "6b6f49bf",
   "metadata": {
    "colab": {
     "base_uri": "https://localhost:8080/",
     "height": 708
    },
    "id": "iPE_3-RY-gkW",
    "outputId": "a9c6ec0b-a293-4c69-d7fe-ebaf7cca3d76"
   },
   "outputs": [
    {
     "data": {
      "text/html": [
       "<div>\n",
       "<style scoped>\n",
       "    .dataframe tbody tr th:only-of-type {\n",
       "        vertical-align: middle;\n",
       "    }\n",
       "\n",
       "    .dataframe tbody tr th {\n",
       "        vertical-align: top;\n",
       "    }\n",
       "\n",
       "    .dataframe thead th {\n",
       "        text-align: right;\n",
       "    }\n",
       "</style>\n",
       "<table border=\"1\" class=\"dataframe\">\n",
       "  <thead>\n",
       "    <tr style=\"text-align: right;\">\n",
       "      <th></th>\n",
       "      <th></th>\n",
       "      <th>index</th>\n",
       "    </tr>\n",
       "    <tr>\n",
       "      <th>decile</th>\n",
       "      <th>act</th>\n",
       "      <th></th>\n",
       "    </tr>\n",
       "  </thead>\n",
       "  <tbody>\n",
       "    <tr>\n",
       "      <th rowspan=\"2\" valign=\"top\">1</th>\n",
       "      <th>0</th>\n",
       "      <td>42</td>\n",
       "    </tr>\n",
       "    <tr>\n",
       "      <th>1</th>\n",
       "      <td>16</td>\n",
       "    </tr>\n",
       "    <tr>\n",
       "      <th rowspan=\"2\" valign=\"top\">2</th>\n",
       "      <th>0</th>\n",
       "      <td>76</td>\n",
       "    </tr>\n",
       "    <tr>\n",
       "      <th>1</th>\n",
       "      <td>40</td>\n",
       "    </tr>\n",
       "    <tr>\n",
       "      <th rowspan=\"2\" valign=\"top\">3</th>\n",
       "      <th>0</th>\n",
       "      <td>108</td>\n",
       "    </tr>\n",
       "    <tr>\n",
       "      <th>1</th>\n",
       "      <td>65</td>\n",
       "    </tr>\n",
       "    <tr>\n",
       "      <th rowspan=\"2\" valign=\"top\">4</th>\n",
       "      <th>0</th>\n",
       "      <td>139</td>\n",
       "    </tr>\n",
       "    <tr>\n",
       "      <th>1</th>\n",
       "      <td>92</td>\n",
       "    </tr>\n",
       "    <tr>\n",
       "      <th rowspan=\"2\" valign=\"top\">5</th>\n",
       "      <th>0</th>\n",
       "      <td>171</td>\n",
       "    </tr>\n",
       "    <tr>\n",
       "      <th>1</th>\n",
       "      <td>118</td>\n",
       "    </tr>\n",
       "    <tr>\n",
       "      <th rowspan=\"2\" valign=\"top\">6</th>\n",
       "      <th>0</th>\n",
       "      <td>192</td>\n",
       "    </tr>\n",
       "    <tr>\n",
       "      <th>1</th>\n",
       "      <td>154</td>\n",
       "    </tr>\n",
       "    <tr>\n",
       "      <th rowspan=\"2\" valign=\"top\">7</th>\n",
       "      <th>0</th>\n",
       "      <td>219</td>\n",
       "    </tr>\n",
       "    <tr>\n",
       "      <th>1</th>\n",
       "      <td>185</td>\n",
       "    </tr>\n",
       "    <tr>\n",
       "      <th rowspan=\"2\" valign=\"top\">8</th>\n",
       "      <th>0</th>\n",
       "      <td>247</td>\n",
       "    </tr>\n",
       "    <tr>\n",
       "      <th>1</th>\n",
       "      <td>214</td>\n",
       "    </tr>\n",
       "    <tr>\n",
       "      <th rowspan=\"2\" valign=\"top\">9</th>\n",
       "      <th>0</th>\n",
       "      <td>270</td>\n",
       "    </tr>\n",
       "    <tr>\n",
       "      <th>1</th>\n",
       "      <td>249</td>\n",
       "    </tr>\n",
       "    <tr>\n",
       "      <th rowspan=\"2\" valign=\"top\">10</th>\n",
       "      <th>0</th>\n",
       "      <td>289</td>\n",
       "    </tr>\n",
       "    <tr>\n",
       "      <th>1</th>\n",
       "      <td>288</td>\n",
       "    </tr>\n",
       "  </tbody>\n",
       "</table>\n",
       "</div>"
      ],
      "text/plain": [
       "            index\n",
       "decile act       \n",
       "1      0       42\n",
       "       1       16\n",
       "2      0       76\n",
       "       1       40\n",
       "3      0      108\n",
       "       1       65\n",
       "4      0      139\n",
       "       1       92\n",
       "5      0      171\n",
       "       1      118\n",
       "6      0      192\n",
       "       1      154\n",
       "7      0      219\n",
       "       1      185\n",
       "8      0      247\n",
       "       1      214\n",
       "9      0      270\n",
       "       1      249\n",
       "10     0      289\n",
       "       1      288"
      ]
     },
     "execution_count": 182,
     "metadata": {},
     "output_type": "execute_result"
    }
   ],
   "source": [
    "df_decile_2=df_decile.groupby(['decile','act'],as_index=True)[['index']].count().sort_values(by=['decile','act'], ascending=True)\n",
    "pd.DataFrame(df_decile_2.groupby(\"act\")['index'].agg(\"cumsum\"))"
   ]
  },
  {
   "cell_type": "markdown",
   "id": "eb4d707f",
   "metadata": {
    "id": "ZsjYASI2v65S"
   },
   "source": [
    "We can see that our model can predict 59% (171/289) of the default customer from top 5 decile. We can then set a threshold that each customers we scored who fall on or below this 5th decile will be rejected for a loan.\n",
    "\n",
    "Below we will compute the probabilty range for each customer and set the threshold accordingly"
   ]
  },
  {
   "cell_type": "code",
   "execution_count": 185,
   "id": "a5510e2f",
   "metadata": {},
   "outputs": [
    {
     "data": {
      "text/html": [
       "<div>\n",
       "<style scoped>\n",
       "    .dataframe tbody tr th:only-of-type {\n",
       "        vertical-align: middle;\n",
       "    }\n",
       "\n",
       "    .dataframe tbody tr th {\n",
       "        vertical-align: top;\n",
       "    }\n",
       "\n",
       "    .dataframe thead th {\n",
       "        text-align: right;\n",
       "    }\n",
       "</style>\n",
       "<table border=\"1\" class=\"dataframe\">\n",
       "  <thead>\n",
       "    <tr style=\"text-align: right;\">\n",
       "      <th></th>\n",
       "      <th>min_proba</th>\n",
       "      <th>max_proba</th>\n",
       "    </tr>\n",
       "    <tr>\n",
       "      <th>decile</th>\n",
       "      <th></th>\n",
       "      <th></th>\n",
       "    </tr>\n",
       "  </thead>\n",
       "  <tbody>\n",
       "    <tr>\n",
       "      <th>1</th>\n",
       "      <td>0.145400</td>\n",
       "      <td>0.320198</td>\n",
       "    </tr>\n",
       "    <tr>\n",
       "      <th>2</th>\n",
       "      <td>0.320198</td>\n",
       "      <td>0.374064</td>\n",
       "    </tr>\n",
       "    <tr>\n",
       "      <th>3</th>\n",
       "      <td>0.374842</td>\n",
       "      <td>0.406855</td>\n",
       "    </tr>\n",
       "    <tr>\n",
       "      <th>4</th>\n",
       "      <td>0.408132</td>\n",
       "      <td>0.441880</td>\n",
       "    </tr>\n",
       "    <tr>\n",
       "      <th>5</th>\n",
       "      <td>0.441880</td>\n",
       "      <td>0.495328</td>\n",
       "    </tr>\n",
       "    <tr>\n",
       "      <th>6</th>\n",
       "      <td>0.497226</td>\n",
       "      <td>0.537244</td>\n",
       "    </tr>\n",
       "    <tr>\n",
       "      <th>7</th>\n",
       "      <td>0.538341</td>\n",
       "      <td>0.571226</td>\n",
       "    </tr>\n",
       "    <tr>\n",
       "      <th>8</th>\n",
       "      <td>0.571226</td>\n",
       "      <td>0.616764</td>\n",
       "    </tr>\n",
       "    <tr>\n",
       "      <th>9</th>\n",
       "      <td>0.616863</td>\n",
       "      <td>0.711112</td>\n",
       "    </tr>\n",
       "    <tr>\n",
       "      <th>10</th>\n",
       "      <td>0.711881</td>\n",
       "      <td>0.948057</td>\n",
       "    </tr>\n",
       "  </tbody>\n",
       "</table>\n",
       "</div>"
      ],
      "text/plain": [
       "        min_proba  max_proba\n",
       "decile                      \n",
       "1        0.145400   0.320198\n",
       "2        0.320198   0.374064\n",
       "3        0.374842   0.406855\n",
       "4        0.408132   0.441880\n",
       "5        0.441880   0.495328\n",
       "6        0.497226   0.537244\n",
       "7        0.538341   0.571226\n",
       "8        0.571226   0.616764\n",
       "9        0.616863   0.711112\n",
       "10       0.711881   0.948057"
      ]
     },
     "execution_count": 185,
     "metadata": {},
     "output_type": "execute_result"
    }
   ],
   "source": [
    "df_decile_3=df_decile[['decile','proba']].groupby(['decile'],as_index=True)[['proba']].min().sort_values(by=['decile'], ascending=True)\n",
    "df_decile_3.rename(columns={'proba':'min_proba'},inplace=True)\n",
    "df_decile_3['max_proba']=df_decile[['decile','proba']].groupby(['decile'],as_index=True)[['proba']].max().sort_values(by=['decile'], ascending=True)\n",
    "df_decile_3.head(20)"
   ]
  },
  {
   "cell_type": "markdown",
   "id": "c083f548",
   "metadata": {},
   "source": [
    "We will our probabilty of paying back threshold at 0.495"
   ]
  },
  {
   "cell_type": "markdown",
   "id": "7895faa0",
   "metadata": {},
   "source": [
    "### 6.3 Performance on all data with bureau "
   ]
  },
  {
   "cell_type": "markdown",
   "id": "c72c4a2d",
   "metadata": {},
   "source": [
    "Finally, we will test how the model perform in predicting probability of paying back their loan agains all the data that we have "
   ]
  },
  {
   "cell_type": "code",
   "execution_count": 186,
   "id": "f19e95ad",
   "metadata": {},
   "outputs": [
    {
     "data": {
      "text/html": [
       "<div>\n",
       "<style scoped>\n",
       "    .dataframe tbody tr th:only-of-type {\n",
       "        vertical-align: middle;\n",
       "    }\n",
       "\n",
       "    .dataframe tbody tr th {\n",
       "        vertical-align: top;\n",
       "    }\n",
       "\n",
       "    .dataframe thead th {\n",
       "        text-align: right;\n",
       "    }\n",
       "</style>\n",
       "<table border=\"1\" class=\"dataframe\">\n",
       "  <thead>\n",
       "    <tr style=\"text-align: right;\">\n",
       "      <th></th>\n",
       "      <th>customer_id</th>\n",
       "      <th>AGE</th>\n",
       "      <th>INCOME</th>\n",
       "      <th>GENDER</th>\n",
       "      <th>EDUCATION</th>\n",
       "      <th>LOAN_PURPOSE</th>\n",
       "      <th>APPLICATION_RECEIVE_TIME</th>\n",
       "      <th>HAS_APPLIED_BEFORE</th>\n",
       "      <th>HAS_INCOME_VERIFICATION</th>\n",
       "      <th>LOAN_WAS_PAID_BACK</th>\n",
       "      <th>KNOWN_ASSETS</th>\n",
       "      <th>Score</th>\n",
       "    </tr>\n",
       "  </thead>\n",
       "  <tbody>\n",
       "    <tr>\n",
       "      <th>0</th>\n",
       "      <td>36493</td>\n",
       "      <td>40</td>\n",
       "      <td>10000000.0</td>\n",
       "      <td>Female</td>\n",
       "      <td>Diploma</td>\n",
       "      <td>Working Capital</td>\n",
       "      <td>09:07:00</td>\n",
       "      <td>No</td>\n",
       "      <td>Yes</td>\n",
       "      <td>1</td>\n",
       "      <td>40000000.0</td>\n",
       "      <td>0.77</td>\n",
       "    </tr>\n",
       "    <tr>\n",
       "      <th>1</th>\n",
       "      <td>36494</td>\n",
       "      <td>39</td>\n",
       "      <td>15000000.0</td>\n",
       "      <td>Female</td>\n",
       "      <td>Bachelor Degree</td>\n",
       "      <td>Other</td>\n",
       "      <td>15:15:00</td>\n",
       "      <td>No</td>\n",
       "      <td>Yes</td>\n",
       "      <td>1</td>\n",
       "      <td>20000000.0</td>\n",
       "      <td>0.93</td>\n",
       "    </tr>\n",
       "    <tr>\n",
       "      <th>2</th>\n",
       "      <td>36495</td>\n",
       "      <td>28</td>\n",
       "      <td>15000000.0</td>\n",
       "      <td>Male</td>\n",
       "      <td>Bachelor Degree</td>\n",
       "      <td>Renovation</td>\n",
       "      <td>07:13:00</td>\n",
       "      <td>No</td>\n",
       "      <td>Yes</td>\n",
       "      <td>1</td>\n",
       "      <td>NaN</td>\n",
       "      <td>NaN</td>\n",
       "    </tr>\n",
       "    <tr>\n",
       "      <th>3</th>\n",
       "      <td>36496</td>\n",
       "      <td>28</td>\n",
       "      <td>4000000.0</td>\n",
       "      <td>Male</td>\n",
       "      <td>Bachelor Degree</td>\n",
       "      <td>Renovation</td>\n",
       "      <td>12:05:00</td>\n",
       "      <td>Yes</td>\n",
       "      <td>Yes</td>\n",
       "      <td>1</td>\n",
       "      <td>0.0</td>\n",
       "      <td>0.78</td>\n",
       "    </tr>\n",
       "    <tr>\n",
       "      <th>4</th>\n",
       "      <td>36497</td>\n",
       "      <td>38</td>\n",
       "      <td>10000000.0</td>\n",
       "      <td>Male</td>\n",
       "      <td>Diploma</td>\n",
       "      <td>Renovation</td>\n",
       "      <td>14:35:00</td>\n",
       "      <td>Yes</td>\n",
       "      <td>Yes</td>\n",
       "      <td>0</td>\n",
       "      <td>40000000.0</td>\n",
       "      <td>0.81</td>\n",
       "    </tr>\n",
       "  </tbody>\n",
       "</table>\n",
       "</div>"
      ],
      "text/plain": [
       "   customer_id  AGE      INCOME  GENDER        EDUCATION     LOAN_PURPOSE  \\\n",
       "0        36493   40  10000000.0  Female          Diploma  Working Capital   \n",
       "1        36494   39  15000000.0  Female  Bachelor Degree            Other   \n",
       "2        36495   28  15000000.0    Male  Bachelor Degree       Renovation   \n",
       "3        36496   28   4000000.0    Male  Bachelor Degree       Renovation   \n",
       "4        36497   38  10000000.0    Male          Diploma       Renovation   \n",
       "\n",
       "  APPLICATION_RECEIVE_TIME HAS_APPLIED_BEFORE HAS_INCOME_VERIFICATION  \\\n",
       "0                 09:07:00                 No                     Yes   \n",
       "1                 15:15:00                 No                     Yes   \n",
       "2                 07:13:00                 No                     Yes   \n",
       "3                 12:05:00                Yes                     Yes   \n",
       "4                 14:35:00                Yes                     Yes   \n",
       "\n",
       "   LOAN_WAS_PAID_BACK  KNOWN_ASSETS  Score  \n",
       "0                   1    40000000.0   0.77  \n",
       "1                   1    20000000.0   0.93  \n",
       "2                   1           NaN    NaN  \n",
       "3                   1           0.0   0.78  \n",
       "4                   0    40000000.0   0.81  "
      ]
     },
     "execution_count": 186,
     "metadata": {},
     "output_type": "execute_result"
    }
   ],
   "source": [
    "df_1.head()"
   ]
  },
  {
   "cell_type": "code",
   "execution_count": 188,
   "id": "4768d11e",
   "metadata": {},
   "outputs": [],
   "source": [
    "x_all, y_all = feature_engineering_xb(df_1)"
   ]
  },
  {
   "cell_type": "code",
   "execution_count": 190,
   "id": "36658c5a",
   "metadata": {},
   "outputs": [
    {
     "data": {
      "text/html": [
       "<div>\n",
       "<style scoped>\n",
       "    .dataframe tbody tr th:only-of-type {\n",
       "        vertical-align: middle;\n",
       "    }\n",
       "\n",
       "    .dataframe tbody tr th {\n",
       "        vertical-align: top;\n",
       "    }\n",
       "\n",
       "    .dataframe thead th {\n",
       "        text-align: right;\n",
       "    }\n",
       "</style>\n",
       "<table border=\"1\" class=\"dataframe\">\n",
       "  <thead>\n",
       "    <tr style=\"text-align: right;\">\n",
       "      <th></th>\n",
       "      <th>LOAN_PURPOSE_Bills</th>\n",
       "      <th>LOAN_PURPOSE_Car/Motorcycle</th>\n",
       "      <th>LOAN_PURPOSE_Credit card</th>\n",
       "      <th>LOAN_PURPOSE_Education</th>\n",
       "      <th>LOAN_PURPOSE_Electronic unsecured loan</th>\n",
       "      <th>LOAN_PURPOSE_Holiday</th>\n",
       "      <th>LOAN_PURPOSE_Housing loan</th>\n",
       "      <th>LOAN_PURPOSE_Investment</th>\n",
       "      <th>LOAN_PURPOSE_Other</th>\n",
       "      <th>LOAN_PURPOSE_Renovation</th>\n",
       "      <th>LOAN_PURPOSE_Venture capital</th>\n",
       "      <th>LOAN_PURPOSE_Working Capital</th>\n",
       "    </tr>\n",
       "  </thead>\n",
       "  <tbody>\n",
       "    <tr>\n",
       "      <th>0</th>\n",
       "      <td>0.0</td>\n",
       "      <td>0.0</td>\n",
       "      <td>0.0</td>\n",
       "      <td>0.0</td>\n",
       "      <td>0.0</td>\n",
       "      <td>0.0</td>\n",
       "      <td>0.0</td>\n",
       "      <td>0.0</td>\n",
       "      <td>0.0</td>\n",
       "      <td>0.0</td>\n",
       "      <td>0.0</td>\n",
       "      <td>1.0</td>\n",
       "    </tr>\n",
       "    <tr>\n",
       "      <th>1</th>\n",
       "      <td>0.0</td>\n",
       "      <td>0.0</td>\n",
       "      <td>0.0</td>\n",
       "      <td>0.0</td>\n",
       "      <td>0.0</td>\n",
       "      <td>0.0</td>\n",
       "      <td>0.0</td>\n",
       "      <td>0.0</td>\n",
       "      <td>1.0</td>\n",
       "      <td>0.0</td>\n",
       "      <td>0.0</td>\n",
       "      <td>0.0</td>\n",
       "    </tr>\n",
       "    <tr>\n",
       "      <th>2</th>\n",
       "      <td>0.0</td>\n",
       "      <td>0.0</td>\n",
       "      <td>0.0</td>\n",
       "      <td>0.0</td>\n",
       "      <td>0.0</td>\n",
       "      <td>0.0</td>\n",
       "      <td>0.0</td>\n",
       "      <td>0.0</td>\n",
       "      <td>0.0</td>\n",
       "      <td>1.0</td>\n",
       "      <td>0.0</td>\n",
       "      <td>0.0</td>\n",
       "    </tr>\n",
       "    <tr>\n",
       "      <th>3</th>\n",
       "      <td>0.0</td>\n",
       "      <td>0.0</td>\n",
       "      <td>0.0</td>\n",
       "      <td>0.0</td>\n",
       "      <td>0.0</td>\n",
       "      <td>0.0</td>\n",
       "      <td>0.0</td>\n",
       "      <td>0.0</td>\n",
       "      <td>0.0</td>\n",
       "      <td>1.0</td>\n",
       "      <td>0.0</td>\n",
       "      <td>0.0</td>\n",
       "    </tr>\n",
       "    <tr>\n",
       "      <th>4</th>\n",
       "      <td>0.0</td>\n",
       "      <td>0.0</td>\n",
       "      <td>0.0</td>\n",
       "      <td>0.0</td>\n",
       "      <td>0.0</td>\n",
       "      <td>0.0</td>\n",
       "      <td>0.0</td>\n",
       "      <td>0.0</td>\n",
       "      <td>0.0</td>\n",
       "      <td>1.0</td>\n",
       "      <td>0.0</td>\n",
       "      <td>0.0</td>\n",
       "    </tr>\n",
       "    <tr>\n",
       "      <th>...</th>\n",
       "      <td>...</td>\n",
       "      <td>...</td>\n",
       "      <td>...</td>\n",
       "      <td>...</td>\n",
       "      <td>...</td>\n",
       "      <td>...</td>\n",
       "      <td>...</td>\n",
       "      <td>...</td>\n",
       "      <td>...</td>\n",
       "      <td>...</td>\n",
       "      <td>...</td>\n",
       "      <td>...</td>\n",
       "    </tr>\n",
       "    <tr>\n",
       "      <th>6583</th>\n",
       "      <td>0.0</td>\n",
       "      <td>0.0</td>\n",
       "      <td>0.0</td>\n",
       "      <td>0.0</td>\n",
       "      <td>0.0</td>\n",
       "      <td>0.0</td>\n",
       "      <td>0.0</td>\n",
       "      <td>0.0</td>\n",
       "      <td>0.0</td>\n",
       "      <td>0.0</td>\n",
       "      <td>0.0</td>\n",
       "      <td>1.0</td>\n",
       "    </tr>\n",
       "    <tr>\n",
       "      <th>6584</th>\n",
       "      <td>0.0</td>\n",
       "      <td>0.0</td>\n",
       "      <td>0.0</td>\n",
       "      <td>1.0</td>\n",
       "      <td>0.0</td>\n",
       "      <td>0.0</td>\n",
       "      <td>0.0</td>\n",
       "      <td>0.0</td>\n",
       "      <td>0.0</td>\n",
       "      <td>0.0</td>\n",
       "      <td>0.0</td>\n",
       "      <td>0.0</td>\n",
       "    </tr>\n",
       "    <tr>\n",
       "      <th>6585</th>\n",
       "      <td>0.0</td>\n",
       "      <td>0.0</td>\n",
       "      <td>0.0</td>\n",
       "      <td>0.0</td>\n",
       "      <td>0.0</td>\n",
       "      <td>0.0</td>\n",
       "      <td>0.0</td>\n",
       "      <td>0.0</td>\n",
       "      <td>0.0</td>\n",
       "      <td>1.0</td>\n",
       "      <td>0.0</td>\n",
       "      <td>0.0</td>\n",
       "    </tr>\n",
       "    <tr>\n",
       "      <th>6586</th>\n",
       "      <td>0.0</td>\n",
       "      <td>0.0</td>\n",
       "      <td>0.0</td>\n",
       "      <td>0.0</td>\n",
       "      <td>0.0</td>\n",
       "      <td>0.0</td>\n",
       "      <td>0.0</td>\n",
       "      <td>0.0</td>\n",
       "      <td>1.0</td>\n",
       "      <td>0.0</td>\n",
       "      <td>0.0</td>\n",
       "      <td>0.0</td>\n",
       "    </tr>\n",
       "    <tr>\n",
       "      <th>6587</th>\n",
       "      <td>0.0</td>\n",
       "      <td>0.0</td>\n",
       "      <td>0.0</td>\n",
       "      <td>0.0</td>\n",
       "      <td>1.0</td>\n",
       "      <td>0.0</td>\n",
       "      <td>0.0</td>\n",
       "      <td>0.0</td>\n",
       "      <td>0.0</td>\n",
       "      <td>0.0</td>\n",
       "      <td>0.0</td>\n",
       "      <td>0.0</td>\n",
       "    </tr>\n",
       "  </tbody>\n",
       "</table>\n",
       "<p>6537 rows × 12 columns</p>\n",
       "</div>"
      ],
      "text/plain": [
       "      LOAN_PURPOSE_Bills  LOAN_PURPOSE_Car/Motorcycle  \\\n",
       "0                    0.0                          0.0   \n",
       "1                    0.0                          0.0   \n",
       "2                    0.0                          0.0   \n",
       "3                    0.0                          0.0   \n",
       "4                    0.0                          0.0   \n",
       "...                  ...                          ...   \n",
       "6583                 0.0                          0.0   \n",
       "6584                 0.0                          0.0   \n",
       "6585                 0.0                          0.0   \n",
       "6586                 0.0                          0.0   \n",
       "6587                 0.0                          0.0   \n",
       "\n",
       "      LOAN_PURPOSE_Credit card  LOAN_PURPOSE_Education  \\\n",
       "0                          0.0                     0.0   \n",
       "1                          0.0                     0.0   \n",
       "2                          0.0                     0.0   \n",
       "3                          0.0                     0.0   \n",
       "4                          0.0                     0.0   \n",
       "...                        ...                     ...   \n",
       "6583                       0.0                     0.0   \n",
       "6584                       0.0                     1.0   \n",
       "6585                       0.0                     0.0   \n",
       "6586                       0.0                     0.0   \n",
       "6587                       0.0                     0.0   \n",
       "\n",
       "      LOAN_PURPOSE_Electronic unsecured loan  LOAN_PURPOSE_Holiday  \\\n",
       "0                                        0.0                   0.0   \n",
       "1                                        0.0                   0.0   \n",
       "2                                        0.0                   0.0   \n",
       "3                                        0.0                   0.0   \n",
       "4                                        0.0                   0.0   \n",
       "...                                      ...                   ...   \n",
       "6583                                     0.0                   0.0   \n",
       "6584                                     0.0                   0.0   \n",
       "6585                                     0.0                   0.0   \n",
       "6586                                     0.0                   0.0   \n",
       "6587                                     1.0                   0.0   \n",
       "\n",
       "      LOAN_PURPOSE_Housing loan  LOAN_PURPOSE_Investment  LOAN_PURPOSE_Other  \\\n",
       "0                           0.0                      0.0                 0.0   \n",
       "1                           0.0                      0.0                 1.0   \n",
       "2                           0.0                      0.0                 0.0   \n",
       "3                           0.0                      0.0                 0.0   \n",
       "4                           0.0                      0.0                 0.0   \n",
       "...                         ...                      ...                 ...   \n",
       "6583                        0.0                      0.0                 0.0   \n",
       "6584                        0.0                      0.0                 0.0   \n",
       "6585                        0.0                      0.0                 0.0   \n",
       "6586                        0.0                      0.0                 1.0   \n",
       "6587                        0.0                      0.0                 0.0   \n",
       "\n",
       "      LOAN_PURPOSE_Renovation  LOAN_PURPOSE_Venture capital  \\\n",
       "0                         0.0                           0.0   \n",
       "1                         0.0                           0.0   \n",
       "2                         1.0                           0.0   \n",
       "3                         1.0                           0.0   \n",
       "4                         1.0                           0.0   \n",
       "...                       ...                           ...   \n",
       "6583                      0.0                           0.0   \n",
       "6584                      0.0                           0.0   \n",
       "6585                      1.0                           0.0   \n",
       "6586                      0.0                           0.0   \n",
       "6587                      0.0                           0.0   \n",
       "\n",
       "      LOAN_PURPOSE_Working Capital  \n",
       "0                              1.0  \n",
       "1                              0.0  \n",
       "2                              0.0  \n",
       "3                              0.0  \n",
       "4                              0.0  \n",
       "...                            ...  \n",
       "6583                           1.0  \n",
       "6584                           0.0  \n",
       "6585                           0.0  \n",
       "6586                           0.0  \n",
       "6587                           0.0  \n",
       "\n",
       "[6537 rows x 12 columns]"
      ]
     },
     "execution_count": 190,
     "metadata": {},
     "output_type": "execute_result"
    }
   ],
   "source": [
    "x_all[x_all.columns[pd.Series(x_all.columns).str.startswith('LOAN_PURPOSE')]]"
   ]
  },
  {
   "cell_type": "code",
   "execution_count": 191,
   "id": "c4243ea2",
   "metadata": {},
   "outputs": [],
   "source": [
    "# Changing everything to float and replacing infinities\n",
    "for c in x_all.columns:\n",
    "    x_all[c] = x_all[c].astype(np.float64)\n",
    "x_all.replace([np.inf, -np.inf], np.nan, inplace=True)\n",
    "\n",
    "x_all.columns = [regex.sub(\"_\", col) if any(x in str(col) for x in set(('[', ']', '<'))) else col for col in x_all.columns.values]"
   ]
  },
  {
   "cell_type": "markdown",
   "id": "91685e06",
   "metadata": {},
   "source": [
    "### performance"
   ]
  },
  {
   "cell_type": "code",
   "execution_count": 192,
   "id": "7dce596b",
   "metadata": {},
   "outputs": [
    {
     "name": "stdout",
     "output_type": "stream",
     "text": [
      "              precision    recall  f1-score   support\n",
      "\n",
      "           0       0.21      0.32      0.25       961\n",
      "           1       0.87      0.80      0.83      5576\n",
      "\n",
      "    accuracy                           0.73      6537\n",
      "   macro avg       0.54      0.56      0.54      6537\n",
      "weighted avg       0.77      0.73      0.75      6537\n",
      "\n",
      "GINI all data for retrain XGBOOST : 0.20927283123599416\n"
     ]
    }
   ],
   "source": [
    "y_pred = xgb_retrain.predict(x_all)\n",
    "\n",
    "print(classification_report(y_all, y_pred))\n",
    "\n",
    "print(\"GINI all data for retrain XGBOOST :\" , gini_value(x_all, y_all, xgb_retrain))"
   ]
  },
  {
   "cell_type": "code",
   "execution_count": 193,
   "id": "35e91306",
   "metadata": {},
   "outputs": [
    {
     "data": {
      "image/png": "[encoded data removed]",
      "text/plain": [
       "<Figure size 432x288 with 1 Axes>"
      ]
     },
     "metadata": {
      "needs_background": "light"
     },
     "output_type": "display_data"
    }
   ],
   "source": [
    "plot_roc_curve(xgb_retrain, x_all, y_all)\n",
    "plt.show()"
   ]
  },
  {
   "cell_type": "code",
   "execution_count": 194,
   "id": "780e2b4e",
   "metadata": {},
   "outputs": [
    {
     "data": {
      "image/png": "[encoded data removed]",
      "text/plain": [
       "<Figure size 576x576 with 2 Axes>"
      ]
     },
     "metadata": {
      "needs_background": "light"
     },
     "output_type": "display_data"
    }
   ],
   "source": [
    "from sklearn import metrics\n",
    "cm = metrics.confusion_matrix(y_all, y_pred)\n",
    "plt.figure(figsize=(8,8))\n",
    "sns.heatmap(cm, annot=True, fmt=\".2f\", linewidths=.5, square =True, cmap = 'binary');\n",
    "plt.ylabel('Actual label')\n",
    "plt.xlabel('Predicted label')\n",
    "all_sample_title = 'Confusion Matrix - Train Set'\n",
    "plt.title(all_sample_title, size = 15)\n",
    "plt.show()"
   ]
  },
  {
   "cell_type": "markdown",
   "id": "958202ba",
   "metadata": {},
   "source": [
    "### 6.4 Save the model for serving"
   ]
  },
  {
   "cell_type": "code",
   "execution_count": 195,
   "id": "58242788",
   "metadata": {},
   "outputs": [
    {
     "data": {
      "text/plain": [
       "['output/xgb_retrain_no_bureau.pkl']"
      ]
     },
     "execution_count": 195,
     "metadata": {},
     "output_type": "execute_result"
    }
   ],
   "source": [
    "joblib.dump(xgb_retrain, \"output/xgb_retrain_no_bureau.pkl\")"
   ]
  },
  {
   "cell_type": "code",
   "execution_count": 196,
   "id": "a61c4889",
   "metadata": {},
   "outputs": [],
   "source": [
    "c = joblib.load(\"output/xgb_retrain_no_bureau.pkl\")"
   ]
  },
  {
   "cell_type": "code",
   "execution_count": 258,
   "id": "9db4ac18",
   "metadata": {},
   "outputs": [
    {
     "data": {
      "text/plain": [
       "array([[0.46126002, 0.53874   ]], dtype=float32)"
      ]
     },
     "execution_count": 258,
     "metadata": {},
     "output_type": "execute_result"
    }
   ],
   "source": [
    "t = x_all.iloc[[0],:]"
   ]
  },
  {
   "cell_type": "code",
   "execution_count": 197,
   "id": "e501f763",
   "metadata": {},
   "outputs": [
    {
     "data": {
      "text/plain": [
       "1"
      ]
     },
     "execution_count": 197,
     "metadata": {},
     "output_type": "execute_result"
    }
   ],
   "source": [
    "c.predict(x_all.iloc[[0],:])[0]"
   ]
  }
 ],
 "metadata": {
  "kernelspec": {
   "display_name": "Python 3",
   "language": "python",
   "name": "python3"
  },
  "language_info": {
   "codemirror_mode": {
    "name": "ipython",
    "version": 3
   },
   "file_extension": ".py",
   "mimetype": "text/x-python",
   "name": "python",
   "nbconvert_exporter": "python",
   "pygments_lexer": "ipython3",
   "version": "3.8.8"
  }
 },
 "nbformat": 4,
 "nbformat_minor": 5
}
